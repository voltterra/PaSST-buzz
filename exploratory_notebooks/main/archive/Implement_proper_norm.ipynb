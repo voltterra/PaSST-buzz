{
 "cells": [
  {
   "cell_type": "code",
   "execution_count": 5,
   "id": "26601f00-b1cf-4f3d-9ccc-0fe95e1a7683",
   "metadata": {},
   "outputs": [
    {
     "name": "stdout",
     "output_type": "stream",
     "text": [
      "Collecting pydub\n",
      "  Downloading pydub-0.25.1-py2.py3-none-any.whl (32 kB)\n",
      "Installing collected packages: pydub\n",
      "Successfully installed pydub-0.25.1\n",
      "\u001b[33mWARNING: Running pip as the 'root' user can result in broken permissions and conflicting behaviour with the system package manager. It is recommended to use a virtual environment instead: https://pip.pypa.io/warnings/venv\u001b[0m\u001b[33m\n",
      "\u001b[0mNote: you may need to restart the kernel to use updated packages.\n"
     ]
    }
   ],
   "source": [
    "%pip install pydub"
   ]
  },
  {
   "cell_type": "code",
   "execution_count": null,
   "id": "74c9b819-e4a7-4044-9a73-367c4911478e",
   "metadata": {
    "tags": []
   },
   "outputs": [],
   "source": [
    "import os\n",
    "os._exit(00)"
   ]
  },
  {
   "cell_type": "code",
   "execution_count": 73,
   "id": "2a9f57b7-2af9-4b20-b7bb-72aa8f0190ef",
   "metadata": {
    "tags": []
   },
   "outputs": [
    {
     "ename": "SyntaxError",
     "evalue": "invalid syntax (2907836060.py, line 12)",
     "output_type": "error",
     "traceback": [
      "\u001b[0;36m  Cell \u001b[0;32mIn[73], line 12\u001b[0;36m\u001b[0m\n\u001b[0;31m    from utils.dataset_preprocessing\u001b[0m\n\u001b[0m                                    ^\u001b[0m\n\u001b[0;31mSyntaxError\u001b[0m\u001b[0;31m:\u001b[0m invalid syntax\n"
     ]
    }
   ],
   "source": [
    "import os\n",
    "\n",
    "import librosa\n",
    "import pydub\n",
    "import audioop\n",
    "\n",
    "import torch\n",
    "import torchaudio\n",
    "\n",
    "import numpy as np\n",
    "\n",
    "from utils.dataset_preprocessing import "
   ]
  },
  {
   "cell_type": "code",
   "execution_count": 2,
   "id": "33954ff0-9e10-4bd4-ace8-ba30bc1a4fd3",
   "metadata": {
    "tags": []
   },
   "outputs": [],
   "source": [
    "project_dir = os.path.abspath(os.path.join(os.getcwd(), '../../'))\n",
    "data_processed_dir = os.path.join(project_dir, 'gdsc_data/data_processed/')\n",
    "data_source_dir = os.path.join(project_dir, 'gdsc_data/data_source/')\n",
    "\n",
    "DATA_TAG = \"data_8c86715\""
   ]
  },
  {
   "cell_type": "code",
   "execution_count": 3,
   "id": "ddfbf46b-3cf9-409e-908e-09c83e4b01a6",
   "metadata": {
    "tags": []
   },
   "outputs": [],
   "source": [
    "#final_dataset_path = find_final_dataset_path(data_processed_dir, DATA_TAG)\n",
    "final_dataset_path_augmented = os.path.join(data_processed_dir, DATA_TAG, '01_apply_ir_function')\n",
    "final_dataset_val_as_train_path_augmented = os.path.join(data_processed_dir, DATA_TAG, '03_apply_ir_function_on_validation')\n",
    "\n",
    "final_dataset_path = os.path.join(data_processed_dir, DATA_TAG, '04_split_original_into_windows')\n",
    "final_dataset_val_as_train_path = os.path.join(data_processed_dir, DATA_TAG, '05_split_resampled_validation_into_windows/')"
   ]
  },
  {
   "cell_type": "code",
   "execution_count": 4,
   "id": "da3a16d2-9328-4bfb-bfe4-fc5ebe04b8b9",
   "metadata": {
    "tags": []
   },
   "outputs": [],
   "source": [
    "train_dir_augmented = os.path.join(final_dataset_path_augmented, 'train/')\n",
    "val_as_train_dir_augmented = os.path.join(final_dataset_val_as_train_path_augmented, 'train/')\n",
    "\n",
    "train_dir = os.path.join(final_dataset_path, 'train/')\n",
    "val_as_train_dir = os.path.join(final_dataset_val_as_train_path, 'train/')\n",
    "\n",
    "val_dir = os.path.join(final_dataset_val_as_train_path, 'val/')"
   ]
  },
  {
   "cell_type": "code",
   "execution_count": 5,
   "id": "52e94773-2510-4ed1-80ef-e5f838851a2d",
   "metadata": {
    "tags": []
   },
   "outputs": [],
   "source": [
    "etalon_path = os.path.join(data_source_dir, 'train/', 'Chorthippusbiguttulus_CHOBIG_20190906_164243.M.wav')\n",
    "\n",
    "etalon_signal_torch, SR = torchaudio.load(etalon_path)\n",
    "etalon_signal_pydub = pydub.AudioSegment.from_file(etalon_path)"
   ]
  },
  {
   "cell_type": "markdown",
   "id": "c0c80ba0-f476-40c6-90c6-aafb04fed5a2",
   "metadata": {},
   "source": [
    "## Match amplitude in pydub"
   ]
  },
  {
   "cell_type": "code",
   "execution_count": 6,
   "id": "ea1c1c81-f519-42bb-8f54-23dd80e594e7",
   "metadata": {
    "tags": []
   },
   "outputs": [],
   "source": [
    "def match_target_amplitude(sound, target_dBFS):\n",
    "    change_in_dBFS = target_dBFS - sound.dBFS\n",
    "    print(sound.dBFS)\n",
    "    print(change_in_dBFS)\n",
    "    print(sound.rms)\n",
    "    return sound.apply_gain(change_in_dBFS)"
   ]
  },
  {
   "cell_type": "markdown",
   "id": "aa41035f-c632-4dcc-bdb8-0014412b7480",
   "metadata": {},
   "source": [
    "### Save\n",
    "Save to temp for comparison with original torch file"
   ]
  },
  {
   "cell_type": "code",
   "execution_count": 7,
   "id": "810def80-83a7-4115-abdf-1ea0018be27a",
   "metadata": {
    "tags": []
   },
   "outputs": [
    {
     "name": "stdout",
     "output_type": "stream",
     "text": [
      "-43.7414066304196\n",
      "23.741406630419597\n",
      "213\n"
     ]
    },
    {
     "data": {
      "text/plain": [
       "<_io.BufferedRandom name='/root/data/tmp/scaled.wav'>"
      ]
     },
     "execution_count": 7,
     "metadata": {},
     "output_type": "execute_result"
    }
   ],
   "source": [
    "match_target_amplitude(etalon_signal_pydub, -20).export('/root/data/tmp/scaled.wav', format='wav')"
   ]
  },
  {
   "cell_type": "markdown",
   "id": "77c02f4b-4a58-4e2d-ad14-66234f14989e",
   "metadata": {
    "tags": []
   },
   "source": [
    "## Load in torch, resave and scale with pydub"
   ]
  },
  {
   "cell_type": "code",
   "execution_count": 8,
   "id": "eae9aba6-a589-4cc4-b132-650a6b0dbf8e",
   "metadata": {
    "tags": []
   },
   "outputs": [],
   "source": [
    "torchaudio.save('/root/data/tmp/torch_PCM_F.wav', etalon_signal_torch, sample_rate=SR)"
   ]
  },
  {
   "cell_type": "code",
   "execution_count": 9,
   "id": "c67ea73f-2bb2-4245-be63-8fa10e9be5c0",
   "metadata": {
    "tags": []
   },
   "outputs": [
    {
     "data": {
      "text/plain": [
       "{'index': '0',\n",
       " 'codec_name': 'pcm_f32le',\n",
       " 'codec_long_name': 'PCM 32-bit floating point little-endian',\n",
       " 'profile': 'unknown',\n",
       " 'codec_type': 'audio',\n",
       " 'codec_tag_string': '[3][0][0][0]',\n",
       " 'codec_tag': '0x0003',\n",
       " 'sample_fmt': 'flt',\n",
       " 'sample_rate': '44100',\n",
       " 'channels': '1',\n",
       " 'channel_layout': 'unknown',\n",
       " 'bits_per_sample': '32',\n",
       " 'id': 'N/A',\n",
       " 'r_frame_rate': '0/0',\n",
       " 'avg_frame_rate': '0/0',\n",
       " 'time_base': '1/44100',\n",
       " 'start_pts': 'N/A',\n",
       " 'start_time': 'N/A',\n",
       " 'duration_ts': '293077',\n",
       " 'duration': '6.645737',\n",
       " 'bit_rate': '1411269',\n",
       " 'max_bit_rate': 'N/A',\n",
       " 'bits_per_raw_sample': 'N/A',\n",
       " 'nb_frames': 'N/A',\n",
       " 'nb_read_frames': 'N/A',\n",
       " 'nb_read_packets': 'N/A',\n",
       " 'DISPOSITION': {'default': '0',\n",
       "  'dub': '0',\n",
       "  'original': '0',\n",
       "  'comment': '0',\n",
       "  'lyrics': '0',\n",
       "  'karaoke': '0',\n",
       "  'forced': '0',\n",
       "  'hearing_impaired': '0',\n",
       "  'visual_impaired': '0',\n",
       "  'clean_effects': '0',\n",
       "  'attached_pic': '0',\n",
       "  'timed_thumbnails': '0',\n",
       "  'captions': '0',\n",
       "  'descriptions': '0',\n",
       "  'metadata': '0',\n",
       "  'dependent': '0',\n",
       "  'still_image': '0'},\n",
       " 'filename': '/root/data/tmp/torch_PCM_F.wav',\n",
       " 'nb_streams': '1',\n",
       " 'nb_programs': '0',\n",
       " 'format_name': 'wav',\n",
       " 'format_long_name': 'WAV / WAVE (Waveform Audio)',\n",
       " 'size': '1172366',\n",
       " 'probe_score': '99'}"
      ]
     },
     "execution_count": 9,
     "metadata": {},
     "output_type": "execute_result"
    }
   ],
   "source": [
    "pydub.utils.mediainfo('/root/data/tmp/torch_PCM_F.wav')"
   ]
  },
  {
   "cell_type": "code",
   "execution_count": null,
   "id": "c5e6aa1f-d9a2-4fc0-abd4-898afe3a3a2a",
   "metadata": {},
   "outputs": [],
   "source": [
    "etalon_signal_pydub.sample_width"
   ]
  },
  {
   "cell_type": "code",
   "execution_count": 10,
   "id": "7430d9f9-da98-4fe8-9e7e-d2d2d6d9539c",
   "metadata": {
    "tags": []
   },
   "outputs": [
    {
     "name": "stdout",
     "output_type": "stream",
     "text": [
      "-43.7194744089578\n",
      "23.7194744089578\n",
      "13994460\n"
     ]
    },
    {
     "data": {
      "text/plain": [
       "<_io.BufferedRandom name='/root/data/tmp/torch_PCM_F_pydub_set_amplitude.wav'>"
      ]
     },
     "execution_count": 10,
     "metadata": {},
     "output_type": "execute_result"
    }
   ],
   "source": [
    "torch_etalon_pydubed = pydub.AudioSegment.from_file('/root/data/tmp/torch_PCM_F.wav')\n",
    "match_target_amplitude(torch_etalon_pydubed, -20).export('/root/data/tmp/torch_PCM_F_pydub_set_amplitude.wav', format=\"wav\")"
   ]
  },
  {
   "cell_type": "code",
   "execution_count": 32,
   "id": "8d8b06cb-1cc1-4dd6-bf29-f0cf9e602a5a",
   "metadata": {
    "tags": []
   },
   "outputs": [
    {
     "data": {
      "text/plain": [
       "4"
      ]
     },
     "execution_count": 32,
     "metadata": {},
     "output_type": "execute_result"
    }
   ],
   "source": [
    "torch_etalon_pydubed.sample_width"
   ]
  },
  {
   "cell_type": "markdown",
   "id": "4112864d-6d10-4ec8-95b1-1f97c564b0b7",
   "metadata": {},
   "source": [
    "The goal is, when we load the two (converted with pydub and with our code) - they should be equal"
   ]
  },
  {
   "cell_type": "code",
   "execution_count": 2,
   "id": "47f75638-2311-4c4f-abf7-ad3b282f997d",
   "metadata": {
    "tags": []
   },
   "outputs": [
    {
     "ename": "NameError",
     "evalue": "name 'torch' is not defined",
     "output_type": "error",
     "traceback": [
      "\u001b[0;31m---------------------------------------------------------------------------\u001b[0m",
      "\u001b[0;31mNameError\u001b[0m                                 Traceback (most recent call last)",
      "Cell \u001b[0;32mIn[2], line 1\u001b[0m\n\u001b[0;32m----> 1\u001b[0m rms \u001b[38;5;241m=\u001b[39m \u001b[43mtorch\u001b[49m\u001b[38;5;241m.\u001b[39msqrt(((etarmson_signal_torch \u001b[38;5;241m*\u001b[39m\u001b[38;5;241m*\u001b[39m \u001b[38;5;241m2\u001b[39m)\u001b[38;5;241m.\u001b[39mmean(dim\u001b[38;5;241m=\u001b[39m\u001b[38;5;241m1\u001b[39m)))\n",
      "\u001b[0;31mNameError\u001b[0m: name 'torch' is not defined"
     ]
    }
   ],
   "source": [
    "rms = torch.sqrt(((etarmson_signal_torch ** 2).mean(dim=1)))"
   ]
  },
  {
   "cell_type": "code",
   "execution_count": null,
   "id": "414c0a11-3ee4-4fea-b124-d99059746ddc",
   "metadata": {},
   "outputs": [],
   "source": [
    "source_dBFS = 20 * torch.log10(rms)\n",
    "source_dBFS"
   ]
  },
  {
   "cell_type": "code",
   "execution_count": 79,
   "id": "6eda9300-a444-4991-9c14-918a49467d27",
   "metadata": {
    "tags": []
   },
   "outputs": [],
   "source": [
    "class AmplitudeScaler():\n",
    "    def __init__(self, target_dBFS=-20):\n",
    "        \"\"\"Only works with float32 torch tensors\"\"\"\n",
    "        \n",
    "        self.target_dBFS = target_dBFS         \n",
    "        \n",
    "    def __call__(self, signal):\n",
    "        # Flat tensor, \n",
    "        if len(signal.shape) == 1:\n",
    "            _dim = 0\n",
    "        elif len(signal.shape) == 2:\n",
    "        # (CH, SAMPLES)\n",
    "            _dim=1\n",
    "            \n",
    "        rms = torch.sqrt((signal**2).mean(dim=_dim))\n",
    "        \n",
    "        source_dBFS = (20 * torch.log10(rms))\n",
    "        delta_dBFS = self.target_dBFS - source_dBFS\n",
    "        \n",
    "        #gain in real values\n",
    "        gain = 10 ** (delta_dBFS / 20)\n",
    "        signal = signal * gain\n",
    "        \n",
    "        return signal"
   ]
  },
  {
   "cell_type": "code",
   "execution_count": 28,
   "id": "98c2b72b-f5c9-4964-8a6d-ae38bb68780b",
   "metadata": {
    "tags": []
   },
   "outputs": [
    {
     "data": {
      "text/plain": [
       "{'index': '0',\n",
       " 'codec_name': 'pcm_s32le',\n",
       " 'codec_long_name': 'PCM signed 32-bit little-endian',\n",
       " 'profile': 'unknown',\n",
       " 'codec_type': 'audio',\n",
       " 'codec_tag_string': '[1][0][0][0]',\n",
       " 'codec_tag': '0x0001',\n",
       " 'sample_fmt': 's32',\n",
       " 'sample_rate': '44100',\n",
       " 'channels': '1',\n",
       " 'channel_layout': 'unknown',\n",
       " 'bits_per_sample': '32',\n",
       " 'id': 'N/A',\n",
       " 'r_frame_rate': '0/0',\n",
       " 'avg_frame_rate': '0/0',\n",
       " 'time_base': '1/44100',\n",
       " 'start_pts': 'N/A',\n",
       " 'start_time': 'N/A',\n",
       " 'duration_ts': '293077',\n",
       " 'duration': '6.645737',\n",
       " 'bit_rate': '1411252',\n",
       " 'max_bit_rate': 'N/A',\n",
       " 'bits_per_raw_sample': '32',\n",
       " 'nb_frames': 'N/A',\n",
       " 'nb_read_frames': 'N/A',\n",
       " 'nb_read_packets': 'N/A',\n",
       " 'DISPOSITION': {'default': '0',\n",
       "  'dub': '0',\n",
       "  'original': '0',\n",
       "  'comment': '0',\n",
       "  'lyrics': '0',\n",
       "  'karaoke': '0',\n",
       "  'forced': '0',\n",
       "  'hearing_impaired': '0',\n",
       "  'visual_impaired': '0',\n",
       "  'clean_effects': '0',\n",
       "  'attached_pic': '0',\n",
       "  'timed_thumbnails': '0',\n",
       "  'captions': '0',\n",
       "  'descriptions': '0',\n",
       "  'metadata': '0',\n",
       "  'dependent': '0',\n",
       "  'still_image': '0'},\n",
       " 'filename': '/root/data/tmp/torch_PCM_F_pydub_set_amplitude.wav',\n",
       " 'nb_streams': '1',\n",
       " 'nb_programs': '0',\n",
       " 'format_name': 'wav',\n",
       " 'format_long_name': 'WAV / WAVE (Waveform Audio)',\n",
       " 'size': '1172352',\n",
       " 'probe_score': '99'}"
      ]
     },
     "execution_count": 28,
     "metadata": {},
     "output_type": "execute_result"
    }
   ],
   "source": [
    "pydub.utils.mediainfo('/root/data/tmp/torch_PCM_F_pydub_set_amplitude.wav')"
   ]
  },
  {
   "cell_type": "code",
   "execution_count": 63,
   "id": "40b39f67-9d36-4c47-9691-86751110f82c",
   "metadata": {
    "tags": []
   },
   "outputs": [
    {
     "data": {
      "text/plain": [
       "tensor(23.7195)"
      ]
     },
     "execution_count": 63,
     "metadata": {},
     "output_type": "execute_result"
    }
   ],
   "source": [
    "rms = torch.sqrt((etalon_signal_torch ** 2).mean())\n",
    "\n",
    "dBFS_delta = -20 - 20 * torch.log10(rms) "
   ]
  },
  {
   "cell_type": "code",
   "execution_count": 68,
   "id": "44674b03-38a3-4aa6-b5af-4b35eaf2cfd6",
   "metadata": {
    "tags": []
   },
   "outputs": [],
   "source": [
    "torchaudio.save('/root/data/tmp/torch_etalon_scaled.wav', etalon_signal_torch * 10**(23.7195/20), SR)"
   ]
  },
  {
   "cell_type": "code",
   "execution_count": 69,
   "id": "654a8992-eee3-4d7d-a994-752345f6ec6f",
   "metadata": {
    "tags": []
   },
   "outputs": [],
   "source": [
    "etalon_scaled1 = torchaudio.load('/root/data/tmp/torch_etalon_scaled.wav')[0]\n",
    "etalon_scaled2 = torchaudio.load('/root/data/tmp/torch_PCM_F_pydub_set_amplitude.wav')[0]"
   ]
  },
  {
   "cell_type": "code",
   "execution_count": 76,
   "id": "a72d8da6-37be-485a-a254-e9f3d22bbead",
   "metadata": {
    "tags": []
   },
   "outputs": [
    {
     "data": {
      "text/plain": [
       "tensor([[-0.0576, -0.1072, -0.0955,  ..., -0.1021, -0.0951, -0.1063]])"
      ]
     },
     "execution_count": 76,
     "metadata": {},
     "output_type": "execute_result"
    }
   ],
   "source": [
    "etalon_scaled1"
   ]
  },
  {
   "cell_type": "code",
   "execution_count": 83,
   "id": "fd7d20ef-caad-4a15-b474-fac18363f2f4",
   "metadata": {
    "tags": []
   },
   "outputs": [
    {
     "data": {
      "text/plain": [
       "tensor([[ 0.0000e+00,  0.0000e+00,  7.4506e-09,  ..., -3.7253e-08,\n",
       "         -7.4506e-09, -2.9802e-08]])"
      ]
     },
     "execution_count": 83,
     "metadata": {},
     "output_type": "execute_result"
    }
   ],
   "source": [
    "AmplitudeScaler()(etalon_signal_torch) - etalon_scaled2"
   ]
  },
  {
   "cell_type": "code",
   "execution_count": 72,
   "id": "03623b58-a806-4023-b312-6cfa5d3122bb",
   "metadata": {
    "tags": []
   },
   "outputs": [
    {
     "data": {
      "text/plain": [
       "tensor([[-0.0576, -0.1072, -0.0955,  ..., -0.1021, -0.0951, -0.1063]])"
      ]
     },
     "execution_count": 72,
     "metadata": {},
     "output_type": "execute_result"
    }
   ],
   "source": [
    " etalon_scaled2"
   ]
  }
 ],
 "metadata": {
  "availableInstances": [
   {
    "_defaultOrder": 0,
    "_isFastLaunch": true,
    "category": "General purpose",
    "gpuNum": 0,
    "hideHardwareSpecs": false,
    "memoryGiB": 4,
    "name": "ml.t3.medium",
    "vcpuNum": 2
   },
   {
    "_defaultOrder": 1,
    "_isFastLaunch": false,
    "category": "General purpose",
    "gpuNum": 0,
    "hideHardwareSpecs": false,
    "memoryGiB": 8,
    "name": "ml.t3.large",
    "vcpuNum": 2
   },
   {
    "_defaultOrder": 2,
    "_isFastLaunch": false,
    "category": "General purpose",
    "gpuNum": 0,
    "hideHardwareSpecs": false,
    "memoryGiB": 16,
    "name": "ml.t3.xlarge",
    "vcpuNum": 4
   },
   {
    "_defaultOrder": 3,
    "_isFastLaunch": false,
    "category": "General purpose",
    "gpuNum": 0,
    "hideHardwareSpecs": false,
    "memoryGiB": 32,
    "name": "ml.t3.2xlarge",
    "vcpuNum": 8
   },
   {
    "_defaultOrder": 4,
    "_isFastLaunch": true,
    "category": "General purpose",
    "gpuNum": 0,
    "hideHardwareSpecs": false,
    "memoryGiB": 8,
    "name": "ml.m5.large",
    "vcpuNum": 2
   },
   {
    "_defaultOrder": 5,
    "_isFastLaunch": false,
    "category": "General purpose",
    "gpuNum": 0,
    "hideHardwareSpecs": false,
    "memoryGiB": 16,
    "name": "ml.m5.xlarge",
    "vcpuNum": 4
   },
   {
    "_defaultOrder": 6,
    "_isFastLaunch": false,
    "category": "General purpose",
    "gpuNum": 0,
    "hideHardwareSpecs": false,
    "memoryGiB": 32,
    "name": "ml.m5.2xlarge",
    "vcpuNum": 8
   },
   {
    "_defaultOrder": 7,
    "_isFastLaunch": false,
    "category": "General purpose",
    "gpuNum": 0,
    "hideHardwareSpecs": false,
    "memoryGiB": 64,
    "name": "ml.m5.4xlarge",
    "vcpuNum": 16
   },
   {
    "_defaultOrder": 8,
    "_isFastLaunch": false,
    "category": "General purpose",
    "gpuNum": 0,
    "hideHardwareSpecs": false,
    "memoryGiB": 128,
    "name": "ml.m5.8xlarge",
    "vcpuNum": 32
   },
   {
    "_defaultOrder": 9,
    "_isFastLaunch": false,
    "category": "General purpose",
    "gpuNum": 0,
    "hideHardwareSpecs": false,
    "memoryGiB": 192,
    "name": "ml.m5.12xlarge",
    "vcpuNum": 48
   },
   {
    "_defaultOrder": 10,
    "_isFastLaunch": false,
    "category": "General purpose",
    "gpuNum": 0,
    "hideHardwareSpecs": false,
    "memoryGiB": 256,
    "name": "ml.m5.16xlarge",
    "vcpuNum": 64
   },
   {
    "_defaultOrder": 11,
    "_isFastLaunch": false,
    "category": "General purpose",
    "gpuNum": 0,
    "hideHardwareSpecs": false,
    "memoryGiB": 384,
    "name": "ml.m5.24xlarge",
    "vcpuNum": 96
   },
   {
    "_defaultOrder": 12,
    "_isFastLaunch": false,
    "category": "General purpose",
    "gpuNum": 0,
    "hideHardwareSpecs": false,
    "memoryGiB": 8,
    "name": "ml.m5d.large",
    "vcpuNum": 2
   },
   {
    "_defaultOrder": 13,
    "_isFastLaunch": false,
    "category": "General purpose",
    "gpuNum": 0,
    "hideHardwareSpecs": false,
    "memoryGiB": 16,
    "name": "ml.m5d.xlarge",
    "vcpuNum": 4
   },
   {
    "_defaultOrder": 14,
    "_isFastLaunch": false,
    "category": "General purpose",
    "gpuNum": 0,
    "hideHardwareSpecs": false,
    "memoryGiB": 32,
    "name": "ml.m5d.2xlarge",
    "vcpuNum": 8
   },
   {
    "_defaultOrder": 15,
    "_isFastLaunch": false,
    "category": "General purpose",
    "gpuNum": 0,
    "hideHardwareSpecs": false,
    "memoryGiB": 64,
    "name": "ml.m5d.4xlarge",
    "vcpuNum": 16
   },
   {
    "_defaultOrder": 16,
    "_isFastLaunch": false,
    "category": "General purpose",
    "gpuNum": 0,
    "hideHardwareSpecs": false,
    "memoryGiB": 128,
    "name": "ml.m5d.8xlarge",
    "vcpuNum": 32
   },
   {
    "_defaultOrder": 17,
    "_isFastLaunch": false,
    "category": "General purpose",
    "gpuNum": 0,
    "hideHardwareSpecs": false,
    "memoryGiB": 192,
    "name": "ml.m5d.12xlarge",
    "vcpuNum": 48
   },
   {
    "_defaultOrder": 18,
    "_isFastLaunch": false,
    "category": "General purpose",
    "gpuNum": 0,
    "hideHardwareSpecs": false,
    "memoryGiB": 256,
    "name": "ml.m5d.16xlarge",
    "vcpuNum": 64
   },
   {
    "_defaultOrder": 19,
    "_isFastLaunch": false,
    "category": "General purpose",
    "gpuNum": 0,
    "hideHardwareSpecs": false,
    "memoryGiB": 384,
    "name": "ml.m5d.24xlarge",
    "vcpuNum": 96
   },
   {
    "_defaultOrder": 20,
    "_isFastLaunch": false,
    "category": "General purpose",
    "gpuNum": 0,
    "hideHardwareSpecs": true,
    "memoryGiB": 0,
    "name": "ml.geospatial.interactive",
    "supportedImageNames": [
     "sagemaker-geospatial-v1-0"
    ],
    "vcpuNum": 0
   },
   {
    "_defaultOrder": 21,
    "_isFastLaunch": true,
    "category": "Compute optimized",
    "gpuNum": 0,
    "hideHardwareSpecs": false,
    "memoryGiB": 4,
    "name": "ml.c5.large",
    "vcpuNum": 2
   },
   {
    "_defaultOrder": 22,
    "_isFastLaunch": false,
    "category": "Compute optimized",
    "gpuNum": 0,
    "hideHardwareSpecs": false,
    "memoryGiB": 8,
    "name": "ml.c5.xlarge",
    "vcpuNum": 4
   },
   {
    "_defaultOrder": 23,
    "_isFastLaunch": false,
    "category": "Compute optimized",
    "gpuNum": 0,
    "hideHardwareSpecs": false,
    "memoryGiB": 16,
    "name": "ml.c5.2xlarge",
    "vcpuNum": 8
   },
   {
    "_defaultOrder": 24,
    "_isFastLaunch": false,
    "category": "Compute optimized",
    "gpuNum": 0,
    "hideHardwareSpecs": false,
    "memoryGiB": 32,
    "name": "ml.c5.4xlarge",
    "vcpuNum": 16
   },
   {
    "_defaultOrder": 25,
    "_isFastLaunch": false,
    "category": "Compute optimized",
    "gpuNum": 0,
    "hideHardwareSpecs": false,
    "memoryGiB": 72,
    "name": "ml.c5.9xlarge",
    "vcpuNum": 36
   },
   {
    "_defaultOrder": 26,
    "_isFastLaunch": false,
    "category": "Compute optimized",
    "gpuNum": 0,
    "hideHardwareSpecs": false,
    "memoryGiB": 96,
    "name": "ml.c5.12xlarge",
    "vcpuNum": 48
   },
   {
    "_defaultOrder": 27,
    "_isFastLaunch": false,
    "category": "Compute optimized",
    "gpuNum": 0,
    "hideHardwareSpecs": false,
    "memoryGiB": 144,
    "name": "ml.c5.18xlarge",
    "vcpuNum": 72
   },
   {
    "_defaultOrder": 28,
    "_isFastLaunch": false,
    "category": "Compute optimized",
    "gpuNum": 0,
    "hideHardwareSpecs": false,
    "memoryGiB": 192,
    "name": "ml.c5.24xlarge",
    "vcpuNum": 96
   },
   {
    "_defaultOrder": 29,
    "_isFastLaunch": true,
    "category": "Accelerated computing",
    "gpuNum": 1,
    "hideHardwareSpecs": false,
    "memoryGiB": 16,
    "name": "ml.g4dn.xlarge",
    "vcpuNum": 4
   },
   {
    "_defaultOrder": 30,
    "_isFastLaunch": false,
    "category": "Accelerated computing",
    "gpuNum": 1,
    "hideHardwareSpecs": false,
    "memoryGiB": 32,
    "name": "ml.g4dn.2xlarge",
    "vcpuNum": 8
   },
   {
    "_defaultOrder": 31,
    "_isFastLaunch": false,
    "category": "Accelerated computing",
    "gpuNum": 1,
    "hideHardwareSpecs": false,
    "memoryGiB": 64,
    "name": "ml.g4dn.4xlarge",
    "vcpuNum": 16
   },
   {
    "_defaultOrder": 32,
    "_isFastLaunch": false,
    "category": "Accelerated computing",
    "gpuNum": 1,
    "hideHardwareSpecs": false,
    "memoryGiB": 128,
    "name": "ml.g4dn.8xlarge",
    "vcpuNum": 32
   },
   {
    "_defaultOrder": 33,
    "_isFastLaunch": false,
    "category": "Accelerated computing",
    "gpuNum": 4,
    "hideHardwareSpecs": false,
    "memoryGiB": 192,
    "name": "ml.g4dn.12xlarge",
    "vcpuNum": 48
   },
   {
    "_defaultOrder": 34,
    "_isFastLaunch": false,
    "category": "Accelerated computing",
    "gpuNum": 1,
    "hideHardwareSpecs": false,
    "memoryGiB": 256,
    "name": "ml.g4dn.16xlarge",
    "vcpuNum": 64
   },
   {
    "_defaultOrder": 35,
    "_isFastLaunch": false,
    "category": "Accelerated computing",
    "gpuNum": 1,
    "hideHardwareSpecs": false,
    "memoryGiB": 61,
    "name": "ml.p3.2xlarge",
    "vcpuNum": 8
   },
   {
    "_defaultOrder": 36,
    "_isFastLaunch": false,
    "category": "Accelerated computing",
    "gpuNum": 4,
    "hideHardwareSpecs": false,
    "memoryGiB": 244,
    "name": "ml.p3.8xlarge",
    "vcpuNum": 32
   },
   {
    "_defaultOrder": 37,
    "_isFastLaunch": false,
    "category": "Accelerated computing",
    "gpuNum": 8,
    "hideHardwareSpecs": false,
    "memoryGiB": 488,
    "name": "ml.p3.16xlarge",
    "vcpuNum": 64
   },
   {
    "_defaultOrder": 38,
    "_isFastLaunch": false,
    "category": "Accelerated computing",
    "gpuNum": 8,
    "hideHardwareSpecs": false,
    "memoryGiB": 768,
    "name": "ml.p3dn.24xlarge",
    "vcpuNum": 96
   },
   {
    "_defaultOrder": 39,
    "_isFastLaunch": false,
    "category": "Memory Optimized",
    "gpuNum": 0,
    "hideHardwareSpecs": false,
    "memoryGiB": 16,
    "name": "ml.r5.large",
    "vcpuNum": 2
   },
   {
    "_defaultOrder": 40,
    "_isFastLaunch": false,
    "category": "Memory Optimized",
    "gpuNum": 0,
    "hideHardwareSpecs": false,
    "memoryGiB": 32,
    "name": "ml.r5.xlarge",
    "vcpuNum": 4
   },
   {
    "_defaultOrder": 41,
    "_isFastLaunch": false,
    "category": "Memory Optimized",
    "gpuNum": 0,
    "hideHardwareSpecs": false,
    "memoryGiB": 64,
    "name": "ml.r5.2xlarge",
    "vcpuNum": 8
   },
   {
    "_defaultOrder": 42,
    "_isFastLaunch": false,
    "category": "Memory Optimized",
    "gpuNum": 0,
    "hideHardwareSpecs": false,
    "memoryGiB": 128,
    "name": "ml.r5.4xlarge",
    "vcpuNum": 16
   },
   {
    "_defaultOrder": 43,
    "_isFastLaunch": false,
    "category": "Memory Optimized",
    "gpuNum": 0,
    "hideHardwareSpecs": false,
    "memoryGiB": 256,
    "name": "ml.r5.8xlarge",
    "vcpuNum": 32
   },
   {
    "_defaultOrder": 44,
    "_isFastLaunch": false,
    "category": "Memory Optimized",
    "gpuNum": 0,
    "hideHardwareSpecs": false,
    "memoryGiB": 384,
    "name": "ml.r5.12xlarge",
    "vcpuNum": 48
   },
   {
    "_defaultOrder": 45,
    "_isFastLaunch": false,
    "category": "Memory Optimized",
    "gpuNum": 0,
    "hideHardwareSpecs": false,
    "memoryGiB": 512,
    "name": "ml.r5.16xlarge",
    "vcpuNum": 64
   },
   {
    "_defaultOrder": 46,
    "_isFastLaunch": false,
    "category": "Memory Optimized",
    "gpuNum": 0,
    "hideHardwareSpecs": false,
    "memoryGiB": 768,
    "name": "ml.r5.24xlarge",
    "vcpuNum": 96
   },
   {
    "_defaultOrder": 47,
    "_isFastLaunch": false,
    "category": "Accelerated computing",
    "gpuNum": 1,
    "hideHardwareSpecs": false,
    "memoryGiB": 16,
    "name": "ml.g5.xlarge",
    "vcpuNum": 4
   },
   {
    "_defaultOrder": 48,
    "_isFastLaunch": false,
    "category": "Accelerated computing",
    "gpuNum": 1,
    "hideHardwareSpecs": false,
    "memoryGiB": 32,
    "name": "ml.g5.2xlarge",
    "vcpuNum": 8
   },
   {
    "_defaultOrder": 49,
    "_isFastLaunch": false,
    "category": "Accelerated computing",
    "gpuNum": 1,
    "hideHardwareSpecs": false,
    "memoryGiB": 64,
    "name": "ml.g5.4xlarge",
    "vcpuNum": 16
   },
   {
    "_defaultOrder": 50,
    "_isFastLaunch": false,
    "category": "Accelerated computing",
    "gpuNum": 1,
    "hideHardwareSpecs": false,
    "memoryGiB": 128,
    "name": "ml.g5.8xlarge",
    "vcpuNum": 32
   },
   {
    "_defaultOrder": 51,
    "_isFastLaunch": false,
    "category": "Accelerated computing",
    "gpuNum": 1,
    "hideHardwareSpecs": false,
    "memoryGiB": 256,
    "name": "ml.g5.16xlarge",
    "vcpuNum": 64
   },
   {
    "_defaultOrder": 52,
    "_isFastLaunch": false,
    "category": "Accelerated computing",
    "gpuNum": 4,
    "hideHardwareSpecs": false,
    "memoryGiB": 192,
    "name": "ml.g5.12xlarge",
    "vcpuNum": 48
   },
   {
    "_defaultOrder": 53,
    "_isFastLaunch": false,
    "category": "Accelerated computing",
    "gpuNum": 4,
    "hideHardwareSpecs": false,
    "memoryGiB": 384,
    "name": "ml.g5.24xlarge",
    "vcpuNum": 96
   },
   {
    "_defaultOrder": 54,
    "_isFastLaunch": false,
    "category": "Accelerated computing",
    "gpuNum": 8,
    "hideHardwareSpecs": false,
    "memoryGiB": 768,
    "name": "ml.g5.48xlarge",
    "vcpuNum": 192
   },
   {
    "_defaultOrder": 55,
    "_isFastLaunch": false,
    "category": "Accelerated computing",
    "gpuNum": 8,
    "hideHardwareSpecs": false,
    "memoryGiB": 1152,
    "name": "ml.p4d.24xlarge",
    "vcpuNum": 96
   },
   {
    "_defaultOrder": 56,
    "_isFastLaunch": false,
    "category": "Accelerated computing",
    "gpuNum": 8,
    "hideHardwareSpecs": false,
    "memoryGiB": 1152,
    "name": "ml.p4de.24xlarge",
    "vcpuNum": 96
   }
  ],
  "instance_type": "ml.t3.medium",
  "kernelspec": {
   "display_name": "GDSC (custom-gdsc/1)",
   "language": "python",
   "name": "python3__SAGEMAKER_INTERNAL__arn:aws:sagemaker:us-east-1:992955421961:image-version/custom-gdsc/1"
  },
  "language_info": {
   "codemirror_mode": {
    "name": "ipython",
    "version": 3
   },
   "file_extension": ".py",
   "mimetype": "text/x-python",
   "name": "python",
   "nbconvert_exporter": "python",
   "pygments_lexer": "ipython3",
   "version": "3.10.8"
  },
  "lcc_arn": "arn:aws:sagemaker:us-east-1:992955421961:studio-lifecycle-config/clean-trash"
 },
 "nbformat": 4,
 "nbformat_minor": 5
}
