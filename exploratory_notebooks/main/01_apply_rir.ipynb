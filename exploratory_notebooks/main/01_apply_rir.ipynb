{
 "cells": [
  {
   "cell_type": "markdown",
   "id": "bce44949-9e32-49f1-88be-c4e7b3d277ec",
   "metadata": {},
   "source": [
    "# Descripiton"
   ]
  },
  {
   "cell_type": "markdown",
   "id": "b7398091-db08-4909-9380-841eb2d5dabd",
   "metadata": {},
   "source": [
    "## Setup"
   ]
  },
  {
   "cell_type": "code",
   "execution_count": 2,
   "id": "d72355ac-4158-4bcf-9132-c17e65050816",
   "metadata": {
    "tags": []
   },
   "outputs": [
    {
     "name": "stdout",
     "output_type": "stream",
     "text": [
      "Collecting torch==2.0.*\n",
      "  Downloading torch-2.0.1-cp310-cp310-manylinux1_x86_64.whl (619.9 MB)\n",
      "\u001b[2K     \u001b[90m━━━━━━━━━━━━━━━━━━━━━━━━━━━━━━━━━━━━━━━\u001b[0m \u001b[32m619.9/619.9 MB\u001b[0m \u001b[31m1.8 MB/s\u001b[0m eta \u001b[36m0:00:00\u001b[0m00:01\u001b[0m00:01\u001b[0m\n",
      "\u001b[?25hRequirement already satisfied: torchaudio in /opt/conda/lib/python3.10/site-packages (0.13.1)\n",
      "Requirement already satisfied: filelock in /opt/conda/lib/python3.10/site-packages (from torch==2.0.*) (3.12.0)\n",
      "Requirement already satisfied: typing-extensions in /opt/conda/lib/python3.10/site-packages (from torch==2.0.*) (4.5.0)\n",
      "Requirement already satisfied: sympy in /opt/conda/lib/python3.10/site-packages (from torch==2.0.*) (1.11.1)\n",
      "Requirement already satisfied: networkx in /opt/conda/lib/python3.10/site-packages (from torch==2.0.*) (3.1)\n",
      "Requirement already satisfied: jinja2 in /opt/conda/lib/python3.10/site-packages (from torch==2.0.*) (3.1.2)\n",
      "Requirement already satisfied: nvidia-cuda-nvrtc-cu11==11.7.99 in /opt/conda/lib/python3.10/site-packages (from torch==2.0.*) (11.7.99)\n",
      "Requirement already satisfied: nvidia-cuda-runtime-cu11==11.7.99 in /opt/conda/lib/python3.10/site-packages (from torch==2.0.*) (11.7.99)\n",
      "Collecting nvidia-cuda-cupti-cu11==11.7.101 (from torch==2.0.*)\n",
      "  Downloading nvidia_cuda_cupti_cu11-11.7.101-py3-none-manylinux1_x86_64.whl (11.8 MB)\n",
      "\u001b[2K     \u001b[90m━━━━━━━━━━━━━━━━━━━━━━━━━━━━━━━━━━━━━━━━\u001b[0m \u001b[32m11.8/11.8 MB\u001b[0m \u001b[31m27.9 MB/s\u001b[0m eta \u001b[36m0:00:00\u001b[0m00:01\u001b[0m0:01\u001b[0m\n",
      "\u001b[?25hRequirement already satisfied: nvidia-cudnn-cu11==8.5.0.96 in /opt/conda/lib/python3.10/site-packages (from torch==2.0.*) (8.5.0.96)\n",
      "Requirement already satisfied: nvidia-cublas-cu11==11.10.3.66 in /opt/conda/lib/python3.10/site-packages (from torch==2.0.*) (11.10.3.66)\n",
      "Collecting nvidia-cufft-cu11==10.9.0.58 (from torch==2.0.*)\n",
      "  Downloading nvidia_cufft_cu11-10.9.0.58-py3-none-manylinux1_x86_64.whl (168.4 MB)\n",
      "\u001b[2K     \u001b[90m━━━━━━━━━━━━━━━━━━━━━━━━━━━━━━━━━━━━━━━\u001b[0m \u001b[32m168.4/168.4 MB\u001b[0m \u001b[31m9.5 MB/s\u001b[0m eta \u001b[36m0:00:00\u001b[0m00:01\u001b[0m00:01\u001b[0m\n",
      "\u001b[?25hCollecting nvidia-curand-cu11==10.2.10.91 (from torch==2.0.*)\n",
      "  Downloading nvidia_curand_cu11-10.2.10.91-py3-none-manylinux1_x86_64.whl (54.6 MB)\n",
      "\u001b[2K     \u001b[90m━━━━━━━━━━━━━━━━━━━━━━━━━━━━━━━━━━━━━━━━\u001b[0m \u001b[32m54.6/54.6 MB\u001b[0m \u001b[31m21.6 MB/s\u001b[0m eta \u001b[36m0:00:00\u001b[0m00:01\u001b[0m00:01\u001b[0m\n",
      "\u001b[?25hCollecting nvidia-cusolver-cu11==11.4.0.1 (from torch==2.0.*)\n",
      "  Downloading nvidia_cusolver_cu11-11.4.0.1-2-py3-none-manylinux1_x86_64.whl (102.6 MB)\n",
      "\u001b[2K     \u001b[90m━━━━━━━━━━━━━━━━━━━━━━━━━━━━━━━━━━━━━━\u001b[0m \u001b[32m102.6/102.6 MB\u001b[0m \u001b[31m14.6 MB/s\u001b[0m eta \u001b[36m0:00:00\u001b[0m00:01\u001b[0m00:01\u001b[0m\n",
      "\u001b[?25hCollecting nvidia-cusparse-cu11==11.7.4.91 (from torch==2.0.*)\n",
      "  Downloading nvidia_cusparse_cu11-11.7.4.91-py3-none-manylinux1_x86_64.whl (173.2 MB)\n",
      "\u001b[2K     \u001b[90m━━━━━━━━━━━━━━━━━━━━━━━━━━━━━━━━━━━━━━\u001b[0m \u001b[32m173.2/173.2 MB\u001b[0m \u001b[31m11.2 MB/s\u001b[0m eta \u001b[36m0:00:00\u001b[0m00:01\u001b[0m00:01\u001b[0m\n",
      "\u001b[?25hCollecting nvidia-nccl-cu11==2.14.3 (from torch==2.0.*)\n",
      "  Downloading nvidia_nccl_cu11-2.14.3-py3-none-manylinux1_x86_64.whl (177.1 MB)\n",
      "\u001b[2K     \u001b[90m━━━━━━━━━━━━━━━━━━━━━━━━━━━━━━━━━━━━━━\u001b[0m \u001b[32m177.1/177.1 MB\u001b[0m \u001b[31m11.8 MB/s\u001b[0m eta \u001b[36m0:00:00\u001b[0m00:01\u001b[0m00:01\u001b[0m\n",
      "\u001b[?25hCollecting nvidia-nvtx-cu11==11.7.91 (from torch==2.0.*)\n",
      "  Downloading nvidia_nvtx_cu11-11.7.91-py3-none-manylinux1_x86_64.whl (98 kB)\n",
      "\u001b[2K     \u001b[90m━━━━━━━━━━━━━━━━━━━━━━━━━━━━━━━━━━━━━━━━\u001b[0m \u001b[32m98.6/98.6 kB\u001b[0m \u001b[31m18.2 MB/s\u001b[0m eta \u001b[36m0:00:00\u001b[0m\n",
      "\u001b[?25hCollecting triton==2.0.0 (from torch==2.0.*)\n",
      "  Downloading triton-2.0.0-1-cp310-cp310-manylinux2014_x86_64.manylinux_2_17_x86_64.whl (63.3 MB)\n",
      "\u001b[2K     \u001b[90m━━━━━━━━━━━━━━━━━━━━━━━━━━━━━━━━━━━━━━━━\u001b[0m \u001b[32m63.3/63.3 MB\u001b[0m \u001b[31m26.0 MB/s\u001b[0m eta \u001b[36m0:00:00\u001b[0m00:01\u001b[0m00:01\u001b[0m\n",
      "\u001b[?25hRequirement already satisfied: setuptools in /opt/conda/lib/python3.10/site-packages (from nvidia-cublas-cu11==11.10.3.66->torch==2.0.*) (65.6.3)\n",
      "Requirement already satisfied: wheel in /opt/conda/lib/python3.10/site-packages (from nvidia-cublas-cu11==11.10.3.66->torch==2.0.*) (0.38.4)\n",
      "Collecting cmake (from triton==2.0.0->torch==2.0.*)\n",
      "  Downloading cmake-3.26.4-py2.py3-none-manylinux2014_x86_64.manylinux_2_17_x86_64.whl (24.0 MB)\n",
      "\u001b[2K     \u001b[90m━━━━━━━━━━━━━━━━━━━━━━━━━━━━━━━━━━━━━━━━\u001b[0m \u001b[32m24.0/24.0 MB\u001b[0m \u001b[31m49.2 MB/s\u001b[0m eta \u001b[36m0:00:00\u001b[0m00:01\u001b[0m00:01\u001b[0m\n",
      "\u001b[?25hCollecting lit (from triton==2.0.0->torch==2.0.*)\n",
      "  Downloading lit-16.0.6.tar.gz (153 kB)\n",
      "\u001b[2K     \u001b[90m━━━━━━━━━━━━━━━━━━━━━━━━━━━━━━━━━━━━━━\u001b[0m \u001b[32m153.7/153.7 kB\u001b[0m \u001b[31m19.7 MB/s\u001b[0m eta \u001b[36m0:00:00\u001b[0m\n",
      "\u001b[?25h  Installing build dependencies ... \u001b[?25ldone\n",
      "\u001b[?25h  Getting requirements to build wheel ... \u001b[?25ldone\n",
      "\u001b[?25h  Installing backend dependencies ... \u001b[?25ldone\n",
      "\u001b[?25h  Preparing metadata (pyproject.toml) ... \u001b[?25ldone\n",
      "\u001b[?25hINFO: pip is looking at multiple versions of torchaudio to determine which version is compatible with other requirements. This could take a while.\n",
      "Collecting torchaudio\n",
      "  Downloading torchaudio-2.0.2-cp310-cp310-manylinux1_x86_64.whl (4.4 MB)\n",
      "\u001b[2K     \u001b[90m━━━━━━━━━━━━━━━━━━━━━━━━━━━━━━━━━━━━━━━━\u001b[0m \u001b[32m4.4/4.4 MB\u001b[0m \u001b[31m56.8 MB/s\u001b[0m eta \u001b[36m0:00:00\u001b[0m:00:01\u001b[0m00:01\u001b[0m\n",
      "\u001b[?25hRequirement already satisfied: MarkupSafe>=2.0 in /opt/conda/lib/python3.10/site-packages (from jinja2->torch==2.0.*) (2.1.2)\n",
      "Requirement already satisfied: mpmath>=0.19 in /opt/conda/lib/python3.10/site-packages (from sympy->torch==2.0.*) (1.3.0)\n",
      "Building wheels for collected packages: lit\n",
      "  Building wheel for lit (pyproject.toml) ... \u001b[?25ldone\n",
      "\u001b[?25h  Created wheel for lit: filename=lit-16.0.6-py3-none-any.whl size=93582 sha256=d9b66b02e53c0fd3019f9a312aa0dfb5477923823b59ec727d95b967c1fed561\n",
      "  Stored in directory: /root/.cache/pip/wheels/14/f9/07/bb2308587bc2f57158f905a2325f6a89a2befa7437b2d7e137\n",
      "Successfully built lit\n",
      "Installing collected packages: lit, cmake, nvidia-nvtx-cu11, nvidia-nccl-cu11, nvidia-cusparse-cu11, nvidia-curand-cu11, nvidia-cufft-cu11, nvidia-cuda-cupti-cu11, nvidia-cusolver-cu11, triton, torch, torchaudio\n",
      "  Attempting uninstall: torch\n",
      "    Found existing installation: torch 1.13.1\n",
      "    Uninstalling torch-1.13.1:\n",
      "      Successfully uninstalled torch-1.13.1\n",
      "  Attempting uninstall: torchaudio\n",
      "    Found existing installation: torchaudio 0.13.1\n",
      "    Uninstalling torchaudio-0.13.1:\n",
      "      Successfully uninstalled torchaudio-0.13.1\n",
      "Successfully installed cmake-3.26.4 lit-16.0.6 nvidia-cuda-cupti-cu11-11.7.101 nvidia-cufft-cu11-10.9.0.58 nvidia-curand-cu11-10.2.10.91 nvidia-cusolver-cu11-11.4.0.1 nvidia-cusparse-cu11-11.7.4.91 nvidia-nccl-cu11-2.14.3 nvidia-nvtx-cu11-11.7.91 torch-2.0.1 torchaudio-2.0.2 triton-2.0.0\n",
      "\u001b[33mWARNING: Running pip as the 'root' user can result in broken permissions and conflicting behaviour with the system package manager. It is recommended to use a virtual environment instead: https://pip.pypa.io/warnings/venv\u001b[0m\u001b[33m\n",
      "\u001b[0mNote: you may need to restart the kernel to use updated packages.\n"
     ]
    }
   ],
   "source": [
    "# Need newer torch to use all augmentation functions\n",
    "%pip install torch==2.0.* torchaudio"
   ]
  },
  {
   "cell_type": "markdown",
   "id": "ed18d91c-dd96-40bf-860c-00ba65db6b5c",
   "metadata": {},
   "source": [
    "## Reload to get installed packages"
   ]
  },
  {
   "cell_type": "code",
   "execution_count": null,
   "id": "93e275e0-24ab-4570-a078-88286d9ceb98",
   "metadata": {
    "tags": []
   },
   "outputs": [],
   "source": [
    "import os\n",
    "os._exit(00)"
   ]
  },
  {
   "cell_type": "markdown",
   "id": "41fc8c14-5863-47b6-a8a2-3ebb8b656b59",
   "metadata": {},
   "source": [
    "## Imports"
   ]
  },
  {
   "cell_type": "code",
   "execution_count": 1,
   "id": "ad5dca73-083d-4318-8411-ffde5c5422ba",
   "metadata": {
    "tags": []
   },
   "outputs": [],
   "source": [
    "import glob\n",
    "import os\n",
    "import multiprocessing\n",
    "import random\n",
    "\n",
    "from itertools import repeat, product\n",
    "\n",
    "from collections import namedtuple\n",
    "from csv import writer\n",
    "\n",
    "import torch\n",
    "import torchaudio\n",
    "import pandas as pd\n",
    "import tqdm\n",
    "\n",
    "import tqdm.contrib.itertools as tqdm_itertools\n",
    "from IPython.display import Audio\n",
    "from datasets import Audio as DSAudio, load_dataset\n",
    "\n",
    "tqdm_chain = tqdm_itertools.itertools.chain"
   ]
  },
  {
   "cell_type": "markdown",
   "id": "a02ad0e8-3e1b-4ab4-b154-846b1ae4736e",
   "metadata": {},
   "source": [
    "### Constants and parameters"
   ]
  },
  {
   "cell_type": "code",
   "execution_count": 2,
   "id": "1765c944-5bb3-4f4b-85fa-4e816b119296",
   "metadata": {
    "tags": []
   },
   "outputs": [],
   "source": [
    "SOURCE_SAMPLING_RATE = 44100\n",
    "MODEL_SAMPLING_RATE = 32000\n",
    "\n",
    "DATA_TAG = 'data_8c86715'"
   ]
  },
  {
   "cell_type": "markdown",
   "id": "2e64527c-1c23-4cbe-8521-4432b07c0acf",
   "metadata": {},
   "source": [
    "## Hyperparameters"
   ]
  },
  {
   "cell_type": "markdown",
   "id": "fcb2be97-885a-4924-b164-b6e390db65e8",
   "metadata": {},
   "source": [
    "## Base entities"
   ]
  },
  {
   "cell_type": "markdown",
   "id": "2bb6da74-93e7-4cb6-8d25-89098564ea69",
   "metadata": {},
   "source": [
    "### Datapoint struct"
   ]
  },
  {
   "cell_type": "code",
   "execution_count": 3,
   "id": "c6c0cc42-f88a-429b-af5e-c39a76816cf6",
   "metadata": {
    "tags": []
   },
   "outputs": [],
   "source": [
    "DataPoint = namedtuple('DataPoint', ['path', 'label', 'name'])"
   ]
  },
  {
   "cell_type": "markdown",
   "id": "b8262060-bb48-4d33-b826-e9b7f7e1f3a3",
   "metadata": {},
   "source": [
    "### Paths"
   ]
  },
  {
   "cell_type": "code",
   "execution_count": 4,
   "id": "d6667d46-b06d-4588-aaa8-f3c1b83a3821",
   "metadata": {
    "tags": []
   },
   "outputs": [],
   "source": [
    "base_dir = os.path.abspath(os.path.join(os.getcwd(), '../../'))\n",
    "data_source_base = os.path.join(base_dir, 'gdsc_data/data_source')\n",
    "data_processed_base = os.path.join(base_dir, 'gdsc_data/data_processed')"
   ]
  },
  {
   "cell_type": "code",
   "execution_count": 5,
   "id": "f130a52a-5009-43fd-9a4c-58271af2ee73",
   "metadata": {
    "tags": []
   },
   "outputs": [],
   "source": [
    "train_data_source_path = os.path.join(data_source_base, 'train/') \n",
    "test_data_source_path = os.path.join(data_source_base, 'test/') "
   ]
  },
  {
   "cell_type": "code",
   "execution_count": 6,
   "id": "8d0064ee-a79d-4486-aa87-8b507d9eae0b",
   "metadata": {
    "tags": []
   },
   "outputs": [],
   "source": [
    "rir_library_path = os.path.join(base_dir, 'audio_data/rir_library_flac_sampled/')"
   ]
  },
  {
   "cell_type": "markdown",
   "id": "061a55f1-306e-49c7-88bc-0055fda4854b",
   "metadata": {},
   "source": [
    "### Helper functions"
   ]
  },
  {
   "cell_type": "code",
   "execution_count": 7,
   "id": "29b86217-ad6d-401c-b66f-d6332133e6df",
   "metadata": {
    "tags": []
   },
   "outputs": [],
   "source": [
    "def resample_source_wav(data: DataPoint, resampler):\n",
    "    wav, _ = torchaudio.load(data.path)\n",
    "    return resampler(wav)    \n",
    "\n",
    "\n",
    "def iter_datapoint_from(source_data_path):\n",
    "    metadata_file = os.path.join(source_data_path, 'metadata.csv')\n",
    "    df_audio = pd.read_csv(metadata_file)\n",
    "    for fname, label in df_audio.itertuples(index=False):\n",
    "        full_path = os.path.join(source_data_path, fname)\n",
    "        yield DataPoint(path=full_path, label=label, name=fname)\n",
    "        \n",
    "        \n",
    "def rir_path_to_name_path(rir_path):\n",
    "    name, ext = os.path.splitext(os.path.basename(rir_path))\n",
    "    return name, rir_path\n",
    "            "
   ]
  },
  {
   "cell_type": "markdown",
   "id": "c81d7ff5-6fa3-4f6f-a760-bc01663967fc",
   "metadata": {},
   "source": [
    "## Worker's init and main functions"
   ]
  },
  {
   "cell_type": "code",
   "execution_count": 8,
   "id": "d283ea87-f942-4969-901b-718159aeb92e",
   "metadata": {
    "tags": []
   },
   "outputs": [],
   "source": [
    "def worker_init(worker_exec, source_dir, processed_dir):\n",
    "    import torch\n",
    "    import torchaudio\n",
    "    torch.set_num_threads(1)\n",
    "    \n",
    "    worker_exec.torch = torch\n",
    "    worker_exec.torchaudio = torchaudio\n",
    "    worker_exec.source_dir = source_dir\n",
    "    worker_exec.processed_dir = processed_dir\n",
    "    worker_exec.resampler = torchaudio.transforms.Resample(SOURCE_SAMPLING_RATE, MODEL_SAMPLING_RATE)\n",
    "    \n",
    "    \n",
    "def worker_main(rir_name, rir_path, data_point):\n",
    "    # Load initalized libraries in a process\n",
    "    torch = worker_main.torch\n",
    "    torchaudio =  worker_main.torchaudio\n",
    "    processed_dir = worker_main.processed_dir\n",
    "    source_dir = worker_main.source_dir\n",
    "    resampler = worker_main.resampler\n",
    "    \n",
    "    # convert to 32kHZ\n",
    "    wav_resampled = resample_source_wav(data_point, resampler)\n",
    "    \n",
    "    # get the room IR, normalize it, then apply\n",
    "    rir, _ = torchaudio.load(rir_path)\n",
    "    rir = rir / torch.norm(rir, p=2)\n",
    "    wav_resampled = torchaudio.functional.fftconvolve(wav_resampled, rir)\n",
    "    \n",
    "    # prepare for output\n",
    "    source_path = data_point.path\n",
    "    dp_label = data_point.label    \n",
    "    dp_name = data_point.name\n",
    "    source_name, source_ext = os.path.splitext(dp_name)\n",
    "    \n",
    "    # This will recreate train/ subfolder as well\n",
    "    dest_name = f'{source_name}@conv_{rir_name}.flac'\n",
    "    dest_relpath = os.path.dirname(os.path.relpath(source_path, source_dir))\n",
    "    dest_fpath = os.path.join(processed_dir, dest_relpath, dest_name)  \n",
    "    \n",
    "    os.makedirs(os.path.dirname(dest_fpath), exist_ok=True)\n",
    "    \n",
    "    torchaudio.save(\n",
    "        dest_fpath,\n",
    "        wav_resampled,\n",
    "        sample_rate=MODEL_SAMPLING_RATE,\n",
    "        format=\"flac\", \n",
    "        bits_per_sample=24)\n",
    "\n",
    "    return dest_fpath, dest_name, dp_label \n",
    "\n",
    "\n",
    "def worker_starmap(args):\n",
    "    return worker_main(*args)"
   ]
  },
  {
   "cell_type": "markdown",
   "id": "f36de4ba-e7d7-4c44-a972-f29875da5e7d",
   "metadata": {
    "tags": []
   },
   "source": [
    "## Scheduler"
   ]
  },
  {
   "cell_type": "code",
   "execution_count": 9,
   "id": "7f987d49-f1be-4466-9078-0000c666d877",
   "metadata": {},
   "outputs": [],
   "source": [
    "RIR_SAMPLE_SIZE = 20\n",
    "\n",
    "rir_library = list(map(rir_path_to_name_path, glob.glob(os.path.join(rir_library_path, '**/*.flac'), recursive=True)))\n",
    "source_library = iter_datapoint_from(train_data_source_path)\n",
    "\n",
    "all_combinations = product(random.sample(rir_library, RIR_SAMPLE_SIZE), source_library)\n",
    "\n",
    "source_library_length = iter_datapoint_from(train_data_source_path)\n",
    "all_combinations_length = 0\n",
    "for i, _ in enumerate(product(range(0, RIR_SAMPLE_SIZE), source_library_length), 1):\n",
    "    all_combinations_length = i\n",
    "\n",
    "work_generator = ((rir_name, rir_path, dp) for (rir_name, rir_path), dp in all_combinations)"
   ]
  },
  {
   "cell_type": "code",
   "execution_count": 10,
   "id": "0b63656c-5002-4e9d-8b2b-18a62bddd383",
   "metadata": {
    "tags": []
   },
   "outputs": [
    {
     "name": "stdout",
     "output_type": "stream",
     "text": [
      "Total possible rir+sound combinations 35040\n"
     ]
    }
   ],
   "source": [
    "print(f\"Total possible rir+sound combinations {all_combinations_length}\")"
   ]
  },
  {
   "cell_type": "code",
   "execution_count": 26,
   "id": "6284cc48-be36-4a46-bea7-b1f5d7ac4565",
   "metadata": {
    "tags": []
   },
   "outputs": [
    {
     "data": {
      "text/plain": [
       "os.stat_result(st_mode=16877, st_ino=11323095158871739323, st_dev=58, st_nlink=3, st_uid=0, st_gid=0, st_size=6144, st_atime=1689006410, st_mtime=1689006410, st_ctime=1689006410)"
      ]
     },
     "execution_count": 26,
     "metadata": {},
     "output_type": "execute_result"
    }
   ],
   "source": [
    "# if raises exception, make sure you delete the folder with all the data first\n",
    "dest_path = os.path.join(data_processed_base, DATA_TAG, '01_apply_ir_function/')\n",
    "os.stat(dest_path)"
   ]
  },
  {
   "cell_type": "code",
   "execution_count": 23,
   "id": "bf62c4dc-871a-4c44-bf75-0cc83359332d",
   "metadata": {
    "tags": []
   },
   "outputs": [
    {
     "name": "stdout",
     "output_type": "stream",
     "text": [
      "Reading files from '/root/data/gdsc_data/data_source/train/'\n",
      "Going to write into '/root/data/gdsc_data/data_processed/data_8c86715/00_apply_ir_function/'\n"
     ]
    }
   ],
   "source": [
    "print(f\"Reading files from '{train_data_source_path}'\")\n",
    "print(f\"Going to write into '{dest_path}'\")"
   ]
  },
  {
   "cell_type": "code",
   "execution_count": 24,
   "id": "4c8ec7a0-d1d2-4635-9705-59f94ae421fe",
   "metadata": {
    "tags": []
   },
   "outputs": [
    {
     "name": "stderr",
     "output_type": "stream",
     "text": [
      "100%|██████████| 35040/35040 [1:09:00<00:00,  8.46it/s]\n"
     ]
    }
   ],
   "source": [
    "n_cpu = multiprocessing.cpu_count()\n",
    "pool = multiprocessing.Pool(processes=n_cpu, initializer=worker_init, initargs=(worker_main, data_source_base, dest_path))\n",
    "\n",
    "rows = []\n",
    "for _, dest_fname, label in tqdm.tqdm(pool.imap_unordered(worker_starmap, work_generator), total=all_combinations_length):\n",
    "    rows.append((dest_fname, label))\n",
    "\n",
    "del pool\n",
    "\n",
    "df = pd.DataFrame(rows, columns=['file_name', 'label'])\n",
    "df.to_csv(os.path.join(dest_path, 'metadata.csv'), index=False)"
   ]
  },
  {
   "cell_type": "code",
   "execution_count": null,
   "id": "45a560ed-c841-49a1-a2fb-0b4ad5de37c6",
   "metadata": {},
   "outputs": [],
   "source": [
    "## Change ds a bit - map between original and all \"variants\" available as a comma separated list"
   ]
  },
  {
   "cell_type": "code",
   "execution_count": 27,
   "id": "a86a4454-2bed-4ce5-9f09-06ac880e7e38",
   "metadata": {},
   "outputs": [],
   "source": [
    "df = pd.read_csv(os.path.join(dest_path, 'metadata.csv'))"
   ]
  },
  {
   "cell_type": "code",
   "execution_count": 28,
   "id": "17380b6d-7233-443a-b63a-1467becf0dcc",
   "metadata": {
    "tags": []
   },
   "outputs": [],
   "source": [
    "def extract_original_filename(file_name):\n",
    "    parts = file_name.split(\"@\")\n",
    "    if len(parts) == 0:\n",
    "        return file_name\n",
    "    \n",
    "    return f\"{parts[0]}.wav\""
   ]
  },
  {
   "cell_type": "code",
   "execution_count": 29,
   "id": "4bc8d7fe-f50b-492c-897e-2252423e091b",
   "metadata": {
    "tags": []
   },
   "outputs": [],
   "source": [
    "df[\"original_filename\"] = df[\"file_name\"].map(extract_original_filename)"
   ]
  },
  {
   "cell_type": "code",
   "execution_count": 30,
   "id": "697b7aba-b208-4803-be6f-3ee9918973c3",
   "metadata": {
    "tags": []
   },
   "outputs": [],
   "source": [
    "df_grouped = df.groupby(\"original_filename\").aggregate(\n",
    "    {\n",
    "        \"file_name\": lambda x: \", \".join(x),\n",
    "        \"label\": min\n",
    "    }\n",
    ").reset_index().rename({\"file_name\": \"file_list\"})"
   ]
  },
  {
   "cell_type": "code",
   "execution_count": 31,
   "id": "d756a371-7200-4dc5-9867-b41e24716835",
   "metadata": {
    "tags": []
   },
   "outputs": [],
   "source": [
    "df_grouped.to_csv(os.path.join(dest_path, 'metadata_grouped_train.csv'), index=False)"
   ]
  },
  {
   "cell_type": "code",
   "execution_count": 117,
   "id": "eeaf65d2-3bc7-483e-a771-ae1dff060b79",
   "metadata": {
    "tags": []
   },
   "outputs": [
    {
     "data": {
      "text/plain": [
       "['Achetadomesticus_XC489192-Achetadomesticus_poland_psz_20140510_22.00h_3498_edit1@conv_Barrymore_xcg1v2.flac',\n",
       " 'Achetadomesticus_XC489192-Achetadomesticus_poland_psz_20140510_22.00h_3498_edit1@conv_Wells Fargo Pavilion_scg1v2.flac',\n",
       " 'Achetadomesticus_XC489192-Achetadomesticus_poland_psz_20140510_22.00h_3498_edit1@conv_Fire Station_MQg1v2.flac',\n",
       " 'Achetadomesticus_XC489192-Achetadomesticus_poland_psz_20140510_22.00h_3498_edit1@conv_Apollo Theatre_sog2v2.flac',\n",
       " 'Achetadomesticus_XC489192-Achetadomesticus_poland_psz_20140510_22.00h_3498_edit1@conv_Rishon Hall_xcg1v2.flac',\n",
       " 'Achetadomesticus_XC489192-Achetadomesticus_poland_psz_20140510_22.00h_3498_edit1@conv_Lyceum Theater_MBg2v2.flac',\n",
       " 'Achetadomesticus_XC489192-Achetadomesticus_poland_psz_20140510_22.00h_3498_edit1@conv_Alexandrinsky_mcg1v2.flac',\n",
       " 'Achetadomesticus_XC489192-Achetadomesticus_poland_psz_20140510_22.00h_3498_edit1@conv_Leas Cliff Hall_scg1v2.flac',\n",
       " 'Achetadomesticus_XC489192-Achetadomesticus_poland_psz_20140510_22.00h_3498_edit1@conv_Small Hall_sog1v2.flac',\n",
       " 'Achetadomesticus_XC489192-Achetadomesticus_poland_psz_20140510_22.00h_3498_edit1@conv_Hammersmith Apollo_mcg1v2.flac',\n",
       " 'Achetadomesticus_XC489192-Achetadomesticus_poland_psz_20140510_22.00h_3498_edit1@conv_Karmiel Hall_mcg2v2.flac',\n",
       " 'Achetadomesticus_XC489192-Achetadomesticus_poland_psz_20140510_22.00h_3498_edit1@conv_Spa Pavilion_xog1v2.flac',\n",
       " 'Achetadomesticus_XC489192-Achetadomesticus_poland_psz_20140510_22.00h_3498_edit1@conv_Manchester Apollo_xog3v2.flac',\n",
       " 'Achetadomesticus_XC489192-Achetadomesticus_poland_psz_20140510_22.00h_3498_edit1@conv_Southport Theatre_xcg1v2.flac',\n",
       " 'Achetadomesticus_XC489192-Achetadomesticus_poland_psz_20140510_22.00h_3498_edit1@conv_Yerba Buena_scg1v2.flac',\n",
       " 'Achetadomesticus_XC489192-Achetadomesticus_poland_psz_20140510_22.00h_3498_edit1@conv_M Palace_xog1v2.flac',\n",
       " 'Achetadomesticus_XC489192-Achetadomesticus_poland_psz_20140510_22.00h_3498_edit1@conv_Georgian_scg1v2.flac',\n",
       " 'Achetadomesticus_XC489192-Achetadomesticus_poland_psz_20140510_22.00h_3498_edit1@conv_Yerba_mcg1v2.flac',\n",
       " 'Achetadomesticus_XC489192-Achetadomesticus_poland_psz_20140510_22.00h_3498_edit1@conv_Noh Drama Theater_scd1.flac',\n",
       " 'Achetadomesticus_XC489192-Achetadomesticus_poland_psz_20140510_22.00h_3498_edit1@conv_Studio C_xcg1v2.flac',\n",
       " 'Achetadomesticus_XC489192-Achetadomesticus_poland_psz_20140510_22.00h_3498_edit1@conv_Town House Studio_SBg1v2.flac',\n",
       " 'Achetadomesticus_XC489192-Achetadomesticus_poland_psz_20140510_22.00h_3498_edit1@conv_Signet Studio_SBg1v2.flac',\n",
       " 'Achetadomesticus_XC489192-Achetadomesticus_poland_psz_20140510_22.00h_3498_edit1@conv_Cello_mog2v2.flac',\n",
       " 'Achetadomesticus_XC489192-Achetadomesticus_poland_psz_20140510_22.00h_3498_edit1@conv_JMC - Reflective_sWg1v2.flac',\n",
       " 'Achetadomesticus_XC489192-Achetadomesticus_poland_psz_20140510_22.00h_3498_edit1@conv_JMC - Absorptive_mcg2v2.flac',\n",
       " 'Achetadomesticus_XC489192-Achetadomesticus_poland_psz_20140510_22.00h_3498_edit1@conv_Edison Studio_mog2v2.flac',\n",
       " 'Achetadomesticus_XC489192-Achetadomesticus_poland_psz_20140510_22.00h_3498_edit1@conv_Hamon Studios_scg2v2.flac',\n",
       " 'Achetadomesticus_XC489192-Achetadomesticus_poland_psz_20140510_22.00h_3498_edit1@conv_Stone Room_sWg1v2.flac',\n",
       " 'Achetadomesticus_XC489192-Achetadomesticus_poland_psz_20140510_22.00h_3498_edit1@conv_Schnee Studios_xcg1v2.flac',\n",
       " 'Achetadomesticus_XC489192-Achetadomesticus_poland_psz_20140510_22.00h_3498_edit1@conv_Sound Emporium_mcg1v2.flac',\n",
       " 'Achetadomesticus_XC489192-Achetadomesticus_poland_psz_20140510_22.00h_3498_edit1@conv_Konway Studio_xcg1v2.flac',\n",
       " 'Achetadomesticus_XC489192-Achetadomesticus_poland_psz_20140510_22.00h_3498_edit1@conv_Cello_sog1v2.flac',\n",
       " 'Achetadomesticus_XC489192-Achetadomesticus_poland_psz_20140510_22.00h_3498_edit1@conv_Cello Studio 1_MBg2v2.flac',\n",
       " 'Achetadomesticus_XC489192-Achetadomesticus_poland_psz_20140510_22.00h_3498_edit1@conv_Westlake Studio_MBg1v2.flac',\n",
       " 'Achetadomesticus_XC489192-Achetadomesticus_poland_psz_20140510_22.00h_3498_edit1@conv_Petersburg_mcg1v2.flac',\n",
       " 'Achetadomesticus_XC489192-Achetadomesticus_poland_psz_20140510_22.00h_3498_edit1@conv_Smart Studio_xog2v2.flac',\n",
       " 'Achetadomesticus_XC489192-Achetadomesticus_poland_psz_20140510_22.00h_3498_edit1@conv_SOS Studio_xcg1v2.flac',\n",
       " 'Achetadomesticus_XC489192-Achetadomesticus_poland_psz_20140510_22.00h_3498_edit1@conv_Todd-AO Scoring_scg1v2.flac',\n",
       " 'Achetadomesticus_XC489192-Achetadomesticus_poland_psz_20140510_22.00h_3498_edit1@conv_Bathroom_mcg1v2.flac',\n",
       " 'Achetadomesticus_XC489192-Achetadomesticus_poland_psz_20140510_22.00h_3498_edit1@conv_Wooden Kitchen_mcg1v2.flac',\n",
       " 'Achetadomesticus_XC489192-Achetadomesticus_poland_psz_20140510_22.00h_3498_edit1@conv_The Dome_mcg1v2.flac',\n",
       " 'Achetadomesticus_XC489192-Achetadomesticus_poland_psz_20140510_22.00h_3498_edit1@conv_Living Room_xcg1v2.flac',\n",
       " 'Achetadomesticus_XC489192-Achetadomesticus_poland_psz_20140510_22.00h_3498_edit1@conv_Kitchen_xcg1v2.flac',\n",
       " 'Achetadomesticus_XC489192-Achetadomesticus_poland_psz_20140510_22.00h_3498_edit1@conv_Tiled Bathroom_xcg1v2.flac',\n",
       " 'Achetadomesticus_XC489192-Achetadomesticus_poland_psz_20140510_22.00h_3498_edit1@conv_Wooden Recital_MBg1v2.flac',\n",
       " 'Achetadomesticus_XC489192-Achetadomesticus_poland_psz_20140510_22.00h_3498_edit1@conv_Santa Cecilia - Large_xcd2.flac',\n",
       " 'Achetadomesticus_XC489192-Achetadomesticus_poland_psz_20140510_22.00h_3498_edit1@conv_Santa Cecilia - Medium_scd1.flac',\n",
       " 'Achetadomesticus_XC489192-Achetadomesticus_poland_psz_20140510_22.00h_3498_edit1@conv_Philharmonic_xcg2v2.flac',\n",
       " 'Achetadomesticus_XC489192-Achetadomesticus_poland_psz_20140510_22.00h_3498_edit1@conv_Santa Cecilia - Small_xcd1.flac',\n",
       " 'Achetadomesticus_XC489192-Achetadomesticus_poland_psz_20140510_22.00h_3498_edit1@conv_Symphony Hall_xog1v2.flac',\n",
       " 'Achetadomesticus_XC489192-Achetadomesticus_poland_psz_20140510_22.00h_3498_edit1@conv_SOH Concert Hall_mWg3v2.flac',\n",
       " 'Achetadomesticus_XC489192-Achetadomesticus_poland_psz_20140510_22.00h_3498_edit1@conv_Royal Festival Hall_scg3v2.flac',\n",
       " 'Achetadomesticus_XC489192-Achetadomesticus_poland_psz_20140510_22.00h_3498_edit1@conv_Snape Maltings_MBg1v2.flac',\n",
       " 'Achetadomesticus_XC489192-Achetadomesticus_poland_psz_20140510_22.00h_3498_edit1@conv_Wooden Recital_xog1v2.flac',\n",
       " 'Achetadomesticus_XC489192-Achetadomesticus_poland_psz_20140510_22.00h_3498_edit1@conv_Kirishima Concert Hall_scd4.flac',\n",
       " 'Achetadomesticus_XC489192-Achetadomesticus_poland_psz_20140510_22.00h_3498_edit1@conv_Uhara Concert Hall_mcd2.flac',\n",
       " 'Achetadomesticus_XC489192-Achetadomesticus_poland_psz_20140510_22.00h_3498_edit1@conv_Clairmont Hall_SBg2v2.flac',\n",
       " 'Achetadomesticus_XC489192-Achetadomesticus_poland_psz_20140510_22.00h_3498_edit1@conv_Dundee Caird Hall_mog1v2.flac',\n",
       " 'Achetadomesticus_XC489192-Achetadomesticus_poland_psz_20140510_22.00h_3498_edit1@conv_Recital Hall_mWg3v2.flac',\n",
       " 'Achetadomesticus_XC489192-Achetadomesticus_poland_psz_20140510_22.00h_3498_edit1@conv_Disney_sog1v2.flac',\n",
       " 'Achetadomesticus_XC489192-Achetadomesticus_poland_psz_20140510_22.00h_3498_edit1@conv_The Big Halll_mcg1v2.flac',\n",
       " 'Achetadomesticus_XC489192-Achetadomesticus_poland_psz_20140510_22.00h_3498_edit1@conv_Barbican Center_mcg1v2.flac',\n",
       " 'Achetadomesticus_XC489192-Achetadomesticus_poland_psz_20140510_22.00h_3498_edit1@conv_Zipper Hall_SBg1v2.flac',\n",
       " 'Achetadomesticus_XC489192-Achetadomesticus_poland_psz_20140510_22.00h_3498_edit1@conv_Glazunov_scg2v2.flac',\n",
       " 'Achetadomesticus_XC489192-Achetadomesticus_poland_psz_20140510_22.00h_3498_edit1@conv_Ingram Hall_scg1v2.flac',\n",
       " 'Achetadomesticus_XC489192-Achetadomesticus_poland_psz_20140510_22.00h_3498_edit1@conv_Gaylord 1_scg1v2.flac',\n",
       " 'Achetadomesticus_XC489192-Achetadomesticus_poland_psz_20140510_22.00h_3498_edit1@conv_Wembley Arena_scg1v2.flac',\n",
       " 'Achetadomesticus_XC489192-Achetadomesticus_poland_psz_20140510_22.00h_3498_edit1@conv_London Arena_sog1v2.flac',\n",
       " 'Achetadomesticus_XC489192-Achetadomesticus_poland_psz_20140510_22.00h_3498_edit1@conv_Skyscraper Stairwell_xcg1v2.flac',\n",
       " 'Achetadomesticus_XC489192-Achetadomesticus_poland_psz_20140510_22.00h_3498_edit1@conv_Atherton Hall_xWg1v2.flac',\n",
       " 'Achetadomesticus_XC489192-Achetadomesticus_poland_psz_20140510_22.00h_3498_edit1@conv_Dinkelspiel Aud_scg1v2.flac',\n",
       " 'Achetadomesticus_XC489192-Achetadomesticus_poland_psz_20140510_22.00h_3498_edit1@conv_Parma Auditorium_scd3.flac',\n",
       " 'Achetadomesticus_XC489192-Achetadomesticus_poland_psz_20140510_22.00h_3498_edit1@conv_Ryman_MQg3v2.flac',\n",
       " 'Achetadomesticus_XC489192-Achetadomesticus_poland_psz_20140510_22.00h_3498_edit1@conv_Cello Studio 1_sdg1v2.flac',\n",
       " 'Achetadomesticus_XC489192-Achetadomesticus_poland_psz_20140510_22.00h_3498_edit1@conv_Todd-AO Scoring_xdg1v2.flac',\n",
       " 'Achetadomesticus_XC489192-Achetadomesticus_poland_psz_20140510_22.00h_3498_edit1@conv_Zipper Hall_sdg1v2.flac',\n",
       " 'Achetadomesticus_XC489192-Achetadomesticus_poland_psz_20140510_22.00h_3498_edit1@conv_York Opera House_MBg1v2.flac',\n",
       " 'Achetadomesticus_XC489192-Achetadomesticus_poland_psz_20140510_22.00h_3498_edit1@conv_SOH Opera Theatre_MBg1v2.flac',\n",
       " 'Achetadomesticus_XC489192-Achetadomesticus_poland_psz_20140510_22.00h_3498_edit1@conv_Teatro Valli_mWg1v2.flac',\n",
       " 'Achetadomesticus_XC489192-Achetadomesticus_poland_psz_20140510_22.00h_3498_edit1@conv_Knights - Small_scg1v2.flac',\n",
       " 'Achetadomesticus_XC489192-Achetadomesticus_poland_psz_20140510_22.00h_3498_edit1@conv_JamSync Bathroom_xcg1v2.flac',\n",
       " 'Achetadomesticus_XC489192-Achetadomesticus_poland_psz_20140510_22.00h_3498_edit1@conv_Hamon - small room_scg1v2.flac',\n",
       " 'Achetadomesticus_XC489192-Achetadomesticus_poland_psz_20140510_22.00h_3498_edit1@conv_The Green Room_xcg1v2.flac',\n",
       " 'Achetadomesticus_XC489192-Achetadomesticus_poland_psz_20140510_22.00h_3498_edit1@conv_JamSync Florida Room_xcg1v2.flac',\n",
       " 'Achetadomesticus_XC489192-Achetadomesticus_poland_psz_20140510_22.00h_3498_edit1@conv_The Green Room_sog1v2.flac',\n",
       " 'Achetadomesticus_XC489192-Achetadomesticus_poland_psz_20140510_22.00h_3498_edit1@conv_Birdland Club_sWg1v2.flac',\n",
       " 'Achetadomesticus_XC489192-Achetadomesticus_poland_psz_20140510_22.00h_3498_edit1@conv_Bluebird Cafe_MBg1v2.flac',\n",
       " 'Achetadomesticus_XC489192-Achetadomesticus_poland_psz_20140510_22.00h_3498_edit1@conv_High Noon_SBg1v2.flac',\n",
       " 'Achetadomesticus_XC489192-Achetadomesticus_poland_psz_20140510_22.00h_3498_edit1@conv_Forum_xcg2v2.flac',\n",
       " 'Achetadomesticus_XC489192-Achetadomesticus_poland_psz_20140510_22.00h_3498_edit1@conv_Ocean_sog1v2.flac',\n",
       " 'Achetadomesticus_XC489192-Achetadomesticus_poland_psz_20140510_22.00h_3498_edit1@conv_High Noon_xog1v2.flac',\n",
       " 'Achetadomesticus_XC489192-Achetadomesticus_poland_psz_20140510_22.00h_3498_edit1@conv_TLV - C Room_SBg1v2.flac',\n",
       " 'Achetadomesticus_XC489192-Achetadomesticus_poland_psz_20140510_22.00h_3498_edit1@conv_TLV Main Room_xWg1v2.flac',\n",
       " 'Achetadomesticus_XC489192-Achetadomesticus_poland_psz_20140510_22.00h_3498_edit1@conv_CBGB_scg1v2.flac',\n",
       " 'Achetadomesticus_XC489192-Achetadomesticus_poland_psz_20140510_22.00h_3498_edit1@conv_The Bottom Line_MQg1v2.flac',\n",
       " 'Achetadomesticus_XC489192-Achetadomesticus_poland_psz_20140510_22.00h_3498_edit1@conv_Knitting Factory_MQg1v2.flac',\n",
       " 'Achetadomesticus_XC489192-Achetadomesticus_poland_psz_20140510_22.00h_3498_edit1@conv_The Kitchen_MQg1v2.flac',\n",
       " 'Achetadomesticus_XC489192-Achetadomesticus_poland_psz_20140510_22.00h_3498_edit1@conv_Lincoln Navigator_mcg1v2.flac',\n",
       " 'Achetadomesticus_XC489192-Achetadomesticus_poland_psz_20140510_22.00h_3498_edit1@conv_Bus_xcg1v2.flac',\n",
       " 'Achetadomesticus_XC489192-Achetadomesticus_poland_psz_20140510_22.00h_3498_edit1@conv_Ford Econoline_mcg1v2.flac',\n",
       " 'Achetadomesticus_XC489192-Achetadomesticus_poland_psz_20140510_22.00h_3498_edit1@conv_Big Synagog_SBg2v2.flac',\n",
       " 'Achetadomesticus_XC489192-Achetadomesticus_poland_psz_20140510_22.00h_3498_edit1@conv_Big Synagog_xog2v2.flac',\n",
       " 'Achetadomesticus_XC489192-Achetadomesticus_poland_psz_20140510_22.00h_3498_edit1@conv_Emanuel_scg1v2.flac',\n",
       " 'Achetadomesticus_XC489192-Achetadomesticus_poland_psz_20140510_22.00h_3498_edit1@conv_SOH - The Studio_xWg1v2.flac',\n",
       " 'Achetadomesticus_XC489192-Achetadomesticus_poland_psz_20140510_22.00h_3498_edit1@conv_Knights - Medium_sWg1v2.flac',\n",
       " 'Achetadomesticus_XC489192-Achetadomesticus_poland_psz_20140510_22.00h_3498_edit1@conv_Columbarium_xcg1v2.flac',\n",
       " 'Achetadomesticus_XC489192-Achetadomesticus_poland_psz_20140510_22.00h_3498_edit1@conv_Knights Refectorium_xWg1v2.flac',\n",
       " 'Achetadomesticus_XC489192-Achetadomesticus_poland_psz_20140510_22.00h_3498_edit1@conv_Azrieli Hall_xcg1v2.flac',\n",
       " 'Achetadomesticus_XC489192-Achetadomesticus_poland_psz_20140510_22.00h_3498_edit1@conv_Great Hall_mog1v2.flac',\n",
       " 'Achetadomesticus_XC489192-Achetadomesticus_poland_psz_20140510_22.00h_3498_edit1@conv_Waves Hallway_mcg1v2.flac',\n",
       " 'Achetadomesticus_XC489192-Achetadomesticus_poland_psz_20140510_22.00h_3498_edit1@conv_Elevator Hallway_xcg1v2.flac',\n",
       " 'Achetadomesticus_XC489192-Achetadomesticus_poland_psz_20140510_22.00h_3498_edit1@conv_Entrance Hall_mcg2v2.flac',\n",
       " 'Achetadomesticus_XC489192-Achetadomesticus_poland_psz_20140510_22.00h_3498_edit1@conv_The Gallery_xcg1v2.flac',\n",
       " 'Achetadomesticus_XC489192-Achetadomesticus_poland_psz_20140510_22.00h_3498_edit1@conv_The Gallery_MQg1v2.flac',\n",
       " 'Achetadomesticus_XC489192-Achetadomesticus_poland_psz_20140510_22.00h_3498_edit1@conv_unitarian church_xog1v2.flac',\n",
       " 'Achetadomesticus_XC489192-Achetadomesticus_poland_psz_20140510_22.00h_3498_edit1@conv_Trinity Church_MQg1v2.flac',\n",
       " 'Achetadomesticus_XC489192-Achetadomesticus_poland_psz_20140510_22.00h_3498_edit1@conv_Memorial Church_sWg1v2.flac',\n",
       " 'Achetadomesticus_XC489192-Achetadomesticus_poland_psz_20140510_22.00h_3498_edit1@conv_Presidio Chapel_MQg1v2.flac',\n",
       " 'Achetadomesticus_XC489192-Achetadomesticus_poland_psz_20140510_22.00h_3498_edit1@conv_St Paul Chapel_MBg1v2.flac',\n",
       " 'Achetadomesticus_XC489192-Achetadomesticus_poland_psz_20140510_22.00h_3498_edit1@conv_Belle Meade_mWg1v2.flac',\n",
       " 'Achetadomesticus_XC489192-Achetadomesticus_poland_psz_20140510_22.00h_3498_edit1@conv_The Church_mog1v2.flac',\n",
       " 'Achetadomesticus_XC489192-Achetadomesticus_poland_psz_20140510_22.00h_3498_edit1@conv_Lake Park Church_mog1v2.flac',\n",
       " 'Achetadomesticus_XC489192-Achetadomesticus_poland_psz_20140510_22.00h_3498_edit1@conv_St John Church_MBg1v2.flac',\n",
       " 'Achetadomesticus_XC489192-Achetadomesticus_poland_psz_20140510_22.00h_3498_edit1@conv_Royal Chapel_xog1v2.flac',\n",
       " 'Achetadomesticus_XC489192-Achetadomesticus_poland_psz_20140510_22.00h_3498_edit1@conv_Nevsky_mog1v2.flac',\n",
       " 'Achetadomesticus_XC489192-Achetadomesticus_poland_psz_20140510_22.00h_3498_edit1@conv_York Minster England_scg2v2.flac',\n",
       " 'Achetadomesticus_XC489192-Achetadomesticus_poland_psz_20140510_22.00h_3498_edit1@conv_Plate 250_xcg1V2.flac',\n",
       " 'Achetadomesticus_XC489192-Achetadomesticus_poland_psz_20140510_22.00h_3498_edit1@conv_DNX 90_mcg3V2.flac',\n",
       " 'Achetadomesticus_XC489192-Achetadomesticus_poland_psz_20140510_22.00h_3498_edit1@conv_Spring Verb_xcg1V2.flac',\n",
       " 'Achetadomesticus_XC489192-Achetadomesticus_poland_psz_20140510_22.00h_3498_edit1@conv_Plate 140_mcg3V2.flac',\n",
       " 'Achetadomesticus_XC489192-Achetadomesticus_poland_psz_20140510_22.00h_3498_edit1@conv_BlackPool Tower_MBg1v2.flac',\n",
       " 'Achetadomesticus_XC489192-Achetadomesticus_poland_psz_20140510_22.00h_3498_edit1@conv_Ballroom_MQg1v2.flac',\n",
       " 'Achetadomesticus_XC489192-Achetadomesticus_poland_psz_20140510_22.00h_3498_edit1@conv_Floral Hall_mog1v2.flac',\n",
       " 'Achetadomesticus_XC489192-Achetadomesticus_poland_psz_20140510_22.00h_3498_edit1@conv_Manhattan Center_mcg1v2.flac',\n",
       " 'Achetadomesticus_XC489192-Achetadomesticus_poland_psz_20140510_22.00h_3498_edit1@conv_Ballroom_xog1v2.flac',\n",
       " 'Achetadomesticus_XC489192-Achetadomesticus_poland_psz_20140510_22.00h_3498_edit1@conv_Siracusa_mcd1.flac',\n",
       " 'Achetadomesticus_XC489192-Achetadomesticus_poland_psz_20140510_22.00h_3498_edit1@conv_Taormina_mcd1.flac',\n",
       " 'Achetadomesticus_XC489192-Achetadomesticus_poland_psz_20140510_22.00h_3498_edit1@conv_Luzit Cave - Medium_xcg1v2.flac',\n",
       " 'Achetadomesticus_XC489192-Achetadomesticus_poland_psz_20140510_22.00h_3498_edit1@conv_Luzit Cave - Large_xcg1v2.flac',\n",
       " 'Achetadomesticus_XC489192-Achetadomesticus_poland_psz_20140510_22.00h_3498_edit1@conv_Big Cave_mog1v2.flac',\n",
       " 'Achetadomesticus_XC489192-Achetadomesticus_poland_psz_20140510_22.00h_3498_edit1@conv_Nekarot Cavern_mcg1v2.flac',\n",
       " 'Achetadomesticus_XC489192-Achetadomesticus_poland_psz_20140510_22.00h_3498_edit1@conv_Knights - Courtyard_xcg1v2.flac',\n",
       " 'Achetadomesticus_XC489192-Achetadomesticus_poland_psz_20140510_22.00h_3498_edit1@conv_Desert_xcg1v2.flac',\n",
       " 'Achetadomesticus_XC489192-Achetadomesticus_poland_psz_20140510_22.00h_3498_edit1@conv_LX48L_x_Closet.flac',\n",
       " 'Achetadomesticus_XC489192-Achetadomesticus_poland_psz_20140510_22.00h_3498_edit1@conv_LX48L_x_Small Hall.flac',\n",
       " 'Achetadomesticus_XC489192-Achetadomesticus_poland_psz_20140510_22.00h_3498_edit1@conv_LX48L_x_Large Room R.flac',\n",
       " 'Achetadomesticus_XC489192-Achetadomesticus_poland_psz_20140510_22.00h_3498_edit1@conv_LX48L_s_Very Small.flac',\n",
       " 'Achetadomesticus_XC489192-Achetadomesticus_poland_psz_20140510_22.00h_3498_edit1@conv_LX48L_s_Small Plate.flac',\n",
       " 'Achetadomesticus_XC489192-Achetadomesticus_poland_psz_20140510_22.00h_3498_edit1@conv_LX48L_s_Concert Hall.flac',\n",
       " 'Achetadomesticus_XC489192-Achetadomesticus_poland_psz_20140510_22.00h_3498_edit1@conv_LX48L_x_Med Ambience.flac',\n",
       " 'Achetadomesticus_XC489192-Achetadomesticus_poland_psz_20140510_22.00h_3498_edit1@conv_LX48L_m_Large RChrch.flac',\n",
       " 'Achetadomesticus_XC489192-Achetadomesticus_poland_psz_20140510_22.00h_3498_edit1@conv_LX48L_s_Snare Plate.flac',\n",
       " 'Achetadomesticus_XC489192-Achetadomesticus_poland_psz_20140510_22.00h_3498_edit1@conv_LX48L_s_Music club.flac',\n",
       " 'Achetadomesticus_XC489192-Achetadomesticus_poland_psz_20140510_22.00h_3498_edit1@conv_LX48L_s_Auto Park.flac',\n",
       " 'Achetadomesticus_XC489192-Achetadomesticus_poland_psz_20140510_22.00h_3498_edit1@conv_LX48L_s_Medum Room R.flac',\n",
       " 'Achetadomesticus_XC489192-Achetadomesticus_poland_psz_20140510_22.00h_3498_edit1@conv_LX48L_s_LG Ambience.flac',\n",
       " 'Achetadomesticus_XC489192-Achetadomesticus_poland_psz_20140510_22.00h_3498_edit1@conv_LX48L_m_Heavy AMB.flac',\n",
       " 'Achetadomesticus_XC489192-Achetadomesticus_poland_psz_20140510_22.00h_3498_edit1@conv_LX48L_m_Large Random Hall.flac',\n",
       " 'Achetadomesticus_XC489192-Achetadomesticus_poland_psz_20140510_22.00h_3498_edit1@conv_LX48L_s_Wet+Tacky.flac',\n",
       " 'Achetadomesticus_XC489192-Achetadomesticus_poland_psz_20140510_22.00h_3498_edit1@conv_LX48L_m_Horn plate.flac',\n",
       " 'Achetadomesticus_XC489192-Achetadomesticus_poland_psz_20140510_22.00h_3498_edit1@conv_LX48L_m_Sm+Bright R.flac',\n",
       " 'Achetadomesticus_XC489192-Achetadomesticus_poland_psz_20140510_22.00h_3498_edit1@conv_LX48L_s_A Plate.flac',\n",
       " 'Achetadomesticus_XC489192-Achetadomesticus_poland_psz_20140510_22.00h_3498_edit1@conv_LX48L_s_Reflex Hall.flac',\n",
       " 'Achetadomesticus_XC489192-Achetadomesticus_poland_psz_20140510_22.00h_3498_edit1@conv_LX48L_x_Jazz RHall.flac',\n",
       " 'Achetadomesticus_XC489192-Achetadomesticus_poland_psz_20140510_22.00h_3498_edit1@conv_LX48L_m_Guitar Hall.flac',\n",
       " 'Achetadomesticus_XC489192-Achetadomesticus_poland_psz_20140510_22.00h_3498_edit1@conv_LX48L_x_Car Interior.flac',\n",
       " 'Achetadomesticus_XC489192-Achetadomesticus_poland_psz_20140510_22.00h_3498_edit1@conv_LX48L_m_Strong AMB.flac',\n",
       " 'Achetadomesticus_XC489192-Achetadomesticus_poland_psz_20140510_22.00h_3498_edit1@conv_LX48L_s_Gold Hall.flac',\n",
       " 'Achetadomesticus_XC489192-Achetadomesticus_poland_psz_20140510_22.00h_3498_edit1@conv_LX48L_x_Guitar Plate.flac',\n",
       " 'Achetadomesticus_XC489192-Achetadomesticus_poland_psz_20140510_22.00h_3498_edit1@conv_LX48L_x_Medium Hall.flac',\n",
       " 'Achetadomesticus_XC489192-Achetadomesticus_poland_psz_20140510_22.00h_3498_edit1@conv_LX48L_m_Thin Plate.flac',\n",
       " 'Achetadomesticus_XC489192-Achetadomesticus_poland_psz_20140510_22.00h_3498_edit1@conv_LX48L_s_Dark Hall.flac',\n",
       " 'Achetadomesticus_XC489192-Achetadomesticus_poland_psz_20140510_22.00h_3498_edit1@conv_LX48L_m_Small Hall+Stage.flac',\n",
       " 'Achetadomesticus_XC489192-Achetadomesticus_poland_psz_20140510_22.00h_3498_edit1@conv_LX48L_x_Medium Room.flac',\n",
       " 'Achetadomesticus_XC489192-Achetadomesticus_poland_psz_20140510_22.00h_3498_edit1@conv_LX48L_s_Vox Plate.flac',\n",
       " 'Achetadomesticus_XC489192-Achetadomesticus_poland_psz_20140510_22.00h_3498_edit1@conv_LX48L_m_Announcer.flac',\n",
       " 'Achetadomesticus_XC489192-Achetadomesticus_poland_psz_20140510_22.00h_3498_edit1@conv_LX48L_x_Airhead.flac',\n",
       " 'Achetadomesticus_XC489192-Achetadomesticus_poland_psz_20140510_22.00h_3498_edit1@conv_LX48L_m_Lg Wood Room.flac',\n",
       " 'Achetadomesticus_XC489192-Achetadomesticus_poland_psz_20140510_22.00h_3498_edit1@conv_LX48L_x_Kellars Cell.flac',\n",
       " 'Achetadomesticus_XC489192-Achetadomesticus_poland_psz_20140510_22.00h_3498_edit1@conv_LX48L_s_Medium Random Hall.flac',\n",
       " 'Achetadomesticus_XC489192-Achetadomesticus_poland_psz_20140510_22.00h_3498_edit1@conv_LX48L_m_Very Lg Amb.flac',\n",
       " 'Achetadomesticus_XC489192-Achetadomesticus_poland_psz_20140510_22.00h_3498_edit1@conv_LX48L_s_Warehouse.flac',\n",
       " 'Achetadomesticus_XC489192-Achetadomesticus_poland_psz_20140510_22.00h_3498_edit1@conv_LX48L_s_Small RChrch.flac',\n",
       " 'Achetadomesticus_XC489192-Achetadomesticus_poland_psz_20140510_22.00h_3498_edit1@conv_LX48L_m_Music Club R.flac',\n",
       " 'Achetadomesticus_XC489192-Achetadomesticus_poland_psz_20140510_22.00h_3498_edit1@conv_LX48L_s_Vocal Plate.flac',\n",
       " 'Achetadomesticus_XC489192-Achetadomesticus_poland_psz_20140510_22.00h_3498_edit1@conv_LX48L_x_small Church.flac',\n",
       " 'Achetadomesticus_XC489192-Achetadomesticus_poland_psz_20140510_22.00h_3498_edit1@conv_LX48L_x_Short Plate.flac',\n",
       " 'Achetadomesticus_XC489192-Achetadomesticus_poland_psz_20140510_22.00h_3498_edit1@conv_LX48L_x_Living Room.flac',\n",
       " 'Achetadomesticus_XC489192-Achetadomesticus_poland_psz_20140510_22.00h_3498_edit1@conv_LX48L_m_Bright Hall.flac',\n",
       " 'Achetadomesticus_XC489192-Achetadomesticus_poland_psz_20140510_22.00h_3498_edit1@conv_LX48L_x_Sm Wood Room.flac',\n",
       " 'Achetadomesticus_XC489192-Achetadomesticus_poland_psz_20140510_22.00h_3498_edit1@conv_LX48L_s_Large Hall+Stage.flac',\n",
       " 'Achetadomesticus_XC489192-Achetadomesticus_poland_psz_20140510_22.00h_3498_edit1@conv_LX48L_s_Small Random Hall.flac',\n",
       " 'Achetadomesticus_XC489192-Achetadomesticus_poland_psz_20140510_22.00h_3498_edit1@conv_LX48L_m_Medium Hall+Stage.flac',\n",
       " 'Achetadomesticus_XC489192-Achetadomesticus_poland_psz_20140510_22.00h_3498_edit1@conv_LX48L_m_Drums Plate.flac',\n",
       " 'Achetadomesticus_XC489192-Achetadomesticus_poland_psz_20140510_22.00h_3498_edit1@conv_LX48L_s_Silver Plate.flac',\n",
       " 'Achetadomesticus_XC489192-Achetadomesticus_poland_psz_20140510_22.00h_3498_edit1@conv_LX48L_x_Large Chamb.flac',\n",
       " 'Achetadomesticus_XC489192-Achetadomesticus_poland_psz_20140510_22.00h_3498_edit1@conv_LX48L_m_Large Plate.flac',\n",
       " 'Achetadomesticus_XC489192-Achetadomesticus_poland_psz_20140510_22.00h_3498_edit1@conv_LX48L_m_fat Plate.flac',\n",
       " 'Achetadomesticus_XC489192-Achetadomesticus_poland_psz_20140510_22.00h_3498_edit1@conv_LX48L_x_Kitchen AMB.flac',\n",
       " 'Achetadomesticus_XC489192-Achetadomesticus_poland_psz_20140510_22.00h_3498_edit1@conv_LX48L_m_Medum Room R.flac',\n",
       " 'Achetadomesticus_XC489192-Achetadomesticus_poland_psz_20140510_22.00h_3498_edit1@conv_LX48L_x_Large Hall.flac',\n",
       " 'Achetadomesticus_XC489192-Achetadomesticus_poland_psz_20140510_22.00h_3498_edit1@conv_LX48L_s_Large Plate.flac',\n",
       " 'Achetadomesticus_XC489192-Achetadomesticus_poland_psz_20140510_22.00h_3498_edit1@conv_LX48L_m_Music club.flac',\n",
       " 'Achetadomesticus_XC489192-Achetadomesticus_poland_psz_20140510_22.00h_3498_edit1@conv_LX48L_m_Auto Park.flac',\n",
       " 'Achetadomesticus_XC489192-Achetadomesticus_poland_psz_20140510_22.00h_3498_edit1@conv_LX48L_m_LG Ambience.flac',\n",
       " 'Achetadomesticus_XC489192-Achetadomesticus_poland_psz_20140510_22.00h_3498_edit1@conv_LX48L_s_fat Plate.flac',\n",
       " 'Achetadomesticus_XC489192-Achetadomesticus_poland_psz_20140510_22.00h_3498_edit1@conv_LX48L_x_Sm RHall+Stg.flac',\n",
       " 'Achetadomesticus_XC489192-Achetadomesticus_poland_psz_20140510_22.00h_3498_edit1@conv_LX48L_s_Medium Hall+Stage.flac',\n",
       " 'Achetadomesticus_XC489192-Achetadomesticus_poland_psz_20140510_22.00h_3498_edit1@conv_LX48L_m_Gold Hall.flac',\n",
       " 'Achetadomesticus_XC489192-Achetadomesticus_poland_psz_20140510_22.00h_3498_edit1@conv_LX48L_s_Drums Plate.flac',\n",
       " 'Achetadomesticus_XC489192-Achetadomesticus_poland_psz_20140510_22.00h_3498_edit1@conv_LX48L_s_Bright Hall.flac',\n",
       " 'Achetadomesticus_XC489192-Achetadomesticus_poland_psz_20140510_22.00h_3498_edit1@conv_LX48L_m_Reflex Hall.flac',\n",
       " 'Achetadomesticus_XC489192-Achetadomesticus_poland_psz_20140510_22.00h_3498_edit1@conv_LX48L_m_A Plate.flac',\n",
       " 'Achetadomesticus_XC489192-Achetadomesticus_poland_psz_20140510_22.00h_3498_edit1@conv_LX48L_m_Wet+Tacky.flac',\n",
       " 'Achetadomesticus_XC489192-Achetadomesticus_poland_psz_20140510_22.00h_3498_edit1@conv_LX48L_x_Bathroom.flac',\n",
       " 'Achetadomesticus_XC489192-Achetadomesticus_poland_psz_20140510_22.00h_3498_edit1@conv_LX48L_s_Thin Plate.flac',\n",
       " 'Achetadomesticus_XC489192-Achetadomesticus_poland_psz_20140510_22.00h_3498_edit1@conv_LX48L_s_Announcer.flac',\n",
       " 'Achetadomesticus_XC489192-Achetadomesticus_poland_psz_20140510_22.00h_3498_edit1@conv_LX48L_m_Snare Plate.flac',\n",
       " 'Achetadomesticus_XC489192-Achetadomesticus_poland_psz_20140510_22.00h_3498_edit1@conv_LX48L_s_Small Hall+Stage.flac',\n",
       " 'Achetadomesticus_XC489192-Achetadomesticus_poland_psz_20140510_22.00h_3498_edit1@conv_LX48L_m_Very Small.flac',\n",
       " 'Achetadomesticus_XC489192-Achetadomesticus_poland_psz_20140510_22.00h_3498_edit1@conv_LX48L_m_Concert Hall.flac',\n",
       " 'Achetadomesticus_XC489192-Achetadomesticus_poland_psz_20140510_22.00h_3498_edit1@conv_LX48L_s_Lg Wood Room.flac',\n",
       " 'Achetadomesticus_XC489192-Achetadomesticus_poland_psz_20140510_22.00h_3498_edit1@conv_LX48L_s_Very Lg Amb.flac',\n",
       " 'Achetadomesticus_XC489192-Achetadomesticus_poland_psz_20140510_22.00h_3498_edit1@conv_LX48L_m_Small Plate.flac',\n",
       " 'Achetadomesticus_XC489192-Achetadomesticus_poland_psz_20140510_22.00h_3498_edit1@conv_LX48L_s_Music Club R.flac',\n",
       " 'Achetadomesticus_XC489192-Achetadomesticus_poland_psz_20140510_22.00h_3498_edit1@conv_LX48L_x_SM Ambience.flac',\n",
       " 'Achetadomesticus_XC489192-Achetadomesticus_poland_psz_20140510_22.00h_3498_edit1@conv_LX48L_x_AMB_Hall.flac',\n",
       " 'Achetadomesticus_XC489192-Achetadomesticus_poland_psz_20140510_22.00h_3498_edit1@conv_LX48L_m_Small Random Hall.flac',\n",
       " 'Achetadomesticus_XC489192-Achetadomesticus_poland_psz_20140510_22.00h_3498_edit1@conv_LX48L_m_Vocal Plate.flac',\n",
       " 'Achetadomesticus_XC489192-Achetadomesticus_poland_psz_20140510_22.00h_3498_edit1@conv_LX48L_m_Large Hall+Stage.flac',\n",
       " 'Achetadomesticus_XC489192-Achetadomesticus_poland_psz_20140510_22.00h_3498_edit1@conv_LX48L_m_Silver Plate.flac',\n",
       " 'Achetadomesticus_XC489192-Achetadomesticus_poland_psz_20140510_22.00h_3498_edit1@conv_LX48L_x_Jazz Hall.flac',\n",
       " 'Achetadomesticus_XC489192-Achetadomesticus_poland_psz_20140510_22.00h_3498_edit1@conv_LX48L_x_Chorous Room.flac',\n",
       " 'Achetadomesticus_XC489192-Achetadomesticus_poland_psz_20140510_22.00h_3498_edit1@conv_LX48L_s_Large RChrch.flac',\n",
       " 'Achetadomesticus_XC489192-Achetadomesticus_poland_psz_20140510_22.00h_3498_edit1@conv_LX48L_s_Large Random Hall.flac',\n",
       " 'Achetadomesticus_XC489192-Achetadomesticus_poland_psz_20140510_22.00h_3498_edit1@conv_LX48L_m_Warehouse.flac',\n",
       " 'Achetadomesticus_XC489192-Achetadomesticus_poland_psz_20140510_22.00h_3498_edit1@conv_LX48L_s_Heavy AMB.flac',\n",
       " 'Achetadomesticus_XC489192-Achetadomesticus_poland_psz_20140510_22.00h_3498_edit1@conv_LX48L_x_Olivers Well.flac',\n",
       " 'Achetadomesticus_XC489192-Achetadomesticus_poland_psz_20140510_22.00h_3498_edit1@conv_LX48L_m_Medium Random Hall.flac',\n",
       " 'Achetadomesticus_XC489192-Achetadomesticus_poland_psz_20140510_22.00h_3498_edit1@conv_LX48L_x_Small Foley.flac',\n",
       " 'Achetadomesticus_XC489192-Achetadomesticus_poland_psz_20140510_22.00h_3498_edit1@conv_LX48L_x_Large Room.flac',\n",
       " 'Achetadomesticus_XC489192-Achetadomesticus_poland_psz_20140510_22.00h_3498_edit1@conv_LX48L_x_Large Church.flac',\n",
       " 'Achetadomesticus_XC489192-Achetadomesticus_poland_psz_20140510_22.00h_3498_edit1@conv_LX48L_m_Small RChrch.flac',\n",
       " 'Achetadomesticus_XC489192-Achetadomesticus_poland_psz_20140510_22.00h_3498_edit1@conv_LX48L_m_Dark Hall.flac',\n",
       " 'Achetadomesticus_XC489192-Achetadomesticus_poland_psz_20140510_22.00h_3498_edit1@conv_LX48L_s_Horn plate.flac',\n",
       " 'Achetadomesticus_XC489192-Achetadomesticus_poland_psz_20140510_22.00h_3498_edit1@conv_LX48L_s_Strong AMB.flac',\n",
       " 'Achetadomesticus_XC489192-Achetadomesticus_poland_psz_20140510_22.00h_3498_edit1@conv_LX48L_s_Guitar Hall.flac',\n",
       " 'Achetadomesticus_XC489192-Achetadomesticus_poland_psz_20140510_22.00h_3498_edit1@conv_LX48L_m_Vox Plate.flac',\n",
       " 'Achetadomesticus_XC489192-Achetadomesticus_poland_psz_20140510_22.00h_3498_edit1@conv_LX48L_s_Sm+Bright R.flac',\n",
       " 'Achetadomesticus_XC489192-Achetadomesticus_poland_psz_20140510_22.00h_3498_edit1@conv_LX48L_m_Sm Wood Room.flac',\n",
       " 'Achetadomesticus_XC489192-Achetadomesticus_poland_psz_20140510_22.00h_3498_edit1@conv_LX48L_x_Silver Plate.flac',\n",
       " 'Achetadomesticus_XC489192-Achetadomesticus_poland_psz_20140510_22.00h_3498_edit1@conv_LX48L_m_Kitchen AMB.flac',\n",
       " 'Achetadomesticus_XC489192-Achetadomesticus_poland_psz_20140510_22.00h_3498_edit1@conv_LX48L_m_small Church.flac',\n",
       " 'Achetadomesticus_XC489192-Achetadomesticus_poland_psz_20140510_22.00h_3498_edit1@conv_LX48L_s_AMB_Hall.flac',\n",
       " 'Achetadomesticus_XC489192-Achetadomesticus_poland_psz_20140510_22.00h_3498_edit1@conv_LX48L_s_Jazz Hall.flac',\n",
       " 'Achetadomesticus_XC489192-Achetadomesticus_poland_psz_20140510_22.00h_3498_edit1@conv_LX48L_x_Small Random Hall.flac',\n",
       " 'Achetadomesticus_XC489192-Achetadomesticus_poland_psz_20140510_22.00h_3498_edit1@conv_LX48L_x_Vocal Plate.flac',\n",
       " 'Achetadomesticus_XC489192-Achetadomesticus_poland_psz_20140510_22.00h_3498_edit1@conv_LX48L_m_Large Chamb.flac',\n",
       " 'Achetadomesticus_XC489192-Achetadomesticus_poland_psz_20140510_22.00h_3498_edit1@conv_LX48L_m_Living Room.flac',\n",
       " 'Achetadomesticus_XC489192-Achetadomesticus_poland_psz_20140510_22.00h_3498_edit1@conv_LX48L_x_Large Hall+Stage.flac',\n",
       " 'Achetadomesticus_XC489192-Achetadomesticus_poland_psz_20140510_22.00h_3498_edit1@conv_LX48L_m_Short Plate.flac',\n",
       " 'Achetadomesticus_XC489192-Achetadomesticus_poland_psz_20140510_22.00h_3498_edit1@conv_LX48L_s_Chorous Room.flac',\n",
       " 'Achetadomesticus_XC489192-Achetadomesticus_poland_psz_20140510_22.00h_3498_edit1@conv_LX48L_s_Large Church.flac',\n",
       " 'Achetadomesticus_XC489192-Achetadomesticus_poland_psz_20140510_22.00h_3498_edit1@conv_LX48L_s_Large Room.flac',\n",
       " 'Achetadomesticus_XC489192-Achetadomesticus_poland_psz_20140510_22.00h_3498_edit1@conv_LX48L_s_Olivers Well.flac',\n",
       " 'Achetadomesticus_XC489192-Achetadomesticus_poland_psz_20140510_22.00h_3498_edit1@conv_LX48L_m_Kellars Cell.flac',\n",
       " 'Achetadomesticus_XC489192-Achetadomesticus_poland_psz_20140510_22.00h_3498_edit1@conv_LX48L_m_Medium Room.flac',\n",
       " 'Achetadomesticus_XC489192-Achetadomesticus_poland_psz_20140510_22.00h_3498_edit1@conv_LX48L_x_Warehouse.flac',\n",
       " 'Achetadomesticus_XC489192-Achetadomesticus_poland_psz_20140510_22.00h_3498_edit1@conv_LX48L_m_Airhead.flac',\n",
       " 'Achetadomesticus_XC489192-Achetadomesticus_poland_psz_20140510_22.00h_3498_edit1@conv_LX48L_x_Small RChrch.flac',\n",
       " 'Achetadomesticus_XC489192-Achetadomesticus_poland_psz_20140510_22.00h_3498_edit1@conv_LX48L_x_Vox Plate.flac',\n",
       " 'Achetadomesticus_XC489192-Achetadomesticus_poland_psz_20140510_22.00h_3498_edit1@conv_LX48L_x_Medium Random Hall.flac',\n",
       " 'Achetadomesticus_XC489192-Achetadomesticus_poland_psz_20140510_22.00h_3498_edit1@conv_LX48L_s_Small Foley.flac',\n",
       " 'Achetadomesticus_XC489192-Achetadomesticus_poland_psz_20140510_22.00h_3498_edit1@conv_LX48L_x_Dark Hall.flac',\n",
       " 'Achetadomesticus_XC489192-Achetadomesticus_poland_psz_20140510_22.00h_3498_edit1@conv_LX48L_x_Snare Plate.flac',\n",
       " 'Achetadomesticus_XC489192-Achetadomesticus_poland_psz_20140510_22.00h_3498_edit1@conv_LX48L_x_Concert Hall.flac',\n",
       " 'Achetadomesticus_XC489192-Achetadomesticus_poland_psz_20140510_22.00h_3498_edit1@conv_LX48L_x_Very Small.flac',\n",
       " 'Achetadomesticus_XC489192-Achetadomesticus_poland_psz_20140510_22.00h_3498_edit1@conv_LX48L_m_Med Ambience.flac',\n",
       " 'Achetadomesticus_XC489192-Achetadomesticus_poland_psz_20140510_22.00h_3498_edit1@conv_LX48L_s_SM Ambience.flac',\n",
       " 'Achetadomesticus_XC489192-Achetadomesticus_poland_psz_20140510_22.00h_3498_edit1@conv_LX48L_m_Large Room R.flac',\n",
       " 'Achetadomesticus_XC489192-Achetadomesticus_poland_psz_20140510_22.00h_3498_edit1@conv_LX48L_m_Closet.flac',\n",
       " 'Achetadomesticus_XC489192-Achetadomesticus_poland_psz_20140510_22.00h_3498_edit1@conv_LX48L_x_Small Plate.flac',\n",
       " 'Achetadomesticus_XC489192-Achetadomesticus_poland_psz_20140510_22.00h_3498_edit1@conv_LX48L_m_Small Hall.flac',\n",
       " 'Achetadomesticus_XC489192-Achetadomesticus_poland_psz_20140510_22.00h_3498_edit1@conv_LX48L_s_Bathroom.flac',\n",
       " 'Achetadomesticus_XC489192-Achetadomesticus_poland_psz_20140510_22.00h_3498_edit1@conv_LX48L_x_Music club.flac',\n",
       " 'Achetadomesticus_XC489192-Achetadomesticus_poland_psz_20140510_22.00h_3498_edit1@conv_LX48L_m_Guitar Plate.flac',\n",
       " 'Achetadomesticus_XC489192-Achetadomesticus_poland_psz_20140510_22.00h_3498_edit1@conv_LX48L_x_Wet+Tacky.flac',\n",
       " 'Achetadomesticus_XC489192-Achetadomesticus_poland_psz_20140510_22.00h_3498_edit1@conv_LX48L_m_Jazz RHall.flac',\n",
       " 'Achetadomesticus_XC489192-Achetadomesticus_poland_psz_20140510_22.00h_3498_edit1@conv_LX48L_x_A Plate.flac',\n",
       " 'Achetadomesticus_XC489192-Achetadomesticus_poland_psz_20140510_22.00h_3498_edit1@conv_LX48L_m_Car Interior.flac',\n",
       " 'Achetadomesticus_XC489192-Achetadomesticus_poland_psz_20140510_22.00h_3498_edit1@conv_LX48L_x_Medum Room R.flac',\n",
       " 'Achetadomesticus_XC489192-Achetadomesticus_poland_psz_20140510_22.00h_3498_edit1@conv_LX48L_s_Sm RHall+Stg.flac',\n",
       " 'Achetadomesticus_XC489192-Achetadomesticus_poland_psz_20140510_22.00h_3498_edit1@conv_LX48L_x_Reflex Hall.flac',\n",
       " 'Achetadomesticus_XC489192-Achetadomesticus_poland_psz_20140510_22.00h_3498_edit1@conv_LX48L_x_Gold Hall.flac',\n",
       " 'Achetadomesticus_XC489192-Achetadomesticus_poland_psz_20140510_22.00h_3498_edit1@conv_LX48L_x_LG Ambience.flac',\n",
       " 'Achetadomesticus_XC489192-Achetadomesticus_poland_psz_20140510_22.00h_3498_edit1@conv_LX48L_m_Medium Hall.flac',\n",
       " 'Achetadomesticus_XC489192-Achetadomesticus_poland_psz_20140510_22.00h_3498_edit1@conv_LX48L_s_Large Hall.flac',\n",
       " 'Achetadomesticus_XC489192-Achetadomesticus_poland_psz_20140510_22.00h_3498_edit1@conv_LX48L_x_Auto Park.flac',\n",
       " 'Achetadomesticus_XC489192-Achetadomesticus_poland_psz_20140510_22.00h_3498_edit1@conv_LX48L_x_Heavy AMB.flac',\n",
       " 'Achetadomesticus_XC489192-Achetadomesticus_poland_psz_20140510_22.00h_3498_edit1@conv_LX48L_x_Large Random Hall.flac',\n",
       " 'Achetadomesticus_XC489192-Achetadomesticus_poland_psz_20140510_22.00h_3498_edit1@conv_LX48L_m_Large Church.flac',\n",
       " 'Achetadomesticus_XC489192-Achetadomesticus_poland_psz_20140510_22.00h_3498_edit1@conv_LX48L_x_Strong AMB.flac',\n",
       " 'Achetadomesticus_XC489192-Achetadomesticus_poland_psz_20140510_22.00h_3498_edit1@conv_LX48L_x_Horn plate.flac',\n",
       " 'Achetadomesticus_XC489192-Achetadomesticus_poland_psz_20140510_22.00h_3498_edit1@conv_LX48L_m_Large Room.flac',\n",
       " 'Achetadomesticus_XC489192-Achetadomesticus_poland_psz_20140510_22.00h_3498_edit1@conv_LX48L_s_Medium Hall.flac',\n",
       " 'Achetadomesticus_XC489192-Achetadomesticus_poland_psz_20140510_22.00h_3498_edit1@conv_LX48L_m_Olivers Well.flac',\n",
       " 'Achetadomesticus_XC489192-Achetadomesticus_poland_psz_20140510_22.00h_3498_edit1@conv_LX48L_m_Small Foley.flac',\n",
       " 'Achetadomesticus_XC489192-Achetadomesticus_poland_psz_20140510_22.00h_3498_edit1@conv_LX48L_s_Guitar Plate.flac',\n",
       " 'Achetadomesticus_XC489192-Achetadomesticus_poland_psz_20140510_22.00h_3498_edit1@conv_LX48L_x_Guitar Hall.flac',\n",
       " 'Achetadomesticus_XC489192-Achetadomesticus_poland_psz_20140510_22.00h_3498_edit1@conv_LX48L_x_Sm+Bright R.flac',\n",
       " 'Achetadomesticus_XC489192-Achetadomesticus_poland_psz_20140510_22.00h_3498_edit1@conv_LX48L_s_Jazz RHall.flac',\n",
       " 'Achetadomesticus_XC489192-Achetadomesticus_poland_psz_20140510_22.00h_3498_edit1@conv_LX48L_s_Car Interior.flac',\n",
       " 'Achetadomesticus_XC489192-Achetadomesticus_poland_psz_20140510_22.00h_3498_edit1@conv_LX48L_m_Chorous Room.flac',\n",
       " 'Achetadomesticus_XC489192-Achetadomesticus_poland_psz_20140510_22.00h_3498_edit1@conv_LX48L_s_Med Ambience.flac',\n",
       " 'Achetadomesticus_XC489192-Achetadomesticus_poland_psz_20140510_22.00h_3498_edit1@conv_LX48L_x_Large RChrch.flac',\n",
       " 'Achetadomesticus_XC489192-Achetadomesticus_poland_psz_20140510_22.00h_3498_edit1@conv_LX48L_m_AMB_Hall.flac',\n",
       " 'Achetadomesticus_XC489192-Achetadomesticus_poland_psz_20140510_22.00h_3498_edit1@conv_LX48L_s_Large Room R.flac',\n",
       " 'Achetadomesticus_XC489192-Achetadomesticus_poland_psz_20140510_22.00h_3498_edit1@conv_LX48L_s_Closet.flac',\n",
       " 'Achetadomesticus_XC489192-Achetadomesticus_poland_psz_20140510_22.00h_3498_edit1@conv_LX48L_s_Small Hall.flac',\n",
       " 'Achetadomesticus_XC489192-Achetadomesticus_poland_psz_20140510_22.00h_3498_edit1@conv_LX48L_m_Jazz Hall.flac',\n",
       " 'Achetadomesticus_XC489192-Achetadomesticus_poland_psz_20140510_22.00h_3498_edit1@conv_LX48L_s_Sm Wood Room.flac',\n",
       " 'Achetadomesticus_XC489192-Achetadomesticus_poland_psz_20140510_22.00h_3498_edit1@conv_LX48L_x_Bright Hall.flac',\n",
       " 'Achetadomesticus_XC489192-Achetadomesticus_poland_psz_20140510_22.00h_3498_edit1@conv_LX48L_m_Bathroom.flac',\n",
       " 'Achetadomesticus_XC489192-Achetadomesticus_poland_psz_20140510_22.00h_3498_edit1@conv_LX48L_x_Medium Hall+Stage.flac',\n",
       " 'Achetadomesticus_XC489192-Achetadomesticus_poland_psz_20140510_22.00h_3498_edit1@conv_LX48L_s_Large Chamb.flac',\n",
       " 'Achetadomesticus_XC489192-Achetadomesticus_poland_psz_20140510_22.00h_3498_edit1@conv_LX48L_s_Kitchen AMB.flac',\n",
       " 'Achetadomesticus_XC489192-Achetadomesticus_poland_psz_20140510_22.00h_3498_edit1@conv_LX48L_m_Sm RHall+Stg.flac',\n",
       " 'Achetadomesticus_XC489192-Achetadomesticus_poland_psz_20140510_22.00h_3498_edit1@conv_LX48L_x_Drums Plate.flac',\n",
       " 'Achetadomesticus_XC489192-Achetadomesticus_poland_psz_20140510_22.00h_3498_edit1@conv_LX48L_s_small Church.flac',\n",
       " 'Achetadomesticus_XC489192-Achetadomesticus_poland_psz_20140510_22.00h_3498_edit1@conv_LX48L_x_Large Plate.flac',\n",
       " 'Achetadomesticus_XC489192-Achetadomesticus_poland_psz_20140510_22.00h_3498_edit1@conv_LX48L_x_fat Plate.flac',\n",
       " 'Achetadomesticus_XC489192-Achetadomesticus_poland_psz_20140510_22.00h_3498_edit1@conv_LX48L_s_Short Plate.flac',\n",
       " 'Achetadomesticus_XC489192-Achetadomesticus_poland_psz_20140510_22.00h_3498_edit1@conv_LX48L_m_Large Hall.flac',\n",
       " 'Achetadomesticus_XC489192-Achetadomesticus_poland_psz_20140510_22.00h_3498_edit1@conv_LX48L_s_Living Room.flac',\n",
       " 'Achetadomesticus_XC489192-Achetadomesticus_poland_psz_20140510_22.00h_3498_edit1@conv_LX48L_x_Thin Plate.flac',\n",
       " 'Achetadomesticus_XC489192-Achetadomesticus_poland_psz_20140510_22.00h_3498_edit1@conv_LX48L_x_Small Hall+Stage.flac',\n",
       " 'Achetadomesticus_XC489192-Achetadomesticus_poland_psz_20140510_22.00h_3498_edit1@conv_LX48L_s_Medium Room.flac',\n",
       " 'Achetadomesticus_XC489192-Achetadomesticus_poland_psz_20140510_22.00h_3498_edit1@conv_Lx48L_x_Very Lg Amb.flac',\n",
       " 'Achetadomesticus_XC489192-Achetadomesticus_poland_psz_20140510_22.00h_3498_edit1@conv_LX48L_s_Kellars Cell.flac',\n",
       " 'Achetadomesticus_XC489192-Achetadomesticus_poland_psz_20140510_22.00h_3498_edit1@conv_LX48L_x_Music Club R.flac',\n",
       " 'Achetadomesticus_XC489192-Achetadomesticus_poland_psz_20140510_22.00h_3498_edit1@conv_LX48L_m_SM Ambience.flac',\n",
       " 'Achetadomesticus_XC489192-Achetadomesticus_poland_psz_20140510_22.00h_3498_edit1@conv_LX48L_x_Lg Wood Room.flac',\n",
       " 'Achetadomesticus_XC489192-Achetadomesticus_poland_psz_20140510_22.00h_3498_edit1@conv_LX48L_s_Airhead.flac',\n",
       " 'Achetadomesticus_XC489192-Achetadomesticus_poland_psz_20140510_22.00h_3498_edit1@conv_LX48L_x_Announcer.flac',\n",
       " 'Achetadomesticus_XC489192-Achetadomesticus_poland_psz_20140510_22.00h_3498_edit1@conv_Synthetic_m_Rotor.flac',\n",
       " 'Achetadomesticus_XC489192-Achetadomesticus_poland_psz_20140510_22.00h_3498_edit1@conv_Synthetic_x_Narrow Hallway.flac',\n",
       " 'Achetadomesticus_XC489192-Achetadomesticus_poland_psz_20140510_22.00h_3498_edit1@conv_Synthetic_x_Grain Rain.flac',\n",
       " 'Achetadomesticus_XC489192-Achetadomesticus_poland_psz_20140510_22.00h_3498_edit1@conv_Synthetic_s_Virtual Theater.flac',\n",
       " 'Achetadomesticus_XC489192-Achetadomesticus_poland_psz_20140510_22.00h_3498_edit1@conv_Synthetic_x_Hall Of Fame.flac',\n",
       " 'Achetadomesticus_XC489192-Achetadomesticus_poland_psz_20140510_22.00h_3498_edit1@conv_Synthetic_x_My Grain.flac',\n",
       " 'Achetadomesticus_XC489192-Achetadomesticus_poland_psz_20140510_22.00h_3498_edit1@conv_Synthetic_x_Silky Hall.flac',\n",
       " 'Achetadomesticus_XC489192-Achetadomesticus_poland_psz_20140510_22.00h_3498_edit1@conv_Synthetic_x_Cresent Hall.flac',\n",
       " 'Achetadomesticus_XC489192-Achetadomesticus_poland_psz_20140510_22.00h_3498_edit1@conv_Synthetic_x_Gated.flac',\n",
       " 'Achetadomesticus_XC489192-Achetadomesticus_poland_psz_20140510_22.00h_3498_edit1@conv_Synthetic_s_Rotor.flac',\n",
       " 'Achetadomesticus_XC489192-Achetadomesticus_poland_psz_20140510_22.00h_3498_edit1@conv_Synthetic_m_Virtual Theater.flac',\n",
       " 'Achetadomesticus_XC489192-Achetadomesticus_poland_psz_20140510_22.00h_3498_edit1@conv_Synthetic_m_My Grain.flac',\n",
       " 'Achetadomesticus_XC489192-Achetadomesticus_poland_psz_20140510_22.00h_3498_edit1@conv_Synthetic_x_Virtual Theater.flac',\n",
       " 'Achetadomesticus_XC489192-Achetadomesticus_poland_psz_20140510_22.00h_3498_edit1@conv_Synthetic_m_Hall Of Fame.flac',\n",
       " 'Achetadomesticus_XC489192-Achetadomesticus_poland_psz_20140510_22.00h_3498_edit1@conv_Synthetic_s_Gated.flac',\n",
       " 'Achetadomesticus_XC489192-Achetadomesticus_poland_psz_20140510_22.00h_3498_edit1@conv_Synthetic_s_Cresent Hall.flac',\n",
       " 'Achetadomesticus_XC489192-Achetadomesticus_poland_psz_20140510_22.00h_3498_edit1@conv_Synthetic_m_Grain Rain.flac',\n",
       " 'Achetadomesticus_XC489192-Achetadomesticus_poland_psz_20140510_22.00h_3498_edit1@conv_Synthetic_m_Narrow Hallway.flac',\n",
       " 'Achetadomesticus_XC489192-Achetadomesticus_poland_psz_20140510_22.00h_3498_edit1@conv_Synthetic_s_Silky Hall.flac',\n",
       " 'Achetadomesticus_XC489192-Achetadomesticus_poland_psz_20140510_22.00h_3498_edit1@conv_Synthetic_s_Grain Rain.flac',\n",
       " 'Achetadomesticus_XC489192-Achetadomesticus_poland_psz_20140510_22.00h_3498_edit1@conv_Synthetic_x_Rotor.flac',\n",
       " 'Achetadomesticus_XC489192-Achetadomesticus_poland_psz_20140510_22.00h_3498_edit1@conv_Synthetic_s_Narrow Hallway.flac',\n",
       " 'Achetadomesticus_XC489192-Achetadomesticus_poland_psz_20140510_22.00h_3498_edit1@conv_Synthetic_m_Silky Hall.flac',\n",
       " 'Achetadomesticus_XC489192-Achetadomesticus_poland_psz_20140510_22.00h_3498_edit1@conv_Synthetic_s_My Grain.flac',\n",
       " 'Achetadomesticus_XC489192-Achetadomesticus_poland_psz_20140510_22.00h_3498_edit1@conv_Synthetic_S_Hall Of Fame.flac',\n",
       " 'Achetadomesticus_XC489192-Achetadomesticus_poland_psz_20140510_22.00h_3498_edit1@conv_Synthetic_m_Cresent Hall.flac',\n",
       " 'Achetadomesticus_XC489192-Achetadomesticus_poland_psz_20140510_22.00h_3498_edit1@conv_Synthetic_m_Gated.flac']"
      ]
     },
     "execution_count": 117,
     "metadata": {},
     "output_type": "execute_result"
    }
   ],
   "source": [
    "df_grouped[\"file_name\"].map(lambda x: x.split(\", \"))[0]"
   ]
  },
  {
   "cell_type": "markdown",
   "id": "37103d8d-dd9d-4216-af9d-60d0c8b42e37",
   "metadata": {},
   "source": [
    "## Merge validation with train\n",
    "We need more data for training, and we'll opt for a tiny validation dataset.\n",
    "Then, the downsized validation dataset will undergo all the IR again, to make it bigger. \n",
    "\n",
    "We'll only take one sample per species for validation ds"
   ]
  },
  {
   "cell_type": "code",
   "execution_count": null,
   "id": "51a80d8a-2dfc-46f9-baa6-cf3d077d7054",
   "metadata": {
    "tags": []
   },
   "outputs": [],
   "source": [
    "val_data_source_path = os.path.join(data_source_base, 'val/')"
   ]
  },
  {
   "cell_type": "code",
   "execution_count": 114,
   "id": "419f9e3a-71b2-47b7-b364-ea50770b4f68",
   "metadata": {},
   "outputs": [
    {
     "data": {
      "text/html": [
       "<div>\n",
       "<style scoped>\n",
       "    .dataframe tbody tr th:only-of-type {\n",
       "        vertical-align: middle;\n",
       "    }\n",
       "\n",
       "    .dataframe tbody tr th {\n",
       "        vertical-align: top;\n",
       "    }\n",
       "\n",
       "    .dataframe thead th {\n",
       "        text-align: right;\n",
       "    }\n",
       "</style>\n",
       "<table border=\"1\" class=\"dataframe\">\n",
       "  <thead>\n",
       "    <tr style=\"text-align: right;\">\n",
       "      <th></th>\n",
       "      <th>original_filename</th>\n",
       "      <th>file_name</th>\n",
       "      <th>label</th>\n",
       "    </tr>\n",
       "  </thead>\n",
       "  <tbody>\n",
       "    <tr>\n",
       "      <th>0</th>\n",
       "      <td>Achetadomesticus_XC489192-Achetadomesticus_pol...</td>\n",
       "      <td>Achetadomesticus_XC489192-Achetadomesticus_pol...</td>\n",
       "      <td>0</td>\n",
       "    </tr>\n",
       "    <tr>\n",
       "      <th>1</th>\n",
       "      <td>Achetadomesticus_XC489192-Achetadomesticus_pol...</td>\n",
       "      <td>Achetadomesticus_XC489192-Achetadomesticus_pol...</td>\n",
       "      <td>0</td>\n",
       "    </tr>\n",
       "    <tr>\n",
       "      <th>2</th>\n",
       "      <td>Achetadomesticus_XC489193-Achetadomesticus_pol...</td>\n",
       "      <td>Achetadomesticus_XC489193-Achetadomesticus_pol...</td>\n",
       "      <td>0</td>\n",
       "    </tr>\n",
       "    <tr>\n",
       "      <th>3</th>\n",
       "      <td>Achetadomesticus_XC751735-dat001-056.wav</td>\n",
       "      <td>Achetadomesticus_XC751735-dat001-056@conv_Barr...</td>\n",
       "      <td>0</td>\n",
       "    </tr>\n",
       "    <tr>\n",
       "      <th>4</th>\n",
       "      <td>Achetadomesticus_XC751738-dat004-038.wav</td>\n",
       "      <td>Achetadomesticus_XC751738-dat004-038@conv_Barr...</td>\n",
       "      <td>0</td>\n",
       "    </tr>\n",
       "    <tr>\n",
       "      <th>...</th>\n",
       "      <td>...</td>\n",
       "      <td>...</td>\n",
       "      <td>...</td>\n",
       "    </tr>\n",
       "    <tr>\n",
       "      <th>1747</th>\n",
       "      <td>Yoyettarepetens_GBIF2901727728_IN62757977_1431...</td>\n",
       "      <td>Yoyettarepetens_GBIF2901727728_IN62757977_1431...</td>\n",
       "      <td>65</td>\n",
       "    </tr>\n",
       "    <tr>\n",
       "      <th>1748</th>\n",
       "      <td>Yoyettarepetens_GBIF2980855819_IN63945649_1462...</td>\n",
       "      <td>Yoyettarepetens_GBIF2980855819_IN63945649_1462...</td>\n",
       "      <td>65</td>\n",
       "    </tr>\n",
       "    <tr>\n",
       "      <th>1749</th>\n",
       "      <td>Yoyettarepetens_GBIF2984406883_IN64632242_1480...</td>\n",
       "      <td>Yoyettarepetens_GBIF2984406883_IN64632242_1480...</td>\n",
       "      <td>65</td>\n",
       "    </tr>\n",
       "    <tr>\n",
       "      <th>1750</th>\n",
       "      <td>Yoyettarepetens_GBIF2984556076_IN64757137_1483...</td>\n",
       "      <td>Yoyettarepetens_GBIF2984556076_IN64757137_1483...</td>\n",
       "      <td>65</td>\n",
       "    </tr>\n",
       "    <tr>\n",
       "      <th>1751</th>\n",
       "      <td>Yoyettarepetens_GBIF2992814914_IN65913231_1517...</td>\n",
       "      <td>Yoyettarepetens_GBIF2992814914_IN65913231_1517...</td>\n",
       "      <td>65</td>\n",
       "    </tr>\n",
       "  </tbody>\n",
       "</table>\n",
       "<p>1752 rows × 3 columns</p>\n",
       "</div>"
      ],
      "text/plain": [
       "                                      original_filename   \n",
       "0     Achetadomesticus_XC489192-Achetadomesticus_pol...  \\\n",
       "1     Achetadomesticus_XC489192-Achetadomesticus_pol...   \n",
       "2     Achetadomesticus_XC489193-Achetadomesticus_pol...   \n",
       "3              Achetadomesticus_XC751735-dat001-056.wav   \n",
       "4              Achetadomesticus_XC751738-dat004-038.wav   \n",
       "...                                                 ...   \n",
       "1747  Yoyettarepetens_GBIF2901727728_IN62757977_1431...   \n",
       "1748  Yoyettarepetens_GBIF2980855819_IN63945649_1462...   \n",
       "1749  Yoyettarepetens_GBIF2984406883_IN64632242_1480...   \n",
       "1750  Yoyettarepetens_GBIF2984556076_IN64757137_1483...   \n",
       "1751  Yoyettarepetens_GBIF2992814914_IN65913231_1517...   \n",
       "\n",
       "                                              file_name  label  \n",
       "0     Achetadomesticus_XC489192-Achetadomesticus_pol...      0  \n",
       "1     Achetadomesticus_XC489192-Achetadomesticus_pol...      0  \n",
       "2     Achetadomesticus_XC489193-Achetadomesticus_pol...      0  \n",
       "3     Achetadomesticus_XC751735-dat001-056@conv_Barr...      0  \n",
       "4     Achetadomesticus_XC751738-dat004-038@conv_Barr...      0  \n",
       "...                                                 ...    ...  \n",
       "1747  Yoyettarepetens_GBIF2901727728_IN62757977_1431...     65  \n",
       "1748  Yoyettarepetens_GBIF2980855819_IN63945649_1462...     65  \n",
       "1749  Yoyettarepetens_GBIF2984406883_IN64632242_1480...     65  \n",
       "1750  Yoyettarepetens_GBIF2984556076_IN64757137_1483...     65  \n",
       "1751  Yoyettarepetens_GBIF2992814914_IN65913231_1517...     65  \n",
       "\n",
       "[1752 rows x 3 columns]"
      ]
     },
     "execution_count": 114,
     "metadata": {},
     "output_type": "execute_result"
    }
   ],
   "source": [
    "df_grouped"
   ]
  },
  {
   "cell_type": "markdown",
   "id": "cfac2bb6-3d4c-4eb1-8152-12931c72f5c6",
   "metadata": {},
   "source": [
    "## Legacy processing (TO BE REMOVED)"
   ]
  },
  {
   "cell_type": "code",
   "execution_count": 15,
   "id": "2ae7caa1-6a0d-406e-99ca-8a646ea2a470",
   "metadata": {
    "tags": []
   },
   "outputs": [],
   "source": [
    "def split_nsec_chunks(data_point: DataPoint, sampling_rate, n_sec=10):\n",
    "    dpath = data_point.path\n",
    "    data, _ = torchaudio.load(dpath)\n",
    "    name = data_point.name\n",
    "    \n",
    "    \n",
    "    if data.shape[1] <= sampling_rate * n_sec:\n",
    "        raw_name, ext = os.path.splitext(name)\n",
    "        yield data, f\"{raw_name}_1{ext}\", data_point.label\n",
    "        \n",
    "        return\n",
    "    \n",
    "    for i, chunk in enumerate(torch.split(data, n_sec * sampling_rate, dim=1), 1):\n",
    "        raw_name, ext = os.path.splitext(name)\n",
    "        yield chunk, f\"{raw_name}_{i}{ext}\", data_point.label  \n",
    "        \n",
    "        \n",
    "resampler = torchaudio.transforms.Resample(SOURCE_SAMPLING_RATE, MODEL_SAMPLING_RATE)   \n",
    "def resample_wavs(data, fname, processed_dir, sr=MODEL_SAMPLING_RATE, sampler=resampler):\n",
    "        resampled_wav = resampler(data)\n",
    "        torchaudio.save(os.path.join(processed_dir, fname), resampled_wav, sample_rate=MODEL_SAMPLING_RATE)\n",
    "\n",
    "        \n",
    "def make_data_point(data_path):\n",
    "    \"\"\" Assumes that metadata.csv lies along with the .wav files\n",
    "    \"\"\"\n",
    "    metadata = os.path.join(data_path, 'metadata.csv')\n",
    "    df_audio = pd.read_csv(metadata)\n",
    "    \n",
    "    for fname, label in df_audio.itertuples(index=False):\n",
    "        full_path = os.path.join(data_path, fname)\n",
    "        yield DataPoint(path=full_path, label=label, name=fname)\n"
   ]
  },
  {
   "cell_type": "markdown",
   "id": "ffe55db4-4121-4645-9c38-2521024ab4d0",
   "metadata": {},
   "source": [
    "### Create new directories"
   ]
  },
  {
   "cell_type": "code",
   "execution_count": 10,
   "id": "819ce463-f7d6-4d76-bc8e-33583d879d85",
   "metadata": {
    "tags": []
   },
   "outputs": [],
   "source": [
    "os.makedirs(os.path.join(data_processed, 'train/'), exist_ok=True)\n",
    "os.makedirs(os.path.join(data_processed, 'test/'), exist_ok=True)\n",
    "os.makedirs(os.path.join(data_processed, 'val/'), exist_ok=True)"
   ]
  },
  {
   "cell_type": "markdown",
   "id": "5fa7d383-5817-4433-b3c1-500b0240f25f",
   "metadata": {},
   "source": [
    "## Split files and append to metadata file\n",
    "\n",
    "`tqdm` is really buggy. it seems to work for the first run, but doesn't run for a second iteration, unless variable names change. Therefore outcommented "
   ]
  },
  {
   "cell_type": "code",
   "execution_count": 11,
   "id": "5f141c1f-88cc-414a-92ea-65e2efc52621",
   "metadata": {
    "tags": []
   },
   "outputs": [],
   "source": [
    "def preprocess_files(store_at, source_metadata_path):\n",
    "    '''\n",
    "    Moved to function. Need to reconsider how test dataset gets handled.\n",
    "    Also REALLY want to get tdqm to work....DONE\n",
    "    '''\n",
    "\n",
    "    #(Re)create CSV file with headers\n",
    "    with open(store_at + 'metadata.csv', 'w') as f_object:\n",
    "        writer_object = writer(f_object)\n",
    "        writer_object.writerow(['file_name', 'label'])\n",
    "        f_object.close()\n",
    "    \n",
    "    # GSK: Would love to have this snippet running, but too inconsistent.\n",
    "    #main_iterable_v234 = chain.from_iterable(map(split_nsec_chunks, make_data_point(_data, max_num=_max_num), repeat([SOURCE_SAMPLING_RATE])))\n",
    "    #total_len = sum(1 for _ in main_iterable_v234)\n",
    "    #print(total_len)\n",
    "    #for data, fname, label in tqdm.tqdm(main_iterable_v234):#, total = total_len):\n",
    "    for data, fname, label in tqdm.tqdm((map(split_nsec_chunks, make_data_point(source_metadata_path), repeat(SOURCE_SAMPLING_RATE)))):\n",
    "        # Resample and save .wav\n",
    "        resample_wavs(data, fname, store_at)\n",
    "                \n",
    "        # Write to CSV\n",
    "        with open(store_at + 'metadata.csv', 'a') as f_object:\n",
    "            writer_object = writer(f_object)\n",
    "            writer_object.writerow([fname, label])\n",
    "            f_object.close()"
   ]
  },
  {
   "cell_type": "code",
   "execution_count": 12,
   "id": "03bb95c8-bf19-4b4e-a8fc-486663e3689d",
   "metadata": {
    "tags": []
   },
   "outputs": [
    {
     "name": "stdout",
     "output_type": "stream",
     "text": [
      "----------------------------\n",
      "processing up to 10 files in /root/data/data_processed/train/\n",
      "----------------------------\n"
     ]
    },
    {
     "name": "stderr",
     "output_type": "stream",
     "text": [
      "6479it [08:18, 12.98it/s]\n"
     ]
    },
    {
     "name": "stdout",
     "output_type": "stream",
     "text": [
      "----------------------------\n",
      "processing up to 10 files in /root/data/data_processed/val/\n",
      "----------------------------\n"
     ]
    },
    {
     "name": "stderr",
     "output_type": "stream",
     "text": [
      "2018it [02:31, 13.36it/s]\n"
     ]
    }
   ],
   "source": [
    "preprocess_files(store_at = os.path.join(data_processed, 'train/'), source_metadata_path = train_data_source_path)\n",
    "preprocess_files(store_at = os.path.join(data_processed, 'val/'), source_metadata_path = val_data_source_path)"
   ]
  },
  {
   "cell_type": "markdown",
   "id": "380f0e4d-162a-4770-b336-519253ff699e",
   "metadata": {
    "tags": []
   },
   "source": [
    "## Split the test dataset\n",
    "Could be added to other methods, but likely requires lots of changes, and this only needs to be done once."
   ]
  },
  {
   "cell_type": "code",
   "execution_count": 57,
   "id": "e57d8e7e-47fe-46a9-9ac3-403b3a347f4f",
   "metadata": {
    "tags": []
   },
   "outputs": [
    {
     "name": "stderr",
     "output_type": "stream",
     "text": [
      "556it [02:09,  4.28it/s]\n"
     ]
    }
   ],
   "source": [
    "n_sec=10\n",
    "\n",
    "# Read in the file locations\n",
    "metadata = os.path.join(test_data_path, 'metadata.csv')\n",
    "df_audio = pd.read_csv(metadata)\n",
    "\n",
    "#(Re)create CSV file with headers\n",
    "with open(os.path.join(data_processed, 'test/') + 'metadata.csv', 'w') as f_object:\n",
    "    writer_object = writer(f_object)\n",
    "    writer_object.writerow(['file_name'])\n",
    "    f_object.close()\n",
    "\n",
    "cnt = 0\n",
    "# Go through each file\n",
    "for fname in tqdm.tqdm(df_audio.itertuples(index=False)):\n",
    "    #print(cnt)\n",
    "    cnt = cnt +1 \n",
    "    # Extract the information\n",
    "    fname = fname[0]\n",
    "    full_path = os.path.join(test_data_path, fname)\n",
    "    data, _ = torchaudio.load(full_path)\n",
    "    \n",
    "    # Chunk it up\n",
    "    for i, chunk in enumerate(torch.split(data, n_sec * SOURCE_SAMPLING_RATE, dim=1), 1):\n",
    "        raw_name, ext = os.path.splitext(fname)\n",
    "        outfile_name = f\"{raw_name}_{i}{ext}\"\n",
    "        resample_wavs(chunk, outfile_name, os.path.join(data_processed, 'test/'), sr=MODEL_SAMPLING_RATE, sampler=resampler)    \n",
    "        \n",
    "        # Write to CSV\n",
    "        with open(os.path.join(data_processed, 'test/') + 'metadata.csv', 'a') as f_object:\n",
    "            writer_object = writer(f_object)\n",
    "            writer_object.writerow([outfile_name])\n",
    "            f_object.close()\n",
    "            \n",
    "#    if cnt > 5:\n",
    "#        break"
   ]
  },
  {
   "cell_type": "code",
   "execution_count": 58,
   "id": "112e0ede-7e84-4e88-b687-ffd44dce2a71",
   "metadata": {},
   "outputs": [],
   "source": [
    "#Audio(full_path, rate = 22000)\n",
    "\n",
    "#Audio(os.path.join(processed_dir, 'test/2_2.wav'), rate=32000)"
   ]
  },
  {
   "cell_type": "markdown",
   "id": "457cf234-ea88-4a4f-a378-dfa611f24874",
   "metadata": {},
   "source": [
    "# Old snippets I didn't want to delete just yet"
   ]
  },
  {
   "cell_type": "raw",
   "id": "fa788df0-0133-49ce-9b27-0ef109906579",
   "metadata": {
    "tags": []
   },
   "source": [
    "Audio(list(split_nsec_chunks(DataPoint(props=train_data[1411]['audio'], label=train_data[1411]['label']), SOURCE_SAMPLING_RATE))[10][0], rate=SOURCE_SAMPLING_RATE)"
   ]
  },
  {
   "cell_type": "code",
   "execution_count": null,
   "id": "586696f8-c86f-4231-83c9-1b8255114ade",
   "metadata": {
    "tags": []
   },
   "outputs": [],
   "source": []
  },
  {
   "cell_type": "raw",
   "id": "d06f9620-708f-47a1-b281-5b056222ada5",
   "metadata": {
    "tags": []
   },
   "source": [
    "### Sample to search for is 1411 - it's 1 min long"
   ]
  },
  {
   "cell_type": "raw",
   "id": "9001c504-771e-4142-ae96-804a693b92d5",
   "metadata": {
    "tags": []
   },
   "source": [
    "for i, data in enumerate(train_data):\n",
    "    if os.path.basename(data['audio']['path']) == 'Roeselianaroeselii_XC751814-dat028-019_edit1.wav':\n",
    "        print(i)"
   ]
  },
  {
   "cell_type": "code",
   "execution_count": null,
   "id": "2b5590dd-308b-4ac4-8886-5652a9f806cb",
   "metadata": {},
   "outputs": [],
   "source": []
  },
  {
   "cell_type": "code",
   "execution_count": null,
   "id": "323f37b2-3111-4b77-aab5-61482a9d37dc",
   "metadata": {},
   "outputs": [],
   "source": []
  },
  {
   "cell_type": "code",
   "execution_count": null,
   "id": "790d3b18-877e-421c-b666-1c85429a1c4f",
   "metadata": {},
   "outputs": [],
   "source": []
  },
  {
   "cell_type": "markdown",
   "id": "f419e9ec-3d56-47c6-b7f4-9dd2f56b7cfe",
   "metadata": {},
   "source": [
    "### Backup, because I'm about to break it with TQDM:"
   ]
  },
  {
   "cell_type": "raw",
   "id": "c1484efb-3475-47bb-94ae-b37fb031d1fd",
   "metadata": {
    "tags": []
   },
   "source": [
    "def preprocess_files(_processing_directory, _data, _max_num = 10):\n",
    "    '''\n",
    "    Moved to function. Need to reconsider how test dataset gets handled.\n",
    "    Also REALLY want to get tdqm to work....\n",
    "    '''\n",
    "    # Dummy for development:\n",
    "    print(\"----------------------------\")\n",
    "    print(f\"processing up to {_max_num} files in {_processing_directory}\")\n",
    "    print(\"----------------------------\")\n",
    "    \n",
    "    #(Re)create CSV file with headers\n",
    "    with open(_processing_directory + 'metadata.csv', 'w') as f_object:\n",
    "        writer_object = writer(f_object)\n",
    "        writer_object.writerow(['filename', 'label'])\n",
    "        f_object.close()\n",
    "\n",
    "    # Loop through clips, save as files and append to metadata.csv\n",
    "    cnt = 0\n",
    "    \n",
    "    #for data, fname, label in chain.from_iterable(map(split_nsec_chunks, make_data_point(_data, max_num=_max_num), repeat([SOURCE_SAMPLING_RATE]))):\n",
    "    for data, fname, label in chain.from_iterable(map(split_nsec_chunks, make_data_point(_data, max_num=_max_num), repeat([SOURCE_SAMPLING_RATE]))):\n",
    "        cnt = cnt+1\n",
    "        \n",
    "        # Resample and save .wav\n",
    "        resample_wavs(data, fname, _processing_directory)\n",
    "                \n",
    "        # Write to CSV\n",
    "        with open(_processing_directory + 'metadata.csv', 'a') as f_object:\n",
    "            writer_object = writer(f_object)\n",
    "            writer_object.writerow([fname, label])\n",
    "            f_object.close()\n",
    "            \n",
    "        print(f'{cnt}: {label} - {fname}')"
   ]
  }
 ],
 "metadata": {
  "availableInstances": [
   {
    "_defaultOrder": 0,
    "_isFastLaunch": true,
    "category": "General purpose",
    "gpuNum": 0,
    "hideHardwareSpecs": false,
    "memoryGiB": 4,
    "name": "ml.t3.medium",
    "vcpuNum": 2
   },
   {
    "_defaultOrder": 1,
    "_isFastLaunch": false,
    "category": "General purpose",
    "gpuNum": 0,
    "hideHardwareSpecs": false,
    "memoryGiB": 8,
    "name": "ml.t3.large",
    "vcpuNum": 2
   },
   {
    "_defaultOrder": 2,
    "_isFastLaunch": false,
    "category": "General purpose",
    "gpuNum": 0,
    "hideHardwareSpecs": false,
    "memoryGiB": 16,
    "name": "ml.t3.xlarge",
    "vcpuNum": 4
   },
   {
    "_defaultOrder": 3,
    "_isFastLaunch": false,
    "category": "General purpose",
    "gpuNum": 0,
    "hideHardwareSpecs": false,
    "memoryGiB": 32,
    "name": "ml.t3.2xlarge",
    "vcpuNum": 8
   },
   {
    "_defaultOrder": 4,
    "_isFastLaunch": true,
    "category": "General purpose",
    "gpuNum": 0,
    "hideHardwareSpecs": false,
    "memoryGiB": 8,
    "name": "ml.m5.large",
    "vcpuNum": 2
   },
   {
    "_defaultOrder": 5,
    "_isFastLaunch": false,
    "category": "General purpose",
    "gpuNum": 0,
    "hideHardwareSpecs": false,
    "memoryGiB": 16,
    "name": "ml.m5.xlarge",
    "vcpuNum": 4
   },
   {
    "_defaultOrder": 6,
    "_isFastLaunch": false,
    "category": "General purpose",
    "gpuNum": 0,
    "hideHardwareSpecs": false,
    "memoryGiB": 32,
    "name": "ml.m5.2xlarge",
    "vcpuNum": 8
   },
   {
    "_defaultOrder": 7,
    "_isFastLaunch": false,
    "category": "General purpose",
    "gpuNum": 0,
    "hideHardwareSpecs": false,
    "memoryGiB": 64,
    "name": "ml.m5.4xlarge",
    "vcpuNum": 16
   },
   {
    "_defaultOrder": 8,
    "_isFastLaunch": false,
    "category": "General purpose",
    "gpuNum": 0,
    "hideHardwareSpecs": false,
    "memoryGiB": 128,
    "name": "ml.m5.8xlarge",
    "vcpuNum": 32
   },
   {
    "_defaultOrder": 9,
    "_isFastLaunch": false,
    "category": "General purpose",
    "gpuNum": 0,
    "hideHardwareSpecs": false,
    "memoryGiB": 192,
    "name": "ml.m5.12xlarge",
    "vcpuNum": 48
   },
   {
    "_defaultOrder": 10,
    "_isFastLaunch": false,
    "category": "General purpose",
    "gpuNum": 0,
    "hideHardwareSpecs": false,
    "memoryGiB": 256,
    "name": "ml.m5.16xlarge",
    "vcpuNum": 64
   },
   {
    "_defaultOrder": 11,
    "_isFastLaunch": false,
    "category": "General purpose",
    "gpuNum": 0,
    "hideHardwareSpecs": false,
    "memoryGiB": 384,
    "name": "ml.m5.24xlarge",
    "vcpuNum": 96
   },
   {
    "_defaultOrder": 12,
    "_isFastLaunch": false,
    "category": "General purpose",
    "gpuNum": 0,
    "hideHardwareSpecs": false,
    "memoryGiB": 8,
    "name": "ml.m5d.large",
    "vcpuNum": 2
   },
   {
    "_defaultOrder": 13,
    "_isFastLaunch": false,
    "category": "General purpose",
    "gpuNum": 0,
    "hideHardwareSpecs": false,
    "memoryGiB": 16,
    "name": "ml.m5d.xlarge",
    "vcpuNum": 4
   },
   {
    "_defaultOrder": 14,
    "_isFastLaunch": false,
    "category": "General purpose",
    "gpuNum": 0,
    "hideHardwareSpecs": false,
    "memoryGiB": 32,
    "name": "ml.m5d.2xlarge",
    "vcpuNum": 8
   },
   {
    "_defaultOrder": 15,
    "_isFastLaunch": false,
    "category": "General purpose",
    "gpuNum": 0,
    "hideHardwareSpecs": false,
    "memoryGiB": 64,
    "name": "ml.m5d.4xlarge",
    "vcpuNum": 16
   },
   {
    "_defaultOrder": 16,
    "_isFastLaunch": false,
    "category": "General purpose",
    "gpuNum": 0,
    "hideHardwareSpecs": false,
    "memoryGiB": 128,
    "name": "ml.m5d.8xlarge",
    "vcpuNum": 32
   },
   {
    "_defaultOrder": 17,
    "_isFastLaunch": false,
    "category": "General purpose",
    "gpuNum": 0,
    "hideHardwareSpecs": false,
    "memoryGiB": 192,
    "name": "ml.m5d.12xlarge",
    "vcpuNum": 48
   },
   {
    "_defaultOrder": 18,
    "_isFastLaunch": false,
    "category": "General purpose",
    "gpuNum": 0,
    "hideHardwareSpecs": false,
    "memoryGiB": 256,
    "name": "ml.m5d.16xlarge",
    "vcpuNum": 64
   },
   {
    "_defaultOrder": 19,
    "_isFastLaunch": false,
    "category": "General purpose",
    "gpuNum": 0,
    "hideHardwareSpecs": false,
    "memoryGiB": 384,
    "name": "ml.m5d.24xlarge",
    "vcpuNum": 96
   },
   {
    "_defaultOrder": 20,
    "_isFastLaunch": false,
    "category": "General purpose",
    "gpuNum": 0,
    "hideHardwareSpecs": true,
    "memoryGiB": 0,
    "name": "ml.geospatial.interactive",
    "supportedImageNames": [
     "sagemaker-geospatial-v1-0"
    ],
    "vcpuNum": 0
   },
   {
    "_defaultOrder": 21,
    "_isFastLaunch": true,
    "category": "Compute optimized",
    "gpuNum": 0,
    "hideHardwareSpecs": false,
    "memoryGiB": 4,
    "name": "ml.c5.large",
    "vcpuNum": 2
   },
   {
    "_defaultOrder": 22,
    "_isFastLaunch": false,
    "category": "Compute optimized",
    "gpuNum": 0,
    "hideHardwareSpecs": false,
    "memoryGiB": 8,
    "name": "ml.c5.xlarge",
    "vcpuNum": 4
   },
   {
    "_defaultOrder": 23,
    "_isFastLaunch": false,
    "category": "Compute optimized",
    "gpuNum": 0,
    "hideHardwareSpecs": false,
    "memoryGiB": 16,
    "name": "ml.c5.2xlarge",
    "vcpuNum": 8
   },
   {
    "_defaultOrder": 24,
    "_isFastLaunch": false,
    "category": "Compute optimized",
    "gpuNum": 0,
    "hideHardwareSpecs": false,
    "memoryGiB": 32,
    "name": "ml.c5.4xlarge",
    "vcpuNum": 16
   },
   {
    "_defaultOrder": 25,
    "_isFastLaunch": false,
    "category": "Compute optimized",
    "gpuNum": 0,
    "hideHardwareSpecs": false,
    "memoryGiB": 72,
    "name": "ml.c5.9xlarge",
    "vcpuNum": 36
   },
   {
    "_defaultOrder": 26,
    "_isFastLaunch": false,
    "category": "Compute optimized",
    "gpuNum": 0,
    "hideHardwareSpecs": false,
    "memoryGiB": 96,
    "name": "ml.c5.12xlarge",
    "vcpuNum": 48
   },
   {
    "_defaultOrder": 27,
    "_isFastLaunch": false,
    "category": "Compute optimized",
    "gpuNum": 0,
    "hideHardwareSpecs": false,
    "memoryGiB": 144,
    "name": "ml.c5.18xlarge",
    "vcpuNum": 72
   },
   {
    "_defaultOrder": 28,
    "_isFastLaunch": false,
    "category": "Compute optimized",
    "gpuNum": 0,
    "hideHardwareSpecs": false,
    "memoryGiB": 192,
    "name": "ml.c5.24xlarge",
    "vcpuNum": 96
   },
   {
    "_defaultOrder": 29,
    "_isFastLaunch": true,
    "category": "Accelerated computing",
    "gpuNum": 1,
    "hideHardwareSpecs": false,
    "memoryGiB": 16,
    "name": "ml.g4dn.xlarge",
    "vcpuNum": 4
   },
   {
    "_defaultOrder": 30,
    "_isFastLaunch": false,
    "category": "Accelerated computing",
    "gpuNum": 1,
    "hideHardwareSpecs": false,
    "memoryGiB": 32,
    "name": "ml.g4dn.2xlarge",
    "vcpuNum": 8
   },
   {
    "_defaultOrder": 31,
    "_isFastLaunch": false,
    "category": "Accelerated computing",
    "gpuNum": 1,
    "hideHardwareSpecs": false,
    "memoryGiB": 64,
    "name": "ml.g4dn.4xlarge",
    "vcpuNum": 16
   },
   {
    "_defaultOrder": 32,
    "_isFastLaunch": false,
    "category": "Accelerated computing",
    "gpuNum": 1,
    "hideHardwareSpecs": false,
    "memoryGiB": 128,
    "name": "ml.g4dn.8xlarge",
    "vcpuNum": 32
   },
   {
    "_defaultOrder": 33,
    "_isFastLaunch": false,
    "category": "Accelerated computing",
    "gpuNum": 4,
    "hideHardwareSpecs": false,
    "memoryGiB": 192,
    "name": "ml.g4dn.12xlarge",
    "vcpuNum": 48
   },
   {
    "_defaultOrder": 34,
    "_isFastLaunch": false,
    "category": "Accelerated computing",
    "gpuNum": 1,
    "hideHardwareSpecs": false,
    "memoryGiB": 256,
    "name": "ml.g4dn.16xlarge",
    "vcpuNum": 64
   },
   {
    "_defaultOrder": 35,
    "_isFastLaunch": false,
    "category": "Accelerated computing",
    "gpuNum": 1,
    "hideHardwareSpecs": false,
    "memoryGiB": 61,
    "name": "ml.p3.2xlarge",
    "vcpuNum": 8
   },
   {
    "_defaultOrder": 36,
    "_isFastLaunch": false,
    "category": "Accelerated computing",
    "gpuNum": 4,
    "hideHardwareSpecs": false,
    "memoryGiB": 244,
    "name": "ml.p3.8xlarge",
    "vcpuNum": 32
   },
   {
    "_defaultOrder": 37,
    "_isFastLaunch": false,
    "category": "Accelerated computing",
    "gpuNum": 8,
    "hideHardwareSpecs": false,
    "memoryGiB": 488,
    "name": "ml.p3.16xlarge",
    "vcpuNum": 64
   },
   {
    "_defaultOrder": 38,
    "_isFastLaunch": false,
    "category": "Accelerated computing",
    "gpuNum": 8,
    "hideHardwareSpecs": false,
    "memoryGiB": 768,
    "name": "ml.p3dn.24xlarge",
    "vcpuNum": 96
   },
   {
    "_defaultOrder": 39,
    "_isFastLaunch": false,
    "category": "Memory Optimized",
    "gpuNum": 0,
    "hideHardwareSpecs": false,
    "memoryGiB": 16,
    "name": "ml.r5.large",
    "vcpuNum": 2
   },
   {
    "_defaultOrder": 40,
    "_isFastLaunch": false,
    "category": "Memory Optimized",
    "gpuNum": 0,
    "hideHardwareSpecs": false,
    "memoryGiB": 32,
    "name": "ml.r5.xlarge",
    "vcpuNum": 4
   },
   {
    "_defaultOrder": 41,
    "_isFastLaunch": false,
    "category": "Memory Optimized",
    "gpuNum": 0,
    "hideHardwareSpecs": false,
    "memoryGiB": 64,
    "name": "ml.r5.2xlarge",
    "vcpuNum": 8
   },
   {
    "_defaultOrder": 42,
    "_isFastLaunch": false,
    "category": "Memory Optimized",
    "gpuNum": 0,
    "hideHardwareSpecs": false,
    "memoryGiB": 128,
    "name": "ml.r5.4xlarge",
    "vcpuNum": 16
   },
   {
    "_defaultOrder": 43,
    "_isFastLaunch": false,
    "category": "Memory Optimized",
    "gpuNum": 0,
    "hideHardwareSpecs": false,
    "memoryGiB": 256,
    "name": "ml.r5.8xlarge",
    "vcpuNum": 32
   },
   {
    "_defaultOrder": 44,
    "_isFastLaunch": false,
    "category": "Memory Optimized",
    "gpuNum": 0,
    "hideHardwareSpecs": false,
    "memoryGiB": 384,
    "name": "ml.r5.12xlarge",
    "vcpuNum": 48
   },
   {
    "_defaultOrder": 45,
    "_isFastLaunch": false,
    "category": "Memory Optimized",
    "gpuNum": 0,
    "hideHardwareSpecs": false,
    "memoryGiB": 512,
    "name": "ml.r5.16xlarge",
    "vcpuNum": 64
   },
   {
    "_defaultOrder": 46,
    "_isFastLaunch": false,
    "category": "Memory Optimized",
    "gpuNum": 0,
    "hideHardwareSpecs": false,
    "memoryGiB": 768,
    "name": "ml.r5.24xlarge",
    "vcpuNum": 96
   },
   {
    "_defaultOrder": 47,
    "_isFastLaunch": false,
    "category": "Accelerated computing",
    "gpuNum": 1,
    "hideHardwareSpecs": false,
    "memoryGiB": 16,
    "name": "ml.g5.xlarge",
    "vcpuNum": 4
   },
   {
    "_defaultOrder": 48,
    "_isFastLaunch": false,
    "category": "Accelerated computing",
    "gpuNum": 1,
    "hideHardwareSpecs": false,
    "memoryGiB": 32,
    "name": "ml.g5.2xlarge",
    "vcpuNum": 8
   },
   {
    "_defaultOrder": 49,
    "_isFastLaunch": false,
    "category": "Accelerated computing",
    "gpuNum": 1,
    "hideHardwareSpecs": false,
    "memoryGiB": 64,
    "name": "ml.g5.4xlarge",
    "vcpuNum": 16
   },
   {
    "_defaultOrder": 50,
    "_isFastLaunch": false,
    "category": "Accelerated computing",
    "gpuNum": 1,
    "hideHardwareSpecs": false,
    "memoryGiB": 128,
    "name": "ml.g5.8xlarge",
    "vcpuNum": 32
   },
   {
    "_defaultOrder": 51,
    "_isFastLaunch": false,
    "category": "Accelerated computing",
    "gpuNum": 1,
    "hideHardwareSpecs": false,
    "memoryGiB": 256,
    "name": "ml.g5.16xlarge",
    "vcpuNum": 64
   },
   {
    "_defaultOrder": 52,
    "_isFastLaunch": false,
    "category": "Accelerated computing",
    "gpuNum": 4,
    "hideHardwareSpecs": false,
    "memoryGiB": 192,
    "name": "ml.g5.12xlarge",
    "vcpuNum": 48
   },
   {
    "_defaultOrder": 53,
    "_isFastLaunch": false,
    "category": "Accelerated computing",
    "gpuNum": 4,
    "hideHardwareSpecs": false,
    "memoryGiB": 384,
    "name": "ml.g5.24xlarge",
    "vcpuNum": 96
   },
   {
    "_defaultOrder": 54,
    "_isFastLaunch": false,
    "category": "Accelerated computing",
    "gpuNum": 8,
    "hideHardwareSpecs": false,
    "memoryGiB": 768,
    "name": "ml.g5.48xlarge",
    "vcpuNum": 192
   },
   {
    "_defaultOrder": 55,
    "_isFastLaunch": false,
    "category": "Accelerated computing",
    "gpuNum": 8,
    "hideHardwareSpecs": false,
    "memoryGiB": 1152,
    "name": "ml.p4d.24xlarge",
    "vcpuNum": 96
   },
   {
    "_defaultOrder": 56,
    "_isFastLaunch": false,
    "category": "Accelerated computing",
    "gpuNum": 8,
    "hideHardwareSpecs": false,
    "memoryGiB": 1152,
    "name": "ml.p4de.24xlarge",
    "vcpuNum": 96
   }
  ],
  "instance_type": "ml.t3.medium",
  "kernelspec": {
   "display_name": "GDSC (custom-gdsc/1)",
   "language": "python",
   "name": "python3__SAGEMAKER_INTERNAL__arn:aws:sagemaker:us-east-1:992955421961:image-version/custom-gdsc/1"
  },
  "language_info": {
   "codemirror_mode": {
    "name": "ipython",
    "version": 3
   },
   "file_extension": ".py",
   "mimetype": "text/x-python",
   "name": "python",
   "nbconvert_exporter": "python",
   "pygments_lexer": "ipython3",
   "version": "3.10.8"
  },
  "lcc_arn": "arn:aws:sagemaker:us-east-1:992955421961:studio-lifecycle-config/clean-trash"
 },
 "nbformat": 4,
 "nbformat_minor": 5
}
