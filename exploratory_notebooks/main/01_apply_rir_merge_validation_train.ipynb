{
 "cells": [
  {
   "cell_type": "code",
   "execution_count": 2,
   "id": "839d9d10-e8f2-4dbe-8a7d-42282f428403",
   "metadata": {
    "tags": []
   },
   "outputs": [
    {
     "name": "stdout",
     "output_type": "stream",
     "text": [
      "Collecting torch==2.0.*\n",
      "  Downloading torch-2.0.1-cp310-cp310-manylinux1_x86_64.whl (619.9 MB)\n",
      "\u001b[2K     \u001b[90m━━━━━━━━━━━━━━━━━━━━━━━━━━━━━━━━━━━━━━━\u001b[0m \u001b[32m619.9/619.9 MB\u001b[0m \u001b[31m1.1 MB/s\u001b[0m eta \u001b[36m0:00:00\u001b[0m00:01\u001b[0m00:01\u001b[0m\n",
      "\u001b[?25hRequirement already satisfied: torchaudio in /opt/conda/lib/python3.10/site-packages (0.13.1)\n",
      "Requirement already satisfied: filelock in /opt/conda/lib/python3.10/site-packages (from torch==2.0.*) (3.12.0)\n",
      "Requirement already satisfied: typing-extensions in /opt/conda/lib/python3.10/site-packages (from torch==2.0.*) (4.5.0)\n",
      "Requirement already satisfied: sympy in /opt/conda/lib/python3.10/site-packages (from torch==2.0.*) (1.11.1)\n",
      "Requirement already satisfied: networkx in /opt/conda/lib/python3.10/site-packages (from torch==2.0.*) (3.1)\n",
      "Requirement already satisfied: jinja2 in /opt/conda/lib/python3.10/site-packages (from torch==2.0.*) (3.1.2)\n",
      "Requirement already satisfied: nvidia-cuda-nvrtc-cu11==11.7.99 in /opt/conda/lib/python3.10/site-packages (from torch==2.0.*) (11.7.99)\n",
      "Requirement already satisfied: nvidia-cuda-runtime-cu11==11.7.99 in /opt/conda/lib/python3.10/site-packages (from torch==2.0.*) (11.7.99)\n",
      "Collecting nvidia-cuda-cupti-cu11==11.7.101 (from torch==2.0.*)\n",
      "  Downloading nvidia_cuda_cupti_cu11-11.7.101-py3-none-manylinux1_x86_64.whl (11.8 MB)\n",
      "\u001b[2K     \u001b[90m━━━━━━━━━━━━━━━━━━━━━━━━━━━━━━━━━━━━━━━━\u001b[0m \u001b[32m11.8/11.8 MB\u001b[0m \u001b[31m35.8 MB/s\u001b[0m eta \u001b[36m0:00:00\u001b[0m00:01\u001b[0m00:01\u001b[0m\n",
      "\u001b[?25hRequirement already satisfied: nvidia-cudnn-cu11==8.5.0.96 in /opt/conda/lib/python3.10/site-packages (from torch==2.0.*) (8.5.0.96)\n",
      "Requirement already satisfied: nvidia-cublas-cu11==11.10.3.66 in /opt/conda/lib/python3.10/site-packages (from torch==2.0.*) (11.10.3.66)\n",
      "Collecting nvidia-cufft-cu11==10.9.0.58 (from torch==2.0.*)\n",
      "  Downloading nvidia_cufft_cu11-10.9.0.58-py3-none-manylinux1_x86_64.whl (168.4 MB)\n",
      "\u001b[2K     \u001b[90m━━━━━━━━━━━━━━━━━━━━━━━━━━━━━━━━━━━━━━━\u001b[0m \u001b[32m168.4/168.4 MB\u001b[0m \u001b[31m5.5 MB/s\u001b[0m eta \u001b[36m0:00:00\u001b[0m00:01\u001b[0m00:01\u001b[0m\n",
      "\u001b[?25hCollecting nvidia-curand-cu11==10.2.10.91 (from torch==2.0.*)\n",
      "  Downloading nvidia_curand_cu11-10.2.10.91-py3-none-manylinux1_x86_64.whl (54.6 MB)\n",
      "\u001b[2K     \u001b[90m━━━━━━━━━━━━━━━━━━━━━━━━━━━━━━━━━━━━━━━━\u001b[0m \u001b[32m54.6/54.6 MB\u001b[0m \u001b[31m18.4 MB/s\u001b[0m eta \u001b[36m0:00:00\u001b[0m00:01\u001b[0m00:01\u001b[0m\n",
      "\u001b[?25hCollecting nvidia-cusolver-cu11==11.4.0.1 (from torch==2.0.*)\n",
      "  Downloading nvidia_cusolver_cu11-11.4.0.1-2-py3-none-manylinux1_x86_64.whl (102.6 MB)\n",
      "\u001b[2K     \u001b[90m━━━━━━━━━━━━━━━━━━━━━━━━━━━━━━━━━━━━━━━\u001b[0m \u001b[32m102.6/102.6 MB\u001b[0m \u001b[31m9.9 MB/s\u001b[0m eta \u001b[36m0:00:00\u001b[0m00:01\u001b[0m00:01\u001b[0m\n",
      "\u001b[?25hCollecting nvidia-cusparse-cu11==11.7.4.91 (from torch==2.0.*)\n",
      "  Downloading nvidia_cusparse_cu11-11.7.4.91-py3-none-manylinux1_x86_64.whl (173.2 MB)\n",
      "\u001b[2K     \u001b[90m━━━━━━━━━━━━━━━━━━━━━━━━━━━━━━━━━━━━━━━\u001b[0m \u001b[32m173.2/173.2 MB\u001b[0m \u001b[31m5.5 MB/s\u001b[0m eta \u001b[36m0:00:00\u001b[0m00:01\u001b[0m00:01\u001b[0m\n",
      "\u001b[?25hCollecting nvidia-nccl-cu11==2.14.3 (from torch==2.0.*)\n",
      "  Downloading nvidia_nccl_cu11-2.14.3-py3-none-manylinux1_x86_64.whl (177.1 MB)\n",
      "\u001b[2K     \u001b[90m━━━━━━━━━━━━━━━━━━━━━━━━━━━━━━━━━━━━━━━\u001b[0m \u001b[32m177.1/177.1 MB\u001b[0m \u001b[31m5.3 MB/s\u001b[0m eta \u001b[36m0:00:00\u001b[0m00:01\u001b[0m00:01\u001b[0m\n",
      "\u001b[?25hCollecting nvidia-nvtx-cu11==11.7.91 (from torch==2.0.*)\n",
      "  Downloading nvidia_nvtx_cu11-11.7.91-py3-none-manylinux1_x86_64.whl (98 kB)\n",
      "\u001b[2K     \u001b[90m━━━━━━━━━━━━━━━━━━━━━━━━━━━━━━━━━━━━━━━━\u001b[0m \u001b[32m98.6/98.6 kB\u001b[0m \u001b[31m10.7 MB/s\u001b[0m eta \u001b[36m0:00:00\u001b[0m\n",
      "\u001b[?25hCollecting triton==2.0.0 (from torch==2.0.*)\n",
      "  Downloading triton-2.0.0-1-cp310-cp310-manylinux2014_x86_64.manylinux_2_17_x86_64.whl (63.3 MB)\n",
      "\u001b[2K     \u001b[90m━━━━━━━━━━━━━━━━━━━━━━━━━━━━━━━━━━━━━━━━\u001b[0m \u001b[32m63.3/63.3 MB\u001b[0m \u001b[31m9.5 MB/s\u001b[0m eta \u001b[36m0:00:00\u001b[0m:00:01\u001b[0m00:01\u001b[0m\n",
      "\u001b[?25hRequirement already satisfied: setuptools in /opt/conda/lib/python3.10/site-packages (from nvidia-cublas-cu11==11.10.3.66->torch==2.0.*) (65.6.3)\n",
      "Requirement already satisfied: wheel in /opt/conda/lib/python3.10/site-packages (from nvidia-cublas-cu11==11.10.3.66->torch==2.0.*) (0.38.4)\n",
      "Collecting cmake (from triton==2.0.0->torch==2.0.*)\n",
      "  Downloading cmake-3.26.4-py2.py3-none-manylinux2014_x86_64.manylinux_2_17_x86_64.whl (24.0 MB)\n",
      "\u001b[2K     \u001b[90m━━━━━━━━━━━━━━━━━━━━━━━━━━━━━━━━━━━━━━━━\u001b[0m \u001b[32m24.0/24.0 MB\u001b[0m \u001b[31m20.8 MB/s\u001b[0m eta \u001b[36m0:00:00\u001b[0m00:01\u001b[0m00:01\u001b[0m\n",
      "\u001b[?25hCollecting lit (from triton==2.0.0->torch==2.0.*)\n",
      "  Downloading lit-16.0.6.tar.gz (153 kB)\n",
      "\u001b[2K     \u001b[90m━━━━━━━━━━━━━━━━━━━━━━━━━━━━━━━━━━━━━━\u001b[0m \u001b[32m153.7/153.7 kB\u001b[0m \u001b[31m18.9 MB/s\u001b[0m eta \u001b[36m0:00:00\u001b[0m\n",
      "\u001b[?25h  Installing build dependencies ... \u001b[?25ldone\n",
      "\u001b[?25h  Getting requirements to build wheel ... \u001b[?25ldone\n",
      "\u001b[?25h  Installing backend dependencies ... \u001b[?25ldone\n",
      "\u001b[?25h  Preparing metadata (pyproject.toml) ... \u001b[?25ldone\n",
      "\u001b[?25hINFO: pip is looking at multiple versions of torchaudio to determine which version is compatible with other requirements. This could take a while.\n",
      "Collecting torchaudio\n",
      "  Downloading torchaudio-2.0.2-cp310-cp310-manylinux1_x86_64.whl (4.4 MB)\n",
      "\u001b[2K     \u001b[90m━━━━━━━━━━━━━━━━━━━━━━━━━━━━━━━━━━━━━━━━\u001b[0m \u001b[32m4.4/4.4 MB\u001b[0m \u001b[31m24.9 MB/s\u001b[0m eta \u001b[36m0:00:00\u001b[0m:00:01\u001b[0m\n",
      "\u001b[?25hRequirement already satisfied: MarkupSafe>=2.0 in /opt/conda/lib/python3.10/site-packages (from jinja2->torch==2.0.*) (2.1.2)\n",
      "Requirement already satisfied: mpmath>=0.19 in /opt/conda/lib/python3.10/site-packages (from sympy->torch==2.0.*) (1.3.0)\n",
      "Building wheels for collected packages: lit\n",
      "  Building wheel for lit (pyproject.toml) ... \u001b[?25ldone\n",
      "\u001b[?25h  Created wheel for lit: filename=lit-16.0.6-py3-none-any.whl size=93582 sha256=bd3cc820c27bb606d9a798b97a7bad1411276ca4a6d956254f2facf24b49d606\n",
      "  Stored in directory: /root/.cache/pip/wheels/14/f9/07/bb2308587bc2f57158f905a2325f6a89a2befa7437b2d7e137\n",
      "Successfully built lit\n",
      "Installing collected packages: lit, cmake, nvidia-nvtx-cu11, nvidia-nccl-cu11, nvidia-cusparse-cu11, nvidia-curand-cu11, nvidia-cufft-cu11, nvidia-cuda-cupti-cu11, nvidia-cusolver-cu11, triton, torch, torchaudio\n",
      "  Attempting uninstall: torch\n",
      "    Found existing installation: torch 1.13.1\n",
      "    Uninstalling torch-1.13.1:\n",
      "      Successfully uninstalled torch-1.13.1\n",
      "  Attempting uninstall: torchaudio\n",
      "    Found existing installation: torchaudio 0.13.1\n",
      "    Uninstalling torchaudio-0.13.1:\n",
      "      Successfully uninstalled torchaudio-0.13.1\n",
      "Successfully installed cmake-3.26.4 lit-16.0.6 nvidia-cuda-cupti-cu11-11.7.101 nvidia-cufft-cu11-10.9.0.58 nvidia-curand-cu11-10.2.10.91 nvidia-cusolver-cu11-11.4.0.1 nvidia-cusparse-cu11-11.7.4.91 nvidia-nccl-cu11-2.14.3 nvidia-nvtx-cu11-11.7.91 torch-2.0.1 torchaudio-2.0.2 triton-2.0.0\n",
      "\u001b[33mWARNING: Running pip as the 'root' user can result in broken permissions and conflicting behaviour with the system package manager. It is recommended to use a virtual environment instead: https://pip.pypa.io/warnings/venv\u001b[0m\u001b[33m\n",
      "\u001b[0mNote: you may need to restart the kernel to use updated packages.\n"
     ]
    }
   ],
   "source": [
    "# Need newer torch to use all augmentation functions\n",
    "%pip install torch==2.0.* torchaudio"
   ]
  },
  {
   "cell_type": "code",
   "execution_count": null,
   "id": "36e99b3e-639c-4f44-ba45-d7b3614fcf5c",
   "metadata": {
    "tags": []
   },
   "outputs": [],
   "source": [
    "import os\n",
    "os._exit(00)"
   ]
  },
  {
   "cell_type": "code",
   "execution_count": 1,
   "id": "a4407890-785e-4c2d-a517-02a1df4ff7d8",
   "metadata": {
    "tags": []
   },
   "outputs": [],
   "source": [
    "import glob\n",
    "import os\n",
    "import multiprocessing\n",
    "import random\n",
    "\n",
    "from itertools import repeat, product\n",
    "\n",
    "from collections import namedtuple\n",
    "from csv import writer\n",
    "\n",
    "import torch\n",
    "import torchaudio\n",
    "import pandas as pd\n",
    "import tqdm\n",
    "\n",
    "import tqdm.contrib.itertools as tqdm_itertools\n",
    "from IPython.display import Audio\n",
    "from datasets import Audio as DSAudio, load_dataset\n",
    "\n",
    "tqdm_chain = tqdm_itertools.itertools.chain\n",
    "\n",
    "import os\n",
    "import glob\n",
    "import re\n",
    "import shutil\n",
    "\n",
    "import pandas as pd"
   ]
  },
  {
   "cell_type": "code",
   "execution_count": 2,
   "id": "010336b2-ea38-48c2-9dbe-f9b4095d80a2",
   "metadata": {
    "tags": []
   },
   "outputs": [],
   "source": [
    "base_dir = os.path.abspath(os.path.join(os.getcwd(), '../../'))\n",
    "data_source_base = os.path.join(base_dir, 'gdsc_data/data_source')\n",
    "data_processed_base = os.path.join(base_dir, 'gdsc_data/data_processed')\n",
    "\n",
    "SOURCE_SAMPLING_RATE = 44100\n",
    "MODEL_SAMPLING_RATE = 32000\n",
    "\n",
    "DATA_TAG = 'data_8c86715'"
   ]
  },
  {
   "cell_type": "code",
   "execution_count": 3,
   "id": "761fde8d-1c31-4c4b-88ff-2114094fc6fb",
   "metadata": {
    "tags": []
   },
   "outputs": [],
   "source": [
    "val_data_source_path = os.path.join(data_source_base, 'val/')"
   ]
  },
  {
   "cell_type": "code",
   "execution_count": 46,
   "id": "81c002e3-9838-4c94-bb83-543ae027fab1",
   "metadata": {
    "tags": []
   },
   "outputs": [],
   "source": [
    "# df = pd.read_csv(val_data_source_path + 'metadata.csv')\n",
    "# df_new_validation = df.groupby('label', group_keys=False).apply(lambda x: x.sample(1))\n",
    "# key_diff = list(set(df.index).difference(df_new_validation.index))"
   ]
  },
  {
   "cell_type": "code",
   "execution_count": 4,
   "id": "8812e129-cf64-432b-8ccc-4e9c9de57592",
   "metadata": {
    "tags": []
   },
   "outputs": [],
   "source": [
    "dest_dir = os.path.join(data_processed_base, DATA_TAG, '02_resample_validation')\n",
    "dest_dir_val = os.path.join(dest_dir, 'val/')\n",
    "dest_dir_train = os.path.join(dest_dir, 'train/')"
   ]
  },
  {
   "cell_type": "code",
   "execution_count": 66,
   "id": "e5270bbc-72d1-4de9-9d33-5483ae6230e7",
   "metadata": {
    "tags": []
   },
   "outputs": [],
   "source": [
    "# # raise, if not created - fools protection\n",
    "# os.stat(dest_dir)\n",
    "\n",
    "# os.makedirs(dest_dir_train)\n",
    "\n",
    "# for filename in df_to_train['file_name']:\n",
    "#     src = os.path.join(val_data_source_path, filename)\n",
    "#     dest = os.path.join(dest_dir_train, filename)\n",
    "#     shutil.copy(src, dest)\n",
    "    \n",
    "# df_to_train.to_csv(os.path.join(dest_dir_train, 'metadata.csv'), index=False)\n",
    "\n",
    "# os.makedirs(dest_dir_val)\n",
    "\n",
    "# for filename in df_new_validation['file_name']:\n",
    "#     src = os.path.join(val_data_source_path, filename)\n",
    "#     dest = os.path.join(dest_dir_val, filename)\n",
    "#     shutil.copy(src, dest) \n",
    "    \n",
    "# df_new_validation.to_csv(os.path.join(dest_dir_val, 'metadata.csv'), index=False)"
   ]
  },
  {
   "cell_type": "code",
   "execution_count": 5,
   "id": "2f4f7b5d-7ec9-4ea8-bffc-53c45854b184",
   "metadata": {
    "tags": []
   },
   "outputs": [],
   "source": [
    "DataPoint = namedtuple('DataPoint', ['path', 'label', 'name'])"
   ]
  },
  {
   "cell_type": "code",
   "execution_count": 6,
   "id": "2b354dc3-bf62-4e56-b75b-a3f97981e9ef",
   "metadata": {
    "tags": []
   },
   "outputs": [],
   "source": [
    "rir_library_path = os.path.join(base_dir, 'audio_data/rir_library_flac_sampled/')"
   ]
  },
  {
   "cell_type": "code",
   "execution_count": 7,
   "id": "7dcf5ce2-7124-45c2-8363-bfebd355b41f",
   "metadata": {
    "tags": []
   },
   "outputs": [],
   "source": [
    "def resample_source_wav(data: DataPoint, resampler):\n",
    "    wav, _ = torchaudio.load(data.path)\n",
    "    return resampler(wav)    \n",
    "\n",
    "\n",
    "def iter_datapoint_from(source_data_path):\n",
    "    metadata_file = os.path.join(source_data_path, 'metadata.csv')\n",
    "    df_audio = pd.read_csv(metadata_file)\n",
    "    for fname, label in df_audio.itertuples(index=False):\n",
    "        full_path = os.path.join(source_data_path, fname)\n",
    "        yield DataPoint(path=full_path, label=label, name=fname)\n",
    "        \n",
    "        \n",
    "def rir_path_to_name_path(rir_path):\n",
    "    name, ext = os.path.splitext(os.path.basename(rir_path))\n",
    "    return name, rir_path"
   ]
  },
  {
   "cell_type": "code",
   "execution_count": 8,
   "id": "a9a82774-68d1-45d8-afdc-c4379a76cca9",
   "metadata": {
    "tags": []
   },
   "outputs": [],
   "source": [
    "def worker_init(worker_exec, source_dir, processed_dir):\n",
    "    import torch\n",
    "    import torchaudio\n",
    "    torch.set_num_threads(1)\n",
    "    \n",
    "    worker_exec.torch = torch\n",
    "    worker_exec.torchaudio = torchaudio\n",
    "    worker_exec.source_dir = source_dir\n",
    "    worker_exec.processed_dir = processed_dir\n",
    "    worker_exec.resampler = torchaudio.transforms.Resample(SOURCE_SAMPLING_RATE, MODEL_SAMPLING_RATE)\n",
    "    \n",
    "    \n",
    "def worker_main(rir_name, rir_path, data_point):\n",
    "    # Load initalized libraries in a process\n",
    "    torch = worker_main.torch\n",
    "    torchaudio =  worker_main.torchaudio\n",
    "    processed_dir = worker_main.processed_dir\n",
    "    source_dir = worker_main.source_dir\n",
    "    resampler = worker_main.resampler\n",
    "    \n",
    "    # convert to 32kHZ\n",
    "    wav_resampled = resample_source_wav(data_point, resampler)\n",
    "    \n",
    "    # get the room IR, normalize it, then apply\n",
    "    rir, _ = torchaudio.load(rir_path)\n",
    "    rir = rir / torch.norm(rir, p=2)\n",
    "    wav_resampled = torchaudio.functional.fftconvolve(wav_resampled, rir)\n",
    "    \n",
    "    # prepare for output\n",
    "    source_path = data_point.path\n",
    "    dp_label = data_point.label    \n",
    "    dp_name = data_point.name\n",
    "    source_name, source_ext = os.path.splitext(dp_name)\n",
    "    \n",
    "    dest_name = f'{source_name}@conv_{rir_name}.flac'\n",
    "    dest_relpath = os.path.dirname(os.path.relpath(source_path, source_dir))\n",
    "    dest_fpath = os.path.join(processed_dir, dest_relpath, dest_name)  \n",
    "    \n",
    "    os.makedirs(os.path.dirname(dest_fpath), exist_ok=True)\n",
    "    \n",
    "    torchaudio.save(\n",
    "        dest_fpath,\n",
    "        wav_resampled,\n",
    "        sample_rate=MODEL_SAMPLING_RATE,\n",
    "        format=\"flac\", \n",
    "        bits_per_sample=24)\n",
    "\n",
    "    return dest_fpath, dest_name, dp_label \n",
    "\n",
    "\n",
    "def worker_starmap(args):\n",
    "    return worker_main(*args)"
   ]
  },
  {
   "cell_type": "code",
   "execution_count": 18,
   "id": "25010b9c-bbc6-4e8c-8c6f-791269aecd89",
   "metadata": {
    "tags": []
   },
   "outputs": [],
   "source": [
    "RIR_SAMPLE_SIZE = 20\n",
    "\n",
    "rir_library = list(map(rir_path_to_name_path, glob.glob(os.path.join(rir_library_path, '**/*.flac'), recursive=True)))\n",
    "source_library = iter_datapoint_from(dest_dir_train)\n",
    "\n",
    "all_combinations = product(random.sample(rir_library, RIR_SAMPLE_SIZE), source_library)\n",
    "\n",
    "source_library_length = iter_datapoint_from(dest_dir_train)\n",
    "all_combinations_length = 0\n",
    "for i, _ in enumerate(product(range(0, RIR_SAMPLE_SIZE), source_library_length), 1):\n",
    "    all_combinations_length = i\n",
    "\n",
    "work_generator = ((rir_name, rir_path, dp) for (rir_name, rir_path), dp in all_combinations)"
   ]
  },
  {
   "cell_type": "code",
   "execution_count": 19,
   "id": "6ed26035-e301-4689-a739-292dc647d63b",
   "metadata": {
    "tags": []
   },
   "outputs": [
    {
     "name": "stdout",
     "output_type": "stream",
     "text": [
      "Total possible rir+sound combinations 10260\n"
     ]
    }
   ],
   "source": [
    "print(f\"Total possible rir+sound combinations {all_combinations_length}\")"
   ]
  },
  {
   "cell_type": "code",
   "execution_count": 25,
   "id": "8efffebe-a5f1-4383-81cb-77287b22bb88",
   "metadata": {
    "tags": []
   },
   "outputs": [],
   "source": [
    "dest_dir2 = os.path.join(data_processed_base, DATA_TAG, '03_apply_ir_function_on_validation/')\n",
    "dest_dir2_train = os.path.join(dest_dir2, 'train/')"
   ]
  },
  {
   "cell_type": "code",
   "execution_count": 22,
   "id": "86ba512c-c653-4246-a1c8-19e402613939",
   "metadata": {
    "tags": []
   },
   "outputs": [
    {
     "data": {
      "text/plain": [
       "os.stat_result(st_mode=16877, st_ino=3647971464753303429, st_dev=59, st_nlink=4, st_uid=0, st_gid=0, st_size=6144, st_atime=1689003971, st_mtime=1689003971, st_ctime=1689003971)"
      ]
     },
     "execution_count": 22,
     "metadata": {},
     "output_type": "execute_result"
    }
   ],
   "source": [
    "# fools protection\n",
    "os.stat(dest_dir2)"
   ]
  },
  {
   "cell_type": "code",
   "execution_count": 23,
   "id": "cccc24be-98b4-4eaa-aa34-7b232e1e1f88",
   "metadata": {
    "tags": []
   },
   "outputs": [
    {
     "name": "stdout",
     "output_type": "stream",
     "text": [
      "Reading files from '/root/data/gdsc_data/data_processed/data_8c86715/02_resample_validation/train/'\n",
      "Going to write into '/root/data/gdsc_data/data_processed/data_8c86715/02_apply_ir_function_on_validation/train/'\n"
     ]
    }
   ],
   "source": [
    "print(f\"Reading files from '{dest_dir_train}'\")\n",
    "print(f\"Going to write into '{dest_dir2_train}'\")"
   ]
  },
  {
   "cell_type": "code",
   "execution_count": 24,
   "id": "e9c08f08-9b02-4ca5-ad1e-718b6e9ef109",
   "metadata": {
    "tags": []
   },
   "outputs": [
    {
     "name": "stderr",
     "output_type": "stream",
     "text": [
      "100%|██████████| 10260/10260 [35:08<00:00,  4.87it/s] \n"
     ]
    }
   ],
   "source": [
    "n_cpu = multiprocessing.cpu_count()\n",
    "pool = multiprocessing.Pool(processes=n_cpu, initializer=worker_init, initargs=(worker_main, dest_dir_train, dest_dir2_train))\n",
    "\n",
    "rows = []\n",
    "for _, dest_fname, label in tqdm.tqdm(pool.imap_unordered(worker_starmap, work_generator), total=all_combinations_length):\n",
    "    rows.append((dest_fname, label))\n",
    "\n",
    "del pool\n",
    "\n",
    "df = pd.DataFrame(rows, columns=['file_name', 'label'])\n",
    "df.to_csv(os.path.join(dest_dir2_train, 'metadata.csv'), index=False)"
   ]
  },
  {
   "cell_type": "code",
   "execution_count": null,
   "id": "79b57d48-8843-42b8-8263-2339664f723e",
   "metadata": {},
   "outputs": [],
   "source": [
    "## The process crashed - not enough memory :(\n",
    "## Need to recreate csv file with metadata...."
   ]
  },
  {
   "cell_type": "code",
   "execution_count": 26,
   "id": "5b6c602c-2fbd-44af-bcf7-13a88c475ddb",
   "metadata": {
    "tags": []
   },
   "outputs": [],
   "source": [
    "def extract_original_filename(file_name):\n",
    "    parts = file_name.split(\"@\")\n",
    "    if len(parts) == 1:\n",
    "        return file_name\n",
    "    \n",
    "    return f\"{parts[0]}.wav\""
   ]
  },
  {
   "cell_type": "code",
   "execution_count": 65,
   "id": "a9b240ec-f595-4e97-99f8-1fb4e4071b33",
   "metadata": {
    "tags": []
   },
   "outputs": [],
   "source": [
    "# # files = glob.glob(os.path.join(dest_dir2_train, '*.flac'))\n",
    "# df = pd.DataFrame(map(lambda x: os.path.basename(x), files), columns=[\"file_name\"])\n",
    "# df[\"original_filename\"] = df[\"file_name\"].map(extract_original_filename)"
   ]
  },
  {
   "cell_type": "code",
   "execution_count": 66,
   "id": "fcdbf9ba-5814-478f-9fe5-e096b84fb5c7",
   "metadata": {
    "tags": []
   },
   "outputs": [],
   "source": [
    "# df_source = pd.read_csv(dest_dir_train + '/metadata.csv').set_index(\"file_name\")"
   ]
  },
  {
   "cell_type": "code",
   "execution_count": 67,
   "id": "26305dd3-cba8-4923-bcc1-7852cf5cf8cd",
   "metadata": {
    "tags": []
   },
   "outputs": [],
   "source": [
    "# df = df.join(df_source, on=\"original_filename\", how=\"inner\")"
   ]
  },
  {
   "cell_type": "code",
   "execution_count": 27,
   "id": "b922a617-aab0-48b3-9da0-48b7f80f77ce",
   "metadata": {
    "tags": []
   },
   "outputs": [
    {
     "data": {
      "text/html": [
       "<div>\n",
       "<style scoped>\n",
       "    .dataframe tbody tr th:only-of-type {\n",
       "        vertical-align: middle;\n",
       "    }\n",
       "\n",
       "    .dataframe tbody tr th {\n",
       "        vertical-align: top;\n",
       "    }\n",
       "\n",
       "    .dataframe thead th {\n",
       "        text-align: right;\n",
       "    }\n",
       "</style>\n",
       "<table border=\"1\" class=\"dataframe\">\n",
       "  <thead>\n",
       "    <tr style=\"text-align: right;\">\n",
       "      <th></th>\n",
       "      <th>file_name</th>\n",
       "      <th>label</th>\n",
       "    </tr>\n",
       "  </thead>\n",
       "  <tbody>\n",
       "    <tr>\n",
       "      <th>0</th>\n",
       "      <td>Chorthippusbrunneus_XC751398-dat022-008_edit5@...</td>\n",
       "      <td>10</td>\n",
       "    </tr>\n",
       "    <tr>\n",
       "      <th>1</th>\n",
       "      <td>Atrapsaltacorticina_GBIF2901504947_IN62966536_...</td>\n",
       "      <td>3</td>\n",
       "    </tr>\n",
       "    <tr>\n",
       "      <th>2</th>\n",
       "      <td>Omocestusviridulus_XC752263-dat012-007_edit1@c...</td>\n",
       "      <td>39</td>\n",
       "    </tr>\n",
       "    <tr>\n",
       "      <th>3</th>\n",
       "      <td>Conocephalusfuscus_XC752526-dat060-004_edit3@c...</td>\n",
       "      <td>17</td>\n",
       "    </tr>\n",
       "    <tr>\n",
       "      <th>4</th>\n",
       "      <td>Cyclochilaaustralasiae_GBIF1978841250_IN191825...</td>\n",
       "      <td>18</td>\n",
       "    </tr>\n",
       "    <tr>\n",
       "      <th>...</th>\n",
       "      <td>...</td>\n",
       "      <td>...</td>\n",
       "    </tr>\n",
       "    <tr>\n",
       "      <th>10255</th>\n",
       "      <td>Grylluscampestris_GBIF3772468767_IN115095988_4...</td>\n",
       "      <td>29</td>\n",
       "    </tr>\n",
       "    <tr>\n",
       "      <th>10256</th>\n",
       "      <td>Yoyettacelis_GBIF2873801193_IN61269567_139618@...</td>\n",
       "      <td>64</td>\n",
       "    </tr>\n",
       "    <tr>\n",
       "      <th>10257</th>\n",
       "      <td>Chorthippusbrunneus_XC751372-dat001-023@conv_S...</td>\n",
       "      <td>10</td>\n",
       "    </tr>\n",
       "    <tr>\n",
       "      <th>10258</th>\n",
       "      <td>Decticusverrucivorus_XC751968-dat016-014_edit1...</td>\n",
       "      <td>19</td>\n",
       "    </tr>\n",
       "    <tr>\n",
       "      <th>10259</th>\n",
       "      <td>Tettigoniacantans_XC754547-Isolato-O-haemorrho...</td>\n",
       "      <td>61</td>\n",
       "    </tr>\n",
       "  </tbody>\n",
       "</table>\n",
       "<p>10260 rows × 2 columns</p>\n",
       "</div>"
      ],
      "text/plain": [
       "                                               file_name  label\n",
       "0      Chorthippusbrunneus_XC751398-dat022-008_edit5@...     10\n",
       "1      Atrapsaltacorticina_GBIF2901504947_IN62966536_...      3\n",
       "2      Omocestusviridulus_XC752263-dat012-007_edit1@c...     39\n",
       "3      Conocephalusfuscus_XC752526-dat060-004_edit3@c...     17\n",
       "4      Cyclochilaaustralasiae_GBIF1978841250_IN191825...     18\n",
       "...                                                  ...    ...\n",
       "10255  Grylluscampestris_GBIF3772468767_IN115095988_4...     29\n",
       "10256  Yoyettacelis_GBIF2873801193_IN61269567_139618@...     64\n",
       "10257  Chorthippusbrunneus_XC751372-dat001-023@conv_S...     10\n",
       "10258  Decticusverrucivorus_XC751968-dat016-014_edit1...     19\n",
       "10259  Tettigoniacantans_XC754547-Isolato-O-haemorrho...     61\n",
       "\n",
       "[10260 rows x 2 columns]"
      ]
     },
     "execution_count": 27,
     "metadata": {},
     "output_type": "execute_result"
    }
   ],
   "source": [
    "df"
   ]
  },
  {
   "cell_type": "code",
   "execution_count": 28,
   "id": "ac689046-8849-4132-b087-262b7a0f3d4a",
   "metadata": {
    "tags": []
   },
   "outputs": [],
   "source": [
    "df[\"original_filename\"] = df[\"file_name\"].map(extract_original_filename)"
   ]
  },
  {
   "cell_type": "code",
   "execution_count": 29,
   "id": "87ed6b5a-db0b-4d60-b42b-4216ad736371",
   "metadata": {
    "tags": []
   },
   "outputs": [],
   "source": [
    "df_grouped = df.groupby(\"original_filename\").aggregate(\n",
    "    {\n",
    "        \"file_name\": lambda x: \", \".join(x),\n",
    "        \"label\": min\n",
    "    }\n",
    ").reset_index().rename({\"file_name\": \"file_name\"})"
   ]
  },
  {
   "cell_type": "code",
   "execution_count": 30,
   "id": "7475f3d6-2b52-47b2-8b29-4dd8aa032c10",
   "metadata": {
    "tags": []
   },
   "outputs": [],
   "source": [
    "df_grouped.to_csv(dest_dir2 + '/metadata_grouped_train.csv', index=False)"
   ]
  },
  {
   "cell_type": "code",
   "execution_count": 75,
   "id": "e40d6dc4-31bb-421d-bcda-3788796b5303",
   "metadata": {
    "tags": []
   },
   "outputs": [
    {
     "data": {
      "text/html": [
       "<div>\n",
       "<style scoped>\n",
       "    .dataframe tbody tr th:only-of-type {\n",
       "        vertical-align: middle;\n",
       "    }\n",
       "\n",
       "    .dataframe tbody tr th {\n",
       "        vertical-align: top;\n",
       "    }\n",
       "\n",
       "    .dataframe thead th {\n",
       "        text-align: right;\n",
       "    }\n",
       "</style>\n",
       "<table border=\"1\" class=\"dataframe\">\n",
       "  <thead>\n",
       "    <tr style=\"text-align: right;\">\n",
       "      <th></th>\n",
       "      <th>original_filename</th>\n",
       "      <th>file_name</th>\n",
       "      <th>label</th>\n",
       "    </tr>\n",
       "  </thead>\n",
       "  <tbody>\n",
       "    <tr>\n",
       "      <th>0</th>\n",
       "      <td>Achetadomesticus_XC751734-dat001-055_edit1.wav</td>\n",
       "      <td>Achetadomesticus_XC751734-dat001-055_edit1@con...</td>\n",
       "      <td>0</td>\n",
       "    </tr>\n",
       "    <tr>\n",
       "      <th>1</th>\n",
       "      <td>Achetadomesticus_XC751734-dat001-055_edit2.wav</td>\n",
       "      <td>Achetadomesticus_XC751734-dat001-055_edit2@con...</td>\n",
       "      <td>0</td>\n",
       "    </tr>\n",
       "    <tr>\n",
       "      <th>2</th>\n",
       "      <td>Achetadomesticus_XC751734-dat001-055_edit3.wav</td>\n",
       "      <td>Achetadomesticus_XC751734-dat001-055_edit3@con...</td>\n",
       "      <td>0</td>\n",
       "    </tr>\n",
       "    <tr>\n",
       "      <th>3</th>\n",
       "      <td>Achetadomesticus_XC751734-dat001-055_edit4.wav</td>\n",
       "      <td>Achetadomesticus_XC751734-dat001-055_edit4@con...</td>\n",
       "      <td>0</td>\n",
       "    </tr>\n",
       "    <tr>\n",
       "      <th>4</th>\n",
       "      <td>Achetadomesticus_XC751736-dat001-057.wav</td>\n",
       "      <td>Achetadomesticus_XC751736-dat001-057@conv_LX48...</td>\n",
       "      <td>0</td>\n",
       "    </tr>\n",
       "    <tr>\n",
       "      <th>...</th>\n",
       "      <td>...</td>\n",
       "      <td>...</td>\n",
       "      <td>...</td>\n",
       "    </tr>\n",
       "    <tr>\n",
       "      <th>508</th>\n",
       "      <td>Yoyettarepetens_GBIF1978820758_IN19037335_2829...</td>\n",
       "      <td>Yoyettarepetens_GBIF1978820758_IN19037335_2829...</td>\n",
       "      <td>65</td>\n",
       "    </tr>\n",
       "    <tr>\n",
       "      <th>509</th>\n",
       "      <td>Yoyettarepetens_GBIF1978855326_IN19219004_2860...</td>\n",
       "      <td>Yoyettarepetens_GBIF1978855326_IN19219004_2860...</td>\n",
       "      <td>65</td>\n",
       "    </tr>\n",
       "    <tr>\n",
       "      <th>510</th>\n",
       "      <td>Yoyettarepetens_GBIF2005327021_IN20313139_3116...</td>\n",
       "      <td>Yoyettarepetens_GBIF2005327021_IN20313139_3116...</td>\n",
       "      <td>65</td>\n",
       "    </tr>\n",
       "    <tr>\n",
       "      <th>511</th>\n",
       "      <td>Yoyettarepetens_GBIF2465318314_IN36334636_5169...</td>\n",
       "      <td>Yoyettarepetens_GBIF2465318314_IN36334636_5169...</td>\n",
       "      <td>65</td>\n",
       "    </tr>\n",
       "    <tr>\n",
       "      <th>512</th>\n",
       "      <td>Yoyettarepetens_GBIF2901801690_IN62746056_1431...</td>\n",
       "      <td>Yoyettarepetens_GBIF2901801690_IN62746056_1431...</td>\n",
       "      <td>65</td>\n",
       "    </tr>\n",
       "  </tbody>\n",
       "</table>\n",
       "<p>513 rows × 3 columns</p>\n",
       "</div>"
      ],
      "text/plain": [
       "                                     original_filename   \n",
       "0       Achetadomesticus_XC751734-dat001-055_edit1.wav  \\\n",
       "1       Achetadomesticus_XC751734-dat001-055_edit2.wav   \n",
       "2       Achetadomesticus_XC751734-dat001-055_edit3.wav   \n",
       "3       Achetadomesticus_XC751734-dat001-055_edit4.wav   \n",
       "4             Achetadomesticus_XC751736-dat001-057.wav   \n",
       "..                                                 ...   \n",
       "508  Yoyettarepetens_GBIF1978820758_IN19037335_2829...   \n",
       "509  Yoyettarepetens_GBIF1978855326_IN19219004_2860...   \n",
       "510  Yoyettarepetens_GBIF2005327021_IN20313139_3116...   \n",
       "511  Yoyettarepetens_GBIF2465318314_IN36334636_5169...   \n",
       "512  Yoyettarepetens_GBIF2901801690_IN62746056_1431...   \n",
       "\n",
       "                                             file_name  label  \n",
       "0    Achetadomesticus_XC751734-dat001-055_edit1@con...      0  \n",
       "1    Achetadomesticus_XC751734-dat001-055_edit2@con...      0  \n",
       "2    Achetadomesticus_XC751734-dat001-055_edit3@con...      0  \n",
       "3    Achetadomesticus_XC751734-dat001-055_edit4@con...      0  \n",
       "4    Achetadomesticus_XC751736-dat001-057@conv_LX48...      0  \n",
       "..                                                 ...    ...  \n",
       "508  Yoyettarepetens_GBIF1978820758_IN19037335_2829...     65  \n",
       "509  Yoyettarepetens_GBIF1978855326_IN19219004_2860...     65  \n",
       "510  Yoyettarepetens_GBIF2005327021_IN20313139_3116...     65  \n",
       "511  Yoyettarepetens_GBIF2465318314_IN36334636_5169...     65  \n",
       "512  Yoyettarepetens_GBIF2901801690_IN62746056_1431...     65  \n",
       "\n",
       "[513 rows x 3 columns]"
      ]
     },
     "execution_count": 75,
     "metadata": {},
     "output_type": "execute_result"
    }
   ],
   "source": [
    "df_grouped"
   ]
  },
  {
   "cell_type": "code",
   "execution_count": 73,
   "id": "3f25167d-3194-4b50-858c-0f560325a390",
   "metadata": {
    "tags": []
   },
   "outputs": [],
   "source": [
    "df.to_csv(dest_dir2 + '/metadata_train.csv', index=False)"
   ]
  }
 ],
 "metadata": {
  "availableInstances": [
   {
    "_defaultOrder": 0,
    "_isFastLaunch": true,
    "category": "General purpose",
    "gpuNum": 0,
    "hideHardwareSpecs": false,
    "memoryGiB": 4,
    "name": "ml.t3.medium",
    "vcpuNum": 2
   },
   {
    "_defaultOrder": 1,
    "_isFastLaunch": false,
    "category": "General purpose",
    "gpuNum": 0,
    "hideHardwareSpecs": false,
    "memoryGiB": 8,
    "name": "ml.t3.large",
    "vcpuNum": 2
   },
   {
    "_defaultOrder": 2,
    "_isFastLaunch": false,
    "category": "General purpose",
    "gpuNum": 0,
    "hideHardwareSpecs": false,
    "memoryGiB": 16,
    "name": "ml.t3.xlarge",
    "vcpuNum": 4
   },
   {
    "_defaultOrder": 3,
    "_isFastLaunch": false,
    "category": "General purpose",
    "gpuNum": 0,
    "hideHardwareSpecs": false,
    "memoryGiB": 32,
    "name": "ml.t3.2xlarge",
    "vcpuNum": 8
   },
   {
    "_defaultOrder": 4,
    "_isFastLaunch": true,
    "category": "General purpose",
    "gpuNum": 0,
    "hideHardwareSpecs": false,
    "memoryGiB": 8,
    "name": "ml.m5.large",
    "vcpuNum": 2
   },
   {
    "_defaultOrder": 5,
    "_isFastLaunch": false,
    "category": "General purpose",
    "gpuNum": 0,
    "hideHardwareSpecs": false,
    "memoryGiB": 16,
    "name": "ml.m5.xlarge",
    "vcpuNum": 4
   },
   {
    "_defaultOrder": 6,
    "_isFastLaunch": false,
    "category": "General purpose",
    "gpuNum": 0,
    "hideHardwareSpecs": false,
    "memoryGiB": 32,
    "name": "ml.m5.2xlarge",
    "vcpuNum": 8
   },
   {
    "_defaultOrder": 7,
    "_isFastLaunch": false,
    "category": "General purpose",
    "gpuNum": 0,
    "hideHardwareSpecs": false,
    "memoryGiB": 64,
    "name": "ml.m5.4xlarge",
    "vcpuNum": 16
   },
   {
    "_defaultOrder": 8,
    "_isFastLaunch": false,
    "category": "General purpose",
    "gpuNum": 0,
    "hideHardwareSpecs": false,
    "memoryGiB": 128,
    "name": "ml.m5.8xlarge",
    "vcpuNum": 32
   },
   {
    "_defaultOrder": 9,
    "_isFastLaunch": false,
    "category": "General purpose",
    "gpuNum": 0,
    "hideHardwareSpecs": false,
    "memoryGiB": 192,
    "name": "ml.m5.12xlarge",
    "vcpuNum": 48
   },
   {
    "_defaultOrder": 10,
    "_isFastLaunch": false,
    "category": "General purpose",
    "gpuNum": 0,
    "hideHardwareSpecs": false,
    "memoryGiB": 256,
    "name": "ml.m5.16xlarge",
    "vcpuNum": 64
   },
   {
    "_defaultOrder": 11,
    "_isFastLaunch": false,
    "category": "General purpose",
    "gpuNum": 0,
    "hideHardwareSpecs": false,
    "memoryGiB": 384,
    "name": "ml.m5.24xlarge",
    "vcpuNum": 96
   },
   {
    "_defaultOrder": 12,
    "_isFastLaunch": false,
    "category": "General purpose",
    "gpuNum": 0,
    "hideHardwareSpecs": false,
    "memoryGiB": 8,
    "name": "ml.m5d.large",
    "vcpuNum": 2
   },
   {
    "_defaultOrder": 13,
    "_isFastLaunch": false,
    "category": "General purpose",
    "gpuNum": 0,
    "hideHardwareSpecs": false,
    "memoryGiB": 16,
    "name": "ml.m5d.xlarge",
    "vcpuNum": 4
   },
   {
    "_defaultOrder": 14,
    "_isFastLaunch": false,
    "category": "General purpose",
    "gpuNum": 0,
    "hideHardwareSpecs": false,
    "memoryGiB": 32,
    "name": "ml.m5d.2xlarge",
    "vcpuNum": 8
   },
   {
    "_defaultOrder": 15,
    "_isFastLaunch": false,
    "category": "General purpose",
    "gpuNum": 0,
    "hideHardwareSpecs": false,
    "memoryGiB": 64,
    "name": "ml.m5d.4xlarge",
    "vcpuNum": 16
   },
   {
    "_defaultOrder": 16,
    "_isFastLaunch": false,
    "category": "General purpose",
    "gpuNum": 0,
    "hideHardwareSpecs": false,
    "memoryGiB": 128,
    "name": "ml.m5d.8xlarge",
    "vcpuNum": 32
   },
   {
    "_defaultOrder": 17,
    "_isFastLaunch": false,
    "category": "General purpose",
    "gpuNum": 0,
    "hideHardwareSpecs": false,
    "memoryGiB": 192,
    "name": "ml.m5d.12xlarge",
    "vcpuNum": 48
   },
   {
    "_defaultOrder": 18,
    "_isFastLaunch": false,
    "category": "General purpose",
    "gpuNum": 0,
    "hideHardwareSpecs": false,
    "memoryGiB": 256,
    "name": "ml.m5d.16xlarge",
    "vcpuNum": 64
   },
   {
    "_defaultOrder": 19,
    "_isFastLaunch": false,
    "category": "General purpose",
    "gpuNum": 0,
    "hideHardwareSpecs": false,
    "memoryGiB": 384,
    "name": "ml.m5d.24xlarge",
    "vcpuNum": 96
   },
   {
    "_defaultOrder": 20,
    "_isFastLaunch": false,
    "category": "General purpose",
    "gpuNum": 0,
    "hideHardwareSpecs": true,
    "memoryGiB": 0,
    "name": "ml.geospatial.interactive",
    "supportedImageNames": [
     "sagemaker-geospatial-v1-0"
    ],
    "vcpuNum": 0
   },
   {
    "_defaultOrder": 21,
    "_isFastLaunch": true,
    "category": "Compute optimized",
    "gpuNum": 0,
    "hideHardwareSpecs": false,
    "memoryGiB": 4,
    "name": "ml.c5.large",
    "vcpuNum": 2
   },
   {
    "_defaultOrder": 22,
    "_isFastLaunch": false,
    "category": "Compute optimized",
    "gpuNum": 0,
    "hideHardwareSpecs": false,
    "memoryGiB": 8,
    "name": "ml.c5.xlarge",
    "vcpuNum": 4
   },
   {
    "_defaultOrder": 23,
    "_isFastLaunch": false,
    "category": "Compute optimized",
    "gpuNum": 0,
    "hideHardwareSpecs": false,
    "memoryGiB": 16,
    "name": "ml.c5.2xlarge",
    "vcpuNum": 8
   },
   {
    "_defaultOrder": 24,
    "_isFastLaunch": false,
    "category": "Compute optimized",
    "gpuNum": 0,
    "hideHardwareSpecs": false,
    "memoryGiB": 32,
    "name": "ml.c5.4xlarge",
    "vcpuNum": 16
   },
   {
    "_defaultOrder": 25,
    "_isFastLaunch": false,
    "category": "Compute optimized",
    "gpuNum": 0,
    "hideHardwareSpecs": false,
    "memoryGiB": 72,
    "name": "ml.c5.9xlarge",
    "vcpuNum": 36
   },
   {
    "_defaultOrder": 26,
    "_isFastLaunch": false,
    "category": "Compute optimized",
    "gpuNum": 0,
    "hideHardwareSpecs": false,
    "memoryGiB": 96,
    "name": "ml.c5.12xlarge",
    "vcpuNum": 48
   },
   {
    "_defaultOrder": 27,
    "_isFastLaunch": false,
    "category": "Compute optimized",
    "gpuNum": 0,
    "hideHardwareSpecs": false,
    "memoryGiB": 144,
    "name": "ml.c5.18xlarge",
    "vcpuNum": 72
   },
   {
    "_defaultOrder": 28,
    "_isFastLaunch": false,
    "category": "Compute optimized",
    "gpuNum": 0,
    "hideHardwareSpecs": false,
    "memoryGiB": 192,
    "name": "ml.c5.24xlarge",
    "vcpuNum": 96
   },
   {
    "_defaultOrder": 29,
    "_isFastLaunch": true,
    "category": "Accelerated computing",
    "gpuNum": 1,
    "hideHardwareSpecs": false,
    "memoryGiB": 16,
    "name": "ml.g4dn.xlarge",
    "vcpuNum": 4
   },
   {
    "_defaultOrder": 30,
    "_isFastLaunch": false,
    "category": "Accelerated computing",
    "gpuNum": 1,
    "hideHardwareSpecs": false,
    "memoryGiB": 32,
    "name": "ml.g4dn.2xlarge",
    "vcpuNum": 8
   },
   {
    "_defaultOrder": 31,
    "_isFastLaunch": false,
    "category": "Accelerated computing",
    "gpuNum": 1,
    "hideHardwareSpecs": false,
    "memoryGiB": 64,
    "name": "ml.g4dn.4xlarge",
    "vcpuNum": 16
   },
   {
    "_defaultOrder": 32,
    "_isFastLaunch": false,
    "category": "Accelerated computing",
    "gpuNum": 1,
    "hideHardwareSpecs": false,
    "memoryGiB": 128,
    "name": "ml.g4dn.8xlarge",
    "vcpuNum": 32
   },
   {
    "_defaultOrder": 33,
    "_isFastLaunch": false,
    "category": "Accelerated computing",
    "gpuNum": 4,
    "hideHardwareSpecs": false,
    "memoryGiB": 192,
    "name": "ml.g4dn.12xlarge",
    "vcpuNum": 48
   },
   {
    "_defaultOrder": 34,
    "_isFastLaunch": false,
    "category": "Accelerated computing",
    "gpuNum": 1,
    "hideHardwareSpecs": false,
    "memoryGiB": 256,
    "name": "ml.g4dn.16xlarge",
    "vcpuNum": 64
   },
   {
    "_defaultOrder": 35,
    "_isFastLaunch": false,
    "category": "Accelerated computing",
    "gpuNum": 1,
    "hideHardwareSpecs": false,
    "memoryGiB": 61,
    "name": "ml.p3.2xlarge",
    "vcpuNum": 8
   },
   {
    "_defaultOrder": 36,
    "_isFastLaunch": false,
    "category": "Accelerated computing",
    "gpuNum": 4,
    "hideHardwareSpecs": false,
    "memoryGiB": 244,
    "name": "ml.p3.8xlarge",
    "vcpuNum": 32
   },
   {
    "_defaultOrder": 37,
    "_isFastLaunch": false,
    "category": "Accelerated computing",
    "gpuNum": 8,
    "hideHardwareSpecs": false,
    "memoryGiB": 488,
    "name": "ml.p3.16xlarge",
    "vcpuNum": 64
   },
   {
    "_defaultOrder": 38,
    "_isFastLaunch": false,
    "category": "Accelerated computing",
    "gpuNum": 8,
    "hideHardwareSpecs": false,
    "memoryGiB": 768,
    "name": "ml.p3dn.24xlarge",
    "vcpuNum": 96
   },
   {
    "_defaultOrder": 39,
    "_isFastLaunch": false,
    "category": "Memory Optimized",
    "gpuNum": 0,
    "hideHardwareSpecs": false,
    "memoryGiB": 16,
    "name": "ml.r5.large",
    "vcpuNum": 2
   },
   {
    "_defaultOrder": 40,
    "_isFastLaunch": false,
    "category": "Memory Optimized",
    "gpuNum": 0,
    "hideHardwareSpecs": false,
    "memoryGiB": 32,
    "name": "ml.r5.xlarge",
    "vcpuNum": 4
   },
   {
    "_defaultOrder": 41,
    "_isFastLaunch": false,
    "category": "Memory Optimized",
    "gpuNum": 0,
    "hideHardwareSpecs": false,
    "memoryGiB": 64,
    "name": "ml.r5.2xlarge",
    "vcpuNum": 8
   },
   {
    "_defaultOrder": 42,
    "_isFastLaunch": false,
    "category": "Memory Optimized",
    "gpuNum": 0,
    "hideHardwareSpecs": false,
    "memoryGiB": 128,
    "name": "ml.r5.4xlarge",
    "vcpuNum": 16
   },
   {
    "_defaultOrder": 43,
    "_isFastLaunch": false,
    "category": "Memory Optimized",
    "gpuNum": 0,
    "hideHardwareSpecs": false,
    "memoryGiB": 256,
    "name": "ml.r5.8xlarge",
    "vcpuNum": 32
   },
   {
    "_defaultOrder": 44,
    "_isFastLaunch": false,
    "category": "Memory Optimized",
    "gpuNum": 0,
    "hideHardwareSpecs": false,
    "memoryGiB": 384,
    "name": "ml.r5.12xlarge",
    "vcpuNum": 48
   },
   {
    "_defaultOrder": 45,
    "_isFastLaunch": false,
    "category": "Memory Optimized",
    "gpuNum": 0,
    "hideHardwareSpecs": false,
    "memoryGiB": 512,
    "name": "ml.r5.16xlarge",
    "vcpuNum": 64
   },
   {
    "_defaultOrder": 46,
    "_isFastLaunch": false,
    "category": "Memory Optimized",
    "gpuNum": 0,
    "hideHardwareSpecs": false,
    "memoryGiB": 768,
    "name": "ml.r5.24xlarge",
    "vcpuNum": 96
   },
   {
    "_defaultOrder": 47,
    "_isFastLaunch": false,
    "category": "Accelerated computing",
    "gpuNum": 1,
    "hideHardwareSpecs": false,
    "memoryGiB": 16,
    "name": "ml.g5.xlarge",
    "vcpuNum": 4
   },
   {
    "_defaultOrder": 48,
    "_isFastLaunch": false,
    "category": "Accelerated computing",
    "gpuNum": 1,
    "hideHardwareSpecs": false,
    "memoryGiB": 32,
    "name": "ml.g5.2xlarge",
    "vcpuNum": 8
   },
   {
    "_defaultOrder": 49,
    "_isFastLaunch": false,
    "category": "Accelerated computing",
    "gpuNum": 1,
    "hideHardwareSpecs": false,
    "memoryGiB": 64,
    "name": "ml.g5.4xlarge",
    "vcpuNum": 16
   },
   {
    "_defaultOrder": 50,
    "_isFastLaunch": false,
    "category": "Accelerated computing",
    "gpuNum": 1,
    "hideHardwareSpecs": false,
    "memoryGiB": 128,
    "name": "ml.g5.8xlarge",
    "vcpuNum": 32
   },
   {
    "_defaultOrder": 51,
    "_isFastLaunch": false,
    "category": "Accelerated computing",
    "gpuNum": 1,
    "hideHardwareSpecs": false,
    "memoryGiB": 256,
    "name": "ml.g5.16xlarge",
    "vcpuNum": 64
   },
   {
    "_defaultOrder": 52,
    "_isFastLaunch": false,
    "category": "Accelerated computing",
    "gpuNum": 4,
    "hideHardwareSpecs": false,
    "memoryGiB": 192,
    "name": "ml.g5.12xlarge",
    "vcpuNum": 48
   },
   {
    "_defaultOrder": 53,
    "_isFastLaunch": false,
    "category": "Accelerated computing",
    "gpuNum": 4,
    "hideHardwareSpecs": false,
    "memoryGiB": 384,
    "name": "ml.g5.24xlarge",
    "vcpuNum": 96
   },
   {
    "_defaultOrder": 54,
    "_isFastLaunch": false,
    "category": "Accelerated computing",
    "gpuNum": 8,
    "hideHardwareSpecs": false,
    "memoryGiB": 768,
    "name": "ml.g5.48xlarge",
    "vcpuNum": 192
   },
   {
    "_defaultOrder": 55,
    "_isFastLaunch": false,
    "category": "Accelerated computing",
    "gpuNum": 8,
    "hideHardwareSpecs": false,
    "memoryGiB": 1152,
    "name": "ml.p4d.24xlarge",
    "vcpuNum": 96
   },
   {
    "_defaultOrder": 56,
    "_isFastLaunch": false,
    "category": "Accelerated computing",
    "gpuNum": 8,
    "hideHardwareSpecs": false,
    "memoryGiB": 1152,
    "name": "ml.p4de.24xlarge",
    "vcpuNum": 96
   }
  ],
  "kernelspec": {
   "display_name": "GDSC (custom-gdsc/1)",
   "language": "python",
   "name": "python3__SAGEMAKER_INTERNAL__arn:aws:sagemaker:us-east-1:992955421961:image-version/custom-gdsc/1"
  },
  "language_info": {
   "codemirror_mode": {
    "name": "ipython",
    "version": 3
   },
   "file_extension": ".py",
   "mimetype": "text/x-python",
   "name": "python",
   "nbconvert_exporter": "python",
   "pygments_lexer": "ipython3",
   "version": "3.10.8"
  },
  "lcc_arn": "arn:aws:sagemaker:us-east-1:992955421961:studio-lifecycle-config/clean-trash"
 },
 "nbformat": 4,
 "nbformat_minor": 5
}
