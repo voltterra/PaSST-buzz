{
 "cells": [
  {
   "cell_type": "code",
   "execution_count": null,
   "id": "313d3e98-4c39-49b5-b9bc-6ae0984e729e",
   "metadata": {
    "tags": []
   },
   "outputs": [],
   "source": [
    "import os\n",
    "os._exit(00)"
   ]
  },
  {
   "cell_type": "code",
   "execution_count": 1,
   "id": "72fd36e5-9373-4415-a20d-6be3c2a51979",
   "metadata": {
    "tags": []
   },
   "outputs": [],
   "source": [
    "import glob\n",
    "import os\n",
    "import multiprocessing\n",
    "\n",
    "from collections import namedtuple\n",
    "from csv import writer\n",
    "\n",
    "import torch\n",
    "import torchaudio\n",
    "import pandas as pd\n",
    "import tqdm\n",
    "\n",
    "import tqdm.contrib.itertools as tqdm_itertools\n",
    "from IPython.display import Audio\n",
    "\n",
    "from utils.gdsc22_dataset_preprocessing import BuzzOriginalSplitDatasetParallel\n",
    "from utils.dataset_augmentations import RandomGain\n",
    "\n",
    "tqdm_chain = tqdm_itertools.itertools.chain"
   ]
  },
  {
   "cell_type": "code",
   "execution_count": 2,
   "id": "cf66b241-bdfb-4658-8be8-5931cfc640ae",
   "metadata": {
    "tags": []
   },
   "outputs": [],
   "source": [
    "base_dir = os.path.abspath(os.path.join(os.getcwd(), '../../'))\n",
    "data_source_base = os.path.join(base_dir, 'gdsc_data/data_source')\n",
    "data_processed_base = os.path.join(base_dir, 'gdsc_data/data_processed')\n",
    "\n",
    "DATA_TAG = 'data_8c86715'\n",
    "\n",
    "source_dir = data_source_base"
   ]
  },
  {
   "cell_type": "code",
   "execution_count": 3,
   "id": "2cd59dbe-cdc6-4f6f-8c9a-fc2c24affc2c",
   "metadata": {
    "tags": []
   },
   "outputs": [],
   "source": [
    "original_train_dir = os.path.join(source_dir, 'train/')\n",
    "dest_train_dir = os.path.join(data_processed_base, DATA_TAG, '07_split_original_into_windows_with_short_samples/train/short_only')\n",
    "\n",
    "workers = BuzzOriginalSplitDatasetParallel(\n",
    "    original_train_dir, \n",
    "    dest_train_dir,\n",
    "    MODEL_SR=32000,\n",
    "    train_dataset=True,\n",
    "    dp_class_args={\n",
    "        'short_only':True,        \n",
    "    },\n",
    "    metadata_csv=os.path.join(original_train_dir, 'metadata.csv'), \n",
    "    debug=True\n",
    ")"
   ]
  },
  {
   "cell_type": "code",
   "execution_count": 4,
   "id": "eec71738-9c68-4e0b-aeae-6c824efb9300",
   "metadata": {
    "tags": []
   },
   "outputs": [
    {
     "ename": "FileExistsError",
     "evalue": "[Errno 17] File exists: '/root/data/gdsc_data/data_processed/data_8c86715/07_split_original_into_windows_with_short_samples/train/short_only'",
     "output_type": "error",
     "traceback": [
      "\u001b[0;31m---------------------------------------------------------------------------\u001b[0m",
      "\u001b[0;31mFileExistsError\u001b[0m                           Traceback (most recent call last)",
      "Cell \u001b[0;32mIn[4], line 1\u001b[0m\n\u001b[0;32m----> 1\u001b[0m \u001b[43mworkers\u001b[49m\u001b[38;5;241;43m.\u001b[39;49m\u001b[43mrun_main\u001b[49m\u001b[43m(\u001b[49m\u001b[43m)\u001b[49m\n",
      "File \u001b[0;32m~/data/exploratory_notebooks/da/utils/gdsc22_dataset_preprocessing.py:301\u001b[0m, in \u001b[0;36mBuzzOriginalSplitDatasetParallel.run_main\u001b[0;34m(self)\u001b[0m\n\u001b[1;32m    300\u001b[0m \u001b[38;5;28;01mdef\u001b[39;00m \u001b[38;5;21mrun_main\u001b[39m(\u001b[38;5;28mself\u001b[39m):\n\u001b[0;32m--> 301\u001b[0m     \u001b[38;5;28;43mself\u001b[39;49m\u001b[38;5;241;43m.\u001b[39;49m\u001b[43mprepare_target_dir\u001b[49m\u001b[43m(\u001b[49m\u001b[43m)\u001b[49m\n\u001b[1;32m    303\u001b[0m     \u001b[38;5;28;01mif\u001b[39;00m \u001b[38;5;28mself\u001b[39m\u001b[38;5;241m.\u001b[39mtrain_dataset:\n\u001b[1;32m    304\u001b[0m         \u001b[38;5;28mself\u001b[39m\u001b[38;5;241m.\u001b[39m_run_main_train()\n",
      "File \u001b[0;32m~/data/exploratory_notebooks/da/utils/gdsc22_dataset_preprocessing.py:309\u001b[0m, in \u001b[0;36mBuzzOriginalSplitDatasetParallel.prepare_target_dir\u001b[0;34m(self)\u001b[0m\n\u001b[1;32m    308\u001b[0m \u001b[38;5;28;01mdef\u001b[39;00m \u001b[38;5;21mprepare_target_dir\u001b[39m(\u001b[38;5;28mself\u001b[39m):          \n\u001b[0;32m--> 309\u001b[0m     \u001b[43mos\u001b[49m\u001b[38;5;241;43m.\u001b[39;49m\u001b[43mmakedirs\u001b[49m\u001b[43m(\u001b[49m\u001b[38;5;28;43mself\u001b[39;49m\u001b[38;5;241;43m.\u001b[39;49m\u001b[43mtarget_dir\u001b[49m\u001b[43m,\u001b[49m\u001b[43m \u001b[49m\u001b[43mexist_ok\u001b[49m\u001b[38;5;241;43m=\u001b[39;49m\u001b[38;5;28;43;01mFalse\u001b[39;49;00m\u001b[43m)\u001b[49m\n",
      "File \u001b[0;32m/opt/conda/lib/python3.10/os.py:225\u001b[0m, in \u001b[0;36mmakedirs\u001b[0;34m(name, mode, exist_ok)\u001b[0m\n\u001b[1;32m    223\u001b[0m         \u001b[38;5;28;01mreturn\u001b[39;00m\n\u001b[1;32m    224\u001b[0m \u001b[38;5;28;01mtry\u001b[39;00m:\n\u001b[0;32m--> 225\u001b[0m     \u001b[43mmkdir\u001b[49m\u001b[43m(\u001b[49m\u001b[43mname\u001b[49m\u001b[43m,\u001b[49m\u001b[43m \u001b[49m\u001b[43mmode\u001b[49m\u001b[43m)\u001b[49m\n\u001b[1;32m    226\u001b[0m \u001b[38;5;28;01mexcept\u001b[39;00m \u001b[38;5;167;01mOSError\u001b[39;00m:\n\u001b[1;32m    227\u001b[0m     \u001b[38;5;66;03m# Cannot rely on checking for EEXIST, since the operating system\u001b[39;00m\n\u001b[1;32m    228\u001b[0m     \u001b[38;5;66;03m# could give priority to other errors like EACCES or EROFS\u001b[39;00m\n\u001b[1;32m    229\u001b[0m     \u001b[38;5;28;01mif\u001b[39;00m \u001b[38;5;129;01mnot\u001b[39;00m exist_ok \u001b[38;5;129;01mor\u001b[39;00m \u001b[38;5;129;01mnot\u001b[39;00m path\u001b[38;5;241m.\u001b[39misdir(name):\n",
      "\u001b[0;31mFileExistsError\u001b[0m: [Errno 17] File exists: '/root/data/gdsc_data/data_processed/data_8c86715/07_split_original_into_windows_with_short_samples/train/short_only'"
     ]
    }
   ],
   "source": [
    "workers.run_main()"
   ]
  },
  {
   "cell_type": "code",
   "execution_count": 7,
   "id": "f10d558a-5030-4a11-a6f1-41774ea7433f",
   "metadata": {
    "tags": []
   },
   "outputs": [],
   "source": [
    "original_train_dir = os.path.join(source_dir, 'train/')\n",
    "dest_train_dir = os.path.join(data_processed_base, DATA_TAG, '07_split_original_into_windows_with_short_samples/train/long_only')\n",
    "\n",
    "workers = BuzzOriginalSplitDatasetParallel(\n",
    "    original_train_dir, \n",
    "    dest_train_dir,\n",
    "    MODEL_SR=32000,\n",
    "    train_dataset=True,\n",
    "    dp_class_args={\n",
    "        'long_only':True,        \n",
    "    },\n",
    "    metadata_csv=os.path.join(original_train_dir, 'metadata.csv'), \n",
    "    debug=True\n",
    ")"
   ]
  },
  {
   "cell_type": "code",
   "execution_count": 9,
   "id": "bdf79b45-9db6-445a-a0a2-996533c1f1c4",
   "metadata": {
    "tags": []
   },
   "outputs": [
    {
     "name": "stdout",
     "output_type": "stream",
     "text": [
      "Generating new train/val files in '/root/data/gdsc_data/data_processed/data_8c86715/07_split_original_into_windows_with_short_samples/train/long_only' with splitted data...\n"
     ]
    },
    {
     "name": "stderr",
     "output_type": "stream",
     "text": [
      "  0%|          | 0/1751 [00:00<?, ?it/s]"
     ]
    },
    {
     "name": "stdout",
     "output_type": "stream",
     "text": [
      "No silence remove applied: File 'Phaneropteranana_XC755717-221013-Phaneroptera-nana-Spontangesang-FH-1918-14°C_edit4.wav' is too short (2.0sec)No silence remove applied: File 'Yoyettacelis_GBIF2465208563_IN36000894_50988.wav' is too short (5.0sec)No silence remove applied: File 'Pholidopteraaptera_XC751363-dat145-003_edit3.wav' is too short (5.0sec)\n",
      "No silence remove applied: File 'Roeselianaroeselii_XC752367-dat006-010.wav' is too short (7.654671201814059sec)\n",
      "\n",
      "Yoyettacelis_GBIF2465208563_IN36000894_50988.wav skipped as too shortPhaneropteranana_XC755717-221013-Phaneroptera-nana-Spontangesang-FH-1918-14°C_edit4.wav skipped as too short\n",
      "\n",
      "Roeselianaroeselii_XC752367-dat006-010.wav skipped as too shortPholidopteraaptera_XC751363-dat145-003_edit3.wav skipped as too shortNo silence remove applied: File 'Chorthippusmollis_XC752529-dat186-002_edit1.wav' is too short (5.0sec)\n",
      "\n",
      "\n",
      "\n",
      "No silence remove applied: File 'Tettigoniaviridissima_200726_0062.M.wav' is too short (6.02249433106576sec)\n",
      "No silence remove applied: File 'Yoyettacelis_GBIF1935609794_IN18143852_27225.wav' is too short (2.1942857142857144sec)No silence remove applied: File 'Chorthippusbrunneus_XC751407-dat024-016_edit3.wav' is too short (2.236281179138322sec)\n",
      "Chorthippusmollis_XC752529-dat186-002_edit1.wav skipped as too short\n",
      "Tettigoniaviridissima_200726_0062.M.wav skipped as too short\n"
     ]
    },
    {
     "name": "stderr",
     "output_type": "stream",
     "text": [
      "  0%|          | 5/1751 [00:00<00:41, 41.83it/s]"
     ]
    },
    {
     "name": "stdout",
     "output_type": "stream",
     "text": [
      "Chorthippusbrunneus_XC751407-dat024-016_edit3.wav skipped as too shortYoyettacelis_GBIF1935609794_IN18143852_27225.wav skipped as too short\n",
      "\n",
      "\n",
      "Chorthippusapricarius_XC752128-dat028-008_edit4.wav skipped as too short\n",
      "No silence remove applied: File 'Yoyettacelis_GBIF2868112079_IN60578753_138082.wav' is too short (3.7sec)\n",
      "No silence remove applied: File 'Yoyettacelis_GBIF2429339163_IN33733855_47840.wav' is too short (2.1sec)Yoyettacelis_GBIF2868112079_IN60578753_138082.wav skipped as too short\n",
      "\n",
      "Yoyettacelis_GBIF2429339163_IN33733855_47840.wav skipped as too short\n",
      "Gomphocerippusrufus_XC752285-dat001-045.wav skipped as too shortNo silence remove applied: File 'Chrysochraondispar_XC751694-dat030-010_edit5.wav' is too short (4.0sec)\n",
      "No silence remove applied: File 'Yoyettacelis_GBIF1931513793_IN17549783_26574_edit1.wav' is too short (2.7999773242630384sec)\n",
      "\n",
      "Chrysochraondispar_XC751694-dat030-010_edit5.wav skipped as too shortNo silence remove applied: File 'Pholidopteralittoralis_XC752435-dat056-008_edit2.wav' is too short (4.0sec)Yoyettacelis_GBIF1931513793_IN17549783_26574_edit1.wav skipped as too short\n",
      "\n",
      "\n",
      "Pholidopteralittoralis_XC752435-dat056-008_edit2.wav skipped as too short\n",
      "No silence remove applied: File 'Yoyettacelis_GBIF2423214173_IN33293862_47476_edit2.wav' is too short (5.0sec)\n",
      "No silence remove applied: File 'Yoyettacelis_GBIF2980793264_IN64275287_147122.wav' is too short (4.1sec)Eupholidopteraschmidti_XC752430-dat051-014_edit1.wav skipped as too shortYoyettacelis_GBIF2423214173_IN33293862_47476_edit2.wav skipped as too short\n",
      "\n",
      "No silence remove applied: File 'Yoyettacelis_GBIF1914242888_IN16954491_26130_edit2.wav' is too short (5.0sec)No silence remove applied: File 'Tettigoniacantans_XC751948-dat035-007_edit1.wav' is too short (6.0sec)"
     ]
    },
    {
     "name": "stderr",
     "output_type": "stream",
     "text": [
      "  1%|          | 16/1751 [00:00<00:24, 71.78it/s]"
     ]
    },
    {
     "name": "stdout",
     "output_type": "stream",
     "text": [
      "Yoyettacelis_GBIF2980793264_IN64275287_147122.wav skipped as too short\n",
      "\n",
      "\n",
      "Yoyettacelis_GBIF1914242888_IN16954491_26130_edit2.wav skipped as too short\n",
      "\n",
      "No silence remove applied: File 'Conocephalusfuscus_XC752388-dat036-006_edit5.wav' is too short (3.0sec)Tettigoniacantans_XC751948-dat035-007_edit1.wav skipped as too shortNo silence remove applied: File 'Grylluscampestris_GRYCAM_20210728_115826.M.wav' is too short (6.263990929705216sec)\n",
      "\n",
      "Grylluscampestris_GRYCAM_20210728_115826.M.wav skipped as too shortNo silence remove applied: File 'Roeselianaroeselii_XC751812-dat025-010_edit1.wav' is too short (4.0sec)\n",
      "\n",
      "Roeselianaroeselii_XC751812-dat025-010_edit1.wav skipped as too short\n",
      "Conocephalusfuscus_XC752388-dat036-006_edit5.wav skipped as too short\n",
      "\n",
      "Conocephalusfuscus_XC751488-dat129-010_edit2.wav Long sample (31.018662131519275) and normal splitting\n",
      "Omocestusviridulus_XC752264-dat012-008_edit5.wav skipped as too short\n"
     ]
    },
    {
     "name": "stderr",
     "output_type": "stream",
     "text": [
      "  1%|▏         | 24/1751 [00:00<00:27, 62.37it/s]"
     ]
    },
    {
     "name": "stdout",
     "output_type": "stream",
     "text": [
      "No silence remove applied: File 'Yoyettarepetens_GBIF1935587037_IN18019361_27042_edit1.wav' is too short (3.0sec)\n",
      "Yoyettarepetens_GBIF1935587037_IN18019361_27042_edit1.wav skipped as too shortMetriopterabrachyptera_XC752073-dat017-011_edit4.wav skipped as too short\n",
      "\n",
      "Omocestusrufipes_XC751625-dat015-008_edit1.wav skipped as too short\n",
      "No silence remove applied: File 'Pholidopteraaptera_XC751369-dat146-003_edit5.wav' is too short (6.0sec)\n",
      "Pholidopteraaptera_XC751369-dat146-003_edit5.wav skipped as too short\n",
      "Omocestusviridulus_XC752266-dat013-002_edit1.wav skipped as too short\n",
      "Melanogryllusdesertus_XC752512-dat047-001_edit2.wav skipped as too short\n",
      "No silence remove applied: File 'Cyclochilaaustralasiae_GBIF2883236324_IN61761362_140722.wav' is too short (4.5sec)\n",
      "Omocestuspetraeus_XC754538-CLEANED-Omocestus-petraeus-e-haemorroidalis-Mad_Acero_20180822-144031_1CH250K16_edit2.wav Long sample (35.99861678004535) and normal splittingCyclochilaaustralasiae_GBIF2883236324_IN61761362_140722.wav skipped as too short\n",
      "\n"
     ]
    },
    {
     "name": "stderr",
     "output_type": "stream",
     "text": [
      "  2%|▏         | 31/1751 [00:00<00:34, 50.05it/s]"
     ]
    },
    {
     "name": "stdout",
     "output_type": "stream",
     "text": [
      "No silence remove applied: File 'Pseudochorthippusmontanus_XC752605-dat012-003_edit2.wav' is too short (4.0sec)\n",
      "Pseudochorthippusmontanus_XC752605-dat012-003_edit2.wav skipped as too short\n",
      "Myrmeleotettixmaculatus_XC752575-dat020-007_edit7.wav skipped as too short\n",
      "No silence remove applied: File 'Pseudochorthippusparallelus_XC751401-dat023-002_edit5.wav' is too short (3.0sec)\n",
      "Pseudochorthippusparallelus_XC751401-dat023-002_edit5.wav skipped as too short\n",
      "Clinopsaltaautumna_GBIF1931521256_IN17584864_26614.wav skipped as too short\n",
      "No silence remove applied: File 'Cicadaorni_GBIF3858185798_IN92675943_297632.wav' is too short (8.208253968253969sec)\n",
      "Cicadaorni_GBIF3858185798_IN92675943_297632.wav skipped as too shortTettigoniacantans_XC751942-dat033-013_edit8.wav skipped as too short\n",
      "\n",
      "Omocestusviridulus_XC752264-dat012-008_edit13.wav Long sample (58.065283446712016) and normal splitting\n"
     ]
    },
    {
     "name": "stderr",
     "output_type": "stream",
     "text": [
      "  2%|▏         | 37/1751 [00:00<00:37, 45.66it/s]"
     ]
    },
    {
     "name": "stdout",
     "output_type": "stream",
     "text": [
      "No silence remove applied: File 'Yoyettacelis_GBIF1933590392_IN17998412_26913_edit1.wav' is too short (4.636349206349206sec)\n",
      "Yoyettacelis_GBIF1933590392_IN17998412_26913_edit1.wav skipped as too short\n",
      "No silence remove applied: File 'Omocestusrufipes_GBIF3784950093_IN117300099_440758_edit1.wav' is too short (5.0sec)\n",
      "Omocestusrufipes_GBIF3784950093_IN117300099_440758_edit1.wav skipped as too short\n",
      "No silence remove applied: File 'Pholidopteralittoralis_XC752436-dat047-003_edit1.wav' is too short (3.0sec)\n",
      "Pholidopteralittoralis_XC752436-dat047-003_edit1.wav skipped as too short\n"
     ]
    },
    {
     "name": "stderr",
     "output_type": "stream",
     "text": [
      "  2%|▏         | 42/1751 [00:00<00:39, 43.28it/s]"
     ]
    },
    {
     "name": "stdout",
     "output_type": "stream",
     "text": [
      "Roeselianaroeselii_XC751814-dat028-019_edit1.wav Long sample (103.99546485260771) and normal splitting\n",
      "Chorthippusbiguttulus_XC751834-dat031-007_edit4.wav skipped as too short\n",
      "Decticusverrucivorus_GBIF3330457948_IN87508617_276744.wav skipped as too short\n",
      "No silence remove applied: File 'Popplepsaltaaeroides_GBIF2596117378_IN40941442_64969_edit1.wav' is too short (3.5sec)\n",
      "Popplepsaltaaeroides_GBIF2596117378_IN40941442_64969_edit1.wav skipped as too short\n",
      "Chorthippusmollis_XC751981-dat017-016_edit7.wav skipped as too short\n"
     ]
    },
    {
     "name": "stderr",
     "output_type": "stream",
     "text": [
      "  3%|▎         | 47/1751 [00:01<01:46, 16.04it/s]"
     ]
    },
    {
     "name": "stdout",
     "output_type": "stream",
     "text": [
      "No silence remove applied: File 'Omocestuspetraeus_XC752471-dat055-008_edit2.wav' is too short (2.0sec)\n",
      "Omocestuspetraeus_XC752471-dat055-008_edit2.wav skipped as too short\n",
      "Phaneropterafalcata_XC751637-dat030-014_edit1.wav Long sample (133.58997732426303) and normal splitting\n",
      "Stenobothruslineatus_XC752396-dat025-007_edit3.wav Long sample (139.2468253968254) and normal splitting\n",
      "Atrapsaltaencaustica_GBIF1807280598_IN9325887_17000.wav Long sample (58.51746031746032) and normal splitting\n",
      "Phaneropteranana_XC751923-dat066-013.wav Long sample (161.72301587301587) and normal splitting\n",
      "Oecanthuspellucens_GBIF3902653882_IN126660228_501364.wav skipped as too short\n",
      "No silence remove applied: File 'Gryllusbimaculatus_XC751731-dat001-025_edit1.wav' is too short (6.0sec)\n",
      "Gryllusbimaculatus_XC751731-dat001-025_edit1.wav skipped as too short\n"
     ]
    },
    {
     "name": "stderr",
     "output_type": "stream",
     "text": [
      "  3%|▎         | 51/1751 [00:02<02:31, 11.21it/s]"
     ]
    },
    {
     "name": "stdout",
     "output_type": "stream",
     "text": [
      "Leptophyespunctatissima_XC751895-dat023-008.wav Long sample (162.70612244897958) and normal splitting\n",
      "Gomphocerussibiricus_XC751880-dat055-005_edit1.wav skipped as too short\n",
      "No silence remove applied: File 'Chorthippusvagans_XC751802-dat014-007_edit3.wav' is too short (6.0sec)\n",
      "Chorthippusvagans_XC751802-dat014-007_edit3.wav skipped as too short\n"
     ]
    },
    {
     "name": "stderr",
     "output_type": "stream",
     "text": [
      "  3%|▎         | 54/1751 [00:02<02:21, 12.02it/s]"
     ]
    },
    {
     "name": "stdout",
     "output_type": "stream",
     "text": [
      "Platypleuracfcatenata_MHV%20393%20P.catenata%20Jefferies%20Bay%20%231_edit1.wav skipped as too short\n",
      "No silence remove applied: File 'Yoyettacelis_GBIF1978445311_IN19058523_28358.wav' is too short (2.4380952380952383sec)\n",
      "Yoyettacelis_GBIF1978445311_IN19058523_28358.wav skipped as too short\n",
      "No silence remove applied: File 'Barbitistesyersini_XC752461-dat047-009_edit3.wav' is too short (3.0sec)\n",
      "Barbitistesyersini_XC752461-dat047-009_edit3.wav skipped as too short\n",
      "No silence remove applied: File 'Pseudochorthippusparallelus_XC752314-dat005-060_edit4.wav' is too short (3.0sec)\n",
      "Pseudochorthippusparallelus_XC752314-dat005-060_edit4.wav skipped as too short\n",
      "Gomphocerippusrufus_XC751303-dat150-005_edit3.wav skipped as too short\n"
     ]
    },
    {
     "name": "stderr",
     "output_type": "stream",
     "text": [
      "  3%|▎         | 59/1751 [00:02<02:06, 13.38it/s]"
     ]
    },
    {
     "name": "stdout",
     "output_type": "stream",
     "text": [
      "No silence remove applied: File 'Grylluscampestris_GBIF3772909343_IN114391996_417845_edit1.wav' is too short (4.0sec)\n",
      "Grylluscampestris_GBIF3772909343_IN114391996_417845_edit1.wav skipped as too short\n",
      "No silence remove applied: File 'Cyclochilaaustralasiae_GBIF2988654650_IN65392091_150201.wav' is too short (4.8sec)\n",
      "Cyclochilaaustralasiae_GBIF2988654650_IN65392091_150201.wav skipped as too short\n"
     ]
    },
    {
     "name": "stderr",
     "output_type": "stream",
     "text": [
      "  4%|▎         | 63/1751 [00:02<01:46, 15.82it/s]"
     ]
    },
    {
     "name": "stdout",
     "output_type": "stream",
     "text": [
      "Chorthippusbiguttulus_XC751620-dat001-053_edit1.wav skipped as too short\n",
      "Ephippigerdiurnus_XC751512-dat003-034.wav Long sample (45.2581179138322) and normal splitting\n",
      "No silence remove applied: File 'Pseudochorthippusmontanus_XC752604-dat012-002_edit1.wav' is too short (6.0sec)\n",
      "Chorthippusvagans_XC751804-dat014-009_edit4.wav skipped as too shortPseudochorthippusmontanus_XC752604-dat012-002_edit1.wav skipped as too short\n",
      "\n"
     ]
    },
    {
     "name": "stderr",
     "output_type": "stream",
     "text": [
      "  4%|▍         | 66/1751 [00:03<01:35, 17.57it/s]"
     ]
    },
    {
     "name": "stdout",
     "output_type": "stream",
     "text": [
      "No silence remove applied: File 'Chorthippusbiguttulus_XC751461-dat185-005_edit4.wav' is too short (9.0sec)\n",
      "Chorthippusbiguttulus_XC751461-dat185-005_edit4.wav skipped as too short\n",
      "No silence remove applied: File 'Chorthippusbrunneus_XC751388-dat007-005_edit6.wav' is too short (2.0sec)\n",
      "Chorthippusbrunneus_XC751388-dat007-005_edit6.wav skipped as too short\n",
      "Grylluscampestris_GBIF3384612718_IN80906045_239607_edit1.wav skipped as too short\n",
      "No silence remove applied: File 'Yoyettacelis_GBIF2429569098_IN34291948_48425_edit1.wav' is too short (3.5sec)\n",
      "Yoyettacelis_GBIF2429569098_IN34291948_48425_edit1.wav skipped as too short\n"
     ]
    },
    {
     "name": "stderr",
     "output_type": "stream",
     "text": [
      "  4%|▍         | 70/1751 [00:03<01:24, 19.88it/s]"
     ]
    },
    {
     "name": "stdout",
     "output_type": "stream",
     "text": [
      "No silence remove applied: File 'Chorthippusbrunneus_XC751388-dat007-005_edit7.wav' is too short (1.5sec)\n",
      "Chorthippusbrunneus_XC751388-dat007-005_edit7.wav skipped as too short\n",
      "No silence remove applied: File 'Yoyettacelis_GBIF2429354623_IN33784488_47906.wav' is too short (2.8sec)\n",
      "Yoyettacelis_GBIF2429354623_IN33784488_47906.wav skipped as too short\n",
      "No silence remove applied: File 'Myrmeleotettixmaculatus_XC752587-dat009-006_edit1.wav' is too short (6.0sec)\n",
      "Myrmeleotettixmaculatus_XC752587-dat009-006_edit1.wav skipped as too short\n"
     ]
    },
    {
     "name": "stderr",
     "output_type": "stream",
     "text": [
      "  4%|▍         | 73/1751 [00:03<01:17, 21.59it/s]"
     ]
    },
    {
     "name": "stdout",
     "output_type": "stream",
     "text": [
      "Chorthippusbiguttulus_XC751461-dat185-005_edit5.wav skipped as too short\n"
     ]
    },
    {
     "name": "stderr",
     "output_type": "stream",
     "text": [
      "  4%|▍         | 76/1751 [00:03<01:13, 22.66it/s]"
     ]
    },
    {
     "name": "stdout",
     "output_type": "stream",
     "text": [
      "Gryllusbimaculatus_XC751730-dat007-026.wav Long sample (106.9431746031746) and normal splittingNo silence remove applied: File 'Chorthippusvagans_XC751804-dat014-009_edit5.wav' is too short (8.0sec)\n",
      "\n",
      "Chorthippusvagans_XC751804-dat014-009_edit5.wav skipped as too short\n",
      "No silence remove applied: File 'Stenobothrusstigmaticus_XC752008-dat005-004.wav' is too short (4.839977324263039sec)\n",
      "Stenobothrusstigmaticus_XC752008-dat005-004.wav skipped as too short\n",
      "No silence remove applied: File 'Stenobothrusstigmaticus_XC752015-dat005-011.wav' is too short (9.62609977324263sec)\n",
      "No silence remove applied: File 'Pseudochorthippusparallelus_XC752314-dat005-060_edit5.wav' is too short (2.0sec)Stenobothrusstigmaticus_XC752015-dat005-011.wav skipped as too short\n",
      "\n",
      "Grylluscampestris_XC757121-221012_0901-Ervedal_Field-Cricket.wav skipped as too shortPseudochorthippusparallelus_XC752314-dat005-060_edit5.wav skipped as too short\n",
      "\n",
      "Tylopsislilifolia_XC751308-dat067-001_edit1.wav skipped as too shortNo silence remove applied: File 'Chorthippusvagans_XC751802-dat014-007_edit2.wav' is too short (7.0sec)\n",
      "\n"
     ]
    },
    {
     "name": "stderr",
     "output_type": "stream",
     "text": [
      "  5%|▍         | 82/1751 [00:03<00:55, 30.01it/s]"
     ]
    },
    {
     "name": "stdout",
     "output_type": "stream",
     "text": [
      "Chorthippusvagans_XC751802-dat014-007_edit2.wav skipped as too short\n",
      "No silence remove applied: File 'Barbitistesyersini_XC752461-dat047-009_edit2.wav' is too short (2.0sec)\n",
      "Barbitistesyersini_XC752461-dat047-009_edit2.wav skipped as too short\n",
      "Chorthippusbiguttulus_XC752336-dat004-021.wav skipped as too short\n"
     ]
    },
    {
     "name": "stderr",
     "output_type": "stream",
     "text": [
      "  5%|▍         | 86/1751 [00:03<00:56, 29.42it/s]"
     ]
    },
    {
     "name": "stdout",
     "output_type": "stream",
     "text": [
      "No silence remove applied: File 'Ephippigerdiurnus_XC751705-dat064-008_edit1.wav' is too short (2.0sec)\n",
      "Ephippigerdiurnus_XC751705-dat064-008_edit1.wav skipped as too short\n",
      "Gomphocerippusrufus_XC751303-dat150-005_edit2.wav skipped as too short\n",
      "Chorthippusmollis_XC751981-dat017-016_edit6.wav skipped as too short\n",
      "Stenobothruslineatus_XC751986-dat017-021_edit1.wav skipped as too short\n",
      "Tettigoniacantans_XC751944-dat034-023.wav Long sample (152.27936507936508) and normal splitting"
     ]
    },
    {
     "name": "stderr",
     "output_type": "stream",
     "text": [
      "  5%|▌         | 90/1751 [00:03<01:05, 25.30it/s]"
     ]
    },
    {
     "name": "stdout",
     "output_type": "stream",
     "text": [
      "\n",
      "Ephippigerdiurnus_XC752329-dat026-050.wav Long sample (51.48358276643991) and normal splitting\n",
      "Conocephalusfuscus_XC751487-dat129-009.wav Long sample (47.114285714285714) and normal splitting\n",
      "Chorthippusbrunneus_XC751544-dat011-005_edit1.wav skipped as too short\n",
      "No silence remove applied: File 'Omocestuspetraeus_XC752471-dat055-008_edit3.wav' is too short (1.0sec)\n",
      "Omocestuspetraeus_XC752471-dat055-008_edit3.wav skipped as too short\n",
      "Leptophyespunctatissima_XC751806-dat023-011_edit1.wav Long sample (42.79789115646258) and normal splitting\n"
     ]
    },
    {
     "name": "stderr",
     "output_type": "stream",
     "text": [
      "  5%|▌         | 93/1751 [00:04<01:35, 17.42it/s]"
     ]
    },
    {
     "name": "stdout",
     "output_type": "stream",
     "text": [
      "Gryllusbimaculatus_XC751743-dat007-027_edit3.wav Long sample (82.02145124716553) and normal splitting\n",
      "No silence remove applied: File 'Stenobothrusstigmaticus_XC752004-dat004-049.wav' is too short (7.692403628117914sec)\n",
      "Stenobothrusstigmaticus_XC752004-dat004-049.wav skipped as too short\n"
     ]
    },
    {
     "name": "stderr",
     "output_type": "stream",
     "text": [
      "  5%|▌         | 96/1751 [00:04<01:41, 16.26it/s]"
     ]
    },
    {
     "name": "stdout",
     "output_type": "stream",
     "text": [
      "Pholidopteraaptera_XC752410-dat097-007_edit2.wav Long sample (72.60532879818594) and normal splitting\n",
      "Pholidopteragriseoaptera_XC751504-dat003-031.wav Long sample (53.74283446712018) and normal splitting\n",
      "Gomphocerippusrufus_XC751302-dat150-004_edit1.wav skipped as too short\n"
     ]
    },
    {
     "name": "stderr",
     "output_type": "stream",
     "text": [
      "  6%|▌         | 98/1751 [00:04<02:13, 12.38it/s]"
     ]
    },
    {
     "name": "stdout",
     "output_type": "stream",
     "text": [
      "Chorthippusbiguttulus_XC751834-dat031-007_edit5.wav Long sample (49.208730158730155) and normal splitting\n"
     ]
    },
    {
     "name": "stderr",
     "output_type": "stream",
     "text": [
      "  6%|▌         | 100/1751 [00:05<02:55,  9.39it/s]"
     ]
    },
    {
     "name": "stdout",
     "output_type": "stream",
     "text": [
      "No silence remove applied: File 'Pseudochorthippusparallelus_XC751401-dat023-002_edit4.wav' is too short (2.0sec)\n",
      "Pseudochorthippusparallelus_XC751401-dat023-002_edit4.wav skipped as too short\n",
      "No silence remove applied: File 'Yoyettacelis_GBIF1933590420_IN17998496_26914_edit1.wav' is too short (3.0sec)\n",
      "Yoyettacelis_GBIF1933590420_IN17998496_26914_edit1.wav skipped as too short\n",
      "No silence remove applied: File 'Tettigoniacantans_XC751942-dat033-013_edit9.wav' is too short (8.0sec)\n",
      "Tettigoniacantans_XC751942-dat033-013_edit9.wav skipped as too short\n",
      "No silence remove applied: File 'Pseudochorthippusmontanus_XC752605-dat012-003_edit3.wav' is too short (4.0sec)\n",
      "Pseudochorthippusmontanus_XC752605-dat012-003_edit3.wav skipped as too short\n",
      "No silence remove applied: File 'Pholidopteraaptera_XC751369-dat146-003_edit4.wav' is too short (6.0sec)\n",
      "Pholidopteraaptera_XC751369-dat146-003_edit4.wav skipped as too short\n"
     ]
    },
    {
     "name": "stderr",
     "output_type": "stream",
     "text": [
      "  6%|▌         | 107/1751 [00:05<01:39, 16.45it/s]"
     ]
    },
    {
     "name": "stdout",
     "output_type": "stream",
     "text": [
      "No silence remove applied: File 'Nemobiussylvestris_MixPre-304.M.wav' is too short (5.901337868480725sec)\n",
      "Nemobiussylvestris_MixPre-304.M.wav skipped as too short\n",
      "Stenobothrusstigmaticus_XC751550-dat014-005_edit1.wav skipped as too short\n"
     ]
    },
    {
     "name": "stderr",
     "output_type": "stream",
     "text": [
      "  6%|▋         | 110/1751 [00:05<01:30, 18.14it/s]"
     ]
    },
    {
     "name": "stdout",
     "output_type": "stream",
     "text": [
      "Myrmeleotettixmaculatus_XC752575-dat020-007_edit6.wav skipped as too short\n",
      "Platypleurasp13_MHV%201487%20P.sp%2013%20nr%20Thornhill%20%235_edit1.wav skipped as too short\n",
      "Gomphocerussibiricus_XC751325-dat055-004_edit1.wav skipped as too short\n"
     ]
    },
    {
     "name": "stderr",
     "output_type": "stream",
     "text": [
      "  6%|▋         | 113/1751 [00:05<01:49, 14.98it/s]"
     ]
    },
    {
     "name": "stdout",
     "output_type": "stream",
     "text": [
      "No silence remove applied: File 'Conocephalusfuscus_XC752388-dat036-006_edit4.wav' is too short (7.0sec)\n",
      "Conocephalusfuscus_XC752388-dat036-006_edit4.wav skipped as too short\n",
      "No silence remove applied: File 'Yoyettarepetens_GBIF1990573129_IN19834809_30480.wav' is too short (7.964444444444444sec)\n",
      "Yoyettarepetens_GBIF1990573129_IN19834809_30480.wav skipped as too short\n",
      "Omocestusviridulus_XC752264-dat012-008_edit4.wav skipped as too short\n"
     ]
    },
    {
     "name": "stderr",
     "output_type": "stream",
     "text": [
      "  7%|▋         | 116/1751 [00:05<01:38, 16.54it/s]"
     ]
    },
    {
     "name": "stdout",
     "output_type": "stream",
     "text": [
      "No silence remove applied: File 'Roeselianaroeselii_GBIF3355398555_IN84246142_260646_edit2.wav' is too short (4.988185941043084sec)\n",
      "Roeselianaroeselii_GBIF3355398555_IN84246142_260646_edit2.wav skipped as too short\n",
      "Gryllusbimaculatus_XC751743-dat007-027_edit2.wav Long sample (35.558843537414965) and normal splitting\n",
      "No silence remove applied: File 'Pholidopteralittoralis_XC752435-dat056-008_edit3.wav' is too short (4.0sec)\n",
      "Pholidopteralittoralis_XC752435-dat056-008_edit3.wav skipped as too short\n",
      "Omocestuspetraeus_XC754538-CLEANED-Omocestus-petraeus-e-haemorroidalis-Mad_Acero_20180822-144031_1CH250K16_edit3.wav Long sample (34.997845804988664) and normal splitting\n",
      "Omocestusviridulus_XC752271-dat009-008_edit1.wav skipped as too short\n"
     ]
    },
    {
     "name": "stderr",
     "output_type": "stream",
     "text": [
      "  7%|▋         | 119/1751 [00:06<02:02, 13.30it/s]"
     ]
    },
    {
     "name": "stdout",
     "output_type": "stream",
     "text": [
      "No silence remove applied: File 'Chorthippusalbomarginatus_XC751373-dat001-024_edit1.wav' is too short (9.0sec)\n",
      "Chorthippusalbomarginatus_XC751373-dat001-024_edit1.wav skipped as too short\n",
      "No silence remove applied: File 'Pholidopteragriseoaptera_XC752318-dat005-038_edit1.wav' is too short (2.0sec)\n",
      "No silence remove applied: File 'Chrysochraondispar_XC751694-dat030-010_edit4.wav' is too short (4.0sec)Pholidopteragriseoaptera_XC752318-dat005-038_edit1.wav skipped as too short\n",
      "\n",
      "\n",
      "Chrysochraondispar_XC751694-dat030-010_edit4.wav skipped as too short"
     ]
    },
    {
     "name": "stderr",
     "output_type": "stream",
     "text": [
      "  7%|▋         | 123/1751 [00:06<01:35, 17.01it/s]"
     ]
    },
    {
     "name": "stdout",
     "output_type": "stream",
     "text": [
      "No silence remove applied: File 'Conocephalusfuscus_XC751488-dat129-010_edit3.wav' is too short (4.0sec)\n",
      "Conocephalusfuscus_XC751488-dat129-010_edit3.wav skipped as too short\n",
      "No silence remove applied: File 'Chorthippusbrunneus_XC751407-dat024-016_edit2.wav' is too short (8.0sec)\n",
      "Chorthippusbrunneus_XC751407-dat024-016_edit2.wav skipped as too short\n"
     ]
    },
    {
     "name": "stderr",
     "output_type": "stream",
     "text": [
      "  7%|▋         | 126/1751 [00:06<01:25, 19.12it/s]"
     ]
    },
    {
     "name": "stdout",
     "output_type": "stream",
     "text": [
      "Conocephalusdorsalis_XC754418-RO12hi2_Take12.wav Long sample (91.29759637188208) and normal splitting\n",
      "Stenobothruslineatus_XC751989-dat018-002_edit1.wav Long sample (32.243537414965985) and normal splitting\n",
      "Achetadomesticus_XC751738-dat004-038.wav skipped as too short\n",
      "Omocestusviridulus_XC752264-dat012-008_edit12.wav Long sample (31.461496598639457) and normal splittingStenobothruslineatus_XC752396-dat025-007_edit2.wav Long sample (204.1743537414966) and normal splitting\n",
      "\n",
      "Chorthippusapricarius_XC752590-dat004-011.wav skipped as too short\n"
     ]
    },
    {
     "name": "stderr",
     "output_type": "stream",
     "text": [
      "  7%|▋         | 129/1751 [00:06<02:12, 12.21it/s]"
     ]
    },
    {
     "name": "stdout",
     "output_type": "stream",
     "text": [
      "No silence remove applied: File 'Pholidopteraaptera_XC751363-dat145-003_edit2.wav' is too short (4.0sec)\n",
      "Pholidopteraaptera_XC751363-dat145-003_edit2.wav skipped as too short\n",
      "Nemobiussylvestris_XC752026-dat006-004_edit1.wav skipped as too short\n",
      "No silence remove applied: File 'Phaneropteranana_XC755717-221013-Phaneroptera-nana-Spontangesang-FH-1918-14°C_edit5.wav' is too short (2.0sec)\n",
      "Phaneropteranana_XC755717-221013-Phaneroptera-nana-Spontangesang-FH-1918-14°C_edit5.wav skipped as too short\n",
      "No silence remove applied: File 'Yoyettacelis_GBIF3031725753_IN68038441_158517_edit2.wav' is too short (2.6sec)\n",
      "Yoyettacelis_GBIF3031725753_IN68038441_158517_edit2.wav skipped as too short\n"
     ]
    },
    {
     "name": "stderr",
     "output_type": "stream",
     "text": [
      "  8%|▊         | 134/1751 [00:07<01:36, 16.80it/s]"
     ]
    },
    {
     "name": "stdout",
     "output_type": "stream",
     "text": [
      "No silence remove applied: File 'Clinopsaltaautumna_GBIF1949986195_IN18667268_27938_edit2.wav' is too short (4.2122222222222225sec)\n",
      "Clinopsaltaautumna_GBIF1949986195_IN18667268_27938_edit2.wav skipped as too short\n",
      "Chorthippusapricarius_XC752128-dat028-008_edit5.wav skipped as too short\n",
      "No silence remove applied: File 'Popplepsaltanotialis_GBIF2529284366_IN36634538_52768.wav' is too short (8.4sec)\n",
      "Popplepsaltanotialis_GBIF2529284366_IN36634538_52768.wav skipped as too short\n",
      "No silence remove applied: File 'Chorthippusmollis_XC752529-dat186-002_edit2.wav' is too short (5.0sec)\n",
      "Chorthippusmollis_XC752529-dat186-002_edit2.wav skipped as too short\n"
     ]
    },
    {
     "name": "stderr",
     "output_type": "stream",
     "text": [
      "  8%|▊         | 138/1751 [00:07<01:23, 19.28it/s]"
     ]
    },
    {
     "name": "stdout",
     "output_type": "stream",
     "text": [
      "Roeselianaroeselii_XC751814-dat028-019_edit2.wav skipped as too short\n",
      "No silence remove applied: File 'Phaneropteranana_XC755717-221013-Phaneroptera-nana-Spontangesang-FH-1918-14°C_edit7.wav' is too short (2.0sec)Platypleurasp12cfhirtipennis_MHV%20602%20P.sp12%2020km%20SE%20Prince%20Albert_edit2.wav Long sample (50.98877551020408) and normal splitting\n",
      "\n",
      "Phaneropteranana_XC755717-221013-Phaneroptera-nana-Spontangesang-FH-1918-14°C_edit7.wav skipped as too short\n"
     ]
    },
    {
     "name": "stderr",
     "output_type": "stream",
     "text": [
      "  8%|▊         | 141/1751 [00:07<01:32, 17.44it/s]"
     ]
    },
    {
     "name": "stdout",
     "output_type": "stream",
     "text": [
      "Omocestusviridulus_XC752264-dat012-008_edit10.wav Long sample (50.10215419501134) and normal splitting\n",
      "No silence remove applied: File 'Popplepsaltanotialis_GBIF2901514767_IN62846256_143388.wav' is too short (8.7sec)\n",
      "Popplepsaltanotialis_GBIF2901514767_IN62846256_143388.wav skipped as too short\n",
      "Pseudochorthippusparallelus_XC751451-dat044-016.wav Long sample (326.03269841269844) and normal splitting\n",
      "Stenobothruslineatus_XC751989-dat018-002_edit3.wav skipped as too short\n"
     ]
    },
    {
     "name": "stderr",
     "output_type": "stream",
     "text": [
      "  8%|▊         | 144/1751 [00:08<02:44,  9.79it/s]"
     ]
    },
    {
     "name": "stdout",
     "output_type": "stream",
     "text": [
      "Eupholidopteraschmidti_XC752430-dat051-014_edit2.wav Long sample (70.9978231292517) and normal splitting\n"
     ]
    },
    {
     "name": "stderr",
     "output_type": "stream",
     "text": [
      "  8%|▊         | 146/1751 [00:08<02:33, 10.44it/s]"
     ]
    },
    {
     "name": "stdout",
     "output_type": "stream",
     "text": [
      "No silence remove applied: File 'Yoyettacelis_GBIF2423214173_IN33293862_47476_edit1.wav' is too short (3.4sec)\n",
      "Yoyettacelis_GBIF2423214173_IN33293862_47476_edit1.wav skipped as too short\n",
      "No silence remove applied: File 'Pholidopteralittoralis_XC752440-dat049-002_edit5.wav' is too short (2.0sec)\n",
      "Pholidopteralittoralis_XC752440-dat049-002_edit5.wav skipped as too short\n"
     ]
    },
    {
     "name": "stderr",
     "output_type": "stream",
     "text": [
      "  9%|▊         | 149/1751 [00:08<03:14,  8.24it/s]"
     ]
    },
    {
     "name": "stdout",
     "output_type": "stream",
     "text": [
      "Conocephalusfuscus_XC751488-dat129-010_edit1.wav Long sample (86.93122448979592) and normal splitting\n",
      "Metriopterabrachyptera_XC752074-dat017-012.wav Long sample (61.08888888888889) and normal splitting\n",
      "No silence remove applied: File 'Omocestusviridulus_XC752271-dat009-008_edit3.wav' is too short (6.0sec)\n",
      "Omocestusviridulus_XC752271-dat009-008_edit3.wav skipped as too short\n",
      "No silence remove applied: File 'Pholidopteralittoralis_XC752435-dat056-008_edit1.wav' is too short (4.0sec)\n",
      "Pholidopteralittoralis_XC752435-dat056-008_edit1.wav skipped as too short\n",
      "No silence remove applied: File 'Conocephalusfuscus_XC752388-dat036-006_edit6.wav' is too short (5.0sec)\n",
      "Conocephalusfuscus_XC752388-dat036-006_edit6.wav skipped as too short\n"
     ]
    },
    {
     "name": "stderr",
     "output_type": "stream",
     "text": [
      "  9%|▊         | 152/1751 [00:08<02:34, 10.33it/s]"
     ]
    },
    {
     "name": "stdout",
     "output_type": "stream",
     "text": [
      "Grylluscampestris_XC751427-dat010-006.wav Long sample (341.3507256235828) and normal splitting\n",
      "Conocephalusdorsalis_XC751659-dat034-021.wav Long sample (101.77562358276644) and normal splitting\n",
      "Melanogryllusdesertus_XC752507-dat046-006_edit1.wav Long sample (330.94927437641724) and normal splitting\n",
      "No silence remove applied: File 'Tettigoniacantans_XC751948-dat035-007_edit2.wav' is too short (6.0sec)\n",
      "Tettigoniacantans_XC751948-dat035-007_edit2.wav skipped as too short\n"
     ]
    },
    {
     "name": "stderr",
     "output_type": "stream",
     "text": [
      "  9%|▉         | 154/1751 [00:09<03:17,  8.10it/s]"
     ]
    },
    {
     "name": "stdout",
     "output_type": "stream",
     "text": [
      "No silence remove applied: File 'Yoyettacelis_GBIF1914242888_IN16954491_26130_edit1.wav' is too short (1.5sec)\n",
      "Yoyettacelis_GBIF1914242888_IN16954491_26130_edit1.wav skipped as too short\n",
      "No silence remove applied: File 'Pseudochorthippusparallelus_VOC_150705-0325.M.wav' is too short (4.837709750566893sec)\n",
      "Pseudochorthippusparallelus_VOC_150705-0325.M.wav skipped as too short\n",
      "No silence remove applied: File 'Yoyettacelis_GBIF2429266167_IN33463940_47630.wav' is too short (5.6sec)\n",
      "Yoyettacelis_GBIF2429266167_IN33463940_47630.wav skipped as too short\n"
     ]
    },
    {
     "name": "stderr",
     "output_type": "stream",
     "text": [
      "  9%|▉         | 158/1751 [00:09<02:16, 11.70it/s]"
     ]
    },
    {
     "name": "stdout",
     "output_type": "stream",
     "text": [
      "Omocestusviridulus_XC752264-dat012-008_edit6.wav skipped as too short\n",
      "Omocestuspetraeus_XC754538-CLEANED-Omocestus-petraeus-e-haemorroidalis-Mad_Acero_20180822-144031_1CH250K16_edit1.wav skipped as too short\n",
      "Decticusverrucivorus_XC752042-dat132-002_edit1.wav Long sample (99.9459410430839) and normal splittingNo silence remove applied: File 'Chorthippusbrunneus_XC751399-dat022-009_edit5.wav' is too short (8.0sec)\n",
      "Chorthippusbrunneus_XC751399-dat022-009_edit5.wav skipped as too short\n",
      "\n"
     ]
    },
    {
     "name": "stderr",
     "output_type": "stream",
     "text": [
      "  9%|▉         | 161/1751 [00:09<02:35, 10.21it/s]"
     ]
    },
    {
     "name": "stdout",
     "output_type": "stream",
     "text": [
      "No silence remove applied: File 'Roeselianaroeselii_XC751812-dat025-010_edit2.wav' is too short (3.0sec)\n",
      "Roeselianaroeselii_XC751812-dat025-010_edit2.wav skipped as too short\n",
      "Chorthippusbiguttulus_Take91.wav skipped as too short\n"
     ]
    },
    {
     "name": "stderr",
     "output_type": "stream",
     "text": [
      "  9%|▉         | 164/1751 [00:09<02:12, 11.94it/s]"
     ]
    },
    {
     "name": "stdout",
     "output_type": "stream",
     "text": [
      "Omocestusviridulus_XC752266-dat013-002_edit2.wav skipped as too short\n",
      "No silence remove applied: File 'Roeselianaroeselii_XC752368-dat006-011.wav' is too short (9.949410430839002sec)\n",
      "Roeselianaroeselii_XC752368-dat006-011.wav skipped as too short\n"
     ]
    },
    {
     "name": "stderr",
     "output_type": "stream",
     "text": [
      "  9%|▉         | 166/1751 [00:10<02:03, 12.87it/s]"
     ]
    },
    {
     "name": "stdout",
     "output_type": "stream",
     "text": [
      "Gampsocleisglabra_XC751682-dat008-027.wav Long sample (37.71562358276644) and normal splitting\n",
      "Omocestusrufipes_XC751625-dat015-008_edit2.wav skipped as too short\n"
     ]
    },
    {
     "name": "stderr",
     "output_type": "stream",
     "text": [
      " 10%|▉         | 168/1751 [00:10<02:49,  9.35it/s]"
     ]
    },
    {
     "name": "stdout",
     "output_type": "stream",
     "text": [
      "No silence remove applied: File 'Yoyettacelis_GBIF3031945274_IN67783461_157717.wav' is too short (2.0sec)\n",
      "Yoyettacelis_GBIF3031945274_IN67783461_157717.wav skipped as too short\n",
      "No silence remove applied: File 'Psaltodaplaga_GBIF2609086726_IN40216049_62480.wav' is too short (9.2sec)\n",
      "Psaltodaplaga_GBIF2609086726_IN40216049_62480.wav skipped as too short\n",
      "No silence remove applied: File 'Stenobothrusstigmaticus_XC751550-dat014-005_edit3.wav' is too short (4.0sec)\n",
      "Stenobothrusstigmaticus_XC751550-dat014-005_edit3.wav skipped as too short\n"
     ]
    },
    {
     "name": "stderr",
     "output_type": "stream",
     "text": [
      " 10%|▉         | 173/1751 [00:10<01:51, 14.18it/s]"
     ]
    },
    {
     "name": "stdout",
     "output_type": "stream",
     "text": [
      "Myrmeleotettixmaculatus_XC752575-dat020-007_edit4.wav skipped as too short\n",
      "Phaneropterafalcata_XC751637-dat030-014_edit2.wav skipped as too short\n",
      "No silence remove applied: File 'Pholidopteraaptera_XC751369-dat146-003_edit6.wav' is too short (6.0sec)\n",
      "Pholidopteraaptera_XC751369-dat146-003_edit6.wav skipped as too short\n"
     ]
    },
    {
     "name": "stderr",
     "output_type": "stream",
     "text": [
      " 10%|█         | 176/1751 [00:10<01:45, 14.86it/s]"
     ]
    },
    {
     "name": "stdout",
     "output_type": "stream",
     "text": [
      "No silence remove applied: File 'Yoyettacelis_GBIF3384803496_IN94510808_304391.wav' is too short (6.339047619047619sec)\n",
      "Yoyettacelis_GBIF3384803496_IN94510808_304391.wav skipped as too short\n",
      "Pholidopteragriseoaptera_XC751467-dat022-004.wav Long sample (307.43274376417236) and normal splitting\n",
      "Pseudochorthippusmontanus_XC752605-dat012-003_edit1.wav Long sample (41.82632653061224) and normal splitting\n",
      "Roeselianaroeselii_XC751670-dat015-002.wav Long sample (47.87560090702948) and normal splitting\n",
      "Melanogryllusdesertus_XC752512-dat047-001_edit1.wav Long sample (43.169818594104306) and normal splitting\n",
      "Tettigoniacantans_XC751945-dat034-024.wav Long sample (238.6661678004535) and normal splitting\n"
     ]
    },
    {
     "name": "stderr",
     "output_type": "stream",
     "text": [
      " 10%|█         | 178/1751 [00:11<02:52,  9.10it/s]"
     ]
    },
    {
     "name": "stdout",
     "output_type": "stream",
     "text": [
      "No silence remove applied: File 'Yoyettacelis_GBIF2901568976_IN62976789_143740.wav' is too short (1.6sec)\n",
      "Yoyettacelis_GBIF2901568976_IN62976789_143740.wav skipped as too short\n",
      "No silence remove applied: File 'Pholidopteralittoralis_XC752436-dat047-003_edit2.wav' is too short (2.0sec)No silence remove applied: File 'Psaltodaplaga_GBIF2576435133_IN39191190_58851.wav' is too short (7.7sec)\n",
      "\n",
      "Psaltodaplaga_GBIF2576435133_IN39191190_58851.wav skipped as too shortPholidopteralittoralis_XC752436-dat047-003_edit2.wav skipped as too short\n",
      "\n",
      "No silence remove applied: File 'Yoyettacelis_GBIF2874046890_IN61362642_139907.wav' is too short (1.9sec)\n",
      "Yoyettacelis_GBIF2874046890_IN61362642_139907.wav skipped as too short\n"
     ]
    },
    {
     "name": "stderr",
     "output_type": "stream",
     "text": [
      " 11%|█         | 185/1751 [00:11<01:35, 16.33it/s]"
     ]
    },
    {
     "name": "stdout",
     "output_type": "stream",
     "text": [
      "No silence remove applied: File 'Cicadaorni_GBIF2826237329_IN54512818_124890_edit1.wav' is too short (6.5sec)\n",
      "Cicadaorni_GBIF2826237329_IN54512818_124890_edit1.wav skipped as too short\n",
      "No silence remove applied: File 'Aleetacurvicosta_GBIF1990494446_IN19628967_29904.wav' is too short (5.038730158730159sec)\n",
      "Aleetacurvicosta_GBIF1990494446_IN19628967_29904.wav skipped as too short\n",
      "No silence remove applied: File 'Grylluscampestris_Take11.M.wav' is too short (3.6960090702947848sec)\n",
      "Chorthippusbiguttulus_XC751834-dat031-007_edit7.wav skipped as too shortGrylluscampestris_Take11.M.wav skipped as too short\n",
      "\n"
     ]
    },
    {
     "name": "stderr",
     "output_type": "stream",
     "text": [
      " 11%|█         | 189/1751 [00:11<01:19, 19.65it/s]"
     ]
    },
    {
     "name": "stdout",
     "output_type": "stream",
     "text": [
      "Gomphocerippusrufus_XC751302-dat150-004_edit3.wav skipped as too short\n",
      "No silence remove applied: File 'Gryllusbimaculatus_XC751731-dat001-025_edit2.wav' is too short (6.0sec)Platypleuracfcatenata_MHV%20393%20P.catenata%20Jefferies%20Bay%20%231_edit2.wav skipped as too short\n",
      "\n",
      "Gryllusbimaculatus_XC751731-dat001-025_edit2.wav skipped as too short\n",
      "Aleetacurvicosta_GBIF3005093817_IN66504698_153560.wav skipped as too short\n"
     ]
    },
    {
     "name": "stderr",
     "output_type": "stream",
     "text": [
      " 11%|█         | 194/1751 [00:11<01:09, 22.31it/s]"
     ]
    },
    {
     "name": "stdout",
     "output_type": "stream",
     "text": [
      "No silence remove applied: File 'Omocestuspetraeus_XC752471-dat055-008_edit1.wav' is too short (2.0sec)\n",
      "Omocestuspetraeus_XC752471-dat055-008_edit1.wav skipped as too short\n",
      "No silence remove applied: File 'Yoyettacelis_GBIF2465175848_IN36033058_51048.wav' is too short (6.0sec)Chorthippusvagans_XC751803-dat014-008_edit8.wav skipped as too short\n",
      "\n",
      "Yoyettacelis_GBIF2465175848_IN36033058_51048.wav skipped as too short\n",
      "Gomphocerussibiricus_XC751880-dat055-005_edit2.wav skipped as too short\n"
     ]
    },
    {
     "name": "stderr",
     "output_type": "stream",
     "text": [
      " 11%|█▏        | 198/1751 [00:11<01:02, 24.66it/s]"
     ]
    },
    {
     "name": "stdout",
     "output_type": "stream",
     "text": [
      "Chorthippusbrunneus_XC751544-dat011-005_edit3.wav skipped as too short\n",
      "No silence remove applied: File 'Galangalabeculata_GBIF3005248096_IN66679018_153974.wav' is too short (7.3sec)\n",
      "Grylluscampestris_XC751432-dat010-011_edit8.wav Long sample (185.78480725623584) and normal splittingGalangalabeculata_GBIF3005248096_IN66679018_153974.wav skipped as too short\n",
      "\n",
      "No silence remove applied: File 'Yoyettacelis_GBIF1949993117_IN18886153_28243.wav' is too short (4.551111111111111sec)\n",
      "Yoyettacelis_GBIF1949993117_IN18886153_28243.wav skipped as too short\n",
      "Leptophyespunctatissima_XC751806-dat023-011_edit3.wav Long sample (36.016394557823126) and normal splitting\n",
      "Chorthippusmollis_XC751981-dat017-016_edit4.wav skipped as too short\n"
     ]
    },
    {
     "name": "stderr",
     "output_type": "stream",
     "text": [
      " 12%|█▏        | 202/1751 [00:12<01:17, 19.96it/s]"
     ]
    },
    {
     "name": "stdout",
     "output_type": "stream",
     "text": [
      "Phaneropteranana_XC751917-dat066-008.wav Long sample (59.08117913832199) and normal splitting\n",
      "Platypleuraplumosa_MHV%20501%20P.plumosa%20Fort%20Brown_edit1.wav skipped as too short\n",
      "No silence remove applied: File 'Chorthippusbiguttulus_XC751620-dat001-053_edit2.wav' is too short (8.0sec)\n",
      "Chorthippusbiguttulus_XC751620-dat001-053_edit2.wav skipped as too short\n",
      "No silence remove applied: File 'Chorthippusbrunneus_XC751388-dat007-005_edit5.wav' is too short (2.0sec)\n",
      "Chorthippusbrunneus_XC751388-dat007-005_edit5.wav skipped as too short\n"
     ]
    },
    {
     "name": "stderr",
     "output_type": "stream",
     "text": [
      " 12%|█▏        | 205/1751 [00:12<01:14, 20.88it/s]"
     ]
    },
    {
     "name": "stdout",
     "output_type": "stream",
     "text": [
      "Chorthippusvagans_XC751804-dat014-009_edit7.wav skipped as too short\n",
      "No silence remove applied: File 'Pseudochorthippusmontanus_XC752604-dat012-002_edit2.wav' is too short (5.0sec)\n",
      "Pseudochorthippusmontanus_XC752604-dat012-002_edit2.wav skipped as too short\n",
      "No silence remove applied: File 'Tylopsislilifolia_XC751308-dat067-001_edit3.wav' is too short (2.7961224489795917sec)\n",
      "Tylopsislilifolia_XC751308-dat067-001_edit3.wav skipped as too short\n"
     ]
    },
    {
     "name": "stderr",
     "output_type": "stream",
     "text": [
      " 12%|█▏        | 209/1751 [00:12<01:07, 22.95it/s]"
     ]
    },
    {
     "name": "stdout",
     "output_type": "stream",
     "text": [
      "No silence remove applied: File 'Yoyettacelis_GBIF3032043946_IN68125943_158821.wav' is too short (1.9sec)\n",
      "Yoyettacelis_GBIF3032043946_IN68125943_158821.wav skipped as too short\n",
      "Neotibicenpruinosus_GBIF3772800480_IN93101490_299516.wav skipped as too short\n",
      "Chorthippusapricarius_XC752126-dat034-028.wav Long sample (102.90077097505669) and normal splitting\n",
      "No silence remove applied: File 'Tylopsislilifolia_XC751308-dat067-001_edit2.wav' is too short (2.0sec)\n",
      "Tylopsislilifolia_XC751308-dat067-001_edit2.wav skipped as too short\n"
     ]
    },
    {
     "name": "stderr",
     "output_type": "stream",
     "text": [
      " 12%|█▏        | 212/1751 [00:12<01:04, 23.99it/s]"
     ]
    },
    {
     "name": "stdout",
     "output_type": "stream",
     "text": [
      "Myrmeleotettixmaculatus_XC752587-dat009-006_edit2.wav skipped as too short\n",
      "No silence remove applied: File 'Pseudochorthippusmontanus_XC752604-dat012-002_edit3.wav' is too short (6.0sec)\n",
      "Pseudochorthippusmontanus_XC752604-dat012-002_edit3.wav skipped as too shortMyrmeleotettixmaculatus_XC752587-dat009-006_edit3.wav skipped as too shortNo silence remove applied: File 'Chorthippusbrunneus_XC751388-dat007-005_edit4.wav' is too short (2.0sec)\n",
      "\n",
      "\n",
      "Chorthippusbrunneus_XC751388-dat007-005_edit4.wav skipped as too short\n",
      "No silence remove applied: File 'Chorthippusbiguttulus_XC751620-dat001-053_edit3.wav' is too short (8.0sec)\n",
      "Chorthippusbiguttulus_XC751620-dat001-053_edit3.wav skipped as too short\n"
     ]
    },
    {
     "name": "stderr",
     "output_type": "stream",
     "text": [
      " 12%|█▏        | 218/1751 [00:12<00:48, 31.91it/s]"
     ]
    },
    {
     "name": "stdout",
     "output_type": "stream",
     "text": [
      "No silence remove applied: File 'Pseudochorthippusparallelus_Take00.M.wav' is too short (5.645396825396825sec)Clinopsaltaautumna_GBIF1931521261_IN17584917_26615.wav skipped as too short\n",
      "Pseudochorthippusparallelus_Take00.M.wav skipped as too short\n",
      "\n",
      "No silence remove applied: File 'Chorthippusvagans_XC751804-dat014-009_edit6.wav' is too short (4.0sec)\n",
      "Chorthippusvagans_XC751804-dat014-009_edit6.wav skipped as too short\n",
      "Diceroproctaeugraphica_GBIF2823074653_IN53386116_123946.wav skipped as too short\n",
      "No silence remove applied: File 'Barbitistesyersini_XC752461-dat047-009_edit1.wav' is too short (3.0sec)\n",
      "Barbitistesyersini_XC752461-dat047-009_edit1.wav skipped as too short\n"
     ]
    },
    {
     "name": "stderr",
     "output_type": "stream",
     "text": [
      " 13%|█▎        | 223/1751 [00:12<00:42, 35.90it/s]"
     ]
    },
    {
     "name": "stdout",
     "output_type": "stream",
     "text": [
      "No silence remove applied: File 'Chorthippusvagans_XC751802-dat014-007_edit1.wav' is too short (7.0sec)\n",
      "Chorthippusvagans_XC751802-dat014-007_edit1.wav skipped as too short\n",
      "No silence remove applied: File 'Yoyettacelis_GBIF1837098964_IN8321947_15795.wav' is too short (2.4380952380952383sec)\n",
      "Yoyettacelis_GBIF1837098964_IN8321947_15795.wav skipped as too short\n",
      "No silence remove applied: File 'Pseudochorthippusparallelus_XC752314-dat005-060_edit6.wav' is too short (2.0sec)\n",
      "Pseudochorthippusparallelus_XC752314-dat005-060_edit6.wav skipped as too short\n",
      "Platypleurasp13_MHV%201486%20P.sp%2013%20nr%20Gamtoos%20River%20Bridge%20%233_edit1.wav Long sample (35.994897959183675) and normal splitting\n"
     ]
    },
    {
     "name": "stderr",
     "output_type": "stream",
     "text": [
      " 13%|█▎        | 228/1751 [00:12<00:58, 26.00it/s]"
     ]
    },
    {
     "name": "stdout",
     "output_type": "stream",
     "text": [
      "Oecanthuspellucens_GBIF3859373760_IN92019364_294855.wav Long sample (39.35006802721088) and normal splitting\n",
      "Leptophyespunctatissima_XC751806-dat023-011_edit2.wav Long sample (33.03095238095238) and normal splitting\n",
      "Chorthippusbrunneus_XC751544-dat011-005_edit2.wav skipped as too short\n",
      "No silence remove applied: File 'Ephippigerdiurnus_XC751705-dat064-008_edit2.wav' is too short (1.15sec)\n",
      "Ephippigerdiurnus_XC751705-dat064-008_edit2.wav skipped as too short\n",
      "Gomphocerippusrufus_XC751303-dat150-005_edit1.wav Long sample (46.13977324263038) and normal splitting\n"
     ]
    },
    {
     "name": "stderr",
     "output_type": "stream",
     "text": [
      " 13%|█▎        | 232/1751 [00:13<01:07, 22.49it/s]"
     ]
    },
    {
     "name": "stdout",
     "output_type": "stream",
     "text": [
      "No silence remove applied: File 'Platypleuracfcatenata_MHV%20393%20P.catenata%20Jefferies%20Bay%20%231_edit3.wav' is too short (6.33421768707483sec)\n",
      "Platypleuracfcatenata_MHV%20393%20P.catenata%20Jefferies%20Bay%20%231_edit3.wav skipped as too short\n",
      "Chorthippusmollis_XC751981-dat017-016_edit5.wav skipped as too short\n",
      "Aleetacurvicosta_GBIF2529297784_IN36745575_52992.wav skipped as too short\n"
     ]
    },
    {
     "name": "stderr",
     "output_type": "stream",
     "text": [
      " 14%|█▎        | 237/1751 [00:13<00:57, 26.33it/s]"
     ]
    },
    {
     "name": "stdout",
     "output_type": "stream",
     "text": [
      "Chorthippusvagans_XC751803-dat014-008_edit9.wav skipped as too short\n",
      "No silence remove applied: File 'Pholidopteralittoralis_XC752436-dat047-003_edit3.wav' is too short (3.0sec)\n",
      "Pholidopteralittoralis_XC752436-dat047-003_edit3.wav skipped as too short\n",
      "Yoyettarepetens_GBIF2451713981_IN35268407_49795.wav skipped as too short"
     ]
    },
    {
     "name": "stderr",
     "output_type": "stream",
     "text": [
      " 14%|█▍        | 241/1751 [00:13<00:52, 28.61it/s]"
     ]
    },
    {
     "name": "stdout",
     "output_type": "stream",
     "text": [
      "\n",
      "No silence remove applied: File 'Yoyettacelis_GBIF1933590420_IN17998496_26914_edit2.wav' is too short (4.774126984126984sec)\n",
      "Yoyettacelis_GBIF1933590420_IN17998496_26914_edit2.wav skipped as too short\n",
      "No silence remove applied: File 'Stenobothrusstigmaticus_XC751550-dat014-005_edit2.wav' is too short (3.0sec)\n",
      "Gomphocerippusrufus_XC751302-dat150-004_edit2.wav skipped as too shortStenobothrusstigmaticus_XC751550-dat014-005_edit2.wav skipped as too short\n",
      "\n",
      "Stenobothruslineatus_XC751578-dat008-022.wav Long sample (43.15816326530612) and normal splitting\n",
      "Myrmeleotettixmaculatus_XC752575-dat020-007_edit5.wav skipped as too short\n"
     ]
    },
    {
     "name": "stderr",
     "output_type": "stream",
     "text": [
      " 14%|█▍        | 246/1751 [00:13<00:52, 28.82it/s]"
     ]
    },
    {
     "name": "stdout",
     "output_type": "stream",
     "text": [
      "Omocestusrufipes_XC751625-dat015-008_edit3.wav skipped as too short\n",
      "Chorthippusbiguttulus_XC751834-dat031-007_edit6.wav Long sample (39.61954648526077) and normal splitting\n",
      "Atrapsaltacorticina_GBIF2465366689_IN36305599_51623.wav skipped as too short\n",
      "Gryllusbimaculatus_XC751743-dat007-027_edit1.wav skipped as too short\n",
      "Pholidopteraaptera_XC752410-dat097-007_edit1.wav Long sample (51.593333333333334) and normal splitting\n"
     ]
    },
    {
     "name": "stderr",
     "output_type": "stream",
     "text": [
      " 14%|█▍        | 250/1751 [00:13<01:01, 24.32it/s]"
     ]
    },
    {
     "name": "stdout",
     "output_type": "stream",
     "text": [
      "Chorthippusmollis_XC751824-dat001-033_edit4.wav skipped as too short\n",
      "No silence remove applied: File 'Roeselianaroeselii_XC751812-dat025-010_edit3.wav' is too short (4.0sec)Chorthippusmollis_GBIF3044712215_IN69619059_164371.wav skipped as too short\n",
      "\n",
      "Roeselianaroeselii_XC751812-dat025-010_edit3.wav skipped as too short\n",
      "Gomphocerussibiricus_XC751325-dat055-004_edit2.wav Long sample (32.154013605442174) and normal splitting\n",
      "No silence remove applied: File 'Tettigoniacantans_XC751948-dat035-007_edit3.wav' is too short (5.0sec)\n",
      "Tettigoniacantans_XC751948-dat035-007_edit3.wav skipped as too short\n",
      "Omocestusviridulus_XC752264-dat012-008_edit7.wav skipped as too short\n"
     ]
    },
    {
     "name": "stderr",
     "output_type": "stream",
     "text": [
      " 15%|█▍        | 255/1751 [00:14<00:55, 27.10it/s]"
     ]
    },
    {
     "name": "stdout",
     "output_type": "stream",
     "text": [
      "Chorthippusbrunneus_XC751399-dat022-009_edit4.wav skipped as too short\n",
      "No silence remove applied: File 'Conocephalusfuscus_XC752388-dat036-006_edit7.wav' is too short (7.0sec)\n",
      "Conocephalusfuscus_XC752388-dat036-006_edit7.wav skipped as too short\n",
      "Clinopsaltaautumna_GBIF1986611228_IN19505538_28998.wav skipped as too short\n",
      "No silence remove applied: File 'Pholidopteralittoralis_XC752440-dat049-002_edit4.wav' is too short (3.0sec)\n",
      "Omocestusviridulus_XC752266-dat013-002_edit3.wav Long sample (34.58873015873016) and normal splittingPholidopteralittoralis_XC752440-dat049-002_edit4.wav skipped as too short\n",
      "\n",
      "No silence remove applied: File 'Roeselianaroeselii_GBIF3355398555_IN84246142_260646_edit1.wav' is too short (5.0sec)\n",
      "Roeselianaroeselii_GBIF3355398555_IN84246142_260646_edit1.wav skipped as too short\n"
     ]
    },
    {
     "name": "stderr",
     "output_type": "stream",
     "text": [
      " 15%|█▍        | 261/1751 [00:14<00:45, 33.05it/s]"
     ]
    },
    {
     "name": "stdout",
     "output_type": "stream",
     "text": [
      "No silence remove applied: File 'Pholidopteragriseoaptera_XC752319-dat005-039_edit1.wav' is too short (2.0sec)\n",
      "Pholidopteragriseoaptera_XC752319-dat005-039_edit1.wav skipped as too shortNeotibicenpruinosus_GBIF2862333143_IN58903833_135069.wav skipped as too short\n",
      "\n",
      "Omocestusviridulus_XC752271-dat009-008_edit2.wav skipped as too short\n",
      "No silence remove applied: File 'Aleetacurvicosta_GBIF3018110905_IN67551476_156906.wav' is too short (5.6sec)\n",
      "Aleetacurvicosta_GBIF3018110905_IN67551476_156906.wav skipped as too shortClinopsaltaautumna_GBIF2423044297_IN32624592_46952_edit1.wav skipped as too short\n",
      "\n",
      "No silence remove applied: File 'Chorthippusbrunneus_XC751407-dat024-016_edit1.wav' is too short (4.0sec)\n",
      "Chorthippusbrunneus_XC751407-dat024-016_edit1.wav skipped as too short\n",
      "No silence remove applied: File 'Phaneropteranana_XC755717-221013-Phaneroptera-nana-Spontangesang-FH-1918-14°C_edit6.wav' is too short (2.0sec)\n",
      "Phaneropteranana_XC755717-221013-Phaneroptera-nana-Spontangesang-FH-1918-14°C_edit6.wav skipped as too short\n"
     ]
    },
    {
     "name": "stderr",
     "output_type": "stream",
     "text": [
      " 15%|█▌        | 269/1751 [00:14<00:35, 41.65it/s]"
     ]
    },
    {
     "name": "stdout",
     "output_type": "stream",
     "text": [
      "Stenobothruslineatus_XC751989-dat018-002_edit2.wav skipped as too short\n",
      "No silence remove applied: File 'Pholidopteraaptera_XC751363-dat145-003_edit1.wav' is too short (5.0sec)\n",
      "Pholidopteraaptera_XC751363-dat145-003_edit1.wav skipped as too short\n",
      "No silence remove applied: File 'Clinopsaltaautumna_GBIF1949986195_IN18667268_27938_edit1.wav' is too short (3.5sec)Eupholidopteraschmidti_XC752430-dat051-014_edit3.wav skipped as too short\n",
      "\n",
      "Clinopsaltaautumna_GBIF1949986195_IN18667268_27938_edit1.wav skipped as too short\n",
      "Chorthippusapricarius_XC752128-dat028-008_edit6.wav skipped as too shortNo silence remove applied: File 'Yoyettacelis_GBIF3031725753_IN68038441_158517_edit1.wav' is too short (2.8000226757369613sec)\n",
      "\n",
      "Yoyettacelis_GBIF3031725753_IN68038441_158517_edit1.wav skipped as too short\n"
     ]
    },
    {
     "name": "stderr",
     "output_type": "stream",
     "text": [
      " 16%|█▌        | 275/1751 [00:14<00:32, 45.51it/s]"
     ]
    },
    {
     "name": "stdout",
     "output_type": "stream",
     "text": [
      "Platypleurasp12cfhirtipennis_MHV%20602%20P.sp12%2020km%20SE%20Prince%20Albert_edit1.wav skipped as too shortNo silence remove applied: File 'Phaneropteranana_XC755717-221013-Phaneroptera-nana-Spontangesang-FH-1918-14°C_edit2.wav' is too short (2.0sec)\n",
      "No silence remove applied: File 'Tettigoniaviridissima_MixPre-198.wav' is too short (5.008412698412698sec)\n",
      "Phaneropteranana_XC755717-221013-Phaneroptera-nana-Spontangesang-FH-1918-14°C_edit2.wav skipped as too short\n",
      "Pseudochorthippusmontanus_XC752605-dat012-003_edit18.wav skipped as too short\n",
      "\n",
      "Tettigoniaviridissima_MixPre-198.wav skipped as too short\n",
      "No silence remove applied: File 'Pholidopteralittoralis_XC752439-dat049-001_edit8.wav' is too short (3.0sec)\n",
      "Pholidopteralittoralis_XC752439-dat049-001_edit8.wav skipped as too short\n",
      "No silence remove applied: File 'Omocestuspetraeus_XC752478-dat058-004_edit9.wav' is too short (6.0sec)\n",
      "Omocestuspetraeus_XC752478-dat058-004_edit9.wav skipped as too shortChorthippusbiguttulus_XC752341-dat005-022_edit2.wav skipped as too short\n",
      "\n"
     ]
    },
    {
     "name": "stderr",
     "output_type": "stream",
     "text": [
      " 16%|█▌        | 284/1751 [00:14<00:26, 54.85it/s]"
     ]
    },
    {
     "name": "stdout",
     "output_type": "stream",
     "text": [
      "No silence remove applied: File 'Chrysochraondispar_XC751694-dat030-010_edit3.wav' is too short (6.0sec)\n",
      "Chrysochraondispar_XC751694-dat030-010_edit3.wav skipped as too shortChorthippusapricarius_XC752128-dat028-008_edit2.wav skipped as too short\n",
      "\n",
      "Platypleuraplumosa_MHV%20329%20P.plumosa%20Steydtlerville%20%233_edit1.wav skipped as too shortStenobothruslineatus_XC752396-dat025-007_edit1.wav Long sample (116.5361224489796) and normal splitting\n",
      "\n",
      "Omocestusviridulus_XC752264-dat012-008_edit11.wav Long sample (46.587165532879816) and normal splitting\n",
      "No silence remove applied: File 'Conocephalusfuscus_XC752388-dat036-006_edit3.wav' is too short (9.0sec)\n",
      "Conocephalusfuscus_XC752388-dat036-006_edit3.wav skipped as too short\n",
      "Cicadaorni_GBIF2429234596_IN31534884_46058.wav Long sample (50.88718820861678) and normal splitting\n",
      "Stenobothruslineatus_XC751876-dat097-025_edit1.wav skipped as too short\n",
      "No silence remove applied: File 'Galangalabeculata_GBIF2550135548_IN37362021_54297.wav' is too short (5.3sec)\n",
      "Galangalabeculata_GBIF2550135548_IN37362021_54297.wav skipped as too short\n"
     ]
    },
    {
     "name": "stderr",
     "output_type": "stream",
     "text": [
      " 17%|█▋        | 290/1751 [00:14<00:40, 35.76it/s]"
     ]
    },
    {
     "name": "stdout",
     "output_type": "stream",
     "text": [
      "No silence remove applied: File 'Omocestusviridulus_XC752271-dat009-008_edit6.wav' is too short (6.0sec)\n",
      "Omocestusviridulus_XC752271-dat009-008_edit6.wav skipped as too short\n",
      "No silence remove applied: File 'Pholidopteralittoralis_XC752435-dat056-008_edit4.wav' is too short (2.2999773242630384sec)\n",
      "Pholidopteralittoralis_XC752435-dat056-008_edit4.wav skipped as too short\n",
      "Platycleisalbopunctata_XC751610-dat028-013_edit1.wav Long sample (41.75439909297052) and normal splitting\n",
      "Conocephalusfuscus_XC752065-dat037-012_edit3.wav Long sample (61.94698412698413) and normal splitting\n",
      "Eumodicogryllusbordigalensis_GBIF3858376018_IN119798732_458570.wav skipped as too short\n"
     ]
    },
    {
     "name": "stderr",
     "output_type": "stream",
     "text": [
      " 17%|█▋        | 295/1751 [00:15<00:58, 24.80it/s]"
     ]
    },
    {
     "name": "stdout",
     "output_type": "stream",
     "text": [
      "Stauroderusscalaris_XC751603-dat061-006_edit2.wav Long sample (78.3488888888889) and normal splitting\n",
      "No silence remove applied: File 'Eupholidopteraschmidti_XC751315-dat049-005_edit3.wav' is too short (7.0sec)\n",
      "Eupholidopteraschmidti_XC751315-dat049-005_edit3.wav skipped as too short\n"
     ]
    },
    {
     "name": "stderr",
     "output_type": "stream",
     "text": [
      " 17%|█▋        | 299/1751 [00:15<01:14, 19.47it/s]"
     ]
    },
    {
     "name": "stdout",
     "output_type": "stream",
     "text": [
      "Omocestusviridulus_XC752264-dat012-008_edit3.wav Long sample (41.84324263038549) and normal splitting\n",
      "Metriopterabrachyptera_XC752073-dat017-011_edit2.wav skipped as too shortPopplepsaltanotialis_GBIF2543080309_IN37153163_53829.wav skipped as too short\n",
      "\n",
      "Cicadaorni_GBIF2868197094_IN60500821_137950.wav skipped as too short\n"
     ]
    },
    {
     "name": "stderr",
     "output_type": "stream",
     "text": [
      " 17%|█▋        | 302/1751 [00:15<01:18, 18.56it/s]"
     ]
    },
    {
     "name": "stdout",
     "output_type": "stream",
     "text": [
      "Omocestuspetraeus_XC754538-CLEANED-Omocestus-petraeus-e-haemorroidalis-Mad_Acero_20180822-144031_1CH250K16_edit4.wav Long sample (63.99802721088435) and normal splittingNo silence remove applied: File 'Pseudochorthippusparallelus_XC751401-dat023-002_edit3.wav' is too short (2.0sec)\n",
      "\n",
      "Pseudochorthippusparallelus_XC751401-dat023-002_edit3.wav skipped as too short\n",
      "No silence remove applied: File 'Barbitistesyersini_XC752504-dat053-004_edit2.wav' is too short (6.0sec)\n",
      "Barbitistesyersini_XC752504-dat053-004_edit2.wav skipped as too short\n",
      "Eupholidopteraschmidti_XC752433-dat051-017_edit2.wav skipped as too short\n",
      "No silence remove applied: File 'Pseudochorthippusmontanus_XC752605-dat012-003_edit4.wav' is too short (5.0sec)\n",
      "Pseudochorthippusmontanus_XC752605-dat012-003_edit4.wav skipped as too short\n",
      "No silence remove applied: File 'Pholidopteraaptera_XC751369-dat146-003_edit3.wav' is too short (6.0sec)\n",
      "No silence remove applied: File 'Myrmeleotettixmaculatus_XC752575-dat020-007_edit1.wav' is too short (8.0sec)\n",
      "Pholidopteraaptera_XC751369-dat146-003_edit3.wav skipped as too shortMyrmeleotettixmaculatus_XC752575-dat020-007_edit1.wav skipped as too short\n",
      "\n"
     ]
    },
    {
     "name": "stderr",
     "output_type": "stream",
     "text": [
      " 18%|█▊        | 308/1751 [00:15<00:59, 24.27it/s]"
     ]
    },
    {
     "name": "stdout",
     "output_type": "stream",
     "text": [
      "No silence remove applied: File 'Eumodicogryllusbordigalensis_XC752108-dat172-003_edit9.wav' is too short (2.0sec)\n",
      "Eumodicogryllusbordigalensis_XC752108-dat172-003_edit9.wav skipped as too short\n",
      "Yoyettarepetens_GBIF2563524533_IN37765694_55251.wav skipped as too short\n"
     ]
    },
    {
     "name": "stderr",
     "output_type": "stream",
     "text": [
      " 18%|█▊        | 312/1751 [00:15<00:56, 25.42it/s]"
     ]
    },
    {
     "name": "stdout",
     "output_type": "stream",
     "text": [
      "Achetadomesticus_XC751735-dat001-056.wav Long sample (89.6075283446712) and normal splitting\n",
      "Chorthippusbiguttulus_XC751834-dat031-007_edit2.wav skipped as too short\n",
      "No silence remove applied: File 'Pseudochorthippusparallelus_XC752314-dat005-060_edit2.wav' is too short (3.0sec)\n",
      "Pseudochorthippusparallelus_XC752314-dat005-060_edit2.wav skipped as too short\n",
      "No silence remove applied: File 'Ruspolianitidula_GBIF3398759241_IN98520319_317556.wav' is too short (9.100544217687075sec)\n",
      "Ruspolianitidula_GBIF3398759241_IN98520319_317556.wav skipped as too short\n",
      "Chorthippusbrunneus_XC751386-dat005-057.wav skipped as too short\n",
      "No silence remove applied: File 'Chorthippusvagans_XC751802-dat014-007_edit5.wav' is too short (8.0sec)"
     ]
    },
    {
     "name": "stderr",
     "output_type": "stream",
     "text": [
      " 18%|█▊        | 316/1751 [00:16<01:00, 23.82it/s]"
     ]
    },
    {
     "name": "stdout",
     "output_type": "stream",
     "text": [
      "\n",
      "Chorthippusvagans_XC751802-dat014-007_edit5.wav skipped as too short\n",
      "No silence remove applied: File 'Chorthippusmollis_XC751981-dat017-016_edit1.wav' is too short (8.0sec)\n",
      "Chorthippusmollis_XC751981-dat017-016_edit1.wav skipped as too short\n",
      "No silence remove applied: File 'Omocestuspetraeus_XC752471-dat055-008_edit4.wav' is too short (2.0sec)\n",
      "Omocestuspetraeus_XC752471-dat055-008_edit4.wav skipped as too short\n",
      "No silence remove applied: File 'Gomphocerippusrufus_XC752289-dat004-003_edit2.wav' is too short (6.4sec)\n",
      "Gomphocerippusrufus_XC752289-dat004-003_edit2.wav skipped as too shortConocephalusdorsalis_XC751658-dat034-020.wav Long sample (62.50528344671202) and normal splitting\n"
     ]
    },
    {
     "name": "stderr",
     "output_type": "stream",
     "text": [
      " 18%|█▊        | 321/1751 [00:16<00:52, 27.06it/s]"
     ]
    },
    {
     "name": "stdout",
     "output_type": "stream",
     "text": [
      "\n",
      "No silence remove applied: File 'Chorthippusbiguttulus_XC751461-dat185-005_edit2.wav' is too short (8.0sec)\n",
      "Chorthippusbiguttulus_XC751461-dat185-005_edit2.wav skipped as too short\n",
      "No silence remove applied: File 'Pseudochorthippusmontanus_XC752604-dat012-002_edit7.wav' is too short (6.0sec)Pseudochorthippusmontanus_XC752604-dat012-002_edit7.wav skipped as too short\n",
      "\n",
      "Platypleurasp10_MHV%20313%20P.sp10%20Die%20Koo%20%232_edit1.wav Long sample (86.78190476190476) and normal splitting\n",
      "Chorthippusvagans_XC751804-dat014-009_edit2.wav skipped as too short\n",
      "Platypleuraplumosa_MHV%20329%20P.plumosa%20Steydtlerville%20%235a_edit2.wav Long sample (35.99770975056689) and normal splitting\n"
     ]
    },
    {
     "name": "stderr",
     "output_type": "stream",
     "text": [
      " 19%|█▊        | 325/1751 [00:16<01:10, 20.10it/s]"
     ]
    },
    {
     "name": "stdout",
     "output_type": "stream",
     "text": [
      "Chorthippusvagans_XC751804-dat014-009_edit3.wav skipped as too short\n",
      "No silence remove applied: File 'Pseudochorthippusmontanus_XC752604-dat012-002_edit6.wav' is too short (6.0sec)\n",
      "Pseudochorthippusmontanus_XC752604-dat012-002_edit6.wav skipped as too short\n"
     ]
    },
    {
     "name": "stderr",
     "output_type": "stream",
     "text": [
      " 19%|█▊        | 328/1751 [00:16<01:12, 19.53it/s]"
     ]
    },
    {
     "name": "stdout",
     "output_type": "stream",
     "text": [
      "No silence remove applied: File 'Chorthippusbrunneus_XC751388-dat007-005_edit1.wav' is too short (2.0sec)\n",
      "Chorthippusbrunneus_XC751388-dat007-005_edit1.wav skipped as too short\n",
      "No silence remove applied: File 'Chorthippusvagans_XC751802-dat014-007_edit4.wav' is too short (6.0sec)\n",
      "Chorthippusvagans_XC751802-dat014-007_edit4.wav skipped as too short\n"
     ]
    },
    {
     "name": "stderr",
     "output_type": "stream",
     "text": [
      " 19%|█▉        | 331/1751 [00:16<01:06, 21.28it/s]"
     ]
    },
    {
     "name": "stdout",
     "output_type": "stream",
     "text": [
      "Chorthippusbiguttulus_XC751461-dat185-005_edit3.wav skipped as too short\n",
      "No silence remove applied: File 'Yoyettacelis_GBIF2451682063_IN35152352_49624.wav' is too short (3.0sec)Grylluscampestris_XC751422-dat010-001_edit8.wav Long sample (134.3026530612245) and normal splitting\n",
      "\n",
      "Yoyettacelis_GBIF2451682063_IN35152352_49624.wav skipped as too short\n",
      "Gryllusbimaculatus_GBIF2366151316_IN31297668_45897.wav skipped as too short\n",
      "No silence remove applied: File 'Pseudochorthippusparallelus_XC752314-dat005-060_edit3.wav' is too short (3.0sec)\n",
      "Pseudochorthippusparallelus_XC752314-dat005-060_edit3.wav skipped as too short\n"
     ]
    },
    {
     "name": "stderr",
     "output_type": "stream",
     "text": [
      " 19%|█▉        | 336/1751 [00:17<00:52, 26.72it/s]"
     ]
    },
    {
     "name": "stdout",
     "output_type": "stream",
     "text": [
      "Eupholidopteraschmidti_XC752431-dat051-015.wav Long sample (44.679206349206346) and normal splitting\n",
      "Barbitistesyersini_XC752461-dat047-009_edit4.wav skipped as too short\n",
      "No silence remove applied: File 'Eumodicogryllusbordigalensis_XC752108-dat172-003_edit8.wav' is too short (2.0sec)\n",
      "Eumodicogryllusbordigalensis_XC752108-dat172-003_edit8.wav skipped as too shortChorthippusbiguttulus_XC751834-dat031-007_edit3.wav skipped as too short\n",
      "\n",
      "No silence remove applied: File 'Pholidopteraaptera_XC751369-dat146-003_edit2.wav' is too short (6.0sec)\n",
      "Pholidopteraaptera_XC751369-dat146-003_edit2.wav skipped as too short\n"
     ]
    },
    {
     "name": "stderr",
     "output_type": "stream",
     "text": [
      " 19%|█▉        | 340/1751 [00:17<00:56, 24.89it/s]"
     ]
    },
    {
     "name": "stdout",
     "output_type": "stream",
     "text": [
      "No silence remove applied: File 'Yoyettacelis_GBIF1933590271_IN17998183_26908.wav' is too short (4.46984126984127sec)\n",
      "Yoyettacelis_GBIF1933590271_IN17998183_26908.wav skipped as too short\n",
      "Platypleuracfcatenata_MHV%20288%20P.catenata%20Houwhoek%20Pass%20%232_edit1.wav skipped as too short\n"
     ]
    },
    {
     "name": "stderr",
     "output_type": "stream",
     "text": [
      " 20%|█▉        | 343/1751 [00:17<01:03, 22.03it/s]"
     ]
    },
    {
     "name": "stdout",
     "output_type": "stream",
     "text": [
      "No silence remove applied: File 'Pseudochorthippusmontanus_XC752605-dat012-003_edit5.wav' is too short (5.0sec)\n",
      "Pseudochorthippusmontanus_XC752605-dat012-003_edit5.wav skipped as too short\n",
      "No silence remove applied: File 'Pseudochorthippusparallelus_XC751401-dat023-002_edit2.wav' is too short (2.0sec)\n",
      "Pseudochorthippusparallelus_XC751401-dat023-002_edit2.wav skipped as too short\n",
      "Achetadomesticus_XC751757-dat007-014.wav Long sample (200.24238095238096) and normal splitting\n",
      "Platycleisalbopunctata_XC751606-dat028-007.wav Long sample (73.2137641723356) and normal splitting\n",
      "Gomphocerussibiricus_XC751885-dat056-011_edit2.wav Long sample (79.72750566893424) and normal splitting\n",
      "Chorthippusapricarius_XC752127-dat035-001_edit8.wav Long sample (152.19587301587302) and normal splitting\n",
      "Gomphocerippusrufus_XC752302-dat005-063_edit1.wav Long sample (53.98034013605442) and normal splitting\n"
     ]
    },
    {
     "name": "stderr",
     "output_type": "stream",
     "text": [
      " 20%|█▉        | 346/1751 [00:17<01:52, 12.48it/s]"
     ]
    },
    {
     "name": "stdout",
     "output_type": "stream",
     "text": [
      "No silence remove applied: File 'Metriopterabrachyptera_XC752073-dat017-011_edit3.wav' is too short (8.0sec)\n",
      "Metriopterabrachyptera_XC752073-dat017-011_edit3.wav skipped as too short\n",
      "No silence remove applied: File 'Atrapsaltacollina_GBIF1932315254_IN17663630_26703_edit1.wav' is too short (4.935714285714286sec)\n",
      "Atrapsaltacollina_GBIF1932315254_IN17663630_26703_edit1.wav skipped as too short\n",
      "Chorthippusbrunneus_XC751399-dat022-009_edit1.wav skipped as too short\n"
     ]
    },
    {
     "name": "stderr",
     "output_type": "stream",
     "text": [
      " 20%|█▉        | 349/1751 [00:18<01:40, 13.96it/s]"
     ]
    },
    {
     "name": "stdout",
     "output_type": "stream",
     "text": [
      "Chorthippusmollis_XC751824-dat001-033_edit1.wav skipped as too short\n"
     ]
    },
    {
     "name": "stderr",
     "output_type": "stream",
     "text": [
      " 20%|██        | 351/1751 [00:18<01:35, 14.65it/s]"
     ]
    },
    {
     "name": "stdout",
     "output_type": "stream",
     "text": [
      "No silence remove applied: File 'Eupholidopteraschmidti_XC751315-dat049-005_edit2.wav' is too short (7.0sec)\n",
      "Eupholidopteraschmidti_XC751315-dat049-005_edit2.wav skipped as too short\n",
      "No silence remove applied: File 'Pseudochorthippusparallelus_GBIF3858893041_IN123322641_481511_edit1.wav' is too short (3.3sec)\n",
      "Pseudochorthippusparallelus_GBIF3858893041_IN123322641_481511_edit1.wav skipped as too short\n"
     ]
    },
    {
     "name": "stderr",
     "output_type": "stream",
     "text": [
      " 20%|██        | 355/1751 [00:18<01:18, 17.76it/s]"
     ]
    },
    {
     "name": "stdout",
     "output_type": "stream",
     "text": [
      "Atrapsaltacollina_GBIF2898269018_IN62445511_142327.wav skipped as too short\n",
      "Omocestusrufipes_XC751625-dat015-008_edit6.wav skipped as too short\n",
      "No silence remove applied: File 'Omocestusviridulus_XC752271-dat009-008_edit7.wav' is too short (6.0sec)\n",
      "Omocestusviridulus_XC752271-dat009-008_edit7.wav skipped as too short\n"
     ]
    },
    {
     "name": "stderr",
     "output_type": "stream",
     "text": [
      " 20%|██        | 358/1751 [00:18<01:16, 18.16it/s]"
     ]
    },
    {
     "name": "stdout",
     "output_type": "stream",
     "text": [
      "No silence remove applied: File 'Pholidopteralittoralis_XC752440-dat049-002_edit1.wav' is too short (3.0sec)\n",
      "Pholidopteralittoralis_XC752440-dat049-002_edit1.wav skipped as too short\n",
      "Omocestusviridulus_XC752264-dat012-008_edit2.wav skipped as too short\n",
      "No silence remove applied: File 'Pseudochorthippusparallelus_XC752312-dat005-043.wav' is too short (8.611451247165533sec)\n",
      "Pseudochorthippusparallelus_XC752312-dat005-043.wav skipped as too short\n",
      "No silence remove applied: File 'Tettigoniaviridissima_Take23.M.wav' is too short (9.429365079365079sec)\n",
      "Tettigoniaviridissima_Take23.M.wav skipped as too short\n",
      "No silence remove applied: File 'Gomphocerippusrufus_XC752292-dat005-030_edit1.wav' is too short (8.0sec)\n",
      "Gomphocerippusrufus_XC752292-dat005-030_edit1.wav skipped as too short\n"
     ]
    },
    {
     "name": "stderr",
     "output_type": "stream",
     "text": [
      " 21%|██        | 363/1751 [00:18<01:03, 21.86it/s]"
     ]
    },
    {
     "name": "stdout",
     "output_type": "stream",
     "text": [
      "No silence remove applied: File 'Conocephalusfuscus_XC752388-dat036-006_edit2.wav' is too short (3.0sec)\n",
      "Conocephalusfuscus_XC752388-dat036-006_edit2.wav skipped as too short\n",
      "No silence remove applied: File 'Oecanthuspellucens_GBIF3903006649_IN131502279_523214.wav' is too short (9.04sec)\n",
      "Oecanthuspellucens_GBIF3903006649_IN131502279_523214.wav skipped as too short\n",
      "Omocestuspetraeus_XC754538-CLEANED-Omocestus-petraeus-e-haemorroidalis-Mad_Acero_20180822-144031_1CH250K16_edit5.wav Long sample (69.99816326530612) and normal splitting\n"
     ]
    },
    {
     "name": "stderr",
     "output_type": "stream",
     "text": [
      " 21%|██        | 366/1751 [00:18<01:09, 19.81it/s]"
     ]
    },
    {
     "name": "stdout",
     "output_type": "stream",
     "text": [
      "Phaneropterafalcata_XC751636-dat030-013_edit2.wav skipped as too short\n",
      "No silence remove applied: File 'Chrysochraondispar_XC751694-dat030-010_edit2.wav' is too short (5.0sec)\n",
      "Chrysochraondispar_XC751694-dat030-010_edit2.wav skipped as too short\n"
     ]
    },
    {
     "name": "stderr",
     "output_type": "stream",
     "text": [
      " 21%|██        | 369/1751 [00:18<01:07, 20.54it/s]"
     ]
    },
    {
     "name": "stdout",
     "output_type": "stream",
     "text": [
      "Conocephalusfuscus_XC752065-dat037-012_edit2.wav Long sample (43.71659863945578) and normal splitting\n",
      "Omocestuspetraeus_XC752478-dat058-004_edit8.wav skipped as too short\n",
      "No silence remove applied: File 'Yoyettacelis_GBIF2460074747_IN35755047_50503.wav' is too short (5.2sec)\n",
      "Yoyettacelis_GBIF2460074747_IN35755047_50503.wav skipped as too short\n",
      "Stauroderusscalaris_XC752559-dat026-036_edit1.wav skipped as too short\n"
     ]
    },
    {
     "name": "stderr",
     "output_type": "stream",
     "text": [
      " 21%|██        | 372/1751 [00:19<01:27, 15.68it/s]"
     ]
    },
    {
     "name": "stdout",
     "output_type": "stream",
     "text": [
      "Omocestusviridulus_XC752264-dat012-008_edit14.wav Long sample (58.065283446712016) and normal splitting\n"
     ]
    },
    {
     "name": "stderr",
     "output_type": "stream",
     "text": [
      " 21%|██▏       | 374/1751 [00:19<01:24, 16.24it/s]"
     ]
    },
    {
     "name": "stdout",
     "output_type": "stream",
     "text": [
      "No silence remove applied: File 'Pholidopteralittoralis_XC752439-dat049-001_edit9.wav' is too short (2.1467573696145124sec)\n",
      "Pholidopteralittoralis_XC752439-dat049-001_edit9.wav skipped as too short\n",
      "No silence remove applied: File 'Yoyettacelis_GBIF2873841080_IN60916009_138852.wav' is too short (3.8sec)\n",
      "Yoyettacelis_GBIF2873841080_IN60916009_138852.wav skipped as too shortNo silence remove applied: File 'Phaneropteranana_XC755717-221013-Phaneroptera-nana-Spontangesang-FH-1918-14°C_edit3.wav' is too short (2.0sec)\n",
      "Popplepsaltanotialis_GBIF2999197617_IN66080261_152241.wav skipped as too short\n",
      "\n",
      "Phaneropteranana_XC755717-221013-Phaneroptera-nana-Spontangesang-FH-1918-14°C_edit3.wav skipped as too short\n",
      "No silence remove applied: File 'Cyclochilaaustralasiae_GBIF2898419788_IN62243743_141893_edit1.wav' is too short (8.358412698412698sec)\n",
      "Cyclochilaaustralasiae_GBIF2898419788_IN62243743_141893_edit1.wav skipped as too short\n"
     ]
    },
    {
     "name": "stderr",
     "output_type": "stream",
     "text": [
      " 22%|██▏       | 379/1751 [00:19<01:00, 22.59it/s]"
     ]
    },
    {
     "name": "stdout",
     "output_type": "stream",
     "text": [
      "No silence remove applied: File 'Phaneropteranana_XC755717-221013-Phaneroptera-nana-Spontangesang-FH-1918-14°C_edit1.wav' is too short (3.0sec)\n",
      "Phaneropteranana_XC755717-221013-Phaneroptera-nana-Spontangesang-FH-1918-14°C_edit1.wav skipped as too short\n",
      "Chorthippusapricarius_XC752128-dat028-008_edit3.wav skipped as too short\n",
      "Chorthippusapricarius_XC752128-dat028-008_edit1.wav skipped as too short\n",
      "No silence remove applied: File 'Aleetacurvicosta_GBIF2574190939_IN39062695_58609_edit1.wav' is too short (9.0sec)\n",
      "Aleetacurvicosta_GBIF2574190939_IN39062695_58609_edit1.wav skipped as too short\n",
      "Platypleuraplumosa_MHV%20329%20P.plumosa%20Steydtlerville%20%233_edit2.wav skipped as too short\n"
     ]
    },
    {
     "name": "stderr",
     "output_type": "stream",
     "text": [
      " 22%|██▏       | 384/1751 [00:19<00:54, 25.21it/s]"
     ]
    },
    {
     "name": "stdout",
     "output_type": "stream",
     "text": [
      "Chorthippusbiguttulus_XC752341-dat005-022_edit1.wav skipped as too short\n",
      "Stauroderusscalaris_XC752559-dat026-036_edit3.wav skipped as too short\n"
     ]
    },
    {
     "name": "stderr",
     "output_type": "stream",
     "text": [
      " 22%|██▏       | 387/1751 [00:19<00:57, 23.82it/s]"
     ]
    },
    {
     "name": "stdout",
     "output_type": "stream",
     "text": [
      "Yoyettarepetens_GBIF2444958092_IN34762240_49038_edit1.wav skipped as too short\n",
      "No silence remove applied: File 'Yoyettacelis_GBIF2898355942_IN62369532_142163.wav' is too short (2.6sec)\n",
      "Yoyettacelis_GBIF2898355942_IN62369532_142163.wav skipped as too short\n",
      "No silence remove applied: File 'Yoyettacelis_GBIF1949983818_IN17761057_27207.wav' is too short (3.575873015873016sec)\n",
      "Yoyettacelis_GBIF1949983818_IN17761057_27207.wav skipped as too short\n"
     ]
    },
    {
     "name": "stderr",
     "output_type": "stream",
     "text": [
      " 22%|██▏       | 390/1751 [00:19<00:56, 24.01it/s]"
     ]
    },
    {
     "name": "stdout",
     "output_type": "stream",
     "text": [
      "Stenobothruslineatus_XC751876-dat097-025_edit2.wav skipped as too short\n",
      "No silence remove applied: File 'Tettigoniacantans_XC751948-dat035-007_edit4.wav' is too short (5.0sec)\n",
      "Tettigoniacantans_XC751948-dat035-007_edit4.wav skipped as too shortStauroderusscalaris_XC751603-dat061-006_edit1.wav skipped as too short\n",
      "\n",
      "Myrmeleotettixmaculatus_XC752576-dat015-005_edit9.wav skipped as too short\n"
     ]
    },
    {
     "name": "stderr",
     "output_type": "stream",
     "text": [
      " 23%|██▎       | 394/1751 [00:20<01:00, 22.61it/s]"
     ]
    },
    {
     "name": "stdout",
     "output_type": "stream",
     "text": [
      "Grylluscampestris_XC751422-dat010-001_edit9.wav Long sample (159.6569387755102) and normal splitting\n",
      "Roeselianaroeselii_XC752372-dat006-015.wav Long sample (58.436031746031745) and normal splitting\n",
      "No silence remove applied: File 'Gomphocerippusrufus_XC752288-dat004-001.wav' is too short (9.366371882086169sec)\n",
      "Gomphocerippusrufus_XC752288-dat004-001.wav skipped as too short\n",
      "No silence remove applied: File 'Pholidopteralittoralis_XC752440-dat049-002_edit3.wav' is too short (3.0sec)\n",
      "Pholidopteralittoralis_XC752440-dat049-002_edit3.wav skipped as too short\n",
      "No silence remove applied: File 'Omocestusviridulus_XC752271-dat009-008_edit5.wav' is too short (5.0sec)\n",
      "Omocestusviridulus_XC752271-dat009-008_edit5.wav skipped as too short\n"
     ]
    },
    {
     "name": "stderr",
     "output_type": "stream",
     "text": [
      " 23%|██▎       | 397/1751 [00:20<00:58, 23.34it/s]"
     ]
    },
    {
     "name": "stdout",
     "output_type": "stream",
     "text": [
      "No silence remove applied: File 'Yoyettarepetens_GBIF2447987656_IN35071797_49531_edit1.wav' is too short (5.0sec)\n",
      "Yoyettarepetens_GBIF2447987656_IN35071797_49531_edit1.wav skipped as too short\n",
      "Psaltodaplaga_GBIF3457189080_IN104369869_343248.wav Long sample (61.91063492063492) and normal splitting\n",
      "Omocestusrufipes_XC751625-dat015-008_edit4.wav skipped as too short\n"
     ]
    },
    {
     "name": "stderr",
     "output_type": "stream",
     "text": [
      " 23%|██▎       | 400/1751 [00:20<01:16, 17.56it/s]"
     ]
    },
    {
     "name": "stdout",
     "output_type": "stream",
     "text": [
      "No silence remove applied: File 'Chorthippusmollis_XC751824-dat001-033_edit3.wav' is too short (7.0sec)\n",
      "Chorthippusmollis_XC751824-dat001-033_edit3.wav skipped as too short\n",
      "No silence remove applied: File 'Chorthippusbrunneus_XC751399-dat022-009_edit3.wav' is too short (8.0sec)\n",
      "Chorthippusbrunneus_XC751399-dat022-009_edit3.wav skipped as too short\n",
      "No silence remove applied: File 'Roeselianaroeselii_XC751812-dat025-010_edit4.wav' is too short (3.0sec)"
     ]
    },
    {
     "name": "stderr",
     "output_type": "stream",
     "text": [
      " 23%|██▎       | 403/1751 [00:20<01:08, 19.71it/s]"
     ]
    },
    {
     "name": "stdout",
     "output_type": "stream",
     "text": [
      "\n",
      "Roeselianaroeselii_XC751812-dat025-010_edit4.wav skipped as too short\n",
      "No silence remove applied: File 'Metriopterabrachyptera_XC752073-dat017-011_edit1.wav' is too short (6.0sec)\n",
      "Metriopterabrachyptera_XC752073-dat017-011_edit1.wav skipped as too short\n",
      "No silence remove applied: File 'Galangalabeculata_GBIF3456536310_IN102946871_339217.wav' is too short (2.5sec)\n",
      "Galangalabeculata_GBIF3456536310_IN102946871_339217.wav skipped as too short\n",
      "No silence remove applied: File 'Yoyettarepetens_GBIF1986527032_IN19278715_28669.wav' is too short (5.201269841269841sec)\n",
      "Yoyettarepetens_GBIF1986527032_IN19278715_28669.wav skipped as too short\n",
      "No silence remove applied: File 'Atrapsaltaencaustica_GBIF2609096564_IN42531741_71546_edit1.wav' is too short (6.5sec)\n",
      "Atrapsaltaencaustica_GBIF2609096564_IN42531741_71546_edit1.wav skipped as too short\n"
     ]
    },
    {
     "name": "stderr",
     "output_type": "stream",
     "text": [
      " 23%|██▎       | 407/1751 [00:20<00:59, 22.52it/s]"
     ]
    },
    {
     "name": "stdout",
     "output_type": "stream",
     "text": [
      "Platypleurasp10_MHV%20600%20P.sp10%2045km%20N%20Montague_edit1.wav skipped as too shortNo silence remove applied: File 'Nemobiussylvestris_Take21-1.wav' is too short (1.5573242630385487sec)\n",
      "\n",
      "Nemobiussylvestris_Take21-1.wav skipped as too short\n"
     ]
    },
    {
     "name": "stderr",
     "output_type": "stream",
     "text": [
      " 23%|██▎       | 410/1751 [00:20<00:57, 23.33it/s]"
     ]
    },
    {
     "name": "stdout",
     "output_type": "stream",
     "text": [
      "No silence remove applied: File 'Barbitistesyersini_XC752504-dat053-004_edit1.wav' is too short (6.0sec)\n",
      "Barbitistesyersini_XC752504-dat053-004_edit1.wav skipped as too short\n",
      "Myrmeleotettixmaculatus_XC752575-dat020-007_edit2.wav skipped as too short\n",
      "No silence remove applied: File 'Pseudochorthippusmontanus_XC752605-dat012-003_edit7.wav' is too short (5.0sec)\n",
      "Pseudochorthippusmontanus_XC752605-dat012-003_edit7.wav skipped as too short\n"
     ]
    },
    {
     "name": "stderr",
     "output_type": "stream",
     "text": [
      " 24%|██▎       | 413/1751 [00:20<00:54, 24.40it/s]"
     ]
    },
    {
     "name": "stdout",
     "output_type": "stream",
     "text": [
      "No silence remove applied: File 'Stenobothrusstigmaticus_XC751550-dat014-005_edit5.wav' is too short (7.394897959183673sec)\n",
      "Stenobothrusstigmaticus_XC751550-dat014-005_edit5.wav skipped as too shortStauroderusscalaris_XC751603-dat061-006_edit3.wav Long sample (170.57873015873017) and normal splitting\n",
      "\n",
      "No silence remove applied: File 'Yoyettarepetens_GBIF1990557851_IN19794543_30405.wav' is too short (6.664126984126984sec)\n",
      "Yoyettarepetens_GBIF1990557851_IN19794543_30405.wav skipped as too short\n",
      "No silence remove applied: File 'Pholidopteralittoralis_XC752436-dat047-003_edit4.wav' is too short (2.7105895691609976sec)\n",
      "Pholidopteralittoralis_XC752436-dat047-003_edit4.wav skipped as too short\n"
     ]
    },
    {
     "name": "stderr",
     "output_type": "stream",
     "text": [
      " 24%|██▍       | 416/1751 [00:21<00:56, 23.55it/s]"
     ]
    },
    {
     "name": "stdout",
     "output_type": "stream",
     "text": [
      "Nemobiussylvestris_Take20.wav Long sample (164.62503401360544) and normal splitting\n",
      "Gryllusbimaculatus_XC751725-dat007-021.wav Long sample (321.6304761904762) and normal splitting\n",
      "Eupholidopteraschmidti_XC752433-dat051-017_edit1.wav Long sample (47.101791383219954) and normal splitting\n",
      "Chorthippusbiguttulus_XC751834-dat031-007_edit1.wav skipped as too short\n",
      "No silence remove applied: File 'Chorthippusvagans_XC751802-dat014-007_edit6.wav' is too short (9.0sec)\n",
      "Chorthippusvagans_XC751802-dat014-007_edit6.wav skipped as too short\n"
     ]
    },
    {
     "name": "stderr",
     "output_type": "stream",
     "text": [
      " 24%|██▍       | 419/1751 [00:21<01:22, 16.22it/s]"
     ]
    },
    {
     "name": "stdout",
     "output_type": "stream",
     "text": [
      "No silence remove applied: File 'Stenobothrusstigmaticus_XC751999-dat004-044.wav' is too short (5.825850340136054sec)\n",
      "Stenobothrusstigmaticus_XC751999-dat004-044.wav skipped as too short\n",
      "No silence remove applied: File 'Pseudochorthippusparallelus_XC752314-dat005-060_edit1.wav' is too short (4.0sec)\n",
      "Pseudochorthippusparallelus_XC752314-dat005-060_edit1.wav skipped as too short\n",
      "No silence remove applied: File 'Gomphocerippusrufus_XC752289-dat004-003_edit1.wav' is too short (7.0sec)\n",
      "Gomphocerippusrufus_XC752289-dat004-003_edit1.wav skipped as too short\n"
     ]
    },
    {
     "name": "stderr",
     "output_type": "stream",
     "text": [
      " 24%|██▍       | 423/1751 [00:21<01:14, 17.83it/s]"
     ]
    },
    {
     "name": "stdout",
     "output_type": "stream",
     "text": [
      "Chorthippusbrunneus_XC751544-dat011-005_edit5.wav skipped as too short\n",
      "Chorthippusmollis_XC751981-dat017-016_edit2.wav skipped as too short\n",
      "No silence remove applied: File 'Pseudochorthippusmontanus_XC752604-dat012-002_edit4.wav' is too short (6.0sec)\n",
      "Pseudochorthippusmontanus_XC752604-dat012-002_edit4.wav skipped as too short\n"
     ]
    },
    {
     "name": "stderr",
     "output_type": "stream",
     "text": [
      " 24%|██▍       | 426/1751 [00:21<01:21, 16.20it/s]"
     ]
    },
    {
     "name": "stdout",
     "output_type": "stream",
     "text": [
      "No silence remove applied: File 'Chorthippusbrunneus_XC751388-dat007-005_edit3.wav' is too short (3.0sec)\n",
      "Chorthippusbrunneus_XC751388-dat007-005_edit3.wav skipped as too short\n",
      "Myrmeleotettixmaculatus_XC752580-dat015-006_edit2.wav Long sample (535.0634240362812) and normal splitting\n",
      "Chorthippusbiguttulus_XC751461-dat185-005_edit1.wav skipped as too shortPlatypleurasp10_MHV%20847%20P.sp10%20nr%20Kagga%20Kama%20%232_edit1.wav Long sample (52.42659863945578) and normal splitting\n",
      "\n"
     ]
    },
    {
     "name": "stderr",
     "output_type": "stream",
     "text": [
      " 24%|██▍       | 428/1751 [00:22<01:33, 14.14it/s]"
     ]
    },
    {
     "name": "stdout",
     "output_type": "stream",
     "text": [
      "Tettigoniacantans_XC752333-dat026-054.wav Long sample (173.51655328798185) and normal splitting\n",
      "Chorthippusvagans_XC751804-dat014-009_edit1.wav skipped as too short\n",
      "No silence remove applied: File 'Atrapsaltacorticina_GBIF1946322682_IN18591645_27630.wav' is too short (9.671111111111111sec)\n",
      "Atrapsaltacorticina_GBIF1946322682_IN18591645_27630.wav skipped as too short\n"
     ]
    },
    {
     "name": "stderr",
     "output_type": "stream",
     "text": [
      " 25%|██▍       | 430/1751 [00:22<01:35, 13.80it/s]"
     ]
    },
    {
     "name": "stdout",
     "output_type": "stream",
     "text": [
      "No silence remove applied: File 'Chorthippusbrunneus_XC751388-dat007-005_edit2.wav' is too short (2.0sec)\n",
      "Chorthippusbrunneus_XC751388-dat007-005_edit2.wav skipped as too short\n",
      "No silence remove applied: File 'Pseudochorthippusmontanus_XC752604-dat012-002_edit5.wav' is too short (7.0sec)\n",
      "Pseudochorthippusmontanus_XC752604-dat012-002_edit5.wav skipped as too short\n",
      "No silence remove applied: File 'Yoyettacelis_GBIF2429353755_IN33777249_47886_edit1.wav' is too short (3.0sec)\n",
      "Yoyettacelis_GBIF2429353755_IN33777249_47886_edit1.wav skipped as too short\n"
     ]
    },
    {
     "name": "stderr",
     "output_type": "stream",
     "text": [
      " 25%|██▍       | 434/1751 [00:22<01:11, 18.38it/s]"
     ]
    },
    {
     "name": "stdout",
     "output_type": "stream",
     "text": [
      "No silence remove applied: File 'Pseudochorthippusparallelus_XC752561-dat026-038_edit1.wav' is too short (6.0sec)\n",
      "Pseudochorthippusparallelus_XC752561-dat026-038_edit1.wav skipped as too short\n"
     ]
    },
    {
     "name": "stderr",
     "output_type": "stream",
     "text": [
      " 25%|██▍       | 437/1751 [00:22<01:08, 19.22it/s]"
     ]
    },
    {
     "name": "stdout",
     "output_type": "stream",
     "text": [
      "Platypleuraplumosa_MHV%20329%20P.plumosa%20Steydtlerville%20%235a_edit1.wav Long sample (59.987256235827665) and normal splitting\n",
      "Metriopterabrachyptera_GBIF3039137626_IN58128525_133710.wav skipped as too short\n",
      "Chorthippusbrunneus_XC751544-dat011-005_edit4.wav skipped as too short\n",
      "No silence remove applied: File 'Yoyettarepetens_GBIF1935622533_IN18226553_27290.wav' is too short (6.745396825396825sec)\n",
      "Yoyettarepetens_GBIF1935622533_IN18226553_27290.wav skipped as too short\n"
     ]
    },
    {
     "name": "stderr",
     "output_type": "stream",
     "text": [
      " 25%|██▌       | 440/1751 [00:22<01:08, 19.08it/s]"
     ]
    },
    {
     "name": "stdout",
     "output_type": "stream",
     "text": [
      "Chorthippusmollis_XC751981-dat017-016_edit3.wav skipped as too short\n",
      "Oecanthuspellucens_Take05.wav skipped as too short\n",
      "No silence remove applied: File 'Chorthippusvagans_XC751802-dat014-007_edit7.wav' is too short (8.0sec)\n",
      "Chorthippusvagans_XC751802-dat014-007_edit7.wav skipped as too short\n"
     ]
    },
    {
     "name": "stderr",
     "output_type": "stream",
     "text": [
      " 25%|██▌       | 443/1751 [00:22<01:12, 18.15it/s]"
     ]
    },
    {
     "name": "stdout",
     "output_type": "stream",
     "text": [
      "Chorthippusmollis_XC751774-dat005-078.wav skipped as too short\n"
     ]
    },
    {
     "name": "stderr",
     "output_type": "stream",
     "text": [
      " 25%|██▌       | 445/1751 [00:22<01:19, 16.37it/s]"
     ]
    },
    {
     "name": "stdout",
     "output_type": "stream",
     "text": [
      "Gomphocerippusrufus_XC751302-dat150-004_edit4.wav skipped as too short\n",
      "No silence remove applied: File 'Galangalabeculata_GBIF2529344349_IN36633473_52772.wav' is too short (5.6sec)\n",
      "Galangalabeculata_GBIF2529344349_IN36633473_52772.wav skipped as too short\n",
      "No silence remove applied: File 'Pseudochorthippusmontanus_XC752605-dat012-003_edit6.wav' is too short (5.0sec)\n",
      "Pseudochorthippusmontanus_XC752605-dat012-003_edit6.wav skipped as too short\n",
      "Grylluscampestris_XC751435-dat010-014.wav Long sample (62.02893424036281) and normal splitting\n"
     ]
    },
    {
     "name": "stderr",
     "output_type": "stream",
     "text": [
      " 26%|██▌       | 449/1751 [00:23<01:26, 15.06it/s]"
     ]
    },
    {
     "name": "stdout",
     "output_type": "stream",
     "text": [
      "No silence remove applied: File 'Stenobothrusstigmaticus_XC751550-dat014-005_edit4.wav' is too short (2.0sec)\n",
      "Stenobothrusstigmaticus_XC751550-dat014-005_edit4.wav skipped as too short\n",
      "No silence remove applied: File 'Myrmeleotettixmaculatus_XC752575-dat020-007_edit3.wav' is too short (6.0sec)\n",
      "Myrmeleotettixmaculatus_XC752575-dat020-007_edit3.wav skipped as too short\n",
      "No silence remove applied: File 'Pholidopteraaptera_XC751369-dat146-003_edit1.wav' is too short (6.0sec)\n",
      "Pholidopteraaptera_XC751369-dat146-003_edit1.wav skipped as too short\n",
      "No silence remove applied: File 'Grylluscampestris_GBIF3058747469_IN45786136_87829_edit1.wav' is too short (5.0sec)\n",
      "Grylluscampestris_GBIF3058747469_IN45786136_87829_edit1.wav skipped as too short\n"
     ]
    },
    {
     "name": "stderr",
     "output_type": "stream",
     "text": [
      " 26%|██▌       | 454/1751 [00:23<01:04, 20.03it/s]"
     ]
    },
    {
     "name": "stdout",
     "output_type": "stream",
     "text": [
      "Omocestusrufipes_XC751624-dat004-020.wav skipped as too short\n",
      "No silence remove applied: File 'Eupholidopteraschmidti_XC751315-dat049-005_edit1.wav' is too short (8.0sec)\n",
      "Eupholidopteraschmidti_XC751315-dat049-005_edit1.wav skipped as too short\n",
      "Pseudochorthippusparallelus_XC751401-dat023-002_edit1.wav skipped as too short\n"
     ]
    },
    {
     "name": "stderr",
     "output_type": "stream",
     "text": [
      " 26%|██▌       | 457/1751 [00:23<01:00, 21.36it/s]"
     ]
    },
    {
     "name": "stdout",
     "output_type": "stream",
     "text": [
      "No silence remove applied: File 'Chorthippusbrunneus_XC751399-dat022-009_edit2.wav' is too short (9.0sec)\n",
      "Chorthippusbrunneus_XC751399-dat022-009_edit2.wav skipped as too short\n",
      "No silence remove applied: File 'Stenobothrusstigmaticus_XC752014-dat005-010.wav' is too short (3.470589569160998sec)\n",
      "Stenobothrusstigmaticus_XC752014-dat005-010.wav skipped as too short\n",
      "No silence remove applied: File 'Stenobothrusstigmaticus_XC752009-dat005-005.wav' is too short (4.233854875283447sec)\n",
      "Stenobothrusstigmaticus_XC752009-dat005-005.wav skipped as too short\n"
     ]
    },
    {
     "name": "stderr",
     "output_type": "stream",
     "text": [
      " 26%|██▋       | 461/1751 [00:23<00:52, 24.40it/s]"
     ]
    },
    {
     "name": "stdout",
     "output_type": "stream",
     "text": [
      "Chorthippusmollis_XC751824-dat001-033_edit2.wav skipped as too shortNo silence remove applied: File 'Pseudochorthippusparallelus_GBIF3858893041_IN123322641_481511_edit2.wav' is too short (3.5sec)\n",
      "\n",
      "Pseudochorthippusparallelus_GBIF3858893041_IN123322641_481511_edit2.wav skipped as too short\n",
      "Gomphocerippusrufus_XC752300-dat005-061.wav Long sample (361.9038095238095) and normal splitting\n",
      "Omocestusrufipes_XC751625-dat015-008_edit5.wav skipped as too short\n"
     ]
    },
    {
     "name": "stderr",
     "output_type": "stream",
     "text": [
      " 26%|██▋       | 464/1751 [00:23<00:59, 21.53it/s]"
     ]
    },
    {
     "name": "stdout",
     "output_type": "stream",
     "text": [
      "No silence remove applied: File 'Yoyettacelis_GBIF2445145350_IN34762171_49039.wav' is too short (6.5sec)\n",
      "Yoyettacelis_GBIF2445145350_IN34762171_49039.wav skipped as too short\n",
      "Gryllusbimaculatus_XC751723-dat007-019.wav skipped as too short\n",
      "Omocestusviridulus_XC752264-dat012-008_edit1.wav Long sample (48.91052154195011) and normal splitting\n",
      "Decticusverrucivorus_XC751964-dat016-010.wav Long sample (118.18331065759637) and normal splitting\n",
      "Myrmeleotettixmaculatus_XC752580-dat015-006_edit1.wav Long sample (107.7427664399093) and normal splitting\n",
      "Phaneropterafalcata_XC751636-dat030-013_edit1.wav skipped as too short\n"
     ]
    },
    {
     "name": "stderr",
     "output_type": "stream",
     "text": [
      " 27%|██▋       | 467/1751 [00:24<01:05, 19.50it/s]"
     ]
    },
    {
     "name": "stdout",
     "output_type": "stream",
     "text": [
      "No silence remove applied: File 'Pholidopteralittoralis_XC752440-dat049-002_edit2.wav' is too short (2.0sec)\n",
      "Pholidopteralittoralis_XC752440-dat049-002_edit2.wav skipped as too short\n",
      "No silence remove applied: File 'Tettigoniaviridissima_Take05.M.wav' is too short (5.644285714285714sec)\n",
      "Tettigoniaviridissima_Take05.M.wav skipped as too short\n",
      "No silence remove applied: File 'Yoyettacelis_GBIF2984505040_IN64754508_148352.wav' is too short (6.176507936507937sec)\n",
      "Yoyettacelis_GBIF2984505040_IN64754508_148352.wav skipped as too short\n",
      "No silence remove applied: File 'Omocestusviridulus_XC752271-dat009-008_edit4.wav' is too short (8.0sec)\n",
      "Omocestusviridulus_XC752271-dat009-008_edit4.wav skipped as too short\n",
      "Diceroproctaeugraphica_GBIF2802814833_IN50198543_109509.wav Long sample (47.000997732426306) and normal splitting\n",
      "Gomphocerussibiricus_XC751885-dat056-011_edit1.wav Long sample (202.55891156462584) and normal splitting\n"
     ]
    },
    {
     "name": "stderr",
     "output_type": "stream",
     "text": [
      " 27%|██▋       | 472/1751 [00:24<00:58, 21.92it/s]"
     ]
    },
    {
     "name": "stdout",
     "output_type": "stream",
     "text": [
      "No silence remove applied: File 'Conocephalusfuscus_XC752388-dat036-006_edit1.wav' is too short (8.0sec)\n",
      "Conocephalusfuscus_XC752388-dat036-006_edit1.wav skipped as too short\n",
      "No silence remove applied: File 'Roeselianaroeselii_ROEROE_20190902_155133.M.wav' is too short (5.612857142857143sec)\n",
      "Roeselianaroeselii_ROEROE_20190902_155133.M.wav skipped as too short\n",
      "Nemobiussylvestris_Take21.wav skipped as too short\n",
      "Myrmeleotettixmaculatus_XC752576-dat015-005_edit8.wav skipped as too short\n"
     ]
    },
    {
     "name": "stderr",
     "output_type": "stream",
     "text": [
      " 27%|██▋       | 476/1751 [00:24<00:55, 23.14it/s]"
     ]
    },
    {
     "name": "stdout",
     "output_type": "stream",
     "text": [
      "Phaneropteranana_XC751919-dat066-009.wav skipped as too short\n",
      "Yoyettacelis_GBIF2981146314_IN64341803_147272.wav skipped as too short\n"
     ]
    },
    {
     "name": "stderr",
     "output_type": "stream",
     "text": [
      " 27%|██▋       | 479/1751 [00:24<01:10, 18.07it/s]"
     ]
    },
    {
     "name": "stdout",
     "output_type": "stream",
     "text": [
      "No silence remove applied: File 'Chrysochraondispar_XC751694-dat030-010_edit1.wav' is too short (5.0sec)\n",
      "Chrysochraondispar_XC751694-dat030-010_edit1.wav skipped as too short\n",
      "Conocephalusfuscus_XC752065-dat037-012_edit1.wav Long sample (64.23804988662131) and normal splitting\n"
     ]
    },
    {
     "name": "stderr",
     "output_type": "stream",
     "text": [
      " 28%|██▊       | 482/1751 [00:24<01:03, 20.07it/s]"
     ]
    },
    {
     "name": "stdout",
     "output_type": "stream",
     "text": [
      "Psaltodaplaga_GBIF3031917394_IN67843697_157902.wav skipped as too short\n",
      "No silence remove applied: File 'Pseudochorthippusmontanus_XC752601-dat011-008_edit1.wav' is too short (4.0sec)\n",
      "Pseudochorthippusmontanus_XC752601-dat011-008_edit1.wav skipped as too short\n",
      "Stenobothruslineatus_XC751989-dat018-002_edit4.wav skipped as too short\n",
      "Stauroderusscalaris_XC752559-dat026-036_edit2.wav skipped as too short\n"
     ]
    },
    {
     "name": "stderr",
     "output_type": "stream",
     "text": [
      " 28%|██▊       | 485/1751 [00:24<01:01, 20.54it/s]"
     ]
    },
    {
     "name": "stdout",
     "output_type": "stream",
     "text": [
      "No silence remove applied: File 'Gryllusbimaculatus_XC751722-dat007-018_edit1.wav' is too short (9.0sec)No silence remove applied: File 'Eupholidopteraschmidti_XC751317-dat049-006_edit3.wav' is too short (6.0sec)\n",
      "Eupholidopteraschmidti_XC751317-dat049-006_edit3.wav skipped as too short\n",
      "\n",
      "Gryllusbimaculatus_XC751722-dat007-018_edit1.wav skipped as too short\n",
      "Chorthippusbiguttulus_XC752401-dat030-001_edit3.wav skipped as too short\n"
     ]
    },
    {
     "name": "stderr",
     "output_type": "stream",
     "text": [
      " 28%|██▊       | 490/1751 [00:25<01:06, 18.94it/s]"
     ]
    },
    {
     "name": "stdout",
     "output_type": "stream",
     "text": [
      "No silence remove applied: File 'Yoyettacelis_GBIF2868164510_IN59749893_137552.wav' is too short (3.6sec)\n",
      "Yoyettacelis_GBIF2868164510_IN59749893_137552.wav skipped as too short\n",
      "Platypleurasp10_MHV%20313%20P.sp10%20Die%20Koo%20%238a_edit1.wav Long sample (117.21863945578231) and normal splittingNo silence remove applied: File 'Pholidopteralittoralis_XC752425-dat052-006_edit2.wav' is too short (5.0sec)\n",
      "\n",
      "Pholidopteralittoralis_XC752425-dat052-006_edit2.wav skipped as too short\n",
      "No silence remove applied: File 'Pseudochorthippusparallelus_XC752307-dat004-012_edit1.wav' is too short (8.0sec)\n",
      "Pseudochorthippusparallelus_XC752307-dat004-012_edit1.wav skipped as too short\n"
     ]
    },
    {
     "name": "stderr",
     "output_type": "stream",
     "text": [
      " 28%|██▊       | 493/1751 [00:25<01:00, 20.82it/s]"
     ]
    },
    {
     "name": "stdout",
     "output_type": "stream",
     "text": [
      "Oecanthuspellucens_XC751438-dat168-015_edit1.wav Long sample (37.45031746031746) and normal splitting\n",
      "Tettigoniacantans_XC751937-dat030-006_edit2.wav Long sample (50.77789115646259) and normal splitting\n",
      "No silence remove applied: File 'Yoyettarepetens_GBIF1950028452_IN18992503_28265_edit1.wav' is too short (7.0sec)\n",
      "Yoyettarepetens_GBIF1950028452_IN18992503_28265_edit1.wav skipped as too short\n"
     ]
    },
    {
     "name": "stderr",
     "output_type": "stream",
     "text": [
      " 28%|██▊       | 496/1751 [00:25<01:20, 15.50it/s]"
     ]
    },
    {
     "name": "stdout",
     "output_type": "stream",
     "text": [
      "No silence remove applied: File 'Chorthippusbiguttulus_Take07.M.wav' is too short (4.747142857142857sec)\n",
      "Chorthippusbiguttulus_Take07.M.wav skipped as too short\n",
      "Grylluscampestris_XC751539-dat003-005.wav Long sample (44.5615873015873) and normal splitting\n",
      "Chorthippusbiguttulus_XC752482-dat065-006_edit3.wav skipped as too short\n"
     ]
    },
    {
     "name": "stderr",
     "output_type": "stream",
     "text": [
      " 28%|██▊       | 499/1751 [00:25<01:11, 17.40it/s]"
     ]
    },
    {
     "name": "stdout",
     "output_type": "stream",
     "text": [
      "No silence remove applied: File 'Stenobothrusstigmaticus_XC752023-dat005-019.wav' is too short (4.884875283446712sec)\n",
      "Stenobothrusstigmaticus_XC752023-dat005-019.wav skipped as too short\n",
      "Gryllusbimaculatus_GBIF3320870592_IN84374504_261367_edit1.wav Long sample (39.99383219954648) and normal splitting\n",
      "No silence remove applied: File 'Aleetacurvicosta_GBIF3039289301_IN68985266_161927.wav' is too short (6.8sec)\n",
      "Aleetacurvicosta_GBIF3039289301_IN68985266_161927.wav skipped as too short\n"
     ]
    },
    {
     "name": "stderr",
     "output_type": "stream",
     "text": [
      " 29%|██▊       | 502/1751 [00:25<01:17, 16.11it/s]"
     ]
    },
    {
     "name": "stdout",
     "output_type": "stream",
     "text": [
      "Oecanthuspellucens_XC752322-dat213-002_edit1.wav Long sample (30.080272108843538) and normal splitting\n"
     ]
    },
    {
     "name": "stderr",
     "output_type": "stream",
     "text": [
      " 29%|██▉       | 505/1751 [00:26<01:12, 17.24it/s]"
     ]
    },
    {
     "name": "stdout",
     "output_type": "stream",
     "text": [
      "No silence remove applied: File 'Atrapsaltaencaustica_GBIF3456469396_IN103925225_341477.wav' is too short (6.6sec)\n",
      "Galangalabeculata_GBIF2563581312_IN37927188_55703.wav skipped as too shortAtrapsaltaencaustica_GBIF3456469396_IN103925225_341477.wav skipped as too short\n",
      "\n",
      "No silence remove applied: File 'Clinopsaltaautumna_GBIF1805372259_IN8196034_15725.wav' is too short (7.720634920634921sec)\n",
      "Clinopsaltaautumna_GBIF1805372259_IN8196034_15725.wav skipped as too short\n",
      "Stauroderusscalaris_XC751882-dat055-007_edit2.wav Long sample (33.676485260770974) and normal splitting\n",
      "Tettigoniacantans_XC751951-dat039-005_edit3.wav skipped as too short\n"
     ]
    },
    {
     "name": "stderr",
     "output_type": "stream",
     "text": [
      " 29%|██▉       | 510/1751 [00:26<00:59, 20.69it/s]"
     ]
    },
    {
     "name": "stdout",
     "output_type": "stream",
     "text": [
      "Oecanthuspellucens_XC752225-dat123-004_edit2.wav skipped as too short\n",
      "No silence remove applied: File 'Bicoloranabicolor_XC752542-dat061-002_edit1.wav' is too short (5.0sec)\n",
      "Bicoloranabicolor_XC752542-dat061-002_edit1.wav skipped as too short\n",
      "No silence remove applied: File 'Yoyettacelis_GBIF1806359351_IN9614342_17380.wav' is too short (1.3003174603174603sec)No silence remove applied: File 'Galangalabeculata_GBIF3031769749_IN68574955_160432.wav' is too short (6.5sec)Phaneropterafalcata_XC751638-dat030-015_edit3.wav skipped as too shortYoyettacelis_GBIF1806359351_IN9614342_17380.wav skipped as too short\n",
      "\n",
      "\n",
      "\n"
     ]
    },
    {
     "name": "stderr",
     "output_type": "stream",
     "text": [
      " 29%|██▉       | 515/1751 [00:26<00:47, 26.26it/s]"
     ]
    },
    {
     "name": "stdout",
     "output_type": "stream",
     "text": [
      "Galangalabeculata_GBIF3031769749_IN68574955_160432.wav skipped as too short\n",
      "Nemobiussylvestris_XC751473-dat017-004_edit1.wav skipped as too short\n",
      "Stenobothruslineatus_XC751983-dat017-018_edit3.wav Long sample (35.246303854875286) and normal splitting\n",
      "No silence remove applied: File 'Stenobothrusstigmaticus_XC751710-dat141-001_edit2.wav' is too short (5.0sec)\n",
      "Stenobothrusstigmaticus_XC751710-dat141-001_edit2.wav skipped as too short"
     ]
    },
    {
     "name": "stderr",
     "output_type": "stream",
     "text": [
      " 30%|██▉       | 519/1751 [00:26<00:45, 26.85it/s]"
     ]
    },
    {
     "name": "stdout",
     "output_type": "stream",
     "text": [
      "\n",
      "No silence remove applied: File 'Stenobothrusstigmaticus_XC751997-dat004-042_edit1.wav' is too short (2.0sec)\n",
      "Stenobothrusstigmaticus_XC751997-dat004-042_edit1.wav skipped as too short\n",
      "Roeselianaroeselii_XC751675-dat018-012_edit5.wav skipped as too short\n",
      "No silence remove applied: File 'Chrysochraondispar_XC751758-dat005-082_edit1.wav' is too short (3.0sec)\n",
      "Chrysochraondispar_XC751758-dat005-082_edit1.wav skipped as too shortOmocestusviridulus_XC752261-dat011-002_edit5.wav Long sample (37.694807256235826) and normal splitting\n",
      "\n",
      "Tettigoniaviridissima_XC751507-dat003-039_edit1.wav skipped as too short\n"
     ]
    },
    {
     "name": "stderr",
     "output_type": "stream",
     "text": [
      " 30%|██▉       | 523/1751 [00:26<00:42, 28.78it/s]"
     ]
    },
    {
     "name": "stdout",
     "output_type": "stream",
     "text": [
      "Pholidopteragriseoaptera_XC751466-dat020-006_edit6.wav skipped as too short\n",
      "No silence remove applied: File 'Tettigoniacantans_XC751946-dat034-025_edit7.wav' is too short (8.0sec)\n",
      "Tettigoniacantans_XC751946-dat034-025_edit7.wav skipped as too short\n",
      "Nemobiussylvestris_XC751470-dat017-001_edit3.wav Long sample (119.99945578231292) and normal splittingNo silence remove applied: File 'Tettigoniacantans_XC751935-dat030-004_edit4.wav' is too short (8.0sec)\n"
     ]
    },
    {
     "name": "stderr",
     "output_type": "stream",
     "text": [
      " 30%|███       | 527/1751 [00:26<00:52, 23.48it/s]"
     ]
    },
    {
     "name": "stdout",
     "output_type": "stream",
     "text": [
      "\n",
      "Tettigoniacantans_XC751935-dat030-004_edit4.wav skipped as too short\n",
      "Tettigoniacantans_XC751941-dat033-012_edit5.wav skipped as too short\n",
      "No silence remove applied: File 'Yoyettacelis_GBIF2901794975_IN62986467_143761.wav' is too short (5.526349206349207sec)\n",
      "Yoyettacelis_GBIF2901794975_IN62986467_143761.wav skipped as too short\n"
     ]
    },
    {
     "name": "stderr",
     "output_type": "stream",
     "text": [
      " 30%|███       | 530/1751 [00:27<01:03, 19.12it/s]"
     ]
    },
    {
     "name": "stdout",
     "output_type": "stream",
     "text": [
      "No silence remove applied: File 'Conocephalusfuscus_XC752057-dat037-001_edit1.wav' is too short (8.0sec)\n",
      "Metriopterabrachyptera_XC752076-dat017-014.wav Long sample (60.33074829931973) and normal splittingConocephalusfuscus_XC752057-dat037-001_edit1.wav skipped as too short\n",
      "\n",
      "Nemobiussylvestris_XC751472-dat017-003_edit5.wav Long sample (93.03356009070295) and normal splitting\n",
      "Conocephalusfuscus_XC752063-dat037-010_edit1.wav Long sample (67.93927437641723) and normal splitting\n",
      "Chorthippusbiguttulus_XC752399-dat028-024_edit1.wav skipped as too short\n",
      "Eumodicogryllusbordigalensis_XC751345-dat173-001_edit2.wav Long sample (63.96224489795918) and normal splitting\n",
      "Nemobiussylvestris_XC752034-dat004-037.wav Long sample (54.48043083900227) and normal splitting\n",
      "Chorthippusbiguttulus_XC752113-dat150-007_edit3.wav skipped as too short\n"
     ]
    },
    {
     "name": "stderr",
     "output_type": "stream",
     "text": [
      " 30%|███       | 533/1751 [00:27<01:18, 15.49it/s]"
     ]
    },
    {
     "name": "stdout",
     "output_type": "stream",
     "text": [
      "Chorthippusbiguttulus_XC752403-dat030-003_edit5.wav skipped as too short\n",
      "No silence remove applied: File 'Stenobothrusstigmaticus_XC752011-dat005-007.wav' is too short (4.000385487528344sec)\n",
      "Stenobothrusstigmaticus_XC752011-dat005-007.wav skipped as too short\n",
      "No silence remove applied: File 'Chorthippusbiguttulus_XC752403-dat030-003_edit4.wav' is too short (6.0sec)\n",
      "Chorthippusbiguttulus_XC752403-dat030-003_edit4.wav skipped as too short\n"
     ]
    },
    {
     "name": "stderr",
     "output_type": "stream",
     "text": [
      " 31%|███       | 539/1751 [00:27<01:13, 16.55it/s]"
     ]
    },
    {
     "name": "stdout",
     "output_type": "stream",
     "text": [
      "No silence remove applied: File 'Tettigoniacantans_XC751935-dat030-004_edit5.wav' is too short (8.0sec)\n",
      "Tettigoniacantans_XC751935-dat030-004_edit5.wav skipped as too short\n",
      "No silence remove applied: File 'Tettigoniacantans_XC751946-dat034-025_edit6.wav' is too short (7.0sec)No silence remove applied: File 'Oecanthuspellucens_GBIF3337728420_IN63971866_147300_edit1.wav' is too short (2.5sec)\n",
      "\n",
      "Oecanthuspellucens_GBIF3337728420_IN63971866_147300_edit1.wav skipped as too short\n",
      "Tettigoniacantans_XC751946-dat034-025_edit6.wav skipped as too short\n",
      "No silence remove applied: File 'Atrapsaltacorticina_GBIF2883147685_IN61755895_140703_edit1.wav' is too short (6.5sec)\n",
      "Atrapsaltacorticina_GBIF2883147685_IN61755895_140703_edit1.wav skipped as too short\n",
      "Tettigoniacantans_XC751941-dat033-012_edit4.wav skipped as too short\n"
     ]
    },
    {
     "name": "stderr",
     "output_type": "stream",
     "text": [
      " 31%|███       | 546/1751 [00:27<00:48, 24.88it/s]"
     ]
    },
    {
     "name": "stdout",
     "output_type": "stream",
     "text": [
      "No silence remove applied: File 'Yoyettarepetens_GBIF2005281643_IN20174740_30969_edit1.wav' is too short (5.791904761904762sec)\n",
      "Yoyettarepetens_GBIF2005281643_IN20174740_30969_edit1.wav skipped as too short\n",
      "Chorthippusbiguttulus_XC752113-dat150-007_edit2.wav skipped as too shortNo silence remove applied: File 'Stenobothrusstigmaticus_XC751710-dat141-001_edit3.wav' is too short (7.0sec)\n",
      "\n",
      "Stenobothrusstigmaticus_XC751710-dat141-001_edit3.wav skipped as too shortNo silence remove applied: File 'Pholidopteragriseoaptera_XC751874-dat148-009_edit1.wav' is too short (2.0sec)\n",
      "Pholidopteragriseoaptera_XC751874-dat148-009_edit1.wav skipped as too short\n",
      "\n",
      "No silence remove applied: File 'Pholidopteragriseoaptera_XC752571-dat169-001_edit1.wav' is too short (2.0sec)\n",
      "Pholidopteragriseoaptera_XC752571-dat169-001_edit1.wav skipped as too short\n"
     ]
    },
    {
     "name": "stderr",
     "output_type": "stream",
     "text": [
      " 32%|███▏      | 552/1751 [00:27<00:40, 29.84it/s]"
     ]
    },
    {
     "name": "stdout",
     "output_type": "stream",
     "text": [
      "Chorthippusbrunneus_XC751382-dat005-046.wav Long sample (34.36412698412698) and normal splitting\n",
      "Tettigoniacantans_XC751448-dat044-003.wav Long sample (71.53886621315193) and normal splitting\n",
      "Platypleurasp12cfhirtipennis_MHV%20840%20P.sp12%20nr%20Laingsburg_edit1.wav Long sample (49.4) and normal splitting\n",
      "Roeselianaroeselii_XC751675-dat018-012_edit4.wav skipped as too short\n",
      "Chrysochraondispar_XC752067-dat001-009.wav skipped as too short\n",
      "Cyclochilaaustralasiae_GBIF2465305282_IN36155866_51319.wav skipped as too short\n",
      "Omocestusviridulus_XC752261-dat011-002_edit4.wav Long sample (30.59795918367347) and normal splitting\n",
      "Tettigoniacantans_XC751951-dat039-005_edit2.wav skipped as too short\n"
     ]
    },
    {
     "name": "stderr",
     "output_type": "stream",
     "text": [
      " 32%|███▏      | 556/1751 [00:28<00:53, 22.23it/s]"
     ]
    },
    {
     "name": "stdout",
     "output_type": "stream",
     "text": [
      "Yoyettacelis_GBIF2988439793_IN65452531_150378.wav skipped as too short\n"
     ]
    },
    {
     "name": "stderr",
     "output_type": "stream",
     "text": [
      " 32%|███▏      | 560/1751 [00:28<00:56, 21.09it/s]"
     ]
    },
    {
     "name": "stdout",
     "output_type": "stream",
     "text": [
      "Stauroderusscalaris_XC751882-dat055-007_edit3.wav skipped as too short\n",
      "Stenobothruslineatus_XC751983-dat017-018_edit2.wav Long sample (31.56140589569161) and normal splitting\n",
      "No silence remove applied: File 'Yoyettacelis_GBIF2868154589_IN59846762_137549.wav' is too short (3.0sec)\n",
      "Yoyettacelis_GBIF2868154589_IN59846762_137549.wav skipped as too short\n"
     ]
    },
    {
     "name": "stderr",
     "output_type": "stream",
     "text": [
      " 32%|███▏      | 563/1751 [00:28<00:54, 21.98it/s]"
     ]
    },
    {
     "name": "stdout",
     "output_type": "stream",
     "text": [
      "Nemobiussylvestris_XC751470-dat017-001_edit2.wav Long sample (39.9772335600907) and normal splitting\n",
      "Pholidopteragriseoaptera_GBIF3398638263_IN98520399_317558.wav skipped as too shortPlatypleuraplumosa_MHV%20329%20P.plumosa%20Steydtlerville%20%234_edit1.wav skipped as too short\n",
      "\n",
      "Phaneropterafalcata_XC751638-dat030-015_edit2.wav Long sample (30.386961451247167) and normal splitting\n",
      "Pseudochorthippusparallelus_XC751404-dat023-005_edit2.wav skipped as too short\n"
     ]
    },
    {
     "name": "stderr",
     "output_type": "stream",
     "text": [
      " 32%|███▏      | 566/1751 [00:28<00:55, 21.42it/s]"
     ]
    },
    {
     "name": "stdout",
     "output_type": "stream",
     "text": [
      "Chorthippusbiguttulus_XC752482-dat065-006_edit2.wav skipped as too short\n",
      "No silence remove applied: File 'Pholidopteralittoralis_XC752425-dat052-006_edit3.wav' is too short (5.0sec)\n",
      "Pholidopteralittoralis_XC752425-dat052-006_edit3.wav skipped as too short\n",
      "No silence remove applied: File 'Atrapsaltacollina_GBIF1946321513_IN18588505_27627_edit1.wav' is too short (8.0sec)\n",
      "Atrapsaltacollina_GBIF1946321513_IN18588505_27627_edit1.wav skipped as too short\n",
      "No silence remove applied: File 'Popplepsaltaaeroides_GBIF3416226562_IN101435862_330533_edit1.wav' is too short (9.79sec)\n",
      "Popplepsaltaaeroides_GBIF3416226562_IN101435862_330533_edit1.wav skipped as too short\n",
      "No silence remove applied: File 'Eupholidopteraschmidti_XC751317-dat049-006_edit2.wav' is too short (7.0sec)Tettigoniacantans_XC751937-dat030-006_edit3.wav skipped as too short\n",
      "\n",
      "Eupholidopteraschmidti_XC751317-dat049-006_edit2.wav skipped as too short\n"
     ]
    },
    {
     "name": "stderr",
     "output_type": "stream",
     "text": [
      " 33%|███▎      | 573/1751 [00:28<00:37, 31.02it/s]"
     ]
    },
    {
     "name": "stdout",
     "output_type": "stream",
     "text": [
      "No silence remove applied: File 'Chorthippusbiguttulus_XC752401-dat030-001_edit2.wav' is too short (8.6sec)\n",
      "Chorthippusbiguttulus_XC752401-dat030-001_edit2.wav skipped as too short\n",
      "No silence remove applied: File 'Chorthippusbrunneus_XC751520-dat003-020 19.10.01_edit4.wav' is too short (9.132834467120182sec)\n",
      "Chorthippusbrunneus_XC751520-dat003-020 19.10.01_edit4.wav skipped as too shortNo silence remove applied: File 'Pseudochorthippusmontanus_XC752601-dat011-008_edit2.wav' is too short (5.0sec)\n",
      "\n",
      "No silence remove applied: File 'Roeselianaroeselii_XC752363-dat006-005.wav' is too short (7.260022675736962sec)\n",
      "Pseudochorthippusmontanus_XC752601-dat011-008_edit2.wav skipped as too shortRoeselianaroeselii_XC752363-dat006-005.wav skipped as too short\n",
      "\n",
      "Nemobiussylvestris_XC751472-dat017-003_edit4.wav Long sample (140.58804988662132) and normal splitting\n",
      "Atrapsaltaencaustica_GBIF1933569388_IN17923529_26839.wav skipped as too short\n"
     ]
    },
    {
     "name": "stderr",
     "output_type": "stream",
     "text": [
      " 33%|███▎      | 580/1751 [00:28<00:30, 38.02it/s]"
     ]
    },
    {
     "name": "stdout",
     "output_type": "stream",
     "text": [
      "No silence remove applied: File 'Pholidopteralittoralis_XC752425-dat052-006_edit1.wav' is too short (5.0sec)\n",
      "Pholidopteralittoralis_XC752425-dat052-006_edit1.wav skipped as too short\n",
      "Pseudochorthippusparallelus_XC752307-dat004-012_edit2.wav skipped as too short\n",
      "Oecanthuspellucens_XC751438-dat168-015_edit2.wav skipped as too short\n",
      "Decticusverrucivorus_XC751975-dat018-008_edit2.wav Long sample (56.48680272108844) and normal splittingGomphocerippusrufus_XC752280-dat024-012_edit1.wav Long sample (48.63181405895691) and normal splitting\n",
      "\n",
      "Oecanthuspellucens_XC752322-dat213-002_edit2.wav skipped as too short\n"
     ]
    },
    {
     "name": "stderr",
     "output_type": "stream",
     "text": [
      " 33%|███▎      | 585/1751 [00:29<01:04, 18.16it/s]"
     ]
    },
    {
     "name": "stdout",
     "output_type": "stream",
     "text": [
      "Popplepsaltanotialis_GBIF1831164231_IN9749732_17790.wav skipped as too short\n",
      "No silence remove applied: File 'Tettigoniaviridissima_GBIF2851072098_IN55963875_128952.wav' is too short (5.2sec)\n",
      "Tettigoniaviridissima_GBIF2851072098_IN55963875_128952.wav skipped as too short\n",
      "Tettigoniaviridissima_XC751322-dat001-006.wav skipped as too short\n"
     ]
    },
    {
     "name": "stderr",
     "output_type": "stream",
     "text": [
      " 34%|███▎      | 589/1751 [00:29<01:06, 17.37it/s]"
     ]
    },
    {
     "name": "stdout",
     "output_type": "stream",
     "text": [
      "Stauroderusscalaris_XC751882-dat055-007_edit1.wav skipped as too short\n",
      "No silence remove applied: File 'Stenobothrusstigmaticus_XC752005-dat005-001.wav' is too short (3.462040816326531sec)Galangalabeculata_GBIF1949993175_IN18886208_28244.wav skipped as too short\n"
     ]
    },
    {
     "name": "stderr",
     "output_type": "stream",
     "text": [
      " 34%|███▍      | 592/1751 [00:29<01:01, 18.88it/s]"
     ]
    },
    {
     "name": "stdout",
     "output_type": "stream",
     "text": [
      "\n",
      "Stenobothrusstigmaticus_XC752005-dat005-001.wav skipped as too short\n",
      "No silence remove applied: File 'Bicoloranabicolor_XC752542-dat061-002_edit2.wav' is too short (6.0sec)\n",
      "Bicoloranabicolor_XC752542-dat061-002_edit2.wav skipped as too short\n",
      "Tettigoniacantans_XC751937-dat030-006_edit1.wav Long sample (127.04832199546485) and normal splitting\n",
      "Gomphocerussibiricus_XC751886-dat056-015_edit4.wav skipped as too short\n"
     ]
    },
    {
     "name": "stderr",
     "output_type": "stream",
     "text": [
      " 34%|███▍      | 595/1751 [00:30<01:02, 18.36it/s]"
     ]
    },
    {
     "name": "stdout",
     "output_type": "stream",
     "text": [
      "Oecanthuspellucens_XC752225-dat123-004_edit1.wav Long sample (73.9584126984127) and normal splitting\n",
      "Nemobiussylvestris_XC751473-dat017-004_edit2.wav skipped as too short\n",
      "No silence remove applied: File 'Pholidopteragriseoaptera_XC752571-dat169-001_edit3.wav' is too short (2.0sec)\n",
      "Pholidopteragriseoaptera_XC752571-dat169-001_edit3.wav skipped as too short\n",
      "Atrapsaltacorticina_GBIF2447976267_IN35033705_49472.wav skipped as too short\n"
     ]
    },
    {
     "name": "stderr",
     "output_type": "stream",
     "text": [
      " 34%|███▍      | 598/1751 [00:30<01:01, 18.68it/s]"
     ]
    },
    {
     "name": "stdout",
     "output_type": "stream",
     "text": [
      "No silence remove applied: File 'Yoyettacelis_GBIF1931521268_IN17584956_26616.wav' is too short (8.777142857142858sec)\n",
      "Yoyettacelis_GBIF1931521268_IN17584956_26616.wav skipped as too short\n",
      "Stenobothruslineatus_XC751988-dat018-001_edit8.wav skipped as too short\n",
      "Chorthippusalbomarginatus_XC751405-dat024-001.wav Long sample (706.3866213151928) and normal splitting\n"
     ]
    },
    {
     "name": "stderr",
     "output_type": "stream",
     "text": [
      " 34%|███▍      | 601/1751 [00:30<01:22, 13.87it/s]"
     ]
    },
    {
     "name": "stdout",
     "output_type": "stream",
     "text": [
      "No silence remove applied: File 'Roeselianaroeselii_Ultramic_20130809 190241.M.wav' is too short (3.649002267573696sec)\n",
      "Roeselianaroeselii_Ultramic_20130809 190241.M.wav skipped as too short\n",
      "Eumodicogryllusbordigalensis_XC751345-dat173-001_edit1.wav Long sample (45.80530612244898) and normal splitting\n",
      "Chorthippusalbomarginatus_XC751378-dat001-032.wav skipped as too short\n"
     ]
    },
    {
     "name": "stderr",
     "output_type": "stream",
     "text": [
      " 34%|███▍      | 603/1751 [00:30<01:22, 13.99it/s]"
     ]
    },
    {
     "name": "stdout",
     "output_type": "stream",
     "text": [
      "No silence remove applied: File 'Pholidopteragriseoaptera_XC751874-dat148-009_edit3.wav' is too short (2.0sec)\n",
      "Pholidopteragriseoaptera_XC751874-dat148-009_edit3.wav skipped as too short\n",
      "No silence remove applied: File 'Stenobothrusstigmaticus_XC752025-dat005-021.wav' is too short (3.5154875283446714sec)\n",
      "Stenobothrusstigmaticus_XC752025-dat005-021.wav skipped as too short\n",
      "No silence remove applied: File 'Chrysochraondispar_XC751758-dat005-082_edit2.wav' is too short (3.0sec)\n",
      "Chrysochraondispar_XC751758-dat005-082_edit2.wav skipped as too short\n",
      "No silence remove applied: File 'Yoyettacelis_GBIF2898415547_IN62083804_141521_edit1.wav' is too short (1.0sec)No silence remove applied: File 'Stenobothrusstigmaticus_XC751997-dat004-042_edit2.wav' is too short (4.0sec)\n",
      "\n",
      "Stenobothrusstigmaticus_XC751997-dat004-042_edit2.wav skipped as too shortYoyettacelis_GBIF2898415547_IN62083804_141521_edit1.wav skipped as too short\n"
     ]
    },
    {
     "name": "stderr",
     "output_type": "stream",
     "text": [
      " 35%|███▍      | 608/1751 [00:30<00:57, 19.77it/s]"
     ]
    },
    {
     "name": "stdout",
     "output_type": "stream",
     "text": [
      "\n",
      "No silence remove applied: File 'Stenobothrusstigmaticus_XC751710-dat141-001_edit1.wav' is too short (6.0sec)\n",
      "Stenobothrusstigmaticus_XC751710-dat141-001_edit1.wav skipped as too short\n",
      "No silence remove applied: File 'Yoyettacelis_GBIF1990557464_IN19793846_30398.wav' is too short (3.006984126984127sec)\n",
      "Yoyettacelis_GBIF1990557464_IN19793846_30398.wav skipped as too short\n",
      "Chorthippusmollis_XC751765-dat005-069.wav skipped as too short\n"
     ]
    },
    {
     "name": "stderr",
     "output_type": "stream",
     "text": [
      " 35%|███▌      | 613/1751 [00:31<00:45, 25.26it/s]"
     ]
    },
    {
     "name": "stdout",
     "output_type": "stream",
     "text": [
      "No silence remove applied: File 'Tettigoniacantans_XC751946-dat034-025_edit4.wav' is too short (9.0sec)\n",
      "No silence remove applied: File 'Pholidopteragriseoaptera_XC751466-dat020-006_edit5.wav' is too short (8.0sec)Tettigoniacantans_XC751946-dat034-025_edit4.wav skipped as too short\n",
      "\n",
      "Roeselianaroeselii_XC751669-dat015-001.wav Long sample (88.75988662131519) and normal splittingMelanogryllusdesertus_XC752508-dat046-007_edit1.wav Long sample (119.52827664399094) and normal splittingPholidopteragriseoaptera_XC751466-dat020-006_edit5.wav skipped as too short\n",
      "\n",
      "\n",
      "Ephippigerdiurnus_XC752330-dat026-051.wav skipped as too short\n",
      "No silence remove applied: File 'Stauroderusscalaris_XC751887-dat056-018.wav' is too short (7.744875283446712sec)\n",
      "Stauroderusscalaris_XC751887-dat056-018.wav skipped as too short\n"
     ]
    },
    {
     "name": "stderr",
     "output_type": "stream",
     "text": [
      " 35%|███▌      | 617/1751 [00:31<00:49, 23.00it/s]"
     ]
    },
    {
     "name": "stdout",
     "output_type": "stream",
     "text": [
      "Chorthippusapricarius_XC752598-dat007-011.wav Long sample (33.716802721088435) and normal splitting\n",
      "Tettigoniacantans_XC751941-dat033-012_edit6.wav skipped as too short\n",
      "Chorthippusbiguttulus_XC752399-dat028-024_edit2.wav skipped as too short\n",
      "Conocephalusfuscus_XC752063-dat037-010_edit2.wav Long sample (49.99988662131519) and normal splitting\n"
     ]
    },
    {
     "name": "stderr",
     "output_type": "stream",
     "text": [
      " 35%|███▌      | 620/1751 [00:31<01:02, 18.01it/s]"
     ]
    },
    {
     "name": "stdout",
     "output_type": "stream",
     "text": [
      "No silence remove applied: File 'Conocephalusfuscus_XC752057-dat037-001_edit2.wav' is too short (7.274875283446712sec)\n",
      "Conocephalusfuscus_XC752057-dat037-001_edit2.wav skipped as too short\n"
     ]
    },
    {
     "name": "stderr",
     "output_type": "stream",
     "text": [
      " 36%|███▌      | 623/1751 [00:31<01:12, 15.49it/s]"
     ]
    },
    {
     "name": "stdout",
     "output_type": "stream",
     "text": [
      "Gomphocerussibiricus_XC751883-dat056-009.wav Long sample (33.45929705215419) and normal splitting\n",
      "Aleetacurvicosta_GBIF1805386964_IN9444861_17155.wav skipped as too short\n"
     ]
    },
    {
     "name": "stderr",
     "output_type": "stream",
     "text": [
      " 36%|███▌      | 625/1751 [00:31<01:14, 15.10it/s]"
     ]
    },
    {
     "name": "stdout",
     "output_type": "stream",
     "text": [
      "Chorthippusbiguttulus_XC752399-dat028-024_edit3.wav skipped as too short\n"
     ]
    },
    {
     "name": "stderr",
     "output_type": "stream",
     "text": [
      " 36%|███▌      | 627/1751 [00:32<01:18, 14.27it/s]"
     ]
    },
    {
     "name": "stdout",
     "output_type": "stream",
     "text": [
      "Chorthippusbiguttulus_XC752113-dat150-007_edit1.wav skipped as too short\n",
      "Tettigoniacantans_XC751941-dat033-012_edit7.wav skipped as too short\n"
     ]
    },
    {
     "name": "stderr",
     "output_type": "stream",
     "text": [
      " 36%|███▌      | 629/1751 [00:32<01:21, 13.70it/s]"
     ]
    },
    {
     "name": "stdout",
     "output_type": "stream",
     "text": [
      "Clinopsaltaautumna_GBIF2445102022_IN34813026_49128_edit1.wav skipped as too short\n",
      "Bicoloranabicolor_GBIF3327990654_IN86271646_271178.wav skipped as too shortNo silence remove applied: File 'Roeselianaroeselii_GBIF3881390741_IN128758778_511121.wav' is too short (9.427301587301587sec)\n",
      "\n"
     ]
    },
    {
     "name": "stderr",
     "output_type": "stream",
     "text": [
      " 36%|███▌      | 631/1751 [00:32<01:19, 14.10it/s]"
     ]
    },
    {
     "name": "stdout",
     "output_type": "stream",
     "text": [
      "Roeselianaroeselii_GBIF3881390741_IN128758778_511121.wav skipped as too shortNo silence remove applied: File 'Yoyettacelis_GBIF3343795035_IN92045174_294958.wav' is too short (1.2sec)\n",
      "\n",
      "Yoyettacelis_GBIF3343795035_IN92045174_294958.wav skipped as too shortNo silence remove applied: File 'Tettigoniacantans_XC751946-dat034-025_edit5.wav' is too short (6.0sec)\n",
      "\n",
      "Tettigoniacantans_XC751946-dat034-025_edit5.wav skipped as too short\n",
      "Cicadaorni_GBIF3327869535_IN87042662_274717.wav Long sample (63.58718820861678) and normal splitting\n",
      "Pholidopteragriseoaptera_XC751466-dat020-006_edit4.wav skipped as too short\n"
     ]
    },
    {
     "name": "stderr",
     "output_type": "stream",
     "text": [
      " 36%|███▋      | 635/1751 [00:32<01:44, 10.72it/s]"
     ]
    },
    {
     "name": "stdout",
     "output_type": "stream",
     "text": [
      "No silence remove applied: File 'Chrysochraondispar_XC751758-dat005-082_edit3.wav' is too short (3.0sec)\n",
      "Chrysochraondispar_XC751758-dat005-082_edit3.wav skipped as too short\n",
      "No silence remove applied: File 'Stenobothrusstigmaticus_XC751997-dat004-042_edit3.wav' is too short (3.0sec)\n",
      "Stenobothrusstigmaticus_XC751997-dat004-042_edit3.wav skipped as too short\n",
      "No silence remove applied: File 'Pholidopteragriseoaptera_XC751874-dat148-009_edit2.wav' is too short (2.0sec)\n",
      "Pholidopteragriseoaptera_XC751874-dat148-009_edit2.wav skipped as too short\n",
      "No silence remove applied: File 'Atrapsaltacorticina_GBIF3415384977_IN98441621_319330.wav' is too short (5.4sec)\n",
      "Atrapsaltacorticina_GBIF3415384977_IN98441621_319330.wav skipped as too short\n"
     ]
    },
    {
     "name": "stderr",
     "output_type": "stream",
     "text": [
      " 36%|███▋      | 639/1751 [00:33<01:17, 14.29it/s]"
     ]
    },
    {
     "name": "stdout",
     "output_type": "stream",
     "text": [
      "Grylluscampestris_GBIF3772964531_IN114222139_416356.wav skipped as too short\n",
      "No silence remove applied: File 'Yoyettacelis_GBIF1950028444_IN18992629_28268.wav' is too short (3.250793650793651sec)\n",
      "Yoyettacelis_GBIF1950028444_IN18992629_28268.wav skipped as too short\n"
     ]
    },
    {
     "name": "stderr",
     "output_type": "stream",
     "text": [
      " 37%|███▋      | 641/1751 [00:33<01:24, 13.17it/s]"
     ]
    },
    {
     "name": "stdout",
     "output_type": "stream",
     "text": [
      "No silence remove applied: File 'Yoyettacelis_GBIF2882952980_IN61626944_140443.wav' is too short (2.6sec)\n",
      "Yoyettacelis_GBIF2882952980_IN61626944_140443.wav skipped as too short\n"
     ]
    },
    {
     "name": "stderr",
     "output_type": "stream",
     "text": [
      " 37%|███▋      | 643/1751 [00:33<01:28, 12.50it/s]"
     ]
    },
    {
     "name": "stdout",
     "output_type": "stream",
     "text": [
      "No silence remove applied: File 'Pholidopteragriseoaptera_XC752571-dat169-001_edit2.wav' is too short (2.0sec)\n",
      "Pholidopteragriseoaptera_XC752571-dat169-001_edit2.wav skipped as too short\n",
      "Omocestusviridulus_XC752069-dat001-011.wav Long sample (31.507233560090704) and normal splitting\n",
      "Phaneropteranana_XC751920-dat066-010.wav Long sample (256.44544217687076) and normal splitting\n",
      "Decticusverrucivorus_XC751971-dat018-004_edit1.wav Long sample (247.83038548752833) and normal splitting\n"
     ]
    },
    {
     "name": "stderr",
     "output_type": "stream",
     "text": [
      " 37%|███▋      | 645/1751 [00:33<02:01,  9.13it/s]"
     ]
    },
    {
     "name": "stdout",
     "output_type": "stream",
     "text": [
      "Grylluscampestris_XC751431-dat010-010.wav Long sample (150.83385487528344) and normal splitting\n",
      "Bicoloranabicolor_XC752542-dat061-002_edit3.wav skipped as too short\n",
      "Achetadomesticus_XC751747-dat009-001_edit1.wav Long sample (249.55555555555554) and normal splitting\n",
      "Chorthippusbiguttulus_XC752344-dat005-026.wav skipped as too short\n"
     ]
    },
    {
     "name": "stderr",
     "output_type": "stream",
     "text": [
      " 37%|███▋      | 647/1751 [00:34<02:06,  8.73it/s]"
     ]
    },
    {
     "name": "stdout",
     "output_type": "stream",
     "text": [
      "Tettigoniacantans_XC751449-dat044-004.wav Long sample (102.81399092970521) and normal splitting\n",
      "Platypleurasp13_MHV%201486%20P.sp%2013%20nr%20Gamtoos%20River%20Bridge%20%232_edit1.wav skipped as too short\n",
      "Tettigoniacantans_XC751951-dat039-005_edit1.wav skipped as too short\n"
     ]
    },
    {
     "name": "stderr",
     "output_type": "stream",
     "text": [
      " 37%|███▋      | 649/1751 [00:34<02:05,  8.80it/s]"
     ]
    },
    {
     "name": "stdout",
     "output_type": "stream",
     "text": [
      "Phaneropterafalcata_XC751638-dat030-015_edit1.wav Long sample (54.20514739229025) and normal splitting\n"
     ]
    },
    {
     "name": "stderr",
     "output_type": "stream",
     "text": [
      " 37%|███▋      | 651/1751 [00:35<03:29,  5.26it/s]"
     ]
    },
    {
     "name": "stdout",
     "output_type": "stream",
     "text": [
      "Stenobothruslineatus_XC751983-dat017-018_edit1.wav skipped as too short\n"
     ]
    },
    {
     "name": "stderr",
     "output_type": "stream",
     "text": [
      " 37%|███▋      | 656/1751 [00:35<02:12,  8.29it/s]"
     ]
    },
    {
     "name": "stdout",
     "output_type": "stream",
     "text": [
      "Chorthippusbiguttulus_XC752482-dat065-006_edit1.wav skipped as too short\n",
      "No silence remove applied: File 'Yoyettacelis_GBIF1914247174_IN16981351_26142_edit1.wav' is too short (4.4sec)\n",
      "Yoyettacelis_GBIF1914247174_IN16981351_26142_edit1.wav skipped as too short\n"
     ]
    },
    {
     "name": "stderr",
     "output_type": "stream",
     "text": [
      " 38%|███▊      | 658/1751 [00:35<01:55,  9.45it/s]"
     ]
    },
    {
     "name": "stdout",
     "output_type": "stream",
     "text": [
      "Pseudochorthippusparallelus_XC751404-dat023-005_edit1.wav Long sample (34.34614512471655) and normal splitting\n",
      "Platypleurasp10_MHV%20866%20P.sp10%20Van%20Ryns%20Pass%20%231_edit1.wav Long sample (48.87281179138322) and normal splitting\n",
      "Conocephalusfuscus_XC752064-dat037-011.wav Long sample (100.17174603174603) and normal splitting\n",
      "Nemobiussylvestris_XC751470-dat017-001_edit1.wav Long sample (66.97902494331066) and normal splitting\n",
      "Oecanthuspellucens_XC752322-dat213-002_edit3.wav skipped as too short\n"
     ]
    },
    {
     "name": "stderr",
     "output_type": "stream",
     "text": [
      " 38%|███▊      | 660/1751 [00:35<02:18,  7.85it/s]"
     ]
    },
    {
     "name": "stdout",
     "output_type": "stream",
     "text": [
      "No silence remove applied: File 'Atrapsaltacorticina_GBIF1935589322_IN18046228_27010_edit1.wav' is too short (5.897936507936508sec)\n",
      "Atrapsaltacorticina_GBIF1935589322_IN18046228_27010_edit1.wav skipped as too short\n",
      "No silence remove applied: File 'Pseudochorthippusparallelus_XC752307-dat004-012_edit3.wav' is too short (9.0sec)\n",
      "Pseudochorthippusparallelus_XC752307-dat004-012_edit3.wav skipped as too short\n",
      "No silence remove applied: File 'Atrapsaltacollina_GBIF1946321513_IN18588505_27627_edit2.wav' is too short (4.918888888888889sec)\n",
      "Atrapsaltacollina_GBIF1946321513_IN18588505_27627_edit2.wav skipped as too short\n",
      "No silence remove applied: File 'Decticusverrucivorus_XC751975-dat018-008_edit1.wav' is too short (7.0sec)\n",
      "Decticusverrucivorus_XC751975-dat018-008_edit1.wav skipped as too short\n"
     ]
    },
    {
     "name": "stderr",
     "output_type": "stream",
     "text": [
      " 38%|███▊      | 665/1751 [00:36<01:18, 13.88it/s]"
     ]
    },
    {
     "name": "stdout",
     "output_type": "stream",
     "text": [
      "Yoyettacelis_GBIF3384879405_IN94389083_304002.wav skipped as too short\n",
      "Gampsocleisglabra_XC752359-dat026-003.wav skipped as too short\n"
     ]
    },
    {
     "name": "stderr",
     "output_type": "stream",
     "text": [
      " 38%|███▊      | 668/1751 [00:36<01:23, 12.99it/s]"
     ]
    },
    {
     "name": "stdout",
     "output_type": "stream",
     "text": [
      "No silence remove applied: File 'Omocestusrufipes_XC751618-dat001-051.wav' is too short (9.778684807256235sec)\n",
      "Omocestusrufipes_XC751618-dat001-051.wav skipped as too short\n",
      "No silence remove applied: File 'Platypleuracfcatenata_MHV%20288%20P.catenata%20Houwhoek%20Pass%20%233_edit4.wav' is too short (5.0sec)\n",
      "Platypleuracfcatenata_MHV%20288%20P.catenata%20Houwhoek%20Pass%20%233_edit4.wav skipped as too short\n",
      "No silence remove applied: File 'Chorthippusbiguttulus_XC752401-dat030-001_edit1.wav' is too short (8.0sec)\n",
      "Chorthippusbiguttulus_XC752401-dat030-001_edit1.wav skipped as too short\n",
      "No silence remove applied: File 'Yoyettarepetens_GBIF2901727728_IN62757977_143151_edit1.wav' is too short (3.5sec)\n",
      "Yoyettarepetens_GBIF2901727728_IN62757977_143151_edit1.wav skipped as too short\n"
     ]
    },
    {
     "name": "stderr",
     "output_type": "stream",
     "text": [
      " 38%|███▊      | 673/1751 [00:36<00:58, 18.56it/s]"
     ]
    },
    {
     "name": "stdout",
     "output_type": "stream",
     "text": [
      "Gampsocleisglabra_XC751681-dat008-026.wav Long sample (553.0696145124716) and normal splitting\n",
      "No silence remove applied: File 'Pseudochorthippusmontanus_XC752601-dat011-008_edit3.wav' is too short (5.0sec)\n",
      "Pseudochorthippusmontanus_XC752601-dat011-008_edit3.wav skipped as too shortOecanthuspellucens_XC751438-dat168-015_edit3.wav Long sample (30.05925170068027) and normal splitting\n",
      "\n",
      "No silence remove applied: File 'Eupholidopteraschmidti_XC751317-dat049-006_edit1.wav' is too short (7.0sec)\n",
      "Eupholidopteraschmidti_XC751317-dat049-006_edit1.wav skipped as too short\n"
     ]
    },
    {
     "name": "stderr",
     "output_type": "stream",
     "text": [
      " 39%|███▊      | 676/1751 [00:36<00:55, 19.31it/s]"
     ]
    },
    {
     "name": "stdout",
     "output_type": "stream",
     "text": [
      "Conocephalusdorsalis_XC751655-dat034-009_edit1.wav Long sample (76.96063492063492) and normal splittingDecticusverrucivorus_XC751976-dat018-009.wav Long sample (92.06873015873016) and normal splitting\n",
      "\n",
      "Chorthippusbiguttulus_XC752343-dat005-025.wav skipped as too short\n",
      "No silence remove applied: File 'Yoyettacelis_GBIF1806349596_IN9572305_17334.wav' is too short (3.250793650793651sec)\n",
      "Platypleuracfcatenata_MHV%201017%20P.catenata%20nr%20Hankey%20%2817th%20Jan%202008%20rec%237%29_edit1.wav Long sample (44.501927437641726) and normal splittingYoyettacelis_GBIF1806349596_IN9572305_17334.wav skipped as too short\n",
      "\n",
      "No silence remove applied: File 'Tettigoniaviridissima_TETVIR_20200808_183034.M.wav' is too short (5.152131519274376sec)\n",
      "Tettigoniaviridissima_TETVIR_20200808_183034.M.wav skipped as too short\n"
     ]
    },
    {
     "name": "stderr",
     "output_type": "stream",
     "text": [
      " 39%|███▉      | 679/1751 [00:36<00:52, 20.47it/s]"
     ]
    },
    {
     "name": "stdout",
     "output_type": "stream",
     "text": [
      "No silence remove applied: File 'Stenobothrusstigmaticus_XC752017-dat005-013.wav' is too short (4.822018140589569sec)\n",
      "Stenobothrusstigmaticus_XC752017-dat005-013.wav skipped as too short\n",
      "Chorthippusmollis_XC751838-dat182-001_edit1.wav skipped as too short\n"
     ]
    },
    {
     "name": "stderr",
     "output_type": "stream",
     "text": [
      " 39%|███▉      | 682/1751 [00:36<00:50, 20.98it/s]"
     ]
    },
    {
     "name": "stdout",
     "output_type": "stream",
     "text": [
      "Chorthippusbrunneus_XC751520-dat003-020 19.10.01_edit1.wav skipped as too short\n",
      "Chorthippusbiguttulus_XC752401-dat030-001_edit5.wav skipped as too short\n"
     ]
    },
    {
     "name": "stderr",
     "output_type": "stream",
     "text": [
      " 39%|███▉      | 685/1751 [00:37<00:52, 20.49it/s]"
     ]
    },
    {
     "name": "stdout",
     "output_type": "stream",
     "text": [
      "Chorthippusbiguttulus_XC752482-dat065-006_edit5.wav skipped as too short\n"
     ]
    },
    {
     "name": "stderr",
     "output_type": "stream",
     "text": [
      " 39%|███▉      | 688/1751 [00:37<01:12, 14.70it/s]"
     ]
    },
    {
     "name": "stdout",
     "output_type": "stream",
     "text": [
      "No silence remove applied: File 'Pholidopteralittoralis_XC752425-dat052-006_edit4.wav' is too short (4.0sec)\n",
      "Pholidopteralittoralis_XC752425-dat052-006_edit4.wav skipped as too short\n",
      "No silence remove applied: File 'Yoyettacelis_GBIF2423252779_IN33460838_47601.wav' is too short (7.7sec)\n",
      "Yoyettacelis_GBIF2423252779_IN33460838_47601.wav skipped as too short\n",
      "Conocephalusfuscus_XC752382-dat034-004_edit3.wav skipped as too short\n",
      "Platypleurasp13_MHV%201487%20P.sp%2013%20nr%20Thornhill%20%232_edit1.wav skipped as too short\n"
     ]
    },
    {
     "name": "stderr",
     "output_type": "stream",
     "text": [
      " 40%|███▉      | 692/1751 [00:37<01:12, 14.53it/s]"
     ]
    },
    {
     "name": "stdout",
     "output_type": "stream",
     "text": [
      "No silence remove applied: File 'Chorthippusbrunneus_XC752229-dat113-016_edit2.wav' is too short (3.0sec)\n",
      "Chorthippusbrunneus_XC752229-dat113-016_edit2.wav skipped as too short\n",
      "Achetadomesticus_XC751740-dat004-040_edit1.wav skipped as too short\n"
     ]
    },
    {
     "name": "stderr",
     "output_type": "stream",
     "text": [
      " 40%|███▉      | 694/1751 [00:37<01:17, 13.61it/s]"
     ]
    },
    {
     "name": "stdout",
     "output_type": "stream",
     "text": [
      "Decticusverrucivorus_XC751908-dat098-010_edit1.wav Long sample (187.1757596371882) and normal splitting\n",
      "Platypleurasp10_MHV%20313%20P.sp10%20Die%20Koo%20%237a_edit1.wav Long sample (155.35823129251702) and normal splitting\n",
      "Metriopterabrachyptera_XC751656-dat034-018.wav Long sample (363.0594784580499) and normal splitting\n",
      "Achetadomesticus_XC751741-dat007-015.wav Long sample (70.63315192743764) and normal splitting\n",
      "Decticusverrucivorus_XC751327-dat098-008.wav Long sample (200.75798185941042) and normal splitting\n",
      "Decticusverrucivorus_XC751969-dat016-015.wav Long sample (212.2184126984127) and normal splitting\n"
     ]
    },
    {
     "name": "stderr",
     "output_type": "stream",
     "text": [
      " 40%|███▉      | 696/1751 [00:39<03:45,  4.68it/s]"
     ]
    },
    {
     "name": "stdout",
     "output_type": "stream",
     "text": [
      "Chorthippusbiguttulus_XC751460-dat179-001_edit2.wav skipped as too short\n"
     ]
    },
    {
     "name": "stderr",
     "output_type": "stream",
     "text": [
      " 40%|███▉      | 698/1751 [00:39<03:04,  5.70it/s]"
     ]
    },
    {
     "name": "stdout",
     "output_type": "stream",
     "text": [
      "No silence remove applied: File 'Galangalabeculata_GBIF2543066829_IN37109989_53896.wav' is too short (8.0sec)\n",
      "Galangalabeculata_GBIF2543066829_IN37109989_53896.wav skipped as too short\n",
      "Tettigoniacantans_XC751951-dat039-005_edit5.wav skipped as too short\n"
     ]
    },
    {
     "name": "stderr",
     "output_type": "stream",
     "text": [
      " 40%|███▉      | 700/1751 [00:39<02:34,  6.80it/s]"
     ]
    },
    {
     "name": "stdout",
     "output_type": "stream",
     "text": [
      "Nemobiussylvestris_XC751470-dat017-001_edit5.wav Long sample (60.894671201814056) and normal splitting\n",
      "Omocestusviridulus_XC752261-dat011-002_edit3.wav skipped as too short\n",
      "No silence remove applied: File 'Pholidopteraaptera_XC751599-dat097-005_edit1.wav' is too short (3.0sec)\n",
      "Pholidopteraaptera_XC751599-dat097-005_edit1.wav skipped as too short\n"
     ]
    },
    {
     "name": "stderr",
     "output_type": "stream",
     "text": [
      " 40%|████      | 702/1751 [00:39<02:27,  7.10it/s]"
     ]
    },
    {
     "name": "stdout",
     "output_type": "stream",
     "text": [
      "Gomphocerussibiricus_XC751886-dat056-015_edit1.wav Long sample (68.40174603174603) and normal splitting\n",
      "Platypleurasp13_MHV%201490%20P.sp%2013%20Gamtoos%20Pass%20%231_edit1.wav Long sample (36.9946485260771) and normal splitting\n",
      "Grylluscampestris_XC751425-dat010-004.wav Long sample (196.06167800453514) and normal splitting\n"
     ]
    },
    {
     "name": "stderr",
     "output_type": "stream",
     "text": [
      " 40%|████      | 704/1751 [00:40<02:59,  5.84it/s]"
     ]
    },
    {
     "name": "stdout",
     "output_type": "stream",
     "text": [
      "No silence remove applied: File 'Ephippigerdiurnus_XC751511-dat003-033.wav' is too short (5.2411791383219954sec)\n",
      "Ephippigerdiurnus_XC751511-dat003-033.wav skipped as too short\n",
      "No silence remove applied: File 'Stenobothrusstigmaticus_XC751710-dat141-001_edit4.wav' is too short (6.0sec)\n",
      "Stenobothrusstigmaticus_XC751710-dat141-001_edit4.wav skipped as too short\n",
      "No silence remove applied: File 'Pholidopteralittoralis_XC752425-dat052-006_edit11.wav' is too short (5.0sec)\n",
      "Pholidopteralittoralis_XC752425-dat052-006_edit11.wav skipped as too short\n"
     ]
    },
    {
     "name": "stderr",
     "output_type": "stream",
     "text": [
      " 40%|████      | 709/1751 [00:40<01:42, 10.13it/s]"
     ]
    },
    {
     "name": "stdout",
     "output_type": "stream",
     "text": [
      "No silence remove applied: File 'Pholidopteragriseoaptera_XC751874-dat148-009_edit6.wav' is too short (2.0sec)\n",
      "Pholidopteragriseoaptera_XC751874-dat148-009_edit6.wav skipped as too short\n",
      "No silence remove applied: File 'Omocestusviridulus_XC752258-dat012-005_edit2.wav' is too short (6.0sec)\n",
      "Omocestusviridulus_XC752258-dat012-005_edit2.wav skipped as too short\n",
      "Roeselianaroeselii_XC751675-dat018-012_edit3.wav skipped as too short\n"
     ]
    },
    {
     "name": "stderr",
     "output_type": "stream",
     "text": [
      " 41%|████      | 712/1751 [00:40<01:28, 11.75it/s]"
     ]
    },
    {
     "name": "stdout",
     "output_type": "stream",
     "text": [
      "Platypleuraplumosa_MHV%20329%20P.plumosa%20Steydtlerville%20%232_edit1.wav Long sample (55.78324263038549) and normal splitting\n",
      "No silence remove applied: File 'Tettigoniacantans_XC751935-dat030-004_edit2.wav' is too short (8.0sec)\n",
      "Tettigoniacantans_XC751935-dat030-004_edit2.wav skipped as too short\n"
     ]
    },
    {
     "name": "stderr",
     "output_type": "stream",
     "text": [
      " 41%|████      | 715/1751 [00:40<01:13, 14.13it/s]"
     ]
    },
    {
     "name": "stdout",
     "output_type": "stream",
     "text": [
      "Chorthippusbrunneus_XC751520-dat003-020_edit1.wav skipped as too short\n",
      "Chorthippusapricarius_XC752123-dat028-011_edit1.wav skipped as too short\n",
      "No silence remove applied: File 'Tettigoniacantans_XC751946-dat034-025_edit1.wav' is too short (9.0sec)\n",
      "Tettigoniacantans_XC751946-dat034-025_edit1.wav skipped as too short\n"
     ]
    },
    {
     "name": "stderr",
     "output_type": "stream",
     "text": [
      " 41%|████      | 718/1751 [00:40<01:08, 15.05it/s]"
     ]
    },
    {
     "name": "stdout",
     "output_type": "stream",
     "text": [
      "No silence remove applied: File 'Chorthippusbiguttulus_XC752403-dat030-003_edit3.wav' is too short (8.0sec)\n",
      "Chorthippusbiguttulus_XC752403-dat030-003_edit3.wav skipped as too short\n",
      "No silence remove applied: File 'Chorthippusvagans_XC751927-dat140-001_edit1.wav' is too short (9.0sec)\n",
      "Chorthippusvagans_XC751927-dat140-001_edit1.wav skipped as too short\n",
      "Neotibicenpruinosus_GBIF2826374717_IN54112839_123959_edit1.wav skipped as too short\n"
     ]
    },
    {
     "name": "stderr",
     "output_type": "stream",
     "text": [
      " 41%|████      | 721/1751 [00:40<01:02, 16.41it/s]"
     ]
    },
    {
     "name": "stdout",
     "output_type": "stream",
     "text": [
      "No silence remove applied: File 'Yoyettacelis_GBIF2529351797_IN36737426_52971.wav' is too short (3.2sec)\n",
      "Yoyettacelis_GBIF2529351797_IN36737426_52971.wav skipped as too short\n",
      "No silence remove applied: File 'Yoyettacelis_GBIF2460006094_IN35800622_50598.wav' is too short (2.9sec)\n",
      "Yoyettacelis_GBIF2460006094_IN35800622_50598.wav skipped as too short\n",
      "Tettigoniaviridissima_XC751323-dat001-007.wav Long sample (37.20265306122449) and normal splitting\n",
      "Chorthippusbiguttulus_XC752113-dat150-007_edit5.wav skipped as too short\n"
     ]
    },
    {
     "name": "stderr",
     "output_type": "stream",
     "text": [
      " 41%|████▏     | 726/1751 [00:41<00:45, 22.63it/s]"
     ]
    },
    {
     "name": "stdout",
     "output_type": "stream",
     "text": [
      "Galangalabeculata_GBIF1949986193_IN18664906_27757.wav skipped as too short\n",
      "Chorthippusbiguttulus_XC752345-dat005-027.wav skipped as too short\n",
      "Nemobiussylvestris_XC751472-dat017-003_edit3.wav Long sample (129.08825396825398) and normal splitting\n",
      "Chorthippusbiguttulus_XC752403-dat030-003_edit2.wav skipped as too short\n"
     ]
    },
    {
     "name": "stderr",
     "output_type": "stream",
     "text": [
      " 42%|████▏     | 729/1751 [00:41<00:50, 20.42it/s]"
     ]
    },
    {
     "name": "stdout",
     "output_type": "stream",
     "text": [
      "No silence remove applied: File 'Atrapsaltaencaustica_GBIF2429324781_IN33681390_47803_edit1.wav' is too short (8.0sec)Chorthippusbiguttulus_XC752113-dat150-007_edit4.wav skipped as too short\n",
      "\n",
      "Atrapsaltaencaustica_GBIF2429324781_IN33681390_47803_edit1.wav skipped as too short\n",
      "No silence remove applied: File 'Grylluscampestris_Take32.M.wav' is too short (8.289523809523809sec)\n",
      "Grylluscampestris_Take32.M.wav skipped as too short\n",
      "No silence remove applied: File 'Yoyettacelis_GBIF3398771899_IN97410930_318525.wav' is too short (2.5sec)\n",
      "Yoyettacelis_GBIF3398771899_IN97410930_318525.wav skipped as too short\n",
      "Psaltodaplaga_GBIF2576430136_IN39226118_58926_edit1.wav Long sample (49.9824716553288) and normal splitting\n"
     ]
    },
    {
     "name": "stderr",
     "output_type": "stream",
     "text": [
      " 42%|████▏     | 735/1751 [00:41<00:44, 23.08it/s]"
     ]
    },
    {
     "name": "stdout",
     "output_type": "stream",
     "text": [
      "No silence remove applied: File 'Grylluscampestris_GBIF2802705719_IN47761406_98597.wav' is too short (8.533333333333333sec)\n",
      "Grylluscampestris_GBIF2802705719_IN47761406_98597.wav skipped as too short\n",
      "No silence remove applied: File 'Tettigoniacantans_XC751935-dat030-004_edit3.wav' is too short (8.0sec)\n",
      "Tettigoniacantans_XC751935-dat030-004_edit3.wav skipped as too short\n",
      "No silence remove applied: File 'Tettigoniacantans_XC751941-dat033-012_edit2.wav' is too short (9.0sec)\n",
      "Tettigoniacantans_XC751941-dat033-012_edit2.wav skipped as too short\n",
      "Tettigoniacantans_XC751941-dat033-012_edit3.wav Long sample (179.25621315192743) and normal splitting\n",
      "Omocestusrufipes_XC751628-dat015-012_edit1.wav skipped as too short\n"
     ]
    },
    {
     "name": "stderr",
     "output_type": "stream",
     "text": [
      " 42%|████▏     | 739/1751 [00:41<00:45, 22.41it/s]"
     ]
    },
    {
     "name": "stdout",
     "output_type": "stream",
     "text": [
      "Platycleisalbopunctata_XC751605-dat028-006.wav Long sample (55.2214739229025) and normal splitting\n",
      "No silence remove applied: File 'Omocestusviridulus_XC752258-dat012-005_edit3.wav' is too short (7.0sec)\n",
      "Omocestusviridulus_XC752258-dat012-005_edit3.wav skipped as too short\n",
      "Pholidopteragriseoaptera_XC751466-dat020-006_edit1.wav Long sample (35.11539682539683) and normal splitting\n",
      "No silence remove applied: File 'Pholidopteralittoralis_XC752425-dat052-006_edit10.wav' is too short (8.0sec)\n",
      "Pholidopteralittoralis_XC752425-dat052-006_edit10.wav skipped as too short\n"
     ]
    },
    {
     "name": "stderr",
     "output_type": "stream",
     "text": [
      " 42%|████▏     | 742/1751 [00:41<00:44, 22.89it/s]"
     ]
    },
    {
     "name": "stdout",
     "output_type": "stream",
     "text": [
      "Roeselianaroeselii_XC751675-dat018-012_edit2.wav skipped as too short\n",
      "Conocephalusfuscus_XC751516-dat003-012.wav skipped as too short\n",
      "No silence remove applied: File 'Stenobothrusstigmaticus_XC751710-dat141-001_edit5.wav' is too short (4.0sec)\n",
      "Stenobothrusstigmaticus_XC751710-dat141-001_edit5.wav skipped as too short\n"
     ]
    },
    {
     "name": "stderr",
     "output_type": "stream",
     "text": [
      " 43%|████▎     | 745/1751 [00:41<00:41, 24.08it/s]"
     ]
    },
    {
     "name": "stdout",
     "output_type": "stream",
     "text": [
      "Chorthippusapricarius_XC752597-dat007-003.wav Long sample (35.310362811791386) and normal splitting\n",
      "No silence remove applied: File 'Chrysochraondispar_XC751758-dat005-082_edit6.wav' is too short (3.0sec)\n",
      "Chrysochraondispar_XC751758-dat005-082_edit6.wav skipped as too short\n"
     ]
    },
    {
     "name": "stderr",
     "output_type": "stream",
     "text": [
      " 43%|████▎     | 748/1751 [00:42<00:45, 21.81it/s]"
     ]
    },
    {
     "name": "stdout",
     "output_type": "stream",
     "text": [
      "No silence remove applied: File 'Pholidopteragriseoaptera_XC752317-dat005-037.wav' is too short (4.377097505668934sec)\n",
      "Pholidopteragriseoaptera_XC752317-dat005-037.wav skipped as too short\n",
      "Chorthippusbiguttulus_XC752402-dat030-002_edit1.wav skipped as too short\n",
      "Leptophyespunctatissima_XC752515-dat024-009_edit1.wav skipped as too short\n",
      "Chorthippusbiguttulus_XC752481-dat065-005_edit1.wav skipped as too short"
     ]
    },
    {
     "name": "stderr",
     "output_type": "stream",
     "text": [
      " 43%|████▎     | 752/1751 [00:42<00:40, 24.88it/s]"
     ]
    },
    {
     "name": "stdout",
     "output_type": "stream",
     "text": [
      "\n",
      "Gomphocerussibiricus_XC751794-dat187-003_edit1.wav skipped as too short\n"
     ]
    },
    {
     "name": "stderr",
     "output_type": "stream",
     "text": [
      " 43%|████▎     | 755/1751 [00:42<00:47, 21.04it/s]"
     ]
    },
    {
     "name": "stdout",
     "output_type": "stream",
     "text": [
      "Tettigoniacantans_XC751951-dat039-005_edit4.wav skipped as too short\n",
      "Omocestusviridulus_XC752261-dat011-002_edit2.wav Long sample (40.63122448979592) and normal splitting\n",
      "No silence remove applied: File 'Bicoloranabicolor_XC752542-dat061-002_edit6.wav' is too short (7.0sec)\n",
      "Bicoloranabicolor_XC752542-dat061-002_edit6.wav skipped as too short\n",
      "Conocephalusdorsalis_XC751645-dat031-005_edit2.wav Long sample (43.46222222222222) and normal splitting\n",
      "Nemobiussylvestris_XC751472-dat017-003_edit2.wav Long sample (80.70850340136055) and normal splitting\n",
      "Metriopterabrachyptera_XC751657-dat034-019.wav Long sample (146.27666666666667) and normal splitting\n"
     ]
    },
    {
     "name": "stderr",
     "output_type": "stream",
     "text": [
      " 43%|████▎     | 758/1751 [00:42<01:08, 14.50it/s]"
     ]
    },
    {
     "name": "stdout",
     "output_type": "stream",
     "text": [
      "Oecanthuspellucens_XC752520-dat196-001.wav Long sample (173.79437641723356) and normal splitting\n"
     ]
    },
    {
     "name": "stderr",
     "output_type": "stream",
     "text": [
      " 43%|████▎     | 760/1751 [00:42<01:05, 15.17it/s]"
     ]
    },
    {
     "name": "stdout",
     "output_type": "stream",
     "text": [
      "No silence remove applied: File 'Chorthippusbrunneus_XC752229-dat113-016_edit3.wav' is too short (5.0sec)\n",
      "Chorthippusbrunneus_XC752229-dat113-016_edit3.wav skipped as too short\n",
      "No silence remove applied: File 'Atrapsaltacorticina_GBIF2445159444_IN34812391_49121_edit1.wav' is too short (4.09sec)\n",
      "Atrapsaltacorticina_GBIF2445159444_IN34812391_49121_edit1.wav skipped as too short\n",
      "No silence remove applied: File 'Pholidopteralittoralis_XC752425-dat052-006_edit5.wav' is too short (5.0sec)\n",
      "Pholidopteralittoralis_XC752425-dat052-006_edit5.wav skipped as too short\n",
      "Chorthippusbiguttulus_XC751460-dat179-001_edit3.wav skipped as too short\n",
      "Chorthippusapricarius_XC752594-dat004-029.wav skipped as too short\n"
     ]
    },
    {
     "name": "stderr",
     "output_type": "stream",
     "text": [
      " 44%|████▎     | 765/1751 [00:42<00:51, 18.97it/s]"
     ]
    },
    {
     "name": "stdout",
     "output_type": "stream",
     "text": [
      "Conocephalusfuscus_XC752382-dat034-004_edit2.wav skipped as too short\n",
      "Chorthippusbiguttulus_XC752482-dat065-006_edit4.wav skipped as too short\n"
     ]
    },
    {
     "name": "stderr",
     "output_type": "stream",
     "text": [
      " 44%|████▍     | 768/1751 [00:43<00:48, 20.39it/s]"
     ]
    },
    {
     "name": "stdout",
     "output_type": "stream",
     "text": [
      "Ephippigerdiurnus_XC752101-dat034-010_edit2.wav Long sample (75.5907029478458) and normal splitting\n",
      "Nemobiussylvestris_XC751470-dat017-001_edit4.wav Long sample (66.95551020408163) and normal splitting\n",
      "Chorthippusbiguttulus_XC752401-dat030-001_edit4.wav skipped as too short\n",
      "No silence remove applied: File 'Pseudochorthippusmontanus_XC752601-dat011-008_edit6.wav' is too short (6.0sec)\n",
      "Pseudochorthippusmontanus_XC752601-dat011-008_edit6.wav skipped as too short\n"
     ]
    },
    {
     "name": "stderr",
     "output_type": "stream",
     "text": [
      " 44%|████▍     | 771/1751 [00:43<01:09, 14.19it/s]"
     ]
    },
    {
     "name": "stdout",
     "output_type": "stream",
     "text": [
      "Roeselianaroeselii_XC751696-dat025-009_edit2.wav Long sample (89.84453514739229) and normal splitting\n",
      "Chorthippusalbomarginatus_XC751376-dat001-030.wav Long sample (215.0372335600907) and normal splitting\n",
      "No silence remove applied: File 'Chorthippusbiguttulus_file0224.M.wav' is too short (9.919909297052154sec)\n",
      "Chorthippusbiguttulus_file0224.M.wav skipped as too short\n"
     ]
    },
    {
     "name": "stderr",
     "output_type": "stream",
     "text": [
      " 44%|████▍     | 773/1751 [00:43<01:06, 14.62it/s]"
     ]
    },
    {
     "name": "stdout",
     "output_type": "stream",
     "text": [
      "Platypleuracfcatenata_MHV%20288%20P.catenata%20Houwhoek%20Pass%20%233_edit1.wav skipped as too short\n",
      "No silence remove applied: File 'Platypleuracfcatenata_MHV%20288%20P.catenata%20Houwhoek%20Pass%20%233_edit3.wav' is too short (7.0sec)\n",
      "Platypleuracfcatenata_MHV%20288%20P.catenata%20Houwhoek%20Pass%20%233_edit3.wav skipped as too short\n"
     ]
    },
    {
     "name": "stderr",
     "output_type": "stream",
     "text": [
      " 44%|████▍     | 776/1751 [00:43<00:57, 16.97it/s]"
     ]
    },
    {
     "name": "stdout",
     "output_type": "stream",
     "text": [
      "Myrmeleotettixmaculatus_XC751995-dat021-001 18.21.42_edit1.wav Long sample (48.39843537414966) and normal splitting\n",
      "Chorthippusmollis_XC751838-dat182-001_edit2.wav skipped as too short\n",
      "No silence remove applied: File 'Pseudochorthippusmontanus_XC752601-dat011-008_edit4.wav' is too short (5.0sec)\n",
      "Pseudochorthippusmontanus_XC752601-dat011-008_edit4.wav skipped as too short\n"
     ]
    },
    {
     "name": "stderr",
     "output_type": "stream",
     "text": [
      " 44%|████▍     | 779/1751 [00:43<01:01, 15.84it/s]"
     ]
    },
    {
     "name": "stdout",
     "output_type": "stream",
     "text": [
      "Chrysochraondispar_XC751361-dat028-022_edit3.wav Long sample (38.97009070294784) and normal splitting\n",
      "Chrysochraondispar_XC751361-dat028-022_edit1.wav Long sample (69.15006802721088) and normal splitting\n",
      "Chorthippusbrunneus_XC751520-dat003-020 19.10.01_edit2.wav skipped as too short\n"
     ]
    },
    {
     "name": "stderr",
     "output_type": "stream",
     "text": [
      " 45%|████▍     | 781/1751 [00:44<01:13, 13.11it/s]"
     ]
    },
    {
     "name": "stdout",
     "output_type": "stream",
     "text": [
      "No silence remove applied: File 'Stenobothrusstigmaticus_XC752020-dat005-016_edit1.wav' is too short (3.0sec)\n",
      "Stenobothrusstigmaticus_XC752020-dat005-016_edit1.wav skipped as too short\n",
      "No silence remove applied: File 'Pholidopteralittoralis_XC752425-dat052-006_edit7.wav' is too short (6.0sec)\n",
      "Pholidopteralittoralis_XC752425-dat052-006_edit7.wav skipped as too short\n",
      "No silence remove applied: File 'Yoyettacelis_GBIF1986520201_IN19243867_28690.wav' is too short (1.8692063492063493sec)\n",
      "Yoyettacelis_GBIF1986520201_IN19243867_28690.wav skipped as too short\n",
      "Cicadaorni_GBIF2864708683_IN59762160_136559.wav skipped as too short\n"
     ]
    },
    {
     "name": "stderr",
     "output_type": "stream",
     "text": [
      " 45%|████▍     | 786/1751 [00:44<00:51, 18.91it/s]"
     ]
    },
    {
     "name": "stdout",
     "output_type": "stream",
     "text": [
      "No silence remove applied: File 'Platypleurasp13_MHV%201487%20P.sp%2013%20nr%20Thornhill%20%232_edit2.wav' is too short (8.17095238095238sec)\n",
      "Platypleurasp13_MHV%201487%20P.sp%2013%20nr%20Thornhill%20%232_edit2.wav skipped as too short\n",
      "No silence remove applied: File 'Stenobothrusstigmaticus_XC751712-dat141-003_edit1.wav' is too short (5.0sec)\n",
      "Stenobothrusstigmaticus_XC751712-dat141-003_edit1.wav skipped as too short\n",
      "Chorthippusbrunneus_XC752229-dat113-016_edit1.wav skipped as too short\n"
     ]
    },
    {
     "name": "stderr",
     "output_type": "stream",
     "text": [
      " 45%|████▌     | 790/1751 [00:44<00:43, 22.08it/s]"
     ]
    },
    {
     "name": "stdout",
     "output_type": "stream",
     "text": [
      "Chorthippusbiguttulus_XC751460-dat179-001_edit1.wav skipped as too short\n",
      "No silence remove applied: File 'Bicoloranabicolor_XC752542-dat061-002_edit4.wav' is too short (6.0sec)\n",
      "Bicoloranabicolor_XC752542-dat061-002_edit4.wav skipped as too short\n"
     ]
    },
    {
     "name": "stderr",
     "output_type": "stream",
     "text": [
      " 45%|████▌     | 793/1751 [00:44<00:50, 18.87it/s]"
     ]
    },
    {
     "name": "stdout",
     "output_type": "stream",
     "text": [
      "No silence remove applied: File 'Diceroproctaeugraphica_GBIF3873799469_IN125486604_495179.wav' is too short (5.491247165532879sec)\n",
      "Diceroproctaeugraphica_GBIF3873799469_IN125486604_495179.wav skipped as too short\n",
      "Tettigoniacantans_XC751951-dat039-005_edit6.wav skipped as too short\n",
      "Omocestusrufipes_XC751619-dat001-052.wav skipped as too short\n"
     ]
    },
    {
     "name": "stderr",
     "output_type": "stream",
     "text": [
      " 45%|████▌     | 796/1751 [00:44<01:01, 15.57it/s]"
     ]
    },
    {
     "name": "stdout",
     "output_type": "stream",
     "text": [
      "Decticusverrucivorus_XC751973-dat018-006_edit1.wav Long sample (170.65433106575964) and normal splitting\n",
      "Platypleurasp13_MHV%201490%20P.sp%2013%20Gamtoos%20Pass%20%231_edit2.wav skipped as too shortLeptophyespunctatissima_XC752515-dat024-009_edit3.wav skipped as too short\n",
      "\n"
     ]
    },
    {
     "name": "stderr",
     "output_type": "stream",
     "text": [
      " 46%|████▌     | 798/1751 [00:45<01:10, 13.55it/s]"
     ]
    },
    {
     "name": "stdout",
     "output_type": "stream",
     "text": [
      "No silence remove applied: File 'Pholidopteraaptera_XC751599-dat097-005_edit2.wav' is too short (4.0sec)\n",
      "Pholidopteraaptera_XC751599-dat097-005_edit2.wav skipped as too short\n",
      "No silence remove applied: File 'Oecanthuspellucens_Take73.M.wav' is too short (8.203242630385487sec)\n",
      "Oecanthuspellucens_Take73.M.wav skipped as too shortDecticusverrucivorus_XC752041-dat132-001.wav Long sample (110.77555555555556) and normal splitting\n",
      "\n",
      "No silence remove applied: File 'Chrysochraondispar_XC751758-dat005-082_edit4.wav' is too short (3.0sec)\n",
      "Chrysochraondispar_XC751758-dat005-082_edit4.wav skipped as too short\n",
      "Gomphocerussibiricus_XC751886-dat056-015_edit2.wav Long sample (91.68428571428572) and normal splitting\n",
      "Chorthippusbiguttulus_XC752481-dat065-005_edit3.wav skipped as too short\n"
     ]
    },
    {
     "name": "stderr",
     "output_type": "stream",
     "text": [
      " 46%|████▌     | 803/1751 [00:45<00:51, 18.30it/s]"
     ]
    },
    {
     "name": "stdout",
     "output_type": "stream",
     "text": [
      "Omocestusrufipes_XC751628-dat015-012_edit3.wav skipped as too short\n",
      "Grylluscampestris_XC751592-dat008-021.wav Long sample (152.06238095238095) and normal splitting\n",
      "No silence remove applied: File 'Pholidopteragriseoaptera_XC751874-dat148-009_edit5.wav' is too short (2.0sec)\n",
      "Pholidopteragriseoaptera_XC751874-dat148-009_edit5.wav skipped as too short\n",
      "Achetadomesticus_XC753090-Acheta-domesticus-Casamia_20_07_07_CANONE_2CH44K16.wav Long sample (51.63761904761905) and normal splitting\n",
      "Conocephalusdorsalis_XC751654-dat034-008.wav Long sample (39.56709750566893) and normal splitting\n",
      "Omocestusviridulus_XC752258-dat012-005_edit1.wav Long sample (63.78433106575964) and normal splitting\n",
      "Tettigoniaviridissima_XC752199-dat117-023.wav Long sample (239.95700680272108) and normal splitting\n"
     ]
    },
    {
     "name": "stderr",
     "output_type": "stream",
     "text": [
      " 46%|████▌     | 806/1751 [00:45<01:26, 10.93it/s]"
     ]
    },
    {
     "name": "stdout",
     "output_type": "stream",
     "text": [
      "No silence remove applied: File 'Chrysochraondispar_XC751775-dat005-079.wav' is too short (9.886916099773243sec)\n",
      "Chrysochraondispar_XC751775-dat005-079.wav skipped as too short\n",
      "No silence remove applied: File 'Tettigoniacantans_XC751935-dat030-004_edit1.wav' is too short (6.0sec)\n",
      "Tettigoniacantans_XC751935-dat030-004_edit1.wav skipped as too short\n",
      "No silence remove applied: File 'Tettigoniacantans_XC751946-dat034-025_edit2.wav' is too short (8.0sec)\n",
      "Tettigoniacantans_XC751946-dat034-025_edit2.wav skipped as too short\n"
     ]
    },
    {
     "name": "stderr",
     "output_type": "stream",
     "text": [
      " 46%|████▋     | 811/1751 [00:45<00:59, 15.67it/s]"
     ]
    },
    {
     "name": "stdout",
     "output_type": "stream",
     "text": [
      "Chorthippusbrunneus_XC751520-dat003-020_edit2.wav skipped as too short\n"
     ]
    },
    {
     "name": "stderr",
     "output_type": "stream",
     "text": [
      " 46%|████▋     | 814/1751 [00:46<00:59, 15.87it/s]"
     ]
    },
    {
     "name": "stdout",
     "output_type": "stream",
     "text": [
      "Pholidopteragriseoaptera_XC751466-dat020-006_edit3.wav skipped as too short\n",
      "No silence remove applied: File 'Yoyettacelis_GBIF3398699224_IN98441576_317773.wav' is too short (3.2sec)\n",
      "Yoyettacelis_GBIF3398699224_IN98441576_317773.wav skipped as too short\n",
      "No silence remove applied: File 'Phaneropterafalcata_XC751663-dat036-008_edit9.wav' is too short (5.0sec)Popplepsaltaaeroides_GBIF2460073916_IN35803827_50612.wav skipped as too short\n",
      "Phaneropterafalcata_XC751663-dat036-008_edit9.wav skipped as too short\n",
      "\n",
      "Chorthippusapricarius_XC752123-dat028-011_edit2.wav skipped as too short\n",
      "No silence remove applied: File 'Chorthippusbiguttulus_XC752113-dat150-007_edit6.wav' is too short (8.0sec)\n",
      "Chorthippusbiguttulus_XC752113-dat150-007_edit6.wav skipped as too short\n"
     ]
    },
    {
     "name": "stderr",
     "output_type": "stream",
     "text": [
      " 47%|████▋     | 820/1751 [00:46<00:41, 22.35it/s]"
     ]
    },
    {
     "name": "stdout",
     "output_type": "stream",
     "text": [
      "No silence remove applied: File 'Chorthippusbiguttulus_XC752399-dat028-024_edit5.wav' is too short (9.0sec)\n",
      "Chorthippusbiguttulus_XC752399-dat028-024_edit5.wav skipped as too short\n",
      "Chorthippusbiguttulus_XC752399-dat028-024_edit4.wav skipped as too short\n",
      "Remove silence failed: An entire file 'Nemobiussylvestris_GBIF3391340027_IN97942152_315433.wav' would be removed, skipping...\n",
      "Nemobiussylvestris_GBIF3391340027_IN97942152_315433.wav skipped as too short\n",
      "No silence remove applied: File 'Tettigoniacantans_XC751946-dat034-025_edit3.wav' is too short (9.0sec)No silence remove applied: File 'Chorthippusbiguttulus_XC752403-dat030-003_edit1.wav' is too short (9.0sec)\n",
      "\n",
      "Chorthippusbiguttulus_XC752403-dat030-003_edit1.wav skipped as too shortTettigoniacantans_XC751946-dat034-025_edit3.wav skipped as too short\n",
      "\n"
     ]
    },
    {
     "name": "stderr",
     "output_type": "stream",
     "text": [
      " 47%|████▋     | 826/1751 [00:46<00:33, 27.43it/s]"
     ]
    },
    {
     "name": "stdout",
     "output_type": "stream",
     "text": [
      "No silence remove applied: File 'Yoyettacelis_GBIF1978820762_IN19037280_28324.wav' is too short (2.7631746031746034sec)\n",
      "Yoyettacelis_GBIF1978820762_IN19037280_28324.wav skipped as too short\n",
      "No silence remove applied: File 'Chorthippusbrunneus_XC751520-dat003-020_edit3.wav' is too short (9.132857142857143sec)\n",
      "Chorthippusbrunneus_XC751520-dat003-020_edit3.wav skipped as too short\n",
      "Aleetacurvicosta_GBIF1950026012_IN18986237_28257.wav skipped as too shortPhaneropterafalcata_XC751663-dat036-008_edit8.wav Long sample (44.3228798185941) and normal splitting\n"
     ]
    },
    {
     "name": "stderr",
     "output_type": "stream",
     "text": [
      " 47%|████▋     | 830/1751 [00:46<00:34, 26.32it/s]"
     ]
    },
    {
     "name": "stdout",
     "output_type": "stream",
     "text": [
      "No silence remove applied: File 'Atrapsaltacorticina_GBIF1807282583_IN9616122_17377_edit1.wav' is too short (5.0sec)Chorthippusapricarius_XC752123-dat028-011_edit3.wav skipped as too short\n",
      "\n",
      "Atrapsaltacorticina_GBIF1807282583_IN9616122_17377_edit1.wav skipped as too short\n",
      "No silence remove applied: File 'Tettigoniacantans_XC751941-dat033-012_edit1.wav' is too short (7.0sec)\n",
      "\n",
      "Tettigoniacantans_XC751941-dat033-012_edit1.wav skipped as too short\n",
      "Grylluscampestris_XC751424-dat010-003.wav Long sample (63.598684807256234) and normal splitting\n",
      "Leptophyespunctatissima_XC752514-dat024-008_edit1.wav Long sample (75.35090702947846) and normal splitting\n"
     ]
    },
    {
     "name": "stderr",
     "output_type": "stream",
     "text": [
      " 48%|████▊     | 834/1751 [00:46<00:44, 20.56it/s]"
     ]
    },
    {
     "name": "stdout",
     "output_type": "stream",
     "text": [
      "No silence remove applied: File 'Pholidopteragriseoaptera_XC751874-dat148-009_edit4.wav' is too short (1.0sec)\n",
      "Pholidopteragriseoaptera_XC751874-dat148-009_edit4.wav skipped as too short\n",
      "Roeselianaroeselii_XC751675-dat018-012_edit1.wav skipped as too short\n",
      "Omocestusrufipes_XC751628-dat015-012_edit2.wav skipped as too short\n"
     ]
    },
    {
     "name": "stderr",
     "output_type": "stream",
     "text": [
      " 48%|████▊     | 837/1751 [00:47<00:48, 18.75it/s]"
     ]
    },
    {
     "name": "stdout",
     "output_type": "stream",
     "text": [
      "No silence remove applied: File 'Chrysochraondispar_XC751758-dat005-082_edit5.wav' is too short (2.0sec)\n",
      "Chrysochraondispar_XC751758-dat005-082_edit5.wav skipped as too short\n"
     ]
    },
    {
     "name": "stderr",
     "output_type": "stream",
     "text": [
      " 48%|████▊     | 840/1751 [00:47<00:51, 17.82it/s]"
     ]
    },
    {
     "name": "stdout",
     "output_type": "stream",
     "text": [
      "No silence remove applied: File 'Cicadaorni_GBIF3902038865_IN92382887_296104.wav' is too short (4.957460317460318sec)\n",
      "Cicadaorni_GBIF3902038865_IN92382887_296104.wav skipped as too short\n",
      "No silence remove applied: File 'Pholidopteraaptera_XC751599-dat097-005_edit3.wav' is too short (2.5sec)\n",
      "Pholidopteraaptera_XC751599-dat097-005_edit3.wav skipped as too short\n",
      "No silence remove applied: File 'Chorthippusbiguttulus_XC752402-dat030-002_edit2.wav' is too short (8.712448979591837sec)\n",
      "Chorthippusbiguttulus_XC752481-dat065-005_edit2.wav skipped as too shortChorthippusbiguttulus_XC752402-dat030-002_edit2.wav skipped as too short\n",
      "\n",
      "Nemobiussylvestris_XC751472-dat017-003_edit1.wav Long sample (39.84263038548753) and normal splitting\n",
      "Leptophyespunctatissima_XC752515-dat024-009_edit2.wav skipped as too short\n"
     ]
    },
    {
     "name": "stderr",
     "output_type": "stream",
     "text": [
      " 48%|████▊     | 846/1751 [00:47<00:41, 21.98it/s]"
     ]
    },
    {
     "name": "stdout",
     "output_type": "stream",
     "text": [
      "Omocestusviridulus_XC752261-dat011-002_edit1.wav skipped as too short\n",
      "Tettigoniacantans_XC751951-dat039-005_edit7.wav skipped as too short\n",
      "Pseudochorthippusparallelus_XC751454-dat044-019_edit1.wav Long sample (151.76888888888888) and normal splitting"
     ]
    },
    {
     "name": "stderr",
     "output_type": "stream",
     "text": [
      " 48%|████▊     | 849/1751 [00:47<00:44, 20.30it/s]"
     ]
    },
    {
     "name": "stdout",
     "output_type": "stream",
     "text": [
      "\n",
      "No silence remove applied: File 'Stenobothrusstigmaticus_XC752010-dat005-006.wav' is too short (3.9240589569160997sec)\n",
      "Stenobothrusstigmaticus_XC752010-dat005-006.wav skipped as too short\n",
      "No silence remove applied: File 'Chorthippusbrunneus_XC752156-dat124-004.wav' is too short (4.277052154195012sec)\n",
      "Chorthippusbrunneus_XC752156-dat124-004.wav skipped as too shortConocephalusdorsalis_XC751645-dat031-005_edit1.wav skipped as too short\n",
      "\n",
      "No silence remove applied: File 'Bicoloranabicolor_XC752542-dat061-002_edit5.wav' is too short (6.0sec)\n",
      "Bicoloranabicolor_XC752542-dat061-002_edit5.wav skipped as too short\n"
     ]
    },
    {
     "name": "stderr",
     "output_type": "stream",
     "text": [
      " 49%|████▊     | 853/1751 [00:47<00:39, 22.66it/s]"
     ]
    },
    {
     "name": "stdout",
     "output_type": "stream",
     "text": [
      "Galangalabeculata_GBIF3013860193_IN67331984_156066.wav skipped as too short\n",
      "Gomphocerussibiricus_XC751794-dat187-003_edit2.wav Long sample (95.55362811791383) and normal splitting\n",
      "Gomphocerussibiricus_XC751886-dat056-015_edit3.wav Long sample (79.02131519274377) and normal splittingDecticusverrucivorus_XC751960-dat016-006.wav Long sample (189.1326530612245) and normal splitting\n",
      "\n",
      "Metriopterabrachyptera_XC751662-dat035-003.wav Long sample (79.72267573696145) and normal splitting\n"
     ]
    },
    {
     "name": "stderr",
     "output_type": "stream",
     "text": [
      " 49%|████▉     | 856/1751 [00:48<01:41,  8.82it/s]"
     ]
    },
    {
     "name": "stdout",
     "output_type": "stream",
     "text": [
      "Ephippigerdiurnus_XC752101-dat034-010_edit1.wav Long sample (100.7787074829932) and normal splitting\n",
      "Chorthippusbiguttulus_Take22.wav skipped as too short\n"
     ]
    },
    {
     "name": "stderr",
     "output_type": "stream",
     "text": [
      " 49%|████▉     | 859/1751 [00:48<01:23, 10.63it/s]"
     ]
    },
    {
     "name": "stdout",
     "output_type": "stream",
     "text": [
      "No silence remove applied: File 'Pholidopteralittoralis_XC752425-dat052-006_edit6.wav' is too short (6.0sec)\n",
      "Pholidopteralittoralis_XC752425-dat052-006_edit6.wav skipped as too short\n",
      "Chorthippusapricarius_XC752599-dat007-012.wav Long sample (39.27292517006803) and normal splitting\n",
      "No silence remove applied: File 'Chorthippusbrunneus_XC751520-dat003-020 19.10.01_edit3.wav' is too short (4.0sec)\n",
      "Chorthippusbrunneus_XC751520-dat003-020 19.10.01_edit3.wav skipped as too short\n"
     ]
    },
    {
     "name": "stderr",
     "output_type": "stream",
     "text": [
      " 49%|████▉     | 862/1751 [00:49<01:27, 10.11it/s]"
     ]
    },
    {
     "name": "stdout",
     "output_type": "stream",
     "text": [
      "Roeselianaroeselii_XC751696-dat025-009_edit1.wav Long sample (30.572290249433106) and normal splitting\n",
      "Conocephalusfuscus_XC752382-dat034-004_edit1.wav Long sample (66.62083900226757) and normal splitting\n"
     ]
    },
    {
     "name": "stderr",
     "output_type": "stream",
     "text": [
      " 49%|████▉     | 864/1751 [00:49<01:38,  9.04it/s]"
     ]
    },
    {
     "name": "stdout",
     "output_type": "stream",
     "text": [
      "No silence remove applied: File 'Pseudochorthippusmontanus_XC752601-dat011-008_edit5.wav' is too short (5.0sec)\n",
      "Pseudochorthippusmontanus_XC752601-dat011-008_edit5.wav skipped as too short\n",
      "Omocestusviridulus_XC752278-dat009-018.wav skipped as too short\n",
      "No silence remove applied: File 'Platypleuracfcatenata_MHV%20288%20P.catenata%20Houwhoek%20Pass%20%233_edit2.wav' is too short (8.0sec)\n",
      "No silence remove applied: File 'Pholidopteraaptera_XC751364-dat145-005_edit2.wav' is too short (4.0sec)Platypleuracfcatenata_MHV%20288%20P.catenata%20Houwhoek%20Pass%20%233_edit2.wav skipped as too short"
     ]
    },
    {
     "name": "stderr",
     "output_type": "stream",
     "text": [
      " 50%|████▉     | 867/1751 [00:49<01:17, 11.46it/s]"
     ]
    },
    {
     "name": "stdout",
     "output_type": "stream",
     "text": [
      "\n",
      "\n",
      "Pholidopteraaptera_XC751364-dat145-005_edit2.wav skipped as too short\n",
      "Chrysochraondispar_XC751361-dat028-022_edit2.wav skipped as too short\n",
      "No silence remove applied: File 'Chorthippusbiguttulus_XC752398-dat028-023.wav' is too short (6.8828344671201815sec)\n",
      "Chorthippusbiguttulus_XC752398-dat028-023.wav skipped as too short\n"
     ]
    },
    {
     "name": "stderr",
     "output_type": "stream",
     "text": [
      " 50%|████▉     | 871/1751 [00:49<00:57, 15.18it/s]"
     ]
    },
    {
     "name": "stdout",
     "output_type": "stream",
     "text": [
      "Eupholidopteraschmidti_XC751318-dat051-001_edit4.wav skipped as too short\n",
      "Omocestusrufipes_XC751621-dat004-017.wav skipped as too short\n"
     ]
    },
    {
     "name": "stderr",
     "output_type": "stream",
     "text": [
      " 50%|████▉     | 874/1751 [00:49<00:50, 17.22it/s]"
     ]
    },
    {
     "name": "stdout",
     "output_type": "stream",
     "text": [
      "No silence remove applied: File 'Omocestusrufipes_XC751626-dat015-009_edit5.wav' is too short (4.0sec)\n",
      "Omocestusrufipes_XC751626-dat015-009_edit5.wav skipped as too short\n",
      "Omocestusviridulus_XC752272-dat009-009_edit4.wav skipped as too short\n",
      "Tylopsislilifolia_XC751314-dat066-018_edit1.wav skipped as too short\n"
     ]
    },
    {
     "name": "stderr",
     "output_type": "stream",
     "text": [
      " 50%|█████     | 877/1751 [00:50<00:48, 17.87it/s]"
     ]
    },
    {
     "name": "stdout",
     "output_type": "stream",
     "text": [
      "No silence remove applied: File 'Pholidopteragriseoaptera_XC752321-dat005-041_edit2.wav' is too short (1.0sec)\n",
      "Pholidopteragriseoaptera_XC752321-dat005-041_edit2.wav skipped as too short\n",
      "No silence remove applied: File 'Ephippigerdiurnus_GBIF3772805457_IN94133434_303049_edit1.wav' is too short (6.5sec)\n",
      "Ephippigerdiurnus_GBIF3772805457_IN94133434_303049_edit1.wav skipped as too short\n",
      "Gryllusbimaculatus_XC751726-dat007-022.wav Long sample (284.6207709750567) and normal splitting\n",
      "Platypleuracfcatenata_MHV%20318%20P.capensis%20Prince%20Alberts%20Pass%20%235_edit1.wav Long sample (60.059886621315194) and normal splitting\n"
     ]
    },
    {
     "name": "stderr",
     "output_type": "stream",
     "text": [
      " 50%|█████     | 880/1751 [00:50<01:51,  7.85it/s]"
     ]
    },
    {
     "name": "stdout",
     "output_type": "stream",
     "text": [
      "Achetadomesticus_XC751748-dat009-002_edit1.wav Long sample (77.93648526077098) and normal splitting\n",
      "Chorthippusmollis_XC752523-dat198-001_edit2.wav skipped as too short\n",
      "No silence remove applied: File 'Stenobothrusstigmaticus_XC751551-dat014-006_edit2.wav' is too short (3.0sec)\n",
      "Stenobothrusstigmaticus_XC751551-dat014-006_edit2.wav skipped as too short\n"
     ]
    },
    {
     "name": "stderr",
     "output_type": "stream",
     "text": [
      " 50%|█████     | 882/1751 [00:51<01:40,  8.66it/s]"
     ]
    },
    {
     "name": "stdout",
     "output_type": "stream",
     "text": [
      "No silence remove applied: File 'Yoyettacelis_GBIF1805387006_IN9445037_17122.wav' is too short (8.370793650793651sec)\n",
      "Yoyettacelis_GBIF1805387006_IN9445037_17122.wav skipped as too short\n",
      "No silence remove applied: File 'Yoyettarepetens_GBIF1978446763_IN19060720_28360_edit1.wav' is too short (4.0sec)\n",
      "Yoyettarepetens_GBIF1978446763_IN19060720_28360_edit1.wav skipped as too short\n",
      "No silence remove applied: File 'Cicadaorni_GBIF3343913837_IN92466805_296448.wav' is too short (5.038730158730159sec)\n",
      "Cicadaorni_GBIF3343913837_IN92466805_296448.wav skipped as too short\n",
      "No silence remove applied: File 'Pholidopteralittoralis_XC752442-dat056-012_edit1.wav' is too short (3.0sec)\n",
      "Pholidopteralittoralis_XC752442-dat056-012_edit1.wav skipped as too short\n"
     ]
    },
    {
     "name": "stderr",
     "output_type": "stream",
     "text": [
      " 51%|█████     | 886/1751 [00:51<01:10, 12.33it/s]"
     ]
    },
    {
     "name": "stdout",
     "output_type": "stream",
     "text": [
      "Omocestusrufipes_XC751789-dat021-002_edit3.wav skipped as too short\n",
      "No silence remove applied: File 'Nemobiussylvestris_XC752032-dat004-035_edit4.wav' is too short (3.0sec)\n",
      "Nemobiussylvestris_XC752032-dat004-035_edit4.wav skipped as too short\n"
     ]
    },
    {
     "name": "stderr",
     "output_type": "stream",
     "text": [
      " 51%|█████     | 889/1751 [00:51<01:18, 11.01it/s]"
     ]
    },
    {
     "name": "stdout",
     "output_type": "stream",
     "text": [
      "Conocephalusfuscus_XC752054-dat036-002_edit3.wav skipped as too short\n",
      "Gampsocleisglabra_XC752044-dat125-014.wav Long sample (220.7355328798186) and normal splitting\n",
      "Platypleurasp12cfhirtipennis_MHV%20898%20P.sp12%20nr%20Ganskop_edit1.wav Long sample (67.15045351473923) and normal splitting\n"
     ]
    },
    {
     "name": "stderr",
     "output_type": "stream",
     "text": [
      " 51%|█████     | 891/1751 [00:52<02:27,  5.82it/s]"
     ]
    },
    {
     "name": "stdout",
     "output_type": "stream",
     "text": [
      "No silence remove applied: File 'Gomphocerippusrufus_XC752296-dat005-034.wav' is too short (9.047936507936507sec)\n",
      "Gomphocerippusrufus_XC752296-dat005-034.wav skipped as too short\n",
      "Roeselianaroeselii_XC753956-01-Roesel-s.I4802C-consolidated.wav Long sample (358.6052154195011) and normal splitting\n",
      "Chorthippusmollis_XC751830-dat001-039.wav skipped as too short\n"
     ]
    },
    {
     "name": "stderr",
     "output_type": "stream",
     "text": [
      " 51%|█████     | 894/1751 [00:52<02:00,  7.11it/s]"
     ]
    },
    {
     "name": "stdout",
     "output_type": "stream",
     "text": [
      "Platypleurasp12cfhirtipennis_MHV%20839%20P.sp12%20Swartberg%20Pass_edit2.wav skipped as too short\n",
      "Oecanthuspellucens_XC751823-dat176-001_edit4.wav skipped as too short\n"
     ]
    },
    {
     "name": "stderr",
     "output_type": "stream",
     "text": [
      " 51%|█████     | 896/1751 [00:52<02:05,  6.83it/s]"
     ]
    },
    {
     "name": "stdout",
     "output_type": "stream",
     "text": [
      "Chorthippusmollis_XC753137-220912-Chorthippus-mollis-mollis-Spontangesang-FH-1621.wav Long sample (163.0848752834467) and normal splitting\n",
      "Yoyettarepetens_GBIF2980855819_IN63945649_146273.wav skipped as too short\n",
      "No silence remove applied: File 'Pholidopteralittoralis_XC752438-dat048-002_edit2.wav' is too short (2.0sec)\n",
      "Pholidopteralittoralis_XC752438-dat048-002_edit2.wav skipped as too short\n"
     ]
    },
    {
     "name": "stderr",
     "output_type": "stream",
     "text": [
      " 51%|█████▏    | 898/1751 [00:53<01:49,  7.76it/s]"
     ]
    },
    {
     "name": "stdout",
     "output_type": "stream",
     "text": [
      "Chorthippusbrunneus_XC751406-dat024-015_edit1.wav skipped as too short\n"
     ]
    },
    {
     "name": "stderr",
     "output_type": "stream",
     "text": [
      " 51%|█████▏    | 900/1751 [00:53<01:44,  8.11it/s]"
     ]
    },
    {
     "name": "stdout",
     "output_type": "stream",
     "text": [
      "Eumodicogryllusbordigalensis_XC751536-dat003-002_edit2.wav skipped as too short\n",
      "Omocestusrufipes_XC751627-dat015-011_edit5.wav skipped as too short\n"
     ]
    },
    {
     "name": "stderr",
     "output_type": "stream",
     "text": [
      " 52%|█████▏    | 902/1751 [00:53<01:32,  9.22it/s]"
     ]
    },
    {
     "name": "stdout",
     "output_type": "stream",
     "text": [
      "Gampsocleisglabra_XC751417-dat026-030.wav Long sample (130.93791383219954) and normal splitting\n",
      "Chorthippusmollis_XC751955-dat024-011_edit5.wav skipped as too short\n",
      "Galangalabeculata_GBIF1831196286_IN9884104_17877.wav skipped as too short\n"
     ]
    },
    {
     "name": "stderr",
     "output_type": "stream",
     "text": [
      " 52%|█████▏    | 904/1751 [00:53<01:51,  7.57it/s]"
     ]
    },
    {
     "name": "stdout",
     "output_type": "stream",
     "text": [
      "Phaneropterafalcata_XC751635-dat030-012.wav Long sample (36.498163265306125) and normal splitting\n",
      "Stenobothruslineatus_XC751988-dat018-001_edit2.wav skipped as too short\n"
     ]
    },
    {
     "name": "stderr",
     "output_type": "stream",
     "text": [
      " 52%|█████▏    | 906/1751 [00:54<01:49,  7.69it/s]"
     ]
    },
    {
     "name": "stdout",
     "output_type": "stream",
     "text": [
      "No silence remove applied: File 'Pholidopteragriseoaptera_XC752316-dat005-036_edit3.wav' is too short (1.0sec)\n",
      "Pholidopteragriseoaptera_XC752316-dat005-036_edit3.wav skipped as too short\n",
      "Chrysochraondispar_XC751493-dat001-003.wav Long sample (31.87095238095238) and normal splitting\n",
      "Conocephalusfuscus_XC752685-220924_Conocephalus-fuscus_01_edit3.wav skipped as too short\n"
     ]
    },
    {
     "name": "stderr",
     "output_type": "stream",
     "text": [
      " 52%|█████▏    | 909/1751 [00:54<01:23, 10.08it/s]"
     ]
    },
    {
     "name": "stdout",
     "output_type": "stream",
     "text": [
      "Oecanthuspellucens_XC752522-dat197-002_edit1.wav skipped as too short\n",
      "No silence remove applied: File 'Melanogryllusdesertus_XC753805-Melanogryllus-desertus-Poggio-Renatico_OK_20200506_190847_1CH250K16_edit7.wav' is too short (3.0sec)\n",
      "Melanogryllusdesertus_XC753805-Melanogryllus-desertus-Poggio-Renatico_OK_20200506_190847_1CH250K16_edit7.wav skipped as too short\n"
     ]
    },
    {
     "name": "stderr",
     "output_type": "stream",
     "text": [
      " 52%|█████▏    | 911/1751 [00:54<01:13, 11.47it/s]"
     ]
    },
    {
     "name": "stdout",
     "output_type": "stream",
     "text": [
      "No silence remove applied: File 'Chorthippusvagans_XC751928-dat140-002_edit4.wav' is too short (6.0sec)\n",
      "Chorthippusvagans_XC751928-dat140-002_edit4.wav skipped as too short\n",
      "No silence remove applied: File 'Yoyettacelis_GBIF1805387012_IN9444983_17158_edit1.wav' is too short (2.0sec)\n",
      "Yoyettacelis_GBIF1805387012_IN9444983_17158_edit1.wav skipped as too short\n",
      "Chorthippusmollis_XC751991-dat020-003_edit1.wav Long sample (30.64269841269841) and normal splitting\n"
     ]
    },
    {
     "name": "stderr",
     "output_type": "stream",
     "text": [
      " 52%|█████▏    | 914/1751 [00:54<00:59, 13.97it/s]"
     ]
    },
    {
     "name": "stdout",
     "output_type": "stream",
     "text": [
      "Galangalabeculata_GBIF2460079158_IN35874450_50717_edit1.wav skipped as too short\n",
      "Eumodicogryllusbordigalensis_GBIF3874201157_IN126705835_501539.wav skipped as too short\n"
     ]
    },
    {
     "name": "stderr",
     "output_type": "stream",
     "text": [
      " 52%|█████▏    | 917/1751 [00:54<00:57, 14.49it/s]"
     ]
    },
    {
     "name": "stdout",
     "output_type": "stream",
     "text": [
      "No silence remove applied: File 'Tylopsislilifolia_XC751851-dat065-001_edit1.wav' is too short (2.0sec)\n",
      "Tylopsislilifolia_XC751851-dat065-001_edit1.wav skipped as too short\n",
      "Grylluscampestris_GBIF2634082933_IN47525410_97300.wav skipped as too short\n"
     ]
    },
    {
     "name": "stderr",
     "output_type": "stream",
     "text": [
      " 53%|█████▎    | 920/1751 [00:54<00:52, 15.75it/s]"
     ]
    },
    {
     "name": "stdout",
     "output_type": "stream",
     "text": [
      "Platypleuracfcatenata_MHV%20283%20P.catenata%20Sir%20Lowry%27s%20Pass%20%231_edit1.wav Long sample (54.989659863945576) and normal splitting\n",
      "No silence remove applied: File 'Yoyettacelis_GBIF2005280112_IN20069680_30972.wav' is too short (1.9504761904761905sec)\n",
      "Yoyettacelis_GBIF2005280112_IN20069680_30972.wav skipped as too short\n",
      "No silence remove applied: File 'Yoyettacelis_GBIF1933577119_IN17949563_26862.wav' is too short (5.526349206349207sec)\n",
      "Yoyettacelis_GBIF1933577119_IN17949563_26862.wav skipped as too short\n",
      "Phaneropterafalcata_XC751663-dat036-008_edit4.wav skipped as too short\n"
     ]
    },
    {
     "name": "stderr",
     "output_type": "stream",
     "text": [
      " 53%|█████▎    | 924/1751 [00:55<00:50, 16.52it/s]"
     ]
    },
    {
     "name": "stdout",
     "output_type": "stream",
     "text": [
      "Myrmeleotettixmaculatus_XC751995-dat021-001 18.21.42_edit2.wav Long sample (628.7136961451247) and normal splitting\n",
      "Phaneropterafalcata_XC751663-dat036-008_edit5.wav Long sample (53.67585034013605) and normal splitting\n",
      "Melanogryllusdesertus_XC752513-dat047-004.wav Long sample (566.2872789115646) and normal splitting\n",
      "Platypleuraplumosa_MHV%20610%20P.plumosa%2040km%20E%20Prince%20Albert_edit1.wav Long sample (33.99006802721088) and normal splitting\n",
      "No silence remove applied: File 'Tylopsislilifolia_XC751310-dat066-014_edit1.wav' is too short (3.0sec)\n",
      "Tylopsislilifolia_XC751310-dat066-014_edit1.wav skipped as too short\n"
     ]
    },
    {
     "name": "stderr",
     "output_type": "stream",
     "text": [
      " 53%|█████▎    | 926/1751 [00:55<00:59, 13.83it/s]"
     ]
    },
    {
     "name": "stdout",
     "output_type": "stream",
     "text": [
      "No silence remove applied: File 'Yoyettacelis_GBIF1805372005_IN8035042_15579_edit1.wav' is too short (4.0sec)\n",
      "Yoyettacelis_GBIF1805372005_IN8035042_15579_edit1.wav skipped as too short\n",
      "No silence remove applied: File 'Tettigoniacantans_XC751446-dat044-001_edit1.wav' is too short (6.0sec)\n",
      "Tettigoniacantans_XC751446-dat044-001_edit1.wav skipped as too short\n"
     ]
    },
    {
     "name": "stderr",
     "output_type": "stream",
     "text": [
      " 53%|█████▎    | 929/1751 [00:55<00:59, 13.84it/s]"
     ]
    },
    {
     "name": "stdout",
     "output_type": "stream",
     "text": [
      "No silence remove applied: File 'Yoyettarepetens_GBIF2992814914_IN65913231_151746_edit1.wav' is too short (4.0sec)\n",
      "Yoyettarepetens_GBIF2992814914_IN65913231_151746_edit1.wav skipped as too short\n",
      "Tettigoniaviridissima_XC751462-dat017-007.wav Long sample (45.86412698412698) and normal splitting\n",
      "Chorthippusbrunneus_XC751380-dat005-044_edit2.wav Long sample (77.74149659863946) and normal splitting\n"
     ]
    },
    {
     "name": "stderr",
     "output_type": "stream",
     "text": [
      " 53%|█████▎    | 932/1751 [00:56<01:48,  7.55it/s]"
     ]
    },
    {
     "name": "stdout",
     "output_type": "stream",
     "text": [
      "No silence remove applied: File 'Yoyettacelis_GBIF1933577147_IN17949624_26863.wav' is too short (4.713650793650793sec)\n",
      "Yoyettacelis_GBIF1933577147_IN17949624_26863.wav skipped as too short\n"
     ]
    },
    {
     "name": "stderr",
     "output_type": "stream",
     "text": [
      " 53%|█████▎    | 934/1751 [00:56<02:14,  6.05it/s]"
     ]
    },
    {
     "name": "stdout",
     "output_type": "stream",
     "text": [
      "Conocephalusfuscus_XC752525-dat060-003_edit1.wav skipped as too short\n"
     ]
    },
    {
     "name": "stderr",
     "output_type": "stream",
     "text": [
      " 53%|█████▎    | 935/1751 [00:57<02:11,  6.20it/s]"
     ]
    },
    {
     "name": "stdout",
     "output_type": "stream",
     "text": [
      "Achetadomesticus_XC751750-dat009-004_edit1.wav Long sample (119.75197278911564) and normal splitting\n",
      "Popplepsaltaaeroides_GBIF3399474369_IN99583513_322146.wav skipped as too short\n"
     ]
    },
    {
     "name": "stderr",
     "output_type": "stream",
     "text": [
      " 53%|█████▎    | 936/1751 [00:57<02:04,  6.54it/s]"
     ]
    },
    {
     "name": "stdout",
     "output_type": "stream",
     "text": [
      "Decticusverrucivorus_XC751966-dat016-012_edit2.wav Long sample (167.11460317460316) and normal splitting\n",
      "No silence remove applied: File 'Chorthippusvagans_XC751928-dat140-002_edit5.wav' is too short (9.0sec)\n",
      "Chorthippusvagans_XC751928-dat140-002_edit5.wav skipped as too short\n",
      "Phaneropterafalcata_XC751665-dat038-001_edit1.wav Long sample (249.03587301587302) and normal splitting\n",
      "Chorthippusvagans_XC751929-dat140-003_edit6.wav skipped as too short\n"
     ]
    },
    {
     "name": "stderr",
     "output_type": "stream",
     "text": [
      " 54%|█████▎    | 938/1751 [00:57<01:54,  7.13it/s]"
     ]
    },
    {
     "name": "stdout",
     "output_type": "stream",
     "text": [
      "No silence remove applied: File 'Melanogryllusdesertus_XC753805-Melanogryllus-desertus-Poggio-Renatico_OK_20200506_190847_1CH250K16_edit6.wav' is too short (3.0sec)\n",
      "Melanogryllusdesertus_XC753805-Melanogryllus-desertus-Poggio-Renatico_OK_20200506_190847_1CH250K16_edit6.wav skipped as too short\n",
      "Conocephalusdorsalis_XC751660-dat034-022_edit2.wav Long sample (53.561678004535146) and normal splitting\n",
      "Myrmeleotettixmaculatus_XC752615-dat001-019_edit1.wav Long sample (200.48367346938775) and normal splitting\n"
     ]
    },
    {
     "name": "stderr",
     "output_type": "stream",
     "text": [
      " 54%|█████▎    | 940/1751 [00:57<02:26,  5.53it/s]"
     ]
    },
    {
     "name": "stdout",
     "output_type": "stream",
     "text": [
      "Conocephalusfuscus_XC752685-220924_Conocephalus-fuscus_01_edit2.wav skipped as too short\n",
      "No silence remove applied: File 'Pholidopteragriseoaptera_XC752316-dat005-036_edit2.wav' is too short (1.0sec)\n",
      "Pholidopteragriseoaptera_XC752316-dat005-036_edit2.wav skipped as too short\n",
      "No silence remove applied: File 'Pseudochorthippusparallelus_GBIF2859905446_IN52776864_119920_edit2.wav' is too short (8.0sec)\n",
      "Pseudochorthippusparallelus_GBIF2859905446_IN52776864_119920_edit2.wav skipped as too short\n"
     ]
    },
    {
     "name": "stderr",
     "output_type": "stream",
     "text": [
      " 54%|█████▍    | 943/1751 [00:58<01:38,  8.19it/s]"
     ]
    },
    {
     "name": "stdout",
     "output_type": "stream",
     "text": [
      "No silence remove applied: File 'Chorthippusbrunneus_XC751381-dat005-045_edit1.wav' is too short (6.0sec)\n",
      "Chorthippusbrunneus_XC751381-dat005-045_edit1.wav skipped as too short\n",
      "Chorthippusapricarius_XC752124-dat033-014_edit1.wav skipped as too short"
     ]
    },
    {
     "name": "stderr",
     "output_type": "stream",
     "text": [
      " 54%|█████▍    | 945/1751 [00:58<01:37,  8.25it/s]"
     ]
    },
    {
     "name": "stdout",
     "output_type": "stream",
     "text": [
      "\n",
      "No silence remove applied: File 'Pholidopteralittoralis_XC752426-dat053-005_edit1.wav' is too short (8.0sec)\n",
      "Pholidopteralittoralis_XC752426-dat053-005_edit1.wav skipped as too short\n"
     ]
    },
    {
     "name": "stderr",
     "output_type": "stream",
     "text": [
      " 54%|█████▍    | 948/1751 [00:58<01:14, 10.76it/s]"
     ]
    },
    {
     "name": "stdout",
     "output_type": "stream",
     "text": [
      "Chorthippusmollis_XC751955-dat024-011_edit4.wav skipped as too short\n",
      "Stenobothruslineatus_XC751988-dat018-001_edit3.wav skipped as too short\n",
      "No silence remove applied: File 'Pholidopteralittoralis_XC752438-dat048-002_edit3.wav' is too short (4.0sec)No silence remove applied: File 'Yoyettacelis_GBIF1978820664_IN19037424_28301.wav' is too short (2.7631746031746034sec)\n",
      "\n",
      "Pholidopteralittoralis_XC752438-dat048-002_edit3.wav skipped as too short\n",
      "Yoyettacelis_GBIF1978820664_IN19037424_28301.wav skipped as too shortOmocestusrufipes_XC751627-dat015-011_edit4.wav skipped as too short\n",
      "\n",
      "No silence remove applied: File 'Atrapsaltacollina_GBIF1946322865_IN18592258_27588.wav' is too short (7.233015873015873sec)\n",
      "Atrapsaltacollina_GBIF1946322865_IN18592258_27588.wav skipped as too short\n"
     ]
    },
    {
     "name": "stderr",
     "output_type": "stream",
     "text": [
      " 54%|█████▍    | 954/1751 [00:58<00:43, 18.40it/s]"
     ]
    },
    {
     "name": "stdout",
     "output_type": "stream",
     "text": [
      "Omocestuspetraeus_XC752477-dat058-003_edit2.wav skipped as too short\n",
      "Pseudochorthippusparallelus_PSEPAR_20210729_164449.M.wav skipped as too short\n",
      "Clinopsaltaautumna_GBIF1805372153_IN8122221_15721_edit1.wav skipped as too short\n"
     ]
    },
    {
     "name": "stderr",
     "output_type": "stream",
     "text": [
      " 55%|█████▍    | 957/1751 [00:58<00:40, 19.43it/s]"
     ]
    },
    {
     "name": "stdout",
     "output_type": "stream",
     "text": [
      "No silence remove applied: File 'Grylluscampestris_GBIF2610955842_IN43124506_74139_edit1.wav' is too short (7.0sec)Chorthippusbrunneus_XC751391-dat054-007_edit1.wav skipped as too short\n",
      "No silence remove applied: File 'Melanogryllusdesertus_XC752510-dat046-009_edit6.wav' is too short (2.0sec)\n",
      "\n",
      "Melanogryllusdesertus_XC752510-dat046-009_edit6.wav skipped as too shortGrylluscampestris_GBIF2610955842_IN43124506_74139_edit1.wav skipped as too short\n",
      "\n",
      "No silence remove applied: File 'Nemobiussylvestris_XC752032-dat004-035_edit5.wav' is too short (4.0sec)\n",
      "Nemobiussylvestris_XC752032-dat004-035_edit5.wav skipped as too short\n",
      "No silence remove applied: File 'Omocestusrufipes_XC751789-dat021-002_edit2.wav' is too short (9.0sec)\n",
      "Omocestusrufipes_XC751789-dat021-002_edit2.wav skipped as too shortConocephalusfuscus_XC752054-dat036-002_edit2.wav skipped as too short\n",
      "\n",
      "No silence remove applied: File 'Barbitistesyersini_XC752464-dat047-012_edit1.wav' is too short (4.0sec)\n",
      "No silence remove applied: File 'Yoyettarepetens_GBIF2012965939_IN20864147_31885.wav' is too short (6.664126984126984sec)Barbitistesyersini_XC752464-dat047-012_edit1.wav skipped as too short\n",
      "Yoyettarepetens_GBIF2012965939_IN20864147_31885.wav skipped as too short\n",
      "No silence remove applied: File 'Stenobothrusstigmaticus_XC751551-dat014-006_edit3.wav' is too short (5.0sec)\n",
      "\n"
     ]
    },
    {
     "name": "stderr",
     "output_type": "stream",
     "text": [
      " 55%|█████▌    | 965/1751 [00:58<00:25, 30.69it/s]"
     ]
    },
    {
     "name": "stdout",
     "output_type": "stream",
     "text": [
      "Stenobothrusstigmaticus_XC751551-dat014-006_edit3.wav skipped as too short\n",
      "Chrysochraondispar_XC751495-dat001-005.wav skipped as too short\n",
      "No silence remove applied: File 'Pholidopteragriseoaptera_XC752321-dat005-041_edit3.wav' is too short (1.0sec)\n",
      "Pholidopteragriseoaptera_XC752321-dat005-041_edit3.wav skipped as too short\n",
      "No silence remove applied: File 'Yoyettacelis_GBIF2465342838_IN36334611_51694.wav' is too short (4.0sec)Omocestusrufipes_XC751626-dat015-009_edit4.wav skipped as too short\n",
      "\n",
      "Yoyettacelis_GBIF2465342838_IN36334611_51694.wav skipped as too short\n",
      "No silence remove applied: File 'Platypleuraplumosa_MHV%201488%20P.plumosa%20Nanaga%20Rec%20%233_edit4.wav' is too short (4.508367346938775sec)\n",
      "Platypleuraplumosa_MHV%201488%20P.plumosa%20Nanaga%20Rec%20%233_edit4.wav skipped as too short\n",
      "No silence remove applied: File 'Yoyettacelis_GBIF2609273965_IN41733343_68410_edit1.wav' is too short (3.5sec)\n",
      "Yoyettacelis_GBIF2609273965_IN41733343_68410_edit1.wav skipped as too short\n",
      "Chorthippusmollis_XC752523-dat198-001_edit3.wav skipped as too short"
     ]
    },
    {
     "name": "stderr",
     "output_type": "stream",
     "text": [
      " 56%|█████▌    | 972/1751 [00:58<00:19, 39.06it/s]"
     ]
    },
    {
     "name": "stdout",
     "output_type": "stream",
     "text": [
      "\n",
      "Neotibicenpruinosus_GBIF2851076187_IN56766759_130798_edit1.wav skipped as too short\n",
      "No silence remove applied: File 'Pholidopteraaptera_XC751364-dat145-005_edit3.wav' is too short (4.0sec)\n",
      "No silence remove applied: File 'Yoyettacelis_GBIF2574036510_IN38818036_58232.wav' is too short (2.9sec)\n",
      "Pholidopteraaptera_XC751364-dat145-005_edit3.wav skipped as too short\n",
      "Yoyettacelis_GBIF2574036510_IN38818036_58232.wav skipped as too short\n",
      "No silence remove applied: File 'Pseudochorthippusmontanus_XC752600-dat011-007_edit1.wav' is too short (4.0sec)\n",
      "Pseudochorthippusmontanus_XC752600-dat011-007_edit1.wav skipped as too short\n",
      "Chorthippusmollis_XC751778-dat007-006.wav skipped as too short\n"
     ]
    },
    {
     "name": "stderr",
     "output_type": "stream",
     "text": [
      " 56%|█████▌    | 978/1751 [00:58<00:18, 41.94it/s]"
     ]
    },
    {
     "name": "stdout",
     "output_type": "stream",
     "text": [
      "No silence remove applied: File 'Yoyettacelis_GBIF2963770050_IN63685020_145492.wav' is too short (5.4sec)\n",
      "Yoyettacelis_GBIF2963770050_IN63685020_145492.wav skipped as too short\n",
      "No silence remove applied: File 'Pseudochorthippusmontanus_XC752600-dat011-007_edit3.wav' is too short (5.0sec)\n",
      "Pseudochorthippusmontanus_XC752600-dat011-007_edit3.wav skipped as too short\n",
      "Eupholidopteraschmidti_XC751318-dat051-001_edit5.wav skipped as too short\n",
      "No silence remove applied: File 'Pholidopteraaptera_XC751364-dat145-005_edit1.wav' is too short (3.0sec)\n",
      "Pholidopteraaptera_XC751364-dat145-005_edit1.wav skipped as too short\n",
      "No silence remove applied: File 'Platypleuraplumosa_MHV%20321%20P.plumosa%20Ghwarriepoort%20River%20%231_edit1.wav' is too short (8.176371882086167sec)\n",
      "No silence remove applied: File 'Conocephalusfuscus_XC752383-dat034-006_edit4.wav' is too short (3.0sec)\n",
      "Conocephalusfuscus_XC752383-dat034-006_edit4.wav skipped as too short\n",
      "Platypleuraplumosa_MHV%20321%20P.plumosa%20Ghwarriepoort%20River%20%231_edit1.wav skipped as too short\n",
      "No silence remove applied: File 'Pseudochorthippusparallelus_XC751396-dat023-006_edit5.wav' is too short (4.0sec)\n",
      "\n"
     ]
    },
    {
     "name": "stderr",
     "output_type": "stream",
     "text": [
      " 56%|█████▋    | 985/1751 [00:59<00:16, 46.95it/s]"
     ]
    },
    {
     "name": "stdout",
     "output_type": "stream",
     "text": [
      "Pseudochorthippusparallelus_XC751396-dat023-006_edit5.wav skipped as too shortEupholidopteraschmidti_XC751318-dat051-001_edit7.wav skipped as too short\n",
      "Chorthippusmollis_XC752523-dat198-001_edit1.wav skipped as too shortNo silence remove applied: File 'Stenobothrusstigmaticus_XC751551-dat014-006_edit1.wav' is too short (4.0sec)\n",
      "\n",
      "No silence remove applied: File 'Yoyettacelis_GBIF3384556928_IN96861510_312225.wav' is too short (2.2sec)\n",
      "Stenobothrusstigmaticus_XC751551-dat014-006_edit1.wav skipped as too shortYoyettacelis_GBIF3384556928_IN96861510_312225.wav skipped as too short\n",
      "\n",
      "No silence remove applied: File 'Pholidopteragriseoaptera_XC752321-dat005-041_edit1.wav' is too short (1.0sec)\n",
      "Pholidopteragriseoaptera_XC752321-dat005-041_edit1.wav skipped as too short\n"
     ]
    },
    {
     "name": "stderr",
     "output_type": "stream",
     "text": [
      " 57%|█████▋    | 991/1751 [00:59<00:16, 46.91it/s]"
     ]
    },
    {
     "name": "stdout",
     "output_type": "stream",
     "text": [
      "No silence remove applied: File 'Omocestusrufipes_XC751626-dat015-009_edit6.wav' is too short (2.0sec)\n",
      "Omocestusrufipes_XC751626-dat015-009_edit6.wav skipped as too short\n",
      "Galangalabeculata_GBIF2609086727_IN40223035_62523_edit1.wav skipped as too short\n",
      "\n",
      "Popplepsaltaaeroides_GBIF2573948429_IN38818020_58231.wav skipped as too short\n",
      "Tylopsislilifolia_XC751314-dat066-018_edit2.wav skipped as too shortNo silence remove applied: File 'Pholidopteralittoralis_XC752425-dat052-006_edit8.wav' is too short (3.0sec)\n",
      "Pholidopteralittoralis_XC752425-dat052-006_edit8.wav skipped as too short\n"
     ]
    },
    {
     "name": "stderr",
     "output_type": "stream",
     "text": [
      " 57%|█████▋    | 997/1751 [00:59<00:17, 44.21it/s]"
     ]
    },
    {
     "name": "stdout",
     "output_type": "stream",
     "text": [
      "No silence remove applied: File 'Pholidopteralittoralis_XC752442-dat056-012_edit2.wav' is too short (4.0sec)\n",
      "Pholidopteralittoralis_XC752442-dat056-012_edit2.wav skipped as too short\n",
      "No silence remove applied: File 'Barbitistesyersini_XC752464-dat047-012_edit3.wav' is too short (4.0sec)\n",
      "Aleetacurvicosta_GBIF1986528898_IN19282437_28685.wav skipped as too shortPlatypleurasp13_MHV%201486%20P.sp%2013%20nr%20Gamtoos%20River%20Bridge%20%231_edit1.wav skipped as too short\n",
      "Barbitistesyersini_XC752464-dat047-012_edit3.wav skipped as too short\n",
      "\n",
      "No silence remove applied: File 'Melanogryllusdesertus_XC752510-dat046-009_edit4.wav' is too short (2.0sec)"
     ]
    },
    {
     "name": "stderr",
     "output_type": "stream",
     "text": [
      " 57%|█████▋    | 1002/1751 [00:59<00:17, 42.80it/s]"
     ]
    },
    {
     "name": "stdout",
     "output_type": "stream",
     "text": [
      "\n",
      "Melanogryllusdesertus_XC752510-dat046-009_edit4.wav skipped as too short\n",
      "Decticusverrucivorus_XC751957-dat016-003_edit1.wav skipped as too short\n",
      "Diceroproctaeugraphica_GBIF2802726109_IN50366825_110124.wav Long sample (42.55358276643991) and normal splitting\n",
      "Oecanthuspellucens_Take40.M.wav skipped as too short\n",
      "No silence remove applied: File 'Platypleurasp12cfhirtipennis_MHV%20839%20P.sp12%20Swartberg%20Pass_edit1.wav' is too short (4.0sec)\n",
      "Platypleurasp12cfhirtipennis_MHV%20839%20P.sp12%20Swartberg%20Pass_edit1.wav skipped as too short\n"
     ]
    },
    {
     "name": "stderr",
     "output_type": "stream",
     "text": [
      " 58%|█████▊    | 1007/1751 [00:59<00:30, 24.26it/s]"
     ]
    },
    {
     "name": "stdout",
     "output_type": "stream",
     "text": [
      "Leptophyespunctatissima_XC751805-dat023-009_edit4.wav Long sample (74.70272108843537) and normal splitting\n",
      "Stenobothruslineatus_XC751987-dat017-022_edit1.wav Long sample (75.96918367346939) and normal splitting\n",
      "Phaneropteranana_XC752728-220906_thuis-in-een-bakje.wav Long sample (34.05859410430839) and normal splitting\n",
      "Chorthippusbrunneus_XC751406-dat024-015_edit2.wav skipped as too short\n",
      "No silence remove applied: File 'Pholidopteralittoralis_XC752438-dat048-002_edit1.wav' is too short (2.0sec)\n",
      "Pholidopteralittoralis_XC752438-dat048-002_edit1.wav skipped as too short\n",
      "Eumodicogryllusbordigalensis_XC751536-dat003-002_edit1.wav skipped as too short\n"
     ]
    },
    {
     "name": "stderr",
     "output_type": "stream",
     "text": [
      " 58%|█████▊    | 1011/1751 [01:00<00:42, 17.38it/s]"
     ]
    },
    {
     "name": "stdout",
     "output_type": "stream",
     "text": [
      "No silence remove applied: File 'Pholidopteralittoralis_XC752426-dat053-005_edit3.wav' is too short (4.0sec)\n",
      "Pholidopteralittoralis_XC752426-dat053-005_edit3.wav skipped as too short\n",
      "Achetadomesticus_XC751748-dat009-002_edit2.wav Long sample (84.82031746031745) and normal splitting\n",
      "Stenobothruslineatus_XC751988-dat018-001_edit1.wav skipped as too short\n"
     ]
    },
    {
     "name": "stderr",
     "output_type": "stream",
     "text": [
      " 58%|█████▊    | 1014/1751 [01:00<00:43, 17.03it/s]"
     ]
    },
    {
     "name": "stdout",
     "output_type": "stream",
     "text": [
      "Chorthippusapricarius_XC752124-dat033-014_edit3.wav skipped as too short\n",
      "Ephippigerdiurnus_XC752092-dat027-017.wav Long sample (127.12521541950113) and normal splitting\n",
      "No silence remove applied: File 'Melanogryllusdesertus_XC753805-Melanogryllus-desertus-Poggio-Renatico_OK_20200506_190847_1CH250K16_edit4.wav' is too short (3.0sec)\n",
      "Melanogryllusdesertus_XC753805-Melanogryllus-desertus-Poggio-Renatico_OK_20200506_190847_1CH250K16_edit4.wav skipped as too short\n"
     ]
    },
    {
     "name": "stderr",
     "output_type": "stream",
     "text": [
      " 58%|█████▊    | 1017/1751 [01:00<00:42, 17.24it/s]"
     ]
    },
    {
     "name": "stdout",
     "output_type": "stream",
     "text": [
      "Chorthippusvagans_XC751929-dat140-003_edit4.wav skipped as too short\n",
      "Chorthippusbiguttulus_XC751877-dat149-002_edit5.wav skipped as too short\n"
     ]
    },
    {
     "name": "stderr",
     "output_type": "stream",
     "text": [
      " 58%|█████▊    | 1020/1751 [01:00<00:45, 16.07it/s]"
     ]
    },
    {
     "name": "stdout",
     "output_type": "stream",
     "text": [
      "Chorthippusmollis_XC751991-dat020-003_edit2.wav skipped as too short\n",
      "Conocephalusfuscus_XC752525-dat060-003_edit3.wav skipped as too short\n",
      "No silence remove applied: File 'Tettigoniacantans_XC751446-dat044-001_edit3.wav' is too short (8.0sec)\n",
      "Tettigoniacantans_XC751446-dat044-001_edit3.wav skipped as too short\n"
     ]
    },
    {
     "name": "stderr",
     "output_type": "stream",
     "text": [
      " 58%|█████▊    | 1023/1751 [01:01<00:40, 18.14it/s]"
     ]
    },
    {
     "name": "stdout",
     "output_type": "stream",
     "text": [
      "No silence remove applied: File 'Tylopsislilifolia_XC751310-dat066-014_edit3.wav' is too short (2.0sec)Atrapsaltaencaustica_GBIF2460148744_IN35898723_50782_edit1.wav skipped as too short\n",
      "\n",
      "Tylopsislilifolia_XC751310-dat066-014_edit3.wav skipped as too short\n",
      "Oecanthuspellucens_XC752522-dat197-002_edit2.wav Long sample (51.03294784580499) and normal splitting\n",
      "No silence remove applied: File 'Platypleuraplumosa_MHV%20610%20P.plumosa%2040km%20E%20Prince%20Albert_edit2.wav' is too short (5.0sec)\n",
      "Platypleuraplumosa_MHV%20610%20P.plumosa%2040km%20E%20Prince%20Albert_edit2.wav skipped as too short\n",
      "Pholidopteragriseoaptera_GBIF2901793530_IN61864366_140970_edit1.wav skipped as too short\n"
     ]
    },
    {
     "name": "stderr",
     "output_type": "stream",
     "text": [
      " 59%|█████▊    | 1028/1751 [01:01<00:30, 23.58it/s]"
     ]
    },
    {
     "name": "stdout",
     "output_type": "stream",
     "text": [
      "No silence remove applied: File 'Tylopsislilifolia_XC751851-dat065-001_edit2.wav' is too short (3.0sec)\n",
      "Tylopsislilifolia_XC751851-dat065-001_edit2.wav skipped as too short\n",
      "No silence remove applied: File 'Tylopsislilifolia_XC751851-dat065-001_edit3.wav' is too short (3.0sec)\n",
      "Phaneropterafalcata_XC751663-dat036-008_edit6.wav skipped as too shortTylopsislilifolia_XC751851-dat065-001_edit3.wav skipped as too short\n",
      "\n",
      "Gampsocleisglabra_XC752050-dat125-007.wav Long sample (105.46002267573697) and normal splitting\n",
      "Gomphocerussibiricus_XC751881-dat055-006.wav Long sample (35.413764172335604) and normal splitting\n",
      "Ruspolianitidula_GBIF3408139170_IN100166736_324750.wav skipped as too short\n"
     ]
    },
    {
     "name": "stderr",
     "output_type": "stream",
     "text": [
      " 59%|█████▉    | 1032/1751 [01:01<00:29, 24.54it/s]"
     ]
    },
    {
     "name": "stdout",
     "output_type": "stream",
     "text": [
      "Phaneropterafalcata_XC751663-dat036-008_edit7.wav Long sample (36.8012925170068) and normal splitting\n"
     ]
    },
    {
     "name": "stderr",
     "output_type": "stream",
     "text": [
      " 59%|█████▉    | 1035/1751 [01:01<00:42, 17.00it/s]"
     ]
    },
    {
     "name": "stdout",
     "output_type": "stream",
     "text": [
      "No silence remove applied: File 'Tettigoniacantans_XC751446-dat044-001_edit2.wav' is too short (4.0sec)\n",
      "Tettigoniacantans_XC751446-dat044-001_edit2.wav skipped as too short\n",
      "No silence remove applied: File 'Tylopsislilifolia_XC751310-dat066-014_edit2.wav' is too short (4.0sec)\n",
      "Tylopsislilifolia_XC751310-dat066-014_edit2.wav skipped as too short\n",
      "No silence remove applied: File 'Conocephalusfuscus_XC752525-dat060-003_edit2.wav' is too short (6.0sec)\n",
      "Conocephalusfuscus_XC752525-dat060-003_edit2.wav skipped as too short\n"
     ]
    },
    {
     "name": "stderr",
     "output_type": "stream",
     "text": [
      " 59%|█████▉    | 1039/1751 [01:01<00:36, 19.75it/s]"
     ]
    },
    {
     "name": "stdout",
     "output_type": "stream",
     "text": [
      "Tettigoniacantans_XC751947-dat035-004.wav skipped as too short\n",
      "Decticusverrucivorus_XC751966-dat016-012_edit1.wav Long sample (37.76077097505669) and normal splitting\n",
      "Chorthippusbiguttulus_XC751877-dat149-002_edit4.wav skipped as too short\n"
     ]
    },
    {
     "name": "stderr",
     "output_type": "stream",
     "text": [
      " 60%|█████▉    | 1042/1751 [01:02<00:49, 14.47it/s]"
     ]
    },
    {
     "name": "stdout",
     "output_type": "stream",
     "text": [
      "Chorthippusbrunneus_XC751380-dat005-044_edit1.wav Long sample (48.4863492063492) and normal splitting\n",
      "Chorthippusmollis_XC751991-dat020-003_edit3.wav skipped as too short\n"
     ]
    },
    {
     "name": "stderr",
     "output_type": "stream",
     "text": [
      " 60%|█████▉    | 1044/1751 [01:02<00:58, 12.02it/s]"
     ]
    },
    {
     "name": "stdout",
     "output_type": "stream",
     "text": [
      "Grylluscampestris_XC751434-dat010-013_edit4.wav skipped as too short\n",
      "Conocephalusfuscus_XC752685-220924_Conocephalus-fuscus_01_edit1.wav skipped as too short\n"
     ]
    },
    {
     "name": "stderr",
     "output_type": "stream",
     "text": [
      " 60%|█████▉    | 1047/1751 [01:02<00:57, 12.28it/s]"
     ]
    },
    {
     "name": "stdout",
     "output_type": "stream",
     "text": [
      "No silence remove applied: File 'Melanogryllusdesertus_XC753805-Melanogryllus-desertus-Poggio-Renatico_OK_20200506_190847_1CH250K16_edit5.wav' is too short (4.0sec)\n",
      "Melanogryllusdesertus_XC753805-Melanogryllus-desertus-Poggio-Renatico_OK_20200506_190847_1CH250K16_edit5.wav skipped as too short\n",
      "No silence remove applied: File 'Yoyettarepetens_GBIF1986519526_IN19222910_28592_edit1.wav' is too short (4.716349206349206sec)Achetadomesticus_XC751750-dat009-004_edit2.wav Long sample (81.07827664399093) and normal splitting\n",
      "\n",
      "Yoyettarepetens_GBIF1986519526_IN19222910_28592_edit1.wav skipped as too short\n",
      "Chorthippusvagans_XC751929-dat140-003_edit5.wav skipped as too short\n",
      "No silence remove applied: File 'Stauroderusscalaris_XC751602-dat061-005.wav' is too short (7.817233560090703sec)\n",
      "Stauroderusscalaris_XC751602-dat061-005.wav skipped as too short\n"
     ]
    },
    {
     "name": "stderr",
     "output_type": "stream",
     "text": [
      " 60%|██████    | 1051/1751 [01:02<00:43, 15.95it/s]"
     ]
    },
    {
     "name": "stdout",
     "output_type": "stream",
     "text": [
      "Conocephalusdorsalis_XC751660-dat034-022_edit1.wav Long sample (64.24530612244898) and normal splitting\n",
      "Chorthippusapricarius_XC752124-dat033-014_edit2.wav skipped as too short\n",
      "Decticusverrucivorus_XC751977-dat018-010.wav Long sample (30.575374149659865) and normal splitting\n",
      "No silence remove applied: File 'Pseudochorthippusparallelus_GBIF2859905446_IN52776864_119920_edit1.wav' is too short (9.0sec)\n",
      "Pseudochorthippusparallelus_GBIF2859905446_IN52776864_119920_edit1.wav skipped as too short\n",
      "Oecanthuspellucens_XC752522-dat197-002_edit3.wav skipped as too short\n"
     ]
    },
    {
     "name": "stderr",
     "output_type": "stream",
     "text": [
      " 60%|██████    | 1054/1751 [01:03<00:53, 13.12it/s]"
     ]
    },
    {
     "name": "stdout",
     "output_type": "stream",
     "text": [
      "No silence remove applied: File 'Pholidopteragriseoaptera_XC752316-dat005-036_edit1.wav' is too short (1.0sec)\n",
      "Pholidopteragriseoaptera_XC752316-dat005-036_edit1.wav skipped as too short\n"
     ]
    },
    {
     "name": "stderr",
     "output_type": "stream",
     "text": [
      " 60%|██████    | 1056/1751 [01:03<00:52, 13.24it/s]"
     ]
    },
    {
     "name": "stdout",
     "output_type": "stream",
     "text": [
      "No silence remove applied: File 'Omocestuspetraeus_XC752472-dat055-009_edit4.wav' is too short (6.790566893424036sec)\n",
      "Omocestuspetraeus_XC752472-dat055-009_edit4.wav skipped as too short\n",
      "No silence remove applied: File 'Pholidopteralittoralis_XC752426-dat053-005_edit2.wav' is too short (3.0sec)\n",
      "Pholidopteralittoralis_XC752426-dat053-005_edit2.wav skipped as too short\n",
      "Aleetacurvicosta_GBIF2005290963_IN20215066_31038.wav skipped as too short\n"
     ]
    },
    {
     "name": "stderr",
     "output_type": "stream",
     "text": [
      " 61%|██████    | 1061/1751 [01:03<00:39, 17.38it/s]"
     ]
    },
    {
     "name": "stdout",
     "output_type": "stream",
     "text": [
      "Neotibicenpruinosus_GBIF2803044667_IN49682664_107664.wav Long sample (36.2753514739229) and normal splitting\n",
      "Chorthippusbrunneus_XC751406-dat024-015_edit3.wav skipped as too short\n",
      "No silence remove applied: File 'Clinopsaltaautumna_GBIF1805372153_IN8122221_15721_edit2.wav' is too short (3.0sec)\n",
      "Clinopsaltaautumna_GBIF1805372153_IN8122221_15721_edit2.wav skipped as too short\n",
      "Grylluscampestris_XC751586-dat008-015.wav Long sample (41.12596371882086) and normal splitting\n"
     ]
    },
    {
     "name": "stderr",
     "output_type": "stream",
     "text": [
      " 61%|██████    | 1064/1751 [01:03<00:47, 14.34it/s]"
     ]
    },
    {
     "name": "stdout",
     "output_type": "stream",
     "text": [
      "Ephippigerdiurnus_XC752099-dat034-001.wav Long sample (149.54213151927436) and normal splittingTettigoniacantans_XC751951-dat039-005_edit8.wav skipped as too short\n",
      "\n",
      "Omocestuspetraeus_XC752477-dat058-003_edit1.wav skipped as too short\n",
      "Melanogryllusdesertus_XC752509-dat046-008_edit1.wav skipped as too short\n"
     ]
    },
    {
     "name": "stderr",
     "output_type": "stream",
     "text": [
      " 61%|██████    | 1067/1751 [01:03<00:48, 14.13it/s]"
     ]
    },
    {
     "name": "stdout",
     "output_type": "stream",
     "text": [
      "No silence remove applied: File 'Melanogryllusdesertus_XC752510-dat046-009_edit5.wav' is too short (2.0sec)\n",
      "Melanogryllusdesertus_XC752510-dat046-009_edit5.wav skipped as too short\n",
      "Chorthippusbrunneus_XC751391-dat054-007_edit2.wav Long sample (37.93961451247166) and normal splitting\n",
      "Chrysochraondispar_XC751692-dat028-015.wav Long sample (236.05045351473922) and normal splitting\n",
      "Bicoloranabicolor_XC751442-dat044-006.wav Long sample (116.73938775510204) and normal splitting\n"
     ]
    },
    {
     "name": "stderr",
     "output_type": "stream",
     "text": [
      " 61%|██████    | 1070/1751 [01:04<01:08,  9.89it/s]"
     ]
    },
    {
     "name": "stdout",
     "output_type": "stream",
     "text": [
      "Achetadomesticus_XC751750-dat009-004_edit3.wav Long sample (115.67562358276643) and normal splitting\n",
      "Atrapsaltaencaustica_GBIF1807278946_IN8812456_16373_edit1.wav Long sample (59.86344671201814) and normal splitting\n",
      "Conocephalusfuscus_XC752054-dat036-002_edit1.wav skipped as too short\n"
     ]
    },
    {
     "name": "stderr",
     "output_type": "stream",
     "text": [
      " 61%|██████    | 1072/1751 [01:04<01:19,  8.53it/s]"
     ]
    },
    {
     "name": "stdout",
     "output_type": "stream",
     "text": [
      "No silence remove applied: File 'Barbitistesyersini_XC752464-dat047-012_edit2.wav' is too short (4.0sec)\n",
      "Barbitistesyersini_XC752464-dat047-012_edit2.wav skipped as too short\n",
      "No silence remove applied: File 'Yoyettacelis_GBIF1805372205_IN8163038_15722.wav' is too short (5.607619047619048sec)\n",
      "Yoyettacelis_GBIF1805372205_IN8163038_15722.wav skipped as too short\n",
      "No silence remove applied: File 'Omocestusrufipes_XC751789-dat021-002_edit1.wav' is too short (8.0sec)\n",
      "Omocestusrufipes_XC751789-dat021-002_edit1.wav skipped as too short\n",
      "No silence remove applied: File 'Pholidopteralittoralis_XC752442-dat056-012_edit3.wav' is too short (5.0sec)\n",
      "Pholidopteralittoralis_XC752442-dat056-012_edit3.wav skipped as too short\n"
     ]
    },
    {
     "name": "stderr",
     "output_type": "stream",
     "text": [
      " 61%|██████▏   | 1076/1751 [01:04<00:56, 11.91it/s]"
     ]
    },
    {
     "name": "stdout",
     "output_type": "stream",
     "text": [
      "No silence remove applied: File 'Yoyettarepetens_GBIF1948744708_IN18728543_27750.wav' is too short (4.551111111111111sec)\n",
      "Yoyettarepetens_GBIF1948744708_IN18728543_27750.wav skipped as too short\n",
      "No silence remove applied: File 'Yoyettacelis_GBIF2447947722_IN34934851_49314.wav' is too short (4.1sec)\n",
      "Yoyettacelis_GBIF2447947722_IN34934851_49314.wav skipped as too short\n",
      "Tettigoniacantans_GBIF3468841584_IN103299187_338707.wav skipped as too short\n"
     ]
    },
    {
     "name": "stderr",
     "output_type": "stream",
     "text": [
      " 62%|██████▏   | 1079/1751 [01:05<00:48, 13.72it/s]"
     ]
    },
    {
     "name": "stdout",
     "output_type": "stream",
     "text": [
      "No silence remove applied: File 'Pholidopteralittoralis_XC752425-dat052-006_edit9.wav' is too short (2.0sec)\n",
      "Pholidopteralittoralis_XC752425-dat052-006_edit9.wav skipped as too short\n",
      "No silence remove applied: File 'Eumodicogryllusbordigalensis_GBIF3802763333_IN118393053_448698.wav' is too short (8.94936507936508sec)\n",
      "Eumodicogryllusbordigalensis_GBIF3802763333_IN118393053_448698.wav skipped as too short\n",
      "No silence remove applied: File 'Omocestusrufipes_XC751626-dat015-009_edit7.wav' is too short (5.0sec)\n",
      "Omocestusrufipes_XC751626-dat015-009_edit7.wav skipped as too short\n"
     ]
    },
    {
     "name": "stderr",
     "output_type": "stream",
     "text": [
      " 62%|██████▏   | 1084/1751 [01:05<00:35, 19.05it/s]"
     ]
    },
    {
     "name": "stdout",
     "output_type": "stream",
     "text": [
      "No silence remove applied: File 'Pseudochorthippusparallelus_XC751396-dat023-006_edit4.wav' is too short (4.0sec)\n",
      "Tylopsislilifolia_XC751314-dat066-018_edit3.wav skipped as too shortPseudochorthippusparallelus_XC751396-dat023-006_edit4.wav skipped as too short\n",
      "\n"
     ]
    },
    {
     "name": "stderr",
     "output_type": "stream",
     "text": [
      " 62%|██████▏   | 1087/1751 [01:05<00:35, 18.78it/s]"
     ]
    },
    {
     "name": "stdout",
     "output_type": "stream",
     "text": [
      "Chorthippusbrunneus_XC751383-dat005-048.wav Long sample (35.748231292517005) and normal splitting\n",
      "Cicadaorni_GBIF3858574818_IN123070361_479922.wav skipped as too short\n",
      "Aleetacurvicosta_GBIF2012998895_IN20960176_31881.wav skipped as too short\n",
      "Omocestusviridulus_XC751614-dat024-013.wav skipped as too short\n"
     ]
    },
    {
     "name": "stderr",
     "output_type": "stream",
     "text": [
      " 62%|██████▏   | 1090/1751 [01:05<00:36, 18.01it/s]"
     ]
    },
    {
     "name": "stdout",
     "output_type": "stream",
     "text": [
      "No silence remove applied: File 'Tylopsislilifolia_XC751312-dat066-016_edit4.wav' is too short (5.2706575963718825sec)\n",
      "Tylopsislilifolia_XC751312-dat066-016_edit4.wav skipped as too short\n",
      "No silence remove applied: File 'Yoyettacelis_GBIF1950009470_IN18935017_28169.wav' is too short (3.332063492063492sec)\n",
      "Yoyettacelis_GBIF1950009470_IN18935017_28169.wav skipped as too short\n",
      "No silence remove applied: File 'Pseudochorthippusmontanus_XC752600-dat011-007_edit2.wav' is too short (5.0sec)\n",
      "Pseudochorthippusmontanus_XC752600-dat011-007_edit2.wav skipped as too short\n"
     ]
    },
    {
     "name": "stderr",
     "output_type": "stream",
     "text": [
      " 62%|██████▏   | 1094/1751 [01:05<00:30, 21.60it/s]"
     ]
    },
    {
     "name": "stdout",
     "output_type": "stream",
     "text": [
      "No silence remove applied: File 'Pholidopteragriseoaptera_GBIF3860534914_IN124462917_488893.wav' is too short (4.72sec)\n",
      "Eupholidopteraschmidti_XC751318-dat051-001_edit6.wav skipped as too short\n",
      "Pholidopteragriseoaptera_GBIF3860534914_IN124462917_488893.wav skipped as too short\n"
     ]
    },
    {
     "name": "stderr",
     "output_type": "stream",
     "text": [
      " 63%|██████▎   | 1097/1751 [01:05<00:28, 22.90it/s]"
     ]
    },
    {
     "name": "stdout",
     "output_type": "stream",
     "text": [
      "No silence remove applied: File 'Conocephalusfuscus_XC752383-dat034-006_edit1.wav' is too short (2.0sec)\n",
      "Conocephalusfuscus_XC752383-dat034-006_edit1.wav skipped as too short\n",
      "Platypleuraplumosa_MHV%201488%20P.plumosa%20Nanaga%20Rec%20%233_edit3.wav skipped as too short\n",
      "No silence remove applied: File 'Omocestusviridulus_XC752272-dat009-009_edit2.wav' is too short (5.0sec)\n",
      "Omocestusviridulus_XC752272-dat009-009_edit2.wav skipped as too short\n"
     ]
    },
    {
     "name": "stderr",
     "output_type": "stream",
     "text": [
      " 63%|██████▎   | 1100/1751 [01:05<00:26, 24.45it/s]"
     ]
    },
    {
     "name": "stdout",
     "output_type": "stream",
     "text": [
      "Eupholidopteraschmidti_XC751318-dat051-001_edit2.wav skipped as too short\n",
      "No silence remove applied: File 'Pseudochorthippusparallelus_XC751403-dat023-004_edit3.wav' is too short (2.0sec)\n",
      "Pseudochorthippusparallelus_XC751403-dat023-004_edit3.wav skipped as too short\n",
      "No silence remove applied: File 'Pholidopteraaptera_XC751364-dat145-005_edit4.wav' is too short (4.0sec)\n",
      "Pholidopteraaptera_XC751364-dat145-005_edit4.wav skipped as too short\n"
     ]
    },
    {
     "name": "stderr",
     "output_type": "stream",
     "text": [
      " 63%|██████▎   | 1103/1751 [01:06<00:31, 20.60it/s]"
     ]
    },
    {
     "name": "stdout",
     "output_type": "stream",
     "text": [
      "Yoyettarepetens_GBIF2563534788_IN37795015_55328.wav skipped as too shortPhaneropteranana_GBIF3872941251_IN125503136_495258.wav Long sample (33.14482993197279) and normal splitting\n",
      "\n",
      "No silence remove applied: File 'Chorthippusmollis_XC752523-dat198-001_edit4.wav' is too short (7.0sec)\n",
      "Chorthippusmollis_XC752523-dat198-001_edit4.wav skipped as too short\n",
      "No silence remove applied: File 'Stenobothrusstigmaticus_XC751551-dat014-006_edit4.wav' is too short (2.0sec)\n",
      "Stenobothrusstigmaticus_XC751551-dat014-006_edit4.wav skipped as too short\n"
     ]
    },
    {
     "name": "stderr",
     "output_type": "stream",
     "text": [
      " 63%|██████▎   | 1106/1751 [01:06<00:32, 20.12it/s]"
     ]
    },
    {
     "name": "stdout",
     "output_type": "stream",
     "text": [
      "No silence remove applied: File 'Omocestusrufipes_XC751626-dat015-009_edit3.wav' is too short (8.0sec)\n",
      "Omocestusrufipes_XC751626-dat015-009_edit3.wav skipped as too short\n",
      "Barbitistesyersini_XC752467-dat050-001.wav Long sample (217.45079365079366) and normal splitting\n",
      "No silence remove applied: File 'Pholidopteragriseoaptera_XC752321-dat005-041_edit4.wav' is too short (1.5sec)\n",
      "Pholidopteragriseoaptera_XC752321-dat005-041_edit4.wav skipped as too short\n"
     ]
    },
    {
     "name": "stderr",
     "output_type": "stream",
     "text": [
      " 63%|██████▎   | 1109/1751 [01:06<00:35, 17.95it/s]"
     ]
    },
    {
     "name": "stdout",
     "output_type": "stream",
     "text": [
      "Conocephalusfuscus_XC752054-dat036-002_edit5.wav skipped as too short\n",
      "Myrmeleotettixmaculatus_XC752586-dat009-005.wav Long sample (185.53655328798186) and normal splitting\n",
      "Oecanthuspellucens_XC752521-dat197-001_edit2.wav Long sample (30.96263038548753) and normal splitting\n",
      "Leptophyespunctatissima_XC751805-dat023-009_edit1.wav Long sample (43.018820861678) and normal splitting\n"
     ]
    },
    {
     "name": "stderr",
     "output_type": "stream",
     "text": [
      " 63%|██████▎   | 1111/1751 [01:07<01:11,  8.92it/s]"
     ]
    },
    {
     "name": "stdout",
     "output_type": "stream",
     "text": [
      "No silence remove applied: File 'Nemobiussylvestris_XC752032-dat004-035_edit2.wav' is too short (7.0sec)\n",
      "Nemobiussylvestris_XC752032-dat004-035_edit2.wav skipped as too short\n",
      "No silence remove applied: File 'Melanogryllusdesertus_XC752510-dat046-009_edit1.wav' is too short (7.0sec)\n",
      "Melanogryllusdesertus_XC752510-dat046-009_edit1.wav skipped as too short\n",
      "Atrapsaltaencaustica_GBIF2423094143_IN32813866_47059_edit1.wav skipped as too short\n"
     ]
    },
    {
     "name": "stderr",
     "output_type": "stream",
     "text": [
      " 64%|██████▎   | 1114/1751 [01:07<00:58, 10.87it/s]"
     ]
    },
    {
     "name": "stdout",
     "output_type": "stream",
     "text": [
      "Yoyettarepetens_GBIF2984406883_IN64632242_148006_edit1.wav skipped as too short\n"
     ]
    },
    {
     "name": "stderr",
     "output_type": "stream",
     "text": [
      " 64%|██████▎   | 1116/1751 [01:07<00:58, 10.85it/s]"
     ]
    },
    {
     "name": "stdout",
     "output_type": "stream",
     "text": [
      "No silence remove applied: File 'Tylopsislilifolia_XC751852-dat065-002_edit2.wav' is too short (4.0sec)\n",
      "Tylopsislilifolia_XC751852-dat065-002_edit2.wav skipped as too short\n",
      "No silence remove applied: File 'Tettigoniacantans_GBIF3889166497_IN127376843_504876.wav' is too short (9.229931972789116sec)\n",
      "Tettigoniaviridissima_XC751561-dat029-004.wav Long sample (34.29532879818594) and normal splittingTettigoniacantans_GBIF3889166497_IN127376843_504876.wav skipped as too short\n",
      "\n",
      "Roeselianaroeselii_XC752376-dat006-019.wav Long sample (280.57585034013607) and normal splitting\n"
     ]
    },
    {
     "name": "stderr",
     "output_type": "stream",
     "text": [
      " 64%|██████▍   | 1121/1751 [01:08<01:11,  8.81it/s]"
     ]
    },
    {
     "name": "stdout",
     "output_type": "stream",
     "text": [
      "Oecanthuspellucens_XC751823-dat176-001_edit2.wav skipped as too short\n",
      "Chorthippusbiguttulus_XC752339-dat004-024_edit1.wav skipped as too short\n"
     ]
    },
    {
     "name": "stderr",
     "output_type": "stream",
     "text": [
      " 64%|██████▍   | 1123/1751 [01:08<01:15,  8.34it/s]"
     ]
    },
    {
     "name": "stdout",
     "output_type": "stream",
     "text": [
      "Grylluscampestris_XC751588-dat008-017.wav Long sample (34.53263038548753) and normal splitting\n",
      "Neotibicenpruinosus_GBIF3399144680_IN86232168_270926_edit1.wav skipped as too short\n",
      "No silence remove applied: File 'Pholidopteralittoralis_XC752426-dat053-005_edit6.wav' is too short (4.0sec)\n",
      "Pholidopteralittoralis_XC752426-dat053-005_edit6.wav skipped as too shortPseudochorthippusparallelus_XC752308-dat004-013.wav Long sample (80.75984126984127) and normal splitting\n"
     ]
    },
    {
     "name": "stderr",
     "output_type": "stream",
     "text": [
      " 64%|██████▍   | 1125/1751 [01:08<01:05,  9.60it/s]"
     ]
    },
    {
     "name": "stdout",
     "output_type": "stream",
     "text": [
      "\n",
      "Chorthippusmollis_XC751955-dat024-011_edit3.wav skipped as too shortGrylluscampestris_XC751430-dat010-009.wav Long sample (322.7937641723356) and normal splitting\n",
      "\n"
     ]
    },
    {
     "name": "stderr",
     "output_type": "stream",
     "text": [
      " 64%|██████▍   | 1127/1751 [01:08<01:01, 10.11it/s]"
     ]
    },
    {
     "name": "stdout",
     "output_type": "stream",
     "text": [
      "No silence remove applied: File 'Achetadomesticus_XC489192-Achetadomesticus_poland_psz_20140510_22.00h_3498_edit1.wav' is too short (8.0sec)\n",
      "Achetadomesticus_XC489192-Achetadomesticus_poland_psz_20140510_22.00h_3498_edit1.wav skipped as too short\n",
      "Stenobothruslineatus_XC751988-dat018-001_edit4.wav skipped as too short\n"
     ]
    },
    {
     "name": "stderr",
     "output_type": "stream",
     "text": [
      " 64%|██████▍   | 1129/1751 [01:08<00:53, 11.59it/s]"
     ]
    },
    {
     "name": "stdout",
     "output_type": "stream",
     "text": [
      "Tettigoniacantans_XC751942-dat033-013_edit10.wav skipped as too short\n",
      "Omocestusrufipes_XC751627-dat015-011_edit3.wav skipped as too short\n"
     ]
    },
    {
     "name": "stderr",
     "output_type": "stream",
     "text": [
      " 65%|██████▍   | 1131/1751 [01:08<00:51, 11.93it/s]"
     ]
    },
    {
     "name": "stdout",
     "output_type": "stream",
     "text": [
      "No silence remove applied: File 'Chorthippusbrunneus_XC751379-dat005-042_edit1.wav' is too short (2.0sec)\n",
      "Chorthippusbrunneus_XC751379-dat005-042_edit1.wav skipped as too short\n"
     ]
    },
    {
     "name": "stderr",
     "output_type": "stream",
     "text": [
      " 65%|██████▍   | 1133/1751 [01:09<00:47, 12.99it/s]"
     ]
    },
    {
     "name": "stdout",
     "output_type": "stream",
     "text": [
      "No silence remove applied: File 'Nemobiussylvestris_No_ID_20170828_205643.M.wav' is too short (8.693990929705215sec)\n",
      "Nemobiussylvestris_No_ID_20170828_205643.M.wav skipped as too shortPholidopteraaptera_XC752411-dat097-008.wav Long sample (189.12825396825397) and normal splitting\n",
      "\n",
      "No silence remove applied: File 'Pholidopteralittoralis_XC752438-dat048-002_edit4.wav' is too short (1.6999773242630385sec)\n",
      "Pholidopteralittoralis_XC752438-dat048-002_edit4.wav skipped as too short\n",
      "Chorthippusbrunneus_XC751406-dat024-015_edit7.wav skipped as too short\n",
      "No silence remove applied: File 'Melanogryllusdesertus_XC753805-Melanogryllus-desertus-Poggio-Renatico_OK_20200506_190847_1CH250K16_edit1.wav' is too short (4.0sec)\n",
      "Melanogryllusdesertus_XC753805-Melanogryllus-desertus-Poggio-Renatico_OK_20200506_190847_1CH250K16_edit1.wav skipped as too short\n"
     ]
    },
    {
     "name": "stderr",
     "output_type": "stream",
     "text": [
      " 65%|██████▍   | 1137/1751 [01:09<00:33, 18.24it/s]"
     ]
    },
    {
     "name": "stdout",
     "output_type": "stream",
     "text": [
      "Barbitistesyersini_XC752470-dat049-004_edit3.wav skipped as too short\n",
      "Chorthippusvagans_XC751929-dat140-003_edit1.wav skipped as too short\n",
      "Conocephalusfuscus_XC752685-220924_Conocephalus-fuscus_01_edit5.wav Long sample (31.990385487528346) and normal splitting\n",
      "Platycleisalbopunctata_XC751518-dat003-018.wav skipped as too short\n"
     ]
    },
    {
     "name": "stderr",
     "output_type": "stream",
     "text": [
      " 65%|██████▌   | 1140/1751 [01:09<00:40, 14.91it/s]"
     ]
    },
    {
     "name": "stdout",
     "output_type": "stream",
     "text": [
      "No silence remove applied: File 'Tettigoniacantans_XC751946-dat034-025_edit8.wav' is too short (8.3sec)\n",
      "Tettigoniacantans_XC751946-dat034-025_edit8.wav skipped as too short\n",
      "Gampsocleisglabra_XC752045-dat125-016.wav Long sample (153.0652380952381) and normal splitting\n"
     ]
    },
    {
     "name": "stderr",
     "output_type": "stream",
     "text": [
      " 65%|██████▌   | 1142/1751 [01:09<00:44, 13.64it/s]"
     ]
    },
    {
     "name": "stdout",
     "output_type": "stream",
     "text": [
      "Leptophyespunctatissima_XC751807-dat023-014_edit3.wav skipped as too short\n"
     ]
    },
    {
     "name": "stderr",
     "output_type": "stream",
     "text": [
      " 65%|██████▌   | 1144/1751 [01:09<00:41, 14.76it/s]"
     ]
    },
    {
     "name": "stdout",
     "output_type": "stream",
     "text": [
      "Nemobiussylvestris_XC751786-dat007-016.wav Long sample (43.77181405895691) and normal splitting\n"
     ]
    },
    {
     "name": "stderr",
     "output_type": "stream",
     "text": [
      " 65%|██████▌   | 1146/1751 [01:10<01:20,  7.56it/s]"
     ]
    },
    {
     "name": "stdout",
     "output_type": "stream",
     "text": [
      "No silence remove applied: File 'Chorthippusvagans_XC751928-dat140-002_edit2.wav' is too short (5.0sec)\n",
      "Chorthippusvagans_XC751928-dat140-002_edit2.wav skipped as too short\n",
      "Bicoloranabicolor_XC752106-dat061-001_edit1.wav skipped as too short\n"
     ]
    },
    {
     "name": "stderr",
     "output_type": "stream",
     "text": [
      " 66%|██████▌   | 1148/1751 [01:10<01:20,  7.45it/s]"
     ]
    },
    {
     "name": "stdout",
     "output_type": "stream",
     "text": [
      "Ephippigerdiurnus_XC752120-dat064-017.wav Long sample (91.91666666666667) and normal splitting\n"
     ]
    },
    {
     "name": "stderr",
     "output_type": "stream",
     "text": [
      " 66%|██████▌   | 1150/1751 [01:10<01:14,  8.04it/s]"
     ]
    },
    {
     "name": "stdout",
     "output_type": "stream",
     "text": [
      "No silence remove applied: File 'Chorthippusbrunneus_XC751831-dat001-040_edit2.wav' is too short (4.0sec)\n",
      "Chorthippusbrunneus_XC751831-dat001-040_edit2.wav skipped as too short\n",
      "No silence remove applied: File 'Tylopsislilifolia_XC751310-dat066-014_edit6.wav' is too short (2.0sec)\n",
      "Tylopsislilifolia_XC751310-dat066-014_edit6.wav skipped as too short\n",
      "No silence remove applied: File 'Conocephalusfuscus_XC752386-dat034-027_edit1.wav' is too short (6.0sec)\n",
      "Conocephalusfuscus_XC752386-dat034-027_edit1.wav skipped as too short\n",
      "Phaneropterafalcata_XC751663-dat036-008_edit3.wav Long sample (34.55412698412698) and normal splitting\n",
      "Platypleuracfcatenata_MHV%20286%20P.catenata%20Grabow%20%232_edit1.wav skipped as too short\n"
     ]
    },
    {
     "name": "stderr",
     "output_type": "stream",
     "text": [
      " 66%|██████▌   | 1154/1751 [01:10<00:52, 11.38it/s]"
     ]
    },
    {
     "name": "stdout",
     "output_type": "stream",
     "text": [
      "No silence remove applied: File 'Phaneropterafalcata_XC751663-dat036-008_edit2.wav' is too short (4.0sec)\n",
      "Phaneropterafalcata_XC751663-dat036-008_edit2.wav skipped as too short\n",
      "Ruspolianitidula_XC751709-dat064-021.wav Long sample (218.1484580498866) and normal splitting\n"
     ]
    },
    {
     "name": "stderr",
     "output_type": "stream",
     "text": [
      " 66%|██████▌   | 1156/1751 [01:11<00:56, 10.61it/s]"
     ]
    },
    {
     "name": "stdout",
     "output_type": "stream",
     "text": [
      "Grylluscampestris_XC751434-dat010-013_edit1.wav skipped as too short\n",
      "Diceroproctaeugraphica_GBIF3415492691_IN83523175_259387.wav Long sample (33.39736961451247) and normal splitting\n"
     ]
    },
    {
     "name": "stderr",
     "output_type": "stream",
     "text": [
      " 66%|██████▌   | 1158/1751 [01:11<00:57, 10.27it/s]"
     ]
    },
    {
     "name": "stdout",
     "output_type": "stream",
     "text": [
      "No silence remove applied: File 'Yoyettacelis_GBIF1949992946_IN18885947_28239.wav' is too short (5.607619047619048sec)\n",
      "Yoyettacelis_GBIF1949992946_IN18885947_28239.wav skipped as too short\n"
     ]
    },
    {
     "name": "stderr",
     "output_type": "stream",
     "text": [
      " 66%|██████▌   | 1160/1751 [01:11<01:04,  9.21it/s]"
     ]
    },
    {
     "name": "stdout",
     "output_type": "stream",
     "text": [
      "Phaneropteranana_XC751911-dat066-003_edit1.wav Long sample (50.17281179138322) and normal splitting\n",
      "Metriopterabrachyptera_XC752084-dat001-013.wav Long sample (77.01351473922902) and normal splitting\n",
      "Platypleurasp13_MHV%201490%20P.sp%2013%20Gamtoos%20Pass%20%232_edit1.wav Long sample (57.79641723356009) and normal splitting\n",
      "Leptophyespunctatissima_XC751896-dat023-012.wav Long sample (239.05478458049888) and normal splitting\n",
      "Platypleuraplumosa_MHV%20329%20P.plumosa%20Steydtlerville%20%231_edit1.wav Long sample (40.4987074829932) and normal splitting\n"
     ]
    },
    {
     "name": "stderr",
     "output_type": "stream",
     "text": [
      " 66%|██████▋   | 1162/1751 [01:12<01:42,  5.75it/s]"
     ]
    },
    {
     "name": "stdout",
     "output_type": "stream",
     "text": [
      "No silence remove applied: File 'Chorthippusvagans_XC751928-dat140-002_edit3.wav' is too short (6.0sec)\n",
      "Chorthippusvagans_XC751928-dat140-002_edit3.wav skipped as too short\n"
     ]
    },
    {
     "name": "stderr",
     "output_type": "stream",
     "text": [
      " 66%|██████▋   | 1164/1751 [01:12<01:22,  7.10it/s]"
     ]
    },
    {
     "name": "stdout",
     "output_type": "stream",
     "text": [
      "Phaneropteranana_XC751918-dat067-003_edit1.wav skipped as too short\n",
      "No silence remove applied: File 'Popplepsaltanotialis_GBIF1935595545_IN18076382_27035.wav' is too short (8.126984126984127sec)\n",
      "Popplepsaltanotialis_GBIF1935595545_IN18076382_27035.wav skipped as too short\n",
      "Chorthippusbiguttulus_XC751877-dat149-002_edit1.wav skipped as too short\n"
     ]
    },
    {
     "name": "stderr",
     "output_type": "stream",
     "text": [
      " 67%|██████▋   | 1168/1751 [01:12<00:54, 10.63it/s]"
     ]
    },
    {
     "name": "stdout",
     "output_type": "stream",
     "text": [
      "Leptophyespunctatissima_XC751807-dat023-014_edit2.wav skipped as too short\n",
      "Chorthippusapricarius_XC752595-dat004-030.wav skipped as too short\n"
     ]
    },
    {
     "name": "stderr",
     "output_type": "stream",
     "text": [
      " 67%|██████▋   | 1171/1751 [01:12<00:43, 13.27it/s]"
     ]
    },
    {
     "name": "stdout",
     "output_type": "stream",
     "text": [
      "Conocephalusfuscus_XC752685-220924_Conocephalus-fuscus_01_edit4.wav skipped as too short\n",
      "Tettigoniacantans_XC751564-dat027-003.wav skipped as too short\n"
     ]
    },
    {
     "name": "stderr",
     "output_type": "stream",
     "text": [
      " 67%|██████▋   | 1173/1751 [01:12<00:40, 14.28it/s]"
     ]
    },
    {
     "name": "stdout",
     "output_type": "stream",
     "text": [
      "No silence remove applied: File 'Chorthippusbiguttulus_CHOBIG_20190906_164243.M.wav' is too short (6.645736961451247sec)\n",
      "Chorthippusbiguttulus_CHOBIG_20190906_164243.M.wav skipped as too short\n",
      "Leptophyespunctatissima_XC751894-dat023-007_edit1.wav skipped as too short\n",
      "No silence remove applied: File 'Barbitistesyersini_XC752470-dat049-004_edit2.wav' is too short (8.0sec)\n",
      "Barbitistesyersini_XC752470-dat049-004_edit2.wav skipped as too short\n"
     ]
    },
    {
     "name": "stderr",
     "output_type": "stream",
     "text": [
      " 67%|██████▋   | 1176/1751 [01:12<00:33, 16.95it/s]"
     ]
    },
    {
     "name": "stdout",
     "output_type": "stream",
     "text": [
      "No silence remove applied: File 'Yoyettacelis_GBIF2868389412_IN60387524_137723_edit1.wav' is too short (2.39sec)\n",
      "Yoyettacelis_GBIF2868389412_IN60387524_137723_edit1.wav skipped as too short\n",
      "No silence remove applied: File 'Omocestuspetraeus_XC752472-dat055-009_edit1.wav' is too short (9.0sec)\n",
      "Omocestuspetraeus_XC752472-dat055-009_edit1.wav skipped as too short\n",
      "Chorthippusbrunneus_XC751406-dat024-015_edit6.wav skipped as too short\n",
      "Conocephalusfuscus_XC752061-dat037-008_edit2.wav Long sample (62.73192743764172) and normal splitting\n"
     ]
    },
    {
     "name": "stderr",
     "output_type": "stream",
     "text": [
      " 67%|██████▋   | 1179/1751 [01:13<00:38, 14.70it/s]"
     ]
    },
    {
     "name": "stdout",
     "output_type": "stream",
     "text": [
      "No silence remove applied: File 'Stenobothrusstigmaticus_XC751546-dat014-001.wav' is too short (7.387823129251701sec)Omocestusrufipes_XC751627-dat015-011_edit2.wav Long sample (30.143151927437643) and normal splitting\n",
      "\n",
      "Stenobothrusstigmaticus_XC751546-dat014-001.wav skipped as too short\n",
      "No silence remove applied: File 'Chorthippusmollis_XC751955-dat024-011_edit2.wav' is too short (6.0sec)\n",
      "Chorthippusmollis_XC751955-dat024-011_edit2.wav skipped as too short\n",
      "Stenobothruslineatus_XC751988-dat018-001_edit5.wav skipped as too short\n"
     ]
    },
    {
     "name": "stderr",
     "output_type": "stream",
     "text": [
      " 68%|██████▊   | 1182/1751 [01:13<00:41, 13.62it/s]"
     ]
    },
    {
     "name": "stdout",
     "output_type": "stream",
     "text": [
      "No silence remove applied: File 'Tylopsislilifolia_XC751313-dat066-017_edit2.wav' is too short (7.0sec)\n",
      "Tylopsislilifolia_XC751313-dat066-017_edit2.wav skipped as too short\n"
     ]
    },
    {
     "name": "stderr",
     "output_type": "stream",
     "text": [
      " 68%|██████▊   | 1185/1751 [01:13<00:36, 15.33it/s]"
     ]
    },
    {
     "name": "stdout",
     "output_type": "stream",
     "text": [
      "Eumodicogryllusbordigalensis_GBIF3784923554_IN116866593_436868.wav skipped as too short\n",
      "Tettigoniaviridissima_Ultramic_20130809 212842.M.wav skipped as too short\n",
      "Decticusverrucivorus_XC751965-dat016-011_edit1.wav skipped as too short"
     ]
    },
    {
     "name": "stderr",
     "output_type": "stream",
     "text": [
      " 68%|██████▊   | 1188/1751 [01:13<00:32, 17.44it/s]"
     ]
    },
    {
     "name": "stdout",
     "output_type": "stream",
     "text": [
      "\n",
      "No silence remove applied: File 'Platypleurasp10_MHV%20313%20P.sp10%20Die%20Koo%20%237b_edit1.wav' is too short (1.25sec)\n",
      "Platypleurasp10_MHV%20313%20P.sp10%20Die%20Koo%20%237b_edit1.wav skipped as too short\n",
      "No silence remove applied: File 'Nemobiussylvestris_XC752032-dat004-035_edit3.wav' is too short (3.0sec)\n",
      "Nemobiussylvestris_XC752032-dat004-035_edit3.wav skipped as too short\n"
     ]
    },
    {
     "name": "stderr",
     "output_type": "stream",
     "text": [
      " 68%|██████▊   | 1191/1751 [01:13<00:29, 19.05it/s]"
     ]
    },
    {
     "name": "stdout",
     "output_type": "stream",
     "text": [
      "Omocestusrufipes_XC751789-dat021-002_edit4.wav skipped as too short\n",
      "Conocephalusfuscus_XC752054-dat036-002_edit4.wav skipped as too short\n",
      "Omocestusrufipes_XC751626-dat015-009_edit2.wav skipped as too short\n",
      "No silence remove applied: File 'Stenobothrusstigmaticus_XC751551-dat014-006_edit5.wav' is too short (3.0sec)\n"
     ]
    },
    {
     "name": "stderr",
     "output_type": "stream",
     "text": [
      " 68%|██████▊   | 1194/1751 [01:14<00:27, 19.89it/s]"
     ]
    },
    {
     "name": "stdout",
     "output_type": "stream",
     "text": [
      "Stenobothrusstigmaticus_XC751551-dat014-006_edit5.wav skipped as too short\n",
      "No silence remove applied: File 'Pseudochorthippusparallelus_XC751396-dat023-006_edit1.wav' is too short (9.0sec)\n",
      "Pseudochorthippusparallelus_XC751396-dat023-006_edit1.wav skipped as too short\n",
      "Chorthippusmollis_XC752523-dat198-001_edit5.wav skipped as too short\n"
     ]
    },
    {
     "name": "stderr",
     "output_type": "stream",
     "text": [
      " 68%|██████▊   | 1197/1751 [01:14<00:27, 19.86it/s]"
     ]
    },
    {
     "name": "stdout",
     "output_type": "stream",
     "text": [
      "Decticusverrucivorus_XC751328-dat098-007_edit2.wav Long sample (143.0546031746032) and normal splitting\n",
      "Oecanthuspellucens_XC751823-dat176-001_edit3.wav Long sample (44.921678004535146) and normal splitting\n",
      "Nemobiussylvestris_GBIF3912395896_IN135348247_536969.wav skipped as too shortYoyettarepetens_GBIF1978842537_IN19185924_28539.wav skipped as too short\n",
      "\n",
      "No silence remove applied: File 'Yoyettacelis_GBIF1933590220_IN17997890_26904.wav' is too short (5.363809523809524sec)No silence remove applied: File 'Pholidopteraaptera_XC751364-dat145-005_edit5.wav' is too short (3.0sec)\n",
      "Yoyettacelis_GBIF1933590220_IN17997890_26904.wav skipped as too short\n",
      "\n",
      "Pholidopteraaptera_XC751364-dat145-005_edit5.wav skipped as too short"
     ]
    },
    {
     "name": "stderr",
     "output_type": "stream",
     "text": [
      " 69%|██████▊   | 1200/1751 [01:14<00:29, 18.66it/s]"
     ]
    },
    {
     "name": "stdout",
     "output_type": "stream",
     "text": [
      "\n",
      "Chorthippusmollis_XC751781-dat007-013.wav skipped as too short\n",
      "No silence remove applied: File 'Pseudochorthippusparallelus_XC751403-dat023-004_edit2.wav' is too short (4.0sec)Tettigoniaviridissima_XC751465-dat020-004.wav Long sample (449.5383446712018) and normal splitting\n",
      "\n",
      "Pseudochorthippusparallelus_XC751403-dat023-004_edit2.wav skipped as too short\n"
     ]
    },
    {
     "name": "stderr",
     "output_type": "stream",
     "text": [
      " 69%|██████▊   | 1203/1751 [01:14<00:27, 19.60it/s]"
     ]
    },
    {
     "name": "stdout",
     "output_type": "stream",
     "text": [
      "Eupholidopteraschmidti_XC751318-dat051-001_edit3.wav skipped as too short\n",
      "No silence remove applied: File 'Conocephalusfuscus_GBIF3044675201_IN69619165_164377_edit1.wav' is too short (7.429705215419501sec)\n",
      "Conocephalusdorsalis_XC752378-dat027-020.wav Long sample (43.33551020408163) and normal splitting\n",
      "Conocephalusfuscus_GBIF3044675201_IN69619165_164377_edit1.wav skipped as too short\n"
     ]
    },
    {
     "name": "stderr",
     "output_type": "stream",
     "text": [
      " 69%|██████▉   | 1206/1751 [01:14<00:29, 18.51it/s]"
     ]
    },
    {
     "name": "stdout",
     "output_type": "stream",
     "text": [
      "Platypleuraplumosa_MHV%201488%20P.plumosa%20Nanaga%20Rec%20%233_edit2.wav skipped as too short\n",
      "No silence remove applied: File 'Omocestusviridulus_XC752272-dat009-009_edit3.wav' is too short (5.0sec)\n",
      "Omocestusviridulus_XC752272-dat009-009_edit3.wav skipped as too short\n",
      "No silence remove applied: File 'Tylopsislilifolia_XC751312-dat066-016_edit1.wav' is too short (3.0sec)\n",
      "Tylopsislilifolia_XC751312-dat066-016_edit1.wav skipped as too short\n",
      "No silence remove applied: File 'Omocestusviridulus_XC752272-dat009-009_edit1.wav' is too short (5.0sec)\n",
      "Platypleurasp13_MHV%201487%20P.sp%2013%20nr%20Thornhill%20%231_edit1.wav skipped as too shortOmocestusviridulus_XC752272-dat009-009_edit1.wav skipped as too short\n",
      "\n",
      "No silence remove applied: File 'Conocephalusfuscus_XC752383-dat034-006_edit2.wav' is too short (2.0sec)\n",
      "No silence remove applied: File 'Tylopsislilifolia_XC751312-dat066-016_edit3.wav' is too short (4.0sec)Conocephalusfuscus_XC752383-dat034-006_edit2.wav skipped as too short\n",
      "\n"
     ]
    },
    {
     "name": "stderr",
     "output_type": "stream",
     "text": [
      " 69%|██████▉   | 1212/1751 [01:14<00:20, 26.35it/s]"
     ]
    },
    {
     "name": "stdout",
     "output_type": "stream",
     "text": [
      "Tylopsislilifolia_XC751312-dat066-016_edit3.wav skipped as too short\n",
      "No silence remove applied: File 'Pseudochorthippusmontanus_XC752600-dat011-007_edit5.wav' is too short (4.0sec)\n",
      "Pseudochorthippusmontanus_XC752600-dat011-007_edit5.wav skipped as too short\n",
      "Eupholidopteraschmidti_XC751318-dat051-001_edit1.wav skipped as too short\n"
     ]
    },
    {
     "name": "stderr",
     "output_type": "stream",
     "text": [
      " 69%|██████▉   | 1215/1751 [01:15<00:26, 20.60it/s]"
     ]
    },
    {
     "name": "stdout",
     "output_type": "stream",
     "text": [
      "No silence remove applied: File 'Atrapsaltacorticina_GBIF2529302141_IN36604781_52736_edit1.wav' is too short (9.0sec)\n",
      "Atrapsaltacorticina_GBIF2529302141_IN36604781_52736_edit1.wav skipped as too short\n",
      "Platycleisalbopunctata_XC751613-dat028-021_edit2.wav Long sample (165.0997052154195) and normal splitting\n"
     ]
    },
    {
     "name": "stderr",
     "output_type": "stream",
     "text": [
      " 70%|██████▉   | 1218/1751 [01:15<00:28, 18.73it/s]"
     ]
    },
    {
     "name": "stdout",
     "output_type": "stream",
     "text": [
      "Achetadomesticus_XC751748-dat009-002_edit3.wav Long sample (545.4739229024943) and normal splitting\n",
      "No silence remove applied: File 'Yoyettacelis_GBIF1933590280_IN17998287_26910_edit1.wav' is too short (4.0sec)\n",
      "Yoyettacelis_GBIF1933590280_IN17998287_26910_edit1.wav skipped as too short\n",
      "No silence remove applied: File 'Pseudochorthippusparallelus_XC751396-dat023-006_edit3.wav' is too short (4.0sec)\n",
      "Pseudochorthippusparallelus_XC751396-dat023-006_edit3.wav skipped as too short\n",
      "Roeselianaroeselii_XC751695-dat025-003.wav skipped as too short\n"
     ]
    },
    {
     "name": "stderr",
     "output_type": "stream",
     "text": [
      " 70%|██████▉   | 1221/1751 [01:15<00:33, 15.73it/s]"
     ]
    },
    {
     "name": "stdout",
     "output_type": "stream",
     "text": [
      "Grylluscampestris_XC751587-dat008-016.wav Long sample (44.757551020408165) and normal splitting\n",
      "Chrysochraondispar_XC752557-dat026-034.wav Long sample (59.36253968253968) and normal splitting\n"
     ]
    },
    {
     "name": "stderr",
     "output_type": "stream",
     "text": [
      " 70%|██████▉   | 1223/1751 [01:15<00:52,  9.98it/s]"
     ]
    },
    {
     "name": "stdout",
     "output_type": "stream",
     "text": [
      "Nemobiussylvestris_XC752032-dat004-035_edit1.wav skipped as too short\n",
      "No silence remove applied: File 'Melanogryllusdesertus_XC752510-dat046-009_edit2.wav' is too short (4.0sec)No silence remove applied: File 'Psaltodaplaga_GBIF2005347247_IN20371598_31299.wav' is too short (6.095238095238095sec)\n",
      "Melanogryllusdesertus_XC752510-dat046-009_edit2.wav skipped as too short\n",
      "Psaltodaplaga_GBIF2005347247_IN20371598_31299.wav skipped as too short\n",
      "\n"
     ]
    },
    {
     "name": "stderr",
     "output_type": "stream",
     "text": [
      " 70%|███████   | 1227/1751 [01:16<00:51, 10.19it/s]"
     ]
    },
    {
     "name": "stdout",
     "output_type": "stream",
     "text": [
      "Leptophyespunctatissima_XC751805-dat023-009_edit2.wav Long sample (44.67426303854875) and normal splitting\n",
      "Gryllusbimaculatus_XC751742-dat007-017.wav Long sample (34.33374149659864) and normal splitting\n",
      "Oecanthuspellucens_XC752521-dat197-001_edit1.wav Long sample (99.50952380952381) and normal splitting\n"
     ]
    },
    {
     "name": "stderr",
     "output_type": "stream",
     "text": [
      " 70%|███████   | 1229/1751 [01:16<01:03,  8.19it/s]"
     ]
    },
    {
     "name": "stdout",
     "output_type": "stream",
     "text": [
      "No silence remove applied: File 'Barbitistesyersini_XC752464-dat047-012_edit5.wav' is too short (4.0sec)\n",
      "Barbitistesyersini_XC752464-dat047-012_edit5.wav skipped as too short\n",
      "No silence remove applied: File 'Platypleurasp10_MHV%20313%20P.sp10%20Die%20Koo%20%237b_edit3.wav' is too short (1.0sec)\n",
      "Platypleurasp10_MHV%20313%20P.sp10%20Die%20Koo%20%237b_edit3.wav skipped as too short\n",
      "Chorthippusbiguttulus_XC751616-dat001-049.wav skipped as too short\n"
     ]
    },
    {
     "name": "stderr",
     "output_type": "stream",
     "text": [
      " 70%|███████   | 1232/1751 [01:17<00:56,  9.11it/s]"
     ]
    },
    {
     "name": "stdout",
     "output_type": "stream",
     "text": [
      "Pseudochorthippusmontanus_XC752607-dat016-017.wav Long sample (42.82274376417234) and normal splitting\n",
      "Roeselianaroeselii_GBIF3314568568_IN84303163_261027.wav skipped as too short\n"
     ]
    },
    {
     "name": "stderr",
     "output_type": "stream",
     "text": [
      " 70%|███████   | 1234/1751 [01:17<01:10,  7.33it/s]"
     ]
    },
    {
     "name": "stdout",
     "output_type": "stream",
     "text": [
      "No silence remove applied: File 'Tylopsislilifolia_XC751852-dat065-002_edit1.wav' is too short (5.0sec)\n",
      "Tylopsislilifolia_XC751852-dat065-002_edit1.wav skipped as too short\n",
      "Gampsocleisglabra_XC751680-dat008-025_edit1.wav Long sample (278.3087074829932) and normal splitting\n"
     ]
    },
    {
     "name": "stderr",
     "output_type": "stream",
     "text": [
      " 71%|███████   | 1237/1751 [01:17<00:54,  9.42it/s]"
     ]
    },
    {
     "name": "stdout",
     "output_type": "stream",
     "text": [
      "No silence remove applied: File 'Chorthippusbiguttulus_XC752339-dat004-024_edit2.wav' is too short (3.0sec)\n",
      "Chorthippusbiguttulus_XC752339-dat004-024_edit2.wav skipped as too short\n",
      "No silence remove applied: File 'Chorthippusbrunneus_XC751379-dat005-042_edit2.wav' is too short (2.0sec)\n",
      "Chorthippusbrunneus_XC751379-dat005-042_edit2.wav skipped as too short\n",
      "No silence remove applied: File 'Omocestuspetraeus_XC752472-dat055-009_edit3.wav' is too short (8.0sec)\n",
      "Omocestuspetraeus_XC752472-dat055-009_edit3.wav skipped as too short\n",
      "Oecanthuspellucens_XC751823-dat176-001_edit1.wav skipped as too short\n"
     ]
    },
    {
     "name": "stderr",
     "output_type": "stream",
     "text": [
      " 71%|███████   | 1241/1751 [01:17<00:39, 12.96it/s]"
     ]
    },
    {
     "name": "stdout",
     "output_type": "stream",
     "text": [
      "Achetadomesticus_XC489192-Achetadomesticus_poland_psz_20140510_22.00h_3498_edit2.wav skipped as too short\n",
      "No silence remove applied: File 'Pholidopteralittoralis_XC752426-dat053-005_edit5.wav' is too short (5.0sec)\n",
      "Pholidopteralittoralis_XC752426-dat053-005_edit5.wav skipped as too short\n"
     ]
    },
    {
     "name": "stderr",
     "output_type": "stream",
     "text": [
      " 71%|███████   | 1243/1751 [01:17<00:38, 13.30it/s]"
     ]
    },
    {
     "name": "stdout",
     "output_type": "stream",
     "text": [
      "Stenobothruslineatus_XC751988-dat018-001_edit7.wav skipped as too short\n",
      "Gampsocleisglabra_XC752043-dat125-012.wav Long sample (155.7693650793651) and normal splitting\n",
      "Neotibicenpruinosus_GBIF2826434693_IN54790347_125678.wav skipped as too short\n",
      "Chorthippusbrunneus_XC751406-dat024-015_edit4.wav skipped as too short\n"
     ]
    },
    {
     "name": "stderr",
     "output_type": "stream",
     "text": [
      " 71%|███████   | 1246/1751 [01:18<00:37, 13.39it/s]"
     ]
    },
    {
     "name": "stdout",
     "output_type": "stream",
     "text": [
      "Conocephalusfuscus_XC752685-220924_Conocephalus-fuscus_01_edit6.wav skipped as too short\n",
      "No silence remove applied: File 'Yoyettacelis_GBIF2445076529_IN34812294_49125.wav' is too short (8.8sec)\n",
      "Yoyettacelis_GBIF2445076529_IN34812294_49125.wav skipped as too short\n"
     ]
    },
    {
     "name": "stderr",
     "output_type": "stream",
     "text": [
      " 71%|███████▏  | 1248/1751 [01:18<00:35, 14.33it/s]"
     ]
    },
    {
     "name": "stdout",
     "output_type": "stream",
     "text": [
      "Chorthippusmollis_XC751991-dat020-003_edit4.wav skipped as too short\n",
      "No silence remove applied: File 'Melanogryllusdesertus_XC753805-Melanogryllus-desertus-Poggio-Renatico_OK_20200506_190847_1CH250K16_edit2.wav' is too short (4.0sec)\n",
      "Melanogryllusdesertus_XC753805-Melanogryllus-desertus-Poggio-Renatico_OK_20200506_190847_1CH250K16_edit2.wav skipped as too short\n"
     ]
    },
    {
     "name": "stderr",
     "output_type": "stream",
     "text": [
      " 71%|███████▏  | 1250/1751 [01:18<00:37, 13.44it/s]"
     ]
    },
    {
     "name": "stdout",
     "output_type": "stream",
     "text": [
      "Chorthippusvagans_XC751929-dat140-003_edit2.wav skipped as too short\n",
      "Platypleuraplumosa_MHV%20321%20P.plumosa%20Ghwarriepoort%20River%20%232.wav Long sample (140.86893424036282) and normal splitting\n"
     ]
    },
    {
     "name": "stderr",
     "output_type": "stream",
     "text": [
      " 72%|███████▏  | 1252/1751 [01:18<01:02,  8.01it/s]"
     ]
    },
    {
     "name": "stdout",
     "output_type": "stream",
     "text": [
      "Phaneropteranana_XC751912-dat066-001.wav Long sample (275.1639682539683) and normal splitting\n",
      "No silence remove applied: File 'Oecanthuspellucens_XC752522-dat197-002_edit4.wav' is too short (6.0sec)\n",
      "Oecanthuspellucens_XC752522-dat197-002_edit4.wav skipped as too short\n",
      "Chorthippusvagans_XC751928-dat140-002_edit1.wav skipped as too short\n"
     ]
    },
    {
     "name": "stderr",
     "output_type": "stream",
     "text": [
      " 72%|███████▏  | 1255/1751 [01:19<00:48, 10.32it/s]"
     ]
    },
    {
     "name": "stdout",
     "output_type": "stream",
     "text": [
      "Chorthippusapricarius_XC752124-dat033-014_edit5.wav Long sample (81.49916099773243) and normal splitting\n",
      "Tettigoniacantans_XC753839-Tettigonia-cantans-MadonnaDellAcero_28_07_07_OK_2CH44K16.wav Long sample (196.00108843537416) and normal splitting\n",
      "Phaneropteranana_XC751911-dat066-003_edit3.wav Long sample (52.228820861678) and normal splitting\n",
      "Chorthippusbiguttulus_XC751877-dat149-002_edit3.wav skipped as too short\n"
     ]
    },
    {
     "name": "stderr",
     "output_type": "stream",
     "text": [
      " 72%|███████▏  | 1257/1751 [01:19<01:02,  7.92it/s]"
     ]
    },
    {
     "name": "stdout",
     "output_type": "stream",
     "text": [
      "Tettigoniaviridissima_XC751560-dat029-003.wav Long sample (81.28950113378684) and normal splitting\n",
      "Phaneropteranana_XC751918-dat067-003_edit3.wav skipped as too short\n"
     ]
    },
    {
     "name": "stderr",
     "output_type": "stream",
     "text": [
      " 72%|███████▏  | 1259/1751 [01:19<00:57,  8.53it/s]"
     ]
    },
    {
     "name": "stdout",
     "output_type": "stream",
     "text": [
      "Grylluscampestris_XC751434-dat010-013_edit3.wav skipped as too short\n"
     ]
    },
    {
     "name": "stderr",
     "output_type": "stream",
     "text": [
      " 72%|███████▏  | 1261/1751 [01:19<00:51,  9.43it/s]"
     ]
    },
    {
     "name": "stdout",
     "output_type": "stream",
     "text": [
      "No silence remove applied: File 'Chorthippusbrunneus_XC751831-dat001-040_edit1.wav' is too short (2.0sec)\n",
      "Chorthippusbrunneus_XC751831-dat001-040_edit1.wav skipped as too short\n",
      "No silence remove applied: File 'Conocephalusfuscus_XC752386-dat034-027_edit2.wav' is too short (4.0sec)\n",
      "Conocephalusfuscus_XC752386-dat034-027_edit2.wav skipped as too shortNo silence remove applied: File 'Tylopsislilifolia_XC751310-dat066-014_edit5.wav' is too short (3.0sec)\n",
      "\n",
      "Tylopsislilifolia_XC751310-dat066-014_edit5.wav skipped as too short\n",
      "No silence remove applied: File 'Tylopsislilifolia_XC751310-dat066-014_edit4.wav' is too short (3.0sec)\n",
      "Tylopsislilifolia_XC751310-dat066-014_edit4.wav skipped as too short\n",
      "Conocephalusfuscus_XC752386-dat034-027_edit3.wav skipped as too short\n"
     ]
    },
    {
     "name": "stderr",
     "output_type": "stream",
     "text": [
      " 72%|███████▏  | 1267/1751 [01:19<00:28, 16.85it/s]"
     ]
    },
    {
     "name": "stdout",
     "output_type": "stream",
     "text": [
      "Bicoloranabicolor_XC752106-dat061-001_edit2.wav Long sample (68.418231292517) and normal splitting\n",
      "Platypleuracfcatenata_MHV%20286%20P.catenata%20Grabow%20%232_edit2.wav Long sample (73.77401360544218) and normal splitting\n"
     ]
    },
    {
     "name": "stderr",
     "output_type": "stream",
     "text": [
      " 73%|███████▎  | 1270/1751 [01:20<00:48,  9.97it/s]"
     ]
    },
    {
     "name": "stdout",
     "output_type": "stream",
     "text": [
      "Phaneropterafalcata_XC751663-dat036-008_edit1.wav skipped as too short\n"
     ]
    },
    {
     "name": "stderr",
     "output_type": "stream",
     "text": [
      " 73%|███████▎  | 1272/1751 [01:20<00:48,  9.95it/s]"
     ]
    },
    {
     "name": "stdout",
     "output_type": "stream",
     "text": [
      "Chorthippusbiguttulus_XC751877-dat149-002_edit2.wav skipped as too short\n",
      "Phaneropteranana_XC751918-dat067-003_edit2.wav Long sample (36.228684807256236) and normal splitting\n",
      "Chorthippusbrunneus_XC751371-dat001-022.wav skipped as too short\n"
     ]
    },
    {
     "name": "stderr",
     "output_type": "stream",
     "text": [
      " 73%|███████▎  | 1274/1751 [01:20<00:47,  9.94it/s]"
     ]
    },
    {
     "name": "stdout",
     "output_type": "stream",
     "text": [
      "No silence remove applied: File 'Galangalabeculata_GBIF2465350098_IN36344098_51717.wav' is too short (4.4sec)\n",
      "Galangalabeculata_GBIF2465350098_IN36344098_51717.wav skipped as too short\n"
     ]
    },
    {
     "name": "stderr",
     "output_type": "stream",
     "text": [
      " 73%|███████▎  | 1277/1751 [01:21<00:41, 11.50it/s]"
     ]
    },
    {
     "name": "stdout",
     "output_type": "stream",
     "text": [
      "Conocephalusfuscus_XC752525-dat060-003_edit4.wav skipped as too short\n",
      "Leptophyespunctatissima_XC751807-dat023-014_edit1.wav skipped as too short\n",
      "Grylluscampestris_XC751581-dat008-010.wav Long sample (96.46263038548753) and normal splitting\n",
      "Chorthippusvagans_XC751929-dat140-003_edit3.wav skipped as too short\n"
     ]
    },
    {
     "name": "stderr",
     "output_type": "stream",
     "text": [
      " 73%|███████▎  | 1280/1751 [01:21<00:42, 10.96it/s]"
     ]
    },
    {
     "name": "stdout",
     "output_type": "stream",
     "text": [
      "No silence remove applied: File 'Melanogryllusdesertus_XC753805-Melanogryllus-desertus-Poggio-Renatico_OK_20200506_190847_1CH250K16_edit3.wav' is too short (3.0sec)\n",
      "Melanogryllusdesertus_XC753805-Melanogryllus-desertus-Poggio-Renatico_OK_20200506_190847_1CH250K16_edit3.wav skipped as too short\n",
      "Chorthippusapricarius_XC752124-dat033-014_edit4.wav Long sample (36.88333333333333) and normal splitting\n",
      "Achetadomesticus_XC751750-dat009-004_edit4.wav Long sample (118.76294784580499) and normal splitting\n",
      "Phaneropteranana_XC751911-dat066-003_edit2.wav Long sample (75.82) and normal splitting\n",
      "Grylluscampestris_XC751434-dat010-013_edit2.wav Long sample (50.70274376417233) and normal splitting\n"
     ]
    },
    {
     "name": "stderr",
     "output_type": "stream",
     "text": [
      " 73%|███████▎  | 1282/1751 [01:21<00:50,  9.21it/s]"
     ]
    },
    {
     "name": "stdout",
     "output_type": "stream",
     "text": [
      "Conocephalusfuscus_XC752061-dat037-008_edit1.wav Long sample (109.9839455782313) and normal splitting\n"
     ]
    },
    {
     "name": "stderr",
     "output_type": "stream",
     "text": [
      " 73%|███████▎  | 1284/1751 [01:22<00:58,  8.03it/s]"
     ]
    },
    {
     "name": "stdout",
     "output_type": "stream",
     "text": [
      "Platypleurasp10_MHV%20866%20P.sp10%20Van%20Ryns%20Pass%20%234_edit1.wav Long sample (46.589297052154194) and normal splitting\n",
      "Decticusverrucivorus_XC751328-dat098-007_edit1.wav skipped as too short\n"
     ]
    },
    {
     "name": "stderr",
     "output_type": "stream",
     "text": [
      " 73%|███████▎  | 1285/1751 [01:22<01:00,  7.71it/s]"
     ]
    },
    {
     "name": "stdout",
     "output_type": "stream",
     "text": [
      "No silence remove applied: File 'Yoyettacelis_GBIF1933590497_IN17998714_26915.wav' is too short (4.713650793650793sec)\n",
      "Yoyettacelis_GBIF1933590497_IN17998714_26915.wav skipped as too short\n",
      "No silence remove applied: File 'Omocestuspetraeus_XC752475-dat058-001_edit1.wav' is too short (5.0sec)Cicadaorni_GBIF2823238976_IN53592159_122429.wav skipped as too short\n",
      "\n",
      "Omocestuspetraeus_XC752475-dat058-001_edit1.wav skipped as too short\n",
      "No silence remove applied: File 'Barbitistesyersini_XC752470-dat049-004_edit1.wav' is too short (2.0sec)\n",
      "Barbitistesyersini_XC752470-dat049-004_edit1.wav skipped as too short\n"
     ]
    },
    {
     "name": "stderr",
     "output_type": "stream",
     "text": [
      " 74%|███████▎  | 1290/1751 [01:22<00:33, 13.75it/s]"
     ]
    },
    {
     "name": "stdout",
     "output_type": "stream",
     "text": [
      "Chorthippusbrunneus_XC751406-dat024-015_edit5.wav skipped as too short\n",
      "Leptophyespunctatissima_XC751894-dat023-007_edit2.wav Long sample (49.34668934240363) and normal splitting\n"
     ]
    },
    {
     "name": "stderr",
     "output_type": "stream",
     "text": [
      " 74%|███████▍  | 1293/1751 [01:22<00:28, 15.93it/s]"
     ]
    },
    {
     "name": "stdout",
     "output_type": "stream",
     "text": [
      "Stenobothruslineatus_XC751988-dat018-001_edit6.wav skipped as too short\n",
      "No silence remove applied: File 'Pholidopteralittoralis_XC752426-dat053-005_edit4.wav' is too short (3.0sec)\n",
      "Pholidopteralittoralis_XC752426-dat053-005_edit4.wav skipped as too short\n",
      "Chorthippusbiguttulus_GBIF3902549508_IN131338864_522551_edit1.wav Long sample (35.891451247165534) and normal splitting\n"
     ]
    },
    {
     "name": "stderr",
     "output_type": "stream",
     "text": [
      " 74%|███████▍  | 1296/1751 [01:22<00:29, 15.45it/s]"
     ]
    },
    {
     "name": "stdout",
     "output_type": "stream",
     "text": [
      "No silence remove applied: File 'Chorthippusbrunneus_XC751379-dat005-042_edit3.wav' is too short (1.0sec)\n",
      "Chorthippusbrunneus_XC751379-dat005-042_edit3.wav skipped as too short\n",
      "Chorthippusmollis_XC751779-dat007-007.wav skipped as too short\n",
      "Chorthippusmollis_XC751955-dat024-011_edit1.wav Long sample (38.14693877551021) and normal splitting\n",
      "No silence remove applied: File 'Tylopsislilifolia_XC751313-dat066-017_edit1.wav' is too short (4.0sec)\n",
      "Tylopsislilifolia_XC751313-dat066-017_edit1.wav skipped as too short\n"
     ]
    },
    {
     "name": "stderr",
     "output_type": "stream",
     "text": [
      " 74%|███████▍  | 1300/1751 [01:22<00:23, 19.40it/s]"
     ]
    },
    {
     "name": "stdout",
     "output_type": "stream",
     "text": [
      "Omocestuspetraeus_XC752472-dat055-009_edit2.wav skipped as too short\n",
      "No silence remove applied: File 'Platypleurasp10_MHV%20313%20P.sp10%20Die%20Koo%20%237b_edit2.wav' is too short (1.3sec)\n",
      "Platypleurasp10_MHV%20313%20P.sp10%20Die%20Koo%20%237b_edit2.wav skipped as too short\n",
      "Stenobothruslineatus_XC751978-dat017-005.wav skipped as too short\n"
     ]
    },
    {
     "name": "stderr",
     "output_type": "stream",
     "text": [
      " 74%|███████▍  | 1304/1751 [01:22<00:20, 21.44it/s]"
     ]
    },
    {
     "name": "stdout",
     "output_type": "stream",
     "text": [
      "No silence remove applied: File 'Barbitistesyersini_XC752464-dat047-012_edit4.wav' is too short (3.0sec)Omocestusrufipes_XC751627-dat015-011_edit1.wav Long sample (36.65038548752835) and normal splitting\n",
      "\n",
      "Barbitistesyersini_XC752464-dat047-012_edit4.wav skipped as too short\n",
      "Ephippigerdiurnus_XC752104-dat037-002.wav Long sample (43.51630385487528) and normal splitting\n",
      "Gomphocerippusrufus_XC751305-dat147-006.wav skipped as too short\n",
      "No silence remove applied: File 'Cyclochilaaustralasiae_GBIF2883127714_IN61461296_140099.wav' is too short (4.9sec)\n",
      "Cyclochilaaustralasiae_GBIF2883127714_IN61461296_140099.wav skipped as too short\n"
     ]
    },
    {
     "name": "stderr",
     "output_type": "stream",
     "text": [
      " 75%|███████▍  | 1308/1751 [01:23<00:18, 24.36it/s]"
     ]
    },
    {
     "name": "stdout",
     "output_type": "stream",
     "text": [
      "Melanogryllusdesertus_XC752510-dat046-009_edit3.wav skipped as too short\n",
      "Stenobothruslineatus_XC751984-dat017-019_edit1.wav skipped as too short\n"
     ]
    },
    {
     "name": "stderr",
     "output_type": "stream",
     "text": [
      " 75%|███████▍  | 1311/1751 [01:23<00:22, 19.15it/s]"
     ]
    },
    {
     "name": "stdout",
     "output_type": "stream",
     "text": [
      "No silence remove applied: File 'Stenobothrusstigmaticus_XC751551-dat014-006_edit6.wav' is too short (4.0sec)No silence remove applied: File 'Pseudochorthippusparallelus_XC751396-dat023-006_edit2.wav' is too short (3.0sec)\n",
      "Chorthippusmollis_XC751832-dat001-041_edit1.wav skipped as too shortStenobothrusstigmaticus_XC751551-dat014-006_edit6.wav skipped as too short\n",
      "\n",
      "\n",
      "No silence remove applied: File 'Tettigoniaviridissima_GBIF3384056164_IN96104983_309304.wav' is too short (9.02095238095238sec)Pseudochorthippusparallelus_XC751396-dat023-006_edit2.wav skipped as too short\n",
      "\n",
      "Tettigoniaviridissima_GBIF3384056164_IN96104983_309304.wav skipped as too short\n",
      "Leptophyespunctatissima_XC751805-dat023-009_edit3.wav Long sample (56.425873015873016) and normal splitting\n",
      "Platypleurasp12cfhirtipennis_MHV%20603%20P.sp12%205km%20W%20Prince%20Albert_edit1.wav skipped as too short\n"
     ]
    },
    {
     "name": "stderr",
     "output_type": "stream",
     "text": [
      " 75%|███████▌  | 1317/1751 [01:23<00:16, 25.93it/s]"
     ]
    },
    {
     "name": "stdout",
     "output_type": "stream",
     "text": [
      "No silence remove applied: File 'Pseudochorthippusparallelus_XC751403-dat023-004_edit1.wav' is too short (6.0sec)\n",
      "Pseudochorthippusparallelus_XC751403-dat023-004_edit1.wav skipped as too shortOmocestusrufipes_XC751626-dat015-009_edit1.wav skipped as too short\n",
      "\n",
      "No silence remove applied: File 'Pseudochorthippusmontanus_XC752600-dat011-007_edit4.wav' is too short (5.0sec)\n",
      "No silence remove applied: File 'Conocephalusfuscus_XC752383-dat034-006_edit3.wav' is too short (2.0sec)Pseudochorthippusmontanus_XC752600-dat011-007_edit4.wav skipped as too short\n",
      "\n",
      "Conocephalusfuscus_XC752383-dat034-006_edit3.wav skipped as too short\n",
      "No silence remove applied: File 'Tylopsislilifolia_XC751312-dat066-016_edit2.wav' is too short (3.0sec)\n",
      "Tylopsislilifolia_XC751312-dat066-016_edit2.wav skipped as too short\n",
      "Platypleurasp13_MHV%201487%20P.sp%2013%20nr%20Thornhill%20%231_edit2.wav skipped as too short\n"
     ]
    },
    {
     "name": "stderr",
     "output_type": "stream",
     "text": [
      " 76%|███████▌  | 1323/1751 [01:23<00:13, 30.89it/s]"
     ]
    },
    {
     "name": "stdout",
     "output_type": "stream",
     "text": [
      "Platypleuraplumosa_MHV%201488%20P.plumosa%20Nanaga%20Rec%20%233_edit1.wav skipped as too short\n",
      "No silence remove applied: File 'Barbitistesyersini_XC752503-dat053-003_edit5.wav' is too short (2.0sec)\n",
      "Barbitistesyersini_XC752503-dat053-003_edit5.wav skipped as too short\n",
      "No silence remove applied: File 'Pseudochorthippusmontanus_XC752068-dat001-010_edit2.wav' is too short (3.0sec)\n",
      "Pseudochorthippusmontanus_XC752068-dat001-010_edit2.wav skipped as too short\n"
     ]
    },
    {
     "name": "stderr",
     "output_type": "stream",
     "text": [
      " 76%|███████▌  | 1327/1751 [01:23<00:15, 27.71it/s]"
     ]
    },
    {
     "name": "stdout",
     "output_type": "stream",
     "text": [
      "Pseudochorthippusmontanus_XC752605-dat012-003_edit13.wav skipped as too short\n",
      "No silence remove applied: File 'Pholidopteralittoralis_XC752439-dat049-001_edit7.wav' is too short (2.0sec)\n",
      "Pholidopteralittoralis_XC752439-dat049-001_edit7.wav skipped as too short\n",
      "No silence remove applied: File 'Bicoloranabicolor_XC751441-dat044-005.wav' is too short (9.018480725623583sec)\n",
      "Bicoloranabicolor_XC751441-dat044-005.wav skipped as too short\n",
      "No silence remove applied: File 'Conocephalusfuscus_XC752381-dat033-003_edit2.wav' is too short (5.0sec)\n",
      "Conocephalusfuscus_XC752381-dat033-003_edit2.wav skipped as too short\n"
     ]
    },
    {
     "name": "stderr",
     "output_type": "stream",
     "text": [
      " 76%|███████▌  | 1331/1751 [01:23<00:14, 28.81it/s]"
     ]
    },
    {
     "name": "stdout",
     "output_type": "stream",
     "text": [
      "Phaneropterafalcata_XC751784-dat005-086.wav Long sample (72.25544217687074) and normal splitting\n",
      "Gampsocleisglabra_XC752048-dat125-003.wav Long sample (41.20131519274376) and normal splitting\n",
      "Platypleuracfcatenata_MHV%20393%20P.catenata%20Jefferies%20Bay%20%233.wav Long sample (39.59546485260771) and normal splitting\n",
      "Platycleisalbopunctata_XC751613-dat028-021_edit1.wav Long sample (162.9688888888889) and normal splitting\n",
      "No silence remove applied: File 'Yoyettacelis_GBIF2465261584_IN36361726_51744.wav' is too short (4.0sec)\n",
      "Yoyettacelis_GBIF2465261584_IN36361726_51744.wav skipped as too short\n",
      "No silence remove applied: File 'Omocestuspetraeus_XC752478-dat058-004_edit6.wav' is too short (4.0sec)\n",
      "Omocestuspetraeus_XC752478-dat058-004_edit6.wav skipped as too short\n"
     ]
    },
    {
     "name": "stderr",
     "output_type": "stream",
     "text": [
      " 76%|███████▌  | 1335/1751 [01:24<00:25, 16.41it/s]"
     ]
    },
    {
     "name": "stdout",
     "output_type": "stream",
     "text": [
      "No silence remove applied: File 'Myrmeleotettixmaculatus_XC752582-dat016-018_edit3.wav' is too short (8.0sec)\n",
      "Myrmeleotettixmaculatus_XC752582-dat016-018_edit3.wav skipped as too short\n",
      "Diceroproctaeugraphica_GBIF3456389708_IN86500178_273721.wav skipped as too short\n"
     ]
    },
    {
     "name": "stderr",
     "output_type": "stream",
     "text": [
      " 76%|███████▋  | 1338/1751 [01:24<00:24, 16.97it/s]"
     ]
    },
    {
     "name": "stdout",
     "output_type": "stream",
     "text": [
      "No silence remove applied: File 'Tettigoniacantans_XC751950-dat036-004_edit2.wav' is too short (7.0sec)\n",
      "Tettigoniacantans_XC751950-dat036-004_edit2.wav skipped as too short\n",
      "No silence remove applied: File 'Yoyettacelis_GBIF2423168108_IN33111886_47316-edit1.wav' is too short (4.6sec)\n",
      "Cyclochilaaustralasiae_GBIF2429268043_IN33470690_47652.wav skipped as too short\n",
      "Yoyettacelis_GBIF2423168108_IN33111886_47316-edit1.wav skipped as too short\n",
      "Grylluscampestris_XC751428-dat010-007_edit3.wav Long sample (31.971337868480724) and normal splitting\n",
      "Myrmeleotettixmaculatus_XC752576-dat015-005_edit5.wav skipped as too shortOmocestusviridulus_XC752270-dat009-007_edit1.wav skipped as too short\n",
      "\n"
     ]
    },
    {
     "name": "stderr",
     "output_type": "stream",
     "text": [
      " 77%|███████▋  | 1342/1751 [01:24<00:22, 17.99it/s]"
     ]
    },
    {
     "name": "stdout",
     "output_type": "stream",
     "text": [
      "Oecanthuspellucens_Take39.M.wav skipped as too short\n"
     ]
    },
    {
     "name": "stderr",
     "output_type": "stream",
     "text": [
      " 77%|███████▋  | 1345/1751 [01:24<00:23, 16.94it/s]"
     ]
    },
    {
     "name": "stdout",
     "output_type": "stream",
     "text": [
      "Myrmeleotettixmaculatus_XC752585-dat007-033_edit3.wav skipped as too short\n",
      "Roeselianaroeselii_XC752377-dat006-020_edit2.wav skipped as too short\n"
     ]
    },
    {
     "name": "stderr",
     "output_type": "stream",
     "text": [
      " 77%|███████▋  | 1347/1751 [01:25<00:29, 13.54it/s]"
     ]
    },
    {
     "name": "stdout",
     "output_type": "stream",
     "text": [
      "No silence remove applied: File 'Yoyettacelis_GBIF2862432131_IN58912821_135091.wav' is too short (4.5sec)\n",
      "Yoyettacelis_GBIF2862432131_IN58912821_135091.wav skipped as too short\n",
      "Chrysochraondispar_XC751354-dat028-017_edit2.wav Long sample (45.28190476190476) and normal splitting"
     ]
    },
    {
     "name": "stderr",
     "output_type": "stream",
     "text": [
      " 77%|███████▋  | 1349/1751 [01:25<00:29, 13.80it/s]"
     ]
    },
    {
     "name": "stdout",
     "output_type": "stream",
     "text": [
      "\n",
      "Grylluscampestris_XC751429-dat010-008.wav Long sample (69.54485260770976) and normal splitting\n",
      "Grylluscampestris_XC751432-dat010-011_edit2.wav skipped as too short\n",
      "Barbitistesyersini_XC752469-dat050-003_edit3.wav skipped as too short\n"
     ]
    },
    {
     "name": "stderr",
     "output_type": "stream",
     "text": [
      " 77%|███████▋  | 1351/1751 [01:25<00:33, 11.79it/s]"
     ]
    },
    {
     "name": "stdout",
     "output_type": "stream",
     "text": [
      "No silence remove applied: File 'Yoyettacelis_GBIF1978446073_IN19058574_28359.wav' is too short (1.787936507936508sec)\n",
      "Yoyettacelis_GBIF1978446073_IN19058574_28359.wav skipped as too short\n",
      "No silence remove applied: File 'Pseudochorthippusmontanus_XC752610-dat016-016_edit1.wav' is too short (4.0sec)\n",
      "Pseudochorthippusmontanus_XC752610-dat016-016_edit1.wav skipped as too short\n"
     ]
    },
    {
     "name": "stderr",
     "output_type": "stream",
     "text": [
      " 77%|███████▋  | 1354/1751 [01:25<00:29, 13.35it/s]"
     ]
    },
    {
     "name": "stdout",
     "output_type": "stream",
     "text": [
      "No silence remove applied: File 'Pholidopteraaptera_XC751368-dat147-004_edit6.wav' is too short (5.0sec)\n",
      "Pholidopteraaptera_XC751368-dat147-004_edit6.wav skipped as too short\n"
     ]
    },
    {
     "name": "stderr",
     "output_type": "stream",
     "text": [
      " 77%|███████▋  | 1356/1751 [01:25<00:27, 14.15it/s]"
     ]
    },
    {
     "name": "stdout",
     "output_type": "stream",
     "text": [
      "No silence remove applied: File 'Yoyettacelis_GBIF1986517186_IN19129991_28529.wav' is too short (3.0882539682539685sec)\n",
      "Yoyettacelis_GBIF1986517186_IN19129991_28529.wav skipped as too short\n",
      "Omocestusrufipes_XC751790-dat022-002_edit2.wav skipped as too short\n",
      "No silence remove applied: File 'Tettigoniacantans_XC751942-dat033-013_edit1.wav' is too short (7.0sec)Pseudochorthippusparallelus_XC752311-dat004-016.wav Long sample (40.897551020408166) and normal splitting\n",
      "Tettigoniacantans_XC751942-dat033-013_edit1.wav skipped as too short\n"
     ]
    },
    {
     "name": "stderr",
     "output_type": "stream",
     "text": [
      " 78%|███████▊  | 1359/1751 [01:26<00:23, 16.38it/s]"
     ]
    },
    {
     "name": "stdout",
     "output_type": "stream",
     "text": [
      "\n",
      "Phaneropterafalcata_XC751649-dat033-007_edit5.wav skipped as too short\n",
      "\n",
      "Ephippigerdiurnus_XC752098-dat034-017.wav Long sample (189.35514739229026) and normal splittingRuspolianitidula_GBIF3881711143_IN128495343_509888.wav skipped as too short"
     ]
    },
    {
     "name": "stderr",
     "output_type": "stream",
     "text": [
      " 78%|███████▊  | 1361/1751 [01:26<00:26, 14.91it/s]"
     ]
    },
    {
     "name": "stdout",
     "output_type": "stream",
     "text": [
      "\n",
      "Conocephalusfuscus_XC752056-dat036-007_edit2.wav skipped as too short\n",
      "Chorthippusalbomarginatus_XC751400-dat023-001.wav Long sample (675.2433106575963) and normal splittingNo silence remove applied: File 'Grylluscampestris_Take02.M.wav' is too short (7.226666666666667sec)\n",
      "\n",
      "Grylluscampestris_Take02.M.wav skipped as too short\n",
      "No silence remove applied: File 'Ephippigerdiurnus_XC751707-dat064-010_edit4.wav' is too short (2.0sec)\n",
      "Chorthippusbiguttulus_XC752346-dat005-028.wav skipped as too shortEphippigerdiurnus_XC751707-dat064-010_edit4.wav skipped as too short\n",
      "\n"
     ]
    },
    {
     "name": "stderr",
     "output_type": "stream",
     "text": [
      " 78%|███████▊  | 1364/1751 [01:26<00:21, 17.73it/s]"
     ]
    },
    {
     "name": "stdout",
     "output_type": "stream",
     "text": [
      "No silence remove applied: File 'Eumodicogryllusbordigalensis_XC752108-dat172-003_edit6.wav' is too short (5.0sec)\n",
      "Eumodicogryllusbordigalensis_XC752108-dat172-003_edit6.wav skipped as too shortNo silence remove applied: File 'Conocephalusfuscus_XC752053-dat036-001_edit4.wav' is too short (8.0sec)\n",
      "\n",
      "Conocephalusfuscus_XC752053-dat036-001_edit4.wav skipped as too short\n",
      "Nemobiussylvestris_XC751474-dat020-005_edit2.wav skipped as too short\n"
     ]
    },
    {
     "name": "stderr",
     "output_type": "stream",
     "text": [
      " 78%|███████▊  | 1369/1751 [01:26<00:17, 22.25it/s]"
     ]
    },
    {
     "name": "stdout",
     "output_type": "stream",
     "text": [
      "Omocestusviridulus_XC752262-dat011-003_edit1.wav skipped as too short\n",
      "No silence remove applied: File 'Chorthippusvagans_XC751803-dat014-008_edit2.wav' is too short (8.0sec)\n",
      "Chorthippusvagans_XC751803-dat014-008_edit2.wav skipped as too short\n",
      "Platypleuracfcatenata_MHV%20318%20P.capensis%20Prince%20Alberts%20Pass%20%234_edit1.wav Long sample (44.98487528344671) and normal splitting\n"
     ]
    },
    {
     "name": "stderr",
     "output_type": "stream",
     "text": [
      " 78%|███████▊  | 1372/1751 [01:27<00:31, 12.05it/s]"
     ]
    },
    {
     "name": "stdout",
     "output_type": "stream",
     "text": [
      "No silence remove applied: File 'Eumodicogryllusbordigalensis_GBIF3859440930_IN121916650_472726.wav' is too short (6.802721088435374sec)\n",
      "Eumodicogryllusbordigalensis_GBIF3859440930_IN121916650_472726.wav skipped as too short\n",
      "Pseudochorthippusparallelus_XC751500-dat003-016.wav Long sample (61.48922902494331) and normal splitting\n",
      "Grylluscampestris_XC751422-dat010-001_edit7.wav Long sample (138.01068027210886) and normal splitting\n",
      "Gomphocerippusrufus_XC752297-dat005-047.wav skipped as too short\n"
     ]
    },
    {
     "name": "stderr",
     "output_type": "stream",
     "text": [
      " 78%|███████▊  | 1374/1751 [01:27<00:30, 12.40it/s]"
     ]
    },
    {
     "name": "stdout",
     "output_type": "stream",
     "text": [
      "Chorthippusapricarius_XC752127-dat035-001_edit7.wav Long sample (88.67285714285714) and normal splitting\n",
      "Stauroderusscalaris_XC751604-dat061-007_edit2.wav Long sample (329.3009070294785) and normal splitting\n",
      "Omocestusrufipes_XC753106-Omocestus-rufipes-SBEN_05_10_2008_2CH44K16_edit3.wav skipped as too short\n",
      "Omocestusrufipes_XC753106-Omocestus-rufipes-SBEN_05_10_2008_2CH44K16_edit2.wav skipped as too short\n"
     ]
    },
    {
     "name": "stderr",
     "output_type": "stream",
     "text": [
      " 79%|███████▊  | 1376/1751 [01:27<00:29, 12.51it/s]"
     ]
    },
    {
     "name": "stdout",
     "output_type": "stream",
     "text": [
      "Chorthippusmollis_XC752480-dat062-010_edit1.wav skipped as too short\n",
      "No silence remove applied: File 'Galangalabeculata_GBIF2451711964_IN35265885_49787_edit1.wav' is too short (3.39sec)No silence remove applied: File 'Roeselianaroeselii_XC752362-dat006-003_edit1.wav' is too short (6.2sec)\n",
      "Galangalabeculata_GBIF2451711964_IN35265885_49787_edit1.wav skipped as too short\n",
      "\n",
      "Roeselianaroeselii_XC752362-dat006-003_edit1.wav skipped as too short\n",
      "Chorthippusapricarius_XC752127-dat035-001_edit6.wav skipped as too short\n"
     ]
    },
    {
     "name": "stderr",
     "output_type": "stream",
     "text": [
      " 79%|███████▉  | 1381/1751 [01:27<00:21, 17.08it/s]"
     ]
    },
    {
     "name": "stdout",
     "output_type": "stream",
     "text": [
      "No silence remove applied: File 'Chorthippusvagans_XC751803-dat014-008_edit3.wav' is too short (7.0sec)\n",
      "Chorthippusvagans_XC751803-dat014-008_edit3.wav skipped as too short\n",
      "Popplepsaltanotialis_GBIF1978453960_IN19081787_28434.wav skipped as too short\n"
     ]
    },
    {
     "name": "stderr",
     "output_type": "stream",
     "text": [
      " 79%|███████▉  | 1384/1751 [01:27<00:19, 18.95it/s]"
     ]
    },
    {
     "name": "stdout",
     "output_type": "stream",
     "text": [
      "Conocephalusdorsalis_XC752535-dat129-014_edit1.wav Long sample (38.67485260770975) and normal splitting\n",
      "Neotibicenpruinosus_GBIF2802914255_IN49682668_107665.wav Long sample (39.261972789115646) and normal splitting\n",
      "Tettigoniacantans_XC751565-dat027-004_edit2.wav Long sample (42.98260770975057) and normal splitting\n",
      "Omocestusrufipes_XC751630-dat021-005_edit1.wav skipped as too short\n"
     ]
    },
    {
     "name": "stderr",
     "output_type": "stream",
     "text": [
      " 79%|███████▉  | 1387/1751 [01:27<00:27, 13.18it/s]"
     ]
    },
    {
     "name": "stdout",
     "output_type": "stream",
     "text": [
      "No silence remove applied: File 'Conocephalusfuscus_XC752053-dat036-001_edit5.wav' is too short (5.0sec)\n",
      "Conocephalusfuscus_XC752053-dat036-001_edit5.wav skipped as too short\n",
      "No silence remove applied: File 'Ephippigerdiurnus_XC751707-dat064-010_edit5.wav' is too short (2.0sec)\n",
      "Ephippigerdiurnus_XC751707-dat064-010_edit5.wav skipped as too short\n",
      "No silence remove applied: File 'Eumodicogryllusbordigalensis_XC752108-dat172-003_edit7.wav' is too short (2.0sec)\n",
      "Eumodicogryllusbordigalensis_XC752108-dat172-003_edit7.wav skipped as too short\n",
      "No silence remove applied: File 'Clinopsaltaautumna_GBIF1805372367_IN8263414_15746_edit2.wav' is too short (8.356984126984127sec)\n",
      "Clinopsaltaautumna_GBIF1805372367_IN8263414_15746_edit2.wav skipped as too short\n",
      "No silence remove applied: File 'Phaneropterafalcata_XC751649-dat033-007_edit4.wav' is too short (6.0sec)\n",
      "Phaneropterafalcata_XC751649-dat033-007_edit4.wav skipped as too short\n",
      "No silence remove applied: File 'Yoyettacelis_GBIF2864582771_IN59400517_135999.wav' is too short (4.632380952380952sec)\n",
      "Yoyettacelis_GBIF2864582771_IN59400517_135999.wav skipped as too short\n",
      "No silence remove applied: File 'Neotibicenpruinosus_GBIF3712688440_IN101848840_332162.wav' is too short (4.6439909297052155sec)\n",
      "Neotibicenpruinosus_GBIF3712688440_IN101848840_332162.wav skipped as too short\n",
      "No silence remove applied: File 'Tettigoniacantans_XC751936-dat030-005_edit1.wav' is too short (9.0sec)\n",
      "Tettigoniacantans_XC751936-dat030-005_edit1.wav skipped as too short\n"
     ]
    },
    {
     "name": "stderr",
     "output_type": "stream",
     "text": [
      " 80%|███████▉  | 1396/1751 [01:28<00:14, 24.14it/s]"
     ]
    },
    {
     "name": "stdout",
     "output_type": "stream",
     "text": [
      "No silence remove applied: File 'Omocestusrufipes_XC751790-dat022-002_edit3.wav' is too short (4.0sec)Platypleuracfcatenata_MHV%20393%20P.catenata%20Jefferies%20Bay%20%232_edit1.wav skipped as too short\n",
      "Omocestusrufipes_XC751790-dat022-002_edit3.wav skipped as too short\n",
      "\n",
      "No silence remove applied: File 'Yoyettacelis_GBIF2447980424_IN35039080_49475_edit1.wav' is too short (4.0sec)\n",
      "Yoyettacelis_GBIF2447980424_IN35039080_49475_edit1.wav skipped as too short\n"
     ]
    },
    {
     "name": "stderr",
     "output_type": "stream",
     "text": [
      " 80%|███████▉  | 1400/1751 [01:28<00:13, 26.52it/s]"
     ]
    },
    {
     "name": "stdout",
     "output_type": "stream",
     "text": [
      "Pholidopteragriseoaptera_XC751869-dat097-023_edit1.wav Long sample (49.90390022675737) and normal splitting\n",
      "Roeselianaroeselii_XC752377-dat006-020_edit3.wav skipped as too short\n",
      "No silence remove applied: File 'Pseudochorthippusparallelus_XC752313-dat005-059_edit1.wav' is too short (3.0sec)\n",
      "Grylluscampestris_XC751432-dat010-011_edit3.wav Long sample (34.09718820861678) and normal splittingPseudochorthippusparallelus_XC752313-dat005-059_edit1.wav skipped as too short\n"
     ]
    },
    {
     "name": "stderr",
     "output_type": "stream",
     "text": [
      " 80%|████████  | 1404/1751 [01:28<00:20, 16.67it/s]"
     ]
    },
    {
     "name": "stdout",
     "output_type": "stream",
     "text": [
      "\n",
      "No silence remove applied: File 'Pseudochorthippusmontanus_XC752602-dat011-009_edit4.wav' is too short (5.0sec)\n",
      "Pseudochorthippusmontanus_XC752602-dat011-009_edit4.wav skipped as too short\n",
      "Myrmeleotettixmaculatus_XC752585-dat007-033_edit2.wav skipped as too short\n",
      "Gomphocerippusrufus_XC752279-dat022-007_edit1.wav skipped as too short\n"
     ]
    },
    {
     "name": "stderr",
     "output_type": "stream",
     "text": [
      " 80%|████████  | 1407/1751 [01:28<00:22, 15.63it/s]"
     ]
    },
    {
     "name": "stdout",
     "output_type": "stream",
     "text": [
      "Chorthippusbrunneus_XC751387-dat005-058_edit1.wav skipped as too short\n"
     ]
    },
    {
     "name": "stderr",
     "output_type": "stream",
     "text": [
      " 81%|████████  | 1410/1751 [01:29<00:28, 12.00it/s]"
     ]
    },
    {
     "name": "stdout",
     "output_type": "stream",
     "text": [
      "No silence remove applied: File 'Tettigoniacantans_XC751950-dat036-004_edit3.wav' is too short (7.0sec)\n",
      "Tettigoniacantans_XC751950-dat036-004_edit3.wav skipped as too shortMyrmeleotettixmaculatus_XC752576-dat015-005_edit4.wav skipped as too short\n",
      "\n",
      "Galangalabeculata_GBIF1948765468_IN18795387_27946.wav skipped as too short\n"
     ]
    },
    {
     "name": "stderr",
     "output_type": "stream",
     "text": [
      " 81%|████████  | 1413/1751 [01:29<00:24, 13.97it/s]"
     ]
    },
    {
     "name": "stdout",
     "output_type": "stream",
     "text": [
      "Myrmeleotettixmaculatus_XC752582-dat016-018_edit2.wav skipped as too short\n",
      "Grylluscampestris_file0045.M.wav skipped as too short\n",
      "No silence remove applied: File 'Conocephalusfuscus_XC752381-dat033-003_edit3.wav' is too short (3.0sec)\n",
      "Ephippigerdiurnus_XC752094-dat034-011.wav Long sample (70.54984126984127) and normal splittingConocephalusfuscus_XC752381-dat033-003_edit3.wav skipped as too short\n"
     ]
    },
    {
     "name": "stderr",
     "output_type": "stream",
     "text": [
      " 81%|████████  | 1416/1751 [01:29<00:27, 12.24it/s]"
     ]
    },
    {
     "name": "stdout",
     "output_type": "stream",
     "text": [
      "\n",
      "No silence remove applied: File 'Omocestuspetraeus_XC752478-dat058-004_edit7.wav' is too short (3.0sec)\n",
      "Omocestuspetraeus_XC752478-dat058-004_edit7.wav skipped as too short\n",
      "Chorthippusmollis_XC751760-dat005-064.wav skipped as too short\n"
     ]
    },
    {
     "name": "stderr",
     "output_type": "stream",
     "text": [
      " 81%|████████  | 1418/1751 [01:29<00:27, 12.22it/s]"
     ]
    },
    {
     "name": "stdout",
     "output_type": "stream",
     "text": [
      "Ruspolianitidula_XC751697-dat063-002.wav Long sample (220.3101133786848) and normal splitting\n",
      "No silence remove applied: File 'Stenobothrusstigmaticus_XC751996-dat004-041_edit2.wav' is too short (3.0sec)\n",
      "Stenobothrusstigmaticus_XC751996-dat004-041_edit2.wav skipped as too short\n"
     ]
    },
    {
     "name": "stderr",
     "output_type": "stream",
     "text": [
      " 81%|████████  | 1420/1751 [01:30<00:35,  9.23it/s]"
     ]
    },
    {
     "name": "stdout",
     "output_type": "stream",
     "text": [
      "No silence remove applied: File 'Pholidopteralittoralis_XC752439-dat049-001_edit6.wav' is too short (2.0sec)\n",
      "Pholidopteralittoralis_XC752439-dat049-001_edit6.wav skipped as too short\n",
      "Nemobiussylvestris_XC751468-dat016-020.wav Long sample (58.812063492063494) and normal splitting\n",
      "Grylluscampestris_XC751422-dat010-001_edit6.wav Long sample (189.24548752834468) and normal splitting\n",
      "Pseudochorthippusmontanus_XC752605-dat012-003_edit12.wav skipped as too short\n"
     ]
    },
    {
     "name": "stderr",
     "output_type": "stream",
     "text": [
      " 81%|████████  | 1422/1751 [01:30<00:33,  9.90it/s]"
     ]
    },
    {
     "name": "stdout",
     "output_type": "stream",
     "text": [
      "No silence remove applied: File 'Stenobothrusstigmaticus_XC751711-dat141-002_edit1.wav' is too short (4.0sec)\n",
      "Stenobothrusstigmaticus_XC751711-dat141-002_edit1.wav skipped as too short\n",
      "Barbitistesyersini_XC752469-dat050-003_edit2.wav Long sample (310.1958503401361) and normal splitting\n",
      "Grylluscampestris_XC751428-dat010-007_edit2.wav Long sample (71.62238095238095) and normal splitting\n"
     ]
    },
    {
     "name": "stderr",
     "output_type": "stream",
     "text": [
      " 81%|████████▏ | 1424/1751 [01:30<00:38,  8.60it/s]"
     ]
    },
    {
     "name": "stdout",
     "output_type": "stream",
     "text": [
      "No silence remove applied: File 'Barbitistesyersini_XC752503-dat053-003_edit4.wav' is too short (2.0sec)\n",
      "Barbitistesyersini_XC752503-dat053-003_edit4.wav skipped as too short\n",
      "No silence remove applied: File 'Pseudochorthippusmontanus_XC752068-dat001-010_edit1.wav' is too short (4.0sec)\n",
      "Pseudochorthippusmontanus_XC752068-dat001-010_edit1.wav skipped as too short\n",
      "No silence remove applied: File 'Cyclochilaaustralasiae_GBIF2988576050_IN64914163_148834.wav' is too short (7.7sec)\n",
      "Cyclochilaaustralasiae_GBIF2988576050_IN64914163_148834.wav skipped as too short\n",
      "No silence remove applied: File 'Barbitistesyersini_XC752503-dat053-003_edit6.wav' is too short (2.0sec)\n",
      "Barbitistesyersini_XC752503-dat053-003_edit6.wav skipped as too short\n"
     ]
    },
    {
     "name": "stderr",
     "output_type": "stream",
     "text": [
      " 82%|████████▏ | 1429/1751 [01:30<00:23, 13.82it/s]"
     ]
    },
    {
     "name": "stdout",
     "output_type": "stream",
     "text": [
      "No silence remove applied: File 'Tettigoniaviridissima_Take14.wav' is too short (4.488866213151927sec)\n",
      "Tettigoniaviridissima_Take14.wav skipped as too short\n",
      "Stauroderusscalaris_XC751604-dat061-007_edit1.wav Long sample (42.77689342403628) and normal splitting\n"
     ]
    },
    {
     "name": "stderr",
     "output_type": "stream",
     "text": [
      " 82%|████████▏ | 1431/1751 [01:31<00:34,  9.32it/s]"
     ]
    },
    {
     "name": "stdout",
     "output_type": "stream",
     "text": [
      "No silence remove applied: File 'Aleetacurvicosta_GBIF1990476941_IN19580258_29143.wav' is too short (6.095238095238095sec)\n",
      "Aleetacurvicosta_GBIF1990476941_IN19580258_29143.wav skipped as too short\n",
      "No silence remove applied: File 'Stenobothrusstigmaticus_XC751711-dat141-002_edit3.wav' is too short (3.0sec)\n",
      "Stenobothrusstigmaticus_XC751711-dat141-002_edit3.wav skipped as too short\n",
      "No silence remove applied: File 'Atrapsaltacollina_GBIF1946320638_IN18584607_27621_edit1.wav' is too short (3.2sec)\n",
      "Atrapsaltacollina_GBIF1946320638_IN18584607_27621_edit1.wav skipped as too short\n",
      "Pseudochorthippusmontanus_XC752605-dat012-003_edit10.wav skipped as too short\n"
     ]
    },
    {
     "name": "stderr",
     "output_type": "stream",
     "text": [
      " 82%|████████▏ | 1435/1751 [01:31<00:27, 11.61it/s]"
     ]
    },
    {
     "name": "stdout",
     "output_type": "stream",
     "text": [
      "No silence remove applied: File 'Pholidopteralittoralis_XC752439-dat049-001_edit4.wav' is too short (2.0sec)\n",
      "Pholidopteralittoralis_XC752439-dat049-001_edit4.wav skipped as too short\n",
      "No silence remove applied: File 'Omocestuspetraeus_XC752478-dat058-004_edit5.wav' is too short (7.0sec)\n",
      "Omocestuspetraeus_XC752478-dat058-004_edit5.wav skipped as too short\n",
      "No silence remove applied: File 'Conocephalusfuscus_XC752381-dat033-003_edit1.wav' is too short (4.0sec)\n",
      "Conocephalusfuscus_XC752381-dat033-003_edit1.wav skipped as too short\n"
     ]
    },
    {
     "name": "stderr",
     "output_type": "stream",
     "text": [
      " 82%|████████▏ | 1438/1751 [01:31<00:23, 13.54it/s]"
     ]
    },
    {
     "name": "stdout",
     "output_type": "stream",
     "text": [
      "No silence remove applied: File 'Tettigoniacantans_XC751950-dat036-004_edit1.wav' is too short (7.0sec)\n",
      "Tettigoniacantans_XC751950-dat036-004_edit1.wav skipped as too short\n",
      "Omocestusviridulus_XC752260-dat011-001_edit4.wav Long sample (41.07557823129252) and normal splitting\n",
      "Gampsocleisglabra_XC752358-dat026-002_edit1.wav Long sample (43.80657596371882) and normal splitting\n"
     ]
    },
    {
     "name": "stderr",
     "output_type": "stream",
     "text": [
      " 82%|████████▏ | 1441/1751 [01:32<00:27, 11.11it/s]"
     ]
    },
    {
     "name": "stdout",
     "output_type": "stream",
     "text": [
      "No silence remove applied: File 'Chorthippusmollis_XC751839-dat184-001_edit4.wav' is too short (8.0sec)\n",
      "Chorthippusmollis_XC751839-dat184-001_edit4.wav skipped as too short\n"
     ]
    },
    {
     "name": "stderr",
     "output_type": "stream",
     "text": [
      " 82%|████████▏ | 1443/1751 [01:32<00:25, 11.86it/s]"
     ]
    },
    {
     "name": "stdout",
     "output_type": "stream",
     "text": [
      "No silence remove applied: File 'Gomphocerippusrufus_XC752279-dat022-007_edit3.wav' is too short (6.0sec)\n",
      "Gomphocerippusrufus_XC752279-dat022-007_edit3.wav skipped as too short\n",
      "Platypleuraplumosa_MHV%201488%20P.plumosa%20Nanaga%20Rec%20%234_edit1.wav Long sample (43.662789115646255) and normal splitting\n",
      "Myrmeleotettixmaculatus_XC751525-dat003-025.wav skipped as too short\n"
     ]
    },
    {
     "name": "stderr",
     "output_type": "stream",
     "text": [
      " 83%|████████▎ | 1447/1751 [01:32<00:23, 12.72it/s]"
     ]
    },
    {
     "name": "stdout",
     "output_type": "stream",
     "text": [
      "Oecanthuspellucens_XC752111-dat175-001_edit1.wav Long sample (162.11292517006802) and normal splitting\n",
      "Myrmeleotettixmaculatus_XC752576-dat015-005_edit6.wav skipped as too short\n",
      "Chrysochraondispar_XC751354-dat028-017_edit1.wav skipped as too short\n"
     ]
    },
    {
     "name": "stderr",
     "output_type": "stream",
     "text": [
      " 83%|████████▎ | 1449/1751 [01:32<00:23, 12.63it/s]"
     ]
    },
    {
     "name": "stdout",
     "output_type": "stream",
     "text": [
      "No silence remove applied: File 'Omocestusviridulus_XC752270-dat009-007_edit2.wav' is too short (9.0sec)\n",
      "Omocestusviridulus_XC752270-dat009-007_edit2.wav skipped as too short\n",
      "Chorthippusbrunneus_XC751387-dat005-058_edit3.wav skipped as too short\n",
      "Roeselianaroeselii_XC752377-dat006-020_edit1.wav skipped as too shortChorthippusmollis_XC751767-dat005-071.wav skipped as too short\n",
      "\n",
      "Stenobothruslineatus_XC752397-dat025-008.wav Long sample (309.65086167800456) and normal splitting\n",
      "Galangalabeculata_GBIF2005313076_IN20275640_31171.wav skipped as too shortYoyettarepetens_GBIF2984556076_IN64757137_148359.wav skipped as too short\n"
     ]
    },
    {
     "name": "stderr",
     "output_type": "stream",
     "text": [
      " 83%|████████▎ | 1455/1751 [01:32<00:15, 19.44it/s]"
     ]
    },
    {
     "name": "stdout",
     "output_type": "stream",
     "text": [
      "\n",
      "Gampsocleisglabra_XC752047-dat125-002.wav Long sample (45.92213151927437) and normal splitting\n",
      "No silence remove applied: File 'Yoyettacelis_GBIF2447980424_IN35039080_49475_edit3.wav' is too short (5.0sec)\n",
      "Yoyettacelis_GBIF2447980424_IN35039080_49475_edit3.wav skipped as too short\n"
     ]
    },
    {
     "name": "stderr",
     "output_type": "stream",
     "text": [
      " 83%|████████▎ | 1458/1751 [01:33<00:19, 15.25it/s]"
     ]
    },
    {
     "name": "stdout",
     "output_type": "stream",
     "text": [
      "Achetadomesticus_XC751755-dat194-005.wav Long sample (53.247074829931975) and normal splitting\n",
      "Pseudochorthippusmontanus_XC752610-dat016-016_edit2.wav skipped as too short\n"
     ]
    },
    {
     "name": "stderr",
     "output_type": "stream",
     "text": [
      " 83%|████████▎ | 1460/1751 [01:33<00:23, 12.52it/s]"
     ]
    },
    {
     "name": "stdout",
     "output_type": "stream",
     "text": [
      "No silence remove applied: File 'Pholidopteraaptera_XC751368-dat147-004_edit5.wav' is too short (5.0sec)\n",
      "Pholidopteraaptera_XC751368-dat147-004_edit5.wav skipped as too short\n",
      "Clinopsaltaautumna_GBIF1932339077_IN17763871_26744.wav skipped as too short\n",
      "Grylluscampestris_XC751422-dat010-001_edit4.wav Long sample (88.03433106575963) and normal splitting\n",
      "Pholidopteragriseoaptera_GBIF3391342501_IN92661466_297574.wav skipped as too short\n"
     ]
    },
    {
     "name": "stderr",
     "output_type": "stream",
     "text": [
      " 84%|████████▎ | 1463/1751 [01:33<00:20, 14.39it/s]"
     ]
    },
    {
     "name": "stdout",
     "output_type": "stream",
     "text": [
      "Ruspolianitidula_GBIF3355059071_IN92839224_298496.wav Long sample (32.02503401360544) and normal splitting\n",
      "Platypleurasp12cfhirtipennis_MHV%20842%20P.sp12%20nr%20Maitjiesfontein_edit1.wav Long sample (52.16204081632653) and normal splitting\n"
     ]
    },
    {
     "name": "stderr",
     "output_type": "stream",
     "text": [
      " 84%|████████▎ | 1465/1751 [01:34<00:31,  9.04it/s]"
     ]
    },
    {
     "name": "stdout",
     "output_type": "stream",
     "text": [
      "Tettigoniacantans_XC751942-dat033-013_edit2.wav skipped as too short\n"
     ]
    },
    {
     "name": "stderr",
     "output_type": "stream",
     "text": [
      " 84%|████████▍ | 1467/1751 [01:34<00:27, 10.21it/s]"
     ]
    },
    {
     "name": "stdout",
     "output_type": "stream",
     "text": [
      "No silence remove applied: File 'Stenobothrusstigmaticus_XC752001-dat004-046_edit1.wav' is too short (3.0sec)\n",
      "Stenobothrusstigmaticus_XC752001-dat004-046_edit1.wav skipped as too short\n",
      "Grylluscampestris_XC751432-dat010-011_edit1.wav Long sample (112.30648526077097) and normal splitting\n",
      "Omocestusrufipes_XC751790-dat022-002_edit1.wav skipped as too short\n",
      "No silence remove applied: File 'Tettigoniacantans_XC751936-dat030-005_edit3.wav' is too short (9.0sec)\n",
      "Tettigoniacantans_XC751936-dat030-005_edit3.wav skipped as too short\n"
     ]
    },
    {
     "name": "stderr",
     "output_type": "stream",
     "text": [
      " 84%|████████▍ | 1470/1751 [01:34<00:21, 13.19it/s]"
     ]
    },
    {
     "name": "stdout",
     "output_type": "stream",
     "text": [
      "Phaneropterafalcata_XC751649-dat033-007_edit6.wav skipped as too short\n",
      "Cicadaorni_GBIF3327979633_IN86260182_271082_edit1.wav skipped as too short\n",
      "No silence remove applied: File 'Pholidopteragriseoaptera_NoID_20190907_210359.M.wav' is too short (6.870589569160998sec)\n",
      "Pholidopteragriseoaptera_NoID_20190907_210359.M.wav skipped as too short\n"
     ]
    },
    {
     "name": "stderr",
     "output_type": "stream",
     "text": [
      " 84%|████████▍ | 1473/1751 [01:34<00:17, 15.49it/s]"
     ]
    },
    {
     "name": "stdout",
     "output_type": "stream",
     "text": [
      "Pseudochorthippusmontanus_XC752605-dat012-003_edit8.wav skipped as too short\n",
      "No silence remove applied: File 'Eumodicogryllusbordigalensis_XC752108-dat172-003_edit5.wav' is too short (2.0sec)Conocephalusfuscus_XC752056-dat036-007_edit1.wav Long sample (69.57371882086167) and normal splitting\n",
      "Eumodicogryllusbordigalensis_XC752108-dat172-003_edit5.wav skipped as too short\n",
      "\n"
     ]
    },
    {
     "name": "stderr",
     "output_type": "stream",
     "text": [
      " 84%|████████▍ | 1476/1751 [01:34<00:15, 18.07it/s]"
     ]
    },
    {
     "name": "stdout",
     "output_type": "stream",
     "text": [
      "No silence remove applied: File 'Myrmeleotettixmaculatus_XC752578-dat010-018_edit4.wav' is too short (7.0sec)\n",
      "Myrmeleotettixmaculatus_XC752578-dat010-018_edit4.wav skipped as too short\n",
      "No silence remove applied: File 'Nemobiussylvestris_XC751474-dat020-005_edit1.wav' is too short (7.0sec)No silence remove applied: File 'Pholidopteraaptera_GBIF3872975117_IN125220639_493709.wav' is too short (5.079365079365079sec)\n",
      "Pholidopteraaptera_GBIF3872975117_IN125220639_493709.wav skipped as too short\n",
      "\n",
      "No silence remove applied: File 'Chorthippusvagans_XC751803-dat014-008_edit1.wav' is too short (9.0sec)Nemobiussylvestris_XC751474-dat020-005_edit1.wav skipped as too short\n",
      "\n",
      "Chorthippusvagans_XC751803-dat014-008_edit1.wav skipped as too short\n"
     ]
    },
    {
     "name": "stderr",
     "output_type": "stream",
     "text": [
      " 85%|████████▍ | 1481/1751 [01:34<00:11, 24.35it/s]"
     ]
    },
    {
     "name": "stdout",
     "output_type": "stream",
     "text": [
      "No silence remove applied: File 'Yoyettacelis_GBIF1920818624_IN17308268_26344_edit1.wav' is too short (2.2sec)\n",
      "Yoyettacelis_GBIF1920818624_IN17308268_26344_edit1.wav skipped as too short\n",
      "Ruspolianitidula_XC752677-220905_Ruspolia-nitidula01.wav Long sample (57.53777777777778) and normal splitting\n",
      "Omocestusviridulus_XC752262-dat011-003_edit2.wav Long sample (39.08582766439909) and normal splitting\n",
      "Chorthippusapricarius_XC752127-dat035-001_edit4.wav Long sample (47.33807256235828) and normal splitting\n",
      "No silence remove applied: File 'Gomphocerippusrufus_XC752293-dat005-031.wav' is too short (9.216780045351474sec)\n",
      "Gomphocerippusrufus_XC752293-dat005-031.wav skipped as too short\n"
     ]
    },
    {
     "name": "stderr",
     "output_type": "stream",
     "text": [
      " 85%|████████▍ | 1484/1751 [01:35<00:21, 12.64it/s]"
     ]
    },
    {
     "name": "stdout",
     "output_type": "stream",
     "text": [
      "Chorthippusmollis_XC752480-dat062-010_edit3.wav skipped as too short\n",
      "Chorthippusmollis_XC752480-dat062-010_edit2.wav skipped as too short\n"
     ]
    },
    {
     "name": "stderr",
     "output_type": "stream",
     "text": [
      " 85%|████████▍ | 1487/1751 [01:35<00:20, 12.69it/s]"
     ]
    },
    {
     "name": "stdout",
     "output_type": "stream",
     "text": [
      "Omocestusrufipes_XC753106-Omocestus-rufipes-SBEN_05_10_2008_2CH44K16_edit1.wav skipped as too short\n"
     ]
    },
    {
     "name": "stderr",
     "output_type": "stream",
     "text": [
      " 85%|████████▌ | 1489/1751 [01:35<00:19, 13.35it/s]"
     ]
    },
    {
     "name": "stdout",
     "output_type": "stream",
     "text": [
      "No silence remove applied: File 'Yoyettarepetens_GBIF1990573180_IN19834845_30476.wav' is too short (5.77015873015873sec)No silence remove applied: File 'Roeselianaroeselii_XC752362-dat006-003_edit2.wav' is too short (8.670498866213151sec)\n",
      "Yoyettarepetens_GBIF1990573180_IN19834845_30476.wav skipped as too short\n",
      "Roeselianaroeselii_XC752362-dat006-003_edit2.wav skipped as too short\n",
      "\n",
      "Conocephalusdorsalis_XC752535-dat129-014_edit2.wav skipped as too short\n"
     ]
    },
    {
     "name": "stderr",
     "output_type": "stream",
     "text": [
      " 85%|████████▌ | 1494/1751 [01:35<00:13, 18.67it/s]"
     ]
    },
    {
     "name": "stdout",
     "output_type": "stream",
     "text": [
      "No silence remove applied: File 'Galangalabeculata_GBIF3031926619_IN68515276_160150.wav' is too short (9.1sec)\n",
      "Galangalabeculata_GBIF3031926619_IN68515276_160150.wav skipped as too short\n",
      "Grylluscampestris_XC751585-dat008-014.wav Long sample (33.62097505668934) and normal splitting\n",
      "Chorthippusapricarius_XC752127-dat035-001_edit5.wav skipped as too short\n"
     ]
    },
    {
     "name": "stderr",
     "output_type": "stream",
     "text": [
      " 85%|████████▌ | 1497/1751 [01:35<00:14, 17.35it/s]"
     ]
    },
    {
     "name": "stdout",
     "output_type": "stream",
     "text": [
      "Tettigoniacantans_XC751565-dat027-004_edit1.wav skipped as too short\n",
      "No silence remove applied: File 'Popplepsaltaaeroides_GBIF3032115780_IN68043756_158558.wav' is too short (5.8sec)\n",
      "Popplepsaltaaeroides_GBIF3032115780_IN68043756_158558.wav skipped as too short\n",
      "No silence remove applied: File 'Myrmeleotettixmaculatus_XC752578-dat010-018_edit5.wav' is too short (4.0sec)\n",
      "Myrmeleotettixmaculatus_XC752578-dat010-018_edit5.wav skipped as too short\n"
     ]
    },
    {
     "name": "stderr",
     "output_type": "stream",
     "text": [
      " 86%|████████▌ | 1501/1751 [01:36<00:12, 19.47it/s]"
     ]
    },
    {
     "name": "stdout",
     "output_type": "stream",
     "text": [
      "Omocestuspetraeus_XC752478-dat058-004_edit14.wav skipped as too short\n",
      "No silence remove applied: File 'Eumodicogryllusbordigalensis_XC752108-dat172-003_edit4.wav' is too short (3.0sec)Achetadomesticus_XC489193-Achetadomesticus_poland_psz_20140512_21.30h_3511.wav Long sample (35.16546485260771) and normal splitting\n",
      "\n",
      "Eumodicogryllusbordigalensis_XC752108-dat172-003_edit4.wav skipped as too short\n",
      "No silence remove applied: File 'Ephippigerdiurnus_XC751707-dat064-010_edit6.wav' is too short (2.0sec)\n",
      "Ephippigerdiurnus_XC751707-dat064-010_edit6.wav skipped as too short\n",
      "Pseudochorthippusparallelus_XC751498-dat003-014.wav Long sample (37.2168253968254) and normal splitting\n",
      "Bicoloranabicolor_XC753587-Bicolorana-bicolor-Cereglio-30-Giugno-2018_2CH96K16.wav Long sample (58.42716553287982) and normal splitting\n",
      "Omocestusviridulus_XC752262-dat011-003_edit3.wav skipped as too short\n"
     ]
    },
    {
     "name": "stderr",
     "output_type": "stream",
     "text": [
      " 86%|████████▌ | 1505/1751 [01:36<00:13, 18.31it/s]"
     ]
    },
    {
     "name": "stdout",
     "output_type": "stream",
     "text": [
      "No silence remove applied: File 'Pseudochorthippusparallelus_GBIF3499596454_IN92661396_297567_edit1.wav' is too short (3.0sec)\n",
      "Pseudochorthippusparallelus_GBIF3499596454_IN92661396_297567_edit1.wav skipped as too short\n",
      "No silence remove applied: File 'Clinopsaltaautumna_GBIF1805372367_IN8263414_15746_edit1.wav' is too short (5.0sec)\n",
      "Clinopsaltaautumna_GBIF1805372367_IN8263414_15746_edit1.wav skipped as too short\n",
      "Ephippigerdiurnus_XC754795-EPHVIT_20180914_134037.wav Long sample (55.578208616780046) and normal splitting\n",
      "No silence remove applied: File 'Phaneropterafalcata_XC751664-dat037-013.wav' is too short (6.021065759637188sec)\n",
      "Phaneropterafalcata_XC751664-dat037-013.wav skipped as too short\n",
      "No silence remove applied: File 'Pseudochorthippusmontanus_XC752605-dat012-003_edit9.wav' is too short (8.0sec)\n",
      "Pseudochorthippusmontanus_XC752605-dat012-003_edit9.wav skipped as too short\n"
     ]
    },
    {
     "name": "stderr",
     "output_type": "stream",
     "text": [
      " 86%|████████▌ | 1510/1751 [01:36<00:10, 22.87it/s]"
     ]
    },
    {
     "name": "stdout",
     "output_type": "stream",
     "text": [
      "No silence remove applied: File 'Tettigoniacantans_XC751936-dat030-005_edit2.wav' is too short (9.0sec)\n",
      "No silence remove applied: File 'Platypleuracfcatenata_MHV%20393%20P.catenata%20Jefferies%20Bay%20%232_edit2.wav' is too short (4.961428571428572sec)Tettigoniacantans_XC751936-dat030-005_edit2.wav skipped as too shortMyrmeleotettixmaculatus_XC751523-dat003-023.wav skipped as too short\n",
      "Platypleuracfcatenata_MHV%20393%20P.catenata%20Jefferies%20Bay%20%232_edit2.wav skipped as too short\n",
      "\n",
      "\n",
      "Chorthippusmollis_XC751766-dat005-070_edit1.wav skipped as too short\n"
     ]
    },
    {
     "name": "stderr",
     "output_type": "stream",
     "text": [
      " 87%|████████▋ | 1515/1751 [01:36<00:08, 27.95it/s]"
     ]
    },
    {
     "name": "stdout",
     "output_type": "stream",
     "text": [
      "Tettigoniacantans_XC751942-dat033-013_edit3.wav skipped as too short\n",
      "No silence remove applied: File 'Yoyettacelis_GBIF2988439804_IN65459381_150419.wav' is too short (4.2260317460317465sec)\n",
      "Yoyettacelis_GBIF2988439804_IN65459381_150419.wav skipped as too short\n",
      "No silence remove applied: File 'Pholidopteraaptera_XC751368-dat147-004_edit4.wav' is too short (4.0sec)\n",
      "Pholidopteraaptera_XC751368-dat147-004_edit4.wav skipped as too short\n"
     ]
    },
    {
     "name": "stderr",
     "output_type": "stream",
     "text": [
      " 87%|████████▋ | 1519/1751 [01:36<00:08, 28.77it/s]"
     ]
    },
    {
     "name": "stdout",
     "output_type": "stream",
     "text": [
      "No silence remove applied: File 'Yoyettarepetens_GBIF1805387001_IN9445034_17159_edit1.wav' is too short (8.0sec)\n",
      "Yoyettarepetens_GBIF1805387001_IN9445034_17159_edit1.wav skipped as too short\n",
      "Platypleuracfcatenata_MHV%20903%20P.catenata%20nrWitrivier_edit1.wav Long sample (46.059410430839) and normal splitting\n",
      "Tettigoniaviridissima_XC489197-Unknown_tettigoniidae_poland_psz_19.10_180910-5233_edit1.wav Long sample (95.33163265306122) and normal splitting\n",
      "Pseudochorthippusmontanus_XC752610-dat016-016_edit3.wav skipped as too short\n",
      "Chorthippusbrunneus_Take92.wav skipped as too short\n"
     ]
    },
    {
     "name": "stderr",
     "output_type": "stream",
     "text": [
      " 87%|████████▋ | 1523/1751 [01:36<00:10, 22.41it/s]"
     ]
    },
    {
     "name": "stdout",
     "output_type": "stream",
     "text": [
      "Gampsocleisglabra_XC752049-dat125-005.wav Long sample (64.86580498866213) and normal splittingNo silence remove applied: File 'Yoyettacelis_GBIF2447980424_IN35039080_49475_edit2.wav' is too short (5.0sec)\n",
      "Yoyettacelis_GBIF2447980424_IN35039080_49475_edit2.wav skipped as too short\n",
      "\n",
      "No silence remove applied: File 'Grylluscampestris_XC751422-dat010-001_edit5.wav' is too short (7.0sec)\n",
      "Grylluscampestris_XC751422-dat010-001_edit5.wav skipped as too short\n"
     ]
    },
    {
     "name": "stderr",
     "output_type": "stream",
     "text": [
      " 87%|████████▋ | 1526/1751 [01:37<00:10, 22.21it/s]"
     ]
    },
    {
     "name": "stdout",
     "output_type": "stream",
     "text": [
      "Decticusverrucivorus_XC751963-dat016-009.wav Long sample (279.10260770975054) and normal splittingNo silence remove applied: File 'Cyclochilaaustralasiae_GBIF2988310032_IN64913166_148835.wav' is too short (6.3sec)\n",
      "\n",
      "Cyclochilaaustralasiae_GBIF2988310032_IN64913166_148835.wav skipped as too short\n"
     ]
    },
    {
     "name": "stderr",
     "output_type": "stream",
     "text": [
      " 87%|████████▋ | 1529/1751 [01:37<00:15, 14.66it/s]"
     ]
    },
    {
     "name": "stdout",
     "output_type": "stream",
     "text": [
      "Roeselianaroeselii_XC752375-dat006-018.wav Long sample (65.90546485260771) and normal splittingBarbitistesyersini_XC752465-dat047-006_edit1.wav skipped as too short\n",
      "\n",
      "Tettigoniaviridissima_GBIF3384276462_IN94465462_304259.wav skipped as too shortPseudochorthippusparallelus_XC752313-dat005-059_edit2.wav skipped as too short\n",
      "\n"
     ]
    },
    {
     "name": "stderr",
     "output_type": "stream",
     "text": [
      " 87%|████████▋ | 1532/1751 [01:37<00:14, 15.53it/s]"
     ]
    },
    {
     "name": "stdout",
     "output_type": "stream",
     "text": [
      "No silence remove applied: File 'Chorthippusbrunneus_XC751387-dat005-058_edit2.wav' is too short (5.0sec)\n",
      "Chorthippusbrunneus_XC751387-dat005-058_edit2.wav skipped as too short\n",
      "Myrmeleotettixmaculatus_XC752576-dat015-005_edit7.wav skipped as too short\n"
     ]
    },
    {
     "name": "stderr",
     "output_type": "stream",
     "text": [
      " 88%|████████▊ | 1534/1751 [01:37<00:14, 15.45it/s]"
     ]
    },
    {
     "name": "stdout",
     "output_type": "stream",
     "text": [
      "No silence remove applied: File 'Gomphocerippusrufus_XC752279-dat022-007_edit2.wav' is too short (6.0sec)\n",
      "Gomphocerippusrufus_XC752279-dat022-007_edit2.wav skipped as too short\n"
     ]
    },
    {
     "name": "stderr",
     "output_type": "stream",
     "text": [
      " 88%|████████▊ | 1536/1751 [01:37<00:15, 13.69it/s]"
     ]
    },
    {
     "name": "stdout",
     "output_type": "stream",
     "text": [
      "Chorthippusmollis_XC751839-dat184-001_edit5.wav skipped as too short\n",
      "Gryllusbimaculatus_XC751732-dat001-026.wav Long sample (54.753197278911564) and normal splitting\n",
      "Myrmeleotettixmaculatus_XC752585-dat007-033_edit1.wav Long sample (55.78414965986394) and normal splitting\n",
      "Chorthippusbiguttulus_XC752349-dat005-054_edit1.wav skipped as too short\n"
     ]
    },
    {
     "name": "stderr",
     "output_type": "stream",
     "text": [
      " 88%|████████▊ | 1538/1751 [01:38<00:16, 12.61it/s]"
     ]
    },
    {
     "name": "stdout",
     "output_type": "stream",
     "text": [
      "No silence remove applied: File 'Psaltodaplaga_GBIF3008502934_IN66898251_154657.wav' is too short (5.8sec)\n",
      "Psaltodaplaga_GBIF3008502934_IN66898251_154657.wav skipped as too short\n",
      "Barbitistesyersini_XC752469-dat050-003_edit1.wav Long sample (165.21009070294784) and normal splitting\n",
      "Tettigoniaviridissima_GBIF2864704244_IN59859635_136713.wav skipped as too short\n"
     ]
    },
    {
     "name": "stderr",
     "output_type": "stream",
     "text": [
      " 88%|████████▊ | 1540/1751 [01:38<00:16, 12.78it/s]"
     ]
    },
    {
     "name": "stdout",
     "output_type": "stream",
     "text": [
      "No silence remove applied: File 'Omocestuspetraeus_XC752478-dat058-004_edit4.wav' is too short (7.0sec)\n",
      "Omocestuspetraeus_XC752478-dat058-004_edit4.wav skipped as too short\n",
      "No silence remove applied: File 'Myrmeleotettixmaculatus_XC751522-dat003-022_edit1.wav' is too short (7.0sec)\n",
      "Myrmeleotettixmaculatus_XC751522-dat003-022_edit1.wav skipped as too short\n"
     ]
    },
    {
     "name": "stderr",
     "output_type": "stream",
     "text": [
      " 88%|████████▊ | 1543/1751 [01:38<00:14, 14.67it/s]"
     ]
    },
    {
     "name": "stdout",
     "output_type": "stream",
     "text": [
      "No silence remove applied: File 'Stenobothrusstigmaticus_XC751711-dat141-002_edit2.wav' is too short (4.0sec)\n",
      "Stenobothrusstigmaticus_XC751711-dat141-002_edit2.wav skipped as too short\n",
      "No silence remove applied: File 'Pholidopteralittoralis_XC752439-dat049-001_edit5.wav' is too short (2.0sec)\n",
      "Pholidopteralittoralis_XC752439-dat049-001_edit5.wav skipped as too short\n"
     ]
    },
    {
     "name": "stderr",
     "output_type": "stream",
     "text": [
      " 88%|████████▊ | 1546/1751 [01:38<00:11, 17.37it/s]"
     ]
    },
    {
     "name": "stdout",
     "output_type": "stream",
     "text": [
      "Myrmeleotettixmaculatus_XC752582-dat016-018_edit1.wav skipped as too short\n",
      "Grylluscampestris_XC751428-dat010-007_edit1.wav skipped as too short\n",
      "Cicadaorni_GBIF3330463744_IN87382478_276182.wav skipped as too short\n"
     ]
    },
    {
     "name": "stderr",
     "output_type": "stream",
     "text": [
      " 88%|████████▊ | 1549/1751 [01:38<00:10, 19.02it/s]"
     ]
    },
    {
     "name": "stdout",
     "output_type": "stream",
     "text": [
      "No silence remove applied: File 'Stenobothrusstigmaticus_XC751996-dat004-041_edit1.wav' is too short (3.0sec)\n",
      "Stenobothrusstigmaticus_XC751996-dat004-041_edit1.wav skipped as too short\n",
      "Pseudochorthippusmontanus_XC752605-dat012-003_edit11.wav skipped as too short\n",
      "No silence remove applied: File 'Pholidopteralittoralis_XC752439-dat049-001_edit1.wav' is too short (2.0sec)\n",
      "Pholidopteralittoralis_XC752439-dat049-001_edit1.wav skipped as too short\n",
      "Gomphocerussibiricus_XC751796-dat187-005_edit4.wav skipped as too short\n"
     ]
    },
    {
     "name": "stderr",
     "output_type": "stream",
     "text": [
      " 89%|████████▊ | 1553/1751 [01:38<00:08, 22.67it/s]"
     ]
    },
    {
     "name": "stdout",
     "output_type": "stream",
     "text": [
      "Chorthippusalbomarginatus_XC751375-dat001-029.wav skipped as too short\n",
      "No silence remove applied: File 'Platycleisalbopunctata_XC751533-dat003-010.wav' is too short (9.952857142857143sec)\n",
      "Platycleisalbopunctata_XC751533-dat003-010.wav skipped as too short\n",
      "No silence remove applied: File 'Barbitistesyersini_XC752503-dat053-003_edit3.wav' is too short (2.0sec)\n",
      "Barbitistesyersini_XC752503-dat053-003_edit3.wav skipped as too short\n"
     ]
    },
    {
     "name": "stderr",
     "output_type": "stream",
     "text": [
      " 89%|████████▉ | 1556/1751 [01:39<00:09, 20.62it/s]"
     ]
    },
    {
     "name": "stdout",
     "output_type": "stream",
     "text": [
      "No silence remove applied: File 'Tettigoniacantans_XC751950-dat036-004_edit4.wav' is too short (7.0sec)\n",
      "Tettigoniacantans_XC751950-dat036-004_edit4.wav skipped as too short\n",
      "Pseudochorthippusmontanus_XC752605-dat012-003_edit15.wav skipped as too short\n",
      "Chorthippusmollis_XC751839-dat184-001_edit1.wav skipped as too short\n"
     ]
    },
    {
     "name": "stderr",
     "output_type": "stream",
     "text": [
      " 89%|████████▉ | 1559/1751 [01:39<00:09, 20.19it/s]"
     ]
    },
    {
     "name": "stdout",
     "output_type": "stream",
     "text": [
      "No silence remove applied: File 'Omocestusviridulus_XC752273-dat009-010_edit2.wav' is too short (6.0sec)\n",
      "Omocestusviridulus_XC752273-dat009-010_edit2.wav skipped as too short\n",
      "Myrmeleotettixmaculatus_XC752582-dat016-018_edit5.wav skipped as too short\n"
     ]
    },
    {
     "name": "stderr",
     "output_type": "stream",
     "text": [
      " 89%|████████▉ | 1562/1751 [01:39<00:09, 20.07it/s]"
     ]
    },
    {
     "name": "stdout",
     "output_type": "stream",
     "text": [
      "No silence remove applied: File 'Conocephalusfuscus_XC752381-dat033-003_edit4.wav' is too short (4.5sec)\n",
      "Conocephalusfuscus_XC752381-dat033-003_edit4.wav skipped as too short\n",
      "Omocestusviridulus_XC752260-dat011-001_edit1.wav Long sample (30.843854875283448) and normal splitting\n",
      "No silence remove applied: File 'Pseudochorthippusmontanus_XC752602-dat011-009_edit3.wav' is too short (5.0sec)\n",
      "Pseudochorthippusmontanus_XC752602-dat011-009_edit3.wav skipped as too short\n",
      "No silence remove applied: File 'Galangalabeculata_GBIF2550063942_IN37438916_54465.wav' is too short (7.4sec)\n",
      "Galangalabeculata_GBIF2550063942_IN37438916_54465.wav skipped as too shortChorthippusapricarius_XC752589-dat004-009_edit1.wav skipped as too short\n"
     ]
    },
    {
     "name": "stderr",
     "output_type": "stream",
     "text": [
      " 89%|████████▉ | 1566/1751 [01:39<00:08, 23.09it/s]"
     ]
    },
    {
     "name": "stdout",
     "output_type": "stream",
     "text": [
      "\n",
      "No silence remove applied: File 'Yoyettacelis_GBIF1931497325_IN17487184_26528.wav' is too short (5.688888888888889sec)\n",
      "Yoyettacelis_GBIF1931497325_IN17487184_26528.wav skipped as too short\n"
     ]
    },
    {
     "name": "stderr",
     "output_type": "stream",
     "text": [
      " 90%|████████▉ | 1569/1751 [01:39<00:08, 22.29it/s]"
     ]
    },
    {
     "name": "stdout",
     "output_type": "stream",
     "text": [
      "No silence remove applied: File 'Chorthippusapricarius_GBIF3858573824_IN121917533_472733.wav' is too short (7.558571428571429sec)\n",
      "Chorthippusapricarius_GBIF3858573824_IN121917533_472733.wav skipped as too short\n",
      "Myrmeleotettixmaculatus_XC752576-dat015-005_edit3.wav skipped as too shortNo silence remove applied: File 'Chorthippusbiguttulus_XC752342-dat005-024_edit1.wav' is too short (4.0sec)\n",
      "\n",
      "Chorthippusbiguttulus_XC752342-dat005-024_edit1.wav skipped as too short\n",
      "No silence remove applied: File 'Grylluscampestris_XC751422-dat010-001_edit1.wav' is too short (8.0sec)\n",
      "Grylluscampestris_XC751422-dat010-001_edit1.wav skipped as too short\n",
      "Myrmeleotettixmaculatus_XC752585-dat007-033_edit5.wav Long sample (32.64496598639456) and normal splitting\n",
      "Omocestusrufipes_XC751617-dat001-050_edit1.wav skipped as too short\n"
     ]
    },
    {
     "name": "stderr",
     "output_type": "stream",
     "text": [
      " 90%|████████▉ | 1574/1751 [01:39<00:08, 21.34it/s]"
     ]
    },
    {
     "name": "stdout",
     "output_type": "stream",
     "text": [
      "No silence remove applied: File 'Gomphocerippusrufus_XC752298-dat005-050_edit1.wav' is too short (7.0sec)\n",
      "Gomphocerippusrufus_XC752298-dat005-050_edit1.wav skipped as too short\n",
      "No silence remove applied: File 'Chorthippusbrunneus_CHOBRU_20180914_141921.M.wav' is too short (6.299002267573696sec)\n",
      "Chorthippusbrunneus_CHOBRU_20180914_141921.M.wav skipped as too short\n",
      "No silence remove applied: File 'Phaneropterafalcata_XC751649-dat033-007_edit3.wav' is too short (8.0sec)\n",
      "Phaneropterafalcata_XC751649-dat033-007_edit3.wav skipped as too short\n"
     ]
    },
    {
     "name": "stderr",
     "output_type": "stream",
     "text": [
      " 90%|█████████ | 1577/1751 [01:39<00:07, 22.22it/s]"
     ]
    },
    {
     "name": "stdout",
     "output_type": "stream",
     "text": [
      "Eumodicogryllusbordigalensis_XC752228-dat113-014.wav Long sample (192.51458049886622) and normal splitting\n",
      "No silence remove applied: File 'Tettigoniacantans_XC751936-dat030-005_edit6.wav' is too short (8.0sec)\n",
      "Tettigoniacantans_XC751942-dat033-013_edit7.wav skipped as too shortTettigoniacantans_XC751936-dat030-005_edit6.wav skipped as too short\n",
      "\n"
     ]
    },
    {
     "name": "stderr",
     "output_type": "stream",
     "text": [
      " 90%|█████████ | 1580/1751 [01:40<00:07, 23.17it/s]"
     ]
    },
    {
     "name": "stdout",
     "output_type": "stream",
     "text": [
      "No silence remove applied: File 'Omocestusrufipes_XC751790-dat022-002_edit4.wav' is too short (5.0sec)Achetadomesticus_XC751746-dat007-030_edit1.wav Long sample (104.38628117913832) and normal splitting\n",
      "\n",
      "Omocestusrufipes_XC751790-dat022-002_edit4.wav skipped as too short\n",
      "No silence remove applied: File 'Ephippigerdiurnus_XC751707-dat064-010_edit2.wav' is too short (2.0sec)\n",
      "Ephippigerdiurnus_XC751707-dat064-010_edit2.wav skipped as too short\n",
      "No silence remove applied: File 'Yoyettacelis_GBIF2529392439_IN36653430_52811.wav' is too short (3.4sec)\n",
      "Yoyettacelis_GBIF2529392439_IN36653430_52811.wav skipped as too short\n",
      "Conocephalusfuscus_XC752053-dat036-001_edit2.wav skipped as too short\n"
     ]
    },
    {
     "name": "stderr",
     "output_type": "stream",
     "text": [
      " 90%|█████████ | 1584/1751 [01:40<00:06, 26.85it/s]"
     ]
    },
    {
     "name": "stdout",
     "output_type": "stream",
     "text": [
      "Chorthippusapricarius_XC752127-dat035-001_edit1.wav skipped as too short\n",
      "Chorthippusvagans_XC751803-dat014-008_edit4.wav skipped as too short\n",
      "Gomphocerippusrufus_XC752281-dat037-003_edit2.wav Long sample (199.3790476190476) and normal splittingNo silence remove applied: File 'Omocestuspetraeus_XC752478-dat058-004_edit10.wav' is too short (3.0sec)\n",
      "\n",
      "Omocestuspetraeus_XC752478-dat058-004_edit10.wav skipped as too short\n"
     ]
    },
    {
     "name": "stderr",
     "output_type": "stream",
     "text": [
      " 91%|█████████ | 1587/1751 [01:40<00:07, 20.61it/s]"
     ]
    },
    {
     "name": "stdout",
     "output_type": "stream",
     "text": [
      "Grylluscampestris_XC751432-dat010-011_edit4.wav Long sample (64.7133560090703) and normal splitting\n",
      "Myrmeleotettixmaculatus_XC752578-dat010-018_edit1.wav skipped as too short\n",
      "No silence remove applied: File 'Atrapsaltaencaustica_GBIF2988499029_IN64893462_148755.wav' is too short (4.2sec)\n",
      "Atrapsaltaencaustica_GBIF2988499029_IN64893462_148755.wav skipped as too short\n",
      "Platypleuracfcatenata_MHV%20288%20P.catenata%20Houwhoek%20Pass%20%231_edit1.wav skipped as too short\n"
     ]
    },
    {
     "name": "stderr",
     "output_type": "stream",
     "text": [
      " 91%|█████████ | 1590/1751 [01:40<00:09, 17.59it/s]"
     ]
    },
    {
     "name": "stdout",
     "output_type": "stream",
     "text": [
      "Grylluscampestris_GBIF2626426017_IN45297855_85267_edit1.wav skipped as too short\n",
      "No silence remove applied: File 'Eupholidopteraschmidti_XC752427-dat056-002.wav' is too short (2.756734693877551sec)\n",
      "Eupholidopteraschmidti_XC752427-dat056-002.wav skipped as too short\n"
     ]
    },
    {
     "name": "stderr",
     "output_type": "stream",
     "text": [
      " 91%|█████████ | 1593/1751 [01:40<00:09, 16.76it/s]"
     ]
    },
    {
     "name": "stdout",
     "output_type": "stream",
     "text": [
      "Chorthippusbiguttulus_XC752348-dat005-053_edit1.wav skipped as too short\n"
     ]
    },
    {
     "name": "stderr",
     "output_type": "stream",
     "text": [
      " 91%|█████████ | 1595/1751 [01:40<00:09, 16.73it/s]"
     ]
    },
    {
     "name": "stdout",
     "output_type": "stream",
     "text": [
      "Ephippigerdiurnus_XC752095-dat034-012.wav Long sample (99.11138321995465) and normal splitting\n",
      "Conocephalusfuscus_XC752058-dat037-005_edit2.wav Long sample (74.8452380952381) and normal splitting\n",
      "Omocestusrufipes_XC753106-Omocestus-rufipes-SBEN_05_10_2008_2CH44K16_edit4.wav skipped as too short\n"
     ]
    },
    {
     "name": "stderr",
     "output_type": "stream",
     "text": [
      " 91%|█████████ | 1597/1751 [01:41<00:15,  9.63it/s]"
     ]
    },
    {
     "name": "stdout",
     "output_type": "stream",
     "text": [
      "No silence remove applied: File 'Yoyettacelis_GBIF2981123335_IN64341288_147270_edit1.wav' is too short (5.0sec)\n",
      "Yoyettacelis_GBIF2981123335_IN64341288_147270_edit1.wav skipped as too short\n",
      "No silence remove applied: File 'Omocestuspetraeus_XC752478-dat058-004_edit11.wav' is too short (4.0sec)\n",
      "Omocestuspetraeus_XC752478-dat058-004_edit11.wav skipped as too short\n",
      "Gryllusbimaculatus_XC751733-dat001-027.wav Long sample (34.10378684807256) and normal splitting\n",
      "Platypleurasp10_MHV%20313%20P.sp10%20Die%20Koo%20%231_edit1.wav Long sample (94.21521541950113) and normal splitting\n"
     ]
    },
    {
     "name": "stderr",
     "output_type": "stream",
     "text": [
      " 91%|█████████▏| 1600/1751 [01:41<00:14, 10.17it/s]"
     ]
    },
    {
     "name": "stdout",
     "output_type": "stream",
     "text": [
      "No silence remove applied: File 'Chorthippusvagans_XC751803-dat014-008_edit5.wav' is too short (7.0sec)\n",
      "Omocestusviridulus_XC752262-dat011-003_edit6.wav Long sample (33.358707482993196) and normal splittingChorthippusvagans_XC751803-dat014-008_edit5.wav skipped as too short\n",
      "\n",
      "No silence remove applied: File 'Popplepsaltanotialis_GBIF1805377542_IN9418988_17081.wav' is too short (9.671111111111111sec)\n",
      "Popplepsaltanotialis_GBIF1805377542_IN9418988_17081.wav skipped as too short\n",
      "No silence remove applied: File 'Galangalabeculata_GBIF2609086456_IN40114602_62111.wav' is too short (4.5sec)\n",
      "Galangalabeculata_GBIF2609086456_IN40114602_62111.wav skipped as too short\n",
      "No silence remove applied: File 'Ephippigerdiurnus_XC751707-dat064-010_edit3.wav' is too short (2.0sec)\n",
      "Ephippigerdiurnus_XC751707-dat064-010_edit3.wav skipped as too short\n"
     ]
    },
    {
     "name": "stderr",
     "output_type": "stream",
     "text": [
      " 92%|█████████▏| 1605/1751 [01:41<00:09, 15.38it/s]"
     ]
    },
    {
     "name": "stdout",
     "output_type": "stream",
     "text": [
      "No silence remove applied: File 'Galangalabeculata_GBIF3031923594_IN68524032_160407.wav' is too short (8.0sec)\n",
      "Galangalabeculata_GBIF3031923594_IN68524032_160407.wav skipped as too short\n",
      "No silence remove applied: File 'Conocephalusfuscus_XC752053-dat036-001_edit3.wav' is too short (8.0sec)\n",
      "Conocephalusfuscus_XC752053-dat036-001_edit3.wav skipped as too short\n",
      "No silence remove applied: File 'Phaneropterafalcata_XC751639-dat030-016.wav' is too short (2.8240589569160996sec)\n",
      "Phaneropterafalcata_XC751639-dat030-016.wav skipped as too short\n"
     ]
    },
    {
     "name": "stderr",
     "output_type": "stream",
     "text": [
      " 92%|█████████▏| 1610/1751 [01:41<00:06, 20.83it/s]"
     ]
    },
    {
     "name": "stdout",
     "output_type": "stream",
     "text": [
      "No silence remove applied: File 'Tettigoniacantans_XC751936-dat030-005_edit7.wav' is too short (8.0sec)\n",
      "Tettigoniacantans_XC751936-dat030-005_edit7.wav skipped as too short\n",
      "Eumodicogryllusbordigalensis_XC752108-dat172-003_edit1.wav skipped as too short\n",
      "No silence remove applied: File 'Phaneropterafalcata_XC751649-dat033-007_edit2.wav' is too short (4.0sec)\n",
      "Phaneropterafalcata_XC751649-dat033-007_edit2.wav skipped as too short\n"
     ]
    },
    {
     "name": "stderr",
     "output_type": "stream",
     "text": [
      " 92%|█████████▏| 1614/1751 [01:42<00:05, 23.28it/s]"
     ]
    },
    {
     "name": "stdout",
     "output_type": "stream",
     "text": [
      "Omocestusrufipes_XC751790-dat022-002_edit5.wav skipped as too short\n",
      "Tettigoniacantans_XC751942-dat033-013_edit6.wav skipped as too short\n",
      "Remove silence failed: An entire file 'Oecanthuspellucens_XC752813-520732_edit1.wav' would be removed, skipping...Aleetacurvicosta_GBIF3032104513_IN68465080_159988.wav skipped as too short\n",
      "\n",
      "Oecanthuspellucens_XC752813-520732_edit1.wav skipped as too short\n"
     ]
    },
    {
     "name": "stderr",
     "output_type": "stream",
     "text": [
      " 92%|█████████▏| 1618/1751 [01:42<00:05, 25.52it/s]"
     ]
    },
    {
     "name": "stdout",
     "output_type": "stream",
     "text": [
      "Barbitistesyersini_XC752469-dat050-003_edit4.wav skipped as too short\n",
      "No silence remove applied: File 'Pholidopteraaptera_XC751368-dat147-004_edit1.wav' is too short (6.0sec)\n",
      "Pholidopteraaptera_XC751368-dat147-004_edit1.wav skipped as too short\n",
      "Omocestusviridulus_XC752420-dat097-016.wav Long sample (427.6015873015873) and normal splitting\n",
      "Myrmeleotettixmaculatus_XC752576-dat015-005_edit2.wav skipped as too short\n"
     ]
    },
    {
     "name": "stderr",
     "output_type": "stream",
     "text": [
      " 93%|█████████▎| 1622/1751 [01:42<00:08, 14.84it/s]"
     ]
    },
    {
     "name": "stdout",
     "output_type": "stream",
     "text": [
      "No silence remove applied: File 'Phaneropterafalcata_XC751633-dat030-009_edit1.wav' is too short (4.0sec)\n",
      "Phaneropterafalcata_XC751633-dat030-009_edit1.wav skipped as too short\n",
      "Chorthippusalbomarginatus_XC751374-dat001-028.wav Long sample (74.39961451247166) and normal splitting\n",
      "Ephippigerdiurnus_XC752085-dat001-014.wav Long sample (103.30469387755102) and normal splittingConocephalusfuscus_XC752387-dat036-005_edit1.wav Long sample (74.62072562358277) and normal splitting\n",
      "\n",
      "Myrmeleotettixmaculatus_XC752585-dat007-033_edit4.wav skipped as too short\n",
      "Grylluscampestris_XC751432-dat010-011_edit5.wav Long sample (91.16834467120181) and normal splitting\n",
      "Platypleuracfcatenata_MHV%20286%20P.catenata%20Grabow%20%233_edit1.wav Long sample (117.74197278911565) and normal splitting\n"
     ]
    },
    {
     "name": "stderr",
     "output_type": "stream",
     "text": [
      " 93%|█████████▎| 1625/1751 [01:43<00:12,  9.81it/s]"
     ]
    },
    {
     "name": "stdout",
     "output_type": "stream",
     "text": [
      "No silence remove applied: File 'Yoyettacelis_GBIF2518151971_IN36577352_52564_edit1.wav' is too short (3.0sec)\n",
      "Yoyettacelis_GBIF2518151971_IN36577352_52564_edit1.wav skipped as too short\n",
      "No silence remove applied: File 'Pseudochorthippusmontanus_XC752602-dat011-009_edit2.wav' is too short (5.0sec)\n",
      "Pseudochorthippusmontanus_XC752602-dat011-009_edit2.wav skipped as too short\n",
      "Pholidopteraaptera_GBIF3399132112_IN98374638_317043.wav skipped as too short\n"
     ]
    },
    {
     "name": "stderr",
     "output_type": "stream",
     "text": [
      " 93%|█████████▎| 1629/1751 [01:43<00:10, 11.64it/s]"
     ]
    },
    {
     "name": "stdout",
     "output_type": "stream",
     "text": [
      "No silence remove applied: File 'Conocephalusfuscus_XC752381-dat033-003_edit5.wav' is too short (4.0sec)\n",
      "Conocephalusfuscus_XC752381-dat033-003_edit5.wav skipped as too short\n",
      "Nemobiussylvestris_Take17.wav Long sample (101.1340589569161) and normal splitting\n",
      "Pseudochorthippusparallelus_XC751499-dat003-015.wav Long sample (38.73487528344671) and normal splitting\n",
      "No silence remove applied: File 'Omocestuspetraeus_XC752478-dat058-004_edit1.wav' is too short (5.0sec)\n",
      "Omocestuspetraeus_XC752478-dat058-004_edit1.wav skipped as too short\n"
     ]
    },
    {
     "name": "stderr",
     "output_type": "stream",
     "text": [
      " 93%|█████████▎| 1632/1751 [01:43<00:08, 13.76it/s]"
     ]
    },
    {
     "name": "stdout",
     "output_type": "stream",
     "text": [
      "Myrmeleotettixmaculatus_XC752582-dat016-018_edit4.wav skipped as too short\n",
      "No silence remove applied: File 'Galangalabeculata_GBIF2988529482_IN65259147_149703.wav' is too short (8.6sec)\n",
      "Galangalabeculata_GBIF2988529482_IN65259147_149703.wav skipped as too short\n",
      "No silence remove applied: File 'Tettigoniacantans_XC751950-dat036-004_edit5.wav' is too short (8.0sec)\n",
      "Tettigoniacantans_XC751950-dat036-004_edit5.wav skipped as too short\n"
     ]
    },
    {
     "name": "stderr",
     "output_type": "stream",
     "text": [
      " 93%|█████████▎| 1635/1751 [01:43<00:08, 13.03it/s]"
     ]
    },
    {
     "name": "stdout",
     "output_type": "stream",
     "text": [
      "No silence remove applied: File 'Omocestusviridulus_XC752107-dat022-003_edit2.wav' is too short (4.0sec)\n",
      "Omocestusviridulus_XC752107-dat022-003_edit2.wav skipped as too short\n"
     ]
    },
    {
     "name": "stderr",
     "output_type": "stream",
     "text": [
      " 94%|█████████▎| 1638/1751 [01:44<00:07, 15.31it/s]"
     ]
    },
    {
     "name": "stdout",
     "output_type": "stream",
     "text": [
      "No silence remove applied: File 'Barbitistesyersini_XC752503-dat053-003_edit2.wav' is too short (2.0sec)No silence remove applied: File 'Phaneropterafalcata_XC751640-dat030-017.wav' is too short (3.1025396825396827sec)\n",
      "Phaneropterafalcata_XC751640-dat030-017.wav skipped as too short\n",
      "\n",
      "Barbitistesyersini_XC752503-dat053-003_edit2.wav skipped as too short\n",
      "Omocestusviridulus_XC752274-dat009-011.wav skipped as too short\n"
     ]
    },
    {
     "name": "stderr",
     "output_type": "stream",
     "text": [
      " 94%|█████████▎| 1641/1751 [01:44<00:06, 15.95it/s]"
     ]
    },
    {
     "name": "stdout",
     "output_type": "stream",
     "text": [
      "Platypleuracfcatenata_MHV%20318%20P.capensis%20Prince%20Alberts%20Pass%20%232_edit1.wav Long sample (43.5587074829932) and normal splitting\n",
      "Pseudochorthippusmontanus_XC752605-dat012-003_edit14.wav skipped as too short\n",
      "Gomphocerussibiricus_XC751796-dat187-005_edit1.wav skipped as too short\n"
     ]
    },
    {
     "name": "stderr",
     "output_type": "stream",
     "text": [
      " 94%|█████████▍| 1644/1751 [01:44<00:08, 13.33it/s]"
     ]
    },
    {
     "name": "stdout",
     "output_type": "stream",
     "text": [
      "No silence remove applied: File 'Cicadaorni_GBIF3383852821_IN86268494_271156.wav' is too short (8.208253968253969sec)\n",
      "Cicadaorni_GBIF3383852821_IN86268494_271156.wav skipped as too short\n",
      "No silence remove applied: File 'Stenobothrusstigmaticus_XC751711-dat141-002_edit5.wav' is too short (5.0sec)\n",
      "Stenobothrusstigmaticus_XC751711-dat141-002_edit5.wav skipped as too short\n",
      "No silence remove applied: File 'Pholidopteralittoralis_XC752439-dat049-001_edit2.wav' is too short (2.0sec)\n",
      "Pholidopteralittoralis_XC752439-dat049-001_edit2.wav skipped as too short\n"
     ]
    },
    {
     "name": "stderr",
     "output_type": "stream",
     "text": [
      " 94%|█████████▍| 1648/1751 [01:44<00:06, 16.73it/s]"
     ]
    },
    {
     "name": "stdout",
     "output_type": "stream",
     "text": [
      "Conocephalusfuscus_XC752066-dat037-014_edit1.wav Long sample (159.8674149659864) and normal splitting\n",
      "Gomphocerussibiricus_XC751796-dat187-005_edit3.wav skipped as too short\n",
      "Pseudochorthippusmontanus_XC752605-dat012-003_edit16.wav skipped as too short\n"
     ]
    },
    {
     "name": "stderr",
     "output_type": "stream",
     "text": [
      " 94%|█████████▍| 1651/1751 [01:44<00:06, 14.78it/s]"
     ]
    },
    {
     "name": "stdout",
     "output_type": "stream",
     "text": [
      "Chorthippusbiguttulus_XC752347-dat005-029.wav skipped as too short\n",
      "Gomphocerippusrufus_XC752281-dat037-003_edit1.wav Long sample (48.69403628117914) and normal splitting\n",
      "No silence remove applied: File 'Yoyettacelis_GBIF2981016911_IN64009184_146469_edit1.wav' is too short (2.49sec)\n",
      "Yoyettacelis_GBIF2981016911_IN64009184_146469_edit1.wav skipped as too short\n"
     ]
    },
    {
     "name": "stderr",
     "output_type": "stream",
     "text": [
      " 94%|█████████▍| 1653/1751 [01:45<00:06, 14.12it/s]"
     ]
    },
    {
     "name": "stdout",
     "output_type": "stream",
     "text": [
      "No silence remove applied: File 'Chorthippusmollis_XC751839-dat184-001_edit2.wav' is too short (8.0sec)\n",
      "Chorthippusmollis_XC751839-dat184-001_edit2.wav skipped as too short\n",
      "Platycleisalbopunctata_XC751828-dat001-037.wav Long sample (43.32124716553288) and normal splitting\n",
      "Achetadomesticus_XC751752-dat194-002.wav Long sample (85.99684807256236) and normal splitting\n"
     ]
    },
    {
     "name": "stderr",
     "output_type": "stream",
     "text": [
      " 95%|█████████▍| 1655/1751 [01:45<00:08, 10.79it/s]"
     ]
    },
    {
     "name": "stdout",
     "output_type": "stream",
     "text": [
      "Gomphocerippusrufus_XC752281-dat037-003_edit3.wav Long sample (157.93367346938774) and normal splitting\n",
      "No silence remove applied: File 'Omocestusviridulus_XC752273-dat009-010_edit1.wav' is too short (7.0sec)\n",
      "Omocestusviridulus_XC752273-dat009-010_edit1.wav skipped as too short\n",
      "No silence remove applied: File 'Omocestuspetraeus_XC752478-dat058-004_edit3.wav' is too short (5.0sec)\n",
      "Omocestuspetraeus_XC752478-dat058-004_edit3.wav skipped as too short\n",
      "Omocestusviridulus_XC752260-dat011-001_edit2.wav skipped as too short\n"
     ]
    },
    {
     "name": "stderr",
     "output_type": "stream",
     "text": [
      " 95%|█████████▍| 1659/1751 [01:45<00:06, 14.84it/s]"
     ]
    },
    {
     "name": "stdout",
     "output_type": "stream",
     "text": [
      "Conocephalusfuscus_XC752066-dat037-014_edit3.wav skipped as too short\n",
      "Chorthippusbiguttulus_XC751615-dat001-048.wav skipped as too short\n"
     ]
    },
    {
     "name": "stderr",
     "output_type": "stream",
     "text": [
      " 95%|█████████▍| 1661/1751 [01:45<00:06, 14.35it/s]"
     ]
    },
    {
     "name": "stdout",
     "output_type": "stream",
     "text": [
      "Diceroproctaeugraphica_GBIF3455563906_IN85572136_267592.wav skipped as too short\n",
      "Myrmeleotettixmaculatus_XC752582-dat016-018_edit6.wav skipped as too short\n"
     ]
    },
    {
     "name": "stderr",
     "output_type": "stream",
     "text": [
      " 95%|█████████▍| 1663/1751 [01:45<00:06, 13.41it/s]"
     ]
    },
    {
     "name": "stdout",
     "output_type": "stream",
     "text": [
      "Omocestusviridulus_XC752264-dat012-008_edit9.wav skipped as too short\n",
      "No silence remove applied: File 'Pholidopteraaptera_XC751368-dat147-004_edit3.wav' is too short (4.0sec)\n",
      "Pholidopteraaptera_XC751368-dat147-004_edit3.wav skipped as too short\n"
     ]
    },
    {
     "name": "stderr",
     "output_type": "stream",
     "text": [
      " 95%|█████████▌| 1666/1751 [01:46<00:06, 13.52it/s]"
     ]
    },
    {
     "name": "stdout",
     "output_type": "stream",
     "text": [
      "Omocestusrufipes_XC751617-dat001-050_edit2.wav skipped as too short\n"
     ]
    },
    {
     "name": "stderr",
     "output_type": "stream",
     "text": [
      " 95%|█████████▌| 1669/1751 [01:46<00:05, 14.04it/s]"
     ]
    },
    {
     "name": "stdout",
     "output_type": "stream",
     "text": [
      "Pseudochorthippusmontanus_XC752610-dat016-016_edit4.wav Long sample (43.884580498866214) and normal splitting\n",
      "Grylluscampestris_XC751422-dat010-001_edit2.wav skipped as too short\n",
      "No silence remove applied: File 'Chorthippusbiguttulus_XC752342-dat005-024_edit2.wav' is too short (2.4sec)\n",
      "Chorthippusbiguttulus_XC752342-dat005-024_edit2.wav skipped as too short\n"
     ]
    },
    {
     "name": "stderr",
     "output_type": "stream",
     "text": [
      " 95%|█████████▌| 1671/1751 [01:46<00:06, 12.89it/s]"
     ]
    },
    {
     "name": "stdout",
     "output_type": "stream",
     "text": [
      "No silence remove applied: File 'Yoyettacelis_GBIF2529245166_IN36634490_52767.wav' is too short (2.4sec)\n",
      "Yoyettacelis_GBIF2529245166_IN36634490_52767.wav skipped as too short\n",
      "No silence remove applied: File 'Tettigoniacantans_XC751936-dat030-005_edit5.wav' is too short (9.0sec)\n",
      "Tettigoniacantans_XC751936-dat030-005_edit5.wav skipped as too short\n"
     ]
    },
    {
     "name": "stderr",
     "output_type": "stream",
     "text": [
      " 96%|█████████▌| 1674/1751 [01:46<00:06, 12.32it/s]"
     ]
    },
    {
     "name": "stdout",
     "output_type": "stream",
     "text": [
      "Tettigoniacantans_XC751942-dat033-013_edit4.wav skipped as too short\n"
     ]
    },
    {
     "name": "stderr",
     "output_type": "stream",
     "text": [
      " 96%|█████████▌| 1676/1751 [01:46<00:06, 11.22it/s]"
     ]
    },
    {
     "name": "stdout",
     "output_type": "stream",
     "text": [
      "No silence remove applied: File 'Eumodicogryllusbordigalensis_XC752108-dat172-003_edit3.wav' is too short (4.0sec)\n",
      "Chorthippusbiguttulus_XC751834-dat031-007_edit8.wav skipped as too short\n",
      "Eumodicogryllusbordigalensis_XC752108-dat172-003_edit3.wav skipped as too shortNo silence remove applied: File 'Ephippigerdiurnus_XC751707-dat064-010_edit1.wav' is too short (2.0sec)\n",
      "\n",
      "Ephippigerdiurnus_XC751707-dat064-010_edit1.wav skipped as too short\n",
      "Eumodicogryllusbordigalensis_GBIF3802811368_IN118394750_448710.wav skipped as too short\n"
     ]
    },
    {
     "name": "stderr",
     "output_type": "stream",
     "text": [
      " 96%|█████████▌| 1680/1751 [01:47<00:05, 12.80it/s]"
     ]
    },
    {
     "name": "stdout",
     "output_type": "stream",
     "text": [
      "No silence remove applied: File 'Chorthippusvagans_XC751803-dat014-008_edit7.wav' is too short (5.0sec)\n",
      "Chorthippusvagans_XC751803-dat014-008_edit7.wav skipped as too short\n",
      "Conocephalusfuscus_XC752053-dat036-001_edit1.wav skipped as too short\n",
      "No silence remove applied: File 'Pholidopteraaptera_GBIF3860049742_IN124084676_486598.wav' is too short (6.318979591836735sec)\n",
      "Pholidopteraaptera_GBIF3860049742_IN124084676_486598.wav skipped as too short\n",
      "Psaltodaplaga_GBIF2597731458_IN41497501_67103.wav skipped as too short\n"
     ]
    },
    {
     "name": "stderr",
     "output_type": "stream",
     "text": [
      " 96%|█████████▌| 1684/1751 [01:47<00:04, 14.78it/s]"
     ]
    },
    {
     "name": "stdout",
     "output_type": "stream",
     "text": [
      "Platypleuracfcatenata_MHV%20288%20P.catenata%20Houwhoek%20Pass%20%231_edit2.wav skipped as too short\n",
      "Ephippigerdiurnus_XC752102-dat034-013.wav Long sample (69.4484126984127) and normal splitting\n",
      "Gampsocleisglabra_XC752052-dat125-010.wav Long sample (190.2560090702948) and normal splitting\n",
      "Chorthippusapricarius_XC752127-dat035-001_edit2.wav Long sample (60.4037641723356) and normal splitting\n",
      "Grylluscampestris_GBIF2860137389_IN43187743_74372.wav skipped as too short\n"
     ]
    },
    {
     "name": "stderr",
     "output_type": "stream",
     "text": [
      " 96%|█████████▋| 1686/1751 [01:47<00:06,  9.86it/s]"
     ]
    },
    {
     "name": "stdout",
     "output_type": "stream",
     "text": [
      "No silence remove applied: File 'Roeselianaroeselii_ROEROE_20200811_113904.M.wav' is too short (7.890861678004535sec)\n",
      "Roeselianaroeselii_ROEROE_20200811_113904.M.wav skipped as too short\n",
      "Omocestusviridulus_XC752262-dat011-003_edit4.wav skipped as too short\n"
     ]
    },
    {
     "name": "stderr",
     "output_type": "stream",
     "text": [
      " 96%|█████████▋| 1688/1751 [01:48<00:06,  9.71it/s]"
     ]
    },
    {
     "name": "stdout",
     "output_type": "stream",
     "text": [
      "No silence remove applied: File 'Myrmeleotettixmaculatus_XC752578-dat010-018_edit2.wav' is too short (5.0sec)\n",
      "No silence remove applied: File 'Omocestuspetraeus_XC752478-dat058-004_edit13.wav' is too short (5.0sec)Myrmeleotettixmaculatus_XC752578-dat010-018_edit2.wav skipped as too short\n",
      "\n",
      "Omocestuspetraeus_XC752478-dat058-004_edit13.wav skipped as too short\n",
      "Decticusverrucivorus_XC751959-dat016-005_edit1.wav Long sample (175.85802721088436) and normal splittingNo silence remove applied: File 'Chorthippusbiguttulus_XC752348-dat005-053_edit2.wav' is too short (6.0sec)\n",
      "\n",
      "Chorthippusbiguttulus_XC752348-dat005-053_edit2.wav skipped as too short\n"
     ]
    },
    {
     "name": "stderr",
     "output_type": "stream",
     "text": [
      " 97%|█████████▋| 1692/1751 [01:48<00:04, 13.78it/s]"
     ]
    },
    {
     "name": "stdout",
     "output_type": "stream",
     "text": [
      "No silence remove applied: File 'Yoyettacelis_GBIF3039429656_IN69171156_162664.wav' is too short (1.4sec)\n",
      "Yoyettacelis_GBIF3039429656_IN69171156_162664.wav skipped as too short\n",
      "Gampsocleisglabra_XC751486-dat026-025.wav skipped as too short\n",
      "Chorthippusmollis_XC752480-dat062-010_edit4.wav skipped as too short\n"
     ]
    },
    {
     "name": "stderr",
     "output_type": "stream",
     "text": [
      " 97%|█████████▋| 1695/1751 [01:48<00:03, 15.54it/s]"
     ]
    },
    {
     "name": "stdout",
     "output_type": "stream",
     "text": [
      "No silence remove applied: File 'Myrmeleotettixmaculatus_XC752578-dat010-018_edit3.wav' is too short (9.0sec)\n",
      "Myrmeleotettixmaculatus_XC752578-dat010-018_edit3.wav skipped as too short\n",
      "No silence remove applied: File 'Omocestuspetraeus_XC752478-dat058-004_edit12.wav' is too short (6.0sec)\n",
      "Omocestuspetraeus_XC752478-dat058-004_edit12.wav skipped as too short\n"
     ]
    },
    {
     "name": "stderr",
     "output_type": "stream",
     "text": [
      " 97%|█████████▋| 1698/1751 [01:48<00:03, 17.29it/s]"
     ]
    },
    {
     "name": "stdout",
     "output_type": "stream",
     "text": [
      "Platycleisalbopunctata_XC751612-dat028-020.wav Long sample (418.6985260770975) and normal splitting\n",
      "Omocestusviridulus_XC752262-dat011-003_edit5.wav skipped as too short\n",
      "Gampsocleisglabra_XC752046-dat125-001.wav Long sample (63.317233560090706) and normal splitting\n",
      "Grylluscampestris_XC751432-dat010-011_edit7.wav Long sample (130.91857142857143) and normal splitting\n",
      "Conocephalusfuscus_XC752058-dat037-005_edit1.wav Long sample (129.9345804988662) and normal splitting\n",
      "No silence remove applied: File 'Chorthippusvagans_XC751803-dat014-008_edit6.wav' is too short (4.0sec)\n",
      "Chorthippusvagans_XC751803-dat014-008_edit6.wav skipped as too short\n"
     ]
    },
    {
     "name": "stderr",
     "output_type": "stream",
     "text": [
      " 97%|█████████▋| 1701/1751 [01:49<00:05,  8.75it/s]"
     ]
    },
    {
     "name": "stdout",
     "output_type": "stream",
     "text": [
      "No silence remove applied: File 'Aleetacurvicosta_GBIF2576285848_IN39378239_59419.wav' is too short (8.7sec)\n",
      "Aleetacurvicosta_GBIF2576285848_IN39378239_59419.wav skipped as too short\n"
     ]
    },
    {
     "name": "stderr",
     "output_type": "stream",
     "text": [
      " 97%|█████████▋| 1703/1751 [01:49<00:04,  9.84it/s]"
     ]
    },
    {
     "name": "stdout",
     "output_type": "stream",
     "text": [
      "No silence remove applied: File 'Atrapsaltacollina_GBIF1831196785_IN9885437_17883_edit1.wav' is too short (7.0sec)\n",
      "Chorthippusapricarius_XC752127-dat035-001_edit3.wav skipped as too shortAtrapsaltacollina_GBIF1831196785_IN9885437_17883_edit1.wav skipped as too short\n",
      "\n",
      "No silence remove applied: File 'Galangalabeculata_GBIF2465349972_IN36305488_51621.wav' is too short (3.9sec)\n",
      "Galangalabeculata_GBIF2465349972_IN36305488_51621.wav skipped as too short\n",
      "No silence remove applied: File 'Chorthippusmollis_XC751761-dat005-065.wav' is too short (9.841859410430839sec)No silence remove applied: File 'Eumodicogryllusbordigalensis_XC752108-dat172-003_edit2.wav' is too short (7.0sec)\n",
      "\n",
      "Eumodicogryllusbordigalensis_XC752108-dat172-003_edit2.wav skipped as too short\n",
      "Chorthippusmollis_XC751761-dat005-065.wav skipped as too short\n",
      "Chorthippusbiguttulus_XC751834-dat031-007_edit9.wav skipped as too short\n"
     ]
    },
    {
     "name": "stderr",
     "output_type": "stream",
     "text": [
      " 98%|█████████▊| 1709/1751 [01:49<00:02, 15.95it/s]"
     ]
    },
    {
     "name": "stdout",
     "output_type": "stream",
     "text": [
      "Tettigoniacantans_XC751942-dat033-013_edit5.wav skipped as too short\n",
      "No silence remove applied: File 'Tettigoniacantans_XC751936-dat030-005_edit4.wav' is too short (9.0sec)\n",
      "Tettigoniacantans_XC751936-dat030-005_edit4.wav skipped as too short\n",
      "Phaneropterafalcata_XC751649-dat033-007_edit1.wav skipped as too short\n"
     ]
    },
    {
     "name": "stderr",
     "output_type": "stream",
     "text": [
      " 98%|█████████▊| 1713/1751 [01:49<00:02, 18.72it/s]"
     ]
    },
    {
     "name": "stdout",
     "output_type": "stream",
     "text": [
      "No silence remove applied: File 'Yoyettacelis_GBIF1935608414_IN18138816_27221.wav' is too short (6.095238095238095sec)\n",
      "Yoyettacelis_GBIF1935608414_IN18138816_27221.wav skipped as too short\n",
      "\n",
      "Omocestusrufipes_XC751790-dat022-002_edit6.wav skipped as too shortNo silence remove applied: File 'Stenobothrusstigmaticus_XC752018-dat005-014_edit1.wav' is too short (2.0sec)\n",
      "Stenobothrusstigmaticus_XC752018-dat005-014_edit1.wav skipped as too short\n",
      "Platypleurasp10_MHV%20847%20P.sp10%20nr%20Kagga%20Kama%20%231_edit1.wav skipped as too short\n"
     ]
    },
    {
     "name": "stderr",
     "output_type": "stream",
     "text": [
      " 98%|█████████▊| 1717/1751 [01:49<00:01, 19.78it/s]"
     ]
    },
    {
     "name": "stdout",
     "output_type": "stream",
     "text": [
      "No silence remove applied: File 'Pholidopteraaptera_XC751368-dat147-004_edit2.wav' is too short (6.0sec)\n",
      "Pholidopteraaptera_XC751368-dat147-004_edit2.wav skipped as too shortDecticusverrucivorus_XC751907-dat098-009.wav Long sample (60.37070294784581) and normal splitting\n",
      "\n"
     ]
    },
    {
     "name": "stderr",
     "output_type": "stream",
     "text": [
      " 98%|█████████▊| 1720/1751 [01:50<00:01, 17.40it/s]"
     ]
    },
    {
     "name": "stdout",
     "output_type": "stream",
     "text": [
      "Ephippigerdiurnus_XC752103-dat034-016_edit1.wav Long sample (121.39961451247166) and normal splitting\n",
      "Pseudochorthippusmontanus_XC752610-dat016-016_edit5.wav skipped as too short\n",
      "Grylluscampestris_XC751422-dat010-001_edit3.wav Long sample (57.66925170068027) and normal splitting\n",
      "Omocestusviridulus_XC752264-dat012-008_edit8.wav skipped as too short\n"
     ]
    },
    {
     "name": "stderr",
     "output_type": "stream",
     "text": [
      " 98%|█████████▊| 1723/1751 [01:50<00:02, 11.57it/s]"
     ]
    },
    {
     "name": "stdout",
     "output_type": "stream",
     "text": [
      "No silence remove applied: File 'Gomphocerippusrufus_XC752279-dat022-007_edit4.wav' is too short (6.0sec)\n",
      "Gomphocerippusrufus_XC752279-dat022-007_edit4.wav skipped as too short\n",
      "Tettigoniacantans_XC751450-dat044-020.wav Long sample (153.93945578231293) and normal splitting\n",
      "Chorthippusbrunneus_XC751387-dat005-058_edit4.wav skipped as too short\n"
     ]
    },
    {
     "name": "stderr",
     "output_type": "stream",
     "text": [
      " 99%|█████████▊| 1725/1751 [01:50<00:02, 10.86it/s]"
     ]
    },
    {
     "name": "stdout",
     "output_type": "stream",
     "text": [
      "No silence remove applied: File 'Clinopsaltaautumna_GBIF1920826468_IN17342351_26356_edit1.wav' is too short (5.0sec)\n",
      "Clinopsaltaautumna_GBIF1920826468_IN17342351_26356_edit1.wav skipped as too short\n",
      "Myrmeleotettixmaculatus_XC752576-dat015-005_edit1.wav skipped as too short\n"
     ]
    },
    {
     "name": "stderr",
     "output_type": "stream",
     "text": [
      " 99%|█████████▊| 1728/1751 [01:50<00:01, 13.23it/s]"
     ]
    },
    {
     "name": "stdout",
     "output_type": "stream",
     "text": [
      "No silence remove applied: File 'Pseudochorthippusmontanus_XC752602-dat011-009_edit1.wav' is too short (4.0sec)\n",
      "Pseudochorthippusmontanus_XC752602-dat011-009_edit1.wav skipped as too short\n",
      "No silence remove applied: File 'Galangalabeculata_GBIF2574201129_IN38306986_56878.wav' is too short (3.2sec)\n",
      "Chorthippusmollis_XC751772-dat005-076.wav skipped as too short\n",
      "Galangalabeculata_GBIF2574201129_IN38306986_56878.wav skipped as too short\n",
      "No silence remove applied: File 'Omocestuspetraeus_XC752478-dat058-004_edit2.wav' is too short (3.0sec)\n",
      "Omocestuspetraeus_XC752478-dat058-004_edit2.wav skipped as too short\n"
     ]
    },
    {
     "name": "stderr",
     "output_type": "stream",
     "text": [
      " 99%|█████████▉| 1733/1751 [01:50<00:00, 18.93it/s]"
     ]
    },
    {
     "name": "stdout",
     "output_type": "stream",
     "text": [
      "No silence remove applied: File 'Galangalabeculata_GBIF1978446031_IN19058490_28357.wav' is too short (8.045714285714286sec)Platycleisalbopunctata_XC751534-dat003-011.wav Long sample (67.40331065759638) and normal splitting\n",
      "\n",
      "Galangalabeculata_GBIF1978446031_IN19058490_28357.wav skipped as too short\n",
      "No silence remove applied: File 'Omocestusviridulus_XC752107-dat022-003_edit1.wav' is too short (8.0sec)\n",
      "Omocestusviridulus_XC752107-dat022-003_edit1.wav skipped as too short\n",
      "No silence remove applied: File 'Chorthippusmollis_XC751839-dat184-001_edit3.wav' is too short (6.0sec)\n",
      "Chorthippusmollis_XC751839-dat184-001_edit3.wav skipped as too short\n",
      "No silence remove applied: File 'Nemobiussylvestris_VOC_120808-0078.wav' is too short (1.1093424036281179sec)\n",
      "Nemobiussylvestris_VOC_120808-0078.wav skipped as too short\n",
      "No silence remove applied: File 'Barbitistesyersini_XC752503-dat053-003_edit1.wav' is too short (2.0sec)\n",
      "Grylluscampestris_XC751432-dat010-011_edit6.wav Long sample (94.32868480725624) and normal splittingBarbitistesyersini_XC752503-dat053-003_edit1.wav skipped as too short\n",
      "\n"
     ]
    },
    {
     "name": "stderr",
     "output_type": "stream",
     "text": [
      " 99%|█████████▉| 1738/1751 [01:51<00:00, 24.51it/s]"
     ]
    },
    {
     "name": "stdout",
     "output_type": "stream",
     "text": [
      "No silence remove applied: File 'Stenobothrusstigmaticus_XC751711-dat141-002_edit4.wav' is too short (4.0sec)\n",
      "Stenobothrusstigmaticus_XC751711-dat141-002_edit4.wav skipped as too short\n",
      "Omocestusviridulus_XC752260-dat011-001_edit3.wav Long sample (31.1243537414966) and normal splitting\n",
      "No silence remove applied: File 'Pholidopteralittoralis_XC752439-dat049-001_edit3.wav' is too short (2.0sec)"
     ]
    },
    {
     "name": "stderr",
     "output_type": "stream",
     "text": [
      " 99%|█████████▉| 1742/1751 [01:51<00:00, 16.44it/s]"
     ]
    },
    {
     "name": "stdout",
     "output_type": "stream",
     "text": [
      "\n",
      "Pseudochorthippusmontanus_XC752605-dat012-003_edit17.wav skipped as too shortPholidopteralittoralis_XC752439-dat049-001_edit3.wav skipped as too short\n",
      "\n",
      "No silence remove applied: File 'Galangalabeculata_GBIF1978446126_IN19060805_28347_edit1.wav' is too short (6.035419501133787sec)\n",
      "Galangalabeculata_GBIF1978446126_IN19060805_28347_edit1.wav skipped as too short\n",
      "Conocephalusfuscus_XC752066-dat037-014_edit2.wav Long sample (114.94192743764172) and normal splitting\n",
      "Gomphocerussibiricus_XC751796-dat187-005_edit2.wav skipped as too short\n"
     ]
    },
    {
     "name": "stderr",
     "output_type": "stream",
     "text": [
      "100%|█████████▉| 1746/1751 [01:51<00:00, 17.68it/s]"
     ]
    },
    {
     "name": "stdout",
     "output_type": "stream",
     "text": [
      "Conocephalusdorsalis_XC752036-dat004-002.wav Long sample (172.51061224489797) and normal splitting\n"
     ]
    },
    {
     "name": "stderr",
     "output_type": "stream",
     "text": [
      "100%|█████████▉| 1749/1751 [02:10<00:00, 10.13it/s]"
     ]
    },
    {
     "name": "stdout",
     "output_type": "stream",
     "text": [
      "Grylluscampestris_XC751436-dat010-015.wav Long sample (66.48541950113379) and normal splitting\n"
     ]
    },
    {
     "name": "stderr",
     "output_type": "stream",
     "text": [
      "100%|██████████| 1751/1751 [02:22<00:00, 12.26it/s]\n"
     ]
    }
   ],
   "source": [
    "workers.run_main()"
   ]
  },
  {
   "cell_type": "code",
   "execution_count": 5,
   "id": "5edab96d-e9c7-4811-98d3-57ea6334dee4",
   "metadata": {
    "tags": []
   },
   "outputs": [],
   "source": [
    "resampled_val_dir = os.path.join(data_processed_base, DATA_TAG, '02_resample_validation/train/')\n",
    "resampled_val_dest_dir = os.path.join(data_processed_base, DATA_TAG, '08_spit_resampled_validation_into_windows_with_short_samples/train/short_only')\n",
    "\n",
    "workers_val = BuzzOriginalSplitDatasetParallel(\n",
    "    resampled_val_dir, \n",
    "    resampled_val_dest_dir, \n",
    "    train_dataset=True,\n",
    "    MODEL_SR=32000,    \n",
    "    dp_class_args={\n",
    "        'short_only':True,        \n",
    "    },\n",
    "    metadata_csv=os.path.join(resampled_val_dir, 'metadata.csv'), \n",
    "    debug=True\n",
    ")"
   ]
  },
  {
   "cell_type": "code",
   "execution_count": 6,
   "id": "e3c71908-1e53-4639-98a4-72049adf93b3",
   "metadata": {
    "tags": []
   },
   "outputs": [
    {
     "name": "stdout",
     "output_type": "stream",
     "text": [
      "Generating new train/val files in '/root/data/gdsc_data/data_processed/data_8c86715/08_spit_resampled_validation_into_windows_with_short_samples/train/short_only' with splitted data...\n"
     ]
    },
    {
     "name": "stderr",
     "output_type": "stream",
     "text": [
      "  0%|          | 0/512 [00:00<?, ?it/s]"
     ]
    },
    {
     "name": "stdout",
     "output_type": "stream",
     "text": [
      "No silence remove applied: File 'Conocephalusfuscus_XC752526-dat060-004_edit3.wav' is too short (2.0sec)\n",
      "Conocephalusfuscus_XC752526-dat060-004_edit3.wav Sample size (2.0) and fuzzy begining splitting\n",
      "No silence remove applied: File 'Chorthippusbrunneus_XC751398-dat022-008_edit5.wav' is too short (5.0sec)\n",
      "No silence remove applied: File 'Yoyettacelis_GBIF2445097871_IN34622939_48749.wav' is too short (4.2sec)\n",
      "Yoyettacelis_GBIF2445097871_IN34622939_48749.wav Sample size (4.2) and fuzzy begining splitting\n",
      "Chorthippusbrunneus_XC751398-dat022-008_edit5.wav Sample size (5.0) and fuzzy begining splitting\n",
      "Atrapsaltacorticina_GBIF2901504947_IN62966536_143690.wav Sample size (11.37750566893424) and fuzzy begining splitting\n",
      "Cyclochilaaustralasiae_GBIF1978841250_IN19182596_28530.wav Sample size (12.982471655328798) and fuzzy begining splitting\n",
      "Omocestusviridulus_XC752263-dat012-007_edit1.wav Sample size (20.159478458049886) and fuzzy begining splittingOmocestusviridulus_XC752267-dat013-003_edit2.wav Sample size (29.383174603174602) and fuzzy begining splitting\n",
      "\n",
      "Conocephalusfuscus_XC752389-dat033-002_edit6.wav Long sample (38.93775510204082) and normal splitting\n"
     ]
    },
    {
     "name": "stderr",
     "output_type": "stream",
     "text": [
      "  0%|          | 1/512 [00:00<03:52,  2.20it/s]"
     ]
    },
    {
     "name": "stdout",
     "output_type": "stream",
     "text": [
      "No silence remove applied: File 'Stenobothrusstigmaticus_XC752022-dat005-018_edit1.wav' is too short (2.0sec)\n",
      "Stenobothrusstigmaticus_XC752022-dat005-018_edit1.wav Sample size (2.0) and fuzzy begining splitting\n"
     ]
    },
    {
     "name": "stderr",
     "output_type": "stream",
     "text": [
      "  0%|          | 2/512 [00:00<03:41,  2.30it/s]"
     ]
    },
    {
     "name": "stdout",
     "output_type": "stream",
     "text": [
      "No silence remove applied: File 'Yoyettacelis_GBIF2423092241_IN32808821_47052_edit1.wav' is too short (4.0sec)\n",
      "Yoyettacelis_GBIF2423092241_IN32808821_47052_edit1.wav Sample size (4.0) and fuzzy begining splitting\n",
      "No silence remove applied: File 'Stenobothrusstigmaticus_XC751549-dat014-004_edit4.wav' is too short (2.0sec)\n",
      "Stenobothrusstigmaticus_XC751549-dat014-004_edit4.wav Sample size (2.0) and fuzzy begining splitting\n",
      "No silence remove applied: File 'Pseudochorthippusparallelus_XC751867-dat097-021_edit2.wav' is too short (3.0sec)\n",
      "Pseudochorthippusparallelus_XC751867-dat097-021_edit2.wav Sample size (3.0) and fuzzy begining splitting\n"
     ]
    },
    {
     "name": "stderr",
     "output_type": "stream",
     "text": [
      "  1%|▏         | 7/512 [00:01<00:55,  9.03it/s]"
     ]
    },
    {
     "name": "stdout",
     "output_type": "stream",
     "text": [
      "Leptophyespunctatissima_XC751808-dat024-004_edit5.wav Sample size (6.2824263038548755) and fuzzy begining splitting\n",
      "Omocestusviridulus_XC752265-dat013-001_edit4.wav Sample size (7.308208616780045) and fuzzy begining splitting\n"
     ]
    },
    {
     "name": "stderr",
     "output_type": "stream",
     "text": [
      "  2%|▏         | 9/512 [00:01<00:56,  8.87it/s]"
     ]
    },
    {
     "name": "stdout",
     "output_type": "stream",
     "text": [
      "No silence remove applied: File 'Eupholidopteraschmidti_XC752428-dat056-006_edit5.wav' is too short (8.0sec)No silence remove applied: File 'Eupholidopteraschmidti_XC752428-dat056-006_edit4.wav' is too short (7.0sec)\n",
      "\n",
      "Eupholidopteraschmidti_XC752428-dat056-006_edit5.wav Sample size (8.0) and fuzzy begining splitting\n",
      "Eupholidopteraschmidti_XC752428-dat056-006_edit4.wav Sample size (7.0) and fuzzy begining splitting\n",
      "Stauroderusscalaris_XC751601-dat061-004_edit2.wav Long sample (47.00954648526077) and normal splitting\n",
      "No silence remove applied: File 'Nemobiussylvestris_XC752029-dat004-032_edit1.wav' is too short (5.0sec)\n",
      "Nemobiussylvestris_XC752029-dat004-032_edit1.wav Sample size (5.0) and fuzzy begining splitting\n"
     ]
    },
    {
     "name": "stderr",
     "output_type": "stream",
     "text": [
      "  3%|▎         | 14/512 [00:01<00:58,  8.50it/s]"
     ]
    },
    {
     "name": "stdout",
     "output_type": "stream",
     "text": [
      "Eupholidopteraschmidti_XC752434-dat051-018_edit1.wav Sample size (10.744104308390023) and fuzzy begining splitting\n",
      "Omocestusviridulus_XC752265-dat013-001_edit5.wav Long sample (37.69739229024943) and normal splitting\n",
      "Tettigoniaviridissima_GBIF3858768656_IN124075390_486463.wav Sample size (13.833990929705216) and fuzzy begining splitting\n",
      "No silence remove applied: File 'Yoyettacelis_GBIF2988439804_IN65459381_150417_edit1.wav' is too short (3.0sec)\n",
      "Yoyettacelis_GBIF2988439804_IN65459381_150417_edit1.wav Sample size (3.0) and fuzzy begining splitting\n"
     ]
    },
    {
     "name": "stderr",
     "output_type": "stream",
     "text": [
      "  3%|▎         | 17/512 [00:02<00:46, 10.57it/s]"
     ]
    },
    {
     "name": "stdout",
     "output_type": "stream",
     "text": [
      "Leptophyespunctatissima_XC751808-dat024-004_edit4.wav Sample size (11.50562358276644) and fuzzy begining splitting\n",
      "No silence remove applied: File 'Yoyettarepetens_GBIF2465318314_IN36334636_51697.wav' is too short (4.4sec)\n",
      "Yoyettarepetens_GBIF2465318314_IN36334636_51697.wav Sample size (4.4) and fuzzy begining splitting\n",
      "No silence remove applied: File 'Pseudochorthippusparallelus_XC751867-dat097-021_edit3.wav' is too short (4.0sec)\n",
      "Pseudochorthippusparallelus_XC751867-dat097-021_edit3.wav Sample size (4.0) and fuzzy begining splitting\n",
      "Stauroderusscalaris_XC751601-dat061-004_edit3.wav Long sample (38.357573696145124) and normal splitting\n"
     ]
    },
    {
     "name": "stderr",
     "output_type": "stream",
     "text": [
      "  4%|▍         | 20/512 [00:02<00:49,  9.99it/s]"
     ]
    },
    {
     "name": "stdout",
     "output_type": "stream",
     "text": [
      "Gomphocerippusrufus_XC752283-dat001-043.wav Long sample (84.83968253968254) and normal splittingNo silence remove applied: File 'Stenobothrusstigmaticus_XC751549-dat014-004_edit5.wav' is too short (2.0sec)\n",
      "\n",
      "Stenobothrusstigmaticus_XC751549-dat014-004_edit5.wav Sample size (2.0) and fuzzy begining splitting\n",
      "No silence remove applied: File 'Yoyettacelis_GBIF3032081309_IN67783455_157886.wav' is too short (2.3sec)\n",
      "Yoyettacelis_GBIF3032081309_IN67783455_157886.wav Sample size (2.3) and fuzzy begining splitting\n"
     ]
    },
    {
     "name": "stderr",
     "output_type": "stream",
     "text": [
      "  4%|▍         | 22/512 [00:03<01:10,  6.92it/s]"
     ]
    },
    {
     "name": "stdout",
     "output_type": "stream",
     "text": [
      "No silence remove applied: File 'Omocestuspetraeus_XC752474-dat055-011_edit1.wav' is too short (6.0sec)\n",
      "Omocestuspetraeus_XC752474-dat055-011_edit1.wav Sample size (6.0) and fuzzy begining splitting\n",
      "No silence remove applied: File 'Pholidopteraaptera_XC751362-dat145-002_edit1.wav' is too short (4.0sec)\n",
      "Pholidopteraaptera_XC751362-dat145-002_edit1.wav Sample size (4.0) and fuzzy begining splitting\n"
     ]
    },
    {
     "name": "stderr",
     "output_type": "stream",
     "text": [
      "  5%|▍         | 25/512 [00:03<00:55,  8.72it/s]"
     ]
    },
    {
     "name": "stdout",
     "output_type": "stream",
     "text": [
      "No silence remove applied: File 'Stenobothrusstigmaticus_XC751998-dat004-043_edit2.wav' is too short (3.0sec)\n",
      "Stenobothrusstigmaticus_XC751998-dat004-043_edit2.wav Sample size (3.0) and fuzzy begining splitting\n",
      "No silence remove applied: File 'Chorthippusbiguttulus_CHOBIG_20190906_163909.M.wav' is too short (7.11249433106576sec)\n",
      "Chorthippusbiguttulus_CHOBIG_20190906_163909.M.wav Sample size (7.11249433106576) and fuzzy begining splitting\n",
      "No silence remove applied: File 'Conocephalusfuscus_XC752526-dat060-004_edit2.wav' is too short (2.0sec)\n",
      "Conocephalusfuscus_XC752526-dat060-004_edit2.wav Sample size (2.0) and fuzzy begining splitting\n"
     ]
    },
    {
     "name": "stderr",
     "output_type": "stream",
     "text": [
      "  5%|▌         | 28/512 [00:03<00:50,  9.49it/s]"
     ]
    },
    {
     "name": "stdout",
     "output_type": "stream",
     "text": [
      "Chorthippusbrunneus_XC751398-dat022-008_edit4.wav Sample size (9.70124716553288) and fuzzy begining splitting\n",
      "Chorthippusbrunneus_XC751398-dat022-008_edit6.wav Sample size (13.423560090702948) and fuzzy begining splitting\n"
     ]
    },
    {
     "name": "stderr",
     "output_type": "stream",
     "text": [
      "  6%|▌         | 31/512 [00:04<01:05,  7.38it/s]"
     ]
    },
    {
     "name": "stdout",
     "output_type": "stream",
     "text": [
      "Roeselianaroeselii_XC751813-dat028-016.wav Long sample (148.17721088435374) and normal splitting\n",
      "No silence remove applied: File 'Galangalabeculata_GBIF3039145192_IN68943466_161806.wav' is too short (9.0sec)\n",
      "Galangalabeculata_GBIF3039145192_IN68943466_161806.wav Sample size (9.0) and fuzzy begining splitting\n",
      "No silence remove applied: File 'Pholidopteraaptera_XC751362-dat145-002_edit3.wav' is too short (5.0sec)\n",
      "Pholidopteraaptera_XC751362-dat145-002_edit3.wav Sample size (5.0) and fuzzy begining splitting\n",
      "Omocestusviridulus_XC752267-dat013-003_edit1.wav Long sample (30.71185941043084) and normal splitting\n"
     ]
    },
    {
     "name": "stderr",
     "output_type": "stream",
     "text": [
      "  7%|▋         | 36/512 [00:04<00:40, 11.85it/s]"
     ]
    },
    {
     "name": "stdout",
     "output_type": "stream",
     "text": [
      "No silence remove applied: File 'Stenobothrusstigmaticus_XC752022-dat005-018_edit2.wav' is too short (2.0sec)\n",
      "Stenobothrusstigmaticus_XC752022-dat005-018_edit2.wav Sample size (2.0) and fuzzy begining splitting\n",
      "Omocestusviridulus_XC752263-dat012-007_edit2.wav Sample size (20.558798185941043) and fuzzy begining splitting\n",
      "Conocephalusfuscus_XC752389-dat033-002_edit5.wav Sample size (29.80666666666667) and fuzzy begining splitting\n",
      "Eumodicogryllusbordigalensis_XC751535-dat003-001.wav Long sample (30.902766439909296) and normal splitting\n"
     ]
    },
    {
     "name": "stderr",
     "output_type": "stream",
     "text": [
      "  7%|▋         | 38/512 [00:04<00:39, 12.00it/s]"
     ]
    },
    {
     "name": "stdout",
     "output_type": "stream",
     "text": [
      "No silence remove applied: File 'Omocestuspetraeus_XC752474-dat055-011_edit3.wav' is too short (6.0sec)\n",
      "Omocestuspetraeus_XC752474-dat055-011_edit3.wav Sample size (6.0) and fuzzy begining splitting\n",
      "No silence remove applied: File 'Pseudochorthippusparallelus_XC751867-dat097-021_edit1.wav' is too short (4.0sec)\n",
      "Pseudochorthippusparallelus_XC751867-dat097-021_edit1.wav Sample size (4.0) and fuzzy begining splitting\n",
      "Melanogryllusdesertus_XC752505-dat046-004_edit5.wav Sample size (21.0068253968254) and fuzzy begining splitting\n"
     ]
    },
    {
     "name": "stderr",
     "output_type": "stream",
     "text": [
      "  8%|▊         | 40/512 [00:04<00:59,  7.95it/s]"
     ]
    },
    {
     "name": "stdout",
     "output_type": "stream",
     "text": [
      "No silence remove applied: File 'Yoyettarepetens_GBIF2005327021_IN20313139_31169.wav' is too short (7.883174603174603sec)\n",
      "Yoyettarepetens_GBIF2005327021_IN20313139_31169.wav Sample size (7.883174603174603) and fuzzy begining splitting\n"
     ]
    },
    {
     "name": "stderr",
     "output_type": "stream",
     "text": [
      "  8%|▊         | 42/512 [00:05<00:55,  8.51it/s]"
     ]
    },
    {
     "name": "stdout",
     "output_type": "stream",
     "text": [
      "Popplepsaltanotialis_GBIF2460035378_IN35755574_50504_edit1.wav Sample size (18.974807256235827) and fuzzy begining splitting\n"
     ]
    },
    {
     "name": "stderr",
     "output_type": "stream",
     "text": [
      "  9%|▊         | 44/512 [00:05<00:48,  9.57it/s]"
     ]
    },
    {
     "name": "stdout",
     "output_type": "stream",
     "text": [
      "Ephippigerdiurnus_GBIF3407978671_IN99693046_322577.wav Sample size (10.530226757369615) and fuzzy begining splitting\n",
      "Stauroderusscalaris_XC751601-dat061-004_edit1.wav Sample size (20.12267573696145) and fuzzy begining splitting\n",
      "No silence remove applied: File 'Yoyettarepetens_GBIF2901801690_IN62746056_143178.wav' is too short (6.3sec)\n",
      "Yoyettarepetens_GBIF2901801690_IN62746056_143178.wav Sample size (6.3) and fuzzy begining splitting\n"
     ]
    },
    {
     "name": "stderr",
     "output_type": "stream",
     "text": [
      "  9%|▉         | 46/512 [00:05<00:47,  9.89it/s]"
     ]
    },
    {
     "name": "stdout",
     "output_type": "stream",
     "text": [
      "No silence remove applied: File 'Galangalabeculata_GBIF2460089829_IN35873786_50716.wav' is too short (6.989206349206349sec)\n",
      "Galangalabeculata_GBIF2460089829_IN35873786_50716.wav Sample size (6.989206349206349) and fuzzy begining splitting\n",
      "Omocestusviridulus_XC752265-dat013-001_edit7.wav Long sample (46.963038548752834) and normal splitting\n"
     ]
    },
    {
     "name": "stderr",
     "output_type": "stream",
     "text": [
      "  9%|▉         | 48/512 [00:05<00:46, 10.08it/s]"
     ]
    },
    {
     "name": "stdout",
     "output_type": "stream",
     "text": [
      "Conocephalusdorsalis_XC751644-dat031-004.wav Long sample (43.01249433106576) and normal splitting\n"
     ]
    },
    {
     "name": "stderr",
     "output_type": "stream",
     "text": [
      " 10%|▉         | 50/512 [00:05<00:45, 10.12it/s]"
     ]
    },
    {
     "name": "stdout",
     "output_type": "stream",
     "text": [
      "Omocestusviridulus_XC752265-dat013-001_edit6.wav Long sample (37.20671201814059) and normal splitting\n",
      "Eupholidopteraschmidti_XC752434-dat051-018_edit2.wav Sample size (19.61750566893424) and fuzzy begining splitting\n",
      "Aleetacurvicosta_GBIF3039381926_IN68785661_161247.wav Sample size (18.292108843537417) and fuzzy begining splitting\n"
     ]
    },
    {
     "name": "stderr",
     "output_type": "stream",
     "text": [
      " 10%|█         | 52/512 [00:05<00:43, 10.58it/s]"
     ]
    },
    {
     "name": "stdout",
     "output_type": "stream",
     "text": [
      "No silence remove applied: File 'Omocestuspetraeus_XC752474-dat055-011_edit2.wav' is too short (2.0sec)\n",
      "Omocestuspetraeus_XC752474-dat055-011_edit2.wav Sample size (2.0) and fuzzy begining splitting\n"
     ]
    },
    {
     "name": "stderr",
     "output_type": "stream",
     "text": [
      " 11%|█         | 54/512 [00:06<00:42, 10.83it/s]"
     ]
    },
    {
     "name": "stdout",
     "output_type": "stream",
     "text": [
      "No silence remove applied: File 'Omocestusviridulus_GBIF3398760919_IN97064133_312550.wav' is too short (7.68sec)\n",
      "Omocestusviridulus_GBIF3398760919_IN97064133_312550.wav Sample size (7.68) and fuzzy begining splitting\n",
      "No silence remove applied: File 'Melanogryllusdesertus_XC752505-dat046-004_edit4.wav' is too short (8.0sec)\n",
      "Melanogryllusdesertus_XC752505-dat046-004_edit4.wav Sample size (8.0) and fuzzy begining splitting\n"
     ]
    },
    {
     "name": "stderr",
     "output_type": "stream",
     "text": [
      " 11%|█         | 56/512 [00:06<00:36, 12.44it/s]"
     ]
    },
    {
     "name": "stdout",
     "output_type": "stream",
     "text": [
      "No silence remove applied: File 'Pholidopteraaptera_XC751362-dat145-002_edit2.wav' is too short (5.0sec)\n",
      "Pholidopteraaptera_XC751362-dat145-002_edit2.wav Sample size (5.0) and fuzzy begining splitting\n",
      "Roeselianaroeselii_XC752373-dat006-016.wav Long sample (52.86773242630385) and normal splitting\n",
      "Conocephalusfuscus_XC752389-dat033-002_edit4.wav Sample size (17.16292517006803) and fuzzy begining splitting\n",
      "Clinopsaltaautumna_GBIF1931513990_IN17550208_26580.wav Sample size (18.159160997732425) and fuzzy begining splitting\n"
     ]
    },
    {
     "name": "stderr",
     "output_type": "stream",
     "text": [
      " 11%|█▏        | 58/512 [00:06<00:53,  8.42it/s]"
     ]
    },
    {
     "name": "stdout",
     "output_type": "stream",
     "text": [
      "No silence remove applied: File 'Stenobothrusstigmaticus_XC751998-dat004-043_edit1.wav' is too short (4.0sec)\n",
      "Stenobothrusstigmaticus_XC751998-dat004-043_edit1.wav Sample size (4.0) and fuzzy begining splitting\n",
      "No silence remove applied: File 'Conocephalusfuscus_XC752526-dat060-004_edit1.wav' is too short (2.0sec)\n",
      "Conocephalusfuscus_XC752526-dat060-004_edit1.wav Sample size (2.0) and fuzzy begining splitting\n"
     ]
    },
    {
     "name": "stderr",
     "output_type": "stream",
     "text": [
      " 12%|█▏        | 60/512 [00:06<00:51,  8.72it/s]"
     ]
    },
    {
     "name": "stdout",
     "output_type": "stream",
     "text": [
      "Omocestusviridulus_XC752263-dat012-007_edit3.wav Sample size (20.366303854875284) and fuzzy begining splitting\n"
     ]
    },
    {
     "name": "stderr",
     "output_type": "stream",
     "text": [
      " 12%|█▏        | 62/512 [00:07<00:52,  8.57it/s]"
     ]
    },
    {
     "name": "stdout",
     "output_type": "stream",
     "text": [
      "Chorthippusbrunneus_XC751398-dat022-008_edit7.wav Sample size (14.225102040816326) and fuzzy begining splitting\n",
      "No silence remove applied: File 'Conocephalusfuscus_XC752526-dat060-004_edit5.wav' is too short (4.0sec)\n",
      "Conocephalusfuscus_XC752526-dat060-004_edit5.wav Sample size (4.0) and fuzzy begining splitting\n"
     ]
    },
    {
     "name": "stderr",
     "output_type": "stream",
     "text": [
      " 12%|█▎        | 64/512 [00:07<00:46,  9.57it/s]"
     ]
    },
    {
     "name": "stdout",
     "output_type": "stream",
     "text": [
      "Chorthippusbrunneus_XC751398-dat022-008_edit3.wav Sample size (14.211882086167801) and fuzzy begining splitting\n"
     ]
    },
    {
     "name": "stderr",
     "output_type": "stream",
     "text": [
      " 13%|█▎        | 66/512 [00:07<00:58,  7.57it/s]"
     ]
    },
    {
     "name": "stdout",
     "output_type": "stream",
     "text": [
      "Omocestusviridulus_XC752263-dat012-007_edit7.wav Sample size (16.577596371882088) and fuzzy begining splitting\n"
     ]
    },
    {
     "name": "stderr",
     "output_type": "stream",
     "text": [
      " 13%|█▎        | 67/512 [00:07<01:00,  7.34it/s]"
     ]
    },
    {
     "name": "stdout",
     "output_type": "stream",
     "text": [
      "Nemobiussylvestris_Take23.wav Sample size (23.58909297052154) and fuzzy begining splitting\n",
      "No silence remove applied: File 'Grylluscampestris_GBIF3302309077_IN80855396_239145_edit1.wav' is too short (4.865011337868481sec)\n",
      "Grylluscampestris_GBIF3302309077_IN80855396_239145_edit1.wav Sample size (4.865011337868481) and fuzzy begining splitting\n",
      "Oecanthuspellucens_GBIF3337504016_IN90318768_288800.wav Sample size (13.498231292517007) and fuzzy begining splitting\n"
     ]
    },
    {
     "name": "stderr",
     "output_type": "stream",
     "text": [
      " 13%|█▎        | 69/512 [00:08<00:55,  8.02it/s]"
     ]
    },
    {
     "name": "stdout",
     "output_type": "stream",
     "text": [
      "No silence remove applied: File 'Gomphocerippusrufus_XC752290-dat004-004_edit1.wav' is too short (5.0sec)\n",
      "Gomphocerippusrufus_XC752290-dat004-004_edit1.wav Sample size (5.0) and fuzzy begining splitting\n"
     ]
    },
    {
     "name": "stderr",
     "output_type": "stream",
     "text": [
      " 14%|█▍        | 71/512 [00:08<00:45,  9.68it/s]"
     ]
    },
    {
     "name": "stdout",
     "output_type": "stream",
     "text": [
      "No silence remove applied: File 'Pholidopteraaptera_XC751362-dat145-002_edit6.wav' is too short (4.879863945578231sec)\n",
      "Pholidopteraaptera_XC751362-dat145-002_edit6.wav Sample size (4.879863945578231) and fuzzy begining splitting\n",
      "Platypleuracfcatenata_MHV%20318%20P.capensis%20Prince%20Alberts%20Pass%20%231_edit1.wav Sample size (14.983809523809525) and fuzzy begining splitting\n"
     ]
    },
    {
     "name": "stderr",
     "output_type": "stream",
     "text": [
      " 14%|█▍        | 73/512 [00:08<01:09,  6.28it/s]"
     ]
    },
    {
     "name": "stdout",
     "output_type": "stream",
     "text": [
      "No silence remove applied: File 'Stenobothrusstigmaticus_XC751549-dat014-004_edit2.wav' is too short (3.0sec)\n",
      "Conocephalusdorsalis_XC751643-dat031-003.wav Sample size (26.658571428571427) and fuzzy begining splitting\n",
      "Stenobothrusstigmaticus_XC751549-dat014-004_edit2.wav Sample size (3.0) and fuzzy begining splitting\n"
     ]
    },
    {
     "name": "stderr",
     "output_type": "stream",
     "text": [
      " 15%|█▍        | 75/512 [00:08<00:57,  7.64it/s]"
     ]
    },
    {
     "name": "stdout",
     "output_type": "stream",
     "text": [
      "No silence remove applied: File 'Yoyettacelis_GBIF1931535624_IN17640386_26643_edit1.wav' is too short (6.0sec)\n",
      "Yoyettacelis_GBIF1931535624_IN17640386_26643_edit1.wav Sample size (6.0) and fuzzy begining splitting\n",
      "Leptophyespunctatissima_XC751808-dat024-004_edit3.wav Sample size (6.63766439909297) and fuzzy begining splitting\n"
     ]
    },
    {
     "name": "stderr",
     "output_type": "stream",
     "text": [
      " 15%|█▌        | 77/512 [00:09<00:50,  8.62it/s]"
     ]
    },
    {
     "name": "stdout",
     "output_type": "stream",
     "text": [
      "Eupholidopteraschmidti_XC752428-dat056-006_edit3.wav Sample size (8.052448979591837) and fuzzy begining splitting\n",
      "Omocestusviridulus_XC752265-dat013-001_edit2.wav Sample size (29.883492063492064) and fuzzy begining splitting\n"
     ]
    },
    {
     "name": "stderr",
     "output_type": "stream",
     "text": [
      " 15%|█▌        | 79/512 [00:09<01:01,  7.06it/s]"
     ]
    },
    {
     "name": "stdout",
     "output_type": "stream",
     "text": [
      "Metriopterabrachyptera_XC752072-dat017-010.wav Long sample (73.76820861678004) and normal splitting\n"
     ]
    },
    {
     "name": "stderr",
     "output_type": "stream",
     "text": [
      " 16%|█▌        | 82/512 [00:09<00:45,  9.50it/s]"
     ]
    },
    {
     "name": "stdout",
     "output_type": "stream",
     "text": [
      "Omocestusviridulus_XC752265-dat013-001_edit3.wav Sample size (23.69390022675737) and fuzzy begining splitting\n",
      "Myrmeleotettixmaculatus_XC752581-dat015-007_edit1.wav Sample size (22.80639455782313) and fuzzy begining splitting\n"
     ]
    },
    {
     "name": "stderr",
     "output_type": "stream",
     "text": [
      " 16%|█▋        | 84/512 [00:09<00:48,  8.77it/s]"
     ]
    },
    {
     "name": "stdout",
     "output_type": "stream",
     "text": [
      "Eupholidopteraschmidti_XC752428-dat056-006_edit2.wav Sample size (26.991995464852607) and fuzzy begining splitting\n",
      "Eumodicogryllusbordigalensis_XC753095-Eumodicogryllus-bordigalensis-SanBenedetto_13_06_07_ottima_2CH44K16.wav Long sample (58.79163265306122) and normal splitting\n"
     ]
    },
    {
     "name": "stderr",
     "output_type": "stream",
     "text": [
      " 17%|█▋        | 86/512 [00:10<00:55,  7.72it/s]"
     ]
    },
    {
     "name": "stdout",
     "output_type": "stream",
     "text": [
      "No silence remove applied: File 'Stenobothrusstigmaticus_XC751549-dat014-004_edit3.wav' is too short (4.0sec)\n",
      "Stenobothrusstigmaticus_XC751549-dat014-004_edit3.wav Sample size (4.0) and fuzzy begining splitting\n",
      "No silence remove applied: File 'Chorthippusbrunneus_GBIF3384023749_IN95761463_308346_edit2.wav' is too short (2.0sec)\n",
      "Chorthippusbrunneus_GBIF3384023749_IN95761463_308346_edit2.wav Sample size (2.0) and fuzzy begining splitting\n",
      "Omocestusrufipes_XC751622-dat004-018.wav Sample size (9.312585034013605) and fuzzy begining splitting\n",
      "Stauroderusscalaris_XC751601-dat061-004_edit5.wav Long sample (74.69365079365079) and normal splittingLeptophyespunctatissima_XC751808-dat024-004_edit2.wav Long sample (48.9269387755102) and normal splitting\n"
     ]
    },
    {
     "name": "stderr",
     "output_type": "stream",
     "text": [
      " 17%|█▋        | 89/512 [00:10<00:44,  9.57it/s]"
     ]
    },
    {
     "name": "stdout",
     "output_type": "stream",
     "text": [
      "\n",
      "No silence remove applied: File 'Conocephalusfuscus_XC752389-dat033-002_edit1.wav' is too short (4.0sec)\n",
      "Conocephalusfuscus_XC752389-dat033-002_edit1.wav Sample size (4.0) and fuzzy begining splitting\n",
      "No silence remove applied: File 'Melanogryllusdesertus_XC752505-dat046-004_edit1.wav' is too short (5.0sec)\n",
      "Melanogryllusdesertus_XC752505-dat046-004_edit1.wav Sample size (5.0) and fuzzy begining splitting\n"
     ]
    },
    {
     "name": "stderr",
     "output_type": "stream",
     "text": [
      " 18%|█▊        | 91/512 [00:10<00:42,  9.90it/s]"
     ]
    },
    {
     "name": "stdout",
     "output_type": "stream",
     "text": [
      "Galangalabeculata_GBIF2992733801_IN65799316_151444.wav Sample size (19.243061224489797) and fuzzy begining splitting\n",
      "Gomphocerussibiricus_XC751884-dat056-010_edit1.wav Long sample (75.78158730158731) and normal splitting\n",
      "No silence remove applied: File 'Yoyettacelis_GBIF1945453870_IN18507858_27506.wav' is too short (2.0317460317460316sec)\n",
      "Yoyettacelis_GBIF1945453870_IN18507858_27506.wav Sample size (2.0317460317460316) and fuzzy begining splitting\n"
     ]
    },
    {
     "name": "stderr",
     "output_type": "stream",
     "text": [
      " 18%|█▊        | 93/512 [00:10<00:54,  7.71it/s]"
     ]
    },
    {
     "name": "stdout",
     "output_type": "stream",
     "text": [
      "No silence remove applied: File 'Aleetacurvicosta_GBIF1990618565_IN19955380_30728.wav' is too short (9.914920634920636sec)\n",
      "Aleetacurvicosta_GBIF1990618565_IN19955380_30728.wav Sample size (9.914920634920636) and fuzzy begining splitting\n",
      "Omocestusviridulus_XC752263-dat012-007_edit6.wav Sample size (19.34546485260771) and fuzzy begining splitting\n"
     ]
    },
    {
     "name": "stderr",
     "output_type": "stream",
     "text": [
      " 19%|█▊        | 95/512 [00:11<00:48,  8.52it/s]"
     ]
    },
    {
     "name": "stdout",
     "output_type": "stream",
     "text": [
      "No silence remove applied: File 'Conocephalusfuscus_XC752526-dat060-004_edit4.wav' is too short (4.0sec)\n",
      "Conocephalusfuscus_XC752526-dat060-004_edit4.wav Sample size (4.0) and fuzzy begining splitting\n",
      "Yoyettarepetens_GBIF1837098806_IN8126709_15608.wav Sample size (11.793265306122448) and fuzzy begining splitting\n",
      "Galangalabeculata_GBIF2012957393_IN20821043_31880.wav Sample size (11.114217687074829) and fuzzy begining splitting\n",
      "Grylluscampestris_XC751426-dat010-005.wav Long sample (295.1533333333333) and normal splitting\n"
     ]
    },
    {
     "name": "stderr",
     "output_type": "stream",
     "text": [
      " 19%|█▉        | 98/512 [00:11<00:38, 10.86it/s]"
     ]
    },
    {
     "name": "stdout",
     "output_type": "stream",
     "text": [
      "Chorthippusbrunneus_XC751398-dat022-008_edit2.wav Sample size (12.056621315192745) and fuzzy begining splitting\n",
      "No silence remove applied: File 'Yoyettacelis_GBIF2963808959_IN63609432_145249.wav' is too short (7.6sec)\n",
      "Yoyettacelis_GBIF2963808959_IN63609432_145249.wav Sample size (7.6) and fuzzy begining splitting\n"
     ]
    },
    {
     "name": "stderr",
     "output_type": "stream",
     "text": [
      " 20%|█▉        | 102/512 [00:12<00:55,  7.40it/s]"
     ]
    },
    {
     "name": "stdout",
     "output_type": "stream",
     "text": [
      "Chorthippusbiguttulus_Take45.M.wav Sample size (9.9862358276644) and fuzzy begining splitting\n"
     ]
    },
    {
     "name": "stderr",
     "output_type": "stream",
     "text": [
      " 20%|██        | 104/512 [00:12<00:49,  8.32it/s]"
     ]
    },
    {
     "name": "stdout",
     "output_type": "stream",
     "text": [
      "Chorthippusbiguttulus_XC752338-dat004-023.wav Sample size (13.573990929705216) and fuzzy begining splitting\n"
     ]
    },
    {
     "name": "stderr",
     "output_type": "stream",
     "text": [
      " 21%|██        | 106/512 [00:12<00:43,  9.23it/s]"
     ]
    },
    {
     "name": "stdout",
     "output_type": "stream",
     "text": [
      "No silence remove applied: File 'Gomphocerippusrufus_XC752290-dat004-004_edit2.wav' is too short (7.0sec)\n",
      "Gomphocerippusrufus_XC752290-dat004-004_edit2.wav Sample size (7.0) and fuzzy begining splittingOmocestusviridulus_XC752263-dat012-007_edit4.wav Sample size (19.71482993197279) and fuzzy begining splitting\n",
      "\n"
     ]
    },
    {
     "name": "stderr",
     "output_type": "stream",
     "text": [
      " 21%|██        | 108/512 [00:12<01:00,  6.70it/s]"
     ]
    },
    {
     "name": "stdout",
     "output_type": "stream",
     "text": [
      "No silence remove applied: File 'Melanogryllusdesertus_XC752505-dat046-004_edit3.wav' is too short (5.0sec)\n",
      "Melanogryllusdesertus_XC752505-dat046-004_edit3.wav Sample size (5.0) and fuzzy begining splitting\n",
      "Nemobiussylvestris_XC752031-dat004-034.wav Long sample (78.70476190476191) and normal splitting\n",
      "No silence remove applied: File 'Conocephalusfuscus_XC752389-dat033-002_edit3.wav' is too short (5.0sec)\n",
      "Conocephalusfuscus_XC752389-dat033-002_edit3.wav Sample size (5.0) and fuzzy begining splitting\n"
     ]
    },
    {
     "name": "stderr",
     "output_type": "stream",
     "text": [
      " 21%|██▏       | 110/512 [00:12<00:48,  8.27it/s]"
     ]
    },
    {
     "name": "stdout",
     "output_type": "stream",
     "text": [
      "No silence remove applied: File 'Cicadaorni_GBIF2814462406_IN52063823_117141.wav' is too short (9.58984126984127sec)\n",
      "Cicadaorni_GBIF2814462406_IN52063823_117141.wav Sample size (9.58984126984127) and fuzzy begining splitting\n",
      "No silence remove applied: File 'Omocestuspetraeus_XC752474-dat055-011_edit5.wav' is too short (8.0sec)\n",
      "Omocestuspetraeus_XC752474-dat055-011_edit5.wav Sample size (8.0) and fuzzy begining splitting\n"
     ]
    },
    {
     "name": "stderr",
     "output_type": "stream",
     "text": [
      " 22%|██▏       | 112/512 [00:13<00:47,  8.42it/s]"
     ]
    },
    {
     "name": "stdout",
     "output_type": "stream",
     "text": [
      "Phaneropteranana_XC751922-dat066-012.wav Long sample (139.54814058956916) and normal splitting\n",
      "Grylluscampestris_XC751595-dat167-003.wav Long sample (120.0020634920635) and normal splitting\n",
      "Diceroproctaeugraphica_GBIF2826422692_IN53642618_122566.wav Sample size (26.844149659863945) and fuzzy begining splitting\n"
     ]
    },
    {
     "name": "stderr",
     "output_type": "stream",
     "text": [
      " 22%|██▏       | 114/512 [00:13<00:46,  8.48it/s]"
     ]
    },
    {
     "name": "stdout",
     "output_type": "stream",
     "text": [
      "No silence remove applied: File 'Barbitistesyersini_XC752462-dat047-010_edit8.wav' is too short (3.0sec)\n",
      "Barbitistesyersini_XC752462-dat047-010_edit8.wav Sample size (3.0) and fuzzy begining splitting\n"
     ]
    },
    {
     "name": "stderr",
     "output_type": "stream",
     "text": [
      " 23%|██▎       | 118/512 [00:13<00:49,  7.98it/s]"
     ]
    },
    {
     "name": "stdout",
     "output_type": "stream",
     "text": [
      "Platypleuraplumosa_MHV%201488%20P.plumosa%20Nanaga%20Rec%20%231_edit1.wav Long sample (59.655578231292516) and normal splitting\n"
     ]
    },
    {
     "name": "stderr",
     "output_type": "stream",
     "text": [
      " 23%|██▎       | 119/512 [00:14<00:51,  7.60it/s]"
     ]
    },
    {
     "name": "stdout",
     "output_type": "stream",
     "text": [
      "Atrapsaltacollina_GBIF1932315283_IN17664083_26706.wav Sample size (10.741473922902495) and fuzzy begining splitting\n"
     ]
    },
    {
     "name": "stderr",
     "output_type": "stream",
     "text": [
      " 23%|██▎       | 120/512 [00:14<00:51,  7.62it/s]"
     ]
    },
    {
     "name": "stdout",
     "output_type": "stream",
     "text": [
      "Oecanthuspellucens_XC752109-dat174-004.wav Long sample (121.83081632653061) and normal splitting\n",
      "No silence remove applied: File 'Eupholidopteraschmidti_XC752428-dat056-006_edit1.wav' is too short (7.0sec)\n",
      "Eupholidopteraschmidti_XC752428-dat056-006_edit1.wav Sample size (7.0) and fuzzy begining splitting\n",
      "Yoyettacelis_GBIF2883203573_IN61907196_141064_edit1.wav Sample size (9.96700680272109) and fuzzy begining splitting\n",
      "Omocestusviridulus_XC752265-dat013-001_edit1.wav Long sample (39.773378684807255) and normal splitting\n"
     ]
    },
    {
     "name": "stderr",
     "output_type": "stream",
     "text": [
      " 24%|██▍       | 123/512 [00:14<00:45,  8.55it/s]"
     ]
    },
    {
     "name": "stdout",
     "output_type": "stream",
     "text": [
      "Myrmeleotettixmaculatus_XC752581-dat015-007_edit2.wav Long sample (52.788979591836735) and normal splittingLeptophyespunctatissima_XC751808-dat024-004_edit1.wav Sample size (12.1321768707483) and fuzzy begining splitting\n",
      "\n"
     ]
    },
    {
     "name": "stderr",
     "output_type": "stream",
     "text": [
      " 24%|██▍       | 124/512 [00:14<00:45,  8.49it/s]"
     ]
    },
    {
     "name": "stdout",
     "output_type": "stream",
     "text": [
      "Myrmeleotettixmaculatus_XC752581-dat015-007_edit3.wav Long sample (97.64002267573696) and normal splitting\n"
     ]
    },
    {
     "name": "stderr",
     "output_type": "stream",
     "text": [
      " 24%|██▍       | 125/512 [00:14<00:48,  8.05it/s]"
     ]
    },
    {
     "name": "stdout",
     "output_type": "stream",
     "text": [
      "No silence remove applied: File 'Omocestuspetraeus_XC752474-dat055-011_edit4.wav' is too short (6.0sec)\n",
      "Omocestuspetraeus_XC752474-dat055-011_edit4.wav Sample size (6.0) and fuzzy begining splitting\n",
      "No silence remove applied: File 'Stenobothrusstigmaticus_XC752007-dat005-003.wav' is too short (4.673854875283447sec)\n",
      "Stenobothrusstigmaticus_XC752007-dat005-003.wav Sample size (4.673854875283447) and fuzzy begining splitting\n"
     ]
    },
    {
     "name": "stderr",
     "output_type": "stream",
     "text": [
      " 25%|██▍       | 127/512 [00:15<00:44,  8.64it/s]"
     ]
    },
    {
     "name": "stdout",
     "output_type": "stream",
     "text": [
      "Tettigoniaviridissima_XC752694-170705_Tettigonia-viridissima.wav Long sample (192.16312925170067) and normal splitting\n",
      "No silence remove applied: File 'Conocephalusfuscus_XC752389-dat033-002_edit2.wav' is too short (3.0sec)\n",
      "Conocephalusfuscus_XC752389-dat033-002_edit2.wav Sample size (3.0) and fuzzy begining splittingNo silence remove applied: File 'Chorthippusbrunneus_GBIF3384023749_IN95761463_308346_edit1.wav' is too short (3.0sec)\n",
      "Chorthippusbrunneus_GBIF3384023749_IN95761463_308346_edit1.wav Sample size (3.0) and fuzzy begining splitting\n",
      "\n",
      "No silence remove applied: File 'Pholidopteraaptera_XC751362-dat145-002_edit4.wav' is too short (4.0sec)\n",
      "Pholidopteraaptera_XC751362-dat145-002_edit4.wav Sample size (4.0) and fuzzy begining splitting\n",
      "Gomphocerussibiricus_XC751884-dat056-010_edit2.wav Long sample (79.837052154195) and normal splitting\n"
     ]
    },
    {
     "name": "stderr",
     "output_type": "stream",
     "text": [
      " 25%|██▌       | 130/512 [00:15<00:38,  9.84it/s]"
     ]
    },
    {
     "name": "stdout",
     "output_type": "stream",
     "text": [
      "No silence remove applied: File 'Melanogryllusdesertus_XC752505-dat046-004_edit2.wav' is too short (8.0sec)\n",
      "Melanogryllusdesertus_XC752505-dat046-004_edit2.wav Sample size (8.0) and fuzzy begining splitting\n"
     ]
    },
    {
     "name": "stderr",
     "output_type": "stream",
     "text": [
      " 26%|██▌       | 131/512 [00:15<00:41,  9.13it/s]"
     ]
    },
    {
     "name": "stdout",
     "output_type": "stream",
     "text": [
      "No silence remove applied: File 'Gomphocerippusrufus_XC752290-dat004-004_edit3.wav' is too short (6.0sec)\n",
      "Gomphocerippusrufus_XC752290-dat004-004_edit3.wav Sample size (6.0) and fuzzy begining splitting\n"
     ]
    },
    {
     "name": "stderr",
     "output_type": "stream",
     "text": [
      " 26%|██▌       | 132/512 [00:15<00:45,  8.43it/s]"
     ]
    },
    {
     "name": "stdout",
     "output_type": "stream",
     "text": [
      "No silence remove applied: File 'Platypleuracfcatenata_MHV%20318%20P.capensis%20Prince%20Alberts%20Pass%20%231_edit3.wav' is too short (3.7219501133786848sec)\n",
      "Platypleuracfcatenata_MHV%20318%20P.capensis%20Prince%20Alberts%20Pass%20%231_edit3.wav Sample size (3.7219501133786848) and fuzzy begining splitting\n",
      "Leptophyespunctatissima_XC751810-dat024-006.wav Long sample (210.76755102040818) and normal splittingNo silence remove applied: File 'Atrapsaltaencaustica_GBIF3385010567_IN94514864_304493_edit1.wav' is too short (5.0sec)\n",
      "\n",
      "Atrapsaltaencaustica_GBIF3385010567_IN94514864_304493_edit1.wav Sample size (5.0) and fuzzy begining splitting\n"
     ]
    },
    {
     "name": "stderr",
     "output_type": "stream",
     "text": [
      " 27%|██▋       | 137/512 [00:15<00:33, 11.35it/s]"
     ]
    },
    {
     "name": "stdout",
     "output_type": "stream",
     "text": [
      "Omocestusviridulus_XC752263-dat012-007_edit5.wav Sample size (19.41639455782313) and fuzzy begining splitting\n",
      "Chorthippusbrunneus_XC751398-dat022-008_edit1.wav Sample size (13.39467120181406) and fuzzy begining splitting\n"
     ]
    },
    {
     "name": "stderr",
     "output_type": "stream",
     "text": [
      " 27%|██▋       | 139/512 [00:16<00:35, 10.43it/s]"
     ]
    },
    {
     "name": "stdout",
     "output_type": "stream",
     "text": [
      "Platypleurasp12cfhirtipennis_MHV%20606%20P.sp12%2020km%20S%20Ladismith_edit1.wav Long sample (45.74600907029478) and normal splitting\n",
      "No silence remove applied: File 'Leptophyespunctatissima_XC752570-dat141-007_edit6.wav' is too short (1.0sec)\n",
      "Leptophyespunctatissima_XC752570-dat141-007_edit6.wav Sample size (1.0) and fuzzy begining splitting\n",
      "Chorthippusmollis_XC751826-dat001-035.wav Sample size (20.884467120181405) and fuzzy begining splitting\n",
      "Yoyettarepetens_GBIF1978855326_IN19219004_28600.wav Sample size (10.122698412698412) and fuzzy begining splitting\n"
     ]
    },
    {
     "name": "stderr",
     "output_type": "stream",
     "text": [
      " 28%|██▊       | 141/512 [00:16<00:36, 10.27it/s]"
     ]
    },
    {
     "name": "stdout",
     "output_type": "stream",
     "text": [
      "No silence remove applied: File 'Omocestuspetraeus_XC752476-dat058-002_edit9.wav' is too short (8.0sec)\n",
      "Omocestuspetraeus_XC752476-dat058-002_edit9.wav Sample size (8.0) and fuzzy begining splitting\n",
      "Pseudochorthippusmontanus_XC752609-dat018-014_edit1.wav Sample size (18.64265306122449) and fuzzy begining splitting\n"
     ]
    },
    {
     "name": "stderr",
     "output_type": "stream",
     "text": [
      " 28%|██▊       | 145/512 [00:16<00:43,  8.45it/s]"
     ]
    },
    {
     "name": "stdout",
     "output_type": "stream",
     "text": [
      "Omocestusrufipes_XC752516-dat021-003_edit5.wav Sample size (17.0678231292517) and fuzzy begining splitting\n",
      "No silence remove applied: File 'Pholidopteralittoralis_XC752453-dat054-011_edit2.wav' is too short (3.0sec)\n",
      "Pholidopteralittoralis_XC752453-dat054-011_edit2.wav Sample size (3.0) and fuzzy begining splitting\n",
      "No silence remove applied: File 'Myrmeleotettixmaculatus_XC752577-dat010-017_edit7.wav' is too short (7.0sec)\n",
      "Myrmeleotettixmaculatus_XC752577-dat010-017_edit7.wav Sample size (7.0) and fuzzy begining splitting\n",
      "Chrysochraondispar_XC751693-dat030-007_edit2.wav Sample size (12.587823129251701) and fuzzy begining splitting\n",
      "Chorthippusapricarius_XC751571-dat027-009.wav Long sample (214.34675736961452) and normal splitting\n"
     ]
    },
    {
     "name": "stderr",
     "output_type": "stream",
     "text": [
      " 29%|██▉       | 148/512 [00:17<00:35, 10.12it/s]"
     ]
    },
    {
     "name": "stdout",
     "output_type": "stream",
     "text": [
      "Achetadomesticus_XC752077-dat227-001_edit1.wav Long sample (69.9812925170068) and normal splitting\n",
      "No silence remove applied: File 'Pseudochorthippusmontanus_XC752606-dat012-004_edit8.wav' is too short (5.0sec)\n",
      "Pseudochorthippusmontanus_XC752606-dat012-004_edit8.wav Sample size (5.0) and fuzzy begining splitting\n"
     ]
    },
    {
     "name": "stderr",
     "output_type": "stream",
     "text": [
      " 29%|██▉       | 151/512 [00:17<00:28, 12.81it/s]"
     ]
    },
    {
     "name": "stdout",
     "output_type": "stream",
     "text": [
      "Yoyettacelis_GBIF2456564212_IN35594673_50236.wav Sample size (15.828299319727892) and fuzzy begining splitting\n",
      "Ephippigerdiurnus_XC753865-Ephippiher-des-vignes-221004_0308.wav Sample size (29.87909297052154) and fuzzy begining splitting\n"
     ]
    },
    {
     "name": "stderr",
     "output_type": "stream",
     "text": [
      " 30%|███       | 155/512 [00:17<00:39,  9.06it/s]"
     ]
    },
    {
     "name": "stdout",
     "output_type": "stream",
     "text": [
      "No silence remove applied: File 'Chorthippusbrunneus_XC751370-dat001-021_edit2.wav' is too short (9.0sec)\n",
      "Chorthippusbrunneus_XC751370-dat001-021_edit2.wav Sample size (9.0) and fuzzy begining splitting\n",
      "Stauroderusscalaris_XC751888-dat056-019.wav Sample size (20.381496598639455) and fuzzy begining splitting\n",
      "Chorthippusvagans_XC751932-dat225-002_edit2.wav Sample size (13.99655328798186) and fuzzy begining splitting\n",
      "No silence remove applied: File 'Chrysochraondispar_XC751759-dat005-083_edit2.wav' is too short (3.0sec)\n",
      "Chrysochraondispar_XC751759-dat005-083_edit2.wav Sample size (3.0) and fuzzy begining splitting\n",
      "Conocephalusfuscus_XC752385-dat034-026.wav Long sample (147.18224489795918) and normal splitting\n"
     ]
    },
    {
     "name": "stderr",
     "output_type": "stream",
     "text": [
      " 31%|███       | 157/512 [00:18<00:45,  7.84it/s]"
     ]
    },
    {
     "name": "stdout",
     "output_type": "stream",
     "text": [
      "Tettigoniacantans_XC751954-dat039-008_edit1.wav Sample size (13.542267573696146) and fuzzy begining splitting\n"
     ]
    },
    {
     "name": "stderr",
     "output_type": "stream",
     "text": [
      " 31%|███       | 159/512 [00:18<00:42,  8.35it/s]"
     ]
    },
    {
     "name": "stdout",
     "output_type": "stream",
     "text": [
      "Tettigoniacantans_XC751952-dat039-006_edit6.wav Sample size (12.450385487528346) and fuzzy begining splitting\n"
     ]
    },
    {
     "name": "stderr",
     "output_type": "stream",
     "text": [
      " 31%|███▏      | 160/512 [00:18<00:51,  6.87it/s]"
     ]
    },
    {
     "name": "stdout",
     "output_type": "stream",
     "text": [
      "No silence remove applied: File 'Atrapsaltacorticina_GBIF1805372378_IN8264277_15754_edit1.wav' is too short (8.0sec)\n",
      "Atrapsaltacorticina_GBIF1805372378_IN8264277_15754_edit1.wav Sample size (8.0) and fuzzy begining splitting\n",
      "No silence remove applied: File 'Yoyettacelis_GBIF2901586174_IN63138759_144234.wav' is too short (4.6sec)\n",
      "Yoyettacelis_GBIF2901586174_IN63138759_144234.wav Sample size (4.6) and fuzzy begining splitting\n",
      "Achetadomesticus_XC751734-dat001-055_edit4.wav Long sample (51.79362811791383) and normal splitting\n"
     ]
    },
    {
     "name": "stderr",
     "output_type": "stream",
     "text": [
      " 32%|███▏      | 163/512 [00:18<00:34,  9.97it/s]"
     ]
    },
    {
     "name": "stdout",
     "output_type": "stream",
     "text": [
      "Omocestusrufipes_XC752517-dat021-004_edit1.wav Sample size (6.053061224489796) and fuzzy begining splitting\n",
      "Gryllusbimaculatus_XC751729-dat007-025.wav Long sample (91.74249433106576) and normal splitting\n"
     ]
    },
    {
     "name": "stderr",
     "output_type": "stream",
     "text": [
      " 32%|███▏      | 165/512 [00:19<00:37,  9.31it/s]"
     ]
    },
    {
     "name": "stdout",
     "output_type": "stream",
     "text": [
      "No silence remove applied: File 'Galangalabeculata_GBIF1948751055_IN18749048_27934.wav' is too short (7.801904761904762sec)\n",
      "Galangalabeculata_GBIF1948751055_IN18749048_27934.wav Sample size (7.801904761904762) and fuzzy begining splitting\n",
      "Tettigoniacantans_XC751952-dat039-006_edit7.wav Sample size (13.864353741496599) and fuzzy begining splitting\n"
     ]
    },
    {
     "name": "stderr",
     "output_type": "stream",
     "text": [
      " 33%|███▎      | 167/512 [00:19<00:35,  9.62it/s]"
     ]
    },
    {
     "name": "stdout",
     "output_type": "stream",
     "text": [
      "Platypleuracfcatenata_MHV%20835%20P.catenata%20Swartberg%20Pass_edit1.wav Long sample (51.821995464852606) and normal splitting\n",
      "No silence remove applied: File 'Chrysochraondispar_XC751759-dat005-083_edit3.wav' is too short (2.0sec)\n",
      "Chrysochraondispar_XC751759-dat005-083_edit3.wav Sample size (2.0) and fuzzy begining splitting\n"
     ]
    },
    {
     "name": "stderr",
     "output_type": "stream",
     "text": [
      " 33%|███▎      | 169/512 [00:19<00:32, 10.44it/s]"
     ]
    },
    {
     "name": "stdout",
     "output_type": "stream",
     "text": [
      "Gampsocleisglabra_XC751416-dat026-029.wav Long sample (62.29140589569161) and normal splitting\n"
     ]
    },
    {
     "name": "stderr",
     "output_type": "stream",
     "text": [
      " 33%|███▎      | 171/512 [00:19<00:30, 11.28it/s]"
     ]
    },
    {
     "name": "stdout",
     "output_type": "stream",
     "text": [
      "No silence remove applied: File 'Bicoloranabicolor_XC751421-dat061-003_edit8.wav' is too short (3.0sec)\n",
      "Bicoloranabicolor_XC751421-dat061-003_edit8.wav Sample size (3.0) and fuzzy begining splitting\n",
      "No silence remove applied: File 'Chorthippusvagans_XC751932-dat225-002_edit3.wav' is too short (5.0sec)\n",
      "Chorthippusvagans_XC751932-dat225-002_edit3.wav Sample size (5.0) and fuzzy begining splitting\n",
      "Chorthippusbrunneus_XC751385-dat005-051.wav Long sample (42.8034693877551) and normal splitting\n"
     ]
    },
    {
     "name": "stderr",
     "output_type": "stream",
     "text": [
      " 34%|███▍      | 173/512 [00:19<00:37,  8.97it/s]"
     ]
    },
    {
     "name": "stdout",
     "output_type": "stream",
     "text": [
      "Chorthippusbiguttulus_XC752335-dat004-008.wav Sample size (8.958072562358277) and fuzzy begining splitting\n",
      "Pholidopteraaptera_XC751835-dat147-002.wav Long sample (69.95734693877552) and normal splitting\n"
     ]
    },
    {
     "name": "stderr",
     "output_type": "stream",
     "text": [
      " 34%|███▍      | 175/512 [00:20<00:33, 10.07it/s]"
     ]
    },
    {
     "name": "stdout",
     "output_type": "stream",
     "text": [
      "No silence remove applied: File 'Myrmeleotettixmaculatus_XC752577-dat010-017_edit6.wav' is too short (4.0sec)\n",
      "Myrmeleotettixmaculatus_XC752577-dat010-017_edit6.wav Sample size (4.0) and fuzzy begining splitting\n"
     ]
    },
    {
     "name": "stderr",
     "output_type": "stream",
     "text": [
      " 35%|███▍      | 177/512 [00:20<00:28, 11.72it/s]"
     ]
    },
    {
     "name": "stdout",
     "output_type": "stream",
     "text": [
      "Decticusverrucivorus_XC751909-dat098-011_edit1.wav Sample size (11.322517006802721) and fuzzy begining splitting\n",
      "No silence remove applied: File 'Pholidopteralittoralis_XC752453-dat054-011_edit3.wav' is too short (3.0sec)\n",
      "Pholidopteralittoralis_XC752453-dat054-011_edit3.wav Sample size (3.0) and fuzzy begining splitting\n"
     ]
    },
    {
     "name": "stderr",
     "output_type": "stream",
     "text": [
      " 35%|███▍      | 179/512 [00:20<00:36,  9.13it/s]"
     ]
    },
    {
     "name": "stdout",
     "output_type": "stream",
     "text": [
      "Platypleuracfcatenata_MHV%20283%20P.catenata%20Sir%20Lowry%27s%20Pass%20%232_edit1.wav Long sample (68.1933560090703) and normal splitting\n",
      "No silence remove applied: File 'Omocestusrufipes_XC752516-dat021-003_edit4.wav' is too short (5.0sec)\n",
      "Omocestusrufipes_XC752516-dat021-003_edit4.wav Sample size (5.0) and fuzzy begining splittingNo silence remove applied: File 'Omocestuspetraeus_XC752476-dat058-002_edit8.wav' is too short (6.0sec)\n",
      "\n",
      "Omocestuspetraeus_XC752476-dat058-002_edit8.wav Sample size (6.0) and fuzzy begining splitting\n"
     ]
    },
    {
     "name": "stderr",
     "output_type": "stream",
     "text": [
      " 35%|███▌      | 181/512 [00:20<00:33,  9.87it/s]"
     ]
    },
    {
     "name": "stdout",
     "output_type": "stream",
     "text": [
      "Psaltodaplaga_GBIF3032030423_IN68432216_159840.wav Sample size (11.098412698412698) and fuzzy begining splitting\n",
      "No silence remove applied: File 'Leptophyespunctatissima_XC752570-dat141-007_edit7.wav' is too short (1.0sec)\n",
      "Leptophyespunctatissima_XC752570-dat141-007_edit7.wav Sample size (1.0) and fuzzy begining splitting\n",
      "Chrysochraondispar_XC751693-dat030-007_edit3.wav Long sample (66.78691609977324) and normal splitting\n"
     ]
    },
    {
     "name": "stderr",
     "output_type": "stream",
     "text": [
      " 36%|███▌      | 183/512 [00:20<00:31, 10.29it/s]"
     ]
    },
    {
     "name": "stdout",
     "output_type": "stream",
     "text": [
      "Pseudochorthippusmontanus_XC752609-dat018-014_edit2.wav Sample size (8.164263038548754) and fuzzy begining splitting\n"
     ]
    },
    {
     "name": "stderr",
     "output_type": "stream",
     "text": [
      " 36%|███▌      | 185/512 [00:21<00:34,  9.41it/s]"
     ]
    },
    {
     "name": "stdout",
     "output_type": "stream",
     "text": [
      "No silence remove applied: File 'Leptophyespunctatissima_XC752570-dat141-007_edit5.wav' is too short (1.0sec)\n",
      "Leptophyespunctatissima_XC752570-dat141-007_edit5.wav Sample size (1.0) and fuzzy begining splitting\n",
      "Conocephalusfuscus_XC752379-dat027-019.wav Long sample (38.693061224489796) and normal splitting\n",
      "No silence remove applied: File 'Pholidopteralittoralis_XC752453-dat054-011_edit1.wav' is too short (3.0sec)\n",
      "Pholidopteralittoralis_XC752453-dat054-011_edit1.wav Sample size (3.0) and fuzzy begining splitting\n"
     ]
    },
    {
     "name": "stderr",
     "output_type": "stream",
     "text": [
      " 37%|███▋      | 187/512 [00:21<00:33,  9.74it/s]"
     ]
    },
    {
     "name": "stdout",
     "output_type": "stream",
     "text": [
      "Neotibicenpruinosus_GBIF3859141853_IN93084014_299415.wav Sample size (10.159773242630385) and fuzzy begining splitting\n",
      "Chrysochraondispar_XC751693-dat030-007_edit1.wav Sample size (22.206621315192745) and fuzzy begining splitting\n"
     ]
    },
    {
     "name": "stderr",
     "output_type": "stream",
     "text": [
      " 37%|███▋      | 189/512 [00:21<00:32,  9.93it/s]"
     ]
    },
    {
     "name": "stdout",
     "output_type": "stream",
     "text": [
      "No silence remove applied: File 'Omocestuspetraeus_XC752476-dat058-002_edit10.wav' is too short (4.0sec)\n",
      "Omocestuspetraeus_XC752476-dat058-002_edit10.wav Sample size (4.0) and fuzzy begining splitting\n",
      "Roeselianaroeselii_XC751673-dat015-010_edit2.wav Sample size (10.473333333333333) and fuzzy begining splitting\n"
     ]
    },
    {
     "name": "stderr",
     "output_type": "stream",
     "text": [
      " 37%|███▋      | 191/512 [00:21<00:34,  9.28it/s]"
     ]
    },
    {
     "name": "stdout",
     "output_type": "stream",
     "text": [
      "No silence remove applied: File 'Pseudochorthippusparallelus_CHOPAR_20190626_194920.M.wav' is too short (2.7564172335600907sec)\n",
      "Pseudochorthippusparallelus_CHOPAR_20190626_194920.M.wav Sample size (2.7564172335600907) and fuzzy begining splitting\n"
     ]
    },
    {
     "name": "stderr",
     "output_type": "stream",
     "text": [
      " 38%|███▊      | 192/512 [00:21<00:40,  7.84it/s]"
     ]
    },
    {
     "name": "stdout",
     "output_type": "stream",
     "text": [
      "No silence remove applied: File 'Myrmeleotettixmaculatus_XC752577-dat010-017_edit4.wav' is too short (7.0sec)\n",
      "Myrmeleotettixmaculatus_XC752577-dat010-017_edit4.wav Sample size (7.0) and fuzzy begining splitting\n"
     ]
    },
    {
     "name": "stderr",
     "output_type": "stream",
     "text": [
      " 38%|███▊      | 193/512 [00:22<00:40,  7.81it/s]"
     ]
    },
    {
     "name": "stdout",
     "output_type": "stream",
     "text": [
      "No silence remove applied: File 'Pholidopteragriseoaptera_PHOGRI_20190914_155550.M.wav' is too short (5.703333333333333sec)\n",
      "Pholidopteragriseoaptera_PHOGRI_20190914_155550.M.wav Sample size (5.703333333333333) and fuzzy begining splitting\n"
     ]
    },
    {
     "name": "stderr",
     "output_type": "stream",
     "text": [
      " 38%|███▊      | 195/512 [00:22<00:38,  8.29it/s]"
     ]
    },
    {
     "name": "stdout",
     "output_type": "stream",
     "text": [
      "Roeselianaroeselii_XC752364-dat006-006.wav Sample size (9.606190476190477) and fuzzy begining splitting\n",
      "Gomphocerippusrufus_XC752305-dat007-004.wav Sample size (13.989614512471656) and fuzzy begining splitting\n"
     ]
    },
    {
     "name": "stderr",
     "output_type": "stream",
     "text": [
      " 38%|███▊      | 197/512 [00:22<00:36,  8.55it/s]"
     ]
    },
    {
     "name": "stdout",
     "output_type": "stream",
     "text": [
      "No silence remove applied: File 'Chorthippusbrunneus_XC751370-dat001-021_edit1.wav' is too short (5.0sec)\n",
      "Chorthippusbrunneus_XC751370-dat001-021_edit1.wav Sample size (5.0) and fuzzy begining splitting\n",
      "No silence remove applied: File 'Chrysochraondispar_XC751759-dat005-083_edit1.wav' is too short (2.0sec)\n",
      "Chrysochraondispar_XC751759-dat005-083_edit1.wav Sample size (2.0) and fuzzy begining splittingChorthippusvagans_XC751932-dat225-002_edit1.wav Sample size (19.996802721088436) and fuzzy begining splitting\n",
      "\n"
     ]
    },
    {
     "name": "stderr",
     "output_type": "stream",
     "text": [
      " 39%|███▉      | 199/512 [00:22<00:41,  7.57it/s]"
     ]
    },
    {
     "name": "stdout",
     "output_type": "stream",
     "text": [
      "Tettigoniacantans_XC751954-dat039-008_edit2.wav Sample size (12.49312925170068) and fuzzy begining splitting\n"
     ]
    },
    {
     "name": "stderr",
     "output_type": "stream",
     "text": [
      " 39%|███▉      | 201/512 [00:23<00:38,  8.18it/s]"
     ]
    },
    {
     "name": "stdout",
     "output_type": "stream",
     "text": [
      "Omocestusrufipes_XC752517-dat021-004_edit2.wav Sample size (16.595215419501134) and fuzzy begining splitting\n"
     ]
    },
    {
     "name": "stderr",
     "output_type": "stream",
     "text": [
      " 39%|███▉      | 202/512 [00:23<00:38,  7.98it/s]"
     ]
    },
    {
     "name": "stdout",
     "output_type": "stream",
     "text": [
      "Tettigoniacantans_XC751952-dat039-006_edit5.wav Sample size (8.843378684807256) and fuzzy begining splitting\n"
     ]
    },
    {
     "name": "stderr",
     "output_type": "stream",
     "text": [
      " 40%|███▉      | 203/512 [00:23<00:41,  7.47it/s]"
     ]
    },
    {
     "name": "stdout",
     "output_type": "stream",
     "text": [
      "Tettigoniacantans_XC751952-dat039-006_edit4.wav Sample size (10.632312925170067) and fuzzy begining splitting\n",
      "Omocestusrufipes_XC751629-dat016-001_edit4.wav Sample size (11.811655328798185) and fuzzy begining splitting\n"
     ]
    },
    {
     "name": "stderr",
     "output_type": "stream",
     "text": [
      " 40%|████      | 206/512 [00:23<00:37,  8.14it/s]"
     ]
    },
    {
     "name": "stdout",
     "output_type": "stream",
     "text": [
      "Gryllusbimaculatus_GBIF3384375694_IN95557245_307723.wav Sample size (11.81952380952381) and fuzzy begining splitting\n",
      "No silence remove applied: File 'Myrmeleotettixmaculatus_XC752577-dat010-017_edit5.wav' is too short (4.0sec)\n",
      "Myrmeleotettixmaculatus_XC752577-dat010-017_edit5.wav Sample size (4.0) and fuzzy begining splitting\n",
      "Stenobothruslineatus_XC752395-dat025-006.wav Long sample (101.79145124716554) and normal splitting\n"
     ]
    },
    {
     "name": "stderr",
     "output_type": "stream",
     "text": [
      " 41%|████      | 208/512 [00:23<00:36,  8.41it/s]"
     ]
    },
    {
     "name": "stdout",
     "output_type": "stream",
     "text": [
      "No silence remove applied: File 'Leptophyespunctatissima_XC752570-dat141-007_edit4.wav' is too short (1.0sec)\n",
      "Leptophyespunctatissima_XC752570-dat141-007_edit4.wav Sample size (1.0) and fuzzy begining splitting\n"
     ]
    },
    {
     "name": "stderr",
     "output_type": "stream",
     "text": [
      " 41%|████      | 210/512 [00:24<00:31,  9.56it/s]"
     ]
    },
    {
     "name": "stdout",
     "output_type": "stream",
     "text": [
      "Grylluscampestris_XC751579-dat008-008.wav Long sample (43.53240362811791) and normal splitting\n",
      "No silence remove applied: File 'Tylopsislilifolia_XC751853-dat065-003_edit8.wav' is too short (3.0sec)\n",
      "Tylopsislilifolia_XC751853-dat065-003_edit8.wav Sample size (3.0) and fuzzy begining splitting\n",
      "Pseudochorthippusmontanus_XC752609-dat018-014_edit3.wav Sample size (14.666893424036282) and fuzzy begining splitting\n"
     ]
    },
    {
     "name": "stderr",
     "output_type": "stream",
     "text": [
      " 42%|████▏     | 213/512 [00:24<00:34,  8.57it/s]"
     ]
    },
    {
     "name": "stdout",
     "output_type": "stream",
     "text": [
      "No silence remove applied: File 'Pholidopteralittoralis_XC752453-dat054-011_edit4.wav' is too short (2.0sec)\n",
      "Pholidopteralittoralis_XC752453-dat054-011_edit4.wav Sample size (2.0) and fuzzy begining splitting\n",
      "Phaneropterafalcata_XC751642-dat032-001_edit3.wav Long sample (40.312448979591835) and normal splitting\n"
     ]
    },
    {
     "name": "stderr",
     "output_type": "stream",
     "text": [
      " 42%|████▏     | 215/512 [00:24<00:29,  9.95it/s]"
     ]
    },
    {
     "name": "stdout",
     "output_type": "stream",
     "text": [
      "Chorthippusmollis_XC751764-dat005-068.wav Sample size (10.886938775510204) and fuzzy begining splitting\n"
     ]
    },
    {
     "name": "stderr",
     "output_type": "stream",
     "text": [
      " 42%|████▏     | 217/512 [00:24<00:28, 10.20it/s]"
     ]
    },
    {
     "name": "stdout",
     "output_type": "stream",
     "text": [
      "Achetadomesticus_XC751736-dat001-057.wav Long sample (51.75147392290249) and normal splittingNo silence remove applied: File 'Myrmeleotettixmaculatus_XC752577-dat010-017_edit1.wav' is too short (5.0sec)\n",
      "\n",
      "Myrmeleotettixmaculatus_XC752577-dat010-017_edit1.wav Sample size (5.0) and fuzzy begining splitting\n",
      "Omocestusrufipes_XC752516-dat021-003_edit3.wav Sample size (22.459750566893423) and fuzzy begining splitting\n"
     ]
    },
    {
     "name": "stderr",
     "output_type": "stream",
     "text": [
      " 43%|████▎     | 220/512 [00:25<00:34,  8.54it/s]"
     ]
    },
    {
     "name": "stdout",
     "output_type": "stream",
     "text": [
      "Platypleurasp10_MHV%20313%20P.sp10%20Die%20Koo%20%233_edit1.wav Long sample (72.40172335600907) and normal splitting\n",
      "No silence remove applied: File 'Oecanthuspellucens_GBIF3384706124_IN94969477_305827.wav' is too short (7.558095238095238sec)\n",
      "Oecanthuspellucens_GBIF3384706124_IN94969477_305827.wav Sample size (7.558095238095238) and fuzzy begining splitting\n"
     ]
    },
    {
     "name": "stderr",
     "output_type": "stream",
     "text": [
      " 43%|████▎     | 222/512 [00:25<00:29,  9.71it/s]"
     ]
    },
    {
     "name": "stdout",
     "output_type": "stream",
     "text": [
      "Chorthippusvagans_XC751932-dat225-002_edit4.wav Sample size (18.997369614512472) and fuzzy begining splitting\n",
      "No silence remove applied: File 'Yoyettacelis_GBIF1978841161_IN19182166_28522.wav' is too short (2.4380952380952383sec)\n",
      "Yoyettacelis_GBIF1978841161_IN19182166_28522.wav Sample size (2.4380952380952383) and fuzzy begining splitting\n"
     ]
    },
    {
     "name": "stderr",
     "output_type": "stream",
     "text": [
      " 44%|████▍     | 224/512 [00:25<00:32,  8.74it/s]"
     ]
    },
    {
     "name": "stdout",
     "output_type": "stream",
     "text": [
      "Achetadomesticus_XC751734-dat001-055_edit2.wav Sample size (29.669954648526076) and fuzzy begining splitting\n",
      "Omocestusrufipes_XC751629-dat016-001_edit1.wav Sample size (24.58138321995465) and fuzzy begining splitting\n",
      "Tettigoniacantans_XC751933-dat040-001_edit2.wav Long sample (108.4650566893424) and normal splitting\n"
     ]
    },
    {
     "name": "stderr",
     "output_type": "stream",
     "text": [
      " 44%|████▍     | 226/512 [00:25<00:36,  7.91it/s]"
     ]
    },
    {
     "name": "stdout",
     "output_type": "stream",
     "text": [
      "Stenobothrusstigmaticus_XC752617-dat001-008_edit2.wav Sample size (11.993968253968253) and fuzzy begining splitting\n",
      "Tettigoniacantans_XC751952-dat039-006_edit1.wav Sample size (9.362426303854875) and fuzzy begining splitting\n"
     ]
    },
    {
     "name": "stderr",
     "output_type": "stream",
     "text": [
      " 45%|████▍     | 228/512 [00:26<00:35,  7.93it/s]"
     ]
    },
    {
     "name": "stdout",
     "output_type": "stream",
     "text": [
      "No silence remove applied: File 'Stenobothrusstigmaticus_XC752617-dat001-008_edit3.wav' is too short (2.0sec)\n",
      "Stenobothrusstigmaticus_XC752617-dat001-008_edit3.wav Sample size (2.0) and fuzzy begining splitting\n"
     ]
    },
    {
     "name": "stderr",
     "output_type": "stream",
     "text": [
      " 45%|████▍     | 229/512 [00:26<00:40,  6.99it/s]"
     ]
    },
    {
     "name": "stdout",
     "output_type": "stream",
     "text": [
      "No silence remove applied: File 'Roeselianaroeselii_XC752369-dat006-012_edit1.wav' is too short (7.0sec)\n",
      "Roeselianaroeselii_XC752369-dat006-012_edit1.wav Sample size (7.0) and fuzzy begining splitting\n",
      "Conocephalusfuscus_XC752380-dat027-021_edit2.wav Long sample (66.00083900226757) and normal splitting\n",
      "No silence remove applied: File 'Pholidopteralittoralis_XC752437-dat048-001.wav' is too short (4.260997732426304sec)\n",
      "Pholidopteralittoralis_XC752437-dat048-001.wav Sample size (4.260997732426304) and fuzzy begining splitting\n"
     ]
    },
    {
     "name": "stderr",
     "output_type": "stream",
     "text": [
      " 45%|████▌     | 232/512 [00:26<00:32,  8.75it/s]"
     ]
    },
    {
     "name": "stdout",
     "output_type": "stream",
     "text": [
      "No silence remove applied: File 'Chrysochraondispar_XC751759-dat005-083_edit5.wav' is too short (3.0sec)\n",
      "Chrysochraondispar_XC751759-dat005-083_edit5.wav Sample size (3.0) and fuzzy begining splitting\n",
      "Oecanthuspellucens_XC753104-Oecanthus-pellucens-Sben_31_08_09_vicinissimo_2CH44K16.wav Long sample (138.3598185941043) and normal splitting\n"
     ]
    },
    {
     "name": "stderr",
     "output_type": "stream",
     "text": [
      " 46%|████▌     | 234/512 [00:26<00:30,  9.17it/s]"
     ]
    },
    {
     "name": "stdout",
     "output_type": "stream",
     "text": [
      "Phaneropteranana_XC751913-dat066-004_edit1.wav Sample size (13.8559410430839) and fuzzy begining splitting\n",
      "Chorthippusbiguttulus_XC752533-dat185-003_edit2.wav Sample size (11.116507936507936) and fuzzy begining splitting\n"
     ]
    },
    {
     "name": "stderr",
     "output_type": "stream",
     "text": [
      " 46%|████▌     | 236/512 [00:27<00:32,  8.50it/s]"
     ]
    },
    {
     "name": "stdout",
     "output_type": "stream",
     "text": [
      "Chorthippusvagans_XC751932-dat225-002_edit5.wav Sample size (13.997777777777777) and fuzzy begining splitting\n",
      "Chorthippusapricarius_XC752588-dat004-007_edit1.wav Sample size (11.93532879818594) and fuzzy begining splitting\n"
     ]
    },
    {
     "name": "stderr",
     "output_type": "stream",
     "text": [
      " 46%|████▋     | 238/512 [00:27<00:30,  8.92it/s]"
     ]
    },
    {
     "name": "stdout",
     "output_type": "stream",
     "text": [
      "Achetadomesticus_XC751734-dat001-055_edit3.wav Long sample (35.389977324263036) and normal splitting\n"
     ]
    },
    {
     "name": "stderr",
     "output_type": "stream",
     "text": [
      " 47%|████▋     | 240/512 [00:27<00:32,  8.39it/s]"
     ]
    },
    {
     "name": "stdout",
     "output_type": "stream",
     "text": [
      "No silence remove applied: File 'Tettigoniacantans_XC751939-dat031-009_edit1.wav' is too short (8.0sec)\n",
      "Tettigoniacantans_XC751939-dat031-009_edit1.wav Sample size (8.0) and fuzzy begining splitting\n",
      "No silence remove applied: File 'Grylluscampestris_GBIF3772468767_IN115095988_423155_edit2.wav' is too short (3.0sec)\n",
      "Grylluscampestris_GBIF3772468767_IN115095988_423155_edit2.wav Sample size (3.0) and fuzzy begining splitting\n"
     ]
    },
    {
     "name": "stderr",
     "output_type": "stream",
     "text": [
      " 47%|████▋     | 242/512 [00:27<00:34,  7.84it/s]"
     ]
    },
    {
     "name": "stdout",
     "output_type": "stream",
     "text": [
      "No silence remove applied: File 'Yoyettarepetens_GBIF1978820758_IN19037335_28299.wav' is too short (3.900952380952381sec)\n",
      "Yoyettarepetens_GBIF1978820758_IN19037335_28299.wav Sample size (3.900952380952381) and fuzzy begining splitting\n",
      "Gomphocerippusrufus_XC752287-dat001-047.wav Long sample (175.79743764172335) and normal splitting\n",
      "Grylluscampestris_XC751589-dat008-018_edit1.wav Long sample (38.705396825396825) and normal splitting\n",
      "Chorthippusbiguttulus_XC752070-dat179-002_edit2.wav Sample size (14.681360544217688) and fuzzy begining splitting\n"
     ]
    },
    {
     "name": "stderr",
     "output_type": "stream",
     "text": [
      " 48%|████▊     | 246/512 [00:28<00:31,  8.34it/s]"
     ]
    },
    {
     "name": "stdout",
     "output_type": "stream",
     "text": [
      "No silence remove applied: File 'Leptophyespunctatissima_XC752570-dat141-007_edit1.wav' is too short (1.0sec)\n",
      "Leptophyespunctatissima_XC752570-dat141-007_edit1.wav Sample size (1.0) and fuzzy begining splitting\n"
     ]
    },
    {
     "name": "stderr",
     "output_type": "stream",
     "text": [
      " 48%|████▊     | 248/512 [00:28<00:32,  8.04it/s]"
     ]
    },
    {
     "name": "stdout",
     "output_type": "stream",
     "text": [
      "Metriopterabrachyptera_XC751652-dat034-002_edit2.wav Long sample (98.2285260770975) and normal splitting\n"
     ]
    },
    {
     "name": "stderr",
     "output_type": "stream",
     "text": [
      " 49%|████▉     | 250/512 [00:28<00:33,  7.90it/s]"
     ]
    },
    {
     "name": "stdout",
     "output_type": "stream",
     "text": [
      "No silence remove applied: File 'Leptophyespunctatissima_XC752570-dat141-007_edit3.wav' is too short (1.0sec)Pseudochorthippusmontanus_XC752609-dat018-014_edit4.wav Sample size (10.135578231292516) and fuzzy begining splitting\n",
      "\n",
      "Leptophyespunctatissima_XC752570-dat141-007_edit3.wav Sample size (1.0) and fuzzy begining splitting\n"
     ]
    },
    {
     "name": "stderr",
     "output_type": "stream",
     "text": [
      " 49%|████▉     | 251/512 [00:29<00:36,  7.21it/s]"
     ]
    },
    {
     "name": "stdout",
     "output_type": "stream",
     "text": [
      "No silence remove applied: File 'Tettigoniacantans_XC751933-dat040-001_edit1.wav' is too short (5.0sec)\n",
      "Tettigoniacantans_XC751933-dat040-001_edit1.wav Sample size (5.0) and fuzzy begining splitting\n",
      "Phaneropterafalcata_XC751642-dat032-001_edit2.wav Long sample (40.60950113378685) and normal splitting\n"
     ]
    },
    {
     "name": "stderr",
     "output_type": "stream",
     "text": [
      " 49%|████▉     | 252/512 [00:29<00:37,  6.85it/s]"
     ]
    },
    {
     "name": "stdout",
     "output_type": "stream",
     "text": [
      "No silence remove applied: File 'Yoyettacelis_GBIF3384557627_IN97411051_314635.wav' is too short (3.3sec)\n",
      "Yoyettacelis_GBIF3384557627_IN97411051_314635.wav Sample size (3.3) and fuzzy begining splitting\n",
      "Phaneropteranana_XC751921-dat066-011.wav Long sample (221.76367346938775) and normal splitting\n",
      "Bicoloranabicolor_XC751445-dat044-009.wav Long sample (98.42925170068027) and normal splitting\n",
      "No silence remove applied: File 'Myrmeleotettixmaculatus_XC752577-dat010-017_edit2.wav' is too short (5.0sec)\n",
      "Myrmeleotettixmaculatus_XC752577-dat010-017_edit2.wav Sample size (5.0) and fuzzy begining splitting\n"
     ]
    },
    {
     "name": "stderr",
     "output_type": "stream",
     "text": [
      " 50%|████▉     | 255/512 [00:29<00:33,  7.58it/s]"
     ]
    },
    {
     "name": "stdout",
     "output_type": "stream",
     "text": [
      "No silence remove applied: File 'Yoyettacelis_GBIF2445073465_IN34762283_49037.wav' is too short (6.1sec)\n",
      "Yoyettacelis_GBIF2445073465_IN34762283_49037.wav Sample size (6.1) and fuzzy begining splitting\n"
     ]
    },
    {
     "name": "stderr",
     "output_type": "stream",
     "text": [
      " 50%|█████     | 257/512 [00:29<00:37,  6.86it/s]"
     ]
    },
    {
     "name": "stdout",
     "output_type": "stream",
     "text": [
      "Tettigoniacantans_XC751939-dat031-009_edit3.wav Sample size (23.181927437641722) and fuzzy begining splitting\n",
      "Chorthippusvagans_XC751932-dat225-002_edit7.wav Sample size (9.987392290249433) and fuzzy begining splitting\n",
      "Platypleurasp10_MHV%20891%20P.sp10%20Piekenierskloop%20Pass_edit1.wav Long sample (39.060861678004535) and normal splitting\n"
     ]
    },
    {
     "name": "stderr",
     "output_type": "stream",
     "text": [
      " 51%|█████     | 260/512 [00:30<00:29,  8.62it/s]"
     ]
    },
    {
     "name": "stdout",
     "output_type": "stream",
     "text": [
      "Achetadomesticus_XC751734-dat001-055_edit1.wav Sample size (14.439637188208616) and fuzzy begining splitting\n",
      "Decticusverrucivorus_XC751970-dat018-003_edit1.wav Long sample (198.8195918367347) and normal splitting\n"
     ]
    },
    {
     "name": "stderr",
     "output_type": "stream",
     "text": [
      " 51%|█████     | 262/512 [00:30<00:25,  9.77it/s]"
     ]
    },
    {
     "name": "stdout",
     "output_type": "stream",
     "text": [
      "Omocestusrufipes_XC751629-dat016-001_edit2.wav Sample size (11.134263038548752) and fuzzy begining splitting\n",
      "Tettigoniacantans_XC751952-dat039-006_edit3.wav Sample size (11.95453514739229) and fuzzy begining splitting\n",
      "Conocephalusfuscus_XC752380-dat027-021_edit1.wav Sample size (26.73829931972789) and fuzzy begining splitting\n"
     ]
    },
    {
     "name": "stderr",
     "output_type": "stream",
     "text": [
      " 51%|█████▏    | 263/512 [00:30<00:38,  6.53it/s]"
     ]
    },
    {
     "name": "stdout",
     "output_type": "stream",
     "text": [
      "Stenobothrusstigmaticus_XC752617-dat001-008_edit1.wav Sample size (13.995668934240364) and fuzzy begining splitting\n",
      "Platycleisalbopunctata_XC751528-dat003-042.wav Sample size (12.754399092970521) and fuzzy begining splitting\n"
     ]
    },
    {
     "name": "stderr",
     "output_type": "stream",
     "text": [
      " 52%|█████▏    | 265/512 [00:30<00:30,  7.97it/s]"
     ]
    },
    {
     "name": "stdout",
     "output_type": "stream",
     "text": [
      "No silence remove applied: File 'Galangalabeculata_GBIF1986610924_IN19505536_29002_edit1.wav' is too short (4.0sec)\n",
      "Galangalabeculata_GBIF1986610924_IN19505536_29002_edit1.wav Sample size (4.0) and fuzzy begining splitting\n"
     ]
    },
    {
     "name": "stderr",
     "output_type": "stream",
     "text": [
      " 52%|█████▏    | 266/512 [00:30<00:32,  7.67it/s]"
     ]
    },
    {
     "name": "stdout",
     "output_type": "stream",
     "text": [
      "No silence remove applied: File 'Clinopsaltaautumna_GBIF1805372206_IN8163074_15723_edit1.wav' is too short (6.0sec)\n",
      "Clinopsaltaautumna_GBIF1805372206_IN8163074_15723_edit1.wav Sample size (6.0) and fuzzy begining splitting\n",
      "Gampsocleisglabra_GBIF3712726350_IN55298950_127327.wav Sample size (15.95859410430839) and fuzzy begining splitting\n"
     ]
    },
    {
     "name": "stderr",
     "output_type": "stream",
     "text": [
      " 52%|█████▏    | 268/512 [00:31<00:31,  7.71it/s]"
     ]
    },
    {
     "name": "stdout",
     "output_type": "stream",
     "text": [
      "Tettigoniacantans_XC751952-dat039-006_edit2.wav Sample size (11.309478458049886) and fuzzy begining splitting\n"
     ]
    },
    {
     "name": "stderr",
     "output_type": "stream",
     "text": [
      " 53%|█████▎    | 269/512 [00:31<00:35,  6.80it/s]"
     ]
    },
    {
     "name": "stdout",
     "output_type": "stream",
     "text": [
      "Omocestusrufipes_XC751629-dat016-001_edit3.wav Sample size (11.969251700680273) and fuzzy begining splitting\n",
      "Neotibicenpruinosus_GBIF3743241412_IN100627076_327183.wav Sample size (27.156802721088436) and fuzzy begining splitting\n"
     ]
    },
    {
     "name": "stderr",
     "output_type": "stream",
     "text": [
      " 53%|█████▎    | 272/512 [00:31<00:29,  8.06it/s]"
     ]
    },
    {
     "name": "stdout",
     "output_type": "stream",
     "text": [
      "No silence remove applied: File 'Chrysochraondispar_XC751759-dat005-083_edit6.wav' is too short (3.0sec)\n",
      "Chrysochraondispar_XC751759-dat005-083_edit6.wav Sample size (3.0) and fuzzy begining splitting\n",
      "Chorthippusvagans_XC751932-dat225-002_edit6.wav Sample size (11.993786848072562) and fuzzy begining splitting\n"
     ]
    },
    {
     "name": "stderr",
     "output_type": "stream",
     "text": [
      " 54%|█████▎    | 274/512 [00:32<00:30,  7.72it/s]"
     ]
    },
    {
     "name": "stdout",
     "output_type": "stream",
     "text": [
      "Chorthippusbiguttulus_XC752533-dat185-003_edit1.wav Sample size (10.90328798185941) and fuzzy begining splitting\n"
     ]
    },
    {
     "name": "stderr",
     "output_type": "stream",
     "text": [
      " 54%|█████▎    | 275/512 [00:32<00:38,  6.19it/s]"
     ]
    },
    {
     "name": "stdout",
     "output_type": "stream",
     "text": [
      "No silence remove applied: File 'Yoyettacelis_GBIF1805373434_IN8756612_17174.wav' is too short (4.551111111111111sec)\n",
      "Yoyettacelis_GBIF1805373434_IN8756612_17174.wav Sample size (4.551111111111111) and fuzzy begining splitting\n",
      "Chorthippusapricarius_XC752588-dat004-007_edit2.wav Sample size (16.299297052154195) and fuzzy begining splitting\n"
     ]
    },
    {
     "name": "stderr",
     "output_type": "stream",
     "text": [
      " 54%|█████▍    | 278/512 [00:32<00:32,  7.30it/s]"
     ]
    },
    {
     "name": "stdout",
     "output_type": "stream",
     "text": [
      "Gryllusbimaculatus_XC751728-dat007-024.wav Long sample (229.57768707482992) and normal splitting\n",
      "No silence remove applied: File 'Grylluscampestris_GBIF3772468767_IN115095988_423155_edit1.wav' is too short (6.0sec)\n",
      "Grylluscampestris_GBIF3772468767_IN115095988_423155_edit1.wav Sample size (6.0) and fuzzy begining splitting\n"
     ]
    },
    {
     "name": "stderr",
     "output_type": "stream",
     "text": [
      " 55%|█████▍    | 280/512 [00:32<00:26,  8.70it/s]"
     ]
    },
    {
     "name": "stdout",
     "output_type": "stream",
     "text": [
      "No silence remove applied: File 'Myrmeleotettixmaculatus_XC752577-dat010-017_edit3.wav' is too short (6.0sec)\n",
      "Myrmeleotettixmaculatus_XC752577-dat010-017_edit3.wav Sample size (6.0) and fuzzy begining splitting\n",
      "Tettigoniacantans_XC751939-dat031-009_edit2.wav Sample size (17.83390022675737) and fuzzy begining splitting\n"
     ]
    },
    {
     "name": "stderr",
     "output_type": "stream",
     "text": [
      " 55%|█████▌    | 282/512 [00:33<00:30,  7.48it/s]"
     ]
    },
    {
     "name": "stdout",
     "output_type": "stream",
     "text": [
      "Decticusverrucivorus_XC751899-dat098-006_edit1.wav Long sample (154.5681632653061) and normal splitting\n",
      "Chorthippusbiguttulus_XC752070-dat179-002_edit1.wav Sample size (22.129863945578233) and fuzzy begining splitting\n"
     ]
    },
    {
     "name": "stderr",
     "output_type": "stream",
     "text": [
      " 55%|█████▌    | 284/512 [00:33<00:29,  7.64it/s]"
     ]
    },
    {
     "name": "stdout",
     "output_type": "stream",
     "text": [
      "Grylluscampestris_XC751433-dat010-012_edit1.wav Long sample (578.3709070294784) and normal splitting\n",
      "No silence remove applied: File 'Yoyettarepetens_GBIF1950028169_IN18992513_28264.wav' is too short (5.607619047619048sec)\n",
      "Yoyettarepetens_GBIF1950028169_IN18992513_28264.wav Sample size (5.607619047619048) and fuzzy begining splitting\n",
      "No silence remove applied: File 'Phaneropterafalcata_XC751642-dat032-001_edit1.wav' is too short (3.0sec)\n",
      "Metriopterabrachyptera_XC751652-dat034-002_edit1.wav Long sample (34.896530612244895) and normal splitting\n",
      "Phaneropterafalcata_XC751642-dat032-001_edit1.wav Sample size (3.0) and fuzzy begining splitting"
     ]
    },
    {
     "name": "stderr",
     "output_type": "stream",
     "text": [
      " 56%|█████▌    | 287/512 [00:33<00:21, 10.50it/s]"
     ]
    },
    {
     "name": "stdout",
     "output_type": "stream",
     "text": [
      "\n",
      "No silence remove applied: File 'Leptophyespunctatissima_XC752570-dat141-007_edit2.wav' is too short (1.5sec)\n",
      "Leptophyespunctatissima_XC752570-dat141-007_edit2.wav Sample size (1.5) and fuzzy begining splitting\n",
      "No silence remove applied: File 'Tylopsislilifolia_XC751853-dat065-003_edit7.wav' is too short (3.0sec)\n",
      "Tylopsislilifolia_XC751853-dat065-003_edit7.wav Sample size (3.0) and fuzzy begining splitting\n",
      "Omocestusrufipes_XC752516-dat021-003_edit1.wav Sample size (28.390090702947845) and fuzzy begining splitting\n",
      "Ephippigerdiurnus_XC752331-dat026-052.wav Long sample (89.70369614512471) and normal splitting\n"
     ]
    },
    {
     "name": "stderr",
     "output_type": "stream",
     "text": [
      " 56%|█████▋    | 289/512 [00:33<00:29,  7.53it/s]"
     ]
    },
    {
     "name": "stdout",
     "output_type": "stream",
     "text": [
      "No silence remove applied: File 'Popplepsaltanotialis_GBIF2460052957_IN35874454_50718.wav' is too short (5.932698412698413sec)\n",
      "Popplepsaltanotialis_GBIF2460052957_IN35874454_50718.wav Sample size (5.932698412698413) and fuzzy begining splitting\n",
      "Ephippigerdiurnus_XC752122-dat064-019_edit1.wav Long sample (169.64639455782313) and normal splitting\n"
     ]
    },
    {
     "name": "stderr",
     "output_type": "stream",
     "text": [
      " 57%|█████▋    | 291/512 [00:34<00:30,  7.30it/s]"
     ]
    },
    {
     "name": "stdout",
     "output_type": "stream",
     "text": [
      "Chorthippusapricarius_XC752531-dat185-001_edit1.wav Sample size (15.38734693877551) and fuzzy begining splitting\n"
     ]
    },
    {
     "name": "stderr",
     "output_type": "stream",
     "text": [
      " 57%|█████▋    | 294/512 [00:34<00:22,  9.72it/s]"
     ]
    },
    {
     "name": "stdout",
     "output_type": "stream",
     "text": [
      "No silence remove applied: File 'Pholidopteragriseoaptera_XC752320-dat005-040_edit1.wav' is too short (1.0sec)\n",
      "Pholidopteragriseoaptera_XC752320-dat005-040_edit1.wav Sample size (1.0) and fuzzy begining splitting\n",
      "Decticusverrucivorus_XC751956-dat016-002_edit1.wav Sample size (12.785804988662132) and fuzzy begining splitting\n"
     ]
    },
    {
     "name": "stderr",
     "output_type": "stream",
     "text": [
      " 58%|█████▊    | 296/512 [00:34<00:20, 10.80it/s]"
     ]
    },
    {
     "name": "stdout",
     "output_type": "stream",
     "text": [
      "Chorthippusbrunneus_XC751545-dat011-006_edit2.wav Sample size (15.330748299319728) and fuzzy begining splitting\n",
      "No silence remove applied: File 'Tylopsislilifolia_XC751311-dat066-015_edit3.wav' is too short (3.0sec)\n",
      "Tylopsislilifolia_XC751311-dat066-015_edit3.wav Sample size (3.0) and fuzzy begining splitting\n",
      "Conocephalusfuscus_XC752390-dat065-008_edit3.wav Long sample (72.58628117913833) and normal splitting\n"
     ]
    },
    {
     "name": "stderr",
     "output_type": "stream",
     "text": [
      " 58%|█████▊    | 298/512 [00:34<00:26,  7.96it/s]"
     ]
    },
    {
     "name": "stdout",
     "output_type": "stream",
     "text": [
      "Chorthippusmollis_XC751982-dat017-017_edit3.wav Sample size (21.839614512471655) and fuzzy begining splitting\n"
     ]
    },
    {
     "name": "stderr",
     "output_type": "stream",
     "text": [
      " 59%|█████▊    | 300/512 [00:35<00:25,  8.26it/s]"
     ]
    },
    {
     "name": "stdout",
     "output_type": "stream",
     "text": [
      "No silence remove applied: File 'Eumodicogryllusbordigalensis_XC751343-dat171-002_edit4.wav' is too short (2.0sec)\n",
      "Eumodicogryllusbordigalensis_XC751343-dat171-002_edit4.wav Sample size (2.0) and fuzzy begining splitting\n"
     ]
    },
    {
     "name": "stderr",
     "output_type": "stream",
     "text": [
      " 59%|█████▉    | 302/512 [00:35<00:23,  8.79it/s]"
     ]
    },
    {
     "name": "stdout",
     "output_type": "stream",
     "text": [
      "Gomphocerussibiricus_XC751819-dat178-001_edit3.wav Long sample (31.54204081632653) and normal splitting\n",
      "No silence remove applied: File 'Yoyettacelis_GBIF3032143406_IN68390683_159667.wav' is too short (3.7sec)\n",
      "Yoyettacelis_GBIF3032143406_IN68390683_159667.wav Sample size (3.7) and fuzzy begining splitting\n",
      "Platycleisalbopunctata_XC751611-dat028-018.wav Long sample (146.5847619047619) and normal splitting\n"
     ]
    },
    {
     "name": "stderr",
     "output_type": "stream",
     "text": [
      " 59%|█████▉    | 304/512 [00:35<00:21,  9.81it/s]"
     ]
    },
    {
     "name": "stdout",
     "output_type": "stream",
     "text": [
      "No silence remove applied: File 'Eumodicogryllusbordigalensis_XC751343-dat171-002_edit5.wav' is too short (2.0sec)\n",
      "Eumodicogryllusbordigalensis_XC751343-dat171-002_edit5.wav Sample size (2.0) and fuzzy begining splitting\n",
      "No silence remove applied: File 'Popplepsaltaaeroides_GBIF3031923479_IN68464057_160480.wav' is too short (8.8sec)\n",
      "Popplepsaltaaeroides_GBIF3031923479_IN68464057_160480.wav Sample size (8.8) and fuzzy begining splitting\n",
      "Gomphocerussibiricus_XC751819-dat178-001_edit2.wav Long sample (34.442743764172334) and normal splitting\n"
     ]
    },
    {
     "name": "stderr",
     "output_type": "stream",
     "text": [
      " 60%|█████▉    | 306/512 [00:35<00:21,  9.79it/s]"
     ]
    },
    {
     "name": "stdout",
     "output_type": "stream",
     "text": [
      "Chorthippusalbomarginatus_XC751394-dat022-011_edit1.wav Sample size (11.241609977324263) and fuzzy begining splitting\n",
      "No silence remove applied: File 'Bicoloranabicolor_XC751421-dat061-003_edit1.wav' is too short (4.0sec)\n",
      "Bicoloranabicolor_XC751421-dat061-003_edit1.wav Sample size (4.0) and fuzzy begining splitting\n"
     ]
    },
    {
     "name": "stderr",
     "output_type": "stream",
     "text": [
      " 60%|██████    | 308/512 [00:35<00:20,  9.73it/s]"
     ]
    },
    {
     "name": "stdout",
     "output_type": "stream",
     "text": [
      "No silence remove applied: File 'Yoyettacelis_GBIF1805373435_IN8756608_17172.wav' is too short (8.208253968253969sec)\n",
      "Yoyettacelis_GBIF1805373435_IN8756608_17172.wav Sample size (8.208253968253969) and fuzzy begining splitting\n",
      "No silence remove applied: File 'Tylopsislilifolia_XC751311-dat066-015_edit2.wav' is too short (2.0sec)\n",
      "Tylopsislilifolia_XC751311-dat066-015_edit2.wav Sample size (2.0) and fuzzy begining splitting\n"
     ]
    },
    {
     "name": "stderr",
     "output_type": "stream",
     "text": [
      " 61%|██████    | 310/512 [00:36<00:23,  8.74it/s]"
     ]
    },
    {
     "name": "stdout",
     "output_type": "stream",
     "text": [
      "Omocestusviridulus_XC752276-dat009-013.wav Sample size (18.030204081632654) and fuzzy begining splitting\n",
      "Chorthippusmollis_XC751982-dat017-017_edit2.wav Sample size (21.555714285714284) and fuzzy begining splitting\n"
     ]
    },
    {
     "name": "stderr",
     "output_type": "stream",
     "text": [
      " 61%|██████    | 312/512 [00:36<00:27,  7.40it/s]"
     ]
    },
    {
     "name": "stdout",
     "output_type": "stream",
     "text": [
      "Chorthippusbrunneus_XC751545-dat011-006_edit3.wav Sample size (16.89922902494331) and fuzzy begining splitting\n"
     ]
    },
    {
     "name": "stderr",
     "output_type": "stream",
     "text": [
      " 61%|██████    | 313/512 [00:36<00:27,  7.22it/s]"
     ]
    },
    {
     "name": "stdout",
     "output_type": "stream",
     "text": [
      "No silence remove applied: File 'Tylopsislilifolia_XC751853-dat065-003_edit6.wav' is too short (3.0sec)\n",
      "Tylopsislilifolia_XC751853-dat065-003_edit6.wav Sample size (3.0) and fuzzy begining splitting\n",
      "No silence remove applied: File 'Tylopsislilifolia_XC751853-dat065-003_edit4.wav' is too short (3.0sec)\n",
      "Tylopsislilifolia_XC751853-dat065-003_edit4.wav Sample size (3.0) and fuzzy begining splitting\n",
      "Conocephalusfuscus_XC752390-dat065-008_edit2.wav Long sample (49.989433106575966) and normal splitting\n"
     ]
    },
    {
     "name": "stderr",
     "output_type": "stream",
     "text": [
      " 62%|██████▏   | 315/512 [00:36<00:20,  9.58it/s]"
     ]
    },
    {
     "name": "stdout",
     "output_type": "stream",
     "text": [
      "No silence remove applied: File 'Omocestuspetraeus_XC752476-dat058-002_edit3.wav' is too short (5.0sec)\n",
      "Omocestuspetraeus_XC752476-dat058-002_edit3.wav Sample size (5.0) and fuzzy begining splitting\n"
     ]
    },
    {
     "name": "stderr",
     "output_type": "stream",
     "text": [
      " 62%|██████▏   | 317/512 [00:37<00:20,  9.59it/s]"
     ]
    },
    {
     "name": "stdout",
     "output_type": "stream",
     "text": [
      "Chorthippusapricarius_XC752531-dat185-001_edit2.wav Sample size (18.202789115646258) and fuzzy begining splitting\n",
      "Decticusverrucivorus_XC751956-dat016-002_edit2.wav Sample size (12.64172335600907) and fuzzy begining splitting\n"
     ]
    },
    {
     "name": "stderr",
     "output_type": "stream",
     "text": [
      " 62%|██████▏   | 319/512 [00:37<00:27,  7.01it/s]"
     ]
    },
    {
     "name": "stdout",
     "output_type": "stream",
     "text": [
      "No silence remove applied: File 'Pseudochorthippusmontanus_XC752606-dat012-004_edit2.wav' is too short (4.0sec)\n",
      "Pseudochorthippusmontanus_XC752606-dat012-004_edit2.wav Sample size (4.0) and fuzzy begining splitting\n",
      "Chorthippusmollis_XC751763-dat005-067.wav Sample size (9.961950113378684) and fuzzy begining splitting\n"
     ]
    },
    {
     "name": "stderr",
     "output_type": "stream",
     "text": [
      " 63%|██████▎   | 321/512 [00:37<00:21,  8.83it/s]"
     ]
    },
    {
     "name": "stdout",
     "output_type": "stream",
     "text": [
      "No silence remove applied: File 'Roeselianaroeselii_Metrioptera roeselii Echt.M.wav' is too short (3.38687074829932sec)\n",
      "Roeselianaroeselii_Metrioptera roeselii Echt.M.wav Sample size (3.38687074829932) and fuzzy begining splitting\n",
      "Achetadomesticus_XC751749-dat009-003_edit2.wav Long sample (238.3244671201814) and normal splitting\n"
     ]
    },
    {
     "name": "stderr",
     "output_type": "stream",
     "text": [
      " 63%|██████▎   | 323/512 [00:37<00:19,  9.53it/s]"
     ]
    },
    {
     "name": "stdout",
     "output_type": "stream",
     "text": [
      "Chorthippusbrunneus_XC751545-dat011-006_edit1.wav Sample size (17.379002267573696) and fuzzy begining splitting\n",
      "Pholidopteralittoralis_XC753816-Pholidoptera-littoralis-littoralis-Via_san_giovanni_Monte_Berici_29-06-2012-007_2CH44K16.wav Sample size (25.806825396825396) and fuzzy begining splitting\n"
     ]
    },
    {
     "name": "stderr",
     "output_type": "stream",
     "text": [
      " 63%|██████▎   | 325/512 [00:38<00:22,  8.47it/s]"
     ]
    },
    {
     "name": "stdout",
     "output_type": "stream",
     "text": [
      "Chorthippusalbomarginatus_XC751394-dat022-011_edit3.wav Sample size (11.463333333333333) and fuzzy begining splitting\n",
      "No silence remove applied: File 'Bicoloranabicolor_XC751421-dat061-003_edit3.wav' is too short (3.0sec)\n",
      "Bicoloranabicolor_XC751421-dat061-003_edit3.wav Sample size (3.0) and fuzzy begining splitting\n"
     ]
    },
    {
     "name": "stderr",
     "output_type": "stream",
     "text": [
      " 64%|██████▍   | 327/512 [00:38<00:20,  8.83it/s]"
     ]
    },
    {
     "name": "stdout",
     "output_type": "stream",
     "text": [
      "No silence remove applied: File 'Yoyettacelis_GBIF3018096743_IN67440777_156475.wav' is too short (3.9sec)\n",
      "Yoyettacelis_GBIF3018096743_IN67440777_156475.wav Sample size (3.9) and fuzzy begining splitting\n",
      "Barbitistesyersini_XC752468-dat050-002.wav Long sample (186.8067573696145) and normal splitting\n"
     ]
    },
    {
     "name": "stderr",
     "output_type": "stream",
     "text": [
      " 64%|██████▍   | 329/512 [00:38<00:20,  9.05it/s]"
     ]
    },
    {
     "name": "stdout",
     "output_type": "stream",
     "text": [
      "Clinopsaltaautumna_GBIF1932336861_IN17755807_26743.wav Sample size (16.09326530612245) and fuzzy begining splitting\n",
      "No silence remove applied: File 'Chorthippusbiguttulus_XC751529-dat003-043_edit4.wav' is too short (5.0sec)\n",
      "Chorthippusbiguttulus_XC751529-dat003-043_edit4.wav Sample size (5.0) and fuzzy begining splitting\n"
     ]
    },
    {
     "name": "stderr",
     "output_type": "stream",
     "text": [
      " 65%|██████▍   | 332/512 [00:38<00:23,  7.76it/s]"
     ]
    },
    {
     "name": "stdout",
     "output_type": "stream",
     "text": [
      "No silence remove applied: File 'Nemobiussylvestris_NoID_20210724_144844.M.wav' is too short (5.82sec)\n",
      "Nemobiussylvestris_NoID_20210724_144844.M.wav Sample size (5.82) and fuzzy begining splitting\n",
      "Gomphocerussibiricus_XC751819-dat178-001_edit1.wav Long sample (36.05916099773243) and normal splitting\n"
     ]
    },
    {
     "name": "stderr",
     "output_type": "stream",
     "text": [
      " 65%|██████▌   | 334/512 [00:39<00:19,  9.24it/s]"
     ]
    },
    {
     "name": "stdout",
     "output_type": "stream",
     "text": [
      "No silence remove applied: File 'Chorthippusbiguttulus_XC751529-dat003-043_edit5.wav' is too short (6.0sec)\n",
      "Chorthippusbiguttulus_XC751529-dat003-043_edit5.wav Sample size (6.0) and fuzzy begining splitting\n"
     ]
    },
    {
     "name": "stderr",
     "output_type": "stream",
     "text": [
      " 66%|██████▌   | 336/512 [00:39<00:17, 10.22it/s]"
     ]
    },
    {
     "name": "stdout",
     "output_type": "stream",
     "text": [
      "No silence remove applied: File 'Bicoloranabicolor_XC751421-dat061-003_edit2.wav' is too short (4.0sec)\n",
      "Bicoloranabicolor_XC751421-dat061-003_edit2.wav Sample size (4.0) and fuzzy begining splitting\n",
      "Aleetacurvicosta_GBIF3044550084_IN69533545_164034.wav Sample size (11.683877551020409) and fuzzy begining splitting\n",
      "Grylluscampestris_XC751582-dat008-011_edit1.wav Sample size (20.90265306122449) and fuzzy begining splitting\n",
      "Chorthippusalbomarginatus_XC751394-dat022-011_edit2.wav Sample size (6.734240362811791) and fuzzy begining splitting\n"
     ]
    },
    {
     "name": "stderr",
     "output_type": "stream",
     "text": [
      " 66%|██████▌   | 339/512 [00:39<00:24,  7.07it/s]"
     ]
    },
    {
     "name": "stdout",
     "output_type": "stream",
     "text": [
      "No silence remove applied: File 'Tylopsislilifolia_XC751311-dat066-015_edit1.wav' is too short (3.0sec)\n",
      "Chorthippusmollis_XC751982-dat017-017_edit1.wav Sample size (22.370566893424037) and fuzzy begining splittingTylopsislilifolia_XC751311-dat066-015_edit1.wav Sample size (3.0) and fuzzy begining splitting\n",
      "\n"
     ]
    },
    {
     "name": "stderr",
     "output_type": "stream",
     "text": [
      " 66%|██████▋   | 340/512 [00:39<00:22,  7.50it/s]"
     ]
    },
    {
     "name": "stdout",
     "output_type": "stream",
     "text": [
      "No silence remove applied: File 'Pseudochorthippusmontanus_XC752606-dat012-004_edit3.wav' is too short (5.0sec)\n",
      "Pseudochorthippusmontanus_XC752606-dat012-004_edit3.wav Sample size (5.0) and fuzzy begining splitting\n",
      "Achetadomesticus_XC751749-dat009-003_edit1.wav Long sample (178.36444444444444) and normal splitting\n",
      "No silence remove applied: File 'Tettigoniaviridissima_GBIF3333109606_IN87998471_279763.wav' is too short (4.063492063492063sec)\n",
      "Tettigoniaviridissima_GBIF3333109606_IN87998471_279763.wav Sample size (4.063492063492063) and fuzzy begining splitting\n"
     ]
    },
    {
     "name": "stderr",
     "output_type": "stream",
     "text": [
      " 67%|██████▋   | 344/512 [00:40<00:13, 12.90it/s]"
     ]
    },
    {
     "name": "stdout",
     "output_type": "stream",
     "text": [
      "No silence remove applied: File 'Omocestuspetraeus_XC752476-dat058-002_edit2.wav' is too short (8.0sec)\n",
      "Omocestuspetraeus_XC752476-dat058-002_edit2.wav Sample size (8.0) and fuzzy begining splitting\n",
      "Decticusverrucivorus_XC751956-dat016-002_edit3.wav Sample size (9.833061224489796) and fuzzy begining splitting\n",
      "Chorthippusapricarius_XC752531-dat185-001_edit3.wav Sample size (17.55047619047619) and fuzzy begining splitting\n",
      "No silence remove applied: File 'Tylopsislilifolia_XC751853-dat065-003_edit5.wav' is too short (2.0sec)\n"
     ]
    },
    {
     "name": "stderr",
     "output_type": "stream",
     "text": [
      " 68%|██████▊   | 346/512 [00:40<00:20,  8.23it/s]"
     ]
    },
    {
     "name": "stdout",
     "output_type": "stream",
     "text": [
      "Tylopsislilifolia_XC751853-dat065-003_edit5.wav Sample size (2.0) and fuzzy begining splitting\n",
      "No silence remove applied: File 'Tettigoniacantans_GBIF2862528916_IN58736762_134782.wav' is too short (7.700317460317461sec)\n",
      "Tettigoniacantans_GBIF2862528916_IN58736762_134782.wav Sample size (7.700317460317461) and fuzzy begining splitting\n"
     ]
    },
    {
     "name": "stderr",
     "output_type": "stream",
     "text": [
      " 68%|██████▊   | 348/512 [00:40<00:18,  8.70it/s]"
     ]
    },
    {
     "name": "stdout",
     "output_type": "stream",
     "text": [
      "No silence remove applied: File 'Tylopsislilifolia_XC751853-dat065-003_edit1.wav' is too short (3.0sec)\n",
      "Tylopsislilifolia_XC751853-dat065-003_edit1.wav Sample size (3.0) and fuzzy begining splitting\n",
      "No silence remove applied: File 'Omocestuspetraeus_XC752476-dat058-002_edit6.wav' is too short (5.0sec)\n",
      "Omocestuspetraeus_XC752476-dat058-002_edit6.wav Sample size (5.0) and fuzzy begining splitting\n"
     ]
    },
    {
     "name": "stderr",
     "output_type": "stream",
     "text": [
      " 69%|██████▊   | 351/512 [00:40<00:14, 11.32it/s]"
     ]
    },
    {
     "name": "stdout",
     "output_type": "stream",
     "text": [
      "No silence remove applied: File 'Yoyettacelis_GBIF2429568381_IN34291952_48426.wav' is too short (5.5sec)\n",
      "Yoyettacelis_GBIF2429568381_IN34291952_48426.wav Sample size (5.5) and fuzzy begining splitting\n",
      "Chorthippusmollis_XC751771-dat005-075.wav Sample size (10.928004535147393) and fuzzy begining splitting\n",
      "Platypleuraplumosa_MHV%201021%20P.plumosa%20nr%20Addo%20N.P._edit1.wav Long sample (51.506621315192746) and normal splitting\n",
      "No silence remove applied: File 'Pseudochorthippusmontanus_XC752606-dat012-004_edit7.wav' is too short (5.0sec)\n",
      "Pseudochorthippusmontanus_XC752606-dat012-004_edit7.wav Sample size (5.0) and fuzzy begining splitting\n"
     ]
    },
    {
     "name": "stderr",
     "output_type": "stream",
     "text": [
      " 69%|██████▉   | 353/512 [00:41<00:19,  8.06it/s]"
     ]
    },
    {
     "name": "stdout",
     "output_type": "stream",
     "text": [
      "No silence remove applied: File 'Chorthippusbrunneus_XC751545-dat011-006_edit4.wav' is too short (8.5sec)\n",
      "Chorthippusbrunneus_XC751545-dat011-006_edit4.wav Sample size (8.5) and fuzzy begining splitting\n"
     ]
    },
    {
     "name": "stderr",
     "output_type": "stream",
     "text": [
      " 69%|██████▉   | 355/512 [00:41<00:17,  9.02it/s]"
     ]
    },
    {
     "name": "stdout",
     "output_type": "stream",
     "text": [
      "Chorthippusmollis_XC751982-dat017-017_edit5.wav Sample size (23.535034013605443) and fuzzy begining splitting\n"
     ]
    },
    {
     "name": "stderr",
     "output_type": "stream",
     "text": [
      " 70%|██████▉   | 357/512 [00:41<00:16,  9.40it/s]"
     ]
    },
    {
     "name": "stdout",
     "output_type": "stream",
     "text": [
      "Phaneropterafalcata_XC751641-dat031-001_edit2.wav Sample size (6.855442176870748) and fuzzy begining splitting\n",
      "Chorthippusmollis_XC751829-dat001-038_edit1.wav Sample size (19.990408163265307) and fuzzy begining splitting\n",
      "Platypleuracfcatenata_MHV%20608%20P.catenata%20Robinson%20Pass_edit1.wav Long sample (40.86142857142857) and normal splitting\n"
     ]
    },
    {
     "name": "stderr",
     "output_type": "stream",
     "text": [
      " 70%|███████   | 359/512 [00:41<00:14, 10.41it/s]"
     ]
    },
    {
     "name": "stdout",
     "output_type": "stream",
     "text": [
      "Gampsocleisglabra_XC751482-dat026-020.wav Long sample (254.528231292517) and normal splitting\n",
      "No silence remove applied: File 'Eumodicogryllusbordigalensis_XC751343-dat171-002_edit2.wav' is too short (2.0sec)\n",
      "Eumodicogryllusbordigalensis_XC751343-dat171-002_edit2.wav Sample size (2.0) and fuzzy begining splitting\n",
      "Chorthippusbiguttulus_XC751529-dat003-043_edit1.wav Sample size (14.971315192743765) and fuzzy begining splitting\n"
     ]
    },
    {
     "name": "stderr",
     "output_type": "stream",
     "text": [
      " 71%|███████   | 361/512 [00:41<00:13, 10.90it/s]"
     ]
    },
    {
     "name": "stdout",
     "output_type": "stream",
     "text": [
      "No silence remove applied: File 'Eumodicogryllusbordigalensis_XC751343-dat171-002_edit3.wav' is too short (2.0sec)\n",
      "Eumodicogryllusbordigalensis_XC751343-dat171-002_edit3.wav Sample size (2.0) and fuzzy begining splitting\n",
      "No silence remove applied: File 'Bicoloranabicolor_XC751421-dat061-003_edit7.wav' is too short (4.0sec)\n",
      "Bicoloranabicolor_XC751421-dat061-003_edit7.wav Sample size (4.0) and fuzzy begining splitting\n",
      "Oecanthuspellucens_XC751439-dat175-002_edit1.wav Long sample (45.841315192743764) and normal splitting\n"
     ]
    },
    {
     "name": "stderr",
     "output_type": "stream",
     "text": [
      " 71%|███████   | 363/512 [00:42<00:17,  8.69it/s]"
     ]
    },
    {
     "name": "stdout",
     "output_type": "stream",
     "text": [
      "No silence remove applied: File 'Yoyettacelis_GBIF2898418583_IN62082904_141491.wav' is too short (2.7sec)\n",
      "Yoyettacelis_GBIF2898418583_IN62082904_141491.wav Sample size (2.7) and fuzzy begining splitting\n",
      "Stenobothruslineatus_XC751985-dat017-020_edit3.wav Sample size (10.018866213151927) and fuzzy begining splitting\n"
     ]
    },
    {
     "name": "stderr",
     "output_type": "stream",
     "text": [
      " 71%|███████▏  | 365/512 [00:42<00:19,  7.67it/s]"
     ]
    },
    {
     "name": "stdout",
     "output_type": "stream",
     "text": [
      "No silence remove applied: File 'Tylopsislilifolia_XC751311-dat066-015_edit4.wav' is too short (4.0sec)\n",
      "Tylopsislilifolia_XC751311-dat066-015_edit4.wav Sample size (4.0) and fuzzy begining splitting\n"
     ]
    },
    {
     "name": "stderr",
     "output_type": "stream",
     "text": [
      " 71%|███████▏  | 366/512 [00:42<00:19,  7.53it/s]"
     ]
    },
    {
     "name": "stdout",
     "output_type": "stream",
     "text": [
      "No silence remove applied: File 'Pseudochorthippusmontanus_XC752606-dat012-004_edit6.wav' is too short (4.0sec)\n",
      "Pseudochorthippusmontanus_XC752606-dat012-004_edit6.wav Sample size (4.0) and fuzzy begining splitting\n",
      "Chorthippusmollis_XC751982-dat017-017_edit4.wav Sample size (22.19798185941043) and fuzzy begining splitting\n"
     ]
    },
    {
     "name": "stderr",
     "output_type": "stream",
     "text": [
      " 72%|███████▏  | 368/512 [00:42<00:18,  7.81it/s]"
     ]
    },
    {
     "name": "stdout",
     "output_type": "stream",
     "text": [
      "No silence remove applied: File 'Chrysochraondispar_XC751777-dat005-081_edit2.wav' is too short (3.0sec)\n",
      "Chrysochraondispar_XC751777-dat005-081_edit2.wav Sample size (3.0) and fuzzy begining splitting\n",
      "No silence remove applied: File 'Omocestuspetraeus_XC752476-dat058-002_edit7.wav' is too short (6.0sec)\n",
      "Omocestuspetraeus_XC752476-dat058-002_edit7.wav Sample size (6.0) and fuzzy begining splitting\n",
      "Psaltodaplaga_GBIF2901693164_IN63139612_144238.wav Sample size (25.698185941043082) and fuzzy begining splitting\n"
     ]
    },
    {
     "name": "stderr",
     "output_type": "stream",
     "text": [
      " 72%|███████▏  | 371/512 [00:43<00:15,  8.95it/s]"
     ]
    },
    {
     "name": "stdout",
     "output_type": "stream",
     "text": [
      "No silence remove applied: File 'Leptophyespunctatissima_XC752570-dat141-007_edit8.wav' is too short (1.0sec)\n",
      "Leptophyespunctatissima_XC752570-dat141-007_edit8.wav Sample size (1.0) and fuzzy begining splitting\n"
     ]
    },
    {
     "name": "stderr",
     "output_type": "stream",
     "text": [
      " 73%|███████▎  | 372/512 [00:43<00:17,  8.23it/s]"
     ]
    },
    {
     "name": "stdout",
     "output_type": "stream",
     "text": [
      "No silence remove applied: File 'Tylopsislilifolia_XC751853-dat065-003_edit2.wav' is too short (3.0sec)\n",
      "Tylopsislilifolia_XC751853-dat065-003_edit2.wav Sample size (3.0) and fuzzy begining splitting\n"
     ]
    },
    {
     "name": "stderr",
     "output_type": "stream",
     "text": [
      " 73%|███████▎  | 373/512 [00:43<00:19,  7.05it/s]"
     ]
    },
    {
     "name": "stdout",
     "output_type": "stream",
     "text": [
      "No silence remove applied: File 'Omocestuspetraeus_XC752476-dat058-002_edit5.wav' is too short (5.0sec)\n",
      "Omocestuspetraeus_XC752476-dat058-002_edit5.wav Sample size (5.0) and fuzzy begining splitting\n",
      "No silence remove applied: File 'Decticusverrucivorus_XC751956-dat016-002_edit4.wav' is too short (8.0sec)\n",
      "Decticusverrucivorus_XC751956-dat016-002_edit4.wav Sample size (8.0) and fuzzy begining splitting\n"
     ]
    },
    {
     "name": "stderr",
     "output_type": "stream",
     "text": [
      " 73%|███████▎  | 376/512 [00:43<00:18,  7.50it/s]"
     ]
    },
    {
     "name": "stdout",
     "output_type": "stream",
     "text": [
      "No silence remove applied: File 'Pseudochorthippusmontanus_XC752606-dat012-004_edit4.wav' is too short (5.0sec)\n",
      "Pseudochorthippusmontanus_XC752606-dat012-004_edit4.wav Sample size (5.0) and fuzzy begining splitting\n",
      "Cicadaorni_GBIF2429234638_IN31534793_46057_edit1.wav Long sample (42.767596371882085) and normal splitting\n"
     ]
    },
    {
     "name": "stderr",
     "output_type": "stream",
     "text": [
      " 74%|███████▍  | 378/512 [00:44<00:14,  9.22it/s]"
     ]
    },
    {
     "name": "stdout",
     "output_type": "stream",
     "text": [
      "Chorthippusapricarius_XC752531-dat185-001_edit4.wav Sample size (22.925827664399094) and fuzzy begining splitting\n"
     ]
    },
    {
     "name": "stderr",
     "output_type": "stream",
     "text": [
      " 74%|███████▍  | 380/512 [00:44<00:13,  9.83it/s]"
     ]
    },
    {
     "name": "stdout",
     "output_type": "stream",
     "text": [
      "Chorthippusmollis_XC751982-dat017-017_edit6.wav Sample size (20.8440589569161) and fuzzy begining splitting\n"
     ]
    },
    {
     "name": "stderr",
     "output_type": "stream",
     "text": [
      " 75%|███████▍  | 382/512 [00:44<00:13,  9.85it/s]"
     ]
    },
    {
     "name": "stdout",
     "output_type": "stream",
     "text": [
      "Stenobothruslineatus_XC751985-dat017-020_edit1.wav Sample size (15.918730158730158) and fuzzy begining splitting\n",
      "Gampsocleisglabra_XC751485-dat026-024.wav Long sample (38.273492063492064) and normal splitting\n",
      "No silence remove applied: File 'Phaneropterafalcata_XC751641-dat031-001_edit1.wav' is too short (5.0sec)\n",
      "No silence remove applied: File 'Aleetacurvicosta_GBIF3005253775_IN66502448_153548.wav' is too short (2.8sec)Phaneropterafalcata_XC751641-dat031-001_edit1.wav Sample size (5.0) and fuzzy begining splitting\n",
      "\n",
      "Aleetacurvicosta_GBIF3005253775_IN66502448_153548.wav Sample size (2.8) and fuzzy begining splitting\n"
     ]
    },
    {
     "name": "stderr",
     "output_type": "stream",
     "text": [
      " 75%|███████▌  | 384/512 [00:44<00:13,  9.59it/s]"
     ]
    },
    {
     "name": "stdout",
     "output_type": "stream",
     "text": [
      "No silence remove applied: File 'Bicoloranabicolor_XC751421-dat061-003_edit5.wav' is too short (4.0sec)\n",
      "Bicoloranabicolor_XC751421-dat061-003_edit5.wav Sample size (4.0) and fuzzy begining splitting\n",
      "Chorthippusmollis_XC751829-dat001-038_edit2.wav Long sample (53.98757369614513) and normal splitting\n"
     ]
    },
    {
     "name": "stderr",
     "output_type": "stream",
     "text": [
      " 75%|███████▌  | 385/512 [00:44<00:14,  8.49it/s]"
     ]
    },
    {
     "name": "stdout",
     "output_type": "stream",
     "text": [
      "No silence remove applied: File 'Chorthippusbiguttulus_XC751529-dat003-043_edit2.wav' is too short (8.0sec)\n",
      "\n",
      "Chorthippusbiguttulus_XC751529-dat003-043_edit2.wav Sample size (8.0) and fuzzy begining splittingChorthippusalbomarginatus_XC751394-dat022-011_edit5.wav Sample size (7.810249433106576) and fuzzy begining splitting\n"
     ]
    },
    {
     "name": "stderr",
     "output_type": "stream",
     "text": [
      " 76%|███████▌  | 388/512 [00:45<00:11, 10.49it/s]"
     ]
    },
    {
     "name": "stdout",
     "output_type": "stream",
     "text": [
      "Oecanthuspellucens_XC751439-dat175-002_edit2.wav Sample size (13.469410430839002) and fuzzy begining splitting\n"
     ]
    },
    {
     "name": "stderr",
     "output_type": "stream",
     "text": [
      " 76%|███████▌  | 390/512 [00:45<00:12,  9.76it/s]"
     ]
    },
    {
     "name": "stdout",
     "output_type": "stream",
     "text": [
      "No silence remove applied: File 'Yoyettacelis_GBIF2429568475_IN34291946_48423_edit1.wav' is too short (1.5sec)\n",
      "Yoyettacelis_GBIF2429568475_IN34291946_48423_edit1.wav Sample size (1.5) and fuzzy begining splitting\n",
      "Chorthippusbiguttulus_XC751529-dat003-043_edit3.wav Sample size (15.969206349206349) and fuzzy begining splitting\n",
      "Conocephalusfuscus_XC752384-dat034-007.wav Long sample (57.24988662131519) and normal splitting\n"
     ]
    },
    {
     "name": "stderr",
     "output_type": "stream",
     "text": [
      " 77%|███████▋  | 392/512 [00:45<00:12,  9.99it/s]"
     ]
    },
    {
     "name": "stdout",
     "output_type": "stream",
     "text": [
      "No silence remove applied: File 'Bicoloranabicolor_XC751421-dat061-003_edit4.wav' is too short (3.0sec)\n",
      "Bicoloranabicolor_XC751421-dat061-003_edit4.wav Sample size (3.0) and fuzzy begining splitting\n",
      "Chorthippusalbomarginatus_XC751394-dat022-011_edit4.wav Sample size (8.895804988662132) and fuzzy begining splitting\n"
     ]
    },
    {
     "name": "stderr",
     "output_type": "stream",
     "text": [
      " 77%|███████▋  | 394/512 [00:45<00:11, 10.05it/s]"
     ]
    },
    {
     "name": "stdout",
     "output_type": "stream",
     "text": [
      "Chrysochraondispar_XC751494-dat001-004.wav Long sample (48.31333333333333) and normal splitting\n",
      "No silence remove applied: File 'Pseudochorthippusmontanus_XC752606-dat012-004_edit5.wav' is too short (4.0sec)\n",
      "Pseudochorthippusmontanus_XC752606-dat012-004_edit5.wav Sample size (4.0) and fuzzy begining splitting\n"
     ]
    },
    {
     "name": "stderr",
     "output_type": "stream",
     "text": [
      " 77%|███████▋  | 396/512 [00:45<00:09, 11.75it/s]"
     ]
    },
    {
     "name": "stdout",
     "output_type": "stream",
     "text": [
      "Chorthippusmollis_XC751829-dat001-038_edit3.wav Sample size (26.351496598639457) and fuzzy begining splitting\n"
     ]
    },
    {
     "name": "stderr",
     "output_type": "stream",
     "text": [
      " 78%|███████▊  | 398/512 [00:46<00:13,  8.34it/s]"
     ]
    },
    {
     "name": "stdout",
     "output_type": "stream",
     "text": [
      "Omocestuspetraeus_XC752476-dat058-002_edit4.wav Sample size (13.49233560090703) and fuzzy begining splitting\n",
      "No silence remove applied: File 'Tylopsislilifolia_XC751853-dat065-003_edit3.wav' is too short (2.0sec)\n",
      "Tylopsislilifolia_XC751853-dat065-003_edit3.wav Sample size (2.0) and fuzzy begining splitting\n"
     ]
    },
    {
     "name": "stderr",
     "output_type": "stream",
     "text": [
      " 78%|███████▊  | 400/512 [00:46<00:14,  7.91it/s]"
     ]
    },
    {
     "name": "stdout",
     "output_type": "stream",
     "text": [
      "No silence remove applied: File 'Platypleuraplumosa_MHV%20609%20P.plumosa%204km%20W%20De%20Rust%20%232_edit2.wav' is too short (9.0sec)\n",
      "Platypleuraplumosa_MHV%20609%20P.plumosa%204km%20W%20De%20Rust%20%232_edit2.wav Sample size (9.0) and fuzzy begining splitting\n",
      "No silence remove applied: File 'Chorthippusbiguttulus_XC752337-dat004-022_edit1.wav' is too short (4.0sec)\n",
      "Chorthippusbiguttulus_XC752337-dat004-022_edit1.wav Sample size (4.0) and fuzzy begining splitting\n"
     ]
    },
    {
     "name": "stderr",
     "output_type": "stream",
     "text": [
      " 79%|███████▊  | 402/512 [00:46<00:12,  9.04it/s]"
     ]
    },
    {
     "name": "stdout",
     "output_type": "stream",
     "text": [
      "No silence remove applied: File 'Pholidopteraaptera_XC752418-dat099-007_edit2.wav' is too short (2.0sec)\n",
      "Pholidopteraaptera_XC752418-dat099-007_edit2.wav Sample size (2.0) and fuzzy begining splitting\n",
      "Pholidopteragriseoaptera_XC751440-dat044-014_edit1.wav Long sample (95.23297052154194) and normal splittingChorthippusmollis_XC752483-dat065-007_edit1.wav Sample size (8.117414965986395) and fuzzy begining splitting\n",
      "\n",
      "No silence remove applied: File 'Cicadaorni_GBIF3859145765_IN90640960_289842.wav' is too short (7.558095238095238sec)\n",
      "Cicadaorni_GBIF3859145765_IN90640960_289842.wav Sample size (7.558095238095238) and fuzzy begining splitting\n"
     ]
    },
    {
     "name": "stderr",
     "output_type": "stream",
     "text": [
      " 79%|███████▉  | 405/512 [00:47<00:13,  7.86it/s]"
     ]
    },
    {
     "name": "stdout",
     "output_type": "stream",
     "text": [
      "No silence remove applied: File 'Chorthippusbrunneus_XC751384-dat005-049_edit2.wav' is too short (2.0sec)\n",
      "Chorthippusbrunneus_XC751384-dat005-049_edit2.wav Sample size (2.0) and fuzzy begining splitting\n",
      "No silence remove applied: File 'Pseudochorthippusparallelus_XC751868-dat097-022_edit1.wav' is too short (4.0sec)\n",
      "Pseudochorthippusparallelus_XC751868-dat097-022_edit1.wav Sample size (4.0) and fuzzy begining splitting\n"
     ]
    },
    {
     "name": "stderr",
     "output_type": "stream",
     "text": [
      " 79%|███████▉  | 407/512 [00:47<00:12,  8.36it/s]"
     ]
    },
    {
     "name": "stdout",
     "output_type": "stream",
     "text": [
      "No silence remove applied: File 'Roeselianaroeselii_XC752366-dat006-009.wav' is too short (9.790680272108844sec)\n",
      "Roeselianaroeselii_XC752366-dat006-009.wav Sample size (9.790680272108844) and fuzzy begining splitting\n"
     ]
    },
    {
     "name": "stderr",
     "output_type": "stream",
     "text": [
      " 80%|███████▉  | 409/512 [00:47<00:12,  8.39it/s]"
     ]
    },
    {
     "name": "stdout",
     "output_type": "stream",
     "text": [
      "No silence remove applied: File 'Barbitistesyersini_XC752462-dat047-010_edit4.wav' is too short (2.0sec)\n",
      "Barbitistesyersini_XC752462-dat047-010_edit4.wav Sample size (2.0) and fuzzy begining splitting\n",
      "Myrmeleotettixmaculatus_XC752579-dat010-019_edit4.wav Sample size (9.220340136054421) and fuzzy begining splitting\n",
      "Phaneropterafalcata_XC751783-dat005-085.wav Long sample (228.06444444444443) and normal splitting\n"
     ]
    },
    {
     "name": "stderr",
     "output_type": "stream",
     "text": [
      " 80%|████████  | 412/512 [00:47<00:11,  8.92it/s]"
     ]
    },
    {
     "name": "stdout",
     "output_type": "stream",
     "text": [
      "No silence remove applied: File 'Pseudochorthippusmontanus_GBIF3456283524_IN104931964_346429.wav' is too short (5.981882086167801sec)\n",
      "Pseudochorthippusmontanus_GBIF3456283524_IN104931964_346429.wav Sample size (5.981882086167801) and fuzzy begining splitting\n",
      "Roeselianaroeselii_XC751676-dat018-013_edit1.wav Sample size (12.543854875283447) and fuzzy begining splitting\n"
     ]
    },
    {
     "name": "stderr",
     "output_type": "stream",
     "text": [
      " 81%|████████  | 414/512 [00:48<00:10,  9.16it/s]"
     ]
    },
    {
     "name": "stdout",
     "output_type": "stream",
     "text": [
      "No silence remove applied: File 'Barbitistesyersini_XC752466-dat047-008_edit4.wav' is too short (3.0sec)\n",
      "Barbitistesyersini_XC752466-dat047-008_edit4.wav Sample size (3.0) and fuzzy begining splitting\n",
      "Platypleurasp10_MHV%20313%20P.sp10%20Die%20Koo%20%236a_edit1.wav Long sample (99.23673469387755) and normal splitting"
     ]
    },
    {
     "name": "stderr",
     "output_type": "stream",
     "text": [
      " 81%|████████  | 415/512 [00:48<00:11,  8.73it/s]"
     ]
    },
    {
     "name": "stdout",
     "output_type": "stream",
     "text": [
      "\n",
      "No silence remove applied: File 'Barbitistesyersini_XC752462-dat047-010_edit5.wav' is too short (2.0sec)\n",
      "Barbitistesyersini_XC752462-dat047-010_edit5.wav Sample size (2.0) and fuzzy begining splitting\n",
      "Chorthippusbiguttulus_XC751875-dat150-006_edit3.wav Sample size (10.548253968253968) and fuzzy begining splitting\n"
     ]
    },
    {
     "name": "stderr",
     "output_type": "stream",
     "text": [
      " 81%|████████▏ | 417/512 [00:48<00:10,  9.00it/s]"
     ]
    },
    {
     "name": "stdout",
     "output_type": "stream",
     "text": [
      "No silence remove applied: File 'Myrmeleotettixmaculatus_XC752579-dat010-019_edit5.wav' is too short (9.0sec)\n",
      "Myrmeleotettixmaculatus_XC752579-dat010-019_edit5.wav Sample size (9.0) and fuzzy begining splitting\n",
      "Gomphocerussibiricus_XC751600-dat097-003.wav Sample size (11.734852607709751) and fuzzy begining splitting\n"
     ]
    },
    {
     "name": "stderr",
     "output_type": "stream",
     "text": [
      " 82%|████████▏ | 419/512 [00:48<00:11,  8.41it/s]"
     ]
    },
    {
     "name": "stdout",
     "output_type": "stream",
     "text": [
      "No silence remove applied: File 'Chorthippusbrunneus_XC751384-dat005-049_edit3.wav' is too short (2.0sec)\n",
      "Chorthippusbrunneus_XC751384-dat005-049_edit3.wav Sample size (2.0) and fuzzy begining splitting\n"
     ]
    },
    {
     "name": "stderr",
     "output_type": "stream",
     "text": [
      " 82%|████████▏ | 421/512 [00:48<00:10,  8.48it/s]"
     ]
    },
    {
     "name": "stdout",
     "output_type": "stream",
     "text": [
      "No silence remove applied: File 'Pholidopteraaptera_XC752418-dat099-007_edit3.wav' is too short (2.6019954648526076sec)\n",
      "Pholidopteraaptera_XC752418-dat099-007_edit3.wav Sample size (2.6019954648526076) and fuzzy begining splitting\n"
     ]
    },
    {
     "name": "stderr",
     "output_type": "stream",
     "text": [
      " 83%|████████▎ | 424/512 [00:49<00:10,  8.23it/s]"
     ]
    },
    {
     "name": "stdout",
     "output_type": "stream",
     "text": [
      "No silence remove applied: File 'Stenobothrusstigmaticus_XC752002-dat004-047.wav' is too short (5.416258503401361sec)\n",
      "Stenobothrusstigmaticus_XC752002-dat004-047.wav Sample size (5.416258503401361) and fuzzy begining splitting\n"
     ]
    },
    {
     "name": "stderr",
     "output_type": "stream",
     "text": [
      " 83%|████████▎ | 425/512 [00:49<00:10,  8.39it/s]"
     ]
    },
    {
     "name": "stdout",
     "output_type": "stream",
     "text": [
      "Atrapsaltaencaustica_GBIF2423184983_IN33178573_47353.wav Long sample (33.011496598639454) and normal splitting\n",
      "No silence remove applied: File 'Platypleuraplumosa_MHV%20609%20P.plumosa%204km%20W%20De%20Rust%20%232_edit3.wav' is too short (7.0sec)\n",
      "Platypleuraplumosa_MHV%20609%20P.plumosa%204km%20W%20De%20Rust%20%232_edit3.wav Sample size (7.0) and fuzzy begining splitting\n"
     ]
    },
    {
     "name": "stderr",
     "output_type": "stream",
     "text": [
      " 83%|████████▎ | 427/512 [00:49<00:09,  9.35it/s]"
     ]
    },
    {
     "name": "stdout",
     "output_type": "stream",
     "text": [
      "Decticusverrucivorus_XC751974-dat018-007.wav Long sample (231.9944217687075) and normal splitting\n"
     ]
    },
    {
     "name": "stderr",
     "output_type": "stream",
     "text": [
      " 84%|████████▎ | 428/512 [00:49<00:09,  8.83it/s]"
     ]
    },
    {
     "name": "stdout",
     "output_type": "stream",
     "text": [
      "Tettigoniacantans_XC751949-dat035-008_edit1.wav Long sample (42.55052154195011) and normal splittingNo silence remove applied: File 'Galangalabeculata_GBIF2992799626_IN65682655_150986.wav' is too short (5.1sec)\n",
      "\n",
      "Galangalabeculata_GBIF2992799626_IN65682655_150986.wav Sample size (5.1) and fuzzy begining splitting\n",
      "No silence remove applied: File 'Yoyettacelis_GBIF3344029112_IN92046644_294960_edit1.wav' is too short (2.0sec)\n",
      "Yoyettacelis_GBIF3344029112_IN92046644_294960_edit1.wav Sample size (2.0) and fuzzy begining splitting\n"
     ]
    },
    {
     "name": "stderr",
     "output_type": "stream",
     "text": [
      " 84%|████████▍ | 431/512 [00:50<00:08,  9.05it/s]"
     ]
    },
    {
     "name": "stdout",
     "output_type": "stream",
     "text": [
      "No silence remove applied: File 'Stenobothrusstigmaticus_XC752013-dat005-009.wav' is too short (3.4167120181405894sec)\n",
      "Stenobothrusstigmaticus_XC752013-dat005-009.wav Sample size (3.4167120181405894) and fuzzy begining splitting\n",
      "Ruspolianitidula_XC757310-B20h09m31s22oct2022_edit1.wav Long sample (54.993809523809524) and normal splitting\n"
     ]
    },
    {
     "name": "stderr",
     "output_type": "stream",
     "text": [
      " 85%|████████▍ | 435/512 [00:50<00:07,  9.98it/s]"
     ]
    },
    {
     "name": "stdout",
     "output_type": "stream",
     "text": [
      "Grylluscampestris_XC751584-dat008-013.wav Long sample (89.56641723356009) and normal splitting\n",
      "No silence remove applied: File 'Pholidopteraaptera_XC752418-dat099-007_edit1.wav' is too short (3.0sec)Pholidopteragriseoaptera_XC751502-dat003-029.wav Sample size (23.85825396825397) and fuzzy begining splitting\n",
      "Pholidopteraaptera_XC752418-dat099-007_edit1.wav Sample size (3.0) and fuzzy begining splitting\n",
      "\n",
      "Chorthippusmollis_XC752483-dat065-007_edit2.wav Sample size (8.435600907029478) and fuzzy begining splitting\n"
     ]
    },
    {
     "name": "stderr",
     "output_type": "stream",
     "text": [
      " 85%|████████▌ | 437/512 [00:50<00:09,  8.30it/s]"
     ]
    },
    {
     "name": "stdout",
     "output_type": "stream",
     "text": [
      "No silence remove applied: File 'Pseudochorthippusparallelus_XC751868-dat097-022_edit2.wav' is too short (4.0sec)\n",
      "Pseudochorthippusparallelus_XC751868-dat097-022_edit2.wav Sample size (4.0) and fuzzy begining splitting\n",
      "Tettigoniacantans_XC751949-dat035-008_edit3.wav Long sample (69.87897959183674) and normal splitting\n"
     ]
    },
    {
     "name": "stderr",
     "output_type": "stream",
     "text": [
      " 86%|████████▌ | 438/512 [00:50<00:09,  8.04it/s]"
     ]
    },
    {
     "name": "stdout",
     "output_type": "stream",
     "text": [
      "No silence remove applied: File 'Chorthippusbrunneus_XC751384-dat005-049_edit1.wav' is too short (2.0sec)\n",
      "Chorthippusbrunneus_XC751384-dat005-049_edit1.wav Sample size (2.0) and fuzzy begining splitting\n"
     ]
    },
    {
     "name": "stderr",
     "output_type": "stream",
     "text": [
      " 86%|████████▌ | 439/512 [00:51<00:09,  7.54it/s]"
     ]
    },
    {
     "name": "stdout",
     "output_type": "stream",
     "text": [
      "Stenobothruslineatus_XC751531-dat003-036.wav Long sample (209.05351473922903) and normal splitting\n",
      "No silence remove applied: File 'Gomphocerippusrufus_XC752294-dat005-032.wav' is too short (8.444126984126983sec)\n",
      "Gomphocerippusrufus_XC752294-dat005-032.wav Sample size (8.444126984126983) and fuzzy begining splitting\n",
      "No silence remove applied: File 'Myrmeleotettixmaculatus_XC752579-dat010-019_edit7.wav' is too short (9.0sec)\n",
      "Myrmeleotettixmaculatus_XC752579-dat010-019_edit7.wav Sample size (9.0) and fuzzy begining splitting\n",
      "No silence remove applied: File 'Yoyettacelis_GBIF3384067166_IN96045299_310396.wav' is too short (5.6sec)\n",
      "Yoyettacelis_GBIF3384067166_IN96045299_310396.wav Sample size (5.6) and fuzzy begining splitting\n",
      "Ephippigerdiurnus_XC752091-dat027-016.wav Long sample (126.14746031746031) and normal splitting\n"
     ]
    },
    {
     "name": "stderr",
     "output_type": "stream",
     "text": [
      " 86%|████████▋ | 442/512 [00:51<00:06, 10.93it/s]"
     ]
    },
    {
     "name": "stdout",
     "output_type": "stream",
     "text": [
      "No silence remove applied: File 'Barbitistesyersini_XC752462-dat047-010_edit7.wav' is too short (3.0sec)\n",
      "Barbitistesyersini_XC752462-dat047-010_edit7.wav Sample size (3.0) and fuzzy begining splitting\n",
      "Nemobiussylvestris_XC751419-dat145-001.wav Long sample (293.16356009070296) and normal splitting\n"
     ]
    },
    {
     "name": "stderr",
     "output_type": "stream",
     "text": [
      " 87%|████████▋ | 444/512 [00:51<00:06, 10.54it/s]"
     ]
    },
    {
     "name": "stdout",
     "output_type": "stream",
     "text": [
      "Chorthippusbiguttulus_XC751875-dat150-006_edit1.wav Sample size (13.535192743764172) and fuzzy begining splitting\n",
      "No silence remove applied: File 'Pholidopteragriseoaptera_NoID_20200810_181548.M.wav' is too short (9.308480725623582sec)\n",
      "Pholidopteragriseoaptera_NoID_20200810_181548.M.wav Sample size (9.308480725623582) and fuzzy begining splitting\n",
      "Ephippigerdiurnus_XC752121-dat064-018_edit2.wav Long sample (39.01954648526077) and normal splitting\n"
     ]
    },
    {
     "name": "stderr",
     "output_type": "stream",
     "text": [
      " 87%|████████▋ | 446/512 [00:51<00:08,  8.24it/s]"
     ]
    },
    {
     "name": "stdout",
     "output_type": "stream",
     "text": [
      "No silence remove applied: File 'Pseudochorthippusparallelus_VOC_190626-1033.wav' is too short (5.461791383219954sec)\n",
      "Pseudochorthippusparallelus_VOC_190626-1033.wav Sample size (5.461791383219954) and fuzzy begining splitting\n",
      "No silence remove applied: File 'Achetadomesticus_XC751754-dat194-004_edit2.wav' is too short (2.0sec)\n",
      "Achetadomesticus_XC751754-dat194-004_edit2.wav Sample size (2.0) and fuzzy begining splitting\n",
      "Roeselianaroeselii_XC751676-dat018-013_edit2.wav Sample size (13.899342403628118) and fuzzy begining splitting\n",
      "Roeselianaroeselii_XC751676-dat018-013_edit3.wav Sample size (13.453628117913832) and fuzzy begining splitting\n"
     ]
    },
    {
     "name": "stderr",
     "output_type": "stream",
     "text": [
      " 88%|████████▊ | 450/512 [00:51<00:05, 12.16it/s]"
     ]
    },
    {
     "name": "stdout",
     "output_type": "stream",
     "text": [
      "No silence remove applied: File 'Barbitistesyersini_XC752462-dat047-010_edit6.wav' is too short (3.0sec)\n",
      "Barbitistesyersini_XC752462-dat047-010_edit6.wav Sample size (3.0) and fuzzy begining splitting\n",
      "No silence remove applied: File 'Myrmeleotettixmaculatus_XC752579-dat010-019_edit6.wav' is too short (8.0sec)\n",
      "Myrmeleotettixmaculatus_XC752579-dat010-019_edit6.wav Sample size (8.0) and fuzzy begining splitting\n"
     ]
    },
    {
     "name": "stderr",
     "output_type": "stream",
     "text": [
      " 88%|████████▊ | 452/512 [00:52<00:06,  9.27it/s]"
     ]
    },
    {
     "name": "stdout",
     "output_type": "stream",
     "text": [
      "No silence remove applied: File 'Pseudochorthippusparallelus_XC751868-dat097-022_edit3.wav' is too short (8.0sec)\n",
      "Pseudochorthippusparallelus_XC751868-dat097-022_edit3.wav Sample size (8.0) and fuzzy begining splitting\n"
     ]
    },
    {
     "name": "stderr",
     "output_type": "stream",
     "text": [
      " 89%|████████▊ | 454/512 [00:52<00:07,  8.16it/s]"
     ]
    },
    {
     "name": "stdout",
     "output_type": "stream",
     "text": [
      "Chorthippusmollis_XC752483-dat065-007_edit3.wav Sample size (8.514285714285714) and fuzzy begining splitting\n"
     ]
    },
    {
     "name": "stderr",
     "output_type": "stream",
     "text": [
      " 89%|████████▉ | 456/512 [00:52<00:06,  8.50it/s]"
     ]
    },
    {
     "name": "stdout",
     "output_type": "stream",
     "text": [
      "No silence remove applied: File 'Galangalabeculata_GBIF2465315856_IN36305752_51627.wav' is too short (2.5sec)\n",
      "Galangalabeculata_GBIF2465315856_IN36305752_51627.wav Sample size (2.5) and fuzzy begining splitting\n",
      "No silence remove applied: File 'Yoyettacelis_GBIF2868281231_IN60283503_137521.wav' is too short (3.2sec)\n",
      "Yoyettacelis_GBIF2868281231_IN60283503_137521.wav Sample size (3.2) and fuzzy begining splitting\n"
     ]
    },
    {
     "name": "stderr",
     "output_type": "stream",
     "text": [
      " 90%|████████▉ | 459/512 [00:52<00:04, 10.99it/s]"
     ]
    },
    {
     "name": "stdout",
     "output_type": "stream",
     "text": [
      "No silence remove applied: File 'Cyclochilaaustralasiae_GBIF1949995530_IN18893186_28098_edit1.wav' is too short (1.7842857142857143sec)\n",
      "Cyclochilaaustralasiae_GBIF1949995530_IN18893186_28098_edit1.wav Sample size (1.7842857142857143) and fuzzy begining splitting\n",
      "Ruspolianitidula_XC757310-B20h09m31s22oct2022_edit2.wav Sample size (21.979455782312925) and fuzzy begining splitting\n",
      "Gampsocleisglabra_XC751678-dat008-023_edit1.wav Long sample (129.98056689342403) and normal splitting\n",
      "Tettigoniacantans_XC751949-dat035-008_edit2.wav Long sample (98.8044671201814) and normal splitting\n"
     ]
    },
    {
     "name": "stderr",
     "output_type": "stream",
     "text": [
      " 90%|█████████ | 461/512 [00:53<00:06,  7.99it/s]"
     ]
    },
    {
     "name": "stdout",
     "output_type": "stream",
     "text": [
      "Chorthippusbiguttulus_XC751878-dat149-003_edit2.wav Sample size (9.888412698412699) and fuzzy begining splitting\n",
      "Tettigoniaviridissima_XC751562-dat029-005.wav Long sample (57.84848072562358) and normal splitting\n"
     ]
    },
    {
     "name": "stderr",
     "output_type": "stream",
     "text": [
      " 91%|█████████ | 465/512 [00:53<00:04,  9.79it/s]"
     ]
    },
    {
     "name": "stdout",
     "output_type": "stream",
     "text": [
      "Pseudochorthippusparallelus_XC751574-dat027-012.wav Sample size (26.027278911564625) and fuzzy begining splitting\n",
      "No silence remove applied: File 'Yoyettacelis_GBIF1986575683_IN19408673_28970.wav' is too short (2.9257142857142857sec)\n",
      "Yoyettacelis_GBIF1986575683_IN19408673_28970.wav Sample size (2.9257142857142857) and fuzzy begining splitting\n",
      "Nemobiussylvestris_Take16.wav Long sample (33.00126984126984) and normal splitting\n"
     ]
    },
    {
     "name": "stderr",
     "output_type": "stream",
     "text": [
      " 91%|█████████▏| 468/512 [00:53<00:03, 12.78it/s]"
     ]
    },
    {
     "name": "stdout",
     "output_type": "stream",
     "text": [
      "No silence remove applied: File 'Yoyettacelis_GBIF1986566439_IN19386071_28977.wav' is too short (1.8692063492063493sec)\n",
      "Yoyettacelis_GBIF1986566439_IN19386071_28977.wav Sample size (1.8692063492063493) and fuzzy begining splitting\n",
      "Grylluscampestris_GBIF3764531264_IN113216317_407521.wav Sample size (13.688956916099773) and fuzzy begining splittingPlatypleurasp13_MHV%201016%20P.sp13%20nr%20Hankey_edit1.wav Long sample (33.768526077097505) and normal splitting\n",
      "\n"
     ]
    },
    {
     "name": "stderr",
     "output_type": "stream",
     "text": [
      " 92%|█████████▏| 470/512 [00:53<00:03, 13.54it/s]"
     ]
    },
    {
     "name": "stdout",
     "output_type": "stream",
     "text": [
      "No silence remove applied: File 'Myrmeleotettixmaculatus_XC752579-dat010-019_edit2.wav' is too short (9.0sec)\n",
      "Myrmeleotettixmaculatus_XC752579-dat010-019_edit2.wav Sample size (9.0) and fuzzy begining splitting\n",
      "Tettigoniaviridissima_GBIF3337956203_IN91550412_292889.wav Sample size (24.36156462585034) and fuzzy begining splitting\n",
      "Gampsocleisglabra_XC751679-dat008-024_edit1.wav Long sample (79.97895691609978) and normal splitting\n",
      "No silence remove applied: File 'Tettigoniaviridissima_GBIF3892352543_IN130153184_517495.wav' is too short (5.638684807256236sec)\n",
      "Tettigoniaviridissima_GBIF3892352543_IN130153184_517495.wav Sample size (5.638684807256236) and fuzzy begining splitting\n"
     ]
    },
    {
     "name": "stderr",
     "output_type": "stream",
     "text": [
      " 92%|█████████▏| 472/512 [00:54<00:03, 10.77it/s]"
     ]
    },
    {
     "name": "stdout",
     "output_type": "stream",
     "text": [
      "No silence remove applied: File 'Barbitistesyersini_XC752462-dat047-010_edit2.wav' is too short (4.0sec)\n",
      "Barbitistesyersini_XC752462-dat047-010_edit2.wav Sample size (4.0) and fuzzy begining splitting\n"
     ]
    },
    {
     "name": "stderr",
     "output_type": "stream",
     "text": [
      " 93%|█████████▎| 474/512 [00:54<00:04,  8.96it/s]"
     ]
    },
    {
     "name": "stdout",
     "output_type": "stream",
     "text": [
      "No silence remove applied: File 'Grylluscampestris_GBIF2860137389_IN43187743_74371.wav' is too short (3.332063492063492sec)\n",
      "Grylluscampestris_GBIF2860137389_IN43187743_74371.wav Sample size (3.332063492063492) and fuzzy begining splitting\n",
      "Stenobothruslineatus_XC751530-dat003-035.wav Sample size (16.524897959183672) and fuzzy begining splitting\n"
     ]
    },
    {
     "name": "stderr",
     "output_type": "stream",
     "text": [
      " 93%|█████████▎| 476/512 [00:54<00:04,  8.99it/s]"
     ]
    },
    {
     "name": "stdout",
     "output_type": "stream",
     "text": [
      "Chorthippusbiguttulus_XC751875-dat150-006_edit4.wav Sample size (19.016643990929705) and fuzzy begining splitting\n",
      "No silence remove applied: File 'Barbitistesyersini_XC752466-dat047-008_edit2.wav' is too short (2.0sec)\n",
      "Barbitistesyersini_XC752466-dat047-008_edit2.wav Sample size (2.0) and fuzzy begining splitting\n",
      "Chorthippusbiguttulus_XC751875-dat150-006_edit5.wav Sample size (16.801496598639456) and fuzzy begining splitting\n"
     ]
    },
    {
     "name": "stderr",
     "output_type": "stream",
     "text": [
      " 94%|█████████▎| 479/512 [00:55<00:03,  8.46it/s]"
     ]
    },
    {
     "name": "stdout",
     "output_type": "stream",
     "text": [
      "Conocephalusdorsalis_XC751653-dat034-005_edit2.wav Sample size (18.625260770975057) and fuzzy begining splitting\n",
      "Roeselianaroeselii_XC751676-dat018-013_edit6.wav Long sample (32.707755102040814) and normal splitting\n"
     ]
    },
    {
     "name": "stderr",
     "output_type": "stream",
     "text": [
      " 94%|█████████▍| 481/512 [00:55<00:03,  9.13it/s]"
     ]
    },
    {
     "name": "stdout",
     "output_type": "stream",
     "text": [
      "No silence remove applied: File 'Barbitistesyersini_XC752462-dat047-010_edit3.wav' is too short (2.0sec)\n",
      "Barbitistesyersini_XC752462-dat047-010_edit3.wav Sample size (2.0) and fuzzy begining splitting\n"
     ]
    },
    {
     "name": "stderr",
     "output_type": "stream",
     "text": [
      " 94%|█████████▍| 482/512 [00:55<00:03,  9.00it/s]"
     ]
    },
    {
     "name": "stdout",
     "output_type": "stream",
     "text": [
      "No silence remove applied: File 'Myrmeleotettixmaculatus_XC752579-dat010-019_edit3.wav' is too short (9.0sec)\n",
      "Myrmeleotettixmaculatus_XC752579-dat010-019_edit3.wav Sample size (9.0) and fuzzy begining splitting\n"
     ]
    },
    {
     "name": "stderr",
     "output_type": "stream",
     "text": [
      " 95%|█████████▍| 484/512 [00:55<00:03,  8.48it/s]"
     ]
    },
    {
     "name": "stdout",
     "output_type": "stream",
     "text": [
      "Pseudochorthippusparallelus_XC752310-dat004-015.wav Long sample (59.55562358276644) and normal splitting\n",
      "No silence remove applied: File 'Stenobothrusstigmaticus_XC752024-dat005-020_edit1.wav' is too short (2.0sec)No silence remove applied: File 'Chorthippusbrunneus_XC751384-dat005-049_edit5.wav' is too short (2.0sec)"
     ]
    },
    {
     "name": "stderr",
     "output_type": "stream",
     "text": [
      " 95%|█████████▌| 487/512 [00:55<00:02, 11.73it/s]"
     ]
    },
    {
     "name": "stdout",
     "output_type": "stream",
     "text": [
      "\n",
      "\n",
      "Chorthippusbrunneus_XC751384-dat005-049_edit5.wav Sample size (2.0) and fuzzy begining splittingStenobothrusstigmaticus_XC752024-dat005-020_edit1.wav Sample size (2.0) and fuzzy begining splitting\n",
      "\n",
      "Chorthippusbiguttulus_XC752392-dat037-004_edit1.wav Long sample (55.46528344671202) and normal splitting\n",
      "Chorthippusbiguttulus_XC751878-dat149-003_edit1.wav Sample size (10.74984126984127) and fuzzy begining splitting\n"
     ]
    },
    {
     "name": "stderr",
     "output_type": "stream",
     "text": [
      " 96%|█████████▌| 489/512 [00:56<00:02, 10.50it/s]"
     ]
    },
    {
     "name": "stdout",
     "output_type": "stream",
     "text": [
      "No silence remove applied: File 'Yoyettacelis_GBIF2868124826_IN60048097_137049.wav' is too short (5.2sec)\n",
      "Yoyettacelis_GBIF2868124826_IN60048097_137049.wav Sample size (5.2) and fuzzy begining splitting\n"
     ]
    },
    {
     "name": "stderr",
     "output_type": "stream",
     "text": [
      " 96%|█████████▌| 491/512 [00:56<00:02, 10.02it/s]"
     ]
    },
    {
     "name": "stdout",
     "output_type": "stream",
     "text": [
      "Myrmeleotettixmaculatus_XC752579-dat010-019_edit1.wav Sample size (8.795646258503401) and fuzzy begining splitting\n",
      "Conocephalusdorsalis_XC751492-dat001-002.wav Long sample (89.39365079365079) and normal splitting\n",
      "No silence remove applied: File 'Barbitistesyersini_XC752462-dat047-010_edit1.wav' is too short (3.0sec)\n",
      "Barbitistesyersini_XC752462-dat047-010_edit1.wav Sample size (3.0) and fuzzy begining splitting\n",
      "Pseudochorthippusparallelus_XC751501-dat003-017.wav Long sample (35.26950113378685) and normal splitting\n"
     ]
    },
    {
     "name": "stderr",
     "output_type": "stream",
     "text": [
      " 96%|█████████▋| 493/512 [00:56<00:01,  9.66it/s]"
     ]
    },
    {
     "name": "stdout",
     "output_type": "stream",
     "text": [
      "No silence remove applied: File 'Yoyettacelis_GBIF1931520749_IN17583307_26599.wav' is too short (3.4133333333333336sec)\n",
      "Yoyettacelis_GBIF1931520749_IN17583307_26599.wav Sample size (3.4133333333333336) and fuzzy begining splitting\n",
      "No silence remove applied: File 'Yoyettacelis_GBIF1807279444_IN8961108_16508.wav' is too short (2.5193650793650795sec)\n",
      "Yoyettacelis_GBIF1807279444_IN8961108_16508.wav Sample size (2.5193650793650795) and fuzzy begining splitting\n"
     ]
    },
    {
     "name": "stderr",
     "output_type": "stream",
     "text": [
      " 97%|█████████▋| 496/512 [00:56<00:01, 11.62it/s]"
     ]
    },
    {
     "name": "stdout",
     "output_type": "stream",
     "text": [
      "No silence remove applied: File 'Barbitistesyersini_XC752466-dat047-008_edit1.wav' is too short (2.0sec)\n",
      "Barbitistesyersini_XC752466-dat047-008_edit1.wav Sample size (2.0) and fuzzy begining splitting\n",
      "Roeselianaroeselii_XC751676-dat018-013_edit4.wav Sample size (14.76154195011338) and fuzzy begining splitting\n",
      "Roeselianaroeselii_XC751676-dat018-013_edit5.wav Sample size (15.573083900226758) and fuzzy begining splitting\n",
      "Tettigoniacantans_XC754547-Isolato-O-haemorrhoidalis-da-XC754538-Mad_Acero_20180822-144031_1CH250K16.wav Long sample (178.91462585034014) and normal splitting\n"
     ]
    },
    {
     "name": "stderr",
     "output_type": "stream",
     "text": [
      " 97%|█████████▋| 498/512 [00:57<00:01,  8.86it/s]"
     ]
    },
    {
     "name": "stdout",
     "output_type": "stream",
     "text": [
      "Chorthippusbiguttulus_XC752392-dat037-004_edit2.wav Sample size (11.393401360544217) and fuzzy begining splitting\n"
     ]
    },
    {
     "name": "stderr",
     "output_type": "stream",
     "text": [
      " 98%|█████████▊| 500/512 [00:57<00:01,  9.20it/s]"
     ]
    },
    {
     "name": "stdout",
     "output_type": "stream",
     "text": [
      "No silence remove applied: File 'Chorthippusbrunneus_XC751384-dat005-049_edit6.wav' is too short (1.0sec)\n",
      "Chorthippusbrunneus_XC751384-dat005-049_edit6.wav Sample size (1.0) and fuzzy begining splitting\n"
     ]
    },
    {
     "name": "stderr",
     "output_type": "stream",
     "text": [
      " 98%|█████████▊| 502/512 [00:57<00:01,  9.99it/s]"
     ]
    },
    {
     "name": "stdout",
     "output_type": "stream",
     "text": [
      "Chorthippusbrunneus_XC751372-dat001-023.wav Long sample (30.966009070294785) and normal splitting\n"
     ]
    },
    {
     "name": "stderr",
     "output_type": "stream",
     "text": [
      " 98%|█████████▊| 504/512 [00:57<00:00, 10.63it/s]"
     ]
    },
    {
     "name": "stdout",
     "output_type": "stream",
     "text": [
      "No silence remove applied: File 'Yoyettacelis_GBIF2873801193_IN61269567_139618.wav' is too short (5.0sec)No silence remove applied: File 'Grylluscampestris_GBIF3772468767_IN115095988_423152.wav' is too short (7.883174603174603sec)\n",
      "\n",
      "Grylluscampestris_GBIF3772468767_IN115095988_423152.wav Sample size (7.883174603174603) and fuzzy begining splittingYoyettacelis_GBIF2873801193_IN61269567_139618.wav Sample size (5.0) and fuzzy begining splitting\n",
      "\n",
      "Platypleuraplumosa_MHV%201488%20P.plumosa%20Nanaga%20Rec%20%232_edit1.wav Long sample (38.68496598639456) and normal splitting\n"
     ]
    },
    {
     "name": "stderr",
     "output_type": "stream",
     "text": [
      "100%|█████████▉| 511/512 [00:58<00:00, 10.80it/s]"
     ]
    },
    {
     "name": "stdout",
     "output_type": "stream",
     "text": [
      "Decticusverrucivorus_XC751968-dat016-014_edit1.wav Long sample (187.00945578231293) and normal splitting\n"
     ]
    },
    {
     "name": "stderr",
     "output_type": "stream",
     "text": [
      "100%|██████████| 512/512 [00:58<00:00,  8.75it/s]\n"
     ]
    }
   ],
   "source": [
    "workers_val.run_main()"
   ]
  },
  {
   "cell_type": "code",
   "execution_count": 10,
   "id": "78916210-43a2-4d75-93f5-426c41f50300",
   "metadata": {
    "tags": []
   },
   "outputs": [],
   "source": [
    "resampled_val_dir = os.path.join(data_processed_base, DATA_TAG, '02_resample_validation/train/')\n",
    "resampled_val_dest_dir = os.path.join(data_processed_base, DATA_TAG, '08_spit_resampled_validation_into_windows_with_short_samples/train/long_only')\n",
    "\n",
    "workers_val = BuzzOriginalSplitDatasetParallel(\n",
    "    resampled_val_dir, \n",
    "    resampled_val_dest_dir, \n",
    "    train_dataset=True,\n",
    "    MODEL_SR=32000,    \n",
    "    dp_class_args={\n",
    "        'long_only':True,        \n",
    "    },\n",
    "    metadata_csv=os.path.join(resampled_val_dir, 'metadata.csv'), \n",
    "    debug=True\n",
    ")"
   ]
  },
  {
   "cell_type": "code",
   "execution_count": 11,
   "id": "b1ded431-16f4-40a8-b3c5-17cc00030859",
   "metadata": {
    "tags": []
   },
   "outputs": [
    {
     "name": "stdout",
     "output_type": "stream",
     "text": [
      "Generating new train/val files in '/root/data/gdsc_data/data_processed/data_8c86715/08_spit_resampled_validation_into_windows_with_short_samples/train/long_only' with splitted data...\n"
     ]
    },
    {
     "name": "stderr",
     "output_type": "stream",
     "text": [
      "  0%|          | 0/512 [00:00<?, ?it/s]"
     ]
    },
    {
     "name": "stdout",
     "output_type": "stream",
     "text": [
      "No silence remove applied: File 'Chorthippusbrunneus_XC751398-dat022-008_edit5.wav' is too short (5.0sec)\n",
      "Chorthippusbrunneus_XC751398-dat022-008_edit5.wav skipped as too short\n",
      "No silence remove applied: File 'Conocephalusfuscus_XC752526-dat060-004_edit3.wav' is too short (2.0sec)\n",
      "Conocephalusfuscus_XC752526-dat060-004_edit3.wav skipped as too shortNo silence remove applied: File 'Stenobothrusstigmaticus_XC752022-dat005-018_edit1.wav' is too short (2.0sec)No silence remove applied: File 'Yoyettacelis_GBIF2445097871_IN34622939_48749.wav' is too short (4.2sec)\n",
      "\n",
      "\n",
      "Stenobothrusstigmaticus_XC752022-dat005-018_edit1.wav skipped as too short"
     ]
    },
    {
     "name": "stderr",
     "output_type": "stream",
     "text": [
      "  0%|          | 2/512 [00:00<00:28, 17.82it/s]"
     ]
    },
    {
     "name": "stdout",
     "output_type": "stream",
     "text": [
      "\n",
      "No silence remove applied: File 'Stenobothrusstigmaticus_XC751549-dat014-004_edit4.wav' is too short (2.0sec)Yoyettacelis_GBIF2445097871_IN34622939_48749.wav skipped as too short\n",
      "No silence remove applied: File 'Yoyettacelis_GBIF2423092241_IN32808821_47052_edit1.wav' is too short (4.0sec)\n",
      "Stenobothrusstigmaticus_XC751549-dat014-004_edit4.wav skipped as too shortYoyettacelis_GBIF2423092241_IN32808821_47052_edit1.wav skipped as too short\n",
      "\n",
      "\n",
      "No silence remove applied: File 'Pseudochorthippusparallelus_XC751867-dat097-021_edit2.wav' is too short (3.0sec)Atrapsaltacorticina_GBIF2901504947_IN62966536_143690.wav skipped as too short\n",
      "\n",
      "Cyclochilaaustralasiae_GBIF1978841250_IN19182596_28530.wav skipped as too shortPseudochorthippusparallelus_XC751867-dat097-021_edit2.wav skipped as too short\n",
      "\n",
      "No silence remove applied: File 'Eupholidopteraschmidti_XC752428-dat056-006_edit4.wav' is too short (7.0sec)No silence remove applied: File 'Eupholidopteraschmidti_XC752428-dat056-006_edit5.wav' is too short (8.0sec)\n",
      "\n",
      "Eupholidopteraschmidti_XC752428-dat056-006_edit5.wav skipped as too shortEupholidopteraschmidti_XC752428-dat056-006_edit4.wav skipped as too short\n",
      "\n"
     ]
    },
    {
     "name": "stderr",
     "output_type": "stream",
     "text": [
      "  2%|▏         | 10/512 [00:00<00:09, 50.31it/s]"
     ]
    },
    {
     "name": "stdout",
     "output_type": "stream",
     "text": [
      "No silence remove applied: File 'Nemobiussylvestris_XC752029-dat004-032_edit1.wav' is too short (5.0sec)Omocestusviridulus_XC752263-dat012-007_edit1.wav skipped as too short\n",
      "\n",
      "Nemobiussylvestris_XC752029-dat004-032_edit1.wav skipped as too short\n",
      "Leptophyespunctatissima_XC751808-dat024-004_edit5.wav skipped as too short\n",
      "Omocestusviridulus_XC752265-dat013-001_edit4.wav skipped as too short\n",
      "Omocestusviridulus_XC752267-dat013-003_edit2.wav skipped as too short\n"
     ]
    },
    {
     "name": "stderr",
     "output_type": "stream",
     "text": [
      "  3%|▎         | 16/512 [00:00<00:11, 43.73it/s]"
     ]
    },
    {
     "name": "stdout",
     "output_type": "stream",
     "text": [
      "No silence remove applied: File 'Yoyettacelis_GBIF2988439804_IN65459381_150417_edit1.wav' is too short (3.0sec)\n",
      "Yoyettacelis_GBIF2988439804_IN65459381_150417_edit1.wav skipped as too short\n",
      "Leptophyespunctatissima_XC751808-dat024-004_edit4.wav skipped as too short\n",
      "Tettigoniaviridissima_GBIF3858768656_IN124075390_486463.wav skipped as too shortNo silence remove applied: File 'Yoyettarepetens_GBIF2465318314_IN36334636_51697.wav' is too short (4.4sec)Eupholidopteraschmidti_XC752434-dat051-018_edit1.wav skipped as too short\n",
      "Conocephalusfuscus_XC752389-dat033-002_edit6.wav Long sample (38.93775510204082) and normal splittingNo silence remove applied: File 'Pseudochorthippusparallelus_XC751867-dat097-021_edit3.wav' is too short (4.0sec)\n",
      "Pseudochorthippusparallelus_XC751867-dat097-021_edit3.wav skipped as too short\n",
      "\n",
      "\n",
      "\n",
      "No silence remove applied: File 'Stenobothrusstigmaticus_XC751549-dat014-004_edit5.wav' is too short (2.0sec)Yoyettarepetens_GBIF2465318314_IN36334636_51697.wav skipped as too short\n",
      "\n",
      "Stenobothrusstigmaticus_XC751549-dat014-004_edit5.wav skipped as too shortNo silence remove applied: File 'Yoyettacelis_GBIF3032081309_IN67783455_157886.wav' is too short (2.3sec)No silence remove applied: File 'Omocestuspetraeus_XC752474-dat055-011_edit1.wav' is too short (6.0sec)\n",
      "\n",
      "Yoyettacelis_GBIF3032081309_IN67783455_157886.wav skipped as too short\n",
      "\n",
      "Omocestuspetraeus_XC752474-dat055-011_edit1.wav skipped as too short\n"
     ]
    },
    {
     "name": "stderr",
     "output_type": "stream",
     "text": [
      "  4%|▍         | 23/512 [00:00<00:09, 50.53it/s]"
     ]
    },
    {
     "name": "stdout",
     "output_type": "stream",
     "text": [
      "No silence remove applied: File 'Pholidopteraaptera_XC751362-dat145-002_edit1.wav' is too short (4.0sec)No silence remove applied: File 'Stenobothrusstigmaticus_XC751998-dat004-043_edit2.wav' is too short (3.0sec)\n",
      "\n",
      "Stenobothrusstigmaticus_XC751998-dat004-043_edit2.wav skipped as too shortPholidopteraaptera_XC751362-dat145-002_edit1.wav skipped as too short\n",
      "\n",
      "No silence remove applied: File 'Conocephalusfuscus_XC752526-dat060-004_edit2.wav' is too short (2.0sec)No silence remove applied: File 'Chorthippusbiguttulus_CHOBIG_20190906_163909.M.wav' is too short (7.11249433106576sec)\n",
      "\n",
      "Conocephalusfuscus_XC752526-dat060-004_edit2.wav skipped as too shortChorthippusbiguttulus_CHOBIG_20190906_163909.M.wav skipped as too short\n",
      "\n",
      "Omocestusviridulus_XC752265-dat013-001_edit5.wav Long sample (37.69739229024943) and normal splitting\n",
      "Stauroderusscalaris_XC751601-dat061-004_edit2.wav Long sample (47.00954648526077) and normal splitting\n",
      "Chorthippusbrunneus_XC751398-dat022-008_edit4.wav skipped as too short\n"
     ]
    },
    {
     "name": "stderr",
     "output_type": "stream",
     "text": [
      "  6%|▌         | 30/512 [00:00<00:11, 42.58it/s]"
     ]
    },
    {
     "name": "stdout",
     "output_type": "stream",
     "text": [
      "Stauroderusscalaris_XC751601-dat061-004_edit3.wav Long sample (38.357573696145124) and normal splitting\n",
      "Chorthippusbrunneus_XC751398-dat022-008_edit6.wav skipped as too short\n",
      "Gomphocerippusrufus_XC752283-dat001-043.wav Long sample (84.83968253968254) and normal splitting\n",
      "Omocestusviridulus_XC752263-dat012-007_edit2.wav skipped as too short\n",
      "Omocestusviridulus_XC752267-dat013-003_edit1.wav Long sample (30.71185941043084) and normal splitting\n",
      "No silence remove applied: File 'Galangalabeculata_GBIF3039145192_IN68943466_161806.wav' is too short (9.0sec)\n",
      "Galangalabeculata_GBIF3039145192_IN68943466_161806.wav skipped as too short\n"
     ]
    },
    {
     "name": "stderr",
     "output_type": "stream",
     "text": [
      "  7%|▋         | 35/512 [00:00<00:16, 29.46it/s]"
     ]
    },
    {
     "name": "stdout",
     "output_type": "stream",
     "text": [
      "No silence remove applied: File 'Pholidopteraaptera_XC751362-dat145-002_edit3.wav' is too short (5.0sec)\n",
      "Pholidopteraaptera_XC751362-dat145-002_edit3.wav skipped as too short\n",
      "No silence remove applied: File 'Stenobothrusstigmaticus_XC752022-dat005-018_edit2.wav' is too short (2.0sec)\n",
      "Stenobothrusstigmaticus_XC752022-dat005-018_edit2.wav skipped as too short\n",
      "No silence remove applied: File 'Omocestuspetraeus_XC752474-dat055-011_edit3.wav' is too short (6.0sec)\n",
      "Omocestuspetraeus_XC752474-dat055-011_edit3.wav skipped as too short\n",
      "No silence remove applied: File 'Pseudochorthippusparallelus_XC751867-dat097-021_edit1.wav' is too short (4.0sec)Eumodicogryllusbordigalensis_XC751535-dat003-001.wav Long sample (30.902766439909296) and normal splittingNo silence remove applied: File 'Yoyettarepetens_GBIF2005327021_IN20313139_31169.wav' is too short (7.883174603174603sec)\n",
      "\n",
      "Pseudochorthippusparallelus_XC751867-dat097-021_edit1.wav skipped as too short\n",
      "\n",
      "Yoyettarepetens_GBIF2005327021_IN20313139_31169.wav skipped as too short\n",
      "Conocephalusfuscus_XC752389-dat033-002_edit5.wav skipped as too short\n"
     ]
    },
    {
     "name": "stderr",
     "output_type": "stream",
     "text": [
      "  8%|▊         | 43/512 [00:01<00:13, 35.03it/s]"
     ]
    },
    {
     "name": "stdout",
     "output_type": "stream",
     "text": [
      "Melanogryllusdesertus_XC752505-dat046-004_edit5.wav skipped as too short\n",
      "Ephippigerdiurnus_GBIF3407978671_IN99693046_322577.wav skipped as too short\n",
      "Stauroderusscalaris_XC751601-dat061-004_edit1.wav skipped as too shortNo silence remove applied: File 'Yoyettarepetens_GBIF2901801690_IN62746056_143178.wav' is too short (6.3sec)\n",
      "\n",
      "Yoyettarepetens_GBIF2901801690_IN62746056_143178.wav skipped as too short\n"
     ]
    },
    {
     "name": "stderr",
     "output_type": "stream",
     "text": [
      "  9%|▉         | 48/512 [00:01<00:12, 37.54it/s]"
     ]
    },
    {
     "name": "stdout",
     "output_type": "stream",
     "text": [
      "Popplepsaltanotialis_GBIF2460035378_IN35755574_50504_edit1.wav skipped as too shortNo silence remove applied: File 'Galangalabeculata_GBIF2460089829_IN35873786_50716.wav' is too short (6.989206349206349sec)\n",
      "\n",
      "Galangalabeculata_GBIF2460089829_IN35873786_50716.wav skipped as too short\n",
      "Aleetacurvicosta_GBIF3039381926_IN68785661_161247.wav skipped as too short\n",
      "No silence remove applied: File 'Omocestuspetraeus_XC752474-dat055-011_edit2.wav' is too short (2.0sec)Eupholidopteraschmidti_XC752434-dat051-018_edit2.wav skipped as too short\n",
      "\n"
     ]
    },
    {
     "name": "stderr",
     "output_type": "stream",
     "text": [
      " 10%|█         | 53/512 [00:01<00:12, 35.89it/s]"
     ]
    },
    {
     "name": "stdout",
     "output_type": "stream",
     "text": [
      "No silence remove applied: File 'Melanogryllusdesertus_XC752505-dat046-004_edit4.wav' is too short (8.0sec)\n",
      "Omocestuspetraeus_XC752474-dat055-011_edit2.wav skipped as too short\n",
      "Melanogryllusdesertus_XC752505-dat046-004_edit4.wav skipped as too short\n",
      "No silence remove applied: File 'Omocestusviridulus_GBIF3398760919_IN97064133_312550.wav' is too short (7.68sec)\n",
      "Omocestusviridulus_GBIF3398760919_IN97064133_312550.wav skipped as too short\n",
      "No silence remove applied: File 'Pholidopteraaptera_XC751362-dat145-002_edit2.wav' is too short (5.0sec)\n",
      "Pholidopteraaptera_XC751362-dat145-002_edit2.wav skipped as too short\n"
     ]
    },
    {
     "name": "stderr",
     "output_type": "stream",
     "text": [
      " 11%|█▏        | 58/512 [00:01<00:12, 37.83it/s]"
     ]
    },
    {
     "name": "stdout",
     "output_type": "stream",
     "text": [
      "No silence remove applied: File 'Stenobothrusstigmaticus_XC751998-dat004-043_edit1.wav' is too short (4.0sec)\n",
      "Stenobothrusstigmaticus_XC751998-dat004-043_edit1.wav skipped as too short\n",
      "Conocephalusfuscus_XC752389-dat033-002_edit4.wav skipped as too shortNo silence remove applied: File 'Conocephalusfuscus_XC752526-dat060-004_edit1.wav' is too short (2.0sec)\n",
      "Omocestusviridulus_XC752265-dat013-001_edit6.wav Long sample (37.20671201814059) and normal splitting\n",
      "Conocephalusfuscus_XC752526-dat060-004_edit1.wav skipped as too shortOmocestusviridulus_XC752265-dat013-001_edit7.wav Long sample (46.963038548752834) and normal splitting\n",
      "\n",
      "\n",
      "Conocephalusdorsalis_XC751644-dat031-004.wav Long sample (43.01249433106576) and normal splitting\n",
      "Roeselianaroeselii_XC751813-dat028-016.wav Long sample (148.17721088435374) and normal splitting\n",
      "Chorthippusbrunneus_XC751398-dat022-008_edit7.wav skipped as too short\n",
      "Clinopsaltaautumna_GBIF1931513990_IN17550208_26580.wav skipped as too short\n"
     ]
    },
    {
     "name": "stderr",
     "output_type": "stream",
     "text": [
      " 12%|█▏        | 63/512 [00:01<00:13, 32.56it/s]"
     ]
    },
    {
     "name": "stdout",
     "output_type": "stream",
     "text": [
      "Omocestusviridulus_XC752263-dat012-007_edit3.wav skipped as too shortNo silence remove applied: File 'Conocephalusfuscus_XC752526-dat060-004_edit5.wav' is too short (4.0sec)\n",
      "\n",
      "Conocephalusfuscus_XC752526-dat060-004_edit5.wav skipped as too short\n",
      "Chorthippusbrunneus_XC751398-dat022-008_edit3.wav skipped as too short\n"
     ]
    },
    {
     "name": "stderr",
     "output_type": "stream",
     "text": [
      " 13%|█▎        | 67/512 [00:01<00:13, 32.63it/s]"
     ]
    },
    {
     "name": "stdout",
     "output_type": "stream",
     "text": [
      "Roeselianaroeselii_XC752373-dat006-016.wav Long sample (52.86773242630385) and normal splitting\n",
      "Omocestusviridulus_XC752263-dat012-007_edit7.wav skipped as too short\n",
      "No silence remove applied: File 'Grylluscampestris_GBIF3302309077_IN80855396_239145_edit1.wav' is too short (4.865011337868481sec)\n",
      "No silence remove applied: File 'Gomphocerippusrufus_XC752290-dat004-004_edit1.wav' is too short (5.0sec)\n",
      "Grylluscampestris_GBIF3302309077_IN80855396_239145_edit1.wav skipped as too short\n",
      "Gomphocerippusrufus_XC752290-dat004-004_edit1.wav skipped as too short\n",
      "No silence remove applied: File 'Pholidopteraaptera_XC751362-dat145-002_edit6.wav' is too short (4.879863945578231sec)\n",
      "Pholidopteraaptera_XC751362-dat145-002_edit6.wav skipped as too short\n",
      "No silence remove applied: File 'Stenobothrusstigmaticus_XC751549-dat014-004_edit2.wav' is too short (3.0sec)\n",
      "Stenobothrusstigmaticus_XC751549-dat014-004_edit2.wav skipped as too short\n"
     ]
    },
    {
     "name": "stderr",
     "output_type": "stream",
     "text": [
      " 14%|█▍        | 74/512 [00:01<00:11, 39.14it/s]"
     ]
    },
    {
     "name": "stdout",
     "output_type": "stream",
     "text": [
      "Platypleuracfcatenata_MHV%20318%20P.capensis%20Prince%20Alberts%20Pass%20%231_edit1.wav skipped as too short\n",
      "No silence remove applied: File 'Yoyettacelis_GBIF1931535624_IN17640386_26643_edit1.wav' is too short (6.0sec)\n",
      "Yoyettacelis_GBIF1931535624_IN17640386_26643_edit1.wav skipped as too short\n",
      "Oecanthuspellucens_GBIF3337504016_IN90318768_288800.wav skipped as too short\n",
      "Nemobiussylvestris_Take23.wav skipped as too short\n",
      "Leptophyespunctatissima_XC751808-dat024-004_edit3.wav skipped as too short\n"
     ]
    },
    {
     "name": "stderr",
     "output_type": "stream",
     "text": [
      " 15%|█▌        | 79/512 [00:02<00:10, 40.37it/s]"
     ]
    },
    {
     "name": "stdout",
     "output_type": "stream",
     "text": [
      "Conocephalusdorsalis_XC751643-dat031-003.wav skipped as too short\n",
      "Eupholidopteraschmidti_XC752428-dat056-006_edit3.wav skipped as too short\n",
      "Omocestusviridulus_XC752265-dat013-001_edit3.wav skipped as too short\n",
      "Omocestusviridulus_XC752265-dat013-001_edit2.wav skipped as too short\n"
     ]
    },
    {
     "name": "stderr",
     "output_type": "stream",
     "text": [
      " 16%|█▋        | 84/512 [00:02<00:14, 30.22it/s]"
     ]
    },
    {
     "name": "stdout",
     "output_type": "stream",
     "text": [
      "Myrmeleotettixmaculatus_XC752581-dat015-007_edit1.wav skipped as too short\n",
      "Metriopterabrachyptera_XC752072-dat017-010.wav Long sample (73.76820861678004) and normal splitting\n",
      "Eupholidopteraschmidti_XC752428-dat056-006_edit2.wav skipped as too short\n",
      "No silence remove applied: File 'Stenobothrusstigmaticus_XC751549-dat014-004_edit3.wav' is too short (4.0sec)\n",
      "Stenobothrusstigmaticus_XC751549-dat014-004_edit3.wav skipped as too short\n",
      "No silence remove applied: File 'Chorthippusbrunneus_GBIF3384023749_IN95761463_308346_edit2.wav' is too short (2.0sec)\n",
      "Chorthippusbrunneus_GBIF3384023749_IN95761463_308346_edit2.wav skipped as too short\n"
     ]
    },
    {
     "name": "stderr",
     "output_type": "stream",
     "text": [
      " 17%|█▋        | 88/512 [00:02<00:20, 20.90it/s]"
     ]
    },
    {
     "name": "stdout",
     "output_type": "stream",
     "text": [
      "No silence remove applied: File 'Conocephalusfuscus_XC752389-dat033-002_edit1.wav' is too short (4.0sec)Leptophyespunctatissima_XC751808-dat024-004_edit2.wav Long sample (48.9269387755102) and normal splitting\n",
      "\n",
      "Conocephalusfuscus_XC752389-dat033-002_edit1.wav skipped as too short\n",
      "No silence remove applied: File 'Melanogryllusdesertus_XC752505-dat046-004_edit1.wav' is too short (5.0sec)\n",
      "Melanogryllusdesertus_XC752505-dat046-004_edit1.wav skipped as too short\n",
      "Omocestusrufipes_XC751622-dat004-018.wav skipped as too short\n",
      "No silence remove applied: File 'Yoyettacelis_GBIF1945453870_IN18507858_27506.wav' is too short (2.0317460317460316sec)\n",
      "Yoyettacelis_GBIF1945453870_IN18507858_27506.wav skipped as too short\n",
      "Eumodicogryllusbordigalensis_XC753095-Eumodicogryllus-bordigalensis-SanBenedetto_13_06_07_ottima_2CH44K16.wav Long sample (58.79163265306122) and normal splitting"
     ]
    },
    {
     "name": "stderr",
     "output_type": "stream",
     "text": [
      " 18%|█▊        | 93/512 [00:02<00:16, 24.94it/s]"
     ]
    },
    {
     "name": "stdout",
     "output_type": "stream",
     "text": [
      "\n",
      "Stauroderusscalaris_XC751601-dat061-004_edit5.wav Long sample (74.69365079365079) and normal splitting\n",
      "Galangalabeculata_GBIF2992733801_IN65799316_151444.wav skipped as too short\n",
      "No silence remove applied: File 'Aleetacurvicosta_GBIF1990618565_IN19955380_30728.wav' is too short (9.914920634920636sec)\n",
      "Aleetacurvicosta_GBIF1990618565_IN19955380_30728.wav skipped as too short\n",
      "No silence remove applied: File 'Conocephalusfuscus_XC752526-dat060-004_edit4.wav' is too short (4.0sec)\n",
      "Conocephalusfuscus_XC752526-dat060-004_edit4.wav skipped as too shortOmocestusviridulus_XC752263-dat012-007_edit6.wav skipped as too short\n",
      "\n"
     ]
    },
    {
     "name": "stderr",
     "output_type": "stream",
     "text": [
      " 19%|█▉        | 97/512 [00:03<00:16, 24.48it/s]"
     ]
    },
    {
     "name": "stdout",
     "output_type": "stream",
     "text": [
      "Galangalabeculata_GBIF2012957393_IN20821043_31880.wav skipped as too short\n",
      "Yoyettarepetens_GBIF1837098806_IN8126709_15608.wav skipped as too shortNo silence remove applied: File 'Yoyettacelis_GBIF2963808959_IN63609432_145249.wav' is too short (7.6sec)Gomphocerussibiricus_XC751884-dat056-010_edit1.wav Long sample (75.78158730158731) and normal splitting\n",
      "Yoyettacelis_GBIF2963808959_IN63609432_145249.wav skipped as too short\n",
      "\n"
     ]
    },
    {
     "name": "stderr",
     "output_type": "stream",
     "text": [
      " 20%|█▉        | 100/512 [00:03<00:16, 25.26it/s]"
     ]
    },
    {
     "name": "stdout",
     "output_type": "stream",
     "text": [
      "\n",
      "Chorthippusbrunneus_XC751398-dat022-008_edit2.wav skipped as too short\n"
     ]
    },
    {
     "name": "stderr",
     "output_type": "stream",
     "text": [
      " 20%|██        | 103/512 [00:03<00:16, 24.95it/s]"
     ]
    },
    {
     "name": "stdout",
     "output_type": "stream",
     "text": [
      "Chorthippusbiguttulus_Take45.M.wav skipped as too short\n",
      "Chorthippusbiguttulus_XC752338-dat004-023.wav skipped as too short\n"
     ]
    },
    {
     "name": "stderr",
     "output_type": "stream",
     "text": [
      " 21%|██        | 106/512 [00:03<00:17, 23.07it/s]"
     ]
    },
    {
     "name": "stdout",
     "output_type": "stream",
     "text": [
      "Omocestusviridulus_XC752263-dat012-007_edit4.wav skipped as too short\n",
      "No silence remove applied: File 'Gomphocerippusrufus_XC752290-dat004-004_edit2.wav' is too short (7.0sec)\n",
      "Gomphocerippusrufus_XC752290-dat004-004_edit2.wav skipped as too short\n"
     ]
    },
    {
     "name": "stderr",
     "output_type": "stream",
     "text": [
      " 21%|██▏       | 109/512 [00:03<00:18, 22.19it/s]"
     ]
    },
    {
     "name": "stdout",
     "output_type": "stream",
     "text": [
      "No silence remove applied: File 'Melanogryllusdesertus_XC752505-dat046-004_edit3.wav' is too short (5.0sec)No silence remove applied: File 'Conocephalusfuscus_XC752389-dat033-002_edit3.wav' is too short (5.0sec)\n",
      "Conocephalusfuscus_XC752389-dat033-002_edit3.wav skipped as too short\n",
      "\n",
      "Melanogryllusdesertus_XC752505-dat046-004_edit3.wav skipped as too shortNo silence remove applied: File 'Cicadaorni_GBIF2814462406_IN52063823_117141.wav' is too short (9.58984126984127sec)\n",
      "\n",
      "Cicadaorni_GBIF2814462406_IN52063823_117141.wav skipped as too short\n",
      "No silence remove applied: File 'Omocestuspetraeus_XC752474-dat055-011_edit5.wav' is too short (8.0sec)\n",
      "Omocestuspetraeus_XC752474-dat055-011_edit5.wav skipped as too short\n"
     ]
    },
    {
     "name": "stderr",
     "output_type": "stream",
     "text": [
      " 22%|██▏       | 113/512 [00:03<00:16, 23.64it/s]"
     ]
    },
    {
     "name": "stdout",
     "output_type": "stream",
     "text": [
      "No silence remove applied: File 'Barbitistesyersini_XC752462-dat047-010_edit8.wav' is too short (3.0sec)\n",
      "Barbitistesyersini_XC752462-dat047-010_edit8.wav skipped as too short\n",
      "Diceroproctaeugraphica_GBIF2826422692_IN53642618_122566.wav skipped as too short\n",
      "Nemobiussylvestris_XC752031-dat004-034.wav Long sample (78.70476190476191) and normal splitting"
     ]
    },
    {
     "name": "stderr",
     "output_type": "stream",
     "text": [
      " 23%|██▎       | 116/512 [00:03<00:18, 21.46it/s]"
     ]
    },
    {
     "name": "stdout",
     "output_type": "stream",
     "text": [
      "\n",
      "Phaneropteranana_XC751922-dat066-012.wav Long sample (139.54814058956916) and normal splitting\n",
      "Platypleuraplumosa_MHV%201488%20P.plumosa%20Nanaga%20Rec%20%231_edit1.wav Long sample (59.655578231292516) and normal splitting\n",
      "Grylluscampestris_XC751595-dat167-003.wav Long sample (120.0020634920635) and normal splitting\n",
      "Atrapsaltacollina_GBIF1932315283_IN17664083_26706.wav skipped as too short\n"
     ]
    },
    {
     "name": "stderr",
     "output_type": "stream",
     "text": [
      " 23%|██▎       | 119/512 [00:04<00:52,  7.49it/s]"
     ]
    },
    {
     "name": "stdout",
     "output_type": "stream",
     "text": [
      "Oecanthuspellucens_XC752109-dat174-004.wav Long sample (121.83081632653061) and normal splitting\n",
      "Myrmeleotettixmaculatus_XC752581-dat015-007_edit3.wav Long sample (97.64002267573696) and normal splitting\n",
      "Omocestusviridulus_XC752265-dat013-001_edit1.wav Long sample (39.773378684807255) and normal splitting\n",
      "Tettigoniaviridissima_XC752694-170705_Tettigonia-viridissima.wav Long sample (192.16312925170067) and normal splitting\n",
      "No silence remove applied: File 'Eupholidopteraschmidti_XC752428-dat056-006_edit1.wav' is too short (7.0sec)\n",
      "Eupholidopteraschmidti_XC752428-dat056-006_edit1.wav skipped as too short\n"
     ]
    },
    {
     "name": "stderr",
     "output_type": "stream",
     "text": [
      " 24%|██▎       | 121/512 [00:05<00:55,  7.07it/s]"
     ]
    },
    {
     "name": "stdout",
     "output_type": "stream",
     "text": [
      "Yoyettacelis_GBIF2883203573_IN61907196_141064_edit1.wav skipped as too short\n"
     ]
    },
    {
     "name": "stderr",
     "output_type": "stream",
     "text": [
      " 24%|██▍       | 123/512 [00:05<00:53,  7.24it/s]"
     ]
    },
    {
     "name": "stdout",
     "output_type": "stream",
     "text": [
      "Myrmeleotettixmaculatus_XC752581-dat015-007_edit2.wav Long sample (52.788979591836735) and normal splitting\n",
      "Leptophyespunctatissima_XC751808-dat024-004_edit1.wav skipped as too short\n",
      "No silence remove applied: File 'Omocestuspetraeus_XC752474-dat055-011_edit4.wav' is too short (6.0sec)\n",
      "Omocestuspetraeus_XC752474-dat055-011_edit4.wav skipped as too short\n"
     ]
    },
    {
     "name": "stderr",
     "output_type": "stream",
     "text": [
      " 25%|██▍       | 126/512 [00:05<00:40,  9.53it/s]"
     ]
    },
    {
     "name": "stdout",
     "output_type": "stream",
     "text": [
      "No silence remove applied: File 'Stenobothrusstigmaticus_XC752007-dat005-003.wav' is too short (4.673854875283447sec)\n",
      "Stenobothrusstigmaticus_XC752007-dat005-003.wav skipped as too short\n",
      "No silence remove applied: File 'Conocephalusfuscus_XC752389-dat033-002_edit2.wav' is too short (3.0sec)\n",
      "Conocephalusfuscus_XC752389-dat033-002_edit2.wav skipped as too short\n",
      "No silence remove applied: File 'Chorthippusbrunneus_GBIF3384023749_IN95761463_308346_edit1.wav' is too short (3.0sec)\n",
      "Chorthippusbrunneus_GBIF3384023749_IN95761463_308346_edit1.wav skipped as too short\n",
      "No silence remove applied: File 'Pholidopteraaptera_XC751362-dat145-002_edit4.wav' is too short (4.0sec)\n",
      "Pholidopteraaptera_XC751362-dat145-002_edit4.wav skipped as too short\n",
      "No silence remove applied: File 'Melanogryllusdesertus_XC752505-dat046-004_edit2.wav' is too short (8.0sec)\n",
      "Melanogryllusdesertus_XC752505-dat046-004_edit2.wav skipped as too short\n"
     ]
    },
    {
     "name": "stderr",
     "output_type": "stream",
     "text": [
      " 26%|██▌       | 131/512 [00:05<00:26, 14.55it/s]"
     ]
    },
    {
     "name": "stdout",
     "output_type": "stream",
     "text": [
      "No silence remove applied: File 'Gomphocerippusrufus_XC752290-dat004-004_edit3.wav' is too short (6.0sec)\n",
      "Gomphocerippusrufus_XC752290-dat004-004_edit3.wav skipped as too short\n",
      "No silence remove applied: File 'Platypleuracfcatenata_MHV%20318%20P.capensis%20Prince%20Alberts%20Pass%20%231_edit3.wav' is too short (3.7219501133786848sec)\n",
      "Platypleuracfcatenata_MHV%20318%20P.capensis%20Prince%20Alberts%20Pass%20%231_edit3.wav skipped as too short\n",
      "No silence remove applied: File 'Atrapsaltaencaustica_GBIF3385010567_IN94514864_304493_edit1.wav' is too short (5.0sec)\n",
      "Leptophyespunctatissima_XC751810-dat024-006.wav Long sample (210.76755102040818) and normal splitting\n",
      "Atrapsaltaencaustica_GBIF3385010567_IN94514864_304493_edit1.wav skipped as too short\n"
     ]
    },
    {
     "name": "stderr",
     "output_type": "stream",
     "text": [
      " 27%|██▋       | 137/512 [00:06<00:21, 17.79it/s]"
     ]
    },
    {
     "name": "stdout",
     "output_type": "stream",
     "text": [
      "Omocestusviridulus_XC752263-dat012-007_edit5.wav skipped as too short\n",
      "Chorthippusbrunneus_XC751398-dat022-008_edit1.wav skipped as too short\n",
      "Gomphocerussibiricus_XC751884-dat056-010_edit2.wav Long sample (79.837052154195) and normal splitting\n",
      "Chorthippusmollis_XC751826-dat001-035.wav skipped as too short\n"
     ]
    },
    {
     "name": "stderr",
     "output_type": "stream",
     "text": [
      " 27%|██▋       | 140/512 [00:06<00:23, 15.98it/s]"
     ]
    },
    {
     "name": "stdout",
     "output_type": "stream",
     "text": [
      "No silence remove applied: File 'Leptophyespunctatissima_XC752570-dat141-007_edit6.wav' is too short (1.0sec)\n",
      "Leptophyespunctatissima_XC752570-dat141-007_edit6.wav skipped as too short\n",
      "Platypleurasp12cfhirtipennis_MHV%20606%20P.sp12%2020km%20S%20Ladismith_edit1.wav Long sample (45.74600907029478) and normal splitting\n",
      "Yoyettarepetens_GBIF1978855326_IN19219004_28600.wav skipped as too short\n",
      "Grylluscampestris_XC751426-dat010-005.wav Long sample (295.1533333333333) and normal splitting\n",
      "No silence remove applied: File 'Omocestuspetraeus_XC752476-dat058-002_edit9.wav' is too short (8.0sec)\n",
      "Omocestuspetraeus_XC752476-dat058-002_edit9.wav skipped as too short\n",
      "Pseudochorthippusmontanus_XC752609-dat018-014_edit1.wav skipped as too short\n"
     ]
    },
    {
     "name": "stderr",
     "output_type": "stream",
     "text": [
      " 28%|██▊       | 144/512 [00:06<00:21, 17.16it/s]"
     ]
    },
    {
     "name": "stdout",
     "output_type": "stream",
     "text": [
      "Omocestusrufipes_XC752516-dat021-003_edit5.wav skipped as too short\n",
      "No silence remove applied: File 'Pholidopteralittoralis_XC752453-dat054-011_edit2.wav' is too short (3.0sec)\n",
      "Pholidopteralittoralis_XC752453-dat054-011_edit2.wav skipped as too short\n",
      "Chrysochraondispar_XC751693-dat030-007_edit2.wav skipped as too short\n"
     ]
    },
    {
     "name": "stderr",
     "output_type": "stream",
     "text": [
      " 29%|██▊       | 147/512 [00:06<00:20, 17.93it/s]"
     ]
    },
    {
     "name": "stdout",
     "output_type": "stream",
     "text": [
      "No silence remove applied: File 'Myrmeleotettixmaculatus_XC752577-dat010-017_edit7.wav' is too short (7.0sec)\n",
      "Myrmeleotettixmaculatus_XC752577-dat010-017_edit7.wav skipped as too short\n"
     ]
    },
    {
     "name": "stderr",
     "output_type": "stream",
     "text": [
      " 29%|██▉       | 150/512 [00:06<00:18, 19.97it/s]"
     ]
    },
    {
     "name": "stdout",
     "output_type": "stream",
     "text": [
      "No silence remove applied: File 'Pseudochorthippusmontanus_XC752606-dat012-004_edit8.wav' is too short (5.0sec)\n",
      "Pseudochorthippusmontanus_XC752606-dat012-004_edit8.wav skipped as too short\n",
      "Achetadomesticus_XC752077-dat227-001_edit1.wav Long sample (69.9812925170068) and normal splitting\n",
      "Yoyettacelis_GBIF2456564212_IN35594673_50236.wav skipped as too short\n"
     ]
    },
    {
     "name": "stderr",
     "output_type": "stream",
     "text": [
      " 30%|██▉       | 153/512 [00:06<00:19, 18.34it/s]"
     ]
    },
    {
     "name": "stdout",
     "output_type": "stream",
     "text": [
      "Stauroderusscalaris_XC751888-dat056-019.wav skipped as too short\n",
      "Chorthippusvagans_XC751932-dat225-002_edit2.wav skipped as too short\n",
      "No silence remove applied: File 'Chorthippusbrunneus_XC751370-dat001-021_edit2.wav' is too short (9.0sec)\n",
      "Chorthippusbrunneus_XC751370-dat001-021_edit2.wav skipped as too short\n"
     ]
    },
    {
     "name": "stderr",
     "output_type": "stream",
     "text": [
      " 30%|███       | 156/512 [00:07<00:17, 20.00it/s]"
     ]
    },
    {
     "name": "stdout",
     "output_type": "stream",
     "text": [
      "No silence remove applied: File 'Chrysochraondispar_XC751759-dat005-083_edit2.wav' is too short (3.0sec)\n",
      "Chrysochraondispar_XC751759-dat005-083_edit2.wav skipped as too short\n",
      "Ephippigerdiurnus_XC753865-Ephippiher-des-vignes-221004_0308.wav skipped as too short\n",
      "Tettigoniacantans_XC751954-dat039-008_edit1.wav skipped as too short\n"
     ]
    },
    {
     "name": "stderr",
     "output_type": "stream",
     "text": [
      " 31%|███       | 159/512 [00:07<00:16, 21.31it/s]"
     ]
    },
    {
     "name": "stdout",
     "output_type": "stream",
     "text": [
      "Tettigoniacantans_XC751952-dat039-006_edit6.wav skipped as too short\n",
      "No silence remove applied: File 'Atrapsaltacorticina_GBIF1805372378_IN8264277_15754_edit1.wav' is too short (8.0sec)\n",
      "Atrapsaltacorticina_GBIF1805372378_IN8264277_15754_edit1.wav skipped as too short\n",
      "No silence remove applied: File 'Yoyettacelis_GBIF2901586174_IN63138759_144234.wav' is too short (4.6sec)\n",
      "Yoyettacelis_GBIF2901586174_IN63138759_144234.wav skipped as too short\n"
     ]
    },
    {
     "name": "stderr",
     "output_type": "stream",
     "text": [
      " 32%|███▏      | 162/512 [00:07<00:17, 19.59it/s]"
     ]
    },
    {
     "name": "stdout",
     "output_type": "stream",
     "text": [
      "Omocestusrufipes_XC752517-dat021-004_edit1.wav skipped as too short\n"
     ]
    },
    {
     "name": "stderr",
     "output_type": "stream",
     "text": [
      " 32%|███▏      | 165/512 [00:07<00:17, 20.17it/s]"
     ]
    },
    {
     "name": "stdout",
     "output_type": "stream",
     "text": [
      "Chorthippusapricarius_XC751571-dat027-009.wav Long sample (214.34675736961452) and normal splittingNo silence remove applied: File 'Galangalabeculata_GBIF1948751055_IN18749048_27934.wav' is too short (7.801904761904762sec)\n",
      "\n",
      "Galangalabeculata_GBIF1948751055_IN18749048_27934.wav skipped as too short\n",
      "Tettigoniacantans_XC751952-dat039-006_edit7.wav skipped as too short\n",
      "Achetadomesticus_XC751734-dat001-055_edit4.wav Long sample (51.79362811791383) and normal splitting\n",
      "Conocephalusfuscus_XC752385-dat034-026.wav Long sample (147.18224489795918) and normal splitting\n",
      "Platypleuracfcatenata_MHV%20835%20P.catenata%20Swartberg%20Pass_edit1.wav Long sample (51.821995464852606) and normal splitting\n",
      "Gampsocleisglabra_XC751416-dat026-029.wav Long sample (62.29140589569161) and normal splitting\n"
     ]
    },
    {
     "name": "stderr",
     "output_type": "stream",
     "text": [
      " 33%|███▎      | 168/512 [00:08<00:35,  9.62it/s]"
     ]
    },
    {
     "name": "stdout",
     "output_type": "stream",
     "text": [
      "No silence remove applied: File 'Chrysochraondispar_XC751759-dat005-083_edit3.wav' is too short (2.0sec)\n",
      "Chrysochraondispar_XC751759-dat005-083_edit3.wav skipped as too short\n",
      "Gryllusbimaculatus_XC751729-dat007-025.wav Long sample (91.74249433106576) and normal splitting\n"
     ]
    },
    {
     "name": "stderr",
     "output_type": "stream",
     "text": [
      " 33%|███▎      | 170/512 [00:08<00:34,  9.82it/s]"
     ]
    },
    {
     "name": "stdout",
     "output_type": "stream",
     "text": [
      "Pholidopteraaptera_XC751835-dat147-002.wav Long sample (69.95734693877552) and normal splitting\n",
      "No silence remove applied: File 'Bicoloranabicolor_XC751421-dat061-003_edit8.wav' is too short (3.0sec)\n",
      "Bicoloranabicolor_XC751421-dat061-003_edit8.wav skipped as too short\n"
     ]
    },
    {
     "name": "stderr",
     "output_type": "stream",
     "text": [
      " 34%|███▎      | 172/512 [00:08<00:31, 10.79it/s]"
     ]
    },
    {
     "name": "stdout",
     "output_type": "stream",
     "text": [
      "No silence remove applied: File 'Chorthippusvagans_XC751932-dat225-002_edit3.wav' is too short (5.0sec)\n",
      "Chorthippusvagans_XC751932-dat225-002_edit3.wav skipped as too short\n",
      "Chorthippusbiguttulus_XC752335-dat004-008.wav skipped as too short\n"
     ]
    },
    {
     "name": "stderr",
     "output_type": "stream",
     "text": [
      " 34%|███▍      | 175/512 [00:08<00:24, 13.50it/s]"
     ]
    },
    {
     "name": "stdout",
     "output_type": "stream",
     "text": [
      "Chorthippusbrunneus_XC751385-dat005-051.wav Long sample (42.8034693877551) and normal splitting\n",
      "Decticusverrucivorus_XC751909-dat098-011_edit1.wav skipped as too short\n",
      "No silence remove applied: File 'Myrmeleotettixmaculatus_XC752577-dat010-017_edit6.wav' is too short (4.0sec)\n",
      "Myrmeleotettixmaculatus_XC752577-dat010-017_edit6.wav skipped as too short\n"
     ]
    },
    {
     "name": "stderr",
     "output_type": "stream",
     "text": [
      " 35%|███▍      | 177/512 [00:08<00:27, 12.08it/s]"
     ]
    },
    {
     "name": "stdout",
     "output_type": "stream",
     "text": [
      "No silence remove applied: File 'Omocestusrufipes_XC752516-dat021-003_edit4.wav' is too short (5.0sec)No silence remove applied: File 'Pholidopteralittoralis_XC752453-dat054-011_edit3.wav' is too short (3.0sec)\n",
      "\n",
      "Pholidopteralittoralis_XC752453-dat054-011_edit3.wav skipped as too shortOmocestusrufipes_XC752516-dat021-003_edit4.wav skipped as too short\n",
      "\n"
     ]
    },
    {
     "name": "stderr",
     "output_type": "stream",
     "text": [
      " 35%|███▌      | 180/512 [00:08<00:22, 14.80it/s]"
     ]
    },
    {
     "name": "stdout",
     "output_type": "stream",
     "text": [
      "No silence remove applied: File 'Omocestuspetraeus_XC752476-dat058-002_edit8.wav' is too short (6.0sec)\n",
      "No silence remove applied: File 'Leptophyespunctatissima_XC752570-dat141-007_edit7.wav' is too short (1.0sec)Omocestuspetraeus_XC752476-dat058-002_edit8.wav skipped as too short\n",
      "\n",
      "Leptophyespunctatissima_XC752570-dat141-007_edit7.wav skipped as too short\n",
      "Platypleuracfcatenata_MHV%20283%20P.catenata%20Sir%20Lowry%27s%20Pass%20%232_edit1.wav Long sample (68.1933560090703) and normal splitting\n",
      "Psaltodaplaga_GBIF3032030423_IN68432216_159840.wav skipped as too short\n",
      "No silence remove applied: File 'Leptophyespunctatissima_XC752570-dat141-007_edit5.wav' is too short (1.0sec)\n",
      "Leptophyespunctatissima_XC752570-dat141-007_edit5.wav skipped as too short\n"
     ]
    },
    {
     "name": "stderr",
     "output_type": "stream",
     "text": [
      " 36%|███▋      | 186/512 [00:09<00:14, 23.09it/s]"
     ]
    },
    {
     "name": "stdout",
     "output_type": "stream",
     "text": [
      "No silence remove applied: File 'Pholidopteralittoralis_XC752453-dat054-011_edit1.wav' is too short (3.0sec)\n",
      "Pholidopteralittoralis_XC752453-dat054-011_edit1.wav skipped as too shortPseudochorthippusmontanus_XC752609-dat018-014_edit2.wav skipped as too short\n",
      "\n",
      "No silence remove applied: File 'Omocestuspetraeus_XC752476-dat058-002_edit10.wav' is too short (4.0sec)\n",
      "Omocestuspetraeus_XC752476-dat058-002_edit10.wav skipped as too short\n",
      "Neotibicenpruinosus_GBIF3859141853_IN93084014_299415.wav skipped as too short\n",
      "No silence remove applied: File 'Pseudochorthippusparallelus_CHOPAR_20190626_194920.M.wav' is too short (2.7564172335600907sec)\n",
      "Pseudochorthippusparallelus_CHOPAR_20190626_194920.M.wav skipped as too short\n"
     ]
    },
    {
     "name": "stderr",
     "output_type": "stream",
     "text": [
      " 38%|███▊      | 192/512 [00:09<00:10, 30.38it/s]"
     ]
    },
    {
     "name": "stdout",
     "output_type": "stream",
     "text": [
      "No silence remove applied: File 'Myrmeleotettixmaculatus_XC752577-dat010-017_edit4.wav' is too short (7.0sec)Roeselianaroeselii_XC751673-dat015-010_edit2.wav skipped as too short\n",
      "\n",
      "Myrmeleotettixmaculatus_XC752577-dat010-017_edit4.wav skipped as too shortNo silence remove applied: File 'Pholidopteragriseoaptera_PHOGRI_20190914_155550.M.wav' is too short (5.703333333333333sec)\n",
      "\n",
      "Pholidopteragriseoaptera_PHOGRI_20190914_155550.M.wav skipped as too short\n",
      "Conocephalusfuscus_XC752379-dat027-019.wav Long sample (38.693061224489796) and normal splitting\n",
      "Chrysochraondispar_XC751693-dat030-007_edit1.wav skipped as too short\n"
     ]
    },
    {
     "name": "stderr",
     "output_type": "stream",
     "text": [
      " 38%|███▊      | 196/512 [00:09<00:09, 32.35it/s]"
     ]
    },
    {
     "name": "stdout",
     "output_type": "stream",
     "text": [
      "Roeselianaroeselii_XC752364-dat006-006.wav skipped as too short\n",
      "No silence remove applied: File 'Chorthippusbrunneus_XC751370-dat001-021_edit1.wav' is too short (5.0sec)\n",
      "Chorthippusbrunneus_XC751370-dat001-021_edit1.wav skipped as too short\n",
      "Gomphocerippusrufus_XC752305-dat007-004.wav skipped as too short\n",
      "No silence remove applied: File 'Chrysochraondispar_XC751759-dat005-083_edit1.wav' is too short (2.0sec)\n",
      "Chrysochraondispar_XC751759-dat005-083_edit1.wav skipped as too short\n",
      "Chorthippusvagans_XC751932-dat225-002_edit1.wav skipped as too short\n"
     ]
    },
    {
     "name": "stderr",
     "output_type": "stream",
     "text": [
      " 39%|███▉      | 201/512 [00:09<00:09, 34.28it/s]"
     ]
    },
    {
     "name": "stdout",
     "output_type": "stream",
     "text": [
      "Tettigoniacantans_XC751954-dat039-008_edit2.wav skipped as too short\n",
      "Omocestusrufipes_XC752517-dat021-004_edit2.wav skipped as too short\n",
      "Chrysochraondispar_XC751693-dat030-007_edit3.wav Long sample (66.78691609977324) and normal splitting\n",
      "Tettigoniacantans_XC751952-dat039-006_edit5.wav skipped as too short\n"
     ]
    },
    {
     "name": "stderr",
     "output_type": "stream",
     "text": [
      " 40%|████      | 206/512 [00:09<00:08, 36.13it/s]"
     ]
    },
    {
     "name": "stdout",
     "output_type": "stream",
     "text": [
      "Omocestusrufipes_XC751629-dat016-001_edit4.wav skipped as too short\n",
      "No silence remove applied: File 'Myrmeleotettixmaculatus_XC752577-dat010-017_edit5.wav' is too short (4.0sec)\n",
      "Myrmeleotettixmaculatus_XC752577-dat010-017_edit5.wav skipped as too short\n",
      "Tettigoniacantans_XC751952-dat039-006_edit4.wav skipped as too shortNo silence remove applied: File 'Leptophyespunctatissima_XC752570-dat141-007_edit4.wav' is too short (1.0sec)\n",
      "\n",
      "Leptophyespunctatissima_XC752570-dat141-007_edit4.wav skipped as too short\n",
      "No silence remove applied: File 'Tylopsislilifolia_XC751853-dat065-003_edit8.wav' is too short (3.0sec)Gryllusbimaculatus_GBIF3384375694_IN95557245_307723.wav skipped as too short\n",
      "\n",
      "Tylopsislilifolia_XC751853-dat065-003_edit8.wav skipped as too short"
     ]
    },
    {
     "name": "stderr",
     "output_type": "stream",
     "text": [
      " 41%|████▏     | 212/512 [00:09<00:07, 42.04it/s]"
     ]
    },
    {
     "name": "stdout",
     "output_type": "stream",
     "text": [
      "\n",
      "Pseudochorthippusmontanus_XC752609-dat018-014_edit3.wav skipped as too short\n",
      "No silence remove applied: File 'Pholidopteralittoralis_XC752453-dat054-011_edit4.wav' is too short (2.0sec)\n",
      "Pholidopteralittoralis_XC752453-dat054-011_edit4.wav skipped as too short\n",
      "Chorthippusmollis_XC751764-dat005-068.wav skipped as too short\n"
     ]
    },
    {
     "name": "stderr",
     "output_type": "stream",
     "text": [
      " 42%|████▏     | 217/512 [00:09<00:10, 27.11it/s]"
     ]
    },
    {
     "name": "stdout",
     "output_type": "stream",
     "text": [
      "Stenobothruslineatus_XC752395-dat025-006.wav Long sample (101.79145124716554) and normal splitting\n",
      "Grylluscampestris_XC751579-dat008-008.wav Long sample (43.53240362811791) and normal splitting\n",
      "Phaneropterafalcata_XC751642-dat032-001_edit3.wav Long sample (40.312448979591835) and normal splitting\n",
      "Omocestusrufipes_XC752516-dat021-003_edit3.wav skipped as too short\n",
      "No silence remove applied: File 'Myrmeleotettixmaculatus_XC752577-dat010-017_edit1.wav' is too short (5.0sec)\n",
      "Myrmeleotettixmaculatus_XC752577-dat010-017_edit1.wav skipped as too short\n",
      "Platypleurasp10_MHV%20313%20P.sp10%20Die%20Koo%20%233_edit1.wav Long sample (72.40172335600907) and normal splitting\n"
     ]
    },
    {
     "name": "stderr",
     "output_type": "stream",
     "text": [
      " 43%|████▎     | 221/512 [00:10<00:17, 16.88it/s]"
     ]
    },
    {
     "name": "stdout",
     "output_type": "stream",
     "text": [
      "No silence remove applied: File 'Oecanthuspellucens_GBIF3384706124_IN94969477_305827.wav' is too short (7.558095238095238sec)\n",
      "Oecanthuspellucens_GBIF3384706124_IN94969477_305827.wav skipped as too short\n",
      "Achetadomesticus_XC751736-dat001-057.wav Long sample (51.75147392290249) and normal splittingChorthippusvagans_XC751932-dat225-002_edit4.wav skipped as too short\n",
      "\n",
      "No silence remove applied: File 'Yoyettacelis_GBIF1978841161_IN19182166_28522.wav' is too short (2.4380952380952383sec)\n",
      "Yoyettacelis_GBIF1978841161_IN19182166_28522.wav skipped as too short\n"
     ]
    },
    {
     "name": "stderr",
     "output_type": "stream",
     "text": [
      " 44%|████▍     | 224/512 [00:10<00:15, 18.51it/s]"
     ]
    },
    {
     "name": "stdout",
     "output_type": "stream",
     "text": [
      "Tettigoniacantans_XC751933-dat040-001_edit2.wav Long sample (108.4650566893424) and normal splitting\n",
      "Omocestusrufipes_XC751629-dat016-001_edit1.wav skipped as too short\n",
      "Stenobothrusstigmaticus_XC752617-dat001-008_edit2.wav skipped as too short\n"
     ]
    },
    {
     "name": "stderr",
     "output_type": "stream",
     "text": [
      " 44%|████▍     | 227/512 [00:10<00:16, 16.89it/s]"
     ]
    },
    {
     "name": "stdout",
     "output_type": "stream",
     "text": [
      "No silence remove applied: File 'Stenobothrusstigmaticus_XC752617-dat001-008_edit3.wav' is too short (2.0sec)\n",
      "Stenobothrusstigmaticus_XC752617-dat001-008_edit3.wav skipped as too shortTettigoniacantans_XC751952-dat039-006_edit1.wav skipped as too short\n",
      "\n",
      "No silence remove applied: File 'Pholidopteralittoralis_XC752437-dat048-001.wav' is too short (4.260997732426304sec)\n",
      "No silence remove applied: File 'Roeselianaroeselii_XC752369-dat006-012_edit1.wav' is too short (7.0sec)\n",
      "Roeselianaroeselii_XC752369-dat006-012_edit1.wav skipped as too short\n"
     ]
    },
    {
     "name": "stderr",
     "output_type": "stream",
     "text": [
      " 45%|████▌     | 231/512 [00:10<00:13, 20.50it/s]"
     ]
    },
    {
     "name": "stdout",
     "output_type": "stream",
     "text": [
      "Achetadomesticus_XC751734-dat001-055_edit2.wav skipped as too shortPholidopteralittoralis_XC752437-dat048-001.wav skipped as too short\n",
      "\n",
      "No silence remove applied: File 'Chrysochraondispar_XC751759-dat005-083_edit5.wav' is too short (3.0sec)\n",
      "Chrysochraondispar_XC751759-dat005-083_edit5.wav skipped as too short\n",
      "Phaneropteranana_XC751913-dat066-004_edit1.wav skipped as too short\n"
     ]
    },
    {
     "name": "stderr",
     "output_type": "stream",
     "text": [
      " 46%|████▌     | 236/512 [00:11<00:11, 23.58it/s]"
     ]
    },
    {
     "name": "stdout",
     "output_type": "stream",
     "text": [
      "Chorthippusbiguttulus_XC752533-dat185-003_edit2.wav skipped as too short\n",
      "Chorthippusvagans_XC751932-dat225-002_edit5.wav skipped as too short\n",
      "Chorthippusapricarius_XC752588-dat004-007_edit1.wav skipped as too short\n"
     ]
    },
    {
     "name": "stderr",
     "output_type": "stream",
     "text": [
      " 47%|████▋     | 239/512 [00:11<00:11, 23.81it/s]"
     ]
    },
    {
     "name": "stdout",
     "output_type": "stream",
     "text": [
      "Conocephalusfuscus_XC752380-dat027-021_edit2.wav Long sample (66.00083900226757) and normal splitting\n",
      "Achetadomesticus_XC751734-dat001-055_edit3.wav Long sample (35.389977324263036) and normal splitting\n",
      "No silence remove applied: File 'Tettigoniacantans_XC751939-dat031-009_edit1.wav' is too short (8.0sec)\n",
      "Tettigoniacantans_XC751939-dat031-009_edit1.wav skipped as too short\n",
      "No silence remove applied: File 'Grylluscampestris_GBIF3772468767_IN115095988_423155_edit2.wav' is too short (3.0sec)\n",
      "Grylluscampestris_GBIF3772468767_IN115095988_423155_edit2.wav skipped as too short\n"
     ]
    },
    {
     "name": "stderr",
     "output_type": "stream",
     "text": [
      " 47%|████▋     | 242/512 [00:11<00:15, 17.44it/s]"
     ]
    },
    {
     "name": "stdout",
     "output_type": "stream",
     "text": [
      "No silence remove applied: File 'Yoyettarepetens_GBIF1978820758_IN19037335_28299.wav' is too short (3.900952380952381sec)\n",
      "Yoyettarepetens_GBIF1978820758_IN19037335_28299.wav skipped as too short\n"
     ]
    },
    {
     "name": "stderr",
     "output_type": "stream",
     "text": [
      " 48%|████▊     | 245/512 [00:11<00:16, 16.57it/s]"
     ]
    },
    {
     "name": "stdout",
     "output_type": "stream",
     "text": [
      "Grylluscampestris_XC751589-dat008-018_edit1.wav Long sample (38.705396825396825) and normal splitting\n",
      "Chorthippusbiguttulus_XC752070-dat179-002_edit2.wav skipped as too short\n",
      "No silence remove applied: File 'Leptophyespunctatissima_XC752570-dat141-007_edit1.wav' is too short (1.0sec)\n",
      "Leptophyespunctatissima_XC752570-dat141-007_edit1.wav skipped as too short\n"
     ]
    },
    {
     "name": "stderr",
     "output_type": "stream",
     "text": [
      " 48%|████▊     | 248/512 [00:11<00:19, 13.79it/s]"
     ]
    },
    {
     "name": "stdout",
     "output_type": "stream",
     "text": [
      "Oecanthuspellucens_XC753104-Oecanthus-pellucens-Sben_31_08_09_vicinissimo_2CH44K16.wav Long sample (138.3598185941043) and normal splitting\n",
      "Gomphocerippusrufus_XC752287-dat001-047.wav Long sample (175.79743764172335) and normal splitting\n",
      "Metriopterabrachyptera_XC751652-dat034-002_edit2.wav Long sample (98.2285260770975) and normal splitting\n",
      "Phaneropterafalcata_XC751642-dat032-001_edit2.wav Long sample (40.60950113378685) and normal splitting\n",
      "Bicoloranabicolor_XC751445-dat044-009.wav Long sample (98.42925170068027) and normal splitting\n",
      "Pseudochorthippusmontanus_XC752609-dat018-014_edit4.wav skipped as too short\n"
     ]
    },
    {
     "name": "stderr",
     "output_type": "stream",
     "text": [
      " 49%|████▉     | 250/512 [00:12<00:39,  6.56it/s]"
     ]
    },
    {
     "name": "stdout",
     "output_type": "stream",
     "text": [
      "No silence remove applied: File 'Leptophyespunctatissima_XC752570-dat141-007_edit3.wav' is too short (1.0sec)\n",
      "Leptophyespunctatissima_XC752570-dat141-007_edit3.wav skipped as too short\n",
      "No silence remove applied: File 'Tettigoniacantans_XC751933-dat040-001_edit1.wav' is too short (5.0sec)\n",
      "Tettigoniacantans_XC751933-dat040-001_edit1.wav skipped as too short\n",
      "No silence remove applied: File 'Yoyettacelis_GBIF3384557627_IN97411051_314635.wav' is too short (3.3sec)\n",
      "Yoyettacelis_GBIF3384557627_IN97411051_314635.wav skipped as too short\n",
      "Phaneropteranana_XC751921-dat066-011.wav Long sample (221.76367346938775) and normal splitting\n"
     ]
    },
    {
     "name": "stderr",
     "output_type": "stream",
     "text": [
      " 50%|████▉     | 254/512 [00:13<00:28,  9.21it/s]"
     ]
    },
    {
     "name": "stdout",
     "output_type": "stream",
     "text": [
      "No silence remove applied: File 'Myrmeleotettixmaculatus_XC752577-dat010-017_edit2.wav' is too short (5.0sec)\n",
      "Myrmeleotettixmaculatus_XC752577-dat010-017_edit2.wav skipped as too short\n",
      "No silence remove applied: File 'Yoyettacelis_GBIF2445073465_IN34762283_49037.wav' is too short (6.1sec)\n",
      "Yoyettacelis_GBIF2445073465_IN34762283_49037.wav skipped as too short\n",
      "Tettigoniacantans_XC751939-dat031-009_edit3.wav skipped as too short\n"
     ]
    },
    {
     "name": "stderr",
     "output_type": "stream",
     "text": [
      " 50%|█████     | 258/512 [00:13<00:22, 11.24it/s]"
     ]
    },
    {
     "name": "stdout",
     "output_type": "stream",
     "text": [
      "Chorthippusvagans_XC751932-dat225-002_edit7.wav skipped as too shortPlatypleurasp10_MHV%20891%20P.sp10%20Piekenierskloop%20Pass_edit1.wav Long sample (39.060861678004535) and normal splitting\n",
      "\n",
      "Omocestusrufipes_XC751629-dat016-001_edit2.wav skipped as too short\n"
     ]
    },
    {
     "name": "stderr",
     "output_type": "stream",
     "text": [
      " 51%|█████     | 261/512 [00:13<00:20, 12.11it/s]"
     ]
    },
    {
     "name": "stdout",
     "output_type": "stream",
     "text": [
      "Achetadomesticus_XC751734-dat001-055_edit1.wav skipped as too shortDecticusverrucivorus_XC751970-dat018-003_edit1.wav Long sample (198.8195918367347) and normal splitting\n",
      "\n"
     ]
    },
    {
     "name": "stderr",
     "output_type": "stream",
     "text": [
      " 52%|█████▏    | 264/512 [00:13<00:17, 14.44it/s]"
     ]
    },
    {
     "name": "stdout",
     "output_type": "stream",
     "text": [
      "Tettigoniacantans_XC751952-dat039-006_edit3.wav skipped as too short\n",
      "No silence remove applied: File 'Galangalabeculata_GBIF1986610924_IN19505536_29002_edit1.wav' is too short (4.0sec)\n",
      "Galangalabeculata_GBIF1986610924_IN19505536_29002_edit1.wav skipped as too short\n",
      "Stenobothrusstigmaticus_XC752617-dat001-008_edit1.wav skipped as too short\n",
      "No silence remove applied: File 'Clinopsaltaautumna_GBIF1805372206_IN8163074_15723_edit1.wav' is too short (6.0sec)\n",
      "Clinopsaltaautumna_GBIF1805372206_IN8163074_15723_edit1.wav skipped as too short\n",
      "Conocephalusfuscus_XC752380-dat027-021_edit1.wav skipped as too shortPlatycleisalbopunctata_XC751528-dat003-042.wav skipped as too short\n"
     ]
    },
    {
     "name": "stderr",
     "output_type": "stream",
     "text": [
      " 53%|█████▎    | 269/512 [00:13<00:12, 19.70it/s]"
     ]
    },
    {
     "name": "stdout",
     "output_type": "stream",
     "text": [
      "\n",
      "Tettigoniacantans_XC751952-dat039-006_edit2.wav skipped as too short\n",
      "Gampsocleisglabra_GBIF3712726350_IN55298950_127327.wav skipped as too short\n",
      "No silence remove applied: File 'Chrysochraondispar_XC751759-dat005-083_edit6.wav' is too short (3.0sec)\n",
      "Chrysochraondispar_XC751759-dat005-083_edit6.wav skipped as too short\n",
      "Omocestusrufipes_XC751629-dat016-001_edit3.wav skipped as too shortChorthippusvagans_XC751932-dat225-002_edit6.wav skipped as too short\n",
      "\n"
     ]
    },
    {
     "name": "stderr",
     "output_type": "stream",
     "text": [
      " 54%|█████▎    | 274/512 [00:13<00:10, 22.72it/s]"
     ]
    },
    {
     "name": "stdout",
     "output_type": "stream",
     "text": [
      "Neotibicenpruinosus_GBIF3743241412_IN100627076_327183.wav skipped as too short\n",
      "No silence remove applied: File 'Yoyettacelis_GBIF1805373434_IN8756612_17174.wav' is too short (4.551111111111111sec)Chorthippusbiguttulus_XC752533-dat185-003_edit1.wav skipped as too shortChorthippusapricarius_XC752588-dat004-007_edit2.wav skipped as too short\n",
      "\n",
      "Yoyettacelis_GBIF1805373434_IN8756612_17174.wav skipped as too short\n",
      "\n"
     ]
    },
    {
     "name": "stderr",
     "output_type": "stream",
     "text": [
      " 54%|█████▍    | 278/512 [00:13<00:09, 25.63it/s]"
     ]
    },
    {
     "name": "stdout",
     "output_type": "stream",
     "text": [
      "No silence remove applied: File 'Grylluscampestris_GBIF3772468767_IN115095988_423155_edit1.wav' is too short (6.0sec)\n",
      "Grylluscampestris_GBIF3772468767_IN115095988_423155_edit1.wav skipped as too short\n",
      "No silence remove applied: File 'Myrmeleotettixmaculatus_XC752577-dat010-017_edit3.wav' is too short (6.0sec)\n",
      "Myrmeleotettixmaculatus_XC752577-dat010-017_edit3.wav skipped as too short\n",
      "Tettigoniacantans_XC751939-dat031-009_edit2.wav skipped as too short\n"
     ]
    },
    {
     "name": "stderr",
     "output_type": "stream",
     "text": [
      " 55%|█████▌    | 282/512 [00:14<00:09, 25.01it/s]"
     ]
    },
    {
     "name": "stdout",
     "output_type": "stream",
     "text": [
      "Chorthippusbiguttulus_XC752070-dat179-002_edit1.wav skipped as too short\n",
      "Metriopterabrachyptera_XC751652-dat034-002_edit1.wav Long sample (34.896530612244895) and normal splitting\n"
     ]
    },
    {
     "name": "stderr",
     "output_type": "stream",
     "text": [
      " 56%|█████▌    | 285/512 [00:14<00:19, 11.57it/s]"
     ]
    },
    {
     "name": "stdout",
     "output_type": "stream",
     "text": [
      "No silence remove applied: File 'Yoyettarepetens_GBIF1950028169_IN18992513_28264.wav' is too short (5.607619047619048sec)\n",
      "Yoyettarepetens_GBIF1950028169_IN18992513_28264.wav skipped as too shortOmocestusrufipes_XC752516-dat021-003_edit1.wav skipped as too short\n",
      "\n",
      "No silence remove applied: File 'Phaneropterafalcata_XC751642-dat032-001_edit1.wav' is too short (3.0sec)\n",
      "No silence remove applied: File 'Leptophyespunctatissima_XC752570-dat141-007_edit2.wav' is too short (1.5sec)\n",
      "Phaneropterafalcata_XC751642-dat032-001_edit1.wav skipped as too short\n",
      "Leptophyespunctatissima_XC752570-dat141-007_edit2.wav skipped as too short\n",
      "No silence remove applied: File 'Tylopsislilifolia_XC751853-dat065-003_edit7.wav' is too short (3.0sec)Ephippigerdiurnus_XC752331-dat026-052.wav Long sample (89.70369614512471) and normal splitting\n",
      "\n",
      "Tylopsislilifolia_XC751853-dat065-003_edit7.wav skipped as too short\n",
      "No silence remove applied: File 'Popplepsaltanotialis_GBIF2460052957_IN35874454_50718.wav' is too short (5.932698412698413sec)\n",
      "Popplepsaltanotialis_GBIF2460052957_IN35874454_50718.wav skipped as too short\n"
     ]
    },
    {
     "name": "stderr",
     "output_type": "stream",
     "text": [
      " 57%|█████▋    | 292/512 [00:14<00:12, 17.70it/s]"
     ]
    },
    {
     "name": "stdout",
     "output_type": "stream",
     "text": [
      "Chorthippusapricarius_XC752531-dat185-001_edit1.wav skipped as too short\n",
      "No silence remove applied: File 'Pholidopteragriseoaptera_XC752320-dat005-040_edit1.wav' is too short (1.0sec)\n",
      "Pholidopteragriseoaptera_XC752320-dat005-040_edit1.wav skipped as too short\n",
      "Decticusverrucivorus_XC751956-dat016-002_edit1.wav skipped as too short\n",
      "Chorthippusbrunneus_XC751545-dat011-006_edit2.wav skipped as too short\n"
     ]
    },
    {
     "name": "stderr",
     "output_type": "stream",
     "text": [
      " 58%|█████▊    | 296/512 [00:15<00:12, 17.54it/s]"
     ]
    },
    {
     "name": "stdout",
     "output_type": "stream",
     "text": [
      "Decticusverrucivorus_XC751899-dat098-006_edit1.wav Long sample (154.5681632653061) and normal splitting\n",
      "No silence remove applied: File 'Tylopsislilifolia_XC751311-dat066-015_edit3.wav' is too short (3.0sec)\n",
      "Tylopsislilifolia_XC751311-dat066-015_edit3.wav skipped as too short\n",
      "Conocephalusfuscus_XC752390-dat065-008_edit3.wav Long sample (72.58628117913833) and normal splitting\n",
      "Chorthippusmollis_XC751982-dat017-017_edit3.wav skipped as too short\n"
     ]
    },
    {
     "name": "stderr",
     "output_type": "stream",
     "text": [
      " 58%|█████▊    | 299/512 [00:15<00:18, 11.51it/s]"
     ]
    },
    {
     "name": "stdout",
     "output_type": "stream",
     "text": [
      "No silence remove applied: File 'Eumodicogryllusbordigalensis_XC751343-dat171-002_edit4.wav' is too short (2.0sec)\n",
      "Eumodicogryllusbordigalensis_XC751343-dat171-002_edit4.wav skipped as too short\n",
      "Gomphocerussibiricus_XC751819-dat178-001_edit3.wav Long sample (31.54204081632653) and normal splitting\n",
      "Ephippigerdiurnus_XC752122-dat064-019_edit1.wav Long sample (169.64639455782313) and normal splitting\n",
      "Platycleisalbopunctata_XC751611-dat028-018.wav Long sample (146.5847619047619) and normal splitting\n"
     ]
    },
    {
     "name": "stderr",
     "output_type": "stream",
     "text": [
      " 59%|█████▉    | 302/512 [00:16<00:23,  8.98it/s]"
     ]
    },
    {
     "name": "stdout",
     "output_type": "stream",
     "text": [
      "No silence remove applied: File 'Yoyettacelis_GBIF3032143406_IN68390683_159667.wav' is too short (3.7sec)\n",
      "Yoyettacelis_GBIF3032143406_IN68390683_159667.wav skipped as too short\n"
     ]
    },
    {
     "name": "stderr",
     "output_type": "stream",
     "text": [
      " 59%|█████▉    | 304/512 [00:16<00:24,  8.51it/s]"
     ]
    },
    {
     "name": "stdout",
     "output_type": "stream",
     "text": [
      "No silence remove applied: File 'Eumodicogryllusbordigalensis_XC751343-dat171-002_edit5.wav' is too short (2.0sec)\n",
      "Gomphocerussibiricus_XC751819-dat178-001_edit2.wav Long sample (34.442743764172334) and normal splitting\n",
      "Eumodicogryllusbordigalensis_XC751343-dat171-002_edit5.wav skipped as too short\n",
      "Gryllusbimaculatus_XC751728-dat007-024.wav Long sample (229.57768707482992) and normal splitting\n",
      "No silence remove applied: File 'Popplepsaltaaeroides_GBIF3031923479_IN68464057_160480.wav' is too short (8.8sec)\n",
      "Popplepsaltaaeroides_GBIF3031923479_IN68464057_160480.wav skipped as too short\n",
      "Chorthippusalbomarginatus_XC751394-dat022-011_edit1.wav skipped as too short"
     ]
    },
    {
     "name": "stderr",
     "output_type": "stream",
     "text": [
      " 60%|█████▉    | 307/512 [00:16<00:20,  9.82it/s]"
     ]
    },
    {
     "name": "stdout",
     "output_type": "stream",
     "text": [
      "\n",
      "No silence remove applied: File 'Bicoloranabicolor_XC751421-dat061-003_edit1.wav' is too short (4.0sec)\n",
      "Bicoloranabicolor_XC751421-dat061-003_edit1.wav skipped as too short\n",
      "No silence remove applied: File 'Yoyettacelis_GBIF1805373435_IN8756608_17172.wav' is too short (8.208253968253969sec)\n",
      "Yoyettacelis_GBIF1805373435_IN8756608_17172.wav skipped as too short\n",
      "No silence remove applied: File 'Tylopsislilifolia_XC751311-dat066-015_edit2.wav' is too short (2.0sec)\n",
      "Tylopsislilifolia_XC751311-dat066-015_edit2.wav skipped as too short\n"
     ]
    },
    {
     "name": "stderr",
     "output_type": "stream",
     "text": [
      " 61%|██████    | 311/512 [00:16<00:15, 12.73it/s]"
     ]
    },
    {
     "name": "stdout",
     "output_type": "stream",
     "text": [
      "Chorthippusmollis_XC751982-dat017-017_edit2.wav skipped as too short\n",
      "Chorthippusbrunneus_XC751545-dat011-006_edit3.wav skipped as too short\n"
     ]
    },
    {
     "name": "stderr",
     "output_type": "stream",
     "text": [
      " 61%|██████    | 313/512 [00:17<00:15, 12.64it/s]"
     ]
    },
    {
     "name": "stdout",
     "output_type": "stream",
     "text": [
      "No silence remove applied: File 'Tylopsislilifolia_XC751853-dat065-003_edit6.wav' is too short (3.0sec)\n",
      "Tylopsislilifolia_XC751853-dat065-003_edit6.wav skipped as too short\n",
      "No silence remove applied: File 'Tylopsislilifolia_XC751853-dat065-003_edit4.wav' is too short (3.0sec)\n",
      "Tylopsislilifolia_XC751853-dat065-003_edit4.wav skipped as too short\n",
      "No silence remove applied: File 'Omocestuspetraeus_XC752476-dat058-002_edit3.wav' is too short (5.0sec)\n",
      "Omocestuspetraeus_XC752476-dat058-002_edit3.wav skipped as too short\n"
     ]
    },
    {
     "name": "stderr",
     "output_type": "stream",
     "text": [
      " 62%|██████▏   | 317/512 [00:17<00:11, 16.27it/s]"
     ]
    },
    {
     "name": "stdout",
     "output_type": "stream",
     "text": [
      "Chorthippusapricarius_XC752531-dat185-001_edit2.wav skipped as too shortConocephalusfuscus_XC752390-dat065-008_edit2.wav Long sample (49.989433106575966) and normal splitting\n",
      "\n",
      "Chorthippusmollis_XC751763-dat005-067.wav skipped as too short\n"
     ]
    },
    {
     "name": "stderr",
     "output_type": "stream",
     "text": [
      " 62%|██████▎   | 320/512 [00:17<00:11, 16.79it/s]"
     ]
    },
    {
     "name": "stdout",
     "output_type": "stream",
     "text": [
      "No silence remove applied: File 'Pseudochorthippusmontanus_XC752606-dat012-004_edit2.wav' is too short (4.0sec)Decticusverrucivorus_XC751956-dat016-002_edit2.wav skipped as too short\n",
      "\n",
      "Pseudochorthippusmontanus_XC752606-dat012-004_edit2.wav skipped as too short\n",
      "No silence remove applied: File 'Roeselianaroeselii_Metrioptera roeselii Echt.M.wav' is too short (3.38687074829932sec)\n",
      "Omocestusviridulus_XC752276-dat009-013.wav skipped as too short\n",
      "Roeselianaroeselii_Metrioptera roeselii Echt.M.wav skipped as too short\n",
      "Pholidopteralittoralis_XC753816-Pholidoptera-littoralis-littoralis-Via_san_giovanni_Monte_Berici_29-06-2012-007_2CH44K16.wav skipped as too short\n"
     ]
    },
    {
     "name": "stderr",
     "output_type": "stream",
     "text": [
      " 63%|██████▎   | 325/512 [00:17<00:09, 19.48it/s]"
     ]
    },
    {
     "name": "stdout",
     "output_type": "stream",
     "text": [
      "No silence remove applied: File 'Bicoloranabicolor_XC751421-dat061-003_edit3.wav' is too short (3.0sec)\n",
      "Bicoloranabicolor_XC751421-dat061-003_edit3.wav skipped as too short\n",
      "Chorthippusbrunneus_XC751545-dat011-006_edit1.wav skipped as too short\n",
      "No silence remove applied: File 'Yoyettacelis_GBIF3018096743_IN67440777_156475.wav' is too short (3.9sec)\n",
      "Yoyettacelis_GBIF3018096743_IN67440777_156475.wav skipped as too short\n"
     ]
    },
    {
     "name": "stderr",
     "output_type": "stream",
     "text": [
      " 64%|██████▍   | 329/512 [00:17<00:07, 23.16it/s]"
     ]
    },
    {
     "name": "stdout",
     "output_type": "stream",
     "text": [
      "No silence remove applied: File 'Chorthippusbiguttulus_XC751529-dat003-043_edit4.wav' is too short (5.0sec)Chorthippusalbomarginatus_XC751394-dat022-011_edit3.wav skipped as too short\n",
      "\n",
      "Chorthippusbiguttulus_XC751529-dat003-043_edit4.wav skipped as too short\n",
      "Clinopsaltaautumna_GBIF1932336861_IN17755807_26743.wav skipped as too short\n"
     ]
    },
    {
     "name": "stderr",
     "output_type": "stream",
     "text": [
      " 65%|██████▍   | 332/512 [00:17<00:08, 20.64it/s]"
     ]
    },
    {
     "name": "stdout",
     "output_type": "stream",
     "text": [
      "No silence remove applied: File 'Nemobiussylvestris_NoID_20210724_144844.M.wav' is too short (5.82sec)\n",
      "Nemobiussylvestris_NoID_20210724_144844.M.wav skipped as too short\n",
      "Gomphocerussibiricus_XC751819-dat178-001_edit1.wav Long sample (36.05916099773243) and normal splitting\n",
      "No silence remove applied: File 'Chorthippusbiguttulus_XC751529-dat003-043_edit5.wav' is too short (6.0sec)\n",
      "Chorthippusbiguttulus_XC751529-dat003-043_edit5.wav skipped as too short\n"
     ]
    },
    {
     "name": "stderr",
     "output_type": "stream",
     "text": [
      " 65%|██████▌   | 335/512 [00:18<00:11, 15.96it/s]"
     ]
    },
    {
     "name": "stdout",
     "output_type": "stream",
     "text": [
      "Grylluscampestris_XC751582-dat008-011_edit1.wav skipped as too short\n",
      "No silence remove applied: File 'Bicoloranabicolor_XC751421-dat061-003_edit2.wav' is too short (4.0sec)\n",
      "Bicoloranabicolor_XC751421-dat061-003_edit2.wav skipped as too short\n",
      "Aleetacurvicosta_GBIF3044550084_IN69533545_164034.wav skipped as too short\n"
     ]
    },
    {
     "name": "stderr",
     "output_type": "stream",
     "text": [
      " 66%|██████▌   | 339/512 [00:18<00:09, 17.87it/s]"
     ]
    },
    {
     "name": "stdout",
     "output_type": "stream",
     "text": [
      "No silence remove applied: File 'Tylopsislilifolia_XC751311-dat066-015_edit1.wav' is too short (3.0sec)Chorthippusalbomarginatus_XC751394-dat022-011_edit2.wav skipped as too short\n",
      "\n",
      "Tylopsislilifolia_XC751311-dat066-015_edit1.wav skipped as too short\n",
      "No silence remove applied: File 'Pseudochorthippusmontanus_XC752606-dat012-004_edit3.wav' is too short (5.0sec)\n",
      "Pseudochorthippusmontanus_XC752606-dat012-004_edit3.wav skipped as too short\n",
      "No silence remove applied: File 'Tettigoniaviridissima_GBIF3333109606_IN87998471_279763.wav' is too short (4.063492063492063sec)\n",
      "Tettigoniaviridissima_GBIF3333109606_IN87998471_279763.wav skipped as too short\n",
      "Chorthippusmollis_XC751982-dat017-017_edit1.wav skipped as too short\n"
     ]
    },
    {
     "name": "stderr",
     "output_type": "stream",
     "text": [
      " 67%|██████▋   | 344/512 [00:18<00:07, 22.57it/s]"
     ]
    },
    {
     "name": "stdout",
     "output_type": "stream",
     "text": [
      "No silence remove applied: File 'Omocestuspetraeus_XC752476-dat058-002_edit2.wav' is too short (8.0sec)\n",
      "Omocestuspetraeus_XC752476-dat058-002_edit2.wav skipped as too shortDecticusverrucivorus_XC751956-dat016-002_edit3.wav skipped as too short\n",
      "No silence remove applied: File 'Tylopsislilifolia_XC751853-dat065-003_edit5.wav' is too short (2.0sec)\n",
      "\n",
      "No silence remove applied: File 'Tettigoniacantans_GBIF2862528916_IN58736762_134782.wav' is too short (7.700317460317461sec)\n",
      "Tylopsislilifolia_XC751853-dat065-003_edit5.wav skipped as too shortTettigoniacantans_GBIF2862528916_IN58736762_134782.wav skipped as too shortChorthippusapricarius_XC752531-dat185-001_edit3.wav skipped as too short\n",
      "\n",
      "\n",
      "No silence remove applied: File 'Tylopsislilifolia_XC751853-dat065-003_edit1.wav' is too short (3.0sec)No silence remove applied: File 'Omocestuspetraeus_XC752476-dat058-002_edit6.wav' is too short (5.0sec)\n",
      "\n",
      "Tylopsislilifolia_XC751853-dat065-003_edit1.wav skipped as too shortOmocestuspetraeus_XC752476-dat058-002_edit6.wav skipped as too short\n"
     ]
    },
    {
     "name": "stderr",
     "output_type": "stream",
     "text": [
      " 68%|██████▊   | 350/512 [00:18<00:05, 28.15it/s]"
     ]
    },
    {
     "name": "stdout",
     "output_type": "stream",
     "text": [
      "\n",
      "No silence remove applied: File 'Yoyettacelis_GBIF2429568381_IN34291952_48426.wav' is too short (5.5sec)\n",
      "Yoyettacelis_GBIF2429568381_IN34291952_48426.wav skipped as too short\n",
      "Chorthippusmollis_XC751771-dat005-075.wav skipped as too shortNo silence remove applied: File 'Pseudochorthippusmontanus_XC752606-dat012-004_edit7.wav' is too short (5.0sec)\n",
      "\n",
      "No silence remove applied: File 'Chorthippusbrunneus_XC751545-dat011-006_edit4.wav' is too short (8.5sec)Pseudochorthippusmontanus_XC752606-dat012-004_edit7.wav skipped as too short\n",
      "\n",
      "Chorthippusbrunneus_XC751545-dat011-006_edit4.wav skipped as too short\n"
     ]
    },
    {
     "name": "stderr",
     "output_type": "stream",
     "text": [
      " 69%|██████▉   | 355/512 [00:18<00:04, 32.62it/s]"
     ]
    },
    {
     "name": "stdout",
     "output_type": "stream",
     "text": [
      "Barbitistesyersini_XC752468-dat050-002.wav Long sample (186.8067573696145) and normal splitting\n",
      "Chorthippusmollis_XC751982-dat017-017_edit5.wav skipped as too short\n",
      "Platypleuracfcatenata_MHV%20608%20P.catenata%20Robinson%20Pass_edit1.wav Long sample (40.86142857142857) and normal splittingPlatypleuraplumosa_MHV%201021%20P.plumosa%20nr%20Addo%20N.P._edit1.wav Long sample (51.506621315192746) and normal splitting\n",
      "\n",
      "Phaneropterafalcata_XC751641-dat031-001_edit2.wav skipped as too short\n",
      "Achetadomesticus_XC751749-dat009-003_edit2.wav Long sample (238.3244671201814) and normal splitting\n",
      "Chorthippusmollis_XC751829-dat001-038_edit1.wav skipped as too short\n"
     ]
    },
    {
     "name": "stderr",
     "output_type": "stream",
     "text": [
      " 70%|███████   | 359/512 [00:19<00:10, 14.66it/s]"
     ]
    },
    {
     "name": "stdout",
     "output_type": "stream",
     "text": [
      "No silence remove applied: File 'Eumodicogryllusbordigalensis_XC751343-dat171-002_edit2.wav' is too short (2.0sec)\n",
      "Eumodicogryllusbordigalensis_XC751343-dat171-002_edit2.wav skipped as too short\n",
      "No silence remove applied: File 'Eumodicogryllusbordigalensis_XC751343-dat171-002_edit3.wav' is too short (2.0sec)\n",
      "Eumodicogryllusbordigalensis_XC751343-dat171-002_edit3.wav skipped as too shortChorthippusbiguttulus_XC751529-dat003-043_edit1.wav skipped as too short\n",
      "No silence remove applied: File 'Bicoloranabicolor_XC751421-dat061-003_edit7.wav' is too short (4.0sec)\n",
      "No silence remove applied: File 'Yoyettacelis_GBIF2898418583_IN62082904_141491.wav' is too short (2.7sec)\n",
      "Bicoloranabicolor_XC751421-dat061-003_edit7.wav skipped as too short\n",
      "Yoyettacelis_GBIF2898418583_IN62082904_141491.wav skipped as too short\n"
     ]
    },
    {
     "name": "stderr",
     "output_type": "stream",
     "text": [
      " 71%|███████   | 364/512 [00:19<00:07, 18.63it/s]"
     ]
    },
    {
     "name": "stdout",
     "output_type": "stream",
     "text": [
      "\n",
      "No silence remove applied: File 'Tylopsislilifolia_XC751311-dat066-015_edit4.wav' is too short (4.0sec)\n",
      "Tylopsislilifolia_XC751311-dat066-015_edit4.wav skipped as too short\n",
      "Stenobothruslineatus_XC751985-dat017-020_edit3.wav skipped as too short\n",
      "No silence remove applied: File 'Pseudochorthippusmontanus_XC752606-dat012-004_edit6.wav' is too short (4.0sec)\n",
      "Pseudochorthippusmontanus_XC752606-dat012-004_edit6.wav skipped as too short\n",
      "No silence remove applied: File 'Chrysochraondispar_XC751777-dat005-081_edit2.wav' is too short (3.0sec)\n",
      "Chrysochraondispar_XC751777-dat005-081_edit2.wav skipped as too short\n"
     ]
    },
    {
     "name": "stderr",
     "output_type": "stream",
     "text": [
      " 72%|███████▏  | 369/512 [00:19<00:06, 22.39it/s]"
     ]
    },
    {
     "name": "stdout",
     "output_type": "stream",
     "text": [
      "Chorthippusmollis_XC751982-dat017-017_edit4.wav skipped as too short\n",
      "No silence remove applied: File 'Omocestuspetraeus_XC752476-dat058-002_edit7.wav' is too short (6.0sec)\n",
      "Omocestuspetraeus_XC752476-dat058-002_edit7.wav skipped as too short\n",
      "Psaltodaplaga_GBIF2901693164_IN63139612_144238.wav skipped as too shortNo silence remove applied: File 'Leptophyespunctatissima_XC752570-dat141-007_edit8.wav' is too short (1.0sec)\n",
      "\n",
      "No silence remove applied: File 'Tylopsislilifolia_XC751853-dat065-003_edit2.wav' is too short (3.0sec)Leptophyespunctatissima_XC752570-dat141-007_edit8.wav skipped as too short\n",
      "\n"
     ]
    },
    {
     "name": "stderr",
     "output_type": "stream",
     "text": [
      " 73%|███████▎  | 373/512 [00:19<00:05, 23.52it/s]"
     ]
    },
    {
     "name": "stdout",
     "output_type": "stream",
     "text": [
      "No silence remove applied: File 'Omocestuspetraeus_XC752476-dat058-002_edit5.wav' is too short (5.0sec)Tylopsislilifolia_XC751853-dat065-003_edit2.wav skipped as too short\n",
      "\n",
      "Omocestuspetraeus_XC752476-dat058-002_edit5.wav skipped as too short\n",
      "No silence remove applied: File 'Decticusverrucivorus_XC751956-dat016-002_edit4.wav' is too short (8.0sec)\n",
      "Oecanthuspellucens_XC751439-dat175-002_edit1.wav Long sample (45.841315192743764) and normal splittingDecticusverrucivorus_XC751956-dat016-002_edit4.wav skipped as too short\n",
      "\n",
      "Chorthippusapricarius_XC752531-dat185-001_edit4.wav skipped as too short\n"
     ]
    },
    {
     "name": "stderr",
     "output_type": "stream",
     "text": [
      " 74%|███████▎  | 377/512 [00:20<00:06, 21.27it/s]"
     ]
    },
    {
     "name": "stdout",
     "output_type": "stream",
     "text": [
      "No silence remove applied: File 'Pseudochorthippusmontanus_XC752606-dat012-004_edit4.wav' is too short (5.0sec)Cicadaorni_GBIF2429234638_IN31534793_46057_edit1.wav Long sample (42.767596371882085) and normal splitting\n",
      "\n",
      "Pseudochorthippusmontanus_XC752606-dat012-004_edit4.wav skipped as too short\n"
     ]
    },
    {
     "name": "stderr",
     "output_type": "stream",
     "text": [
      " 74%|███████▍  | 380/512 [00:20<00:06, 21.93it/s]"
     ]
    },
    {
     "name": "stdout",
     "output_type": "stream",
     "text": [
      "Chorthippusmollis_XC751982-dat017-017_edit6.wav skipped as too short\n",
      "Stenobothruslineatus_XC751985-dat017-020_edit1.wav skipped as too short\n",
      "No silence remove applied: File 'Phaneropterafalcata_XC751641-dat031-001_edit1.wav' is too short (5.0sec)\n",
      "Phaneropterafalcata_XC751641-dat031-001_edit1.wav skipped as too short\n"
     ]
    },
    {
     "name": "stderr",
     "output_type": "stream",
     "text": [
      " 75%|███████▍  | 383/512 [00:20<00:06, 20.59it/s]"
     ]
    },
    {
     "name": "stdout",
     "output_type": "stream",
     "text": [
      "No silence remove applied: File 'Aleetacurvicosta_GBIF3005253775_IN66502448_153548.wav' is too short (2.8sec)\n",
      "Aleetacurvicosta_GBIF3005253775_IN66502448_153548.wav skipped as too short\n",
      "No silence remove applied: File 'Bicoloranabicolor_XC751421-dat061-003_edit5.wav' is too short (4.0sec)\n",
      "Bicoloranabicolor_XC751421-dat061-003_edit5.wav skipped as too shortGampsocleisglabra_XC751485-dat026-024.wav Long sample (38.273492063492064) and normal splitting\n",
      "\n",
      "Chorthippusalbomarginatus_XC751394-dat022-011_edit5.wav skipped as too shortAchetadomesticus_XC751749-dat009-003_edit1.wav Long sample (178.36444444444444) and normal splitting\n"
     ]
    },
    {
     "name": "stderr",
     "output_type": "stream",
     "text": [
      " 76%|███████▌  | 387/512 [00:20<00:05, 22.74it/s]"
     ]
    },
    {
     "name": "stdout",
     "output_type": "stream",
     "text": [
      "\n",
      "No silence remove applied: File 'Chorthippusbiguttulus_XC751529-dat003-043_edit2.wav' is too short (8.0sec)\n",
      "Chorthippusbiguttulus_XC751529-dat003-043_edit2.wav skipped as too short\n",
      "Oecanthuspellucens_XC751439-dat175-002_edit2.wav skipped as too short\n"
     ]
    },
    {
     "name": "stderr",
     "output_type": "stream",
     "text": [
      " 76%|███████▌  | 390/512 [00:20<00:05, 21.47it/s]"
     ]
    },
    {
     "name": "stdout",
     "output_type": "stream",
     "text": [
      "No silence remove applied: File 'Yoyettacelis_GBIF2429568475_IN34291946_48423_edit1.wav' is too short (1.5sec)\n",
      "Chorthippusbiguttulus_XC751529-dat003-043_edit3.wav skipped as too shortYoyettacelis_GBIF2429568475_IN34291946_48423_edit1.wav skipped as too short\n",
      "\n",
      "No silence remove applied: File 'Bicoloranabicolor_XC751421-dat061-003_edit4.wav' is too short (3.0sec)\n",
      "Bicoloranabicolor_XC751421-dat061-003_edit4.wav skipped as too short\n"
     ]
    },
    {
     "name": "stderr",
     "output_type": "stream",
     "text": [
      " 77%|███████▋  | 394/512 [00:20<00:04, 23.85it/s]"
     ]
    },
    {
     "name": "stdout",
     "output_type": "stream",
     "text": [
      "Chorthippusmollis_XC751829-dat001-038_edit2.wav Long sample (53.98757369614513) and normal splitting\n",
      "Chorthippusalbomarginatus_XC751394-dat022-011_edit4.wav skipped as too short\n",
      "No silence remove applied: File 'Pseudochorthippusmontanus_XC752606-dat012-004_edit5.wav' is too short (4.0sec)\n",
      "Pseudochorthippusmontanus_XC752606-dat012-004_edit5.wav skipped as too short\n",
      "Conocephalusfuscus_XC752384-dat034-007.wav Long sample (57.24988662131519) and normal splitting\n",
      "Chorthippusmollis_XC751829-dat001-038_edit3.wav skipped as too short\n"
     ]
    },
    {
     "name": "stderr",
     "output_type": "stream",
     "text": [
      " 78%|███████▊  | 397/512 [00:20<00:05, 21.98it/s]"
     ]
    },
    {
     "name": "stdout",
     "output_type": "stream",
     "text": [
      "Gampsocleisglabra_XC751482-dat026-020.wav Long sample (254.528231292517) and normal splitting\n",
      "Chrysochraondispar_XC751494-dat001-004.wav Long sample (48.31333333333333) and normal splitting\n",
      "No silence remove applied: File 'Tylopsislilifolia_XC751853-dat065-003_edit3.wav' is too short (2.0sec)\n",
      "Omocestuspetraeus_XC752476-dat058-002_edit4.wav skipped as too shortTylopsislilifolia_XC751853-dat065-003_edit3.wav skipped as too short\n"
     ]
    },
    {
     "name": "stderr",
     "output_type": "stream",
     "text": [
      " 78%|███████▊  | 400/512 [00:21<00:06, 16.12it/s]"
     ]
    },
    {
     "name": "stdout",
     "output_type": "stream",
     "text": [
      "\n",
      "No silence remove applied: File 'Platypleuraplumosa_MHV%20609%20P.plumosa%204km%20W%20De%20Rust%20%232_edit2.wav' is too short (9.0sec)\n",
      "Platypleuraplumosa_MHV%20609%20P.plumosa%204km%20W%20De%20Rust%20%232_edit2.wav skipped as too shortNo silence remove applied: File 'Chorthippusbiguttulus_XC752337-dat004-022_edit1.wav' is too short (4.0sec)\n",
      "Chorthippusbiguttulus_XC752337-dat004-022_edit1.wav skipped as too short\n",
      "\n",
      "No silence remove applied: File 'Pholidopteraaptera_XC752418-dat099-007_edit2.wav' is too short (2.0sec)\n",
      "Pholidopteraaptera_XC752418-dat099-007_edit2.wav skipped as too short\n",
      "No silence remove applied: File 'Cicadaorni_GBIF3859145765_IN90640960_289842.wav' is too short (7.558095238095238sec)\n",
      "Cicadaorni_GBIF3859145765_IN90640960_289842.wav skipped as too short\n",
      "No silence remove applied: File 'Chorthippusbrunneus_XC751384-dat005-049_edit2.wav' is too short (2.0sec)\n",
      "Chorthippusmollis_XC752483-dat065-007_edit1.wav skipped as too short\n",
      "Chorthippusbrunneus_XC751384-dat005-049_edit2.wav skipped as too short\n",
      "No silence remove applied: File 'Pseudochorthippusparallelus_XC751868-dat097-022_edit1.wav' is too short (4.0sec)\n",
      "No silence remove applied: File 'Roeselianaroeselii_XC752366-dat006-009.wav' is too short (9.790680272108844sec)Pseudochorthippusparallelus_XC751868-dat097-022_edit1.wav skipped as too short\n",
      "Roeselianaroeselii_XC752366-dat006-009.wav skipped as too short\n",
      "\n"
     ]
    },
    {
     "name": "stderr",
     "output_type": "stream",
     "text": [
      " 80%|███████▉  | 409/512 [00:21<00:03, 28.01it/s]"
     ]
    },
    {
     "name": "stdout",
     "output_type": "stream",
     "text": [
      "Myrmeleotettixmaculatus_XC752579-dat010-019_edit4.wav skipped as too short\n",
      "Pholidopteragriseoaptera_XC751440-dat044-014_edit1.wav Long sample (95.23297052154194) and normal splitting\n",
      "No silence remove applied: File 'Barbitistesyersini_XC752462-dat047-010_edit4.wav' is too short (2.0sec)\n",
      "Barbitistesyersini_XC752462-dat047-010_edit4.wav skipped as too short\n",
      "Roeselianaroeselii_XC751676-dat018-013_edit1.wav skipped as too short"
     ]
    },
    {
     "name": "stderr",
     "output_type": "stream",
     "text": [
      " 81%|████████  | 413/512 [00:21<00:03, 26.24it/s]"
     ]
    },
    {
     "name": "stdout",
     "output_type": "stream",
     "text": [
      "No silence remove applied: File 'Pseudochorthippusmontanus_GBIF3456283524_IN104931964_346429.wav' is too short (5.981882086167801sec)\n",
      "\n",
      "Pseudochorthippusmontanus_GBIF3456283524_IN104931964_346429.wav skipped as too short\n",
      "No silence remove applied: File 'Barbitistesyersini_XC752466-dat047-008_edit4.wav' is too short (3.0sec)\n",
      "Barbitistesyersini_XC752466-dat047-008_edit4.wav skipped as too short\n",
      "No silence remove applied: File 'Barbitistesyersini_XC752462-dat047-010_edit5.wav' is too short (2.0sec)\n",
      "Barbitistesyersini_XC752462-dat047-010_edit5.wav skipped as too short\n",
      "Chorthippusbiguttulus_XC751875-dat150-006_edit3.wav skipped as too short\n"
     ]
    },
    {
     "name": "stderr",
     "output_type": "stream",
     "text": [
      " 82%|████████▏ | 418/512 [00:21<00:03, 28.42it/s]"
     ]
    },
    {
     "name": "stdout",
     "output_type": "stream",
     "text": [
      "No silence remove applied: File 'Myrmeleotettixmaculatus_XC752579-dat010-019_edit5.wav' is too short (9.0sec)\n",
      "Myrmeleotettixmaculatus_XC752579-dat010-019_edit5.wav skipped as too short\n",
      "Gomphocerussibiricus_XC751600-dat097-003.wav skipped as too short\n",
      "No silence remove applied: File 'Chorthippusbrunneus_XC751384-dat005-049_edit3.wav' is too short (2.0sec)\n",
      "Chorthippusbrunneus_XC751384-dat005-049_edit3.wav skipped as too short\n",
      "No silence remove applied: File 'Pholidopteraaptera_XC752418-dat099-007_edit3.wav' is too short (2.6019954648526076sec)\n",
      "Pholidopteraaptera_XC752418-dat099-007_edit3.wav skipped as too short\n"
     ]
    },
    {
     "name": "stderr",
     "output_type": "stream",
     "text": [
      " 82%|████████▏ | 422/512 [00:21<00:03, 30.00it/s]"
     ]
    },
    {
     "name": "stdout",
     "output_type": "stream",
     "text": [
      "Platypleurasp10_MHV%20313%20P.sp10%20Die%20Koo%20%236a_edit1.wav Long sample (99.23673469387755) and normal splitting\n",
      "Grylluscampestris_XC751433-dat010-012_edit1.wav Long sample (578.3709070294784) and normal splitting\n",
      "Atrapsaltaencaustica_GBIF2423184983_IN33178573_47353.wav Long sample (33.011496598639454) and normal splitting\n",
      "Phaneropterafalcata_XC751783-dat005-085.wav Long sample (228.06444444444443) and normal splitting\n",
      "No silence remove applied: File 'Stenobothrusstigmaticus_XC752002-dat004-047.wav' is too short (5.416258503401361sec)\n",
      "Stenobothrusstigmaticus_XC752002-dat004-047.wav skipped as too short\n"
     ]
    },
    {
     "name": "stderr",
     "output_type": "stream",
     "text": [
      " 83%|████████▎ | 426/512 [00:22<00:07, 11.03it/s]"
     ]
    },
    {
     "name": "stdout",
     "output_type": "stream",
     "text": [
      "No silence remove applied: File 'Platypleuraplumosa_MHV%20609%20P.plumosa%204km%20W%20De%20Rust%20%232_edit3.wav' is too short (7.0sec)\n",
      "Platypleuraplumosa_MHV%20609%20P.plumosa%204km%20W%20De%20Rust%20%232_edit3.wav skipped as too short\n",
      "No silence remove applied: File 'Galangalabeculata_GBIF2992799626_IN65682655_150986.wav' is too short (5.1sec)\n",
      "Galangalabeculata_GBIF2992799626_IN65682655_150986.wav skipped as too short\n"
     ]
    },
    {
     "name": "stderr",
     "output_type": "stream",
     "text": [
      " 84%|████████▍ | 429/512 [00:22<00:06, 12.56it/s]"
     ]
    },
    {
     "name": "stdout",
     "output_type": "stream",
     "text": [
      "Tettigoniacantans_XC751949-dat035-008_edit1.wav Long sample (42.55052154195011) and normal splitting\n",
      "Grylluscampestris_XC751584-dat008-013.wav Long sample (89.56641723356009) and normal splitting\n",
      "Ruspolianitidula_XC757310-B20h09m31s22oct2022_edit1.wav Long sample (54.993809523809524) and normal splitting\n",
      "Decticusverrucivorus_XC751974-dat018-007.wav Long sample (231.9944217687075) and normal splitting\n",
      "No silence remove applied: File 'Yoyettacelis_GBIF3344029112_IN92046644_294960_edit1.wav' is too short (2.0sec)\n",
      "Yoyettacelis_GBIF3344029112_IN92046644_294960_edit1.wav skipped as too short\n",
      "No silence remove applied: File 'Stenobothrusstigmaticus_XC752013-dat005-009.wav' is too short (3.4167120181405894sec)\n",
      "Stenobothrusstigmaticus_XC752013-dat005-009.wav skipped as too short\n"
     ]
    },
    {
     "name": "stderr",
     "output_type": "stream",
     "text": [
      " 85%|████████▍ | 434/512 [00:23<00:08,  9.32it/s]"
     ]
    },
    {
     "name": "stdout",
     "output_type": "stream",
     "text": [
      "Pholidopteragriseoaptera_XC751502-dat003-029.wav skipped as too short\n",
      "Chorthippusmollis_XC752483-dat065-007_edit2.wav skipped as too short\n"
     ]
    },
    {
     "name": "stderr",
     "output_type": "stream",
     "text": [
      " 85%|████████▌ | 436/512 [00:23<00:08,  8.77it/s]"
     ]
    },
    {
     "name": "stdout",
     "output_type": "stream",
     "text": [
      "No silence remove applied: File 'Pholidopteraaptera_XC752418-dat099-007_edit1.wav' is too short (3.0sec)\n",
      "Pholidopteraaptera_XC752418-dat099-007_edit1.wav skipped as too short\n",
      "No silence remove applied: File 'Pseudochorthippusparallelus_XC751868-dat097-022_edit2.wav' is too short (4.0sec)\n",
      "Pseudochorthippusparallelus_XC751868-dat097-022_edit2.wav skipped as too short\n",
      "No silence remove applied: File 'Chorthippusbrunneus_XC751384-dat005-049_edit1.wav' is too short (2.0sec)\n",
      "Chorthippusbrunneus_XC751384-dat005-049_edit1.wav skipped as too short\n",
      "No silence remove applied: File 'Gomphocerippusrufus_XC752294-dat005-032.wav' is too short (8.444126984126983sec)\n",
      "Gomphocerippusrufus_XC752294-dat005-032.wav skipped as too short\n",
      "No silence remove applied: File 'Myrmeleotettixmaculatus_XC752579-dat010-019_edit7.wav' is too short (9.0sec)\n",
      "Myrmeleotettixmaculatus_XC752579-dat010-019_edit7.wav skipped as too short\n"
     ]
    },
    {
     "name": "stderr",
     "output_type": "stream",
     "text": [
      " 86%|████████▌ | 441/512 [00:24<00:05, 13.52it/s]"
     ]
    },
    {
     "name": "stdout",
     "output_type": "stream",
     "text": [
      "Tettigoniacantans_XC751949-dat035-008_edit3.wav Long sample (69.87897959183674) and normal splitting\n",
      "No silence remove applied: File 'Yoyettacelis_GBIF3384067166_IN96045299_310396.wav' is too short (5.6sec)\n",
      "Yoyettacelis_GBIF3384067166_IN96045299_310396.wav skipped as too short\n",
      "No silence remove applied: File 'Barbitistesyersini_XC752462-dat047-010_edit7.wav' is too short (3.0sec)\n",
      "Barbitistesyersini_XC752462-dat047-010_edit7.wav skipped as too short\n",
      "Stenobothruslineatus_XC751531-dat003-036.wav Long sample (209.05351473922903) and normal splitting\n"
     ]
    },
    {
     "name": "stderr",
     "output_type": "stream",
     "text": [
      " 87%|████████▋ | 444/512 [00:24<00:04, 15.67it/s]"
     ]
    },
    {
     "name": "stdout",
     "output_type": "stream",
     "text": [
      "Nemobiussylvestris_XC751419-dat145-001.wav Long sample (293.16356009070296) and normal splitting\n",
      "Chorthippusbiguttulus_XC751875-dat150-006_edit1.wav skipped as too short\n",
      "No silence remove applied: File 'Pholidopteragriseoaptera_NoID_20200810_181548.M.wav' is too short (9.308480725623582sec)\n",
      "Pholidopteragriseoaptera_NoID_20200810_181548.M.wav skipped as too short\n",
      "Roeselianaroeselii_XC751676-dat018-013_edit2.wav skipped as too short\n"
     ]
    },
    {
     "name": "stderr",
     "output_type": "stream",
     "text": [
      " 87%|████████▋ | 447/512 [00:24<00:04, 14.22it/s]"
     ]
    },
    {
     "name": "stdout",
     "output_type": "stream",
     "text": [
      "Ephippigerdiurnus_XC752121-dat064-018_edit2.wav Long sample (39.01954648526077) and normal splitting\n",
      "Roeselianaroeselii_XC751676-dat018-013_edit3.wav skipped as too short\n",
      "No silence remove applied: File 'Pseudochorthippusparallelus_VOC_190626-1033.wav' is too short (5.461791383219954sec)\n",
      "Pseudochorthippusparallelus_VOC_190626-1033.wav skipped as too shortEphippigerdiurnus_XC752091-dat027-016.wav Long sample (126.14746031746031) and normal splitting\n",
      "\n",
      "No silence remove applied: File 'Achetadomesticus_XC751754-dat194-004_edit2.wav' is too short (2.0sec)\n",
      "Achetadomesticus_XC751754-dat194-004_edit2.wav skipped as too short\n"
     ]
    },
    {
     "name": "stderr",
     "output_type": "stream",
     "text": [
      " 88%|████████▊ | 450/512 [00:24<00:03, 16.48it/s]"
     ]
    },
    {
     "name": "stdout",
     "output_type": "stream",
     "text": [
      "No silence remove applied: File 'Barbitistesyersini_XC752462-dat047-010_edit6.wav' is too short (3.0sec)\n",
      "Barbitistesyersini_XC752462-dat047-010_edit6.wav skipped as too short\n",
      "No silence remove applied: File 'Myrmeleotettixmaculatus_XC752579-dat010-019_edit6.wav' is too short (8.0sec)\n",
      "Myrmeleotettixmaculatus_XC752579-dat010-019_edit6.wav skipped as too short\n",
      "No silence remove applied: File 'Pseudochorthippusparallelus_XC751868-dat097-022_edit3.wav' is too short (8.0sec)\n",
      "Pseudochorthippusparallelus_XC751868-dat097-022_edit3.wav skipped as too short\n",
      "Chorthippusmollis_XC752483-dat065-007_edit3.wav skipped as too short\n"
     ]
    },
    {
     "name": "stderr",
     "output_type": "stream",
     "text": [
      " 89%|████████▉ | 455/512 [00:24<00:02, 20.58it/s]"
     ]
    },
    {
     "name": "stdout",
     "output_type": "stream",
     "text": [
      "No silence remove applied: File 'Galangalabeculata_GBIF2465315856_IN36305752_51627.wav' is too short (2.5sec)\n",
      "Galangalabeculata_GBIF2465315856_IN36305752_51627.wav skipped as too short\n"
     ]
    },
    {
     "name": "stderr",
     "output_type": "stream",
     "text": [
      " 89%|████████▉ | 458/512 [00:24<00:02, 18.87it/s]"
     ]
    },
    {
     "name": "stdout",
     "output_type": "stream",
     "text": [
      "No silence remove applied: File 'Yoyettacelis_GBIF2868281231_IN60283503_137521.wav' is too short (3.2sec)\n",
      "Yoyettacelis_GBIF2868281231_IN60283503_137521.wav skipped as too short\n",
      "No silence remove applied: File 'Cyclochilaaustralasiae_GBIF1949995530_IN18893186_28098_edit1.wav' is too short (1.7842857142857143sec)\n",
      "Cyclochilaaustralasiae_GBIF1949995530_IN18893186_28098_edit1.wav skipped as too shortRuspolianitidula_XC757310-B20h09m31s22oct2022_edit2.wav skipped as too short\n",
      "\n",
      "Chorthippusbiguttulus_XC751878-dat149-003_edit2.wav skipped as too short\n"
     ]
    },
    {
     "name": "stderr",
     "output_type": "stream",
     "text": [
      " 90%|█████████ | 462/512 [00:24<00:02, 22.40it/s]"
     ]
    },
    {
     "name": "stdout",
     "output_type": "stream",
     "text": [
      "Tettigoniacantans_XC751949-dat035-008_edit2.wav Long sample (98.8044671201814) and normal splitting\n",
      "Nemobiussylvestris_Take16.wav Long sample (33.00126984126984) and normal splitting\n",
      "Tettigoniaviridissima_XC751562-dat029-005.wav Long sample (57.84848072562358) and normal splitting\n",
      "Gampsocleisglabra_XC751678-dat008-023_edit1.wav Long sample (129.98056689342403) and normal splitting\n",
      "Pseudochorthippusparallelus_XC751574-dat027-012.wav skipped as too short\n"
     ]
    },
    {
     "name": "stderr",
     "output_type": "stream",
     "text": [
      " 91%|█████████ | 465/512 [00:25<00:04, 11.51it/s]"
     ]
    },
    {
     "name": "stdout",
     "output_type": "stream",
     "text": [
      "No silence remove applied: File 'Yoyettacelis_GBIF1986575683_IN19408673_28970.wav' is too short (2.9257142857142857sec)\n",
      "Yoyettacelis_GBIF1986575683_IN19408673_28970.wav skipped as too short\n"
     ]
    },
    {
     "name": "stderr",
     "output_type": "stream",
     "text": [
      " 91%|█████████▏| 468/512 [00:25<00:03, 13.39it/s]"
     ]
    },
    {
     "name": "stdout",
     "output_type": "stream",
     "text": [
      "No silence remove applied: File 'Yoyettacelis_GBIF1986566439_IN19386071_28977.wav' is too short (1.8692063492063493sec)Platypleurasp13_MHV%201016%20P.sp13%20nr%20Hankey_edit1.wav Long sample (33.768526077097505) and normal splitting\n",
      "\n",
      "Yoyettacelis_GBIF1986566439_IN19386071_28977.wav skipped as too short\n",
      "Grylluscampestris_GBIF3764531264_IN113216317_407521.wav skipped as too short\n",
      "No silence remove applied: File 'Myrmeleotettixmaculatus_XC752579-dat010-019_edit2.wav' is too short (9.0sec)\n",
      "Myrmeleotettixmaculatus_XC752579-dat010-019_edit2.wav skipped as too short\n"
     ]
    },
    {
     "name": "stderr",
     "output_type": "stream",
     "text": [
      " 92%|█████████▏| 471/512 [00:25<00:02, 15.29it/s]"
     ]
    },
    {
     "name": "stdout",
     "output_type": "stream",
     "text": [
      "No silence remove applied: File 'Tettigoniaviridissima_GBIF3892352543_IN130153184_517495.wav' is too short (5.638684807256236sec)\n",
      "Tettigoniaviridissima_GBIF3892352543_IN130153184_517495.wav skipped as too short\n",
      "No silence remove applied: File 'Barbitistesyersini_XC752462-dat047-010_edit2.wav' is too short (4.0sec)\n",
      "Barbitistesyersini_XC752462-dat047-010_edit2.wav skipped as too short\n",
      "No silence remove applied: File 'Grylluscampestris_GBIF2860137389_IN43187743_74371.wav' is too short (3.332063492063492sec)\n",
      "Grylluscampestris_GBIF2860137389_IN43187743_74371.wav skipped as too short\n",
      "Stenobothruslineatus_XC751530-dat003-035.wav skipped as too short\n"
     ]
    },
    {
     "name": "stderr",
     "output_type": "stream",
     "text": [
      " 93%|█████████▎| 476/512 [00:26<00:01, 19.30it/s]"
     ]
    },
    {
     "name": "stdout",
     "output_type": "stream",
     "text": [
      "No silence remove applied: File 'Barbitistesyersini_XC752466-dat047-008_edit2.wav' is too short (2.0sec)\n",
      "Barbitistesyersini_XC752466-dat047-008_edit2.wav skipped as too short\n",
      "Tettigoniaviridissima_GBIF3337956203_IN91550412_292889.wav skipped as too short\n",
      "Chorthippusbiguttulus_XC751875-dat150-006_edit4.wav skipped as too shortGampsocleisglabra_XC751679-dat008-024_edit1.wav Long sample (79.97895691609978) and normal splitting\n",
      "\n",
      "Chorthippusbiguttulus_XC751875-dat150-006_edit5.wav skipped as too short\n"
     ]
    },
    {
     "name": "stderr",
     "output_type": "stream",
     "text": [
      " 94%|█████████▍| 481/512 [00:26<00:01, 22.39it/s]"
     ]
    },
    {
     "name": "stdout",
     "output_type": "stream",
     "text": [
      "No silence remove applied: File 'Barbitistesyersini_XC752462-dat047-010_edit3.wav' is too short (2.0sec)Conocephalusdorsalis_XC751653-dat034-005_edit2.wav skipped as too short\n",
      "\n",
      "Barbitistesyersini_XC752462-dat047-010_edit3.wav skipped as too short\n",
      "No silence remove applied: File 'Myrmeleotettixmaculatus_XC752579-dat010-019_edit3.wav' is too short (9.0sec)\n",
      "Myrmeleotettixmaculatus_XC752579-dat010-019_edit3.wav skipped as too short\n",
      "No silence remove applied: File 'Chorthippusbrunneus_XC751384-dat005-049_edit5.wav' is too short (2.0sec)\n",
      "Chorthippusbrunneus_XC751384-dat005-049_edit5.wav skipped as too short\n",
      "No silence remove applied: File 'Stenobothrusstigmaticus_XC752024-dat005-020_edit1.wav' is too short (2.0sec)\n",
      "Stenobothrusstigmaticus_XC752024-dat005-020_edit1.wav skipped as too short\n",
      "Roeselianaroeselii_XC751676-dat018-013_edit6.wav Long sample (32.707755102040814) and normal splitting\n"
     ]
    },
    {
     "name": "stderr",
     "output_type": "stream",
     "text": [
      " 95%|█████████▌| 488/512 [00:26<00:00, 29.16it/s]"
     ]
    },
    {
     "name": "stdout",
     "output_type": "stream",
     "text": [
      "No silence remove applied: File 'Yoyettacelis_GBIF2868124826_IN60048097_137049.wav' is too short (5.2sec)\n",
      "Yoyettacelis_GBIF2868124826_IN60048097_137049.wav skipped as too shortChorthippusbiguttulus_XC751878-dat149-003_edit1.wav skipped as too short\n",
      "\n",
      "Myrmeleotettixmaculatus_XC752579-dat010-019_edit1.wav skipped as too short\n"
     ]
    },
    {
     "name": "stderr",
     "output_type": "stream",
     "text": [
      " 96%|█████████▌| 492/512 [00:26<00:00, 26.77it/s]"
     ]
    },
    {
     "name": "stdout",
     "output_type": "stream",
     "text": [
      "No silence remove applied: File 'Barbitistesyersini_XC752462-dat047-010_edit1.wav' is too short (3.0sec)\n",
      "Barbitistesyersini_XC752462-dat047-010_edit1.wav skipped as too short\n",
      "No silence remove applied: File 'Yoyettacelis_GBIF1931520749_IN17583307_26599.wav' is too short (3.4133333333333336sec)\n",
      "Pseudochorthippusparallelus_XC752310-dat004-015.wav Long sample (59.55562358276644) and normal splitting\n",
      "Yoyettacelis_GBIF1931520749_IN17583307_26599.wav skipped as too short\n",
      "No silence remove applied: File 'Yoyettacelis_GBIF1807279444_IN8961108_16508.wav' is too short (2.5193650793650795sec)\n",
      "Yoyettacelis_GBIF1807279444_IN8961108_16508.wav skipped as too short\n"
     ]
    },
    {
     "name": "stderr",
     "output_type": "stream",
     "text": [
      " 97%|█████████▋| 496/512 [00:26<00:00, 28.87it/s]"
     ]
    },
    {
     "name": "stdout",
     "output_type": "stream",
     "text": [
      "No silence remove applied: File 'Barbitistesyersini_XC752466-dat047-008_edit1.wav' is too short (2.0sec)\n",
      "Barbitistesyersini_XC752466-dat047-008_edit1.wav skipped as too short\n",
      "Roeselianaroeselii_XC751676-dat018-013_edit4.wav skipped as too short\n",
      "Chorthippusbiguttulus_XC752392-dat037-004_edit1.wav Long sample (55.46528344671202) and normal splitting\n",
      "Pseudochorthippusparallelus_XC751501-dat003-017.wav Long sample (35.26950113378685) and normal splitting\n",
      "Roeselianaroeselii_XC751676-dat018-013_edit5.wav skipped as too short\n",
      "Chorthippusbiguttulus_XC752392-dat037-004_edit2.wav skipped as too short"
     ]
    },
    {
     "name": "stderr",
     "output_type": "stream",
     "text": [
      " 98%|█████████▊| 500/512 [00:26<00:00, 27.92it/s]"
     ]
    },
    {
     "name": "stdout",
     "output_type": "stream",
     "text": [
      "\n",
      "No silence remove applied: File 'Chorthippusbrunneus_XC751384-dat005-049_edit6.wav' is too short (1.0sec)\n",
      "Chorthippusbrunneus_XC751384-dat005-049_edit6.wav skipped as too short\n",
      "No silence remove applied: File 'Grylluscampestris_GBIF3772468767_IN115095988_423152.wav' is too short (7.883174603174603sec)\n",
      "Grylluscampestris_GBIF3772468767_IN115095988_423152.wav skipped as too short\n"
     ]
    },
    {
     "name": "stderr",
     "output_type": "stream",
     "text": [
      " 98%|█████████▊| 504/512 [00:26<00:00, 26.16it/s]"
     ]
    },
    {
     "name": "stdout",
     "output_type": "stream",
     "text": [
      "No silence remove applied: File 'Yoyettacelis_GBIF2873801193_IN61269567_139618.wav' is too short (5.0sec)\n",
      "Yoyettacelis_GBIF2873801193_IN61269567_139618.wav skipped as too shortConocephalusdorsalis_XC751492-dat001-002.wav Long sample (89.39365079365079) and normal splitting\n",
      "\n",
      "Chorthippusbrunneus_XC751372-dat001-023.wav Long sample (30.966009070294785) and normal splitting\n",
      "Platypleuraplumosa_MHV%201488%20P.plumosa%20Nanaga%20Rec%20%232_edit1.wav Long sample (38.68496598639456) and normal splitting\n"
     ]
    },
    {
     "name": "stderr",
     "output_type": "stream",
     "text": [
      "100%|█████████▉| 510/512 [00:27<00:00, 14.89it/s]"
     ]
    },
    {
     "name": "stdout",
     "output_type": "stream",
     "text": [
      "Tettigoniacantans_XC754547-Isolato-O-haemorrhoidalis-da-XC754538-Mad_Acero_20180822-144031_1CH250K16.wav Long sample (178.91462585034014) and normal splitting\n",
      "Decticusverrucivorus_XC751968-dat016-014_edit1.wav Long sample (187.00945578231293) and normal splitting\n"
     ]
    },
    {
     "name": "stderr",
     "output_type": "stream",
     "text": [
      "100%|██████████| 512/512 [00:29<00:00, 17.56it/s]\n"
     ]
    }
   ],
   "source": [
    "workers_val.run_main()"
   ]
  },
  {
   "cell_type": "code",
   "execution_count": 8,
   "id": "f05c281a-7e22-48db-b754-a7e6ab90f945",
   "metadata": {
    "tags": []
   },
   "outputs": [],
   "source": [
    "new_val = os.path.join(data_processed_base, DATA_TAG, '02_resample_validation/val/')\n",
    "new_val_dest_dir = os.path.join(data_processed_base, DATA_TAG, '05_split_resampled_validation_into_windows/val/')\n",
    "\n",
    "workersNewVal = BuzzOriginalSplitDatasetParallel(\n",
    "    new_val, \n",
    "    new_val_dest_dir, \n",
    "    metadata_csv=os.path.join(resampled_val_dir_new_val, 'metadata.csv'), \n",
    "    train_dataset=True,\n",
    "    debug=True\n",
    ")"
   ]
  },
  {
   "cell_type": "code",
   "execution_count": 9,
   "id": "86c31472-7df2-47bd-931c-a2de39545441",
   "metadata": {
    "tags": []
   },
   "outputs": [
    {
     "name": "stdout",
     "output_type": "stream",
     "text": [
      "Generating new files in '/root/data/gdsc_data/data_processed/data_8c86715/05_split_resampled_validation_into_windows/val/' with splitted data...\n"
     ]
    },
    {
     "name": "stderr",
     "output_type": "stream",
     "text": [
      "  0%|          | 0/66 [00:00<?, ?it/s]"
     ]
    },
    {
     "name": "stdout",
     "output_type": "stream",
     "text": [
      "No silence remove applied: File 'Achetadomesticus_XC751754-dat194-004_edit1.wav' is too short (5.0sec)\n",
      "No silence remove applied: File 'Aleetacurvicosta_GBIF3031657202_IN67696616_157721.wav' is too short (7.3sec)\n",
      "No silence remove applied: File 'Atrapsaltacorticina_GBIF3399314306_IN98576112_317736.wav' is too short (5.0sec)\n",
      "No silence remove applied: File 'Barbitistesyersini_XC752466-dat047-008_edit3.wav' is too short (2.0sec)No silence remove applied: File 'Bicoloranabicolor_XC751421-dat061-003_edit6.wav' is too short (4.0sec)\n",
      "\n",
      "No silence remove applied: File 'Atrapsaltacollina_GBIF1831196023_IN9883996_17874_edit1.wav' is too short (6.5sec)\n"
     ]
    },
    {
     "name": "stderr",
     "output_type": "stream",
     "text": [
      "  6%|▌         | 4/66 [00:00<00:03, 17.54it/s]"
     ]
    },
    {
     "name": "stdout",
     "output_type": "stream",
     "text": [
      "No silence remove applied: File 'Chorthippusbrunneus_XC751384-dat005-049_edit4.wav' is too short (2.0sec)\n",
      "No silence remove applied: File 'Chrysochraondispar_XC751759-dat005-083_edit4.wav' is too short (2.0sec)\n"
     ]
    },
    {
     "name": "stderr",
     "output_type": "stream",
     "text": [
      " 17%|█▋        | 11/66 [00:00<00:03, 17.71it/s]"
     ]
    },
    {
     "name": "stdout",
     "output_type": "stream",
     "text": [
      "No silence remove applied: File 'Cyclochilaaustralasiae_GBIF2882927607_IN61523430_140217.wav' is too short (7.4sec)\n"
     ]
    },
    {
     "name": "stderr",
     "output_type": "stream",
     "text": [
      " 21%|██        | 14/66 [00:00<00:02, 18.75it/s]"
     ]
    },
    {
     "name": "stdout",
     "output_type": "stream",
     "text": [
      "No silence remove applied: File 'Eumodicogryllusbordigalensis_XC751343-dat171-002_edit1.wav' is too short (2.0sec)\n",
      "No silence remove applied: File 'Eupholidopteraschmidti_XC752434-dat051-018_edit3.wav' is too short (7.0sec)\n"
     ]
    },
    {
     "name": "stderr",
     "output_type": "stream",
     "text": [
      " 29%|██▉       | 19/66 [00:01<00:03, 12.98it/s]"
     ]
    },
    {
     "name": "stdout",
     "output_type": "stream",
     "text": [
      "No silence remove applied: File 'Gomphocerippusrufus_XC752291-dat004-005.wav' is too short (6.905306122448979sec)\n"
     ]
    },
    {
     "name": "stderr",
     "output_type": "stream",
     "text": [
      " 35%|███▍      | 23/66 [00:01<00:03, 11.24it/s]"
     ]
    },
    {
     "name": "stdout",
     "output_type": "stream",
     "text": [
      "No silence remove applied: File 'Leptophyespunctatissima_XC752570-dat141-007_edit9.wav' is too short (1.0sec)\n"
     ]
    },
    {
     "name": "stderr",
     "output_type": "stream",
     "text": [
      " 41%|████      | 27/66 [00:02<00:03,  9.97it/s]"
     ]
    },
    {
     "name": "stdout",
     "output_type": "stream",
     "text": [
      "No silence remove applied: File 'Nemobiussylvestris_XC752029-dat004-032_edit2.wav' is too short (7.0sec)\n"
     ]
    },
    {
     "name": "stderr",
     "output_type": "stream",
     "text": [
      " 44%|████▍     | 29/66 [00:02<00:03, 10.14it/s]"
     ]
    },
    {
     "name": "stdout",
     "output_type": "stream",
     "text": [
      "No silence remove applied: File 'Omocestuspetraeus_XC752476-dat058-002_edit1.wav' is too short (8.0sec)\n"
     ]
    },
    {
     "name": "stderr",
     "output_type": "stream",
     "text": [
      " 47%|████▋     | 31/66 [00:02<00:04,  8.61it/s]"
     ]
    },
    {
     "name": "stdout",
     "output_type": "stream",
     "text": [
      "No silence remove applied: File 'Phaneropterafalcata_XC751634-dat030-011.wav' is too short (3.9705215419501134sec)\n"
     ]
    },
    {
     "name": "stderr",
     "output_type": "stream",
     "text": [
      " 52%|█████▏    | 34/66 [00:02<00:02, 11.16it/s]"
     ]
    },
    {
     "name": "stdout",
     "output_type": "stream",
     "text": [
      "No silence remove applied: File 'Pholidopteraaptera_XC751362-dat145-002_edit5.wav' is too short (6.0sec)\n"
     ]
    },
    {
     "name": "stderr",
     "output_type": "stream",
     "text": [
      " 55%|█████▍    | 36/66 [00:02<00:02, 11.66it/s]"
     ]
    },
    {
     "name": "stdout",
     "output_type": "stream",
     "text": [
      "No silence remove applied: File 'Pholidopteragriseoaptera_Ultramic_20130915 203136.M.wav' is too short (4.151836734693878sec)\n",
      "No silence remove applied: File 'Pholidopteralittoralis_XC752453-dat054-011_edit5.wav' is too short (2.5sec)\n"
     ]
    },
    {
     "name": "stderr",
     "output_type": "stream",
     "text": [
      " 61%|██████    | 40/66 [00:03<00:01, 16.53it/s]"
     ]
    },
    {
     "name": "stdout",
     "output_type": "stream",
     "text": [
      "No silence remove applied: File 'Platypleuraplumosa_MHV%20609%20P.plumosa%204km%20W%20De%20Rust%20%232_edit1.wav' is too short (7.0sec)\n",
      "No silence remove applied: File 'Platypleurasp10_MHV%20313%20P.sp10%20Die%20Koo%20%236b_edit1.wav' is too short (2.7798185941043085sec)\n"
     ]
    },
    {
     "name": "stderr",
     "output_type": "stream",
     "text": [
      " 68%|██████▊   | 45/66 [00:03<00:01, 15.63it/s]"
     ]
    },
    {
     "name": "stdout",
     "output_type": "stream",
     "text": [
      "No silence remove applied: File 'Psaltodaplaga_GBIF3031797565_IN68469430_159997.wav' is too short (5.4sec)\n"
     ]
    },
    {
     "name": "stderr",
     "output_type": "stream",
     "text": [
      " 71%|███████   | 47/66 [00:03<00:01, 12.58it/s]"
     ]
    },
    {
     "name": "stdout",
     "output_type": "stream",
     "text": [
      "No silence remove applied: File 'Pseudochorthippusmontanus_XC752609-dat018-014_edit5.wav' is too short (8.0sec)\n"
     ]
    },
    {
     "name": "stderr",
     "output_type": "stream",
     "text": [
      " 77%|███████▋  | 51/66 [00:04<00:01, 10.75it/s]"
     ]
    },
    {
     "name": "stdout",
     "output_type": "stream",
     "text": [
      "No silence remove applied: File 'Stenobothruslineatus_XC751985-dat017-020_edit2.wav' is too short (8.0sec)\n"
     ]
    },
    {
     "name": "stderr",
     "output_type": "stream",
     "text": [
      " 80%|████████  | 53/66 [00:04<00:01, 10.54it/s]"
     ]
    },
    {
     "name": "stdout",
     "output_type": "stream",
     "text": [
      "No silence remove applied: File 'Stenobothrusstigmaticus_XC751549-dat014-004_edit1.wav' is too short (8.0sec)\n"
     ]
    },
    {
     "name": "stderr",
     "output_type": "stream",
     "text": [
      " 83%|████████▎ | 55/66 [00:04<00:00, 11.88it/s]"
     ]
    },
    {
     "name": "stdout",
     "output_type": "stream",
     "text": [
      "No silence remove applied: File 'Tettigoniaviridissima_20170629_201050.M.wav' is too short (6.712426303854875sec)\n",
      "No silence remove applied: File 'Tylopsislilifolia_XC751311-dat066-015_edit5.wav' is too short (2.0sec)\n"
     ]
    },
    {
     "name": "stderr",
     "output_type": "stream",
     "text": [
      " 86%|████████▋ | 57/66 [00:04<00:00, 13.40it/s]"
     ]
    },
    {
     "name": "stdout",
     "output_type": "stream",
     "text": [
      "No silence remove applied: File 'Yoyettacelis_GBIF2988310143_IN64993041_149099.wav' is too short (2.9sec)\n"
     ]
    },
    {
     "name": "stderr",
     "output_type": "stream",
     "text": [
      "100%|██████████| 66/66 [00:12<00:00,  5.39it/s]\n"
     ]
    }
   ],
   "source": [
    "workersNewVal.run_main()"
   ]
  },
  {
   "cell_type": "code",
   "execution_count": 7,
   "id": "1ba34ad0-06a1-4271-9982-0d5af8ef8582",
   "metadata": {
    "tags": []
   },
   "outputs": [],
   "source": [
    "test = os.path.join(source_dir, 'test/')\n",
    "test_dest_dir = os.path.join(data_processed_base, DATA_TAG, '06_resample_chunk_test_into_non_overlapping_10sec_window/test/')\n",
    "\n",
    "workersResampledChunkedTest = BuzzOriginalSplitDatasetParallel(\n",
    "    test, \n",
    "    test_dest_dir, \n",
    "    metadata_csv=os.path.join(test, 'metadata.csv'),\n",
    "    train_dataset=False,\n",
    "    dp_class_args={        \n",
    "        'window_len': 10,\n",
    "        'window_hop': 10,\n",
    "    },\n",
    "    debug=True\n",
    ")"
   ]
  },
  {
   "cell_type": "code",
   "execution_count": 8,
   "id": "fe23882b-c0bb-4b32-af2c-a5d87834a12e",
   "metadata": {
    "tags": []
   },
   "outputs": [
    {
     "name": "stdout",
     "output_type": "stream",
     "text": [
      "Generating new test files in '/root/data/gdsc_data/data_processed/data_8c86715/06_resample_chunk_test_into_non_overlapping_10sec_window/test/' with splitted data...\n"
     ]
    },
    {
     "name": "stderr",
     "output_type": "stream",
     "text": [
      "100%|██████████| 556/556 [01:14<00:00,  7.51it/s]\n"
     ]
    }
   ],
   "source": [
    "workersResampledChunkedTest.run_main()"
   ]
  }
 ],
 "metadata": {
  "availableInstances": [
   {
    "_defaultOrder": 0,
    "_isFastLaunch": true,
    "category": "General purpose",
    "gpuNum": 0,
    "hideHardwareSpecs": false,
    "memoryGiB": 4,
    "name": "ml.t3.medium",
    "vcpuNum": 2
   },
   {
    "_defaultOrder": 1,
    "_isFastLaunch": false,
    "category": "General purpose",
    "gpuNum": 0,
    "hideHardwareSpecs": false,
    "memoryGiB": 8,
    "name": "ml.t3.large",
    "vcpuNum": 2
   },
   {
    "_defaultOrder": 2,
    "_isFastLaunch": false,
    "category": "General purpose",
    "gpuNum": 0,
    "hideHardwareSpecs": false,
    "memoryGiB": 16,
    "name": "ml.t3.xlarge",
    "vcpuNum": 4
   },
   {
    "_defaultOrder": 3,
    "_isFastLaunch": false,
    "category": "General purpose",
    "gpuNum": 0,
    "hideHardwareSpecs": false,
    "memoryGiB": 32,
    "name": "ml.t3.2xlarge",
    "vcpuNum": 8
   },
   {
    "_defaultOrder": 4,
    "_isFastLaunch": true,
    "category": "General purpose",
    "gpuNum": 0,
    "hideHardwareSpecs": false,
    "memoryGiB": 8,
    "name": "ml.m5.large",
    "vcpuNum": 2
   },
   {
    "_defaultOrder": 5,
    "_isFastLaunch": false,
    "category": "General purpose",
    "gpuNum": 0,
    "hideHardwareSpecs": false,
    "memoryGiB": 16,
    "name": "ml.m5.xlarge",
    "vcpuNum": 4
   },
   {
    "_defaultOrder": 6,
    "_isFastLaunch": false,
    "category": "General purpose",
    "gpuNum": 0,
    "hideHardwareSpecs": false,
    "memoryGiB": 32,
    "name": "ml.m5.2xlarge",
    "vcpuNum": 8
   },
   {
    "_defaultOrder": 7,
    "_isFastLaunch": false,
    "category": "General purpose",
    "gpuNum": 0,
    "hideHardwareSpecs": false,
    "memoryGiB": 64,
    "name": "ml.m5.4xlarge",
    "vcpuNum": 16
   },
   {
    "_defaultOrder": 8,
    "_isFastLaunch": false,
    "category": "General purpose",
    "gpuNum": 0,
    "hideHardwareSpecs": false,
    "memoryGiB": 128,
    "name": "ml.m5.8xlarge",
    "vcpuNum": 32
   },
   {
    "_defaultOrder": 9,
    "_isFastLaunch": false,
    "category": "General purpose",
    "gpuNum": 0,
    "hideHardwareSpecs": false,
    "memoryGiB": 192,
    "name": "ml.m5.12xlarge",
    "vcpuNum": 48
   },
   {
    "_defaultOrder": 10,
    "_isFastLaunch": false,
    "category": "General purpose",
    "gpuNum": 0,
    "hideHardwareSpecs": false,
    "memoryGiB": 256,
    "name": "ml.m5.16xlarge",
    "vcpuNum": 64
   },
   {
    "_defaultOrder": 11,
    "_isFastLaunch": false,
    "category": "General purpose",
    "gpuNum": 0,
    "hideHardwareSpecs": false,
    "memoryGiB": 384,
    "name": "ml.m5.24xlarge",
    "vcpuNum": 96
   },
   {
    "_defaultOrder": 12,
    "_isFastLaunch": false,
    "category": "General purpose",
    "gpuNum": 0,
    "hideHardwareSpecs": false,
    "memoryGiB": 8,
    "name": "ml.m5d.large",
    "vcpuNum": 2
   },
   {
    "_defaultOrder": 13,
    "_isFastLaunch": false,
    "category": "General purpose",
    "gpuNum": 0,
    "hideHardwareSpecs": false,
    "memoryGiB": 16,
    "name": "ml.m5d.xlarge",
    "vcpuNum": 4
   },
   {
    "_defaultOrder": 14,
    "_isFastLaunch": false,
    "category": "General purpose",
    "gpuNum": 0,
    "hideHardwareSpecs": false,
    "memoryGiB": 32,
    "name": "ml.m5d.2xlarge",
    "vcpuNum": 8
   },
   {
    "_defaultOrder": 15,
    "_isFastLaunch": false,
    "category": "General purpose",
    "gpuNum": 0,
    "hideHardwareSpecs": false,
    "memoryGiB": 64,
    "name": "ml.m5d.4xlarge",
    "vcpuNum": 16
   },
   {
    "_defaultOrder": 16,
    "_isFastLaunch": false,
    "category": "General purpose",
    "gpuNum": 0,
    "hideHardwareSpecs": false,
    "memoryGiB": 128,
    "name": "ml.m5d.8xlarge",
    "vcpuNum": 32
   },
   {
    "_defaultOrder": 17,
    "_isFastLaunch": false,
    "category": "General purpose",
    "gpuNum": 0,
    "hideHardwareSpecs": false,
    "memoryGiB": 192,
    "name": "ml.m5d.12xlarge",
    "vcpuNum": 48
   },
   {
    "_defaultOrder": 18,
    "_isFastLaunch": false,
    "category": "General purpose",
    "gpuNum": 0,
    "hideHardwareSpecs": false,
    "memoryGiB": 256,
    "name": "ml.m5d.16xlarge",
    "vcpuNum": 64
   },
   {
    "_defaultOrder": 19,
    "_isFastLaunch": false,
    "category": "General purpose",
    "gpuNum": 0,
    "hideHardwareSpecs": false,
    "memoryGiB": 384,
    "name": "ml.m5d.24xlarge",
    "vcpuNum": 96
   },
   {
    "_defaultOrder": 20,
    "_isFastLaunch": false,
    "category": "General purpose",
    "gpuNum": 0,
    "hideHardwareSpecs": true,
    "memoryGiB": 0,
    "name": "ml.geospatial.interactive",
    "supportedImageNames": [
     "sagemaker-geospatial-v1-0"
    ],
    "vcpuNum": 0
   },
   {
    "_defaultOrder": 21,
    "_isFastLaunch": true,
    "category": "Compute optimized",
    "gpuNum": 0,
    "hideHardwareSpecs": false,
    "memoryGiB": 4,
    "name": "ml.c5.large",
    "vcpuNum": 2
   },
   {
    "_defaultOrder": 22,
    "_isFastLaunch": false,
    "category": "Compute optimized",
    "gpuNum": 0,
    "hideHardwareSpecs": false,
    "memoryGiB": 8,
    "name": "ml.c5.xlarge",
    "vcpuNum": 4
   },
   {
    "_defaultOrder": 23,
    "_isFastLaunch": false,
    "category": "Compute optimized",
    "gpuNum": 0,
    "hideHardwareSpecs": false,
    "memoryGiB": 16,
    "name": "ml.c5.2xlarge",
    "vcpuNum": 8
   },
   {
    "_defaultOrder": 24,
    "_isFastLaunch": false,
    "category": "Compute optimized",
    "gpuNum": 0,
    "hideHardwareSpecs": false,
    "memoryGiB": 32,
    "name": "ml.c5.4xlarge",
    "vcpuNum": 16
   },
   {
    "_defaultOrder": 25,
    "_isFastLaunch": false,
    "category": "Compute optimized",
    "gpuNum": 0,
    "hideHardwareSpecs": false,
    "memoryGiB": 72,
    "name": "ml.c5.9xlarge",
    "vcpuNum": 36
   },
   {
    "_defaultOrder": 26,
    "_isFastLaunch": false,
    "category": "Compute optimized",
    "gpuNum": 0,
    "hideHardwareSpecs": false,
    "memoryGiB": 96,
    "name": "ml.c5.12xlarge",
    "vcpuNum": 48
   },
   {
    "_defaultOrder": 27,
    "_isFastLaunch": false,
    "category": "Compute optimized",
    "gpuNum": 0,
    "hideHardwareSpecs": false,
    "memoryGiB": 144,
    "name": "ml.c5.18xlarge",
    "vcpuNum": 72
   },
   {
    "_defaultOrder": 28,
    "_isFastLaunch": false,
    "category": "Compute optimized",
    "gpuNum": 0,
    "hideHardwareSpecs": false,
    "memoryGiB": 192,
    "name": "ml.c5.24xlarge",
    "vcpuNum": 96
   },
   {
    "_defaultOrder": 29,
    "_isFastLaunch": true,
    "category": "Accelerated computing",
    "gpuNum": 1,
    "hideHardwareSpecs": false,
    "memoryGiB": 16,
    "name": "ml.g4dn.xlarge",
    "vcpuNum": 4
   },
   {
    "_defaultOrder": 30,
    "_isFastLaunch": false,
    "category": "Accelerated computing",
    "gpuNum": 1,
    "hideHardwareSpecs": false,
    "memoryGiB": 32,
    "name": "ml.g4dn.2xlarge",
    "vcpuNum": 8
   },
   {
    "_defaultOrder": 31,
    "_isFastLaunch": false,
    "category": "Accelerated computing",
    "gpuNum": 1,
    "hideHardwareSpecs": false,
    "memoryGiB": 64,
    "name": "ml.g4dn.4xlarge",
    "vcpuNum": 16
   },
   {
    "_defaultOrder": 32,
    "_isFastLaunch": false,
    "category": "Accelerated computing",
    "gpuNum": 1,
    "hideHardwareSpecs": false,
    "memoryGiB": 128,
    "name": "ml.g4dn.8xlarge",
    "vcpuNum": 32
   },
   {
    "_defaultOrder": 33,
    "_isFastLaunch": false,
    "category": "Accelerated computing",
    "gpuNum": 4,
    "hideHardwareSpecs": false,
    "memoryGiB": 192,
    "name": "ml.g4dn.12xlarge",
    "vcpuNum": 48
   },
   {
    "_defaultOrder": 34,
    "_isFastLaunch": false,
    "category": "Accelerated computing",
    "gpuNum": 1,
    "hideHardwareSpecs": false,
    "memoryGiB": 256,
    "name": "ml.g4dn.16xlarge",
    "vcpuNum": 64
   },
   {
    "_defaultOrder": 35,
    "_isFastLaunch": false,
    "category": "Accelerated computing",
    "gpuNum": 1,
    "hideHardwareSpecs": false,
    "memoryGiB": 61,
    "name": "ml.p3.2xlarge",
    "vcpuNum": 8
   },
   {
    "_defaultOrder": 36,
    "_isFastLaunch": false,
    "category": "Accelerated computing",
    "gpuNum": 4,
    "hideHardwareSpecs": false,
    "memoryGiB": 244,
    "name": "ml.p3.8xlarge",
    "vcpuNum": 32
   },
   {
    "_defaultOrder": 37,
    "_isFastLaunch": false,
    "category": "Accelerated computing",
    "gpuNum": 8,
    "hideHardwareSpecs": false,
    "memoryGiB": 488,
    "name": "ml.p3.16xlarge",
    "vcpuNum": 64
   },
   {
    "_defaultOrder": 38,
    "_isFastLaunch": false,
    "category": "Accelerated computing",
    "gpuNum": 8,
    "hideHardwareSpecs": false,
    "memoryGiB": 768,
    "name": "ml.p3dn.24xlarge",
    "vcpuNum": 96
   },
   {
    "_defaultOrder": 39,
    "_isFastLaunch": false,
    "category": "Memory Optimized",
    "gpuNum": 0,
    "hideHardwareSpecs": false,
    "memoryGiB": 16,
    "name": "ml.r5.large",
    "vcpuNum": 2
   },
   {
    "_defaultOrder": 40,
    "_isFastLaunch": false,
    "category": "Memory Optimized",
    "gpuNum": 0,
    "hideHardwareSpecs": false,
    "memoryGiB": 32,
    "name": "ml.r5.xlarge",
    "vcpuNum": 4
   },
   {
    "_defaultOrder": 41,
    "_isFastLaunch": false,
    "category": "Memory Optimized",
    "gpuNum": 0,
    "hideHardwareSpecs": false,
    "memoryGiB": 64,
    "name": "ml.r5.2xlarge",
    "vcpuNum": 8
   },
   {
    "_defaultOrder": 42,
    "_isFastLaunch": false,
    "category": "Memory Optimized",
    "gpuNum": 0,
    "hideHardwareSpecs": false,
    "memoryGiB": 128,
    "name": "ml.r5.4xlarge",
    "vcpuNum": 16
   },
   {
    "_defaultOrder": 43,
    "_isFastLaunch": false,
    "category": "Memory Optimized",
    "gpuNum": 0,
    "hideHardwareSpecs": false,
    "memoryGiB": 256,
    "name": "ml.r5.8xlarge",
    "vcpuNum": 32
   },
   {
    "_defaultOrder": 44,
    "_isFastLaunch": false,
    "category": "Memory Optimized",
    "gpuNum": 0,
    "hideHardwareSpecs": false,
    "memoryGiB": 384,
    "name": "ml.r5.12xlarge",
    "vcpuNum": 48
   },
   {
    "_defaultOrder": 45,
    "_isFastLaunch": false,
    "category": "Memory Optimized",
    "gpuNum": 0,
    "hideHardwareSpecs": false,
    "memoryGiB": 512,
    "name": "ml.r5.16xlarge",
    "vcpuNum": 64
   },
   {
    "_defaultOrder": 46,
    "_isFastLaunch": false,
    "category": "Memory Optimized",
    "gpuNum": 0,
    "hideHardwareSpecs": false,
    "memoryGiB": 768,
    "name": "ml.r5.24xlarge",
    "vcpuNum": 96
   },
   {
    "_defaultOrder": 47,
    "_isFastLaunch": false,
    "category": "Accelerated computing",
    "gpuNum": 1,
    "hideHardwareSpecs": false,
    "memoryGiB": 16,
    "name": "ml.g5.xlarge",
    "vcpuNum": 4
   },
   {
    "_defaultOrder": 48,
    "_isFastLaunch": false,
    "category": "Accelerated computing",
    "gpuNum": 1,
    "hideHardwareSpecs": false,
    "memoryGiB": 32,
    "name": "ml.g5.2xlarge",
    "vcpuNum": 8
   },
   {
    "_defaultOrder": 49,
    "_isFastLaunch": false,
    "category": "Accelerated computing",
    "gpuNum": 1,
    "hideHardwareSpecs": false,
    "memoryGiB": 64,
    "name": "ml.g5.4xlarge",
    "vcpuNum": 16
   },
   {
    "_defaultOrder": 50,
    "_isFastLaunch": false,
    "category": "Accelerated computing",
    "gpuNum": 1,
    "hideHardwareSpecs": false,
    "memoryGiB": 128,
    "name": "ml.g5.8xlarge",
    "vcpuNum": 32
   },
   {
    "_defaultOrder": 51,
    "_isFastLaunch": false,
    "category": "Accelerated computing",
    "gpuNum": 1,
    "hideHardwareSpecs": false,
    "memoryGiB": 256,
    "name": "ml.g5.16xlarge",
    "vcpuNum": 64
   },
   {
    "_defaultOrder": 52,
    "_isFastLaunch": false,
    "category": "Accelerated computing",
    "gpuNum": 4,
    "hideHardwareSpecs": false,
    "memoryGiB": 192,
    "name": "ml.g5.12xlarge",
    "vcpuNum": 48
   },
   {
    "_defaultOrder": 53,
    "_isFastLaunch": false,
    "category": "Accelerated computing",
    "gpuNum": 4,
    "hideHardwareSpecs": false,
    "memoryGiB": 384,
    "name": "ml.g5.24xlarge",
    "vcpuNum": 96
   },
   {
    "_defaultOrder": 54,
    "_isFastLaunch": false,
    "category": "Accelerated computing",
    "gpuNum": 8,
    "hideHardwareSpecs": false,
    "memoryGiB": 768,
    "name": "ml.g5.48xlarge",
    "vcpuNum": 192
   },
   {
    "_defaultOrder": 55,
    "_isFastLaunch": false,
    "category": "Accelerated computing",
    "gpuNum": 8,
    "hideHardwareSpecs": false,
    "memoryGiB": 1152,
    "name": "ml.p4d.24xlarge",
    "vcpuNum": 96
   },
   {
    "_defaultOrder": 56,
    "_isFastLaunch": false,
    "category": "Accelerated computing",
    "gpuNum": 8,
    "hideHardwareSpecs": false,
    "memoryGiB": 1152,
    "name": "ml.p4de.24xlarge",
    "vcpuNum": 96
   }
  ],
  "instance_type": "ml.t3.2xlarge",
  "kernelspec": {
   "display_name": "GDSC (custom-gdsc/1)",
   "language": "python",
   "name": "python3__SAGEMAKER_INTERNAL__arn:aws:sagemaker:us-east-1:992955421961:image-version/custom-gdsc/1"
  },
  "language_info": {
   "codemirror_mode": {
    "name": "ipython",
    "version": 3
   },
   "file_extension": ".py",
   "mimetype": "text/x-python",
   "name": "python",
   "nbconvert_exporter": "python",
   "pygments_lexer": "ipython3",
   "version": "3.10.8"
  },
  "lcc_arn": "arn:aws:sagemaker:us-east-1:992955421961:studio-lifecycle-config/clean-trash"
 },
 "nbformat": 4,
 "nbformat_minor": 5
}
